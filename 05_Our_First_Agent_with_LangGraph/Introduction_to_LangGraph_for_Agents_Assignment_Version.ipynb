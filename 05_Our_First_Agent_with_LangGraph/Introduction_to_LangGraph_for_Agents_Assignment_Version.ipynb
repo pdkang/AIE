{
  "cells": [
    {
      "cell_type": "markdown",
      "metadata": {
        "id": "gJXW_DgiSebM"
      },
      "source": [
        "# LangGraph and LangSmith - Agentic RAG Powered by LangChain\n",
        "\n",
        "In the following notebook we'll complete the following tasks:\n",
        "\n",
        "- 🤝 Breakout Room #1:\n",
        "  1. Install required libraries\n",
        "  2. Set Environment Variables\n",
        "  3. Creating our Tool Belt\n",
        "  4. Creating Our State\n",
        "  5. Creating and Compiling A Graph!\n",
        "\n",
        "  - 🤝 Breakout Room #2:\n",
        "  1. Evaluating the LangGraph Application with LangSmith\n",
        "  2. Adding Helpfulness Check and \"Loop\" Limits\n",
        "  3. LangGraph for the \"Patterns\" of GenAI"
      ]
    },
    {
      "cell_type": "markdown",
      "metadata": {
        "id": "djQ3nRAgoF67"
      },
      "source": [
        "# 🤝 Breakout Room #1"
      ]
    },
    {
      "cell_type": "markdown",
      "metadata": {
        "id": "e7pQDUhUnIo8"
      },
      "source": [
        "## Part 1: LangGraph - Building Cyclic Applications with LangChain\n",
        "\n",
        "LangGraph is a tool that leverages LangChain Expression Language to build coordinated multi-actor and stateful applications that includes cyclic behaviour.\n",
        "\n",
        "### Why Cycles?\n",
        "\n",
        "In essence, we can think of a cycle in our graph as a more robust and customizable loop. It allows us to keep our application agent-forward while still giving the powerful functionality of traditional loops.\n",
        "\n",
        "Due to the inclusion of cycles over loops, we can also compose rather complex flows through our graph in a much more readable and natural fashion. Effectively allowing us to recreate application flowcharts in code in an almost 1-to-1 fashion.\n",
        "\n",
        "### Why LangGraph?\n",
        "\n",
        "Beyond the agent-forward approach - we can easily compose and combine traditional \"DAG\" (directed acyclic graph) chains with powerful cyclic behaviour due to the tight integration with LCEL. This means it's a natural extension to LangChain's core offerings!"
      ]
    },
    {
      "cell_type": "markdown",
      "metadata": {
        "id": "3_fLDElOVoop"
      },
      "source": [
        "## Task 1:  Dependencies\n",
        "\n",
        "We'll first install all our required libraries.\n",
        "\n",
        "> NOTE: If you're running this locally - please skip this step."
      ]
    },
    {
      "cell_type": "code",
      "execution_count": 1,
      "metadata": {
        "colab": {
          "base_uri": "https://localhost:8080/"
        },
        "id": "KaVwN269EttM",
        "outputId": "ba50f775-3957-4d88-9a88-43acc6966dda"
      },
      "outputs": [
        {
          "name": "stdout",
          "output_type": "stream",
          "text": [
            "  Preparing metadata (setup.py) ... \u001b[?25l\u001b[?25hdone\n",
            "\u001b[2K   \u001b[90m━━━━━━━━━━━━━━━━━━━━━━━━━━━━━━━━━━━━━━━━\u001b[0m \u001b[32m1.0/1.0 MB\u001b[0m \u001b[31m12.9 MB/s\u001b[0m eta \u001b[36m0:00:00\u001b[0m\n",
            "\u001b[2K   \u001b[90m━━━━━━━━━━━━━━━━━━━━━━━━━━━━━━━━━━━━━━━━\u001b[0m \u001b[32m54.4/54.4 kB\u001b[0m \u001b[31m3.4 MB/s\u001b[0m eta \u001b[36m0:00:00\u001b[0m\n",
            "\u001b[2K   \u001b[90m━━━━━━━━━━━━━━━━━━━━━━━━━━━━━━━━━━━━━━━━\u001b[0m \u001b[32m2.5/2.5 MB\u001b[0m \u001b[31m47.3 MB/s\u001b[0m eta \u001b[36m0:00:00\u001b[0m\n",
            "\u001b[2K   \u001b[90m━━━━━━━━━━━━━━━━━━━━━━━━━━━━━━━━━━━━━━━━\u001b[0m \u001b[32m145.8/145.8 kB\u001b[0m \u001b[31m9.1 MB/s\u001b[0m eta \u001b[36m0:00:00\u001b[0m\n",
            "\u001b[2K   \u001b[90m━━━━━━━━━━━━━━━━━━━━━━━━━━━━━━━━━━━━━━━━\u001b[0m \u001b[32m81.3/81.3 kB\u001b[0m \u001b[31m3.3 MB/s\u001b[0m eta \u001b[36m0:00:00\u001b[0m\n",
            "\u001b[2K   \u001b[90m━━━━━━━━━━━━━━━━━━━━━━━━━━━━━━━━━━━━━━━━\u001b[0m \u001b[32m412.4/412.4 kB\u001b[0m \u001b[31m12.1 MB/s\u001b[0m eta \u001b[36m0:00:00\u001b[0m\n",
            "\u001b[2K   \u001b[90m━━━━━━━━━━━━━━━━━━━━━━━━━━━━━━━━━━━━━━━━\u001b[0m \u001b[32m44.7/44.7 kB\u001b[0m \u001b[31m2.7 MB/s\u001b[0m eta \u001b[36m0:00:00\u001b[0m\n",
            "\u001b[2K   \u001b[90m━━━━━━━━━━━━━━━━━━━━━━━━━━━━━━━━━━━━━━━━\u001b[0m \u001b[32m1.2/1.2 MB\u001b[0m \u001b[31m19.5 MB/s\u001b[0m eta \u001b[36m0:00:00\u001b[0m\n",
            "\u001b[2K   \u001b[90m━━━━━━━━━━━━━━━━━━━━━━━━━━━━━━━━━━━━━━━━\u001b[0m \u001b[32m50.8/50.8 kB\u001b[0m \u001b[31m3.1 MB/s\u001b[0m eta \u001b[36m0:00:00\u001b[0m\n",
            "\u001b[?25h  Building wheel for sgmllib3k (setup.py) ... \u001b[?25l\u001b[?25hdone\n"
          ]
        }
      ],
      "source": [
        "!pip install -qU langchain langchain_openai langchain-community langgraph arxiv"
      ]
    },
    {
      "cell_type": "markdown",
      "metadata": {
        "id": "wujPjGJuoPwg"
      },
      "source": [
        "## Task 2: Environment Variables\n",
        "\n",
        "We'll want to set both our OpenAI API key and our LangSmith environment variables."
      ]
    },
    {
      "cell_type": "code",
      "execution_count": 5,
      "metadata": {
        "colab": {
          "base_uri": "https://localhost:8080/"
        },
        "id": "Jdh8CoVWHRvs",
        "outputId": "3fa78560-393c-4ee5-b871-9886bf0d70f4"
      },
      "outputs": [],
      "source": [
        "import os\n",
        "import getpass\n",
        "\n",
        "os.environ[\"OPENAI_API_KEY\"] = getpass.getpass(\"OpenAI API Key:\")"
      ]
    },
    {
      "cell_type": "markdown",
      "metadata": {
        "id": "BLmneW40276B"
      },
      "source": []
    },
    {
      "cell_type": "code",
      "execution_count": 6,
      "metadata": {
        "colab": {
          "base_uri": "https://localhost:8080/"
        },
        "id": "Jkla2fpx28QK",
        "outputId": "52d7ad22-fcb1-4abe-853b-216c55a12650"
      },
      "outputs": [],
      "source": [
        "os.environ[\"TAVILY_API_KEY\"] = getpass.getpass(\"TAVILY_API_KEY\")"
      ]
    },
    {
      "cell_type": "code",
      "execution_count": 7,
      "metadata": {
        "colab": {
          "base_uri": "https://localhost:8080/"
        },
        "id": "Nv0glIDyHmRt",
        "outputId": "b69df90a-b4e1-4ddb-9de0-882d98b68ab2"
      },
      "outputs": [],
      "source": [
        "from uuid import uuid4\n",
        "\n",
        "os.environ[\"LANGCHAIN_TRACING_V2\"] = \"true\"\n",
        "os.environ[\"LANGCHAIN_PROJECT\"] = f\"AIE5 - LangGraph - {uuid4().hex[0:8]}\"\n",
        "os.environ[\"LANGCHAIN_API_KEY\"] = getpass.getpass(\"LangSmith API Key: \")"
      ]
    },
    {
      "cell_type": "markdown",
      "metadata": {
        "id": "sBRyQmEAVzua"
      },
      "source": [
        "## Task 3: Creating our Tool Belt\n",
        "\n",
        "As is usually the case, we'll want to equip our agent with a toolbelt to help answer questions and add external knowledge.\n",
        "\n",
        "There's a tonne of tools in the [LangChain Community Repo](https://github.com/langchain-ai/langchain/tree/master/libs/community/langchain_community/tools) but we'll stick to a couple just so we can observe the cyclic nature of LangGraph in action!\n",
        "\n",
        "We'll leverage:\n",
        "\n",
        "- [Tavily Search Results](https://github.com/langchain-ai/langchain/blob/master/libs/community/langchain_community/tools/tavily_search/tool.py)\n",
        "- [Arxiv](https://github.com/langchain-ai/langchain/tree/master/libs/community/langchain_community/tools/arxiv)"
      ]
    },
    {
      "cell_type": "markdown",
      "metadata": {
        "id": "2k6n_Dob2F46"
      },
      "source": [
        "####🏗️ Activity #1:\n",
        "\n",
        "Please add the tools to use into our toolbelt.\n",
        "\n",
        "> NOTE: Each tool in our toolbelt should be a method."
      ]
    },
    {
      "cell_type": "code",
      "execution_count": 8,
      "metadata": {
        "id": "lAxaSvlfIeOg"
      },
      "outputs": [],
      "source": [
        "from langchain_community.tools.tavily_search import TavilySearchResults\n",
        "from langchain_community.tools.arxiv.tool import ArxivQueryRun\n",
        "\n",
        "tavily_tool = TavilySearchResults(max_results=5)\n",
        "\n",
        "tool_belt = [\n",
        "    tavily_tool,\n",
        "    ArxivQueryRun(),\n",
        "]"
      ]
    },
    {
      "cell_type": "markdown",
      "metadata": {
        "id": "VI-C669ZYVI5"
      },
      "source": [
        "### Model\n",
        "\n",
        "Now we can set-up our model! We'll leverage the familiar OpenAI model suite for this example - but it's not *necessary* to use with LangGraph. LangGraph supports all models - though you might not find success with smaller models - as such, they recommend you stick with:\n",
        "\n",
        "- OpenAI's GPT-3.5 and GPT-4\n",
        "- Anthropic's Claude\n",
        "- Google's Gemini\n",
        "\n",
        "> NOTE: Because we're leveraging the OpenAI function calling API - we'll need to use OpenAI *for this specific example* (or any other service that exposes an OpenAI-style function calling API."
      ]
    },
    {
      "cell_type": "code",
      "execution_count": 9,
      "metadata": {
        "id": "QkNS8rNZJs4z"
      },
      "outputs": [],
      "source": [
        "from langchain_openai import ChatOpenAI\n",
        "\n",
        "model = ChatOpenAI(model=\"gpt-4o\", temperature=0)"
      ]
    },
    {
      "cell_type": "markdown",
      "metadata": {
        "id": "Ugkj3GzuZpQv"
      },
      "source": [
        "Now that we have our model set-up, let's \"put on the tool belt\", which is to say: We'll bind our LangChain formatted tools to the model in an OpenAI function calling format."
      ]
    },
    {
      "cell_type": "code",
      "execution_count": 10,
      "metadata": {
        "id": "4OdMqFafZ_0V"
      },
      "outputs": [],
      "source": [
        "model = model.bind_tools(tool_belt)"
      ]
    },
    {
      "cell_type": "markdown",
      "metadata": {
        "id": "ERzuGo6W18Lr"
      },
      "source": [
        "#### ❓ Question #1:\n",
        "\n",
        "How does the model determine which tool to use?\n",
        "\n",
        "$\\color{blue}{\\textsf{[Answer]}}$\n",
        "1. The tools get converted into OpenAI function schemas automatically:\n",
        "2. When you make a query, GPT-4 will:\n",
        "\n",
        "    - Analyze the query content <br>\n",
        "    - Review the available function descriptions <br>\n",
        "    - Choose the most appropriate function based on the query's needs <br>\n",
        "    - Call the selected function with appropriate parameters <br>\n",
        "\n"
      ]
    },
    {
      "cell_type": "markdown",
      "metadata": {
        "id": "_296Ub96Z_H8"
      },
      "source": [
        "## Task 4: Putting the State in Stateful\n",
        "\n",
        "Earlier we used this phrasing:\n",
        "\n",
        "`coordinated multi-actor and stateful applications`\n",
        "\n",
        "So what does that \"stateful\" mean?\n",
        "\n",
        "To put it simply - we want to have some kind of object which we can pass around our application that holds information about what the current situation (state) is. Since our system will be constructed of many parts moving in a coordinated fashion - we want to be able to ensure we have some commonly understood idea of that state.\n",
        "\n",
        "LangGraph leverages a `StatefulGraph` which uses an `AgentState` object to pass information between the various nodes of the graph.\n",
        "\n",
        "There are more options than what we'll see below - but this `AgentState` object is one that is stored in a `TypedDict` with the key `messages` and the value is a `Sequence` of `BaseMessages` that will be appended to whenever the state changes.\n",
        "\n",
        "Let's think about a simple example to help understand exactly what this means (we'll simplify a great deal to try and clearly communicate what state is doing):\n",
        "\n",
        "1. We initialize our state object:\n",
        "  - `{\"messages\" : []}`\n",
        "2. Our user submits a query to our application.\n",
        "  - New State: `HumanMessage(#1)`\n",
        "  - `{\"messages\" : [HumanMessage(#1)}`\n",
        "3. We pass our state object to an Agent node which is able to read the current state. It will use the last `HumanMessage` as input. It gets some kind of output which it will add to the state.\n",
        "  - New State: `AgentMessage(#1, additional_kwargs {\"function_call\" : \"WebSearchTool\"})`\n",
        "  - `{\"messages\" : [HumanMessage(#1), AgentMessage(#1, ...)]}`\n",
        "4. We pass our state object to a \"conditional node\" (more on this later) which reads the last state to determine if we need to use a tool - which it can determine properly because of our provided object!"
      ]
    },
    {
      "cell_type": "code",
      "execution_count": 11,
      "metadata": {
        "id": "mxL9b_NZKUdL"
      },
      "outputs": [],
      "source": [
        "from typing import TypedDict, Annotated\n",
        "from langgraph.graph.message import add_messages\n",
        "import operator\n",
        "from langchain_core.messages import BaseMessage\n",
        "\n",
        "class AgentState(TypedDict):\n",
        "  messages: Annotated[list, add_messages]"
      ]
    },
    {
      "cell_type": "markdown",
      "metadata": {
        "id": "vWsMhfO9grLu"
      },
      "source": [
        "## Task 5: It's Graphing Time!\n",
        "\n",
        "Now that we have state, and we have tools, and we have an LLM - we can finally start making our graph!\n",
        "\n",
        "Let's take a second to refresh ourselves about what a graph is in this context.\n",
        "\n",
        "Graphs, also called networks in some circles, are a collection of connected objects.\n",
        "\n",
        "The objects in question are typically called nodes, or vertices, and the connections are called edges.\n",
        "\n",
        "Let's look at a simple graph.\n",
        "\n",
        "![image](https://i.imgur.com/2NFLnIc.png)\n",
        "\n",
        "Here, we're using the coloured circles to represent the nodes and the yellow lines to represent the edges. In this case, we're looking at a fully connected graph - where each node is connected by an edge to each other node.\n",
        "\n",
        "If we were to think about nodes in the context of LangGraph - we would think of a function, or an LCEL runnable.\n",
        "\n",
        "If we were to think about edges in the context of LangGraph - we might think of them as \"paths to take\" or \"where to pass our state object next\".\n",
        "\n",
        "Let's create some nodes and expand on our diagram.\n",
        "\n",
        "> NOTE: Due to the tight integration with LCEL - we can comfortably create our nodes in an async fashion!"
      ]
    },
    {
      "cell_type": "code",
      "execution_count": 12,
      "metadata": {
        "id": "91flJWtZLUrl"
      },
      "outputs": [],
      "source": [
        "from langgraph.prebuilt import ToolNode\n",
        "\n",
        "def call_model(state):\n",
        "  messages = state[\"messages\"]\n",
        "  response = model.invoke(messages)\n",
        "  return {\"messages\" : [response]}\n",
        "\n",
        "tool_node = ToolNode(tool_belt)"
      ]
    },
    {
      "cell_type": "markdown",
      "metadata": {
        "id": "2bwR7MgWj3Wg"
      },
      "source": [
        "Now we have two total nodes. We have:\n",
        "\n",
        "- `call_model` is a node that will...well...call the model\n",
        "- `tool_node` is a node which can call a tool\n",
        "\n",
        "Let's start adding nodes! We'll update our diagram along the way to keep track of what this looks like!\n"
      ]
    },
    {
      "cell_type": "code",
      "execution_count": 13,
      "metadata": {
        "colab": {
          "base_uri": "https://localhost:8080/"
        },
        "id": "_vF4_lgtmQNo",
        "outputId": "a4384377-8f7a-415f-be1b-fee6169cb101"
      },
      "outputs": [
        {
          "data": {
            "text/plain": [
              "<langgraph.graph.state.StateGraph at 0x72cad2488980>"
            ]
          },
          "execution_count": 13,
          "metadata": {},
          "output_type": "execute_result"
        }
      ],
      "source": [
        "from langgraph.graph import StateGraph, END\n",
        "\n",
        "uncompiled_graph = StateGraph(AgentState)\n",
        "\n",
        "uncompiled_graph.add_node(\"agent\", call_model)\n",
        "uncompiled_graph.add_node(\"action\", tool_node)"
      ]
    },
    {
      "cell_type": "markdown",
      "metadata": {
        "id": "b8CjRlbVmRpW"
      },
      "source": [
        "Let's look at what we have so far:\n",
        "\n",
        "![image](https://i.imgur.com/md7inqG.png)"
      ]
    },
    {
      "cell_type": "markdown",
      "metadata": {
        "id": "uaXHpPeSnOWC"
      },
      "source": [
        "Next, we'll add our entrypoint. All our entrypoint does is indicate which node is called first."
      ]
    },
    {
      "cell_type": "code",
      "execution_count": 14,
      "metadata": {
        "colab": {
          "base_uri": "https://localhost:8080/"
        },
        "id": "YGCbaYqRnmiw",
        "outputId": "5351807c-2ac7-4316-a3a3-878abeacd114"
      },
      "outputs": [
        {
          "data": {
            "text/plain": [
              "<langgraph.graph.state.StateGraph at 0x72cad2488980>"
            ]
          },
          "execution_count": 14,
          "metadata": {},
          "output_type": "execute_result"
        }
      ],
      "source": [
        "uncompiled_graph.set_entry_point(\"agent\")"
      ]
    },
    {
      "cell_type": "markdown",
      "metadata": {
        "id": "BUsfGoSpoF9U"
      },
      "source": [
        "![image](https://i.imgur.com/wNixpJe.png)"
      ]
    },
    {
      "cell_type": "markdown",
      "metadata": {
        "id": "0Q_pQgHmoW0M"
      },
      "source": [
        "Now we want to build a \"conditional edge\" which will use the output state of a node to determine which path to follow.\n",
        "\n",
        "We can help conceptualize this by thinking of our conditional edge as a conditional in a flowchart!\n",
        "\n",
        "Notice how our function simply checks if there is a \"function_call\" kwarg present.\n",
        "\n",
        "Then we create an edge where the origin node is our agent node and our destination node is *either* the action node or the END (finish the graph).\n",
        "\n",
        "It's important to highlight that the dictionary passed in as the third parameter (the mapping) should be created with the possible outputs of our conditional function in mind. In this case `should_continue` outputs either `\"end\"` or `\"continue\"` which are subsequently mapped to the action node or the END node."
      ]
    },
    {
      "cell_type": "code",
      "execution_count": 15,
      "metadata": {
        "colab": {
          "base_uri": "https://localhost:8080/"
        },
        "id": "1BZgb81VQf9o",
        "outputId": "73a07c15-5f0b-40f2-b033-38b57d056dd8"
      },
      "outputs": [
        {
          "data": {
            "text/plain": [
              "<langgraph.graph.state.StateGraph at 0x72cad2488980>"
            ]
          },
          "execution_count": 15,
          "metadata": {},
          "output_type": "execute_result"
        }
      ],
      "source": [
        "def should_continue(state):\n",
        "  last_message = state[\"messages\"][-1]\n",
        "\n",
        "  if last_message.tool_calls:\n",
        "    return \"action\"\n",
        "\n",
        "  return END\n",
        "\n",
        "uncompiled_graph.add_conditional_edges(\n",
        "    \"agent\",\n",
        "    should_continue\n",
        ")"
      ]
    },
    {
      "cell_type": "markdown",
      "metadata": {
        "id": "-Cvhcf4jp0Ce"
      },
      "source": [
        "Let's visualize what this looks like.\n",
        "\n",
        "![image](https://i.imgur.com/8ZNwKI5.png)"
      ]
    },
    {
      "cell_type": "markdown",
      "metadata": {
        "id": "yKCjWJCkrJb9"
      },
      "source": [
        "Finally, we can add our last edge which will connect our action node to our agent node. This is because we *always* want our action node (which is used to call our tools) to return its output to our agent!"
      ]
    },
    {
      "cell_type": "code",
      "execution_count": 16,
      "metadata": {
        "colab": {
          "base_uri": "https://localhost:8080/"
        },
        "id": "UvcgbHf1rIXZ",
        "outputId": "45d4bdd6-d6bb-4a1d-bb79-cad43c130bf2"
      },
      "outputs": [
        {
          "data": {
            "text/plain": [
              "<langgraph.graph.state.StateGraph at 0x72cad2488980>"
            ]
          },
          "execution_count": 16,
          "metadata": {},
          "output_type": "execute_result"
        }
      ],
      "source": [
        "uncompiled_graph.add_edge(\"action\", \"agent\")"
      ]
    },
    {
      "cell_type": "markdown",
      "metadata": {
        "id": "EiWDwBQtrw7Z"
      },
      "source": [
        "Let's look at the final visualization.\n",
        "\n",
        "![image](https://i.imgur.com/NWO7usO.png)"
      ]
    },
    {
      "cell_type": "markdown",
      "metadata": {
        "id": "KYqDpErlsCsu"
      },
      "source": [
        "All that's left to do now is to compile our workflow - and we're off!"
      ]
    },
    {
      "cell_type": "code",
      "execution_count": 17,
      "metadata": {
        "id": "zt9-KS8DpzNx"
      },
      "outputs": [],
      "source": [
        "compiled_graph = uncompiled_graph.compile()"
      ]
    },
    {
      "cell_type": "markdown",
      "metadata": {
        "id": "xhNWIwBL1W4Q"
      },
      "source": [
        "#### ❓ Question #2:\n",
        "\n",
        "Is there any specific limit to how many times we can cycle?\n",
        "\n",
        "If not, how could we impose a limit to the number of cycles?\n",
        "\n",
        "$\\color{blue}{\\textsf{[Answer]}}$\n",
        "\n",
        "In LangGraph, there isn't a built-in limit to the number of cycles, but there are several ways to implement cycle limits:\n",
        "\n",
        "1. LangGraph allows you to use state variables. You can add a counter to the state and check it before continuing the cycle.\n",
        "2. Alternative: Using a Condition in the Graph Execution\n"
      ]
    },
    {
      "cell_type": "markdown",
      "metadata": {
        "id": "VEYcTShCsPaa"
      },
      "source": [
        "## Using Our Graph\n",
        "\n",
        "Now that we've created and compiled our graph - we can call it *just as we'd call any other* `Runnable`!\n",
        "\n",
        "Let's try out a few examples to see how it fairs:"
      ]
    },
    {
      "cell_type": "code",
      "execution_count": 18,
      "metadata": {
        "colab": {
          "base_uri": "https://localhost:8080/"
        },
        "id": "Qn4n37PQRPII",
        "outputId": "5eeedfae-089d-496e-e71f-071939fa5832"
      },
      "outputs": [
        {
          "name": "stdout",
          "output_type": "stream",
          "text": [
            "Receiving update from node: 'agent'\n",
            "[AIMessage(content='', additional_kwargs={'tool_calls': [{'id': 'call_mh0kKUd3mjm74W9xgREQzntp', 'function': {'arguments': '{\"query\":\"current captain of the Winnipeg Jets 2023\"}', 'name': 'tavily_search_results_json'}, 'type': 'function'}], 'refusal': None}, response_metadata={'token_usage': {'completion_tokens': 27, 'prompt_tokens': 162, 'total_tokens': 189, 'completion_tokens_details': {'accepted_prediction_tokens': 0, 'audio_tokens': 0, 'reasoning_tokens': 0, 'rejected_prediction_tokens': 0}, 'prompt_tokens_details': {'audio_tokens': 0, 'cached_tokens': 0}}, 'model_name': 'gpt-4o-2024-08-06', 'system_fingerprint': 'fp_50cad350e4', 'finish_reason': 'tool_calls', 'logprobs': None}, id='run-6ac5cd4c-0117-4197-b570-45e02631652a-0', tool_calls=[{'name': 'tavily_search_results_json', 'args': {'query': 'current captain of the Winnipeg Jets 2023'}, 'id': 'call_mh0kKUd3mjm74W9xgREQzntp', 'type': 'tool_call'}], usage_metadata={'input_tokens': 162, 'output_tokens': 27, 'total_tokens': 189, 'input_token_details': {'audio': 0, 'cache_read': 0}, 'output_token_details': {'audio': 0, 'reasoning': 0}})]\n",
            "\n",
            "\n",
            "\n",
            "Receiving update from node: 'action'\n",
            "[ToolMessage(content='[{\"url\": \"https://thehockeynews.com/nhl/winnipeg-jets/news/jets-name-adam-lowry-as-team-captain\", \"content\": \"Jets Name Adam Lowry as Team Captain - The Hockey News Winnipeg Jets News, Analysis and More My Account Subscriptions Jets Name Adam Lowry as Team Captain The Winnipeg Jets will have a captain for the 2023-24 season. After going captain-less in 2022-23, the Winnipeg Jets unveiled Adam Lowry as the club\\'s new captain on Tuesday morning. Having stripped Wheeler of the \\'C\\' upon joining the Jets last season, head coach Rick Bowness rolled with three alternates in 2022-23, as Lowry, Josh Morrissey and Mark Scheifele each served in leadership roles with the club. Although it will be his first time serving as a team captain since his final year with the Swift Current Broncos in 2012-13, Lowry won\\'t need to look far for leadership examples.\"}, {\"url\": \"https://www.nytimes.com/athletic/4855976/2023/09/12/adam-lowry-jets-captain/\", \"content\": \"Jets name Adam Lowry as captain ahead of 2023-24 season: Why Winnipeg chose him - The Athletic Jets name Adam Lowry as captain ahead of 2023-24 season: Why Winnipeg chose him The team gave forward Adam Lowry the honor Tuesday, making him the third captain in franchise history since the Jets moved from Atlanta. Lowry did exactly that, stitched an “A” on his sweater for the first time in 2022-23, and is now captain of the Winnipeg Jets. Morrissey would have been a worthy choice as captain and is more of an impact player at his position than Lowry is. Lowry served as an assistant captain for the first time last season with Morrissey and Scheifele.\"}, {\"url\": \"https://www.tsn.ca/nhl/winnipeg-jets-name-adam-lowry-captain-1.2006649\", \"content\": \"Winnipeg Jets name Adam Lowry captain | TSN TSN+ TSN+ TSN+ What is TSN+ Jets name Lowry captain ahead of his 10th season with team ![Image 70: Adam Lowry Winnipeg Jets](https://www.tsn.ca/content/dam/tsn/en/home/images/2023/4/22/adam-lowry-1-1950014-1682371533274.jpeg)Adam Lowry - Getty Images WINNIPEG — The pride in Adam Lowry\\'s voice was evident after being named captain of the Winnipeg Jets on Tuesday. “Now the organization is being led by someone that was a true Winnipeg Jet from day one,” said Jets general manager Kevin Cheveldayoff, who drafted the forward in 2011. \\\\\"We believe the time is right for Adam Lowry to assume this role and set the standard for the way the Winnipeg Jets will move forward with new leadership and new purpose.”\"}, {\"url\": \"https://globalnews.ca/news/9954570/winnipeg-jets-adam-lowry-captain/\", \"content\": \"Lowry, 30, becomes the third captain in Jets 2.0 history, following in the footsteps of Andrew Ladd, who announced his retirement from hockey on Sunday, and Blake Wheeler.\"}, {\"url\": \"https://www.cbc.ca/news/canada/manitoba/adam-lowry-captain-winnipeg-jets-1.6963881\", \"content\": \"Adam Lowry named new captain of Winnipeg Jets | CBC News About CBC News Adam Lowry named new captain of Winnipeg Jets | CBC News Loaded Adam Lowry named new captain of Winnipeg Jets The Winnipeg Jets have a new leader, one year after stripping the C from Blake Wheeler and deciding to play without a captain. Adam Lowry, seen celebrating a goal against the Los Angeles Kings last season, has been named the new captain for the Winnipeg Jets. Adam Lowry,\\xa0who has been a Jet\\xa0since 2011\\xa0when he was drafted 67th\\xa0overall, is the new captain of the NHL team\\xa0— its third since relocating to Winnipeg from Atlanta in 2011. About CBC\"}]', name='tavily_search_results_json', id='df9a6d93-a077-41a4-9ff6-74b893e1b34f', tool_call_id='call_mh0kKUd3mjm74W9xgREQzntp', artifact={'query': 'current captain of the Winnipeg Jets 2023', 'follow_up_questions': None, 'answer': None, 'images': [], 'results': [{'title': 'Jets Name Adam Lowry as Team Captain - The Hockey News', 'url': 'https://thehockeynews.com/nhl/winnipeg-jets/news/jets-name-adam-lowry-as-team-captain', 'content': \"Jets Name Adam Lowry as Team Captain - The Hockey News Winnipeg Jets News, Analysis and More My Account Subscriptions Jets Name Adam Lowry as Team Captain The Winnipeg Jets will have a captain for the 2023-24 season. After going captain-less in 2022-23, the Winnipeg Jets unveiled Adam Lowry as the club's new captain on Tuesday morning. Having stripped Wheeler of the 'C' upon joining the Jets last season, head coach Rick Bowness rolled with three alternates in 2022-23, as Lowry, Josh Morrissey and Mark Scheifele each served in leadership roles with the club. Although it will be his first time serving as a team captain since his final year with the Swift Current Broncos in 2012-13, Lowry won't need to look far for leadership examples.\", 'score': 0.9227683, 'raw_content': None}, {'title': 'Jets name Adam Lowry as captain ahead of 2023-24 season: Why Winnipeg ...', 'url': 'https://www.nytimes.com/athletic/4855976/2023/09/12/adam-lowry-jets-captain/', 'content': 'Jets name Adam Lowry as captain ahead of 2023-24 season: Why Winnipeg chose him - The Athletic Jets name Adam Lowry as captain ahead of 2023-24 season: Why Winnipeg chose him The team gave forward Adam Lowry the honor Tuesday, making him the third captain in franchise history since the Jets moved from Atlanta. Lowry did exactly that, stitched an “A” on his sweater for the first time in 2022-23, and is now captain of the Winnipeg Jets. Morrissey would have been a worthy choice as captain and is more of an impact player at his position than Lowry is. Lowry served as an assistant captain for the first time last season with Morrissey and Scheifele.', 'score': 0.8991304, 'raw_content': None}, {'title': 'Winnipeg Jets name Adam Lowry captain | TSN', 'url': 'https://www.tsn.ca/nhl/winnipeg-jets-name-adam-lowry-captain-1.2006649', 'content': 'Winnipeg Jets name Adam Lowry captain | TSN TSN+ TSN+ TSN+ What is TSN+ Jets name Lowry captain ahead of his 10th season with team ![Image 70: Adam Lowry Winnipeg Jets](https://www.tsn.ca/content/dam/tsn/en/home/images/2023/4/22/adam-lowry-1-1950014-1682371533274.jpeg)Adam Lowry - Getty Images WINNIPEG — The pride in Adam Lowry\\'s voice was evident after being named captain of the Winnipeg Jets on Tuesday. “Now the organization is being led by someone that was a true Winnipeg Jet from day one,” said Jets general manager Kevin Cheveldayoff, who drafted the forward in 2011. \"We believe the time is right for Adam Lowry to assume this role and set the standard for the way the Winnipeg Jets will move forward with new leadership and new purpose.”', 'score': 0.8682137, 'raw_content': None}, {'title': 'Winnipeg Jets announce Adam Lowry as new captain', 'url': 'https://globalnews.ca/news/9954570/winnipeg-jets-adam-lowry-captain/', 'content': 'Lowry, 30, becomes the third captain in Jets 2.0 history, following in the footsteps of Andrew Ladd, who announced his retirement from hockey on Sunday, and Blake Wheeler.', 'score': 0.7769112, 'raw_content': None}, {'title': 'Adam Lowry named new captain of Winnipeg Jets | CBC News', 'url': 'https://www.cbc.ca/news/canada/manitoba/adam-lowry-captain-winnipeg-jets-1.6963881', 'content': 'Adam Lowry named new captain of Winnipeg Jets | CBC News About CBC News Adam Lowry named new captain of Winnipeg Jets | CBC News Loaded Adam Lowry named new captain of Winnipeg Jets The Winnipeg Jets have a new leader, one year after stripping the C from Blake Wheeler and deciding to play without a captain. Adam Lowry, seen celebrating a goal against the Los Angeles Kings last season, has been named the new captain for the Winnipeg Jets. Adam Lowry,\\xa0who has been a Jet\\xa0since 2011\\xa0when he was drafted 67th\\xa0overall, is the new captain of the NHL team\\xa0— its third since relocating to Winnipeg from Atlanta in 2011. About CBC', 'score': 0.74363416, 'raw_content': None}], 'response_time': 1.43})]\n",
            "\n",
            "\n",
            "\n",
            "Receiving update from node: 'agent'\n",
            "[AIMessage(content='The current captain of the Winnipeg Jets is Adam Lowry. He was named the captain for the 2023-24 season.', additional_kwargs={'refusal': None}, response_metadata={'token_usage': {'completion_tokens': 28, 'prompt_tokens': 1086, 'total_tokens': 1114, 'completion_tokens_details': {'accepted_prediction_tokens': 0, 'audio_tokens': 0, 'reasoning_tokens': 0, 'rejected_prediction_tokens': 0}, 'prompt_tokens_details': {'audio_tokens': 0, 'cached_tokens': 0}}, 'model_name': 'gpt-4o-2024-08-06', 'system_fingerprint': 'fp_50cad350e4', 'finish_reason': 'stop', 'logprobs': None}, id='run-ead3cc2d-0cfb-473a-9457-3992cc45b734-0', usage_metadata={'input_tokens': 1086, 'output_tokens': 28, 'total_tokens': 1114, 'input_token_details': {'audio': 0, 'cache_read': 0}, 'output_token_details': {'audio': 0, 'reasoning': 0}})]\n",
            "\n",
            "\n",
            "\n"
          ]
        },
        {
          "name": "stderr",
          "output_type": "stream",
          "text": [
            "Failed to send compressed multipart ingest: langsmith.utils.LangSmithError: Failed to POST https://api.smith.langchain.com/runs/multipart in LangSmith API. HTTPError('400 Client Error: Bad Request for url: https://api.smith.langchain.com/runs/multipart', '{\"detail\":\"Session end time 2025-01-30 08:33:08.449675+00:00 is before run start time 2025-01-30 08:33:09.178466\"}')\n"
          ]
        }
      ],
      "source": [
        "from langchain_core.messages import HumanMessage\n",
        "\n",
        "inputs = {\"messages\" : [HumanMessage(content=\"Who is the current captain of the Winnipeg Jets?\")]}\n",
        "\n",
        "async for chunk in compiled_graph.astream(inputs, stream_mode=\"updates\"):\n",
        "    for node, values in chunk.items():\n",
        "        print(f\"Receiving update from node: '{node}'\")\n",
        "        print(values[\"messages\"])\n",
        "        print(\"\\n\\n\")"
      ]
    },
    {
      "cell_type": "markdown",
      "metadata": {
        "id": "DBHnUtLSscRr"
      },
      "source": [
        "Let's look at what happened:\n",
        "\n",
        "1. Our state object was populated with our request\n",
        "2. The state object was passed into our entry point (agent node) and the agent node added an `AIMessage` to the state object and passed it along the conditional edge\n",
        "3. The conditional edge received the state object, found the \"tool_calls\" `additional_kwarg`, and sent the state object to the action node\n",
        "4. The action node added the response from the OpenAI function calling endpoint to the state object and passed it along the edge to the agent node\n",
        "5. The agent node added a response to the state object and passed it along the conditional edge\n",
        "6. The conditional edge received the state object, could not find the \"tool_calls\" `additional_kwarg` and passed the state object to END where we see it output in the cell above!\n",
        "\n",
        "Now let's look at an example that shows a multiple tool usage - all with the same flow!"
      ]
    },
    {
      "cell_type": "code",
      "execution_count": 19,
      "metadata": {
        "colab": {
          "base_uri": "https://localhost:8080/"
        },
        "id": "afv2BuEsV5JG",
        "outputId": "ff009536-d281-4a56-c126-9cd245352bfe"
      },
      "outputs": [
        {
          "name": "stdout",
          "output_type": "stream",
          "text": [
            "Receiving update from node: 'agent'\n",
            "[AIMessage(content='', additional_kwargs={'tool_calls': [{'id': 'call_0aZDSg738b6NKFqcpLpgPDpu', 'function': {'arguments': '{\"query\":\"QLoRA\"}', 'name': 'arxiv'}, 'type': 'function'}], 'refusal': None}, response_metadata={'token_usage': {'completion_tokens': 17, 'prompt_tokens': 178, 'total_tokens': 195, 'completion_tokens_details': {'accepted_prediction_tokens': 0, 'audio_tokens': 0, 'reasoning_tokens': 0, 'rejected_prediction_tokens': 0}, 'prompt_tokens_details': {'audio_tokens': 0, 'cached_tokens': 0}}, 'model_name': 'gpt-4o-2024-08-06', 'system_fingerprint': 'fp_50cad350e4', 'finish_reason': 'tool_calls', 'logprobs': None}, id='run-8f12ebc6-34db-4dda-9d36-148567da7142-0', tool_calls=[{'name': 'arxiv', 'args': {'query': 'QLoRA'}, 'id': 'call_0aZDSg738b6NKFqcpLpgPDpu', 'type': 'tool_call'}], usage_metadata={'input_tokens': 178, 'output_tokens': 17, 'total_tokens': 195, 'input_token_details': {'audio': 0, 'cache_read': 0}, 'output_token_details': {'audio': 0, 'reasoning': 0}})]\n",
            "\n",
            "\n",
            "\n",
            "Receiving update from node: 'action'\n",
            "Tool Used: arxiv\n",
            "[ToolMessage(content='Published: 2023-05-23\\nTitle: QLoRA: Efficient Finetuning of Quantized LLMs\\nAuthors: Tim Dettmers, Artidoro Pagnoni, Ari Holtzman, Luke Zettlemoyer\\nSummary: We present QLoRA, an efficient finetuning approach that reduces memory usage\\nenough to finetune a 65B parameter model on a single 48GB GPU while preserving\\nfull 16-bit finetuning task performance. QLoRA backpropagates gradients through\\na frozen, 4-bit quantized pretrained language model into Low Rank\\nAdapters~(LoRA). Our best model family, which we name Guanaco, outperforms all\\nprevious openly released models on the Vicuna benchmark, reaching 99.3% of the\\nperformance level of ChatGPT while only requiring 24 hours of finetuning on a\\nsingle GPU. QLoRA introduces a number of innovations to save memory without\\nsacrificing performance: (a) 4-bit NormalFloat (NF4), a new data type that is\\ninformation theoretically optimal for normally distributed weights (b) double\\nquantization to reduce the average memory footprint by quantizing the\\nquantization constants, and (c) paged optimziers to manage memory spikes. We\\nuse QLoRA to finetune more than 1,000 models, providing a detailed analysis of\\ninstruction following and chatbot performance across 8 instruction datasets,\\nmultiple model types (LLaMA, T5), and model scales that would be infeasible to\\nrun with regular finetuning (e.g. 33B and 65B parameter models). Our results\\nshow that QLoRA finetuning on a small high-quality dataset leads to\\nstate-of-the-art results, even when using smaller models than the previous\\nSoTA. We provide a detailed analysis of chatbot performance based on both human\\nand GPT-4 evaluations showing that GPT-4 evaluations are a cheap and reasonable\\nalternative to human evaluation. Furthermore, we find that current chatbot\\nbenchmarks are not trustworthy to accurately evaluate the performance levels of\\nchatbots. A lemon-picked analysis demonstrates where Guanaco fails compared to\\nChatGPT. We release all of our models and code, including CUDA kernels for\\n4-bit training.\\n\\nPublished: 2024-05-27\\nTitle: Accurate LoRA-Finetuning Quantization of LLMs via Information Retention\\nAuthors: Haotong Qin, Xudong Ma, Xingyu Zheng, Xiaoyang Li, Yang Zhang, Shouda Liu, Jie Luo, Xianglong Liu, Michele Magno\\nSummary: The LoRA-finetuning quantization of LLMs has been extensively studied to\\nobtain accurate yet compact LLMs for deployment on resource-constrained\\nhardware. However, existing methods cause the quantized LLM to severely degrade\\nand even fail to benefit from the finetuning of LoRA. This paper proposes a\\nnovel IR-QLoRA for pushing quantized LLMs with LoRA to be highly accurate\\nthrough information retention. The proposed IR-QLoRA mainly relies on two\\ntechnologies derived from the perspective of unified information: (1)\\nstatistics-based Information Calibration Quantization allows the quantized\\nparameters of LLM to retain original information accurately; (2)\\nfinetuning-based Information Elastic Connection makes LoRA utilizes elastic\\nrepresentation transformation with diverse information. Comprehensive\\nexperiments show that IR-QLoRA can significantly improve accuracy across LLaMA\\nand LLaMA2 families under 2-4 bit-widths, e.g., 4- bit LLaMA-7B achieves 1.4%\\nimprovement on MMLU compared with the state-of-the-art methods. The significant\\nperformance gain requires only a tiny 0.31% additional time consumption,\\nrevealing the satisfactory efficiency of our IR-QLoRA. We highlight that\\nIR-QLoRA enjoys excellent versatility, compatible with various frameworks\\n(e.g., NormalFloat and Integer quantization) and brings general accuracy gains.\\nThe code is available at https://github.com/htqin/ir-qlora.\\n\\nPublished: 2024-06-12\\nTitle: Exploring Fact Memorization and Style Imitation in LLMs Using QLoRA: An Experimental Study and Quality Assessment Methods\\nAuthors: Eugene Vyborov, Oleksiy Osypenko, Serge Sotnyk\\nSummary: There are various methods for adapting LLMs to different domains. The most\\ncommon methods are prompting, finetuning, and RAG. In this w', name='arxiv', id='e7a85c8a-0f1a-4d60-a3fd-cd58d116a9e8', tool_call_id='call_0aZDSg738b6NKFqcpLpgPDpu')]\n",
            "\n",
            "\n",
            "\n",
            "Receiving update from node: 'agent'\n",
            "[AIMessage(content='', additional_kwargs={'tool_calls': [{'id': 'call_24nuBw0bLDzfoyzKuX6XYZcg', 'function': {'arguments': '{\"query\": \"Tim Dettmers latest Tweet\"}', 'name': 'tavily_search_results_json'}, 'type': 'function'}, {'id': 'call_MacECHcW3MYrDG6bex6QgVMA', 'function': {'arguments': '{\"query\": \"Artidoro Pagnoni latest Tweet\"}', 'name': 'tavily_search_results_json'}, 'type': 'function'}, {'id': 'call_M06Y43VdrZrFbpc9j2ZfYX1K', 'function': {'arguments': '{\"query\": \"Ari Holtzman latest Tweet\"}', 'name': 'tavily_search_results_json'}, 'type': 'function'}, {'id': 'call_xExU9OneaAihmlNKsRTfFoyF', 'function': {'arguments': '{\"query\": \"Luke Zettlemoyer latest Tweet\"}', 'name': 'tavily_search_results_json'}, 'type': 'function'}], 'refusal': None}, response_metadata={'token_usage': {'completion_tokens': 113, 'prompt_tokens': 1157, 'total_tokens': 1270, 'completion_tokens_details': {'accepted_prediction_tokens': 0, 'audio_tokens': 0, 'reasoning_tokens': 0, 'rejected_prediction_tokens': 0}, 'prompt_tokens_details': {'audio_tokens': 0, 'cached_tokens': 0}}, 'model_name': 'gpt-4o-2024-08-06', 'system_fingerprint': 'fp_50cad350e4', 'finish_reason': 'tool_calls', 'logprobs': None}, id='run-d6ae9e8c-d19d-47ce-b87a-0cec106fd395-0', tool_calls=[{'name': 'tavily_search_results_json', 'args': {'query': 'Tim Dettmers latest Tweet'}, 'id': 'call_24nuBw0bLDzfoyzKuX6XYZcg', 'type': 'tool_call'}, {'name': 'tavily_search_results_json', 'args': {'query': 'Artidoro Pagnoni latest Tweet'}, 'id': 'call_MacECHcW3MYrDG6bex6QgVMA', 'type': 'tool_call'}, {'name': 'tavily_search_results_json', 'args': {'query': 'Ari Holtzman latest Tweet'}, 'id': 'call_M06Y43VdrZrFbpc9j2ZfYX1K', 'type': 'tool_call'}, {'name': 'tavily_search_results_json', 'args': {'query': 'Luke Zettlemoyer latest Tweet'}, 'id': 'call_xExU9OneaAihmlNKsRTfFoyF', 'type': 'tool_call'}], usage_metadata={'input_tokens': 1157, 'output_tokens': 113, 'total_tokens': 1270, 'input_token_details': {'audio': 0, 'cache_read': 0}, 'output_token_details': {'audio': 0, 'reasoning': 0}})]\n",
            "\n",
            "\n",
            "\n",
            "Receiving update from node: 'action'\n",
            "Tool Used: tavily_search_results_json\n",
            "[ToolMessage(content='[{\"url\": \"https://threadreaderapp.com/user/Tim_Dettmers\", \"content\": \"Unroll Thread You can paste full URL like: https://x.com/threadreaderapp/status/1644127596119195649 https://twitter.com/Tim_Dettmers/status/1661379354507476994 Colab: colab.research.google.com/drive/17XEqL1J…  Want to see how good Guanaco 65B is? Our work on loss spikes and stable 8-bit CLIP training is the largest Int8 training to date (1B). We release LLM.int8(), the first 8-bit inference method that saves 2x memory and does not degrade performance for 175B models by exploiting emergent properties. Emergence: timdettmers.com/2022/08/17/llm…  LLM.int8() works by using: (1) the high-precision vectors-wise quantization technique and (2) mixed precision decomposition. We release the public beta for bnb-int8🟪 for all @huggingface 🤗models, which allows for Int8 inference without performance degradation up to scales of 176B params 📈. Video:  8-bit optimizers are mostly useful to finetune large models that did not fit into memory before.\"}, {\"url\": \"https://twitter.com/Tim_Dettmers/highlights\", \"content\": \"After 7 months on the job market, I am happy to announce: - I joined @allen_ai - Professor at @CarnegieMellon from Fall 2025 - New bitsandbytes maintainer\"}, {\"url\": \"https://twitter.com/tim_dettmers\", \"content\": \"What?! DeepSeek-R1-Lite-Preview \\\\\"o1-preview-level performance on AIME & MATH benchmarks\\\\\" What is happening this week? Didnt see that coming, holy moly. x.com/\"}, {\"url\": \"https://x.com/tim_dettmers?lang=en\", \"content\": \"Creator of bitsandbytes.Research Scientist @allen_ai and incoming professor @CarnegieMellon. I blog about deep learning and PhD life at http://timdettmers.com.\"}, {\"url\": \"https://developer.nvidia.com/blog/author/tdettmers/\", \"content\": \"He runs a blog about deep learning and takes part in Kaggle data science competitions where he has reached a world rank of 63. Follow @Tim_Dettmers on Twitter\"}]', name='tavily_search_results_json', id='fae0754f-d837-4d5e-b99a-dfd263559f6c', tool_call_id='call_24nuBw0bLDzfoyzKuX6XYZcg', artifact={'query': 'Tim Dettmers latest Tweet', 'follow_up_questions': None, 'answer': None, 'images': [], 'results': [{'url': 'https://threadreaderapp.com/user/Tim_Dettmers', 'title': \"Tim Dettmers's Threads – Thread Reader App\", 'content': 'Unroll Thread You can paste full URL like: https://x.com/threadreaderapp/status/1644127596119195649 https://twitter.com/Tim_Dettmers/status/1661379354507476994 Colab: colab.research.google.com/drive/17XEqL1J…  Want to see how good Guanaco 65B is? Our work on loss spikes and stable 8-bit CLIP training is the largest Int8 training to date (1B). We release LLM.int8(), the first 8-bit inference method that saves 2x memory and does not degrade performance for 175B models by exploiting emergent properties. Emergence: timdettmers.com/2022/08/17/llm…  LLM.int8() works by using: (1) the high-precision vectors-wise quantization technique and (2) mixed precision decomposition. We release the public beta for bnb-int8🟪 for all @huggingface 🤗models, which allows for Int8 inference without performance degradation up to scales of 176B params 📈. Video:  8-bit optimizers are mostly useful to finetune large models that did not fit into memory before.', 'score': 0.71758664, 'raw_content': None}, {'url': 'https://twitter.com/Tim_Dettmers/highlights', 'title': 'Highlights by Tim Dettmers (@Tim_Dettmers) / X', 'content': 'After 7 months on the job market, I am happy to announce: - I joined @allen_ai - Professor at @CarnegieMellon from Fall 2025 - New bitsandbytes maintainer', 'score': 0.6765563, 'raw_content': None}, {'url': 'https://twitter.com/tim_dettmers', 'title': 'Tim Dettmers (@Tim_Dettmers) / X', 'content': 'What?! DeepSeek-R1-Lite-Preview \"o1-preview-level performance on AIME & MATH benchmarks\" What is happening this week? Didnt see that coming, holy moly. x.com/', 'score': 0.6180666, 'raw_content': None}, {'url': 'https://x.com/tim_dettmers?lang=en', 'title': 'Tim Dettmers (@Tim_Dettmers) / X', 'content': 'Creator of bitsandbytes.Research Scientist @allen_ai and incoming professor @CarnegieMellon. I blog about deep learning and PhD life at http://timdettmers.com.', 'score': 0.5971152, 'raw_content': None}, {'url': 'https://developer.nvidia.com/blog/author/tdettmers/', 'title': 'Author: Tim Dettmers | NVIDIA Technical Blog', 'content': 'He runs a blog about deep learning and takes part in Kaggle data science competitions where he has reached a world rank of 63. Follow @Tim_Dettmers on Twitter', 'score': 0.51325434, 'raw_content': None}], 'response_time': 2.98}), ToolMessage(content='[{\"url\": \"https://x.com/ansongni?lang=en\", \"content\": \"Artidoro Pagnoni · @ArtidoroPagnoni. ·. Dec 13, 2024. Introducing the Byte Latent Transformer (BLT) – An LLM architecture that scales better\"}, {\"url\": \"https://twitter.com/ArtidoroPagnoni/highlights\", \"content\": \"Artidoro Pagnoni\\'s Highlights ... Introducing the Byte Latent Transformer (BLT) – An LLM architecture that scales better than Llama 3 using byte-patches instead\"}, {\"url\": \"https://x.com/artidoropagnoni?lang=en\", \"content\": \"Today we\\'re announcing the recipients of our LLM Evaluation research grants. These four projects will each receive $200K in grant funding from Meta to further\"}, {\"url\": \"https://twitter.com/apagnonipagnoni?lang=ms\", \"content\": \"Don\\'t let climate change deniers derail progress in the global effort to #ActOnClimate: http://ofa.bo/e5FW. Imej. 204. 565. 1K. Artidoro Pagnoni menyiarkan\"}, {\"url\": \"https://www.threads.net/@sung.kim.mw/post/DDiJwXzTuM3\", \"content\": \"Most talked about paper in AI community today is from Meta, which is not posted on their platform as usual, but here is the Bluesky link. Byte Latent Transformer (BLT) – A LLM architecture that scales better than Llama 3 using patches instead of tokens https://bsky.app/profile/artidoro.bsky.social/post/3ld7apw6ju22y Thread Most talked about paper in AI community today is from Meta, which is not posted on their platform as usual, but here is the Bluesky link.Byte Latent Transformer (BLT) – A LLM architecture that scales better than Llama 3 using patches instead of tokensbsky.app/profi… I remember reading Elon Musk was really high level in games which would have taken hundreds of hours of grinding to get there. Privacy Policy\"}]', name='tavily_search_results_json', id='ec263aa1-bc09-4e8f-ad86-e634ae2861eb', tool_call_id='call_MacECHcW3MYrDG6bex6QgVMA', artifact={'query': 'Artidoro Pagnoni latest Tweet', 'follow_up_questions': None, 'answer': None, 'images': [], 'results': [{'url': 'https://x.com/ansongni?lang=en', 'title': 'Ansong Ni (@AnsongNi) / X', 'content': 'Artidoro Pagnoni · @ArtidoroPagnoni. ·. Dec 13, 2024. Introducing the Byte Latent Transformer (BLT) – An LLM architecture that scales better', 'score': 0.77137923, 'raw_content': None}, {'url': 'https://twitter.com/ArtidoroPagnoni/highlights', 'title': 'Highlights by Artidoro Pagnoni (@ArtidoroPagnoni) / X', 'content': \"Artidoro Pagnoni's Highlights ... Introducing the Byte Latent Transformer (BLT) – An LLM architecture that scales better than Llama 3 using byte-patches instead\", 'score': 0.6651719, 'raw_content': None}, {'url': 'https://x.com/artidoropagnoni?lang=en', 'title': 'Artidoro Pagnoni (@ArtidoroPagnoni) / X', 'content': \"Today we're announcing the recipients of our LLM Evaluation research grants. These four projects will each receive $200K in grant funding from Meta to further\", 'score': 0.65914243, 'raw_content': None}, {'url': 'https://twitter.com/apagnonipagnoni?lang=ms', 'title': 'Artidoro Pagnoni (@ApagnoniPagnoni) / X', 'content': \"Don't let climate change deniers derail progress in the global effort to #ActOnClimate: http://ofa.bo/e5FW. Imej. 204. 565. 1K. Artidoro Pagnoni menyiarkan\", 'score': 0.6279746, 'raw_content': None}, {'url': 'https://www.threads.net/@sung.kim.mw/post/DDiJwXzTuM3', 'title': 'Most talked about paper in AI community today is from Meta, which ...', 'content': 'Most talked about paper in AI community today is from Meta, which is not posted on their platform as usual, but here is the Bluesky link. Byte Latent Transformer (BLT) – A LLM architecture that scales better than Llama 3 using patches instead of tokens https://bsky.app/profile/artidoro.bsky.social/post/3ld7apw6ju22y Thread Most talked about paper in AI community today is from Meta, which is not posted on their platform as usual, but here is the Bluesky link.Byte Latent Transformer (BLT) – A LLM architecture that scales better than Llama 3 using patches instead of tokensbsky.app/profi… I remember reading Elon Musk was really high level in games which would have taken hundreds of hours of grinding to get there. Privacy Policy', 'score': 0.33154216, 'raw_content': None}], 'response_time': 4.24}), ToolMessage(content='[{\"url\": \"https://x.com/universeinanegg?lang=en\", \"content\": \"·. Jan 26. New goal: publish enough in every genre I care to so that I can ask any new LLM released to help me write \\'in the style of Ari Holtzman\\'. 1.\"}, {\"url\": \"https://twitter.com/universeinanegg/status/1821229923605873003\", \"content\": \"Some sad news: My father died unexpectedly a bit over a week ago. We were close. Apologies for my delayed response times,\"}, {\"url\": \"https://ci.cs.uchicago.edu/\", \"content\": \"Among the most interesting activities carried out by humans is the act of communication, cooperation, and collaboration with one another. The UChicago Communication & Intelligence (C&I) group is dedicated to understanding these mysterious new machines and their behaviors and to studying new types of interactions that can facilitate humans and AI models to communicate, cooperate, and collaborate with each other. Currently, we’re a team of three human PIs—Ari Holtzman, Mina Lee, and Chenhao Tan. We are passionate about topics such as Understanding the landscape of human-human, human-machine, and machine-machine communication Characterizing, theorizing, and building AI models that generate human-interpretable media such as texts and images Studying the effect, potential, and hazards of information ecosystems consisting of humans and AI models.\"}, {\"url\": \"https://x.com/universeinanegg/status/1874683146928894263\", \"content\": \"Ari Holtzman · @universeinanegg. Felix\\'s papers, little blog posts, and tweets were a window into someone actually, actually try to make sense\"}, {\"url\": \"https://twitter.com/universeinanegg/status/1841857161699205138\", \"content\": \"“What\\'s the best way to console someone who\\'s had a bad day? A fascinating new paper by Holly Howe and colleagues suggests that giving a small\"}]', name='tavily_search_results_json', id='be03eab9-8b11-4e85-90f5-99c409aa627d', tool_call_id='call_M06Y43VdrZrFbpc9j2ZfYX1K', artifact={'query': 'Ari Holtzman latest Tweet', 'follow_up_questions': None, 'answer': None, 'images': [], 'results': [{'url': 'https://x.com/universeinanegg?lang=en', 'title': 'Ari Holtzman (@universeinanegg) / X', 'content': \"·. Jan 26. New goal: publish enough in every genre I care to so that I can ask any new LLM released to help me write 'in the style of Ari Holtzman'. 1.\", 'score': 0.7171114, 'raw_content': None}, {'url': 'https://twitter.com/universeinanegg/status/1821229923605873003', 'title': 'Ari Holtzman on X: \"Some sad news: My father died unexpectedly a ...', 'content': 'Some sad news: My father died unexpectedly a bit over a week ago. We were close. Apologies for my delayed response times,', 'score': 0.48630774, 'raw_content': None}, {'url': 'https://ci.cs.uchicago.edu/', 'title': 'UChicago C&I', 'content': 'Among the most interesting activities carried out by humans is the act of communication, cooperation, and collaboration with one another. The UChicago Communication & Intelligence (C&I) group is dedicated to understanding these mysterious new machines and their behaviors and to studying new types of interactions that can facilitate humans and AI models to communicate, cooperate, and collaborate with each other. Currently, we’re a team of three human PIs—Ari Holtzman, Mina Lee, and Chenhao Tan. We are passionate about topics such as Understanding the landscape of human-human, human-machine, and machine-machine communication Characterizing, theorizing, and building AI models that generate human-interpretable media such as texts and images Studying the effect, potential, and hazards of information ecosystems consisting of humans and AI models.', 'score': 0.33528608, 'raw_content': None}, {'url': 'https://x.com/universeinanegg/status/1874683146928894263', 'title': 'Ari Holtzman - X', 'content': \"Ari Holtzman · @universeinanegg. Felix's papers, little blog posts, and tweets were a window into someone actually, actually try to make sense\", 'score': 0.33024487, 'raw_content': None}, {'url': 'https://twitter.com/universeinanegg/status/1841857161699205138', 'title': 'Ari Holtzman on X: \"This is so obvious in retrospect (at least from ...', 'content': \"“What's the best way to console someone who's had a bad day? A fascinating new paper by Holly Howe and colleagues suggests that giving a small\", 'score': 0.32469612, 'raw_content': None}], 'response_time': 2.79}), ToolMessage(content='[{\"url\": \"https://x.com/lukezettlemoyer?lang=en\", \"content\": \"Excited to share that the 4th Knowledge-Augmented NLP workshop will be held at NAACL-25. Stay tuned! Quote.\"}, {\"url\": \"https://twitter.com/lukezettlemoyer/status/1003662931479941120\", \"content\": \"Come see Julian Michael presenting his work in question answer meaning representations, now at @NAACLHLT ! Image. 3:41 PM · Jun 4, 2018.\"}, {\"url\": \"https://www.linkedin.com/posts/leylinepro_luke-zettlemoyer-activity-7244364962268119040-jSxU\", \"content\": \"Adam is currently a Postdoctoral Research Scientist at Columbia University in the Causal Artificial Intelligence Lab. Learn about his path through open source to scikit-learn as well as his current research: https://lnkd.in/e_Q7DXiz AI Chatbots Have Thoroughly Infiltrated Scientific Publishing One percent of scientific articles published in 2023 showed signs of generative AI’s potential involvement, according to a recent analysis BY CHRIS STOKEL-WALKE Amanda Montañez; Source: Andrew Gray Researchers are misusing ChatGPT and other artificial intelligence chatbots to produce scientific literature. . UTCS, UT Computer Science, UT Austin, Computer Science Research, Machine Learning Research, AI Research, Alumni, Graduate Program\"}, {\"url\": \"https://twimlai.com/podcast/twimlai/guest/luke-zettlemoyer/\", \"content\": \"Luke Zettlemoyer | The TWIML AI Podcast Skip to content Podcast Podcast Luke Zettlemoyer Professor, Research Manager University of Washington, Meta Connect with Luke Luke Zettlemoyer is a Professor in the Paul G. Allen School of Computer Science & Engineering at the University of Washington, and a Research Manager at Meta. Luke received his PhD from MIT and was a postdoc at the University of Edinburgh. Podcast Episodes © 2025 CloudPulse Strategies All rights reserved About TWIML Our Policies Privacy Policy Media Policy Popular Content Podcast Episodes Podcast Series Podcast Topics About TWIML Our Policies Privacy Policy Media Policy Popular Content Podcast Episodes Podcast Series Podcast Topics © 2021 CloudPulse Strategies / All rights reserved\"}, {\"url\": \"https://linguistics.washington.edu/people/luke-zettlemoyer\", \"content\": \"Luke Zettlemoyer | Department of Linguistics | University of Washington Main menu Department of Linguistics Graduate Students Graduate Students Alumni News Programs & Courses Programs & Courses B.A. in Linguistics Minor in Linguistics Linguistic Society at UW M.S. in Computational Linguistics Ph.D. in Linguistics Courses Courses Research Resources UW Working Papers in Linguistics Labs & Groups Labs & Groups Computational Linguistics Linguistics Fieldwork Lab Linguistic Bias Working Group Linguistics Society at the UW Treehouse Meetings (Computational Linguistics) Lab & Group Events Share News with Us Resources Resources Financial Resources and Approvals UW Resources Non-UW Resources For Faculty & Staff For Faculty & Staff Conference Room Calendar Resources & Related Links Computer Science and Engineering Support Linguistics Department of Linguistics\"}]', name='tavily_search_results_json', id='6892ad75-c522-42bc-af11-81f59921dc89', tool_call_id='call_xExU9OneaAihmlNKsRTfFoyF', artifact={'query': 'Luke Zettlemoyer latest Tweet', 'follow_up_questions': None, 'answer': None, 'images': [], 'results': [{'url': 'https://x.com/lukezettlemoyer?lang=en', 'title': 'Luke Zettlemoyer (@LukeZettlemoyer) / X', 'content': 'Excited to share that the 4th Knowledge-Augmented NLP workshop will be held at NAACL-25. Stay tuned! Quote.', 'score': 0.66777676, 'raw_content': None}, {'url': 'https://twitter.com/lukezettlemoyer/status/1003662931479941120', 'title': 'Luke Zettlemoyer on X: \"Come see Julian Michael presenting his ...', 'content': 'Come see Julian Michael presenting his work in question answer meaning representations, now at @NAACLHLT ! Image. 3:41 PM · Jun 4, 2018.', 'score': 0.6205532, 'raw_content': None}, {'url': 'https://www.linkedin.com/posts/leylinepro_luke-zettlemoyer-activity-7244364962268119040-jSxU', 'title': 'LeyLine on LinkedIn: Luke Zettlemoyer', 'content': 'Adam is currently a Postdoctoral Research Scientist at Columbia University in the Causal Artificial Intelligence Lab. Learn about his path through open source to scikit-learn as well as his current research: https://lnkd.in/e_Q7DXiz AI Chatbots Have Thoroughly Infiltrated Scientific Publishing One percent of scientific articles published in 2023 showed signs of generative AI’s potential involvement, according to a recent analysis BY CHRIS STOKEL-WALKE Amanda Montañez; Source: Andrew Gray Researchers are misusing ChatGPT and other artificial intelligence chatbots to produce scientific literature. . UTCS, UT Computer Science, UT Austin, Computer Science Research, Machine Learning Research, AI Research, Alumni, Graduate Program', 'score': 0.39131343, 'raw_content': None}, {'url': 'https://twimlai.com/podcast/twimlai/guest/luke-zettlemoyer/', 'title': 'Luke Zettlemoyer | The TWIML AI Podcast', 'content': 'Luke Zettlemoyer | The TWIML AI Podcast Skip to content Podcast Podcast Luke Zettlemoyer Professor, Research Manager University of Washington, Meta Connect with Luke Luke Zettlemoyer is a Professor in the Paul G. Allen School of Computer Science & Engineering at the University of Washington, and a Research Manager at Meta. Luke received his PhD from MIT and was a postdoc at the University of Edinburgh. Podcast Episodes © 2025 CloudPulse Strategies All rights reserved About TWIML Our Policies Privacy Policy Media Policy Popular Content Podcast Episodes Podcast Series Podcast Topics About TWIML Our Policies Privacy Policy Media Policy Popular Content Podcast Episodes Podcast Series Podcast Topics © 2021 CloudPulse Strategies / All rights reserved', 'score': 0.24547864, 'raw_content': None}, {'url': 'https://linguistics.washington.edu/people/luke-zettlemoyer', 'title': 'Luke Zettlemoyer - UW Linguistics Department', 'content': 'Luke Zettlemoyer | Department of Linguistics | University of Washington Main menu Department of Linguistics Graduate Students Graduate Students Alumni News Programs & Courses Programs & Courses B.A. in Linguistics Minor in Linguistics Linguistic Society at UW M.S. in Computational Linguistics Ph.D. in Linguistics Courses Courses Research Resources UW Working Papers in Linguistics Labs & Groups Labs & Groups Computational Linguistics Linguistics Fieldwork Lab Linguistic Bias Working Group Linguistics Society at the UW Treehouse Meetings (Computational Linguistics) Lab & Group Events Share News with Us Resources Resources Financial Resources and Approvals UW Resources Non-UW Resources For Faculty & Staff For Faculty & Staff Conference Room Calendar Resources & Related Links Computer Science and Engineering Support Linguistics Department of Linguistics', 'score': 0.14541878, 'raw_content': None}], 'response_time': 3.21})]\n",
            "\n",
            "\n",
            "\n",
            "Receiving update from node: 'agent'\n",
            "[AIMessage(content='Here are the latest tweets or related content from the authors of the QLoRA paper:\\n\\n1. **Tim Dettmers**:\\n   - [Tim Dettmers on Twitter](https://twitter.com/tim_dettmers): \"What?! DeepSeek-R1-Lite-Preview \\'o1-preview-level performance on AIME & MATH benchmarks\\' What is happening this week? Didn\\'t see that coming, holy moly.\"\\n   - [Tim Dettmers Highlights](https://twitter.com/Tim_Dettmers/highlights): \"After 7 months on the job market, I am happy to announce: - I joined @allen_ai - Professor at @CarnegieMellon from Fall 2025 - New bitsandbytes maintainer.\"\\n\\n2. **Artidoro Pagnoni**:\\n   - [Artidoro Pagnoni on Twitter](https://x.com/ansongni?lang=en): \"Introducing the Byte Latent Transformer (BLT) – An LLM architecture that scales better.\"\\n   - [Artidoro Pagnoni Highlights](https://twitter.com/ArtidoroPagnoni/highlights): \"Introducing the Byte Latent Transformer (BLT) – An LLM architecture that scales better than Llama 3 using byte-patches instead.\"\\n\\n3. **Ari Holtzman**:\\n   - [Ari Holtzman on Twitter](https://x.com/universeinanegg?lang=en): \"New goal: publish enough in every genre I care to so that I can ask any new LLM released to help me write \\'in the style of Ari Holtzman\\'.\"\\n   - [Ari Holtzman on Twitter](https://twitter.com/universeinanegg/status/1821229923605873003): \"Some sad news: My father died unexpectedly a bit over a week ago. We were close. Apologies for my delayed response times.\"\\n\\n4. **Luke Zettlemoyer**:\\n   - [Luke Zettlemoyer on Twitter](https://x.com/lukezettlemoyer?lang=en): \"Excited to share that the 4th Knowledge-Augmented NLP workshop will be held at NAACL-25. Stay tuned!\"\\n   - [Luke Zettlemoyer on LinkedIn](https://www.linkedin.com/posts/leylinepro_luke-zettlemoyer-activity-7244364962268119040-jSxU): \"Adam is currently a Postdoctoral Research Scientist at Columbia University in the Causal Artificial Intelligence Lab.\"\\n\\nThese links provide a glimpse into their recent activities and announcements.', additional_kwargs={'refusal': None}, response_metadata={'token_usage': {'completion_tokens': 529, 'prompt_tokens': 3394, 'total_tokens': 3923, 'completion_tokens_details': {'accepted_prediction_tokens': 0, 'audio_tokens': 0, 'reasoning_tokens': 0, 'rejected_prediction_tokens': 0}, 'prompt_tokens_details': {'audio_tokens': 0, 'cached_tokens': 0}}, 'model_name': 'gpt-4o-2024-08-06', 'system_fingerprint': 'fp_50cad350e4', 'finish_reason': 'stop', 'logprobs': None}, id='run-b61e15dd-edcb-4cd1-98ce-7d5a249d5bb3-0', usage_metadata={'input_tokens': 3394, 'output_tokens': 529, 'total_tokens': 3923, 'input_token_details': {'audio': 0, 'cache_read': 0}, 'output_token_details': {'audio': 0, 'reasoning': 0}})]\n",
            "\n",
            "\n",
            "\n"
          ]
        }
      ],
      "source": [
        "inputs = {\"messages\" : [HumanMessage(content=\"Search Arxiv for the QLoRA paper, then search each of the authors to find out their latest Tweet using Tavily!\")]}\n",
        "\n",
        "async for chunk in compiled_graph.astream(inputs, stream_mode=\"updates\"):\n",
        "    for node, values in chunk.items():\n",
        "        print(f\"Receiving update from node: '{node}'\")\n",
        "        if node == \"action\":\n",
        "          print(f\"Tool Used: {values['messages'][0].name}\")\n",
        "        print(values[\"messages\"])\n",
        "\n",
        "        print(\"\\n\\n\")"
      ]
    },
    {
      "cell_type": "markdown",
      "metadata": {
        "id": "CXzDlZVz1Hnf"
      },
      "source": [
        "####🏗️ Activity #2:\n",
        "\n",
        "Please write out the steps the agent took to arrive at the correct answer."
      ]
    },
    {
      "cell_type": "markdown",
      "metadata": {},
      "source": [
        "$\\color{blue}{\\textsf{[Answer]}}$\n",
        "\n",
        "The agent took the following steps:\n",
        "\n",
        "1. Receive the User Query:\n",
        "\n",
        "The agent starts by receiving the complex query: \"Search Arxiv for the QLoRA paper, then search each of the authors to find out their latest Tweet using Tavily!\" This query is added to the agent’s state.\n",
        "\n",
        "2. Initial Model Evaluation:\n",
        "\n",
        "The query is passed to the model, which analyzes it and determines that the provided information isn’t complete. The model’s response indicates that it requires additional data—that is, details about the QLoRA paper and the authors.\n",
        "\n",
        "3. Invoke the Arxiv Search Tool:\n",
        "\n",
        "Recognizing the need for more information, the agent routes the state to the tool node for Arxiv. This node calls the Arxiv search tool to fetch details about the QLoRA paper, including the list of authors.\n",
        "\n",
        "4. Update the State with Arxiv Results:\n",
        "\n",
        "The output from the Arxiv search (paper details and author information) is appended to the state, enriching the context available to the agent.\n",
        "\n",
        "5. Invoke the Tavily Tool for Each Author:\n",
        "\n",
        "Next, the agent identifies that it must gather additional information—specifically, the latest Tweets from each author. The agent therefore routes the updated state to the tool node that handles Tavily searches. Each author’s latest tweet is fetched using this tool.\n",
        "\n",
        "6. Merge Tool Results and Re-evaluate:\n",
        "\n",
        "The responses from the Tavily searches are added to the state alongside the earlier Arxiv results. With an updated state containing all required details (the paper info and recent social media activity), the agent passes the state back to the model.\n",
        "\n",
        "7. Final Answer Synthesis and Termination:\n",
        "\n",
        "The model now synthesizes a comprehensive answer that includes both the QLoRA paper details and each author’s latest tweet. Since the answer contains all the necessary information, no further tool calls are required, and the process terminates, outputting the final answer."
      ]
    },
    {
      "cell_type": "markdown",
      "metadata": {
        "id": "v7c8-Uyarh1v"
      },
      "source": [
        "## Part 1: LangSmith Evaluator"
      ]
    },
    {
      "cell_type": "markdown",
      "metadata": {
        "id": "pV3XeFOT1Sar"
      },
      "source": [
        "### Pre-processing for LangSmith"
      ]
    },
    {
      "cell_type": "markdown",
      "metadata": {
        "id": "wruQCuzewUuO"
      },
      "source": [
        "To do a little bit more preprocessing, let's wrap our LangGraph agent in a simple chain."
      ]
    },
    {
      "cell_type": "code",
      "execution_count": 20,
      "metadata": {
        "id": "oeXdQgbxwhTv"
      },
      "outputs": [],
      "source": [
        "def convert_inputs(input_object):\n",
        "  return {\"messages\" : [HumanMessage(content=input_object[\"question\"])]}\n",
        "\n",
        "def parse_output(input_state):\n",
        "  return input_state[\"messages\"][-1].content\n",
        "\n",
        "agent_chain = convert_inputs | compiled_graph | parse_output"
      ]
    },
    {
      "cell_type": "code",
      "execution_count": 21,
      "metadata": {
        "colab": {
          "base_uri": "https://localhost:8080/",
          "height": 105
        },
        "id": "orYxBZXSxJjZ",
        "outputId": "76be837b-6424-4516-8f63-07fbd8c25bf5"
      },
      "outputs": [
        {
          "data": {
            "text/plain": [
              "\"RAG stands for Retrieval-Augmented Generation. It is a technique used in natural language processing (NLP) that combines retrieval-based methods with generative models to improve the quality and accuracy of generated text. Here's how it works:\\n\\n1. **Retrieval**: In the first step, relevant documents or pieces of information are retrieved from a large corpus or database. This is typically done using a retrieval model that identifies the most relevant documents based on the input query.\\n\\n2. **Augmentation**: The retrieved documents are then used to augment the input query. This means that the information from the retrieved documents is combined with the original query to provide more context and background information.\\n\\n3. **Generation**: Finally, a generative model, such as a transformer-based language model, uses the augmented input to generate a response or piece of text. The additional context from the retrieved documents helps the model produce more accurate and contextually relevant outputs.\\n\\nRAG is particularly useful in scenarios where the model needs to generate responses based on a large and diverse set of information, such as in open-domain question answering or conversational AI. By leveraging both retrieval and generation, RAG can provide more informed and precise answers.\""
            ]
          },
          "execution_count": 21,
          "metadata": {},
          "output_type": "execute_result"
        }
      ],
      "source": [
        "agent_chain.invoke({\"question\" : \"What is RAG?\"})"
      ]
    },
    {
      "cell_type": "markdown",
      "metadata": {
        "id": "f9UkCIqkpyZu"
      },
      "source": [
        "### Task 1: Creating An Evaluation Dataset\n",
        "\n",
        "Just as we saw last week, we'll want to create a dataset to test our Agent's ability to answer questions.\n",
        "\n",
        "In order to do this - we'll want to provide some questions and some answers. Let's look at how we can create such a dataset below.\n",
        "\n",
        "```python\n",
        "questions = [\n",
        "    \"What optimizer is used in QLoRA?\",\n",
        "    \"What data type was created in the QLoRA paper?\",\n",
        "    \"What is a Retrieval Augmented Generation system?\",\n",
        "    \"Who authored the QLoRA paper?\",\n",
        "    \"What is the most popular deep learning framework?\",\n",
        "    \"What significant improvements does the LoRA system make?\"\n",
        "]\n",
        "\n",
        "answers = [\n",
        "    {\"must_mention\" : [\"paged\", \"optimizer\"]},\n",
        "    {\"must_mention\" : [\"NF4\", \"NormalFloat\"]},\n",
        "    {\"must_mention\" : [\"ground\", \"context\"]},\n",
        "    {\"must_mention\" : [\"Tim\", \"Dettmers\"]},\n",
        "    {\"must_mention\" : [\"PyTorch\", \"TensorFlow\"]},\n",
        "    {\"must_mention\" : [\"reduce\", \"parameters\"]},\n",
        "]\n",
        "```"
      ]
    },
    {
      "cell_type": "markdown",
      "metadata": {
        "id": "VfMXF2KAsQxs"
      },
      "source": [
        "####🏗️ Activity #3:\n",
        "\n",
        "Please create a dataset in the above format with at least 5 questions."
      ]
    },
    {
      "cell_type": "code",
      "execution_count": 22,
      "metadata": {
        "id": "CbagRuJop83E"
      },
      "outputs": [],
      "source": [
        "questions = [\n",
        "    \"What is the purpose of quantization in deep learning?\",\n",
        "    \"What are the common numerical formats used in quantization?\",\n",
        "    \"How does post-training quantization (PTQ) differ from quantization-aware training (QAT)?\",\n",
        "    \"What is the impact of quantization on model inference speed and accuracy?\",\n",
        "    \"Which hardware accelerators are optimized for quantized models?\"\n",
        "]\n",
        "\n",
        "answers = [\n",
        "    {\"must_mention\" : [\"reduce\", \"precision\", \"memory\"]},\n",
        "    {\"must_mention\" : [\"int8\", \"fp16\", \"bf16\"]},\n",
        "    {\"must_mention\" : [\"training\", \"pre-trained\", \"simulation\"]},\n",
        "    {\"must_mention\" : [\"latency\", \"trade-off\", \"accuracy\"]},\n",
        "    {\"must_mention\" : [\"TPU\", \"GPU\", \"Edge\"]},\n",
        "]"
      ]
    },
    {
      "cell_type": "markdown",
      "metadata": {
        "id": "z7QVFuAmsh7L"
      },
      "source": [
        "Now we can add our dataset to our LangSmith project using the following code which we saw last Thursday!"
      ]
    },
    {
      "cell_type": "code",
      "execution_count": 23,
      "metadata": {
        "id": "RLfrZrgSsn85"
      },
      "outputs": [],
      "source": [
        "from langsmith import Client\n",
        "\n",
        "client = Client()\n",
        "\n",
        "dataset_name = f\"Retrieval Augmented Generation - Evaluation Dataset - {uuid4().hex[0:8]}\"\n",
        "\n",
        "dataset = client.create_dataset(\n",
        "    dataset_name=dataset_name,\n",
        "    description=\"Questions about the quantization Paper to Evaluate RAG over the same paper.\"\n",
        ")\n",
        "\n",
        "client.create_examples(\n",
        "    inputs=[{\"question\" : q} for q in questions],\n",
        "    outputs=answers,\n",
        "    dataset_id=dataset.id,\n",
        ")"
      ]
    },
    {
      "cell_type": "markdown",
      "metadata": {
        "id": "ciV73F9Q04w0"
      },
      "source": [
        "#### ❓ Question #3:\n",
        "\n",
        "How are the correct answers associated with the questions?\n",
        "\n",
        "$\\color{blue}{\\textsf{[Answer]}}$\n",
        "\n",
        "The correct answers are associated with the questions based on key concepts that must be mentioned in the response. Each question has an expected answer containing specific keywords that indicate correctness.\n",
        "\n",
        "> NOTE: Feel free to indicate if this is problematic or not\n",
        "Potential Issues\n",
        "\n",
        "1. False Positives & False Negatives\n",
        "\n",
        "    - A response may contain all required words but still be incorrect or poorly structured.\n",
        "    - A correct response may be penalized if it explains the concept well but uses synonyms instead of exact words.\n",
        "\n",
        "2.  Encourages Keyword Stuffing and Does Not Account for Context\n",
        "\n",
        "    - AI models might game the system by inserting keywords randomly without truly understanding the concept.\n",
        "    - The same word can be used incorrectly but still pass the test.\n",
        "\n",
        "3.  Limited Evaluation of Explanation Quality\n",
        "\n",
        "    - Does not assess coherence, depth, or logical flow.\n",
        "    - Two responses with the same keywords can have vastly different levels of clarity.     "
      ]
    },
    {
      "cell_type": "markdown",
      "metadata": {
        "id": "-lRTXUrTtP9Y"
      },
      "source": [
        "### Task 2: Adding Evaluators\n",
        "\n",
        "Now we can add a custom evaluator to see if our responses contain the expected information.\n",
        "\n",
        "We'll be using a fairly naive exact-match process to determine if our response contains specific strings."
      ]
    },
    {
      "cell_type": "code",
      "execution_count": 24,
      "metadata": {
        "id": "QrAUXMFftlAY"
      },
      "outputs": [],
      "source": [
        "from langsmith.evaluation import EvaluationResult, run_evaluator\n",
        "\n",
        "@run_evaluator\n",
        "def must_mention(run, example) -> EvaluationResult:\n",
        "    prediction = run.outputs.get(\"output\") or \"\"\n",
        "    required = example.outputs.get(\"must_mention\") or []\n",
        "    score = all(phrase in prediction for phrase in required)\n",
        "    return EvaluationResult(key=\"must_mention\", score=score)"
      ]
    },
    {
      "cell_type": "markdown",
      "metadata": {
        "id": "PNtHORUh0jZY"
      },
      "source": [
        "#### ❓ Question #4:\n",
        "\n",
        "What are some ways you could improve this metric as-is?\n",
        "\n",
        "> NOTE: Alternatively you can suggest where gaps exist in this method.\n",
        "\n",
        "$\\color{blue}{\\textsf{[Answer]}}$\n",
        "\n",
        "1. Expand Keywords with Synonyms to allow natural variations.\n",
        "2. Use Weighted Keywords (Critical vs. Recommended) for better scoring.\n",
        "3. Ensure Proper Sentence Structure to avoid meaningless keyword stuffing.\n",
        "4. Detect and Penalize Keyword Overuse to prevent gaming the system.\n",
        "5. Validate Context and Sentence Meaning instead of raw word matching.\n",
        "\n"
      ]
    },
    {
      "cell_type": "markdown",
      "metadata": {
        "id": "r1RJr349zhv7"
      },
      "source": [
        "Task 3: Evaluating\n",
        "\n",
        "All that is left to do is evaluate our agent's response!"
      ]
    },
    {
      "cell_type": "code",
      "execution_count": 25,
      "metadata": {
        "colab": {
          "base_uri": "https://localhost:8080/",
          "height": 118,
          "referenced_widgets": [
            "efcf57067cf743d8b4ce059a61cbe02e",
            "53e33aae3b97490c82aec7bbb0d6ebba",
            "ad84e0e971d3455db2efe7dd0d1f803e",
            "72adef9b70dd48198b7322b6c5b113cf",
            "8a61d045ffd44ac58f3f13eb10044836",
            "041e22a9b5514e36bd4d1dac01d5d398",
            "886d762f2a7c421382efb5502c6d42a1",
            "ab91fd625bbd43afbf8c6398193a88d0",
            "716557ad09874dcb989d75f7c74424cd",
            "77d4c0ebaae045b58efc4f789c9a2360",
            "0d622ccc56264fac8fd7508dbdbe6e29"
          ]
        },
        "id": "p5TeCUUkuGld",
        "outputId": "2f7d62a2-e78d-447a-d07b-f9e4d500fb79"
      },
      "outputs": [
        {
          "name": "stdout",
          "output_type": "stream",
          "text": [
            "View the evaluation results for experiment: 'RAG Pipeline - Evaluation - f28e-a69180f7' at:\n",
            "https://smith.langchain.com/o/b2bbbf41-ce3b-46fa-8cc0-7de9bb768aa9/datasets/2f637e76-02ab-4e80-9906-1270ec2a37de/compare?selectedSessions=48920543-1c78-420c-a033-06694b808d95\n",
            "\n",
            "\n"
          ]
        },
        {
          "data": {
            "application/vnd.jupyter.widget-view+json": {
              "model_id": "43e1dfc870214df18930bf29923ee46d",
              "version_major": 2,
              "version_minor": 0
            },
            "text/plain": [
              "0it [00:00, ?it/s]"
            ]
          },
          "metadata": {},
          "output_type": "display_data"
        }
      ],
      "source": [
        "experiment_results = client.evaluate(\n",
        "    agent_chain,\n",
        "    data=dataset_name,\n",
        "    evaluators=[must_mention],\n",
        "    experiment_prefix=f\"RAG Pipeline - Evaluation - {uuid4().hex[0:4]}\",\n",
        "    metadata={\"version\": \"1.0.0\"},\n",
        ")"
      ]
    },
    {
      "cell_type": "code",
      "execution_count": 46,
      "metadata": {
        "colab": {
          "base_uri": "https://localhost:8080/",
          "height": 342
        },
        "id": "eeEqU7s05Byu",
        "outputId": "78395075-a05d-4ebd-c798-ed968b935318"
      },
      "outputs": [
        {
          "data": {
            "text/html": [
              "<ExperimentResults RAG Pipeline - Evaluation - f28e-a69180f7>"
            ],
            "text/plain": [
              "<ExperimentResults RAG Pipeline - Evaluation - f28e-a69180f7>"
            ]
          },
          "execution_count": 46,
          "metadata": {},
          "output_type": "execute_result"
        }
      ],
      "source": [
        "experiment_results"
      ]
    },
    {
      "cell_type": "markdown",
      "metadata": {
        "id": "jhTNe4kWrplB"
      },
      "source": [
        "## Part 2: LangGraph with Helpfulness:"
      ]
    },
    {
      "cell_type": "markdown",
      "metadata": {
        "id": "w1wKRddbIY_S"
      },
      "source": [
        "### Task 3: Adding Helpfulness Check and \"Loop\" Limits\n",
        "\n",
        "Now that we've done evaluation - let's see if we can add an extra step where we review the content we've generated to confirm if it fully answers the user's query!\n",
        "\n",
        "We're going to make a few key adjustments to account for this:\n",
        "\n",
        "1. We're going to add an artificial limit on how many \"loops\" the agent can go through - this will help us to avoid the potential situation where we never exit the loop.\n",
        "2. We'll add to our existing conditional edge to obtain the behaviour we desire."
      ]
    },
    {
      "cell_type": "markdown",
      "metadata": {
        "id": "npTYJ8ayR5B3"
      },
      "source": [
        "First, let's define our state again - we can check the length of the state object, so we don't need additional state for this."
      ]
    },
    {
      "cell_type": "code",
      "execution_count": 43,
      "metadata": {
        "id": "-LQ84YhyJG0w"
      },
      "outputs": [],
      "source": [
        "class AgentState(TypedDict):\n",
        "  messages: Annotated[list, add_messages]"
      ]
    },
    {
      "cell_type": "markdown",
      "metadata": {
        "id": "sD7EV0HqSQcb"
      },
      "source": [
        "Now we can set our graph up! This process will be almost entirely the same - with the inclusion of one additional node/conditional edge!"
      ]
    },
    {
      "cell_type": "markdown",
      "metadata": {
        "id": "oajBwLkFVi1N"
      },
      "source": [
        "####🏗️ Activity #5:\n",
        "\n",
        "Please write markdown for the following cells to explain what each is doing."
      ]
    },
    {
      "cell_type": "markdown",
      "metadata": {
        "id": "M6rN7feNVn9f"
      },
      "source": [
        "##### YOUR MARKDOWN HERE"
      ]
    },
    {
      "cell_type": "markdown",
      "metadata": {},
      "source": [
        "<span style=\"color:green;\">\n",
        "This appears to be setting up a state machine graph for an AI agent where:\n",
        "\n",
        "The graph is initialized to track different states\n",
        "An \"agent\" node is added to handle the core model interactions\n",
        "An \"action\" node is added to manage tool-based operations\n",
        "</span>"
      ]
    },
    {
      "cell_type": "code",
      "execution_count": 45,
      "metadata": {
        "colab": {
          "base_uri": "https://localhost:8080/"
        },
        "id": "6r6XXA5FJbVf",
        "outputId": "ff713041-e498-4f0f-a875-a03502b87729"
      },
      "outputs": [
        {
          "data": {
            "text/plain": [
              "<langgraph.graph.state.StateGraph at 0x72cad24a87d0>"
            ]
          },
          "execution_count": 45,
          "metadata": {},
          "output_type": "execute_result"
        }
      ],
      "source": [
        "graph_with_helpfulness_check = StateGraph(AgentState)\n",
        "\n",
        "graph_with_helpfulness_check.add_node(\"agent\", call_model)\n",
        "graph_with_helpfulness_check.add_node(\"action\", tool_node)"
      ]
    },
    {
      "cell_type": "markdown",
      "metadata": {
        "id": "XZ22o2mWVrfp"
      },
      "source": [
        "##### YOUR MARKDOWN HERE"
      ]
    },
    {
      "cell_type": "markdown",
      "metadata": {},
      "source": [
        "<span style=\"color:green;\">Next, sets the execution starting point of the graph_with_helpfulness_check to the \"agent\" node or component.</span>"
      ]
    },
    {
      "cell_type": "code",
      "execution_count": 27,
      "metadata": {
        "colab": {
          "base_uri": "https://localhost:8080/"
        },
        "id": "HNWHwWxuRiLY",
        "outputId": "295f5a35-ceff-452a-ffb8-c52eada6a816"
      },
      "outputs": [
        {
          "data": {
            "text/plain": [
              "<langgraph.graph.state.StateGraph at 0x7cff65caab50>"
            ]
          },
          "execution_count": 27,
          "metadata": {},
          "output_type": "execute_result"
        }
      ],
      "source": [
        "graph_with_helpfulness_check.set_entry_point(\"agent\")"
      ]
    },
    {
      "cell_type": "markdown",
      "metadata": {
        "id": "rsXeF6xlaXOZ"
      },
      "source": [
        "##### YOUR MARKDOWN HERE"
      ]
    },
    {
      "cell_type": "markdown",
      "metadata": {},
      "source": [
        "<span style=\"color:green;\">\n",
        "Defines a function tool_call_or_helpful(state) that checks whether a tool call was made or if the final response to a query is helpful.\n",
        "\n",
        "<li>It checks if the last message contains a tool call (last_message.tool_calls).\n",
        "<li>If not, it compares the initial and final responses in the message history.\n",
        "<li>If there are more than 10 messages, it returns \"END.\"\n",
        "<li>It constructs a prompt template to assess the helpfulness of the final response using a language model (gpt-4).\n",
        "<li>It then checks the response: if helpful, it returns \"end\"; if not, it returns \"continue.\"\n",
        "</span>"
      ]
    },
    {
      "cell_type": "code",
      "execution_count": 28,
      "metadata": {
        "id": "z_Sq3A9SaV1O"
      },
      "outputs": [],
      "source": [
        "from langchain_core.prompts import PromptTemplate\n",
        "from langchain_core.output_parsers import StrOutputParser\n",
        "\n",
        "def tool_call_or_helpful(state):\n",
        "  last_message = state[\"messages\"][-1]\n",
        "\n",
        "  if last_message.tool_calls:\n",
        "    return \"action\"\n",
        "\n",
        "  initial_query = state[\"messages\"][0]\n",
        "  final_response = state[\"messages\"][-1]\n",
        "\n",
        "  if len(state[\"messages\"]) > 10:\n",
        "    return \"END\"\n",
        "\n",
        "  prompt_template = \"\"\"\\\n",
        "  Given an initial query and a final response, determine if the final response is extremely helpful or not. Please indicate helpfulness with a 'Y' and unhelpfulness as an 'N'.\n",
        "\n",
        "  Initial Query:\n",
        "  {initial_query}\n",
        "\n",
        "  Final Response:\n",
        "  {final_response}\"\"\"\n",
        "\n",
        "  prompt_template = PromptTemplate.from_template(prompt_template)\n",
        "\n",
        "  helpfulness_check_model = ChatOpenAI(model=\"gpt-4\")\n",
        "\n",
        "  helpfulness_chain = prompt_template | helpfulness_check_model | StrOutputParser()\n",
        "\n",
        "  helpfulness_response = helpfulness_chain.invoke({\"initial_query\" : initial_query.content, \"final_response\" : final_response.content})\n",
        "\n",
        "  if \"Y\" in helpfulness_response:\n",
        "    return \"end\"\n",
        "  else:\n",
        "    return \"continue\""
      ]
    },
    {
      "cell_type": "markdown",
      "metadata": {
        "id": "Fz1u9Vf4SHxJ"
      },
      "source": [
        "####🏗️ Activity #4:\n",
        "\n",
        "Please write what is happening in our `tool_call_or_helpful` function!"
      ]
    },
    {
      "cell_type": "markdown",
      "metadata": {
        "id": "6BhnBW2YVsJO"
      },
      "source": [
        "##### YOUR MARKDOWN HERE"
      ]
    },
    {
      "cell_type": "markdown",
      "metadata": {},
      "source": [
        "<span style=\"color:green;\">\n",
        "This code adds a conditional edge to the graph_with_helpfulness_check.\n",
        "\n",
        "It sets the conditional edge to check the tool_call_or_helpful function.\n",
        "\n",
        "It defines the mapping for the conditional edge:\n",
        "\n",
        "- \"continue\" : \"agent\"\n",
        "- \"action\" : \"action\"\n",
        "- \"end\" : END\n",
        "</span>"
      ]
    },
    {
      "cell_type": "code",
      "execution_count": 29,
      "metadata": {
        "colab": {
          "base_uri": "https://localhost:8080/"
        },
        "id": "aVTKnWMbP_8T",
        "outputId": "7f729b1f-311c-4084-ceaf-0da437900c85"
      },
      "outputs": [
        {
          "data": {
            "text/plain": [
              "<langgraph.graph.state.StateGraph at 0x7cff65caab50>"
            ]
          },
          "execution_count": 29,
          "metadata": {},
          "output_type": "execute_result"
        }
      ],
      "source": [
        "graph_with_helpfulness_check.add_conditional_edges(\n",
        "    \"agent\",\n",
        "    tool_call_or_helpful,\n",
        "    {\n",
        "        \"continue\" : \"agent\",\n",
        "        \"action\" : \"action\",\n",
        "        \"end\" : END\n",
        "    }\n",
        ")"
      ]
    },
    {
      "cell_type": "markdown",
      "metadata": {
        "id": "ZGDLEWOIVtK0"
      },
      "source": [
        "##### YOUR MARKDOWN HERE"
      ]
    },
    {
      "cell_type": "markdown",
      "metadata": {},
      "source": [
        "<span style=\"color:green;\">\n",
        "Adds an edge from the \"action\" node to the \"agent\" node.\n",
        "\n",
        "This edge is used to ensure that the agent node is called again after the action node is executed.\n",
        "</span>"
      ]
    },
    {
      "cell_type": "code",
      "execution_count": 30,
      "metadata": {
        "colab": {
          "base_uri": "https://localhost:8080/"
        },
        "id": "cbDK2MbuREgU",
        "outputId": "21a64c20-27a1-4e0e-afde-a639abaa8b55"
      },
      "outputs": [
        {
          "data": {
            "text/plain": [
              "<langgraph.graph.state.StateGraph at 0x7cff65caab50>"
            ]
          },
          "execution_count": 30,
          "metadata": {},
          "output_type": "execute_result"
        }
      ],
      "source": [
        "graph_with_helpfulness_check.add_edge(\"action\", \"agent\")"
      ]
    },
    {
      "cell_type": "markdown",
      "metadata": {
        "id": "rSI8AOaEVvT-"
      },
      "source": [
        "##### YOUR MARKDOWN HERE"
      ]
    },
    {
      "cell_type": "markdown",
      "metadata": {},
      "source": [
        "<span style=\"color:green;\">\n",
        "Compiles the graph_with_helpfulness_check to create an agent_with_helpfulness_check.\n",
        "\n",
        "This agent_with_helpfulness_check is now ready to be used to process queries with the added helpfulness check.\n",
        "</span>"
      ]
    },
    {
      "cell_type": "code",
      "execution_count": 31,
      "metadata": {
        "id": "oQldl8ERQ8lf"
      },
      "outputs": [],
      "source": [
        "agent_with_helpfulness_check = graph_with_helpfulness_check.compile()"
      ]
    },
    {
      "cell_type": "markdown",
      "metadata": {
        "id": "F67FGCMRVwGz"
      },
      "source": [
        "##### YOUR MARKDOWN HERE"
      ]
    },
    {
      "cell_type": "markdown",
      "metadata": {},
      "source": [
        "<span style=\"color:green;\">\n",
        "This code invokes the agent_with_helpfulness_check with a query.\n",
        "\n",
        "It streams the updates from the agent_with_helpfulness_check in chunks.\n",
        "\n",
        "For each chunk, it prints the node that sent the update and the messages in the state.\n",
        "\n",
        "stream_mode=\"updates\" indicates that the agent will stream updates incrementally as they are generated, rather than waiting for the entire process to complete before returning the final result.\n",
        "</span>"
      ]
    },
    {
      "cell_type": "code",
      "execution_count": 32,
      "metadata": {
        "colab": {
          "base_uri": "https://localhost:8080/"
        },
        "id": "B3oo8E-PRK1T",
        "outputId": "f152dea8-96ad-4d29-d8b2-a064c96a8bd3"
      },
      "outputs": [
        {
          "name": "stdout",
          "output_type": "stream",
          "text": [
            "Receiving update from node: 'agent'\n",
            "[AIMessage(content='', additional_kwargs={'tool_calls': [{'id': 'call_5RusS9a5OTBrpXAMZlItuNAo', 'function': {'arguments': '{\"query\": \"LoRA in machine learning\"}', 'name': 'tavily_search_results_json'}, 'type': 'function'}, {'id': 'call_YpZhFwpieKG7MeduXwOXbcZY', 'function': {'arguments': '{\"query\": \"Tim Dettmers\"}', 'name': 'tavily_search_results_json'}, 'type': 'function'}, {'id': 'call_4RLFT3RVwqOjGij6gXccysq1', 'function': {'arguments': '{\"query\": \"Attention in machine learning\"}', 'name': 'tavily_search_results_json'}, 'type': 'function'}], 'refusal': None}, response_metadata={'token_usage': {'completion_tokens': 81, 'prompt_tokens': 177, 'total_tokens': 258, 'completion_tokens_details': {'accepted_prediction_tokens': 0, 'audio_tokens': 0, 'reasoning_tokens': 0, 'rejected_prediction_tokens': 0}, 'prompt_tokens_details': {'audio_tokens': 0, 'cached_tokens': 0}}, 'model_name': 'gpt-4o-2024-08-06', 'system_fingerprint': 'fp_50cad350e4', 'finish_reason': 'tool_calls', 'logprobs': None}, id='run-475daa87-692f-42ea-bad5-09a183e02148-0', tool_calls=[{'name': 'tavily_search_results_json', 'args': {'query': 'LoRA in machine learning'}, 'id': 'call_5RusS9a5OTBrpXAMZlItuNAo', 'type': 'tool_call'}, {'name': 'tavily_search_results_json', 'args': {'query': 'Tim Dettmers'}, 'id': 'call_YpZhFwpieKG7MeduXwOXbcZY', 'type': 'tool_call'}, {'name': 'tavily_search_results_json', 'args': {'query': 'Attention in machine learning'}, 'id': 'call_4RLFT3RVwqOjGij6gXccysq1', 'type': 'tool_call'}], usage_metadata={'input_tokens': 177, 'output_tokens': 81, 'total_tokens': 258, 'input_token_details': {'audio': 0, 'cache_read': 0}, 'output_token_details': {'audio': 0, 'reasoning': 0}})]\n",
            "\n",
            "\n",
            "\n",
            "Receiving update from node: 'action'\n",
            "[ToolMessage(content='[{\"url\": \"https://www.cloudflare.com/learning/ai/what-is-lora/\", \"content\": \"LoRA helps make huge and complicated machine learning models much more suited for specific uses. It works by adding lightweight pieces to the original model, as opposed to changing the entire model. LoRA helps developers quickly expand the use cases for the machine learning models they build.\"}, {\"url\": \"https://www.datacamp.com/tutorial/mastering-low-rank-adaptation-lora-enhancing-large-language-models-for-efficient-adaptation\", \"content\": \"LoRA (Low-Rank Adaptation) is a method that reduces the trainable parameters and GPU memory requirements of large language models like GPT-3 by adding small, changeable parts to each layer. Learn how LoRA works, why it is useful, and how to apply it in practice.\"}, {\"url\": \"https://arxiv.org/abs/2106.09685\", \"content\": \"cs arXiv:2106.09685 LoRA: Low-Rank Adaptation of Large Language Models Hu, Yelong Shen, Phillip Wallis, Zeyuan Allen-Zhu, Yuanzhi Li, Shean Wang, Lu Wang, Weizhu Chen We propose Low-Rank Adaptation, or LoRA, which freezes the pre-trained model weights and injects trainable rank decomposition matrices into each layer of the Transformer architecture, greatly reducing the number of trainable parameters for downstream tasks. LoRA performs on-par or better than fine-tuning in model quality on RoBERTa, DeBERTa, GPT-2, and GPT-3, despite having fewer trainable parameters, a higher training throughput, and, unlike adapters, no additional inference latency. Subjects:   Computation and Language (cs.CL); Artificial Intelligence (cs.AI); Machine Learning (cs.LG) Cite as:    arXiv:2106.09685 [cs.CL] (or arXiv:2106.09685v2 [cs.CL] for this version) cs Bibliographic and Citation Tools Connected Papers Toggle\"}, {\"url\": \"https://medium.com/@alexmriggio/lora-low-rank-adaptation-from-scratch-code-and-theory-f31509106650\", \"content\": \"And that is the aim of LoRA — to take the change-in-weight matrix and approximate it with the product of two lower-rank matrices. ... Machine Learning. Lora----1. Follow. Written by AR.\"}, {\"url\": \"https://medium.com/@sandha.iitr/fine-tuning-deep-learning-models-with-low-rank-adaptation-lora-using-google-colab-dac1b4516f71\", \"content\": \"Through LORA_Playground, we aim to provide a practical and insightful resource for the machine learning community, empowering researchers and practitioners to leverage the full potential of LORA\"}]', name='tavily_search_results_json', id='8d9bb40e-2f3e-401c-9ad4-768bd17482c4', tool_call_id='call_5RusS9a5OTBrpXAMZlItuNAo', artifact={'query': 'LoRA in machine learning', 'follow_up_questions': None, 'answer': None, 'images': [], 'results': [{'title': 'What is LoRA? | Low-rank adaptation - Cloudflare', 'url': 'https://www.cloudflare.com/learning/ai/what-is-lora/', 'content': 'LoRA helps make huge and complicated machine learning models much more suited for specific uses. It works by adding lightweight pieces to the original model, as opposed to changing the entire model. LoRA helps developers quickly expand the use cases for the machine learning models they build.', 'score': 0.90810597, 'raw_content': None}, {'title': 'Mastering Low-Rank Adaptation (LoRA): Enhancing Large ... - DataCamp', 'url': 'https://www.datacamp.com/tutorial/mastering-low-rank-adaptation-lora-enhancing-large-language-models-for-efficient-adaptation', 'content': 'LoRA (Low-Rank Adaptation) is a method that reduces the trainable parameters and GPU memory requirements of large language models like GPT-3 by adding small, changeable parts to each layer. Learn how LoRA works, why it is useful, and how to apply it in practice.', 'score': 0.87166095, 'raw_content': None}, {'title': '[2106.09685] LoRA: Low-Rank Adaptation of Large Language Models - arXiv.org', 'url': 'https://arxiv.org/abs/2106.09685', 'content': 'cs arXiv:2106.09685 LoRA: Low-Rank Adaptation of Large Language Models Hu, Yelong Shen, Phillip Wallis, Zeyuan Allen-Zhu, Yuanzhi Li, Shean Wang, Lu Wang, Weizhu Chen We propose Low-Rank Adaptation, or LoRA, which freezes the pre-trained model weights and injects trainable rank decomposition matrices into each layer of the Transformer architecture, greatly reducing the number of trainable parameters for downstream tasks. LoRA performs on-par or better than fine-tuning in model quality on RoBERTa, DeBERTa, GPT-2, and GPT-3, despite having fewer trainable parameters, a higher training throughput, and, unlike adapters, no additional inference latency. Subjects:   Computation and Language (cs.CL); Artificial Intelligence (cs.AI); Machine Learning (cs.LG) Cite as:    arXiv:2106.09685 [cs.CL] (or arXiv:2106.09685v2 [cs.CL] for this version) cs Bibliographic and Citation Tools Connected Papers Toggle', 'score': 0.84948516, 'raw_content': None}, {'title': 'LoRA: Low-Rank Adaptation from Scratch — Code and Theory', 'url': 'https://medium.com/@alexmriggio/lora-low-rank-adaptation-from-scratch-code-and-theory-f31509106650', 'content': 'And that is the aim of LoRA — to take the change-in-weight matrix and approximate it with the product of two lower-rank matrices. ... Machine Learning. Lora----1. Follow. Written by AR.', 'score': 0.80771893, 'raw_content': None}, {'title': 'Fine-Tuning Deep Learning Models with Low-Rank Adaptation (LORA): using ...', 'url': 'https://medium.com/@sandha.iitr/fine-tuning-deep-learning-models-with-low-rank-adaptation-lora-using-google-colab-dac1b4516f71', 'content': 'Through LORA_Playground, we aim to provide a practical and insightful resource for the machine learning community, empowering researchers and practitioners to leverage the full potential of LORA', 'score': 0.7823471, 'raw_content': None}], 'response_time': 2.01}), ToolMessage(content='[{\"url\": \"https://timdettmers.com/about/\", \"content\": \"Tim Dettmers is a research scientist at Ai2 and an incoming assistant professor at CMU. He works on efficient deep learning methods, such as quantization, sparsity, and low-bit inference.\"}, {\"url\": \"https://timdettmers.com/\", \"content\": \"Tim Dettmers is a researcher and teacher in deep learning and natural language processing. His blog covers topics such as hardware, quantization, sparse networks, creativity, and grad school choices.\"}, {\"url\": \"https://github.com/TimDettmers\", \"content\": \"Tim Dettmers is a researcher and developer at the University of Washington. He has 53 repositories on GitHub, mostly related to deep learning, sparse learning, and knowledge graphs.\"}, {\"url\": \"https://ai2050.schmidtsciences.org/fellow/tim-dettmers/\", \"content\": \"Tim Dettmers is an Assistant Professor at Carnegie Mellon University and a Research Scientist at the Allen Institute for AI, and his research focuses on making foundation models, such as ChatGPT, accessible to researchers and practitioners by reducing their resource requirements. AI models like ChatGPT work well for general use but fail in specialized expert domains, such as the medical sciences. To make AI models work in expert domains, one must adapt them, which is costly and requires significant AI expertise. This project overcomes these cost and expertise barriers through two new approaches: (1) use AI models themselves to perform the AI model adaptation process automatically; (2) make the adaptation process cheap so it can be run on regular consumer hardware.\"}, {\"url\": \"https://arxiv.org/abs/2208.07339\", \"content\": \"Tim Dettmers is one of the authors of a paper titled LLM.int8, which proposes a method for 8-bit matrix multiplication for transformers at scale. The paper was published at NeurIPS 2022 and shows how to reduce GPU memory for inference in large language models.\"}]', name='tavily_search_results_json', id='38e55736-21fd-459c-858c-e0640e39fc17', tool_call_id='call_YpZhFwpieKG7MeduXwOXbcZY', artifact={'query': 'Tim Dettmers', 'follow_up_questions': None, 'answer': None, 'images': [], 'results': [{'title': 'About Me — Tim Dettmers', 'url': 'https://timdettmers.com/about/', 'content': 'Tim Dettmers is a research scientist at Ai2 and an incoming assistant professor at CMU. He works on efficient deep learning methods, such as quantization, sparsity, and low-bit inference.', 'score': 0.9407083, 'raw_content': None}, {'title': 'Tim Dettmers — Making deep learning accessible.', 'url': 'https://timdettmers.com/', 'content': 'Tim Dettmers is a researcher and teacher in deep learning and natural language processing. His blog covers topics such as hardware, quantization, sparse networks, creativity, and grad school choices.', 'score': 0.9405774, 'raw_content': None}, {'title': 'TimDettmers (Tim Dettmers) · GitHub', 'url': 'https://github.com/TimDettmers', 'content': 'Tim Dettmers is a researcher and developer at the University of Washington. He has 53 repositories on GitHub, mostly related to deep learning, sparse learning, and knowledge graphs.', 'score': 0.93735445, 'raw_content': None}, {'title': 'Tim Dettmers - AI2050', 'url': 'https://ai2050.schmidtsciences.org/fellow/tim-dettmers/', 'content': 'Tim Dettmers is an Assistant Professor at Carnegie Mellon University and a Research Scientist at the Allen Institute for AI, and his research focuses on making foundation models, such as ChatGPT, accessible to researchers and practitioners by reducing their resource requirements. AI models like ChatGPT work well for general use but fail in specialized expert domains, such as the medical sciences. To make AI models work in expert domains, one must adapt them, which is costly and requires significant AI expertise. This project overcomes these cost and expertise barriers through two new approaches: (1) use AI models themselves to perform the AI model adaptation process automatically; (2) make the adaptation process cheap so it can be run on regular consumer hardware.', 'score': 0.9263638, 'raw_content': None}, {'title': 'LLM.int8(): 8-bit Matrix Multiplication for Transformers at Scale', 'url': 'https://arxiv.org/abs/2208.07339', 'content': 'Tim Dettmers is one of the authors of a paper titled LLM.int8, which proposes a method for 8-bit matrix multiplication for transformers at scale. The paper was published at NeurIPS 2022 and shows how to reduce GPU memory for inference in large language models.', 'score': 0.8638634, 'raw_content': None}], 'response_time': 1.66}), ToolMessage(content='[{\"url\": \"https://pmc.ncbi.nlm.nih.gov/articles/PMC7996841/\", \"content\": \"Generally formulated, attention in machine learning is a sequential process in which a learning task is guided by a set of elements of the input source (or memory). This is achieved by integrating the attention value into the task. Attention mechanisms have provided and will provide a paradigm shift in machine learning.\"}, {\"url\": \"https://www.clrn.org/what-is-attention-in-machine-learning/\", \"content\": \"There are three main types of attention in machine learning: Self-Attention: Self-attention is used within a sequence, such as a sentence or a piece of text, to understand the relationships between different elements.This type of attention is particularly useful for tasks such as language translation, where the model needs to understand the relationships between different words in a sentence.\"}, {\"url\": \"https://www.freecodecamp.org/news/what-are-attention-mechanisms-in-deep-learning/\", \"content\": \"Attention mechanism is a fundamental invention in artificial intelligence and machine learning, redefining the capabilities of deep learning models. This mechanism, inspired by the human mental process of selective focus, has emerged as a pillar in a variety of applications, accelerating developments in natural language processing, computer\"}, {\"url\": \"https://machinelearningmastery.com/what-is-attention/\", \"content\": \"Learn the concept of attention in machine learning and how it relates to biological attention. Explore the components and applications of attention-based systems, such as in machine translation.\"}, {\"url\": \"https://machinelearningmastery.com/the-attention-mechanism-from-scratch/\", \"content\": \"Learn how the attention mechanism improves the performance of sequence-to-sequence models by flexibly focusing on the most relevant parts of the input. See the implementation of the general attention mechanism in Python with NumPy and SciPy.\"}]', name='tavily_search_results_json', id='76d6453e-e9d5-435d-b045-7891d70866ca', tool_call_id='call_4RLFT3RVwqOjGij6gXccysq1', artifact={'query': 'Attention in machine learning', 'follow_up_questions': None, 'answer': None, 'images': [], 'results': [{'title': 'Attention Mechanisms and Their Applications to Complex Systems', 'url': 'https://pmc.ncbi.nlm.nih.gov/articles/PMC7996841/', 'content': 'Generally formulated, attention in machine learning is a sequential process in which a learning task is guided by a set of elements of the input source (or memory). This is achieved by integrating the attention value into the task. Attention mechanisms have provided and will provide a paradigm shift in machine learning.', 'score': 0.94808257, 'raw_content': None}, {'title': 'What is attention in machine learning? - California Learning Resource ...', 'url': 'https://www.clrn.org/what-is-attention-in-machine-learning/', 'content': 'There are three main types of attention in machine learning: Self-Attention: Self-attention is used within a sequence, such as a sentence or a piece of text, to understand the relationships between different elements.This type of attention is particularly useful for tasks such as language translation, where the model needs to understand the relationships between different words in a sentence.', 'score': 0.8941352, 'raw_content': None}, {'title': 'What are Attention Mechanisms in Deep Learning? - freeCodeCamp.org', 'url': 'https://www.freecodecamp.org/news/what-are-attention-mechanisms-in-deep-learning/', 'content': 'Attention mechanism is a fundamental invention in artificial intelligence and machine learning, redefining the capabilities of deep learning models. This mechanism, inspired by the human mental process of selective focus, has emerged as a pillar in a variety of applications, accelerating developments in natural language processing, computer', 'score': 0.8674071, 'raw_content': None}, {'title': 'What Is Attention? - MachineLearningMastery.com', 'url': 'https://machinelearningmastery.com/what-is-attention/', 'content': 'Learn the concept of attention in machine learning and how it relates to biological attention. Explore the components and applications of attention-based systems, such as in machine translation.', 'score': 0.8245895, 'raw_content': None}, {'title': 'The Attention Mechanism from Scratch - Machine Learning Mastery', 'url': 'https://machinelearningmastery.com/the-attention-mechanism-from-scratch/', 'content': 'Learn how the attention mechanism improves the performance of sequence-to-sequence models by flexibly focusing on the most relevant parts of the input. See the implementation of the general attention mechanism in Python with NumPy and SciPy.', 'score': 0.7185356, 'raw_content': None}], 'response_time': 1.87})]\n",
            "\n",
            "\n",
            "\n",
            "Receiving update from node: 'agent'\n",
            "[AIMessage(content='### LoRA in Machine Learning\\nLoRA, or Low-Rank Adaptation, is a method designed to make large and complex machine learning models more adaptable for specific tasks. It achieves this by adding lightweight, trainable components to the existing model layers, rather than modifying the entire model. This approach significantly reduces the number of trainable parameters and the GPU memory requirements, making it efficient for adapting large language models like GPT-3. LoRA maintains or even improves model performance compared to traditional fine-tuning methods, without increasing inference latency. [Learn more](https://arxiv.org/abs/2106.09685).\\n\\n### Tim Dettmers\\nTim Dettmers is a research scientist at the Allen Institute for AI and an incoming assistant professor at Carnegie Mellon University. His work focuses on efficient deep learning methods, including quantization, sparsity, and low-bit inference. He is known for his contributions to making large AI models more accessible by reducing their resource requirements, enabling their use in specialized domains. [More about Tim Dettmers](https://timdettmers.com/about/).\\n\\n### Attention in Machine Learning\\nAttention mechanisms in machine learning are inspired by the human cognitive process of focusing selectively on certain parts of the input data. They are crucial in tasks like language translation, where understanding the relationships between different elements in a sequence is essential. Attention mechanisms allow models to dynamically focus on the most relevant parts of the input, improving the performance of sequence-to-sequence models. This concept has become a fundamental component in various applications, particularly in natural language processing. [Explore more about attention mechanisms](https://machinelearningmastery.com/what-is-attention/).', additional_kwargs={'refusal': None}, response_metadata={'token_usage': {'completion_tokens': 338, 'prompt_tokens': 1672, 'total_tokens': 2010, 'completion_tokens_details': {'accepted_prediction_tokens': 0, 'audio_tokens': 0, 'reasoning_tokens': 0, 'rejected_prediction_tokens': 0}, 'prompt_tokens_details': {'audio_tokens': 0, 'cached_tokens': 0}}, 'model_name': 'gpt-4o-2024-08-06', 'system_fingerprint': 'fp_50cad350e4', 'finish_reason': 'stop', 'logprobs': None}, id='run-a2f620fa-d3f9-46f3-90a1-00def157271b-0', usage_metadata={'input_tokens': 1672, 'output_tokens': 338, 'total_tokens': 2010, 'input_token_details': {'audio': 0, 'cache_read': 0}, 'output_token_details': {'audio': 0, 'reasoning': 0}})]\n",
            "\n",
            "\n",
            "\n"
          ]
        }
      ],
      "source": [
        "inputs = {\"messages\" : [HumanMessage(content=\"Related to machine learning, what is LoRA? Also, who is Tim Dettmers? Also, what is Attention?\")]}\n",
        "\n",
        "async for chunk in agent_with_helpfulness_check.astream(inputs, stream_mode=\"updates\"):\n",
        "    for node, values in chunk.items():\n",
        "        print(f\"Receiving update from node: '{node}'\")\n",
        "        print(values[\"messages\"])\n",
        "        print(\"\\n\\n\")"
      ]
    },
    {
      "cell_type": "markdown",
      "metadata": {
        "id": "yVmZPs6lnpsM"
      },
      "source": [
        "### Task 4: LangGraph for the \"Patterns\" of GenAI\n",
        "\n",
        "Let's ask our system about the 4 patterns of Generative AI:\n",
        "\n",
        "1. Prompt Engineering\n",
        "2. RAG\n",
        "3. Fine-tuning\n",
        "4. Agents"
      ]
    },
    {
      "cell_type": "code",
      "execution_count": 33,
      "metadata": {
        "id": "ZoLl7GlXoae-"
      },
      "outputs": [],
      "source": [
        "patterns = [\"prompt engineering\", \"RAG\", \"fine-tuning\", \"LLM-based agents\"]"
      ]
    },
    {
      "cell_type": "markdown",
      "metadata": {},
      "source": [
        "<span style=\"color:green;\">\n",
        "Iterates over each pattern in the patterns list.\n",
        "\n",
        "For each pattern, it constructs a query string to ask about the pattern.\n",
        "\n",
        "It invokes the agent_with_helpfulness_check with the constructed query.\n",
        "\n",
        "It prints the final response from the agent.\n",
        "</span>"
      ]
    },
    {
      "cell_type": "code",
      "execution_count": 34,
      "metadata": {
        "colab": {
          "base_uri": "https://localhost:8080/"
        },
        "id": "Zkh0YJuCp3Zl",
        "outputId": "d847426e-71b3-47e6-b1ae-351a78d68d1e"
      },
      "outputs": [
        {
          "name": "stdout",
          "output_type": "stream",
          "text": [
            "**Prompt Engineering: Definition and Importance**\n",
            "\n",
            "Prompt engineering is the process of designing and refining prompts to guide AI models in generating accurate and relevant responses. It involves creating input, instructional, and conversational prompts to minimize bias and improve the quality of AI outputs. This technique is crucial in various applications, including customer support, content generation, and data analysis. Prompt engineering is an iterative process that may require repeated prompting to achieve the desired results, ultimately leading to improved outcomes and cost savings ([Techopedia](https://www.techopedia.com/definition/prompt-engineering), [Britannica](https://www.britannica.com/technology/prompt-engineering)).\n",
            "\n",
            "**History of Prompt Engineering**\n",
            "\n",
            "The history of prompt engineering can be traced back to the early days of code generation tools like CodeSmith and MyGeneration, which automated the generation of boilerplate code for common programming tasks. Over time, prompt engineering evolved with advancements in natural language processing (NLP) and reinforcement learning techniques. These developments have enhanced the capabilities of language models, making them more powerful, context-aware, and adaptable for a wide range of NLP applications. The introduction of attention mechanisms and reinforcement learning in 2017 further improved the controllability of prompt-engineered language models, allowing engineers to shape model behavior and address biases ([Promptly Substack](https://promptly.substack.com/p/a-journey-through-the-history-of), [arXiv](https://arxiv.org/abs/2310.04438)).\n",
            "\n",
            "\n",
            "\n",
            "Retrieval-Augmented Generation (RAG) is a technology that enhances generative models by integrating information retrieval capabilities. It allows large language models (LLMs) to respond to user queries by referencing a specified set of documents, thereby augmenting the information drawn from these sources. This approach is particularly useful for generating more accurate and contextually appropriate responses, informative articles, personalized learning content, and improved recommendation systems.\n",
            "\n",
            "RAG was first proposed in 2020, making it a relatively new technology. Since its inception, it has gained popularity due to its ability to enhance the capabilities of LLMs in knowledge-intensive tasks. The technology has evolved to include advanced retrievers and complementary technologies, leading to more complex RAG systems. Recent research has focused on modular RAG frameworks, which decompose complex systems into independent modules, allowing for a more reconfigurable and efficient design.\n",
            "\n",
            "For more detailed insights, you can explore the following resources:\n",
            "- [Medium article on RAG](https://medium.com/@matthasan/all-you-want-to-know-about-rag-e2b4bf832695)\n",
            "- [Makebot.ai overview of RAG](https://www.makebot.ai/blog-en/retrieval-augmented-generation-rag-overview-history-process)\n",
            "- [Wikipedia entry on RAG](https://en.wikipedia.org/wiki/Retrieval-augmented_generation)\n",
            "- [Oracle's explanation of RAG](https://www.oracle.com/artificial-intelligence/generative-ai/retrieval-augmented-generation-rag/)\n",
            "- [Research papers on advanced RAG systems](https://arxiv.org/abs/2407.02695)\n",
            "\n",
            "\n",
            "\n",
            "Fine-tuning is a process in machine learning where a pre-trained model is further trained on a smaller, task-specific dataset. This allows the model to adapt to specific tasks or domains while leveraging the general knowledge it has already acquired during its initial training on a larger dataset. Fine-tuning is particularly useful because it can significantly reduce the amount of data and computational resources required to train a model for a specific task, as the model starts with a strong foundation of general knowledge.\n",
            "\n",
            "Fine-tuning became prominent with the rise of transfer learning techniques, especially in the field of natural language processing (NLP) and computer vision. In NLP, the introduction of models like BERT (Bidirectional Encoder Representations from Transformers) in 2018 popularized the concept of fine-tuning. BERT and similar models are pre-trained on large corpora of text and then fine-tuned on specific tasks such as sentiment analysis, question answering, or named entity recognition.\n",
            "\n",
            "In computer vision, fine-tuning has been used for a longer time, with models like AlexNet, VGG, and ResNet being pre-trained on large datasets like ImageNet and then fine-tuned for specific image classification tasks.\n",
            "\n",
            "Overall, fine-tuning has become a standard practice in machine learning, enabling more efficient and effective model training across various domains.\n",
            "\n",
            "\n",
            "\n",
            "LLM-based agents, or Large Language Model-based agents, are AI systems that utilize large language models to perform tasks, interact, and exhibit behaviors akin to human agents. These agents are designed to perceive their environment, process information, and make decisions or take actions based on their programming and learned data.\n",
            "\n",
            "The emergence of LLM-based agents has been a significant development in the field of artificial intelligence. The field has seen explosive growth in recent years, with researchers exploring various approaches to agent architectures and interaction paradigms. A key breakthrough in their development was the introduction of the ReAct paradigm, which combines reasoning and acting, providing a simple and unifying solution for LLM agents.\n",
            "\n",
            "For more detailed information, you can refer to the following resources:\n",
            "\n",
            "1. [History in the Making: LLM (AI) Agents and How We Got Here](https://ai.gopubby.com/history-in-the-making-llm-ai-agents-and-how-we-got-here-361138829641)\n",
            "2. [A Brief History of LLM Agents](https://medium.com/@wgsjack199213_24772/llm-agents-a-brief-history-and-overview-f73468251179)\n",
            "\n",
            "\n",
            "\n"
          ]
        }
      ],
      "source": [
        "for pattern in patterns:\n",
        "  what_is_string = f\"What is {pattern} and when did it break onto the scene??\"\n",
        "  inputs = {\"messages\" : [HumanMessage(content=what_is_string)]}\n",
        "  messages = agent_with_helpfulness_check.invoke(inputs)\n",
        "  print(messages[\"messages\"][-1].content)\n",
        "  print(\"\\n\\n\")"
      ]
    }
  ],
  "metadata": {
    "colab": {
      "provenance": []
    },
    "kernelspec": {
      "display_name": "Python 3",
      "name": "python3"
    },
    "language_info": {
      "codemirror_mode": {
        "name": "ipython",
        "version": 3
      },
      "file_extension": ".py",
      "mimetype": "text/x-python",
      "name": "python",
      "nbconvert_exporter": "python",
      "pygments_lexer": "ipython3",
      "version": "3.13.1"
    }
    
  },
  "nbformat": 4,
  "nbformat_minor": 0
}
