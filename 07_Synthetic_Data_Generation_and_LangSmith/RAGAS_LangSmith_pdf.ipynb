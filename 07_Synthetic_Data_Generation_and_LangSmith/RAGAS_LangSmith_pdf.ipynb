{
 "cells": [
  {
   "cell_type": "markdown",
   "metadata": {},
   "source": [
    "# Synthetic Data Generation Using RAGAS - RAG Evaluation with LangSmith\n",
    "\n",
    "In this notebook, we'll explore a use-case for RAGAS' synthetic testset generation workflow using PDF files!\n",
    "\n",
    "- 🤝 BREAKOUT ROOM #1\n",
    "  1. Use RAGAS to Generate Synthetic Data\n",
    "\n",
    "- 🤝 BREAKOUT ROOM #2\n",
    "  1. Load them into a LangSmith Dataset\n",
    "  2. Evaluate our RAG chain against the synthetic test data\n",
    "  3. Make changes to our pipeline\n",
    "  4. Evaluate the modified pipeline\n",
    "\n",
    "SDG is a critical piece of the puzzle, especially for early iteration! Without it, it would not be nearly as easy to get high quality early signal for our application's performance.\n",
    "\n",
    "Let's dive in!"
   ]
  },
  {
   "cell_type": "markdown",
   "metadata": {},
   "source": [
    "# 🤝 BREAKOUT ROOM #1"
   ]
  },
  {
   "cell_type": "markdown",
   "metadata": {},
   "source": [
    "## Task 1: Dependencies and API Keys\n",
    "\n",
    "We'll need to install a number of API keys and dependencies, since we'll be leveraging a number of great technologies for this pipeline!\n",
    "\n",
    "1. OpenAI's endpoints to handle the Synthetic Data Generation\n",
    "2. OpenAI's Endpoints for our RAG pipeline and LangSmith evaluation\n",
    "3. QDrant as our vectorstore\n",
    "4. LangSmith for our evaluation coordinator!\n",
    "\n",
    "Let's install and provide all the required information below!"
   ]
  },
  {
   "cell_type": "markdown",
   "metadata": {},
   "source": [
    "## Dependencies and API Keys:\n",
    "\n",
    "> NOTE: DO NOT RUN THESE CELLS IF YOU ARE RUNNING THIS NOTEBOOK LOCALLY"
   ]
  },
  {
   "cell_type": "code",
   "execution_count": 7,
   "metadata": {},
   "outputs": [],
   "source": [
    "import os\n",
    "import getpass\n",
    "\n",
    "os.environ[\"LANGCHAIN_TRACING_V2\"] = \"true\"\n",
    "os.environ[\"LANGCHAIN_API_KEY\"] = getpass.getpass(\"LangChain API Key:\")"
   ]
  },
  {
   "cell_type": "markdown",
   "metadata": {},
   "source": [
    "We'll also want to set a project name to make things easier for ourselves."
   ]
  },
  {
   "cell_type": "code",
   "execution_count": 8,
   "metadata": {},
   "outputs": [],
   "source": [
    "from uuid import uuid4\n",
    "\n",
    "os.environ[\"LANGCHAIN_PROJECT\"] = f\"AIM - SDG - {uuid4().hex[0:8]}\""
   ]
  },
  {
   "cell_type": "markdown",
   "metadata": {},
   "source": [
    "OpenAI's API Key!"
   ]
  },
  {
   "cell_type": "code",
   "execution_count": 9,
   "metadata": {},
   "outputs": [],
   "source": [
    "os.environ[\"OPENAI_API_KEY\"] = getpass.getpass(\"OpenAI API Key:\")"
   ]
  },
  {
   "cell_type": "markdown",
   "metadata": {},
   "source": [
    "## Generating Synthetic Test Data\n",
    "\n",
    "We wil be using Ragas to build out a set of synthetic test questions, references, and reference contexts. This is useful because it will allow us to find out how our system is performing.\n",
    "\n",
    "> NOTE: Ragas is best suited for finding *directional* changes in your LLM-based systems. The absolute scores aren't comparable in a vacuum."
   ]
  },
  {
   "cell_type": "markdown",
   "metadata": {},
   "source": [
    "## Data Preparation\n",
    "\n",
    "We'll prepare our data by loading PDF files from the `/pdf` directory.\n",
    "\n",
    "These PDFs are assumed to be already present in the directory."
   ]
  },
  {
   "cell_type": "code",
   "execution_count": 10,
   "metadata": {},
   "outputs": [],
   "source": [
    "import os\n",
    "from langchain.document_loaders import DirectoryLoader, PyPDFLoader\n",
    "\n",
    "pdf_path = \"pdf/\"\n",
    "loader = DirectoryLoader(pdf_path, loader_cls=PyPDFLoader)\n",
    "docs = loader.load()\n",
    "\n",
    "#pdf_files = [f for f in os.listdir(pdf_path) if f.lower().endswith('.pdf')]\n",
    "#print(f'Processed {len(pdf_files)} PDF file(s) and loaded {len(docs)} sub-documents')"
   ]
  },
  {
   "cell_type": "markdown",
   "metadata": {},
   "source": [
    "### Knowledge Graph Based Synthetic Generation\n",
    "\n",
    "Ragas uses a knowledge graph based approach to create data. This is extremely useful as it allows us to create complex queries rather simply. The additional testset complexity allows us to evaluate larger problems more effectively, as systems tend to be very strong on simple evaluation tasks.\n",
    "\n",
    "Let's start by defining our `generator_llm` (which will generate our questions, summaries, and more), and our `generator_embeddings` which will be useful in building our graph."
   ]
  },
  {
   "cell_type": "markdown",
   "metadata": {},
   "source": [
    "### Unrolled SDG"
   ]
  },
  {
   "cell_type": "code",
   "execution_count": 11,
   "metadata": {},
   "outputs": [],
   "source": [
    "from ragas.llms import LangchainLLMWrapper\n",
    "from ragas.embeddings import LangchainEmbeddingsWrapper\n",
    "from langchain_openai import ChatOpenAI\n",
    "from langchain_openai import OpenAIEmbeddings\n",
    "generator_llm = LangchainLLMWrapper(ChatOpenAI(model=\"gpt-4o\"))\n",
    "generator_embeddings = LangchainEmbeddingsWrapper(OpenAIEmbeddings())"
   ]
  },
  {
   "cell_type": "markdown",
   "metadata": {},
   "source": [
    "Next, we're going to instantiate our Knowledge Graph.\n",
    "\n",
    "This graph will contain N number of nodes that have M number of relationships. These nodes and relationships (AKA \"edges\") will define our knowledge graph and be used later to construct relevant questions and responses."
   ]
  },
  {
   "cell_type": "code",
   "execution_count": 12,
   "metadata": {},
   "outputs": [
    {
     "data": {
      "text/plain": [
       "KnowledgeGraph(nodes: 0, relationships: 0)"
      ]
     },
     "execution_count": 12,
     "metadata": {},
     "output_type": "execute_result"
    }
   ],
   "source": [
    "from ragas.testset.graph import KnowledgeGraph\n",
    "\n",
    "kg = KnowledgeGraph()\n",
    "kg"
   ]
  },
  {
   "cell_type": "markdown",
   "metadata": {},
   "source": [
    "The first step we're going to take is to simply insert each of our full documents into the graph. This will provide a base that we can apply transformations to."
   ]
  },
  {
   "cell_type": "code",
   "execution_count": 13,
   "metadata": {},
   "outputs": [
    {
     "data": {
      "text/plain": [
       "KnowledgeGraph(nodes: 54, relationships: 0)"
      ]
     },
     "execution_count": 13,
     "metadata": {},
     "output_type": "execute_result"
    }
   ],
   "source": [
    "from ragas.testset.graph import Node, NodeType\n",
    "\n",
    "for doc in docs:\n",
    "    kg.nodes.append(\n",
    "        Node(\n",
    "            type=NodeType.DOCUMENT,\n",
    "            properties={\"page_content\": doc.page_content, \"document_metadata\": doc.metadata}\n",
    "        )\n",
    "    )\n",
    "kg"
   ]
  },
  {
   "cell_type": "markdown",
   "metadata": {},
   "source": [
    "Now, we'll apply the *default* transformations to our knowledge graph. This will take the nodes currently on the graph and transform them based on a set of [default transformations](https://docs.ragas.io/en/latest/references/transforms/#ragas.testset.transforms.default_transforms).\n",
    "\n",
    "These default transformations are dependent on the corpus length, in our case:\n",
    "\n",
    "- Producing Summaries -> produces summaries of the documents\n",
    "- Extracting Headlines -> finding the overall headline for the document\n",
    "- Theme Extractor -> extracts broad themes about the documents\n",
    "\n",
    "It then uses cosine-similarity and heuristics between the embeddings of the above transformations to construct relationships between the nodes."
   ]
  },
  {
   "cell_type": "code",
   "execution_count": 14,
   "metadata": {},
   "outputs": [
    {
     "data": {
      "application/vnd.jupyter.widget-view+json": {
       "model_id": "bbd1d733383f46be9c9629c429eb31c0",
       "version_major": 2,
       "version_minor": 0
      },
      "text/plain": [
       "Applying HeadlinesExtractor:   0%|          | 0/51 [00:00<?, ?it/s]"
      ]
     },
     "metadata": {},
     "output_type": "display_data"
    },
    {
     "data": {
      "application/vnd.jupyter.widget-view+json": {
       "model_id": "847da44d1ae7485789064a23973c777e",
       "version_major": 2,
       "version_minor": 0
      },
      "text/plain": [
       "Applying HeadlineSplitter:   0%|          | 0/54 [00:00<?, ?it/s]"
      ]
     },
     "metadata": {},
     "output_type": "display_data"
    },
    {
     "name": "stderr",
     "output_type": "stream",
     "text": [
      "unable to apply transformation: 'headlines' property not found in this node\n",
      "unable to apply transformation: 'headlines' property not found in this node\n",
      "unable to apply transformation: 'headlines' property not found in this node\n"
     ]
    },
    {
     "data": {
      "application/vnd.jupyter.widget-view+json": {
       "model_id": "880736a0160945988f55dab9641b79d6",
       "version_major": 2,
       "version_minor": 0
      },
      "text/plain": [
       "Applying SummaryExtractor:   0%|          | 0/94 [00:00<?, ?it/s]"
      ]
     },
     "metadata": {},
     "output_type": "display_data"
    },
    {
     "name": "stderr",
     "output_type": "stream",
     "text": [
      "Property 'summary' already exists in node 'afc6e8'. Skipping!\n",
      "Property 'summary' already exists in node 'ba0ce8'. Skipping!\n",
      "Property 'summary' already exists in node 'f21643'. Skipping!\n",
      "Property 'summary' already exists in node 'b1c961'. Skipping!\n",
      "Property 'summary' already exists in node '059a26'. Skipping!\n",
      "Property 'summary' already exists in node '5350ac'. Skipping!\n",
      "Property 'summary' already exists in node '00863d'. Skipping!\n",
      "Property 'summary' already exists in node '90fc31'. Skipping!\n",
      "Property 'summary' already exists in node '55e1f1'. Skipping!\n",
      "Property 'summary' already exists in node '85fdd9'. Skipping!\n",
      "Property 'summary' already exists in node '413a87'. Skipping!\n",
      "Property 'summary' already exists in node 'd8c741'. Skipping!\n",
      "Property 'summary' already exists in node '032be7'. Skipping!\n",
      "Property 'summary' already exists in node '502f9d'. Skipping!\n",
      "Property 'summary' already exists in node 'a91f2e'. Skipping!\n",
      "Property 'summary' already exists in node '6de51e'. Skipping!\n",
      "Property 'summary' already exists in node '6a9582'. Skipping!\n",
      "Property 'summary' already exists in node 'c9c2ad'. Skipping!\n",
      "Property 'summary' already exists in node '7536ac'. Skipping!\n",
      "Property 'summary' already exists in node 'df0e39'. Skipping!\n",
      "Property 'summary' already exists in node '73fe7f'. Skipping!\n",
      "Property 'summary' already exists in node 'f4d653'. Skipping!\n",
      "Property 'summary' already exists in node 'ad0f8e'. Skipping!\n",
      "Property 'summary' already exists in node '0593d7'. Skipping!\n",
      "Property 'summary' already exists in node '5797ab'. Skipping!\n",
      "Property 'summary' already exists in node '5fa235'. Skipping!\n",
      "Property 'summary' already exists in node '57f2fd'. Skipping!\n",
      "Property 'summary' already exists in node '93de3b'. Skipping!\n",
      "Property 'summary' already exists in node 'ec44d9'. Skipping!\n",
      "Property 'summary' already exists in node '6181fc'. Skipping!\n",
      "Property 'summary' already exists in node 'fae3b2'. Skipping!\n",
      "Property 'summary' already exists in node 'e6dd16'. Skipping!\n",
      "Property 'summary' already exists in node 'f9720b'. Skipping!\n",
      "Property 'summary' already exists in node '3529b0'. Skipping!\n",
      "Property 'summary' already exists in node 'e7f2c8'. Skipping!\n",
      "Property 'summary' already exists in node '3373ce'. Skipping!\n",
      "Property 'summary' already exists in node '3debc4'. Skipping!\n",
      "Property 'summary' already exists in node 'b3526b'. Skipping!\n",
      "Property 'summary' already exists in node '23f116'. Skipping!\n",
      "Property 'summary' already exists in node 'aa5d86'. Skipping!\n",
      "Property 'summary' already exists in node 'dbbd4e'. Skipping!\n",
      "Property 'summary' already exists in node '25b42b'. Skipping!\n",
      "Property 'summary' already exists in node 'f96ed6'. Skipping!\n"
     ]
    },
    {
     "data": {
      "application/vnd.jupyter.widget-view+json": {
       "model_id": "29facbb18ac743cb97af3e113d1f253b",
       "version_major": 2,
       "version_minor": 0
      },
      "text/plain": [
       "Applying CustomNodeFilter:   0%|          | 0/17 [00:00<?, ?it/s]"
      ]
     },
     "metadata": {},
     "output_type": "display_data"
    },
    {
     "data": {
      "application/vnd.jupyter.widget-view+json": {
       "model_id": "4340818c6ea2445880bbf1d1b23a6e9e",
       "version_major": 2,
       "version_minor": 0
      },
      "text/plain": [
       "Applying [EmbeddingExtractor, ThemesExtractor, NERExtractor]:   0%|          | 0/112 [00:00<?, ?it/s]"
      ]
     },
     "metadata": {},
     "output_type": "display_data"
    },
    {
     "name": "stderr",
     "output_type": "stream",
     "text": [
      "Property 'summary_embedding' already exists in node 'f96ed6'. Skipping!\n",
      "Property 'summary_embedding' already exists in node 'ba0ce8'. Skipping!\n",
      "Property 'summary_embedding' already exists in node 'afc6e8'. Skipping!\n",
      "Property 'summary_embedding' already exists in node '55e1f1'. Skipping!\n",
      "Property 'summary_embedding' already exists in node 'f21643'. Skipping!\n",
      "Property 'summary_embedding' already exists in node '00863d'. Skipping!\n",
      "Property 'summary_embedding' already exists in node '5350ac'. Skipping!\n",
      "Property 'summary_embedding' already exists in node '57f2fd'. Skipping!\n",
      "Property 'summary_embedding' already exists in node '90fc31'. Skipping!\n",
      "Property 'summary_embedding' already exists in node 'df0e39'. Skipping!\n",
      "Property 'summary_embedding' already exists in node 'd8c741'. Skipping!\n",
      "Property 'summary_embedding' already exists in node 'b1c961'. Skipping!\n",
      "Property 'summary_embedding' already exists in node '059a26'. Skipping!\n",
      "Property 'summary_embedding' already exists in node '85fdd9'. Skipping!\n",
      "Property 'summary_embedding' already exists in node '413a87'. Skipping!\n",
      "Property 'summary_embedding' already exists in node '032be7'. Skipping!\n",
      "Property 'summary_embedding' already exists in node '7536ac'. Skipping!\n",
      "Property 'summary_embedding' already exists in node '502f9d'. Skipping!\n",
      "Property 'summary_embedding' already exists in node 'ad0f8e'. Skipping!\n",
      "Property 'summary_embedding' already exists in node '6a9582'. Skipping!\n",
      "Property 'summary_embedding' already exists in node '93de3b'. Skipping!\n",
      "Property 'summary_embedding' already exists in node 'c9c2ad'. Skipping!\n",
      "Property 'summary_embedding' already exists in node '73fe7f'. Skipping!\n",
      "Property 'summary_embedding' already exists in node '3debc4'. Skipping!\n",
      "Property 'summary_embedding' already exists in node 'a91f2e'. Skipping!\n",
      "Property 'summary_embedding' already exists in node '6de51e'. Skipping!\n",
      "Property 'summary_embedding' already exists in node 'dbbd4e'. Skipping!\n",
      "Property 'summary_embedding' already exists in node 'f4d653'. Skipping!\n",
      "Property 'summary_embedding' already exists in node '5fa235'. Skipping!\n",
      "Property 'summary_embedding' already exists in node 'ec44d9'. Skipping!\n",
      "Property 'summary_embedding' already exists in node '3373ce'. Skipping!\n",
      "Property 'summary_embedding' already exists in node 'e7f2c8'. Skipping!\n",
      "Property 'summary_embedding' already exists in node '0593d7'. Skipping!\n",
      "Property 'summary_embedding' already exists in node '5797ab'. Skipping!\n",
      "Property 'summary_embedding' already exists in node 'fae3b2'. Skipping!\n",
      "Property 'summary_embedding' already exists in node '3529b0'. Skipping!\n",
      "Property 'summary_embedding' already exists in node '6181fc'. Skipping!\n",
      "Property 'summary_embedding' already exists in node 'f9720b'. Skipping!\n",
      "Property 'summary_embedding' already exists in node 'e6dd16'. Skipping!\n",
      "Property 'summary_embedding' already exists in node 'aa5d86'. Skipping!\n",
      "Property 'summary_embedding' already exists in node 'b3526b'. Skipping!\n",
      "Property 'summary_embedding' already exists in node '25b42b'. Skipping!\n",
      "Property 'summary_embedding' already exists in node '23f116'. Skipping!\n"
     ]
    },
    {
     "data": {
      "application/vnd.jupyter.widget-view+json": {
       "model_id": "a500a1f9fb124b2fae26ca6edf8245d5",
       "version_major": 2,
       "version_minor": 0
      },
      "text/plain": [
       "Applying [CosineSimilarityBuilder, OverlapScoreBuilder]:   0%|          | 0/2 [00:00<?, ?it/s]"
      ]
     },
     "metadata": {},
     "output_type": "display_data"
    },
    {
     "data": {
      "text/plain": [
       "KnowledgeGraph(nodes: 106, relationships: 4399)"
      ]
     },
     "execution_count": 14,
     "metadata": {},
     "output_type": "execute_result"
    }
   ],
   "source": [
    "from ragas.testset.transforms import default_transforms, apply_transforms\n",
    "\n",
    "transformer_llm = generator_llm\n",
    "embedding_model = generator_embeddings\n",
    "\n",
    "default_transforms = default_transforms(documents=docs, llm=transformer_llm, embedding_model=embedding_model)\n",
    "apply_transforms(kg, default_transforms)\n",
    "kg"
   ]
  },
  {
   "cell_type": "markdown",
   "metadata": {},
   "source": [
    "We can save and load our knowledge graphs as follows."
   ]
  },
  {
   "cell_type": "code",
   "execution_count": 15,
   "metadata": {},
   "outputs": [
    {
     "data": {
      "text/plain": [
       "KnowledgeGraph(nodes: 106, relationships: 4399)"
      ]
     },
     "execution_count": 15,
     "metadata": {},
     "output_type": "execute_result"
    }
   ],
   "source": [
    "kg.save(\"ai_ind_kg.json\")\n",
    "ai_ind_kg = KnowledgeGraph.load(\"ai_ind_kg.json\")\n",
    "ai_ind_kg"
   ]
  },
  {
   "cell_type": "markdown",
   "metadata": {},
   "source": [
    "Using our knowledge graph, we can construct a \"test set generator\" - which will allow us to create queries."
   ]
  },
  {
   "cell_type": "code",
   "execution_count": 16,
   "metadata": {},
   "outputs": [],
   "source": [
    "from ragas.testset import TestsetGenerator\n",
    "\n",
    "generator = TestsetGenerator(llm=generator_llm, embedding_model=embedding_model, knowledge_graph=ai_ind_kg)"
   ]
  },
  {
   "cell_type": "markdown",
   "metadata": {},
   "source": [
    "However, we'd like to be able to define the kinds of queries we're generating - which is made simple by Ragas having pre-created a number of different \"QuerySynthesizer\"s.\n",
    "\n",
    "Each of these Synthetsizers is going to tackle a separate kind of query which will be generated from a scenario and a persona.\n",
    "\n",
    "In essence, Ragas will use an LLM to generate a persona of someone who would interact with the data - and then use a scenario to construct a question from that data and persona."
   ]
  },
  {
   "cell_type": "code",
   "execution_count": 17,
   "metadata": {},
   "outputs": [],
   "source": [
    "from ragas.testset.synthesizers import default_query_distribution, SingleHopSpecificQuerySynthesizer, MultiHopAbstractQuerySynthesizer, MultiHopSpecificQuerySynthesizer\n",
    "\n",
    "query_distribution = [\n",
    "        (SingleHopSpecificQuerySynthesizer(llm=generator_llm), 0.5),\n",
    "        (MultiHopAbstractQuerySynthesizer(llm=generator_llm), 0.25),\n",
    "        (MultiHopSpecificQuerySynthesizer(llm=generator_llm), 0.25),\n",
    "]"
   ]
  },
  {
   "cell_type": "markdown",
   "metadata": {},
   "source": [
    "Finally, we can use our `TestSetGenerator` to generate our testset!"
   ]
  },
  {
   "cell_type": "code",
   "execution_count": 18,
   "metadata": {},
   "outputs": [
    {
     "data": {
      "application/vnd.jupyter.widget-view+json": {
       "model_id": "044b898ae0d546e1938f148dd57b474c",
       "version_major": 2,
       "version_minor": 0
      },
      "text/plain": [
       "Generating personas:   0%|          | 0/3 [00:00<?, ?it/s]"
      ]
     },
     "metadata": {},
     "output_type": "display_data"
    },
    {
     "data": {
      "application/vnd.jupyter.widget-view+json": {
       "model_id": "1bae55ff668c46c4a184718b649e0592",
       "version_major": 2,
       "version_minor": 0
      },
      "text/plain": [
       "Generating Scenarios:   0%|          | 0/3 [00:00<?, ?it/s]"
      ]
     },
     "metadata": {},
     "output_type": "display_data"
    },
    {
     "data": {
      "application/vnd.jupyter.widget-view+json": {
       "model_id": "0656b0571fd541fdaea1ee757beed509",
       "version_major": 2,
       "version_minor": 0
      },
      "text/plain": [
       "Generating Samples:   0%|          | 0/11 [00:00<?, ?it/s]"
      ]
     },
     "metadata": {},
     "output_type": "display_data"
    },
    {
     "data": {
      "text/html": [
       "<div>\n",
       "<style scoped>\n",
       "    .dataframe tbody tr th:only-of-type {\n",
       "        vertical-align: middle;\n",
       "    }\n",
       "\n",
       "    .dataframe tbody tr th {\n",
       "        vertical-align: top;\n",
       "    }\n",
       "\n",
       "    .dataframe thead th {\n",
       "        text-align: right;\n",
       "    }\n",
       "</style>\n",
       "<table border=\"1\" class=\"dataframe\">\n",
       "  <thead>\n",
       "    <tr style=\"text-align: right;\">\n",
       "      <th></th>\n",
       "      <th>user_input</th>\n",
       "      <th>reference_contexts</th>\n",
       "      <th>reference</th>\n",
       "      <th>synthesizer_name</th>\n",
       "    </tr>\n",
       "  </thead>\n",
       "  <tbody>\n",
       "    <tr>\n",
       "      <th>0</th>\n",
       "      <td>What role does an Independent Ethics Committee...</td>\n",
       "      <td>[IND means an investigational new drug applica...</td>\n",
       "      <td>An Independent Ethics Committee (IEC) is a rev...</td>\n",
       "      <td>single_hop_specifc_query_synthesizer</td>\n",
       "    </tr>\n",
       "    <tr>\n",
       "      <th>1</th>\n",
       "      <td>Cud yu pleese explane how the FDA's guidelins ...</td>\n",
       "      <td>[Chemistry, manufacturing, and control informa...</td>\n",
       "      <td>The FDA's guidelines require that, as appropri...</td>\n",
       "      <td>single_hop_specifc_query_synthesizer</td>\n",
       "    </tr>\n",
       "    <tr>\n",
       "      <th>2</th>\n",
       "      <td>What are the general requirements for using an...</td>\n",
       "      <td>[§ 312.40 General requirements for use of an i...</td>\n",
       "      <td>An investigational new drug may be used in a c...</td>\n",
       "      <td>single_hop_specifc_query_synthesizer</td>\n",
       "    </tr>\n",
       "    <tr>\n",
       "      <th>3</th>\n",
       "      <td>What role does the President play in the waive...</td>\n",
       "      <td>[(ii) Ongoing use. FDA may place an ongoing ex...</td>\n",
       "      <td>A determination by the President to waive the ...</td>\n",
       "      <td>single_hop_specifc_query_synthesizer</td>\n",
       "    </tr>\n",
       "    <tr>\n",
       "      <th>4</th>\n",
       "      <td>Whaat is the role of the Center for Drug Evalu...</td>\n",
       "      <td>[[52 FR 8831, Mar. 19, 1987, as amended at 55 ...</td>\n",
       "      <td>The Center for Drug Evaluation and Research is...</td>\n",
       "      <td>single_hop_specifc_query_synthesizer</td>\n",
       "    </tr>\n",
       "    <tr>\n",
       "      <th>5</th>\n",
       "      <td>How do clinical procedures and the chemistry, ...</td>\n",
       "      <td>[&lt;1-hop&gt;\\n\\n(g) A description of clinical proc...</td>\n",
       "      <td>Clinical procedures are essential in the IND a...</td>\n",
       "      <td>multi_hop_abstract_query_synthesizer</td>\n",
       "    </tr>\n",
       "    <tr>\n",
       "      <th>6</th>\n",
       "      <td>What clinical procedures and drug substance in...</td>\n",
       "      <td>[&lt;1-hop&gt;\\n\\n(g) A description of clinical proc...</td>\n",
       "      <td>For an investigational new drug application, a...</td>\n",
       "      <td>multi_hop_abstract_query_synthesizer</td>\n",
       "    </tr>\n",
       "    <tr>\n",
       "      <th>7</th>\n",
       "      <td>What are the clinical procedures and chemistry...</td>\n",
       "      <td>[&lt;1-hop&gt;\\n\\n(g) A description of clinical proc...</td>\n",
       "      <td>For an Investigational New Drug (IND) applicat...</td>\n",
       "      <td>multi_hop_abstract_query_synthesizer</td>\n",
       "    </tr>\n",
       "    <tr>\n",
       "      <th>8</th>\n",
       "      <td>how 21 CFR Part 312 affect responsibilities of...</td>\n",
       "      <td>[&lt;1-hop&gt;\\n\\nChemistry, manufacturing, and cont...</td>\n",
       "      <td>21 CFR Part 312 outlines the responsibilities ...</td>\n",
       "      <td>multi_hop_specific_query_synthesizer</td>\n",
       "    </tr>\n",
       "    <tr>\n",
       "      <th>9</th>\n",
       "      <td>Wht r the genral requirments for an IND to b i...</td>\n",
       "      <td>[&lt;1-hop&gt;\\n\\n§ 312.40 General requirements for ...</td>\n",
       "      <td>The general requirements for an IND to be in e...</td>\n",
       "      <td>multi_hop_specific_query_synthesizer</td>\n",
       "    </tr>\n",
       "    <tr>\n",
       "      <th>10</th>\n",
       "      <td>What responsibilities do sponsors have under 2...</td>\n",
       "      <td>[&lt;1-hop&gt;\\n\\nIND means an investigational new d...</td>\n",
       "      <td>Under 21 CFR Part 312, sponsors are responsibl...</td>\n",
       "      <td>multi_hop_specific_query_synthesizer</td>\n",
       "    </tr>\n",
       "  </tbody>\n",
       "</table>\n",
       "</div>"
      ],
      "text/plain": [
       "                                           user_input  \\\n",
       "0   What role does an Independent Ethics Committee...   \n",
       "1   Cud yu pleese explane how the FDA's guidelins ...   \n",
       "2   What are the general requirements for using an...   \n",
       "3   What role does the President play in the waive...   \n",
       "4   Whaat is the role of the Center for Drug Evalu...   \n",
       "5   How do clinical procedures and the chemistry, ...   \n",
       "6   What clinical procedures and drug substance in...   \n",
       "7   What are the clinical procedures and chemistry...   \n",
       "8   how 21 CFR Part 312 affect responsibilities of...   \n",
       "9   Wht r the genral requirments for an IND to b i...   \n",
       "10  What responsibilities do sponsors have under 2...   \n",
       "\n",
       "                                   reference_contexts  \\\n",
       "0   [IND means an investigational new drug applica...   \n",
       "1   [Chemistry, manufacturing, and control informa...   \n",
       "2   [§ 312.40 General requirements for use of an i...   \n",
       "3   [(ii) Ongoing use. FDA may place an ongoing ex...   \n",
       "4   [[52 FR 8831, Mar. 19, 1987, as amended at 55 ...   \n",
       "5   [<1-hop>\\n\\n(g) A description of clinical proc...   \n",
       "6   [<1-hop>\\n\\n(g) A description of clinical proc...   \n",
       "7   [<1-hop>\\n\\n(g) A description of clinical proc...   \n",
       "8   [<1-hop>\\n\\nChemistry, manufacturing, and cont...   \n",
       "9   [<1-hop>\\n\\n§ 312.40 General requirements for ...   \n",
       "10  [<1-hop>\\n\\nIND means an investigational new d...   \n",
       "\n",
       "                                            reference  \\\n",
       "0   An Independent Ethics Committee (IEC) is a rev...   \n",
       "1   The FDA's guidelines require that, as appropri...   \n",
       "2   An investigational new drug may be used in a c...   \n",
       "3   A determination by the President to waive the ...   \n",
       "4   The Center for Drug Evaluation and Research is...   \n",
       "5   Clinical procedures are essential in the IND a...   \n",
       "6   For an investigational new drug application, a...   \n",
       "7   For an Investigational New Drug (IND) applicat...   \n",
       "8   21 CFR Part 312 outlines the responsibilities ...   \n",
       "9   The general requirements for an IND to be in e...   \n",
       "10  Under 21 CFR Part 312, sponsors are responsibl...   \n",
       "\n",
       "                        synthesizer_name  \n",
       "0   single_hop_specifc_query_synthesizer  \n",
       "1   single_hop_specifc_query_synthesizer  \n",
       "2   single_hop_specifc_query_synthesizer  \n",
       "3   single_hop_specifc_query_synthesizer  \n",
       "4   single_hop_specifc_query_synthesizer  \n",
       "5   multi_hop_abstract_query_synthesizer  \n",
       "6   multi_hop_abstract_query_synthesizer  \n",
       "7   multi_hop_abstract_query_synthesizer  \n",
       "8   multi_hop_specific_query_synthesizer  \n",
       "9   multi_hop_specific_query_synthesizer  \n",
       "10  multi_hop_specific_query_synthesizer  "
      ]
     },
     "execution_count": 18,
     "metadata": {},
     "output_type": "execute_result"
    }
   ],
   "source": [
    "testset = generator.generate(testset_size=10, query_distribution=query_distribution)\n",
    "testset.to_pandas()"
   ]
  },
  {
   "cell_type": "markdown",
   "metadata": {},
   "source": [
    "### Abstracted SDG\n",
    "\n",
    "The above method is the full process - but we can shortcut that using the provided abstractions!\n",
    "\n",
    "This will generate our knowledge graph under the hood, and will - from there - generate our personas and scenarios to construct our queries.\n",
    "\n"
   ]
  },
  {
   "cell_type": "code",
   "execution_count": 19,
   "metadata": {},
   "outputs": [
    {
     "data": {
      "application/vnd.jupyter.widget-view+json": {
       "model_id": "df92346c103244e69ed261fa72004dfe",
       "version_major": 2,
       "version_minor": 0
      },
      "text/plain": [
       "Applying HeadlinesExtractor:   0%|          | 0/51 [00:00<?, ?it/s]"
      ]
     },
     "metadata": {},
     "output_type": "display_data"
    },
    {
     "data": {
      "application/vnd.jupyter.widget-view+json": {
       "model_id": "620e952015234e8580d8261e5eebacab",
       "version_major": 2,
       "version_minor": 0
      },
      "text/plain": [
       "Applying HeadlineSplitter:   0%|          | 0/54 [00:00<?, ?it/s]"
      ]
     },
     "metadata": {},
     "output_type": "display_data"
    },
    {
     "name": "stderr",
     "output_type": "stream",
     "text": [
      "unable to apply transformation: 'headlines' property not found in this node\n",
      "unable to apply transformation: 'headlines' property not found in this node\n",
      "unable to apply transformation: 'headlines' property not found in this node\n"
     ]
    },
    {
     "data": {
      "application/vnd.jupyter.widget-view+json": {
       "model_id": "702c719d75dc4845a93e3d0651465c8b",
       "version_major": 2,
       "version_minor": 0
      },
      "text/plain": [
       "Applying SummaryExtractor:   0%|          | 0/94 [00:00<?, ?it/s]"
      ]
     },
     "metadata": {},
     "output_type": "display_data"
    },
    {
     "name": "stderr",
     "output_type": "stream",
     "text": [
      "Property 'summary' already exists in node '289086'. Skipping!\n",
      "Property 'summary' already exists in node 'abdb85'. Skipping!\n",
      "Property 'summary' already exists in node 'b8247a'. Skipping!\n",
      "Property 'summary' already exists in node '6adb2f'. Skipping!\n",
      "Property 'summary' already exists in node '1861ab'. Skipping!\n",
      "Property 'summary' already exists in node '9e8354'. Skipping!\n",
      "Property 'summary' already exists in node '892a27'. Skipping!\n",
      "Property 'summary' already exists in node '11c438'. Skipping!\n",
      "Property 'summary' already exists in node '6a05c0'. Skipping!\n",
      "Property 'summary' already exists in node 'd99c0d'. Skipping!\n",
      "Property 'summary' already exists in node '569be5'. Skipping!\n",
      "Property 'summary' already exists in node '39f625'. Skipping!\n",
      "Property 'summary' already exists in node 'ac04a8'. Skipping!\n",
      "Property 'summary' already exists in node '0637ed'. Skipping!\n",
      "Property 'summary' already exists in node '5ee70c'. Skipping!\n",
      "Property 'summary' already exists in node '93d861'. Skipping!\n",
      "Property 'summary' already exists in node 'e57db1'. Skipping!\n",
      "Property 'summary' already exists in node '74485c'. Skipping!\n",
      "Property 'summary' already exists in node 'd6b03d'. Skipping!\n",
      "Property 'summary' already exists in node '5ea765'. Skipping!\n",
      "Property 'summary' already exists in node '8d1806'. Skipping!\n",
      "Property 'summary' already exists in node 'f8b3db'. Skipping!\n",
      "Property 'summary' already exists in node '1f37d0'. Skipping!\n",
      "Property 'summary' already exists in node '8f491a'. Skipping!\n",
      "Property 'summary' already exists in node '49a1f7'. Skipping!\n",
      "Property 'summary' already exists in node 'b2a4f6'. Skipping!\n",
      "Property 'summary' already exists in node '6a0576'. Skipping!\n",
      "Property 'summary' already exists in node 'd5f0e7'. Skipping!\n",
      "Property 'summary' already exists in node '0b9d92'. Skipping!\n",
      "Property 'summary' already exists in node 'aac6c6'. Skipping!\n",
      "Property 'summary' already exists in node 'b631ac'. Skipping!\n",
      "Property 'summary' already exists in node 'e82457'. Skipping!\n",
      "Property 'summary' already exists in node 'cf677f'. Skipping!\n",
      "Property 'summary' already exists in node '19dec8'. Skipping!\n",
      "Property 'summary' already exists in node 'a03ade'. Skipping!\n",
      "Property 'summary' already exists in node 'd7e1fc'. Skipping!\n",
      "Property 'summary' already exists in node '0f53a6'. Skipping!\n",
      "Property 'summary' already exists in node '322174'. Skipping!\n",
      "Property 'summary' already exists in node '95feda'. Skipping!\n",
      "Property 'summary' already exists in node '93a486'. Skipping!\n",
      "Property 'summary' already exists in node 'c98908'. Skipping!\n",
      "Property 'summary' already exists in node 'f5e108'. Skipping!\n",
      "Property 'summary' already exists in node '71a9f0'. Skipping!\n"
     ]
    },
    {
     "data": {
      "application/vnd.jupyter.widget-view+json": {
       "model_id": "5540539917fc42e6a399f6df43a65212",
       "version_major": 2,
       "version_minor": 0
      },
      "text/plain": [
       "Applying CustomNodeFilter:   0%|          | 0/18 [00:00<?, ?it/s]"
      ]
     },
     "metadata": {},
     "output_type": "display_data"
    },
    {
     "data": {
      "application/vnd.jupyter.widget-view+json": {
       "model_id": "cb1d8ee463914966977c8349088bd4ae",
       "version_major": 2,
       "version_minor": 0
      },
      "text/plain": [
       "Applying [EmbeddingExtractor, ThemesExtractor, NERExtractor]:   0%|          | 0/116 [00:00<?, ?it/s]"
      ]
     },
     "metadata": {},
     "output_type": "display_data"
    },
    {
     "name": "stderr",
     "output_type": "stream",
     "text": [
      "Property 'summary_embedding' already exists in node '289086'. Skipping!\n",
      "Property 'summary_embedding' already exists in node '49a1f7'. Skipping!\n",
      "Property 'summary_embedding' already exists in node 'abdb85'. Skipping!\n",
      "Property 'summary_embedding' already exists in node '93d861'. Skipping!\n",
      "Property 'summary_embedding' already exists in node 'd99c0d'. Skipping!\n",
      "Property 'summary_embedding' already exists in node 'b8247a'. Skipping!\n",
      "Property 'summary_embedding' already exists in node '6adb2f'. Skipping!\n",
      "Property 'summary_embedding' already exists in node '11c438'. Skipping!\n",
      "Property 'summary_embedding' already exists in node '892a27'. Skipping!\n",
      "Property 'summary_embedding' already exists in node '6a05c0'. Skipping!\n",
      "Property 'summary_embedding' already exists in node '9e8354'. Skipping!\n",
      "Property 'summary_embedding' already exists in node '1861ab'. Skipping!\n",
      "Property 'summary_embedding' already exists in node 'ac04a8'. Skipping!\n",
      "Property 'summary_embedding' already exists in node 'e82457'. Skipping!\n",
      "Property 'summary_embedding' already exists in node 'b631ac'. Skipping!\n",
      "Property 'summary_embedding' already exists in node '5ee70c'. Skipping!\n",
      "Property 'summary_embedding' already exists in node 'e57db1'. Skipping!\n",
      "Property 'summary_embedding' already exists in node '0637ed'. Skipping!\n",
      "Property 'summary_embedding' already exists in node '569be5'. Skipping!\n",
      "Property 'summary_embedding' already exists in node '39f625'. Skipping!\n",
      "Property 'summary_embedding' already exists in node '5ea765'. Skipping!\n",
      "Property 'summary_embedding' already exists in node 'd6b03d'. Skipping!\n",
      "Property 'summary_embedding' already exists in node 'aac6c6'. Skipping!\n",
      "Property 'summary_embedding' already exists in node '74485c'. Skipping!\n",
      "Property 'summary_embedding' already exists in node 'c98908'. Skipping!\n",
      "Property 'summary_embedding' already exists in node 'b2a4f6'. Skipping!\n",
      "Property 'summary_embedding' already exists in node '1f37d0'. Skipping!\n",
      "Property 'summary_embedding' already exists in node 'f8b3db'. Skipping!\n",
      "Property 'summary_embedding' already exists in node '8d1806'. Skipping!\n",
      "Property 'summary_embedding' already exists in node '6a0576'. Skipping!\n",
      "Property 'summary_embedding' already exists in node 'd5f0e7'. Skipping!\n",
      "Property 'summary_embedding' already exists in node 'f5e108'. Skipping!\n",
      "Property 'summary_embedding' already exists in node '8f491a'. Skipping!\n",
      "Property 'summary_embedding' already exists in node '0b9d92'. Skipping!\n",
      "Property 'summary_embedding' already exists in node 'a03ade'. Skipping!\n",
      "Property 'summary_embedding' already exists in node '93a486'. Skipping!\n",
      "Property 'summary_embedding' already exists in node 'd7e1fc'. Skipping!\n",
      "Property 'summary_embedding' already exists in node 'cf677f'. Skipping!\n",
      "Property 'summary_embedding' already exists in node '19dec8'. Skipping!\n",
      "Property 'summary_embedding' already exists in node '0f53a6'. Skipping!\n",
      "Property 'summary_embedding' already exists in node '322174'. Skipping!\n",
      "Property 'summary_embedding' already exists in node '71a9f0'. Skipping!\n",
      "Property 'summary_embedding' already exists in node '95feda'. Skipping!\n"
     ]
    },
    {
     "data": {
      "application/vnd.jupyter.widget-view+json": {
       "model_id": "2a9833269ef8474aafd9544f51316a8a",
       "version_major": 2,
       "version_minor": 0
      },
      "text/plain": [
       "Applying [CosineSimilarityBuilder, OverlapScoreBuilder]:   0%|          | 0/2 [00:00<?, ?it/s]"
      ]
     },
     "metadata": {},
     "output_type": "display_data"
    },
    {
     "data": {
      "application/vnd.jupyter.widget-view+json": {
       "model_id": "e33221ad1ab448ed931d17ae3e4a2eed",
       "version_major": 2,
       "version_minor": 0
      },
      "text/plain": [
       "Generating personas:   0%|          | 0/3 [00:00<?, ?it/s]"
      ]
     },
     "metadata": {},
     "output_type": "display_data"
    },
    {
     "data": {
      "application/vnd.jupyter.widget-view+json": {
       "model_id": "1f3d28ea840b4b44a5cf01890d6c55ac",
       "version_major": 2,
       "version_minor": 0
      },
      "text/plain": [
       "Generating Scenarios:   0%|          | 0/3 [00:00<?, ?it/s]"
      ]
     },
     "metadata": {},
     "output_type": "display_data"
    },
    {
     "data": {
      "application/vnd.jupyter.widget-view+json": {
       "model_id": "931db379b0824a3eb6367f40c593a3b5",
       "version_major": 2,
       "version_minor": 0
      },
      "text/plain": [
       "Generating Samples:   0%|          | 0/12 [00:00<?, ?it/s]"
      ]
     },
     "metadata": {},
     "output_type": "display_data"
    }
   ],
   "source": [
    "from ragas.testset import TestsetGenerator\n",
    "\n",
    "generator = TestsetGenerator(llm=generator_llm, embedding_model=generator_embeddings)\n",
    "dataset = generator.generate_with_langchain_docs(docs, testset_size=10)"
   ]
  },
  {
   "cell_type": "code",
   "execution_count": 20,
   "metadata": {},
   "outputs": [
    {
     "data": {
      "text/html": [
       "<div>\n",
       "<style scoped>\n",
       "    .dataframe tbody tr th:only-of-type {\n",
       "        vertical-align: middle;\n",
       "    }\n",
       "\n",
       "    .dataframe tbody tr th {\n",
       "        vertical-align: top;\n",
       "    }\n",
       "\n",
       "    .dataframe thead th {\n",
       "        text-align: right;\n",
       "    }\n",
       "</style>\n",
       "<table border=\"1\" class=\"dataframe\">\n",
       "  <thead>\n",
       "    <tr style=\"text-align: right;\">\n",
       "      <th></th>\n",
       "      <th>user_input</th>\n",
       "      <th>reference_contexts</th>\n",
       "      <th>reference</th>\n",
       "      <th>synthesizer_name</th>\n",
       "    </tr>\n",
       "  </thead>\n",
       "  <tbody>\n",
       "    <tr>\n",
       "      <th>0</th>\n",
       "      <td>What is an institutional review board?</td>\n",
       "      <td>[IND means an investigational new drug applica...</td>\n",
       "      <td>An institutional review board (IRB), as define...</td>\n",
       "      <td>single_hop_specifc_query_synthesizer</td>\n",
       "    </tr>\n",
       "    <tr>\n",
       "      <th>1</th>\n",
       "      <td>What does the FDA require for chemistry, manuf...</td>\n",
       "      <td>[Chemistry, manufacturing, and control informa...</td>\n",
       "      <td>The FDA requires a section describing the comp...</td>\n",
       "      <td>single_hop_specifc_query_synthesizer</td>\n",
       "    </tr>\n",
       "    <tr>\n",
       "      <th>2</th>\n",
       "      <td>What are the FDA requirements for an IND to go...</td>\n",
       "      <td>[§ 312.40 General requirements for use of an i...</td>\n",
       "      <td>An IND goes into effect thirty days after FDA ...</td>\n",
       "      <td>single_hop_specifc_query_synthesizer</td>\n",
       "    </tr>\n",
       "    <tr>\n",
       "      <th>3</th>\n",
       "      <td>What 21 CFR 312.42(b) say?</td>\n",
       "      <td>[Grounds for imposition of clinical hold — 21 ...</td>\n",
       "      <td>21 CFR 312.42(b) is part of the regulations co...</td>\n",
       "      <td>single_hop_specifc_query_synthesizer</td>\n",
       "    </tr>\n",
       "    <tr>\n",
       "      <th>4</th>\n",
       "      <td>Where should an Investigational New Drug Appli...</td>\n",
       "      <td>[&lt;1-hop&gt;\\n\\n§ 312.140 Address for corresponden...</td>\n",
       "      <td>An Investigational New Drug Application for dr...</td>\n",
       "      <td>multi_hop_abstract_query_synthesizer</td>\n",
       "    </tr>\n",
       "    <tr>\n",
       "      <th>5</th>\n",
       "      <td>What are the general requirements for the use ...</td>\n",
       "      <td>[&lt;1-hop&gt;\\n\\n§ 312.40 General requirements for ...</td>\n",
       "      <td>According to 21 CFR Part 312, the general requ...</td>\n",
       "      <td>multi_hop_abstract_query_synthesizer</td>\n",
       "    </tr>\n",
       "    <tr>\n",
       "      <th>6</th>\n",
       "      <td>What are the general requirements for the use ...</td>\n",
       "      <td>[&lt;1-hop&gt;\\n\\n§ 312.40 General requirements for ...</td>\n",
       "      <td>According to 21 CFR Part 312, specifically § 3...</td>\n",
       "      <td>multi_hop_abstract_query_synthesizer</td>\n",
       "    </tr>\n",
       "    <tr>\n",
       "      <th>7</th>\n",
       "      <td>How do the general requirements for the use of...</td>\n",
       "      <td>[&lt;1-hop&gt;\\n\\n§ 312.40 General requirements for ...</td>\n",
       "      <td>The general requirements for the use of an inv...</td>\n",
       "      <td>multi_hop_abstract_query_synthesizer</td>\n",
       "    </tr>\n",
       "    <tr>\n",
       "      <th>8</th>\n",
       "      <td>What are the responsibilities of a sponsor und...</td>\n",
       "      <td>[&lt;1-hop&gt;\\n\\nIND means an investigational new d...</td>\n",
       "      <td>Under 21 CFR Part 312, a sponsor has several r...</td>\n",
       "      <td>multi_hop_specific_query_synthesizer</td>\n",
       "    </tr>\n",
       "    <tr>\n",
       "      <th>9</th>\n",
       "      <td>What are the responsibilities of sponsors unde...</td>\n",
       "      <td>[&lt;1-hop&gt;\\n\\nChemistry, manufacturing, and cont...</td>\n",
       "      <td>Under 21 CFR Part 312, sponsors have several r...</td>\n",
       "      <td>multi_hop_specific_query_synthesizer</td>\n",
       "    </tr>\n",
       "    <tr>\n",
       "      <th>10</th>\n",
       "      <td>What role does 21 CFR Part 312 play in the inv...</td>\n",
       "      <td>[&lt;1-hop&gt;\\n\\nChemistry, manufacturing, and cont...</td>\n",
       "      <td>21 CFR Part 312 outlines the regulations for t...</td>\n",
       "      <td>multi_hop_specific_query_synthesizer</td>\n",
       "    </tr>\n",
       "    <tr>\n",
       "      <th>11</th>\n",
       "      <td>How IND go into effect and what happen if inve...</td>\n",
       "      <td>[&lt;1-hop&gt;\\n\\n§ 312.40 General requirements for ...</td>\n",
       "      <td>An IND goes into effect 30 days after the FDA ...</td>\n",
       "      <td>multi_hop_specific_query_synthesizer</td>\n",
       "    </tr>\n",
       "  </tbody>\n",
       "</table>\n",
       "</div>"
      ],
      "text/plain": [
       "                                           user_input  \\\n",
       "0              What is an institutional review board?   \n",
       "1   What does the FDA require for chemistry, manuf...   \n",
       "2   What are the FDA requirements for an IND to go...   \n",
       "3                          What 21 CFR 312.42(b) say?   \n",
       "4   Where should an Investigational New Drug Appli...   \n",
       "5   What are the general requirements for the use ...   \n",
       "6   What are the general requirements for the use ...   \n",
       "7   How do the general requirements for the use of...   \n",
       "8   What are the responsibilities of a sponsor und...   \n",
       "9   What are the responsibilities of sponsors unde...   \n",
       "10  What role does 21 CFR Part 312 play in the inv...   \n",
       "11  How IND go into effect and what happen if inve...   \n",
       "\n",
       "                                   reference_contexts  \\\n",
       "0   [IND means an investigational new drug applica...   \n",
       "1   [Chemistry, manufacturing, and control informa...   \n",
       "2   [§ 312.40 General requirements for use of an i...   \n",
       "3   [Grounds for imposition of clinical hold — 21 ...   \n",
       "4   [<1-hop>\\n\\n§ 312.140 Address for corresponden...   \n",
       "5   [<1-hop>\\n\\n§ 312.40 General requirements for ...   \n",
       "6   [<1-hop>\\n\\n§ 312.40 General requirements for ...   \n",
       "7   [<1-hop>\\n\\n§ 312.40 General requirements for ...   \n",
       "8   [<1-hop>\\n\\nIND means an investigational new d...   \n",
       "9   [<1-hop>\\n\\nChemistry, manufacturing, and cont...   \n",
       "10  [<1-hop>\\n\\nChemistry, manufacturing, and cont...   \n",
       "11  [<1-hop>\\n\\n§ 312.40 General requirements for ...   \n",
       "\n",
       "                                            reference  \\\n",
       "0   An institutional review board (IRB), as define...   \n",
       "1   The FDA requires a section describing the comp...   \n",
       "2   An IND goes into effect thirty days after FDA ...   \n",
       "3   21 CFR 312.42(b) is part of the regulations co...   \n",
       "4   An Investigational New Drug Application for dr...   \n",
       "5   According to 21 CFR Part 312, the general requ...   \n",
       "6   According to 21 CFR Part 312, specifically § 3...   \n",
       "7   The general requirements for the use of an inv...   \n",
       "8   Under 21 CFR Part 312, a sponsor has several r...   \n",
       "9   Under 21 CFR Part 312, sponsors have several r...   \n",
       "10  21 CFR Part 312 outlines the regulations for t...   \n",
       "11  An IND goes into effect 30 days after the FDA ...   \n",
       "\n",
       "                        synthesizer_name  \n",
       "0   single_hop_specifc_query_synthesizer  \n",
       "1   single_hop_specifc_query_synthesizer  \n",
       "2   single_hop_specifc_query_synthesizer  \n",
       "3   single_hop_specifc_query_synthesizer  \n",
       "4   multi_hop_abstract_query_synthesizer  \n",
       "5   multi_hop_abstract_query_synthesizer  \n",
       "6   multi_hop_abstract_query_synthesizer  \n",
       "7   multi_hop_abstract_query_synthesizer  \n",
       "8   multi_hop_specific_query_synthesizer  \n",
       "9   multi_hop_specific_query_synthesizer  \n",
       "10  multi_hop_specific_query_synthesizer  \n",
       "11  multi_hop_specific_query_synthesizer  "
      ]
     },
     "execution_count": 20,
     "metadata": {},
     "output_type": "execute_result"
    }
   ],
   "source": [
    "dataset.to_pandas()"
   ]
  },
  {
   "cell_type": "markdown",
   "metadata": {},
   "source": [
    "## Task 4: LangSmith Dataset\n",
    "\n",
    "Now we can move on to creating a dataset for LangSmith!\n",
    "\n",
    "First, we'll need to create a dataset on LangSmith using the `Client`!\n",
    "\n",
    "We'll name our Dataset to make it easy to work with later."
   ]
  },
  {
   "cell_type": "code",
   "execution_count": 21,
   "metadata": {},
   "outputs": [],
   "source": [
    "from langsmith import Client\n",
    "\n",
    "client = Client()\n",
    "\n",
    "dataset_name = \"FDA Investigational New Drug Application!\"\n",
    "\n",
    "langsmith_dataset = client.create_dataset(\n",
    "    dataset_name=dataset_name,\n",
    "    description=\"FDA Investigational New Drug Application!\"\n",
    ")"
   ]
  },
  {
   "cell_type": "code",
   "execution_count": 22,
   "metadata": {},
   "outputs": [],
   "source": [
    "for data_row in dataset.to_pandas().iterrows():\n",
    "  client.create_example(\n",
    "      inputs={\n",
    "          \"question\": data_row[1][\"user_input\"]\n",
    "      },\n",
    "      outputs={\n",
    "          \"answer\": data_row[1][\"reference\"]\n",
    "      },\n",
    "      metadata={\n",
    "          \"context\": data_row[1][\"reference_contexts\"]\n",
    "      },\n",
    "      dataset_id=langsmith_dataset.id\n",
    "  )"
   ]
  },
  {
   "cell_type": "markdown",
   "metadata": {},
   "source": [
    "## Basic RAG Chain\n",
    "\n",
    "Time for some RAG!\n"
   ]
  },
  {
   "cell_type": "code",
   "execution_count": 23,
   "metadata": {},
   "outputs": [],
   "source": [
    "rag_documents = docs"
   ]
  },
  {
   "cell_type": "code",
   "execution_count": 24,
   "metadata": {},
   "outputs": [],
   "source": [
    "from langchain.text_splitter import RecursiveCharacterTextSplitter\n",
    "\n",
    "text_splitter = RecursiveCharacterTextSplitter(\n",
    "    chunk_size = 500,\n",
    "    chunk_overlap = 50\n",
    ")\n",
    "\n",
    "rag_documents = text_splitter.split_documents(rag_documents)"
   ]
  },
  {
   "cell_type": "code",
   "execution_count": 25,
   "metadata": {},
   "outputs": [],
   "source": [
    "from langchain_openai import OpenAIEmbeddings\n",
    "\n",
    "embeddings = OpenAIEmbeddings(model=\"text-embedding-3-small\")"
   ]
  },
  {
   "cell_type": "code",
   "execution_count": 26,
   "metadata": {},
   "outputs": [],
   "source": [
    "from langchain_community.vectorstores import Qdrant\n",
    "\n",
    "vectorstore = Qdrant.from_documents(\n",
    "    documents=rag_documents,\n",
    "    embedding=embeddings,\n",
    "    location=\":memory:\",\n",
    "    collection_name=\"IND Application\"\n",
    ")"
   ]
  },
  {
   "cell_type": "code",
   "execution_count": 27,
   "metadata": {},
   "outputs": [],
   "source": [
    "retriever = vectorstore.as_retriever(search_kwargs={\"k\": 10})"
   ]
  },
  {
   "cell_type": "code",
   "execution_count": 28,
   "metadata": {},
   "outputs": [],
   "source": [
    "from langchain.prompts import ChatPromptTemplate\n",
    "\n",
    "RAG_PROMPT = \"\"\"\\\n",
    "Given a provided context and question, you must answer the question based only on context.\n",
    "\n",
    "If you cannot answer the question based on the context - you must say \"I don't know\".\n",
    "\n",
    "Context: {context}\n",
    "Question: {question}\n",
    "\"\"\"\n",
    "\n",
    "rag_prompt = ChatPromptTemplate.from_template(RAG_PROMPT)"
   ]
  },
  {
   "cell_type": "code",
   "execution_count": 29,
   "metadata": {},
   "outputs": [],
   "source": [
    "from langchain_openai import ChatOpenAI\n",
    "\n",
    "llm = ChatOpenAI(model=\"gpt-4o-mini\")"
   ]
  },
  {
   "cell_type": "code",
   "execution_count": 30,
   "metadata": {},
   "outputs": [],
   "source": [
    "from operator import itemgetter\n",
    "from langchain_core.runnables import RunnablePassthrough, RunnableParallel\n",
    "from langchain.schema import StrOutputParser\n",
    "\n",
    "rag_chain = (\n",
    "    {\"context\": itemgetter(\"question\") | retriever, \"question\": itemgetter(\"question\")}\n",
    "    | rag_prompt | llm | StrOutputParser()\n",
    ")"
   ]
  },
  {
   "cell_type": "code",
   "execution_count": 31,
   "metadata": {},
   "outputs": [
    {
     "data": {
      "text/plain": [
       "'1. Cover sheet (Form FDA-1571)\\n   - Name, address, and telephone number of the sponsor\\n   - Date of the application\\n   - Name of the investigational new drug\\n   - Identification of the phase(s) of the clinical investigation to be conducted\\n   - Commitment not to begin clinical investigations until the IND is in effect\\n\\n2. Signature\\n   - Signature of the sponsor or authorized representative\\n   - If not residing in the U.S., include name and address of an attorney or authorized official in the U.S.\\n\\n3. Table of contents\\n\\n4. Introductory statement and general investigational plan\\n   - Name of the drug and active ingredients\\n   - Pharmacological class and structural formula (if known)\\n   - Formulation of dosage form(s) and route of administration\\n   - Broad objectives and planned duration of proposed clinical investigations\\n   - Brief summary of previous human experience with the drug and reference to other INDs if applicable\\n\\n5. Description of clinical procedures and safety monitoring\\n   - Information on clinical procedures, laboratory tests, or measures to monitor effects and minimize risks\\n\\n6. Chemistry, manufacturing, and control information\\n   - Description of composition, manufacture, and control of the drug substance and product\\n\\n7. Submission of IND safety reports\\n   - Format for submission (narrative, FDA Form 3500A, or electronic format)\\n\\n8. Significant developments summary\\n   - Summary of significant Phase 1 protocol modifications made during the previous year\\n   - Brief summary of significant foreign marketing developments during the past year\\n\\n9. Number of copies\\n   - Submit an original and two copies of all submissions to the IND file, including original submission and all amendments and reports.'"
      ]
     },
     "execution_count": 31,
     "metadata": {},
     "output_type": "execute_result"
    }
   ],
   "source": [
    "rag_chain.invoke({\"question\" : \"Create a checklist for the IND application\"})"
   ]
  },
  {
   "cell_type": "markdown",
   "metadata": {},
   "source": [
    "## LangSmith Evaluation Set-up\n",
    "\n",
    "We'll use OpenAI's GPT-4o as our evaluation LLM for our base Evaluators."
   ]
  },
  {
   "cell_type": "code",
   "execution_count": 32,
   "metadata": {},
   "outputs": [],
   "source": [
    "eval_llm = ChatOpenAI(model=\"gpt-4o\")"
   ]
  },
  {
   "cell_type": "markdown",
   "metadata": {},
   "source": [
    "We'll be using a number of evaluators - from LangSmith provided evaluators, to a few custom evaluators!"
   ]
  },
  {
   "cell_type": "code",
   "execution_count": 35,
   "metadata": {},
   "outputs": [],
   "source": [
    "from langsmith.evaluation import LangChainStringEvaluator, evaluate\n",
    "\n",
    "qa_evaluator = LangChainStringEvaluator(\"qa\", config={\"llm\" : eval_llm})\n",
    "\n",
    "labeled_helpfulness_evaluator = LangChainStringEvaluator(\n",
    "    \"labeled_criteria\",\n",
    "    config={\n",
    "        \"criteria\": {\n",
    "            \"helpfulness\": (\n",
    "                \"Is this submission helpful to the user,\"\n",
    "                \" taking into account the correct reference answer?\"\n",
    "            )\n",
    "        },\n",
    "        \"llm\" : eval_llm\n",
    "    },\n",
    "    prepare_data=lambda run, example: {\n",
    "        \"prediction\": run.outputs[\"output\"],\n",
    "        \"reference\": example.outputs[\"answer\"],\n",
    "        \"input\": example.inputs[\"question\"],\n",
    "    }\n",
    ")\n",
    "\n",
    "coherence_evaluator = LangChainStringEvaluator(\n",
    "    \"criteria\",\n",
    "    config={\n",
    "        \"criteria\": {\n",
    "            \"coherence\": {\n",
    "                \"Is the response coherent with the retrieved data or the query?\"  \n",
    "                \"Is the response easy to read and logically structured and well-written?\"            \n",
    "            }          \n",
    "        },\n",
    "        \"llm\" : eval_llm\n",
    "    }\n",
    ")"
   ]
  },
  {
   "cell_type": "markdown",
   "metadata": {},
   "source": [
    "## LangSmith Evaluation"
   ]
  },
  {
   "cell_type": "code",
   "execution_count": 36,
   "metadata": {},
   "outputs": [
    {
     "name": "stdout",
     "output_type": "stream",
     "text": [
      "View the evaluation results for experiment: 'passionate-selection-81' at:\n",
      "https://smith.langchain.com/o/b2bbbf41-ce3b-46fa-8cc0-7de9bb768aa9/datasets/5ba0e029-51de-4103-9721-d14f6ba83f15/compare?selectedSessions=d1ad7380-6b01-4de9-ad29-43449c2e80ef\n",
      "\n",
      "\n"
     ]
    },
    {
     "data": {
      "application/vnd.jupyter.widget-view+json": {
       "model_id": "bae5cf6470104ece9ca649c93c9544e9",
       "version_major": 2,
       "version_minor": 0
      },
      "text/plain": [
       "0it [00:00, ?it/s]"
      ]
     },
     "metadata": {},
     "output_type": "display_data"
    },
    {
     "data": {
      "text/html": [
       "<div>\n",
       "<style scoped>\n",
       "    .dataframe tbody tr th:only-of-type {\n",
       "        vertical-align: middle;\n",
       "    }\n",
       "\n",
       "    .dataframe tbody tr th {\n",
       "        vertical-align: top;\n",
       "    }\n",
       "\n",
       "    .dataframe thead th {\n",
       "        text-align: right;\n",
       "    }\n",
       "</style>\n",
       "<table border=\"1\" class=\"dataframe\">\n",
       "  <thead>\n",
       "    <tr style=\"text-align: right;\">\n",
       "      <th></th>\n",
       "      <th>inputs.question</th>\n",
       "      <th>outputs.output</th>\n",
       "      <th>error</th>\n",
       "      <th>reference.answer</th>\n",
       "      <th>feedback.correctness</th>\n",
       "      <th>feedback.helpfulness</th>\n",
       "      <th>feedback.coherence</th>\n",
       "      <th>execution_time</th>\n",
       "      <th>example_id</th>\n",
       "      <th>id</th>\n",
       "    </tr>\n",
       "  </thead>\n",
       "  <tbody>\n",
       "    <tr>\n",
       "      <th>0</th>\n",
       "      <td>How IND go into effect and what happen if inve...</td>\n",
       "      <td>An IND goes into effect thirty days after the ...</td>\n",
       "      <td>None</td>\n",
       "      <td>An IND goes into effect 30 days after the FDA ...</td>\n",
       "      <td>1</td>\n",
       "      <td>0</td>\n",
       "      <td>1</td>\n",
       "      <td>2.451554</td>\n",
       "      <td>189a374a-4f24-4d7c-bcc0-838b345ac812</td>\n",
       "      <td>dd6f79ba-d301-4e6d-acab-0233325912ae</td>\n",
       "    </tr>\n",
       "    <tr>\n",
       "      <th>1</th>\n",
       "      <td>What role does 21 CFR Part 312 play in the inv...</td>\n",
       "      <td>I don't know.</td>\n",
       "      <td>None</td>\n",
       "      <td>21 CFR Part 312 outlines the regulations for t...</td>\n",
       "      <td>0</td>\n",
       "      <td>0</td>\n",
       "      <td>0</td>\n",
       "      <td>2.049997</td>\n",
       "      <td>240ab4ed-ca86-4fdd-9f98-23d711198bce</td>\n",
       "      <td>743fc994-6366-45c9-b774-31c705a50fc9</td>\n",
       "    </tr>\n",
       "    <tr>\n",
       "      <th>2</th>\n",
       "      <td>What are the responsibilities of sponsors unde...</td>\n",
       "      <td>I don't know.</td>\n",
       "      <td>None</td>\n",
       "      <td>Under 21 CFR Part 312, sponsors have several r...</td>\n",
       "      <td>0</td>\n",
       "      <td>0</td>\n",
       "      <td>0</td>\n",
       "      <td>2.254050</td>\n",
       "      <td>14c7e1bd-32d2-43e6-9f10-09663567c78c</td>\n",
       "      <td>4d69d45b-8db1-447e-ae67-3cf707f20b1d</td>\n",
       "    </tr>\n",
       "    <tr>\n",
       "      <th>3</th>\n",
       "      <td>What are the responsibilities of a sponsor und...</td>\n",
       "      <td>The responsibilities of a sponsor under 21 CFR...</td>\n",
       "      <td>None</td>\n",
       "      <td>Under 21 CFR Part 312, a sponsor has several r...</td>\n",
       "      <td>1</td>\n",
       "      <td>0</td>\n",
       "      <td>1</td>\n",
       "      <td>4.235959</td>\n",
       "      <td>d85f3a3d-5321-4958-bb3b-a96638993c41</td>\n",
       "      <td>100a4ca8-507f-4af1-916a-7498d49deac0</td>\n",
       "    </tr>\n",
       "    <tr>\n",
       "      <th>4</th>\n",
       "      <td>How do the general requirements for the use of...</td>\n",
       "      <td>The general requirements for the use of an inv...</td>\n",
       "      <td>None</td>\n",
       "      <td>The general requirements for the use of an inv...</td>\n",
       "      <td>1</td>\n",
       "      <td>1</td>\n",
       "      <td>1</td>\n",
       "      <td>3.579515</td>\n",
       "      <td>5c3df2c3-0ef7-4bb4-a94a-117a1f0324bb</td>\n",
       "      <td>1d0aed2b-c6ab-41dc-8537-fdc7071c6fbe</td>\n",
       "    </tr>\n",
       "    <tr>\n",
       "      <th>5</th>\n",
       "      <td>What are the general requirements for the use ...</td>\n",
       "      <td>The general requirements for the use of an inv...</td>\n",
       "      <td>None</td>\n",
       "      <td>According to 21 CFR Part 312, specifically § 3...</td>\n",
       "      <td>1</td>\n",
       "      <td>1</td>\n",
       "      <td>1</td>\n",
       "      <td>2.392881</td>\n",
       "      <td>914cf9e2-81b3-4c6f-bbe9-78d00321735d</td>\n",
       "      <td>8cf71e61-dbe3-4c91-9468-40dc31dbcbaf</td>\n",
       "    </tr>\n",
       "    <tr>\n",
       "      <th>6</th>\n",
       "      <td>What are the general requirements for the use ...</td>\n",
       "      <td>The general requirements for the use of an inv...</td>\n",
       "      <td>None</td>\n",
       "      <td>According to 21 CFR Part 312, the general requ...</td>\n",
       "      <td>1</td>\n",
       "      <td>0</td>\n",
       "      <td>1</td>\n",
       "      <td>3.888910</td>\n",
       "      <td>37e5cd28-e9e6-43e6-964e-d5b87676794f</td>\n",
       "      <td>98a86389-839c-4990-9c38-a822c7096d59</td>\n",
       "    </tr>\n",
       "    <tr>\n",
       "      <th>7</th>\n",
       "      <td>Where should an Investigational New Drug Appli...</td>\n",
       "      <td>The Investigational New Drug Application for d...</td>\n",
       "      <td>None</td>\n",
       "      <td>An Investigational New Drug Application for dr...</td>\n",
       "      <td>1</td>\n",
       "      <td>1</td>\n",
       "      <td>1</td>\n",
       "      <td>2.252324</td>\n",
       "      <td>87e5e6f1-8878-49d5-a9b0-3d9f2b43ea93</td>\n",
       "      <td>c8db70d0-2165-4635-a3f5-03ae26ae9624</td>\n",
       "    </tr>\n",
       "    <tr>\n",
       "      <th>8</th>\n",
       "      <td>What 21 CFR 312.42(b) say?</td>\n",
       "      <td>I don't know.</td>\n",
       "      <td>None</td>\n",
       "      <td>21 CFR 312.42(b) is part of the regulations co...</td>\n",
       "      <td>0</td>\n",
       "      <td>0</td>\n",
       "      <td>0</td>\n",
       "      <td>1.021734</td>\n",
       "      <td>3a59096f-ed26-4002-93b8-868b8a5f34c2</td>\n",
       "      <td>0754cc1b-adec-43bc-a6c9-a14960a901da</td>\n",
       "    </tr>\n",
       "    <tr>\n",
       "      <th>9</th>\n",
       "      <td>What are the FDA requirements for an IND to go...</td>\n",
       "      <td>An IND goes into effect thirty days after the ...</td>\n",
       "      <td>None</td>\n",
       "      <td>An IND goes into effect thirty days after FDA ...</td>\n",
       "      <td>1</td>\n",
       "      <td>0</td>\n",
       "      <td>1</td>\n",
       "      <td>1.662763</td>\n",
       "      <td>2d5d8fea-61f4-4b4d-8ac4-8ac7230734e9</td>\n",
       "      <td>a9c00898-c082-4856-b480-7fafc27ee80d</td>\n",
       "    </tr>\n",
       "    <tr>\n",
       "      <th>10</th>\n",
       "      <td>What does the FDA require for chemistry, manuf...</td>\n",
       "      <td>The FDA requires a section describing the comp...</td>\n",
       "      <td>None</td>\n",
       "      <td>The FDA requires a section describing the comp...</td>\n",
       "      <td>0</td>\n",
       "      <td>0</td>\n",
       "      <td>1</td>\n",
       "      <td>1.481597</td>\n",
       "      <td>9690e9fc-fa37-4a09-b208-2c463806e4bc</td>\n",
       "      <td>a3f8efdf-d51c-4b4b-95c6-eb27a94d1ce0</td>\n",
       "    </tr>\n",
       "    <tr>\n",
       "      <th>11</th>\n",
       "      <td>What is an institutional review board?</td>\n",
       "      <td>An institutional review board (IRB) is a type ...</td>\n",
       "      <td>None</td>\n",
       "      <td>An institutional review board (IRB), as define...</td>\n",
       "      <td>1</td>\n",
       "      <td>1</td>\n",
       "      <td>1</td>\n",
       "      <td>2.841889</td>\n",
       "      <td>15dc1822-959f-4778-98d2-daa81ca0504c</td>\n",
       "      <td>3c4cfaeb-f7bc-4499-b164-7ffb37f57884</td>\n",
       "    </tr>\n",
       "  </tbody>\n",
       "</table>\n",
       "</div>"
      ],
      "text/plain": [
       "<ExperimentResults passionate-selection-81>"
      ]
     },
     "execution_count": 36,
     "metadata": {},
     "output_type": "execute_result"
    }
   ],
   "source": [
    "evaluate(\n",
    "    rag_chain.invoke,\n",
    "    data=dataset_name,\n",
    "    evaluators=[\n",
    "        qa_evaluator,\n",
    "        labeled_helpfulness_evaluator,\n",
    "        coherence_evaluator\n",
    "    ],\n",
    "    metadata={\"revision_id\": \"default_chain_init\"},\n",
    ")"
   ]
  },
  {
   "cell_type": "markdown",
   "metadata": {},
   "source": [
    "# 🤝 Improving the RAG Chain"
   ]
  },
  {
   "cell_type": "code",
   "execution_count": 37,
   "metadata": {},
   "outputs": [],
   "source": [
    "rag_documents = docs"
   ]
  },
  {
   "cell_type": "code",
   "execution_count": 38,
   "metadata": {},
   "outputs": [],
   "source": [
    "from langchain.text_splitter import RecursiveCharacterTextSplitter\n",
    "\n",
    "text_splitter = RecursiveCharacterTextSplitter(\n",
    "    chunk_size = 1000,\n",
    "    chunk_overlap = 50\n",
    ")\n",
    "\n",
    "rag_documents = text_splitter.split_documents(rag_documents)"
   ]
  },
  {
   "cell_type": "code",
   "execution_count": 39,
   "metadata": {},
   "outputs": [],
   "source": [
    "from langchain_openai import OpenAIEmbeddings\n",
    "\n",
    "embeddings = OpenAIEmbeddings(model=\"text-embedding-3-large\")"
   ]
  },
  {
   "cell_type": "code",
   "execution_count": 40,
   "metadata": {},
   "outputs": [],
   "source": [
    "vectorstore = Qdrant.from_documents(\n",
    "    documents=rag_documents,\n",
    "    embedding=embeddings,\n",
    "    location=\":memory:\",\n",
    "    collection_name=\"IND Application (Augmented)\"\n",
    ")"
   ]
  },
  {
   "cell_type": "code",
   "execution_count": 41,
   "metadata": {},
   "outputs": [],
   "source": [
    "retriever = vectorstore.as_retriever()"
   ]
  },
  {
   "cell_type": "code",
   "execution_count": 42,
   "metadata": {},
   "outputs": [],
   "source": [
    "rag_chain_augmented = (\n",
    "    {\"context\": itemgetter(\"question\") | retriever, \"question\": itemgetter(\"question\")}\n",
    "    | rag_prompt | llm | StrOutputParser()\n",
    ")"
   ]
  },
  {
   "cell_type": "code",
   "execution_count": 43,
   "metadata": {},
   "outputs": [
    {
     "data": {
      "text/plain": [
       "\"Based on the provided context, here is a checklist for the IND application:\\n\\n1. Cover sheet (Form FDA-1571):\\n   - Name, address, and telephone number of the sponsor\\n   - Date of the application\\n   - Name of the investigational new drug\\n   - Identification of the phase or phases of the clinical investigation\\n   - Commitment not to begin clinical investigations until an IND covering the investigations is in effect\\n   - Commitment that an Institutional Review Board (IRB) that complies with the requirements is in place\\n\\n2. Statement if obligations have been transferred to a contract research organization:\\n   - Name and address of the contract research organization\\n   - Identification of the clinical study\\n   - Listing of the obligations transferred or a general statement of the transfer\\n\\n3. Signature:\\n   - Signature of the sponsor or the sponsor's authorized representative\\n   - If applicable, countersigned by an attorney, agent, or other authorized official residing in the United States\\n\\n4. Table of contents\\n\\n5. Introductory statement and general investigational plan\\n\\n6. Summary of pharmacokinetics and biological disposition of the drug in animals and humans\\n\\n7. Summary of information relating to safety and effectiveness in humans from prior clinical studies\\n\\n8. Description of possible risks and side effects based on prior experience with the drug or related drugs, and special monitoring precautions\\n\\n9. Protocols:\\n   - Protocol for each planned study\\n   - Note that Phase 1 protocols may be less detailed and more flexible compared to Phase 2 and 3 protocols\\n\\n10. Drug product information:\\n    - List of all components used in the manufacture of the investigational drug product\\n    - Quantitative composition of the investigational drug product\\n    - Name and address of the drug product manufacturer\\n    - General description of the manufacturing and packaging procedure\\n    - Acceptable limits and analytical methods for identity, strength, quality, and purity of the drug product\\n\\nThis checklist summarizes the main components required for an IND application based on the context provided.\""
      ]
     },
     "execution_count": 43,
     "metadata": {},
     "output_type": "execute_result"
    }
   ],
   "source": [
    "rag_chain_augmented.invoke({\"question\" : \"Create a checklist for the IND application\"})"
   ]
  },
  {
   "cell_type": "code",
   "execution_count": 44,
   "metadata": {},
   "outputs": [
    {
     "name": "stdout",
     "output_type": "stream",
     "text": [
      "View the evaluation results for experiment: 'excellent-coffee-3' at:\n",
      "https://smith.langchain.com/o/b2bbbf41-ce3b-46fa-8cc0-7de9bb768aa9/datasets/5ba0e029-51de-4103-9721-d14f6ba83f15/compare?selectedSessions=0460e628-edba-40c2-aaef-4793a4fc69fc\n",
      "\n",
      "\n"
     ]
    },
    {
     "data": {
      "application/vnd.jupyter.widget-view+json": {
       "model_id": "ff31c9cd835a44fe9c1e1e5a21a5a117",
       "version_major": 2,
       "version_minor": 0
      },
      "text/plain": [
       "0it [00:00, ?it/s]"
      ]
     },
     "metadata": {},
     "output_type": "display_data"
    },
    {
     "data": {
      "text/html": [
       "<div>\n",
       "<style scoped>\n",
       "    .dataframe tbody tr th:only-of-type {\n",
       "        vertical-align: middle;\n",
       "    }\n",
       "\n",
       "    .dataframe tbody tr th {\n",
       "        vertical-align: top;\n",
       "    }\n",
       "\n",
       "    .dataframe thead th {\n",
       "        text-align: right;\n",
       "    }\n",
       "</style>\n",
       "<table border=\"1\" class=\"dataframe\">\n",
       "  <thead>\n",
       "    <tr style=\"text-align: right;\">\n",
       "      <th></th>\n",
       "      <th>inputs.question</th>\n",
       "      <th>outputs.output</th>\n",
       "      <th>error</th>\n",
       "      <th>reference.answer</th>\n",
       "      <th>feedback.correctness</th>\n",
       "      <th>feedback.helpfulness</th>\n",
       "      <th>feedback.coherence</th>\n",
       "      <th>execution_time</th>\n",
       "      <th>example_id</th>\n",
       "      <th>id</th>\n",
       "    </tr>\n",
       "  </thead>\n",
       "  <tbody>\n",
       "    <tr>\n",
       "      <th>0</th>\n",
       "      <td>How IND go into effect and what happen if inve...</td>\n",
       "      <td>An Investigational New Drug Application (IND) ...</td>\n",
       "      <td>None</td>\n",
       "      <td>An IND goes into effect 30 days after the FDA ...</td>\n",
       "      <td>0</td>\n",
       "      <td>0</td>\n",
       "      <td>1</td>\n",
       "      <td>3.064751</td>\n",
       "      <td>189a374a-4f24-4d7c-bcc0-838b345ac812</td>\n",
       "      <td>e36cfb75-6d92-4b82-8bd7-852607a605c1</td>\n",
       "    </tr>\n",
       "    <tr>\n",
       "      <th>1</th>\n",
       "      <td>What role does 21 CFR Part 312 play in the inv...</td>\n",
       "      <td>21 CFR Part 312 outlines the regulatory framew...</td>\n",
       "      <td>None</td>\n",
       "      <td>21 CFR Part 312 outlines the regulations for t...</td>\n",
       "      <td>1</td>\n",
       "      <td>0</td>\n",
       "      <td>1</td>\n",
       "      <td>3.069906</td>\n",
       "      <td>240ab4ed-ca86-4fdd-9f98-23d711198bce</td>\n",
       "      <td>a502fd71-6ccb-45a2-b77f-5373f0f485ba</td>\n",
       "    </tr>\n",
       "    <tr>\n",
       "      <th>2</th>\n",
       "      <td>What are the responsibilities of sponsors unde...</td>\n",
       "      <td>I don't know.</td>\n",
       "      <td>None</td>\n",
       "      <td>Under 21 CFR Part 312, sponsors have several r...</td>\n",
       "      <td>0</td>\n",
       "      <td>0</td>\n",
       "      <td>0</td>\n",
       "      <td>1.229251</td>\n",
       "      <td>14c7e1bd-32d2-43e6-9f10-09663567c78c</td>\n",
       "      <td>4bde5361-ba93-4525-befd-d884ac76a128</td>\n",
       "    </tr>\n",
       "    <tr>\n",
       "      <th>3</th>\n",
       "      <td>What are the responsibilities of a sponsor und...</td>\n",
       "      <td>Under 21 CFR Part 312, the responsibilities of...</td>\n",
       "      <td>None</td>\n",
       "      <td>Under 21 CFR Part 312, a sponsor has several r...</td>\n",
       "      <td>1</td>\n",
       "      <td>0</td>\n",
       "      <td>1</td>\n",
       "      <td>5.325389</td>\n",
       "      <td>d85f3a3d-5321-4958-bb3b-a96638993c41</td>\n",
       "      <td>8d83215c-c412-4d21-ad27-e5bfd258e229</td>\n",
       "    </tr>\n",
       "    <tr>\n",
       "      <th>4</th>\n",
       "      <td>How do the general requirements for the use of...</td>\n",
       "      <td>The general requirements for the use of an inv...</td>\n",
       "      <td>None</td>\n",
       "      <td>The general requirements for the use of an inv...</td>\n",
       "      <td>1</td>\n",
       "      <td>0</td>\n",
       "      <td>1</td>\n",
       "      <td>2.869378</td>\n",
       "      <td>5c3df2c3-0ef7-4bb4-a94a-117a1f0324bb</td>\n",
       "      <td>c3512c5d-103e-4731-84fa-280a8bc1c021</td>\n",
       "    </tr>\n",
       "    <tr>\n",
       "      <th>5</th>\n",
       "      <td>What are the general requirements for the use ...</td>\n",
       "      <td>The general requirements for the use of an inv...</td>\n",
       "      <td>None</td>\n",
       "      <td>According to 21 CFR Part 312, specifically § 3...</td>\n",
       "      <td>0</td>\n",
       "      <td>0</td>\n",
       "      <td>0</td>\n",
       "      <td>3.274460</td>\n",
       "      <td>914cf9e2-81b3-4c6f-bbe9-78d00321735d</td>\n",
       "      <td>ea84e0fc-b93c-4688-8dba-2be6d3cb6071</td>\n",
       "    </tr>\n",
       "    <tr>\n",
       "      <th>6</th>\n",
       "      <td>What are the general requirements for the use ...</td>\n",
       "      <td>According to 21 CFR Part 312, the general requ...</td>\n",
       "      <td>None</td>\n",
       "      <td>According to 21 CFR Part 312, the general requ...</td>\n",
       "      <td>0</td>\n",
       "      <td>0</td>\n",
       "      <td>0</td>\n",
       "      <td>3.276336</td>\n",
       "      <td>37e5cd28-e9e6-43e6-964e-d5b87676794f</td>\n",
       "      <td>c86c699f-8a84-46a2-9543-7a7be59b2ffb</td>\n",
       "    </tr>\n",
       "    <tr>\n",
       "      <th>7</th>\n",
       "      <td>Where should an Investigational New Drug Appli...</td>\n",
       "      <td>The Investigational New Drug Application for d...</td>\n",
       "      <td>None</td>\n",
       "      <td>An Investigational New Drug Application for dr...</td>\n",
       "      <td>1</td>\n",
       "      <td>1</td>\n",
       "      <td>1</td>\n",
       "      <td>2.548194</td>\n",
       "      <td>87e5e6f1-8878-49d5-a9b0-3d9f2b43ea93</td>\n",
       "      <td>b53e9ce0-d812-4c53-b19d-04c0b0f71282</td>\n",
       "    </tr>\n",
       "    <tr>\n",
       "      <th>8</th>\n",
       "      <td>What 21 CFR 312.42(b) say?</td>\n",
       "      <td>I don't know.</td>\n",
       "      <td>None</td>\n",
       "      <td>21 CFR 312.42(b) is part of the regulations co...</td>\n",
       "      <td>0</td>\n",
       "      <td>0</td>\n",
       "      <td>0</td>\n",
       "      <td>1.042214</td>\n",
       "      <td>3a59096f-ed26-4002-93b8-868b8a5f34c2</td>\n",
       "      <td>7f1c9382-9fef-477d-becb-b6c60ca7e5c2</td>\n",
       "    </tr>\n",
       "    <tr>\n",
       "      <th>9</th>\n",
       "      <td>What are the FDA requirements for an IND to go...</td>\n",
       "      <td>The FDA requirements for an IND to go into eff...</td>\n",
       "      <td>None</td>\n",
       "      <td>An IND goes into effect thirty days after FDA ...</td>\n",
       "      <td>1</td>\n",
       "      <td>1</td>\n",
       "      <td>1</td>\n",
       "      <td>2.352430</td>\n",
       "      <td>2d5d8fea-61f4-4b4d-8ac4-8ac7230734e9</td>\n",
       "      <td>25645520-b912-4807-b2b7-c97f2b23c52f</td>\n",
       "    </tr>\n",
       "    <tr>\n",
       "      <th>10</th>\n",
       "      <td>What does the FDA require for chemistry, manuf...</td>\n",
       "      <td>The FDA requires a section describing the comp...</td>\n",
       "      <td>None</td>\n",
       "      <td>The FDA requires a section describing the comp...</td>\n",
       "      <td>1</td>\n",
       "      <td>1</td>\n",
       "      <td>1</td>\n",
       "      <td>2.251252</td>\n",
       "      <td>9690e9fc-fa37-4a09-b208-2c463806e4bc</td>\n",
       "      <td>f71df535-806c-40ac-a4bb-2eb82813a2cd</td>\n",
       "    </tr>\n",
       "    <tr>\n",
       "      <th>11</th>\n",
       "      <td>What is an institutional review board?</td>\n",
       "      <td>An institutional review board (IRB) is defined...</td>\n",
       "      <td>None</td>\n",
       "      <td>An institutional review board (IRB), as define...</td>\n",
       "      <td>1</td>\n",
       "      <td>0</td>\n",
       "      <td>1</td>\n",
       "      <td>2.538811</td>\n",
       "      <td>15dc1822-959f-4778-98d2-daa81ca0504c</td>\n",
       "      <td>14505d5c-053f-4b4c-b9c8-eb301765cdf5</td>\n",
       "    </tr>\n",
       "  </tbody>\n",
       "</table>\n",
       "</div>"
      ],
      "text/plain": [
       "<ExperimentResults excellent-coffee-3>"
      ]
     },
     "execution_count": 44,
     "metadata": {},
     "output_type": "execute_result"
    }
   ],
   "source": [
    "evaluate(\n",
    "    rag_chain_augmented.invoke,\n",
    "    data=dataset_name,\n",
    "    evaluators=[\n",
    "        qa_evaluator,\n",
    "        labeled_helpfulness_evaluator,\n",
    "        coherence_evaluatorrag_chain_augmented\n",
    "    ],\n",
    "    metadata={\"revision_id\": \"coherence_chain\"},\n",
    ")"
   ]
  }
 ],
 "metadata": {
  "kernelspec": {
   "display_name": ".venv",
   "language": "python",
   "name": "python3"
  },
  "language_info": {
   "codemirror_mode": {
    "name": "ipython",
    "version": 3
   },
   "file_extension": ".py",
   "mimetype": "text/x-python",
   "name": "python",
   "nbconvert_exporter": "python",
   "pygments_lexer": "ipython3",
   "version": "3.13.1"
  }
 },
 "nbformat": 4,
 "nbformat_minor": 2
}
