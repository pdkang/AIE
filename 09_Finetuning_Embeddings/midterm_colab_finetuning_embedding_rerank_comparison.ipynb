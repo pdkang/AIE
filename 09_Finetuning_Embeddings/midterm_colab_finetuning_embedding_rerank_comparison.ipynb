{
  "cells": [
    {
      "cell_type": "markdown",
      "metadata": {
        "id": "ckbbj5diaHkg"
      },
      "source": [
        "# Fine-tuning Embeddings for RAG on Specific Data\n",
        "\n",
        "As we start our \"fine-tuning\" week, we'll start with the lowest hanging improvement one can do for RAG - which is:\n",
        "\n",
        "Fine-tuning embeddings!\n",
        "\n",
        "- 🤝 Breakout Room #1:\n",
        "  - Task 1: Dependencies and Boilerplate\n",
        "  - Task 2: Loading Data\n",
        "  - Task 3: Constructing a Fine-tuning Dataset\n",
        "  - Task 4: Fine-tuning `snowflake-arctic-embed-l`\n",
        "  - Task 5: Evaluating our Retriever\n",
        "\n"
      ]
    },
    {
      "cell_type": "markdown",
      "metadata": {
        "id": "-NkSaurzbpyS"
      },
      "source": [
        "## Task 1: Dependencies and Boilerplate\n",
        "\n",
        "We'll set up our `nest_asyncio` so we can leverage async loops in our Notebook.\n",
        "\n",
        "We'll also install the required libraries we'll be using today, and set up our OpenAI API key!"
      ]
    },
    {
      "cell_type": "markdown",
      "metadata": {
        "id": "9c_EUibmcDU3"
      },
      "source": [
        "### Nest Asyncio"
      ]
    },
    {
      "cell_type": "code",
      "execution_count": null,
      "metadata": {
        "id": "zq-6s7LbPnKH"
      },
      "outputs": [],
      "source": [
        "import nest_asyncio\n",
        "\n",
        "nest_asyncio.apply()"
      ]
    },
    {
      "cell_type": "markdown",
      "metadata": {
        "id": "R8uFz8RVcFFu"
      },
      "source": [
        "### Install Dependencies\n",
        "\n",
        ">> NOTE: You do not need to do these steps if you are running this notebook locally with `uv`."
      ]
    },
    {
      "cell_type": "code",
      "execution_count": null,
      "metadata": {
        "colab": {
          "base_uri": "https://localhost:8080/"
        },
        "id": "ulZIBA1ZoSsV",
        "outputId": "e642813c-c5c3-4b22-ec31-915daa2ae5c1"
      },
      "outputs": [
        {
          "output_type": "stream",
          "name": "stdout",
          "text": [
            "\u001b[?25l   \u001b[90m━━━━━━━━━━━━━━━━━━━━━━━━━━━━━━━━━━━━━━━━\u001b[0m \u001b[32m0.0/60.9 kB\u001b[0m \u001b[31m?\u001b[0m eta \u001b[36m-:--:--\u001b[0m\r\u001b[2K   \u001b[90m━━━━━━━━━━━━━━━━━━━━━━━━━━━━━━━━━━━━━━━━\u001b[0m \u001b[32m60.9/60.9 kB\u001b[0m \u001b[31m3.1 MB/s\u001b[0m eta \u001b[36m0:00:00\u001b[0m\n",
            "\u001b[?25h\u001b[?25l   \u001b[90m━━━━━━━━━━━━━━━━━━━━━━━━━━━━━━━━━━━━━━━━\u001b[0m \u001b[32m0.0/417.1 kB\u001b[0m \u001b[31m?\u001b[0m eta \u001b[36m-:--:--\u001b[0m\r\u001b[2K   \u001b[90m━━━━━━━━━━━━━━━━━━━━━━━━━━━━━━━━━━━━━━━━\u001b[0m \u001b[32m417.1/417.1 kB\u001b[0m \u001b[31m24.8 MB/s\u001b[0m eta \u001b[36m0:00:00\u001b[0m\n",
            "\u001b[?25h\u001b[?25l   \u001b[90m━━━━━━━━━━━━━━━━━━━━━━━━━━━━━━━━━━━━━━━━\u001b[0m \u001b[32m0.0/1.0 MB\u001b[0m \u001b[31m?\u001b[0m eta \u001b[36m-:--:--\u001b[0m\r\u001b[2K   \u001b[90m━━━━━━━━━━━━━━━━━━━━━━━━━━━━━━━━━━━━━━━━\u001b[0m \u001b[32m1.0/1.0 MB\u001b[0m \u001b[31m45.9 MB/s\u001b[0m eta \u001b[36m0:00:00\u001b[0m\n",
            "\u001b[2K   \u001b[90m━━━━━━━━━━━━━━━━━━━━━━━━━━━━━━━━━━━━━━━━\u001b[0m \u001b[32m2.5/2.5 MB\u001b[0m \u001b[31m68.8 MB/s\u001b[0m eta \u001b[36m0:00:00\u001b[0m\n",
            "\u001b[2K   \u001b[90m━━━━━━━━━━━━━━━━━━━━━━━━━━━━━━━━━━━━━━━━\u001b[0m \u001b[32m1.2/1.2 MB\u001b[0m \u001b[31m46.9 MB/s\u001b[0m eta \u001b[36m0:00:00\u001b[0m\n",
            "\u001b[2K   \u001b[90m━━━━━━━━━━━━━━━━━━━━━━━━━━━━━━━━━━━━━━━━\u001b[0m \u001b[32m50.9/50.9 kB\u001b[0m \u001b[31m2.7 MB/s\u001b[0m eta \u001b[36m0:00:00\u001b[0m\n",
            "\u001b[2K   \u001b[90m━━━━━━━━━━━━━━━━━━━━━━━━━━━━━━━━━━━━━━━━\u001b[0m \u001b[32m363.4/363.4 MB\u001b[0m \u001b[31m3.1 MB/s\u001b[0m eta \u001b[36m0:00:00\u001b[0m\n",
            "\u001b[2K   \u001b[90m━━━━━━━━━━━━━━━━━━━━━━━━━━━━━━━━━━━━━━━━\u001b[0m \u001b[32m13.8/13.8 MB\u001b[0m \u001b[31m87.5 MB/s\u001b[0m eta \u001b[36m0:00:00\u001b[0m\n",
            "\u001b[2K   \u001b[90m━━━━━━━━━━━━━━━━━━━━━━━━━━━━━━━━━━━━━━━━\u001b[0m \u001b[32m24.6/24.6 MB\u001b[0m \u001b[31m88.4 MB/s\u001b[0m eta \u001b[36m0:00:00\u001b[0m\n",
            "\u001b[2K   \u001b[90m━━━━━━━━━━━━━━━━━━━━━━━━━━━━━━━━━━━━━━━━\u001b[0m \u001b[32m883.7/883.7 kB\u001b[0m \u001b[31m36.8 MB/s\u001b[0m eta \u001b[36m0:00:00\u001b[0m\n",
            "\u001b[2K   \u001b[90m━━━━━━━━━━━━━━━━━━━━━━━━━━━━━━━━━━━━━━━━\u001b[0m \u001b[32m664.8/664.8 MB\u001b[0m \u001b[31m2.2 MB/s\u001b[0m eta \u001b[36m0:00:00\u001b[0m\n",
            "\u001b[2K   \u001b[90m━━━━━━━━━━━━━━━━━━━━━━━━━━━━━━━━━━━━━━━━\u001b[0m \u001b[32m211.5/211.5 MB\u001b[0m \u001b[31m5.0 MB/s\u001b[0m eta \u001b[36m0:00:00\u001b[0m\n",
            "\u001b[2K   \u001b[90m━━━━━━━━━━━━━━━━━━━━━━━━━━━━━━━━━━━━━━━━\u001b[0m \u001b[32m56.3/56.3 MB\u001b[0m \u001b[31m40.1 MB/s\u001b[0m eta \u001b[36m0:00:00\u001b[0m\n",
            "\u001b[2K   \u001b[90m━━━━━━━━━━━━━━━━━━━━━━━━━━━━━━━━━━━━━━━━\u001b[0m \u001b[32m127.9/127.9 MB\u001b[0m \u001b[31m19.2 MB/s\u001b[0m eta \u001b[36m0:00:00\u001b[0m\n",
            "\u001b[2K   \u001b[90m━━━━━━━━━━━━━━━━━━━━━━━━━━━━━━━━━━━━━━━━\u001b[0m \u001b[32m207.5/207.5 MB\u001b[0m \u001b[31m5.0 MB/s\u001b[0m eta \u001b[36m0:00:00\u001b[0m\n",
            "\u001b[2K   \u001b[90m━━━━━━━━━━━━━━━━━━━━━━━━━━━━━━━━━━━━━━━━\u001b[0m \u001b[32m21.1/21.1 MB\u001b[0m \u001b[31m107.4 MB/s\u001b[0m eta \u001b[36m0:00:00\u001b[0m\n",
            "\u001b[?25h"
          ]
        }
      ],
      "source": [
        "pip install -qU langchain_openai langchain_huggingface langchain_core langchain langchain_community langchain-text-splitters"
      ]
    },
    {
      "cell_type": "code",
      "execution_count": null,
      "metadata": {
        "colab": {
          "base_uri": "https://localhost:8080/"
        },
        "id": "3GFD7B-tOCrx",
        "outputId": "e4fa65b1-a48b-464f-b894-c6dd6027e67d"
      },
      "outputs": [
        {
          "output_type": "stream",
          "name": "stdout",
          "text": [
            "\u001b[2K   \u001b[90m━━━━━━━━━━━━━━━━━━━━━━━━━━━━━━━━━━━━━━━━\u001b[0m \u001b[32m472.8/472.8 kB\u001b[0m \u001b[31m17.2 MB/s\u001b[0m eta \u001b[36m0:00:00\u001b[0m\n",
            "\u001b[2K   \u001b[90m━━━━━━━━━━━━━━━━━━━━━━━━━━━━━━━━━━━━━━━━\u001b[0m \u001b[32m30.7/30.7 MB\u001b[0m \u001b[31m24.1 MB/s\u001b[0m eta \u001b[36m0:00:00\u001b[0m\n",
            "\u001b[2K   \u001b[90m━━━━━━━━━━━━━━━━━━━━━━━━━━━━━━━━━━━━━━━━\u001b[0m \u001b[32m20.0/20.0 MB\u001b[0m \u001b[31m33.1 MB/s\u001b[0m eta \u001b[36m0:00:00\u001b[0m\n",
            "\u001b[2K   \u001b[90m━━━━━━━━━━━━━━━━━━━━━━━━━━━━━━━━━━━━━━━━\u001b[0m \u001b[32m165.1/165.1 kB\u001b[0m \u001b[31m11.0 MB/s\u001b[0m eta \u001b[36m0:00:00\u001b[0m\n",
            "\u001b[?25h"
          ]
        }
      ],
      "source": [
        " pip install -qU faiss-cpu python-pptx==1.0.2 nltk==3.9.1 pymupdf beautifulsoup4 lxml"
      ]
    },
    {
      "cell_type": "markdown",
      "metadata": {
        "id": "0FM-eUlrcI8a"
      },
      "source": [
        "### Provide OpenAI API Key"
      ]
    },
    {
      "cell_type": "code",
      "execution_count": null,
      "metadata": {
        "colab": {
          "base_uri": "https://localhost:8080/"
        },
        "id": "wA_mlurVqtrp",
        "outputId": "87b42d91-2fd7-442f-cb9b-5491d304a8d5"
      },
      "outputs": [
        {
          "name": "stdout",
          "output_type": "stream",
          "text": [
            "Enter Your OpenAI API Key: ··········\n"
          ]
        }
      ],
      "source": [
        "import os\n",
        "import getpass\n",
        "\n",
        "os.environ[\"OPENAI_API_KEY\"] = getpass.getpass(\"Enter Your OpenAI API Key: \")"
      ]
    },
    {
      "cell_type": "markdown",
      "metadata": {
        "id": "TFZ217gCDVTr"
      },
      "source": [
        "## Task 2: Loading Data\n"
      ]
    },
    {
      "cell_type": "code",
      "execution_count": null,
      "metadata": {
        "colab": {
          "base_uri": "https://localhost:8080/"
        },
        "id": "2yrFxnTg9Y6d",
        "outputId": "9b84c9f5-5a40-4f0b-b7a2-ba434dbcf910"
      },
      "outputs": [
        {
          "output_type": "stream",
          "name": "stdout",
          "text": [
            "\u001b[?25l   \u001b[90m━━━━━━━━━━━━━━━━━━━━━━━━━━━━━━━━━━━━━━━━\u001b[0m \u001b[32m0.0/302.3 kB\u001b[0m \u001b[31m?\u001b[0m eta \u001b[36m-:--:--\u001b[0m\r\u001b[2K   \u001b[90m━━━━━━━━━━━━━━━━━━━━━━━━━━━━━━━━━━━━━━━━\u001b[0m \u001b[32m302.3/302.3 kB\u001b[0m \u001b[31m10.7 MB/s\u001b[0m eta \u001b[36m0:00:00\u001b[0m\n",
            "\u001b[?25h"
          ]
        }
      ],
      "source": [
        "!pip install -qU pypdf\n",
        "# uv add pypdf"
      ]
    },
    {
      "cell_type": "code",
      "execution_count": null,
      "metadata": {
        "id": "DHJhTzsvN75t"
      },
      "outputs": [],
      "source": [
        "from langchain_community.document_loaders import DirectoryLoader, PyPDFLoader\n",
        "\n",
        "path = \"pdf/\"\n",
        "text_loader = DirectoryLoader(path, loader_cls=PyPDFLoader)\n",
        "docs = text_loader.load()"
      ]
    },
    {
      "cell_type": "markdown",
      "metadata": {
        "id": "-UbKa6-V0nvp"
      },
      "source": [
        "Next, we'll set up a classic naive chunking strategy as we only care that the documents get parsed into chunks that we can generate synthetic questions about."
      ]
    },
    {
      "cell_type": "code",
      "execution_count": null,
      "metadata": {
        "id": "NsPrOOqXOsNX"
      },
      "outputs": [],
      "source": [
        "from langchain_text_splitters import RecursiveCharacterTextSplitter\n",
        "\n",
        "text_splitter = RecursiveCharacterTextSplitter(\n",
        "    chunk_size = 500, #750\n",
        "    chunk_overlap  = 50, #20\n",
        "    length_function = len\n",
        ")"
      ]
    },
    {
      "cell_type": "markdown",
      "metadata": {
        "id": "lf_PoX7l09Rg"
      },
      "source": [
        "Next we can load/split these documents as follows.\n",
        "\n",
        ">> NOTE: You may need to run this cell twice to get it to work."
      ]
    },
    {
      "cell_type": "code",
      "execution_count": null,
      "metadata": {
        "id": "OMYPX6N6Os8M"
      },
      "outputs": [],
      "source": [
        "training_documents = text_splitter.split_documents(text_loader.load())"
      ]
    },
    {
      "cell_type": "code",
      "execution_count": null,
      "metadata": {
        "colab": {
          "base_uri": "https://localhost:8080/"
        },
        "id": "PAozuMoNOvnp",
        "outputId": "ff85a269-4b92-47be-81a5-a27fc20651ea"
      },
      "outputs": [
        {
          "output_type": "execute_result",
          "data": {
            "text/plain": [
              "423"
            ]
          },
          "metadata": {},
          "execution_count": 10
        }
      ],
      "source": [
        "len(training_documents)"
      ]
    },
    {
      "cell_type": "markdown",
      "metadata": {
        "id": "0yE2TFIq1BuJ"
      },
      "source": [
        "Next, we're going to associate each of our chunks with a unique identifier."
      ]
    },
    {
      "cell_type": "code",
      "execution_count": null,
      "metadata": {
        "id": "AwyIForybIpo"
      },
      "outputs": [],
      "source": [
        "import uuid\n",
        "\n",
        "id_set = set()\n",
        "\n",
        "for document in training_documents:\n",
        "  id = str(uuid.uuid4())\n",
        "  while id in id_set:\n",
        "    id = uuid.uuid4()\n",
        "  id_set.add(id)\n",
        "  document.metadata[\"id\"] = id"
      ]
    },
    {
      "cell_type": "markdown",
      "metadata": {
        "id": "PJnL4oNg341U"
      },
      "source": [
        "Next, we'll simply use naive Python slicing to create a training, test, and validation set to prepare our data for the next step."
      ]
    },
    {
      "cell_type": "code",
      "execution_count": null,
      "metadata": {
        "id": "MTS4GTSEcnG4"
      },
      "outputs": [],
      "source": [
        "training_split_documents = training_documents[:len(training_documents) - 100]\n",
        "val_split_documents = training_documents[len(training_documents) - 100:423-50]\n",
        "test_split_documents = training_documents[423-50:]"
      ]
    },
    {
      "cell_type": "markdown",
      "metadata": {
        "id": "tzlvKbONDWvQ"
      },
      "source": [
        "## Task 3: Constructing a Fine-tuning Dataset\n",
        "\n",
        "Using the nodes we created above, we can finally start constructing a fine-tuning dataset utilizing OpenAI's `gpt-4o-mini` (released [today](https://openai.com/index/gpt-4o-mini-advancing-cost-efficient-intelligence/)).\n",
        "\n",
        "The basic idea here is straightforward enough:\n",
        "\n",
        "1. We look at a document\n",
        "2. We generate questions that could be answered by that node\n",
        "\n",
        "This gives us a number of question/context pairs that we can use to fine-tune our Embeddings model."
      ]
    },
    {
      "cell_type": "code",
      "execution_count": null,
      "metadata": {
        "id": "_EWfmIscMrvg"
      },
      "outputs": [],
      "source": [
        "from langchain_openai import ChatOpenAI\n",
        "\n",
        "qa_chat_model = ChatOpenAI(\n",
        "    model=\"gpt-4o-mini\",\n",
        "    temperature=0\n",
        ")"
      ]
    },
    {
      "cell_type": "markdown",
      "metadata": {
        "id": "8-hLnsSB6Y-S"
      },
      "source": [
        "We'll create a simple Question Generation prompt to query `gpt-4o-mini` to generate Questions for each retrieved context."
      ]
    },
    {
      "cell_type": "code",
      "execution_count": null,
      "metadata": {
        "id": "diEWcw00NMSj"
      },
      "outputs": [],
      "source": [
        "from langchain_core.prompts import ChatPromptTemplate\n",
        "\n",
        "qa_prompt = \"\"\"\\\n",
        "Given the following context, you must generate questions based on only the provided context.\n",
        "\n",
        "You are to generate {n_questions} questions which should be provided in the following format:\n",
        "\n",
        "1. QUESTION #1\n",
        "2. QUESTION #2\n",
        "...\n",
        "\n",
        "Context:\n",
        "{context}\n",
        "\"\"\"\n",
        "\n",
        "qa_prompt_template = ChatPromptTemplate.from_template(qa_prompt)"
      ]
    },
    {
      "cell_type": "markdown",
      "metadata": {
        "id": "u87Izpgm6_fk"
      },
      "source": [
        "We'll create a simple chain to query the LLM!"
      ]
    },
    {
      "cell_type": "code",
      "execution_count": null,
      "metadata": {
        "id": "ggl9SSjiNbpG"
      },
      "outputs": [],
      "source": [
        "question_generation_chain = qa_prompt_template | qa_chat_model"
      ]
    },
    {
      "cell_type": "markdown",
      "metadata": {
        "id": "4duvHirh7DQv"
      },
      "source": [
        "There's a lot going on in this function - let's take a deeper look:\n",
        "\n",
        "1. First, we provide a list of documents and a number of questions\n",
        "2. We, for each document in our list, generate `n_questions` of questions.\n",
        "3. We then associate those questions and contexts via a `UUID`.\n",
        "\n",
        "> NOTE: The reason we're doing this `UUID` association is for ease of use later in the notebook."
      ]
    },
    {
      "cell_type": "code",
      "execution_count": null,
      "metadata": {
        "id": "U4yi4NfTCnLc"
      },
      "outputs": [],
      "source": [
        "import tqdm\n",
        "def create_questions(documents, n_questions):\n",
        "  questions = {}\n",
        "  relevant_docs = {}\n",
        "  for document in tqdm.tqdm(documents):\n",
        "    document_content = {\"context\" : document.page_content, \"questions\" : []}\n",
        "    questions_generated = question_generation_chain.invoke({\"context\": document.page_content, \"n_questions\": n_questions})\n",
        "    for question in questions_generated.content.split(\"\\n\"):\n",
        "      question_id = str(uuid.uuid4())\n",
        "      questions[question_id] = \"\".join(question.split(\".\")[1:]).strip()\n",
        "      relevant_docs[question_id] = [document.metadata[\"id\"]]\n",
        "  return questions, relevant_docs"
      ]
    },
    {
      "cell_type": "markdown",
      "metadata": {
        "id": "6bo0zW5k9Poq"
      },
      "source": [
        "## Task 4: Evaluating our Retriever\n",
        "\n",
        "Now that we have fine-tuned our retriever - let's see if it's worthwhile!\n",
        "\n",
        "We'll start with some basic imports."
      ]
    },
    {
      "cell_type": "code",
      "execution_count": null,
      "metadata": {
        "id": "Vq-2oqU0wHFr"
      },
      "outputs": [],
      "source": [
        "import pandas as pd\n",
        "\n",
        "from langchain_community.vectorstores import FAISS\n",
        "from langchain_openai.embeddings import OpenAIEmbeddings\n",
        "from langchain_core.documents import Document"
      ]
    },
    {
      "cell_type": "markdown",
      "metadata": {
        "id": "5jD0qrIh9X8f"
      },
      "source": [
        "Now we'll define a function that will help us evaluate our retrieval process.\n",
        "\n",
        "> NOTE: We're assuming 1 correct document in a \"hit\"."
      ]
    },
    {
      "cell_type": "markdown",
      "metadata": {
        "id": "4Ra-mh0L96dQ"
      },
      "source": [
        "### `Snowflake/snowflake-arctic-embed-m` (base)"
      ]
    },
    {
      "cell_type": "code",
      "source": [
        "!pip install opencv-python-headless"
      ],
      "metadata": {
        "colab": {
          "base_uri": "https://localhost:8080/"
        },
        "id": "fDWQeHFTozcM",
        "outputId": "0e57b68c-83a8-45b5-9497-b588c4c5842b"
      },
      "execution_count": null,
      "outputs": [
        {
          "output_type": "stream",
          "name": "stdout",
          "text": [
            "Requirement already satisfied: opencv-python-headless in /usr/local/lib/python3.11/dist-packages (4.11.0.86)\n",
            "Requirement already satisfied: numpy>=1.21.2 in /usr/local/lib/python3.11/dist-packages (from opencv-python-headless) (2.0.2)\n"
          ]
        }
      ]
    },
    {
      "cell_type": "code",
      "execution_count": null,
      "metadata": {
        "colab": {
          "base_uri": "https://localhost:8080/",
          "height": 385,
          "referenced_widgets": [
            "3c10058950db4229b5b0c4053761754b",
            "c4adf8ad61264dd18f522c6d45022ea3",
            "f2b13eb80cdd410e846356f4591e3283",
            "c8d5b4fea2814e03b6e90df77ba4b391",
            "d89d41acaee046f89598bb777f36dada",
            "d0d7b56851ca41999636432646587b4f",
            "035013c368cf4b90b83a654d65948faa",
            "dcd77ee6e71d4f8097961ad52f884eb5",
            "9e7f98ac269b48d79e545771dd9d8f47",
            "e27f2564983046239866c848b2f848a5",
            "b6d715d7a2974100979a5e4bcf3f76c6",
            "6b3133d670cf4243ad930a8acac247ab",
            "e484b0601df2474f992fb520418c87e4",
            "1c2004ed04aa49e4ad88fc6f93b3da60",
            "d35a6c77adfe45e6b9f4836c18461eaa",
            "cee14dd0163c42cf98ccea2d18e7b8bc",
            "040bf65511f94c1dae84027a170e55be",
            "52482bce91bd45cd95a959a6c6aaa334",
            "2f22a5d6cb1a499bbc3aa0aaf2d170ce",
            "b04090c21d144cdc99327d47a5e4ee46",
            "aaec33212fbf4c0aa11ecf5681056f23",
            "28e43cb0978e4e8eb1d579fc162c3b7d",
            "3db119bee736405e90298c9d488beb11",
            "263691317ae442719e457b7d8137c407",
            "3bb1cea4a3a842319498a131a10c4aef",
            "42f979bd67fa4f2e96ad896671bb2f1d",
            "c54855366c3543179d385deb5ae66fa8",
            "7e920431495b486b8dae4197c5de3819",
            "238514f0025d40b482182c62ecbd18d8",
            "c889dbf8161649189b44663e46f4d913",
            "cd1feaa900f045aea9138f39cc31245f",
            "16dca5b580984529aacde4659d2524fa",
            "4eaf444da0454b2083f5b59dd99e1f9b",
            "86cac70a0b874b37a26efa069c5fa4b9",
            "534827a8868444adaed3e7daac0dbbb2",
            "9d60a6c4fee34448828c8bd9ceac2d76",
            "78bd2fc07e074a658316c9cc36ff3e48",
            "9cbb634eb41941a3b1d9a2fef7e91941",
            "ea395a0d2e1b4903b16089662ab388c1",
            "b3a1648a7e84469f8dd825e4708557d8",
            "503260fbdab94496b5f7dba554d72c46",
            "15898d49fc5d46d7bace675873eab945",
            "a48b771ececf4ac688cb3d18eded99f4",
            "59416862ec3b4dc89c33670024bb9a75",
            "be9563f81b3d49b3952c62eb43e22441",
            "b4d9c02f21b54fe1a0dbfed52ad161f0",
            "d4f2f5c9360748e1bea6c6921ec939c0",
            "cdea126be92b406b88bf6ea6610d82fc",
            "f5eb467b72cf40f0a19538cedc28aa2c",
            "2c80c4f1c79247fa855c7b8cad58b0f5",
            "9a55451aeedd416280a854804c4355e2",
            "c7f3b61b067a45ecbedb4739b1d68958",
            "a04d198377234ca8a9a9bf561651ef7b",
            "adf3c431f2204817aeb0436336632225",
            "ed5fa2cad6044b0ca1818baf5818a32f",
            "f873070beca44bf795b7858b8ff52172",
            "0a5285bf613049ba854890efc08392c2",
            "7c6d6d760db74d2b86e83b817697c0c2",
            "c50729bb9c7d4d4095e76a5210349a34",
            "dd722bf2c86f4fce8c88f929820bcd72",
            "a0f4369bb4fc4068ada9851038d567b4",
            "cd7633293620470c8a31b471ec2411dc",
            "1de69869b8d04ea58541acdc323d30c7",
            "1e1bd7a889d84a4da19d53ee32d37675",
            "4a1765d9766e451c959d52963ef1cc95",
            "6f49a16f2c0542b18c63f3aa0826bb01"
          ]
        },
        "id": "OEskxwvFypHe",
        "outputId": "aaac95ea-7ffb-445b-e5b2-307f773d5e44"
      },
      "outputs": [
        {
          "output_type": "stream",
          "name": "stderr",
          "text": [
            "/usr/local/lib/python3.11/dist-packages/huggingface_hub/utils/_auth.py:94: UserWarning: \n",
            "The secret `HF_TOKEN` does not exist in your Colab secrets.\n",
            "To authenticate with the Hugging Face Hub, create a token in your settings tab (https://huggingface.co/settings/tokens), set it as secret in your Google Colab and restart your session.\n",
            "You will be able to reuse this secret in all of your notebooks.\n",
            "Please note that authentication is recommended but still optional to access public models or datasets.\n",
            "  warnings.warn(\n",
            "WARNING:sentence_transformers.SentenceTransformer:No sentence-transformers model found with name Snowflake/snowflake-arctic-embed-m. Creating a new one with mean pooling.\n"
          ]
        },
        {
          "output_type": "display_data",
          "data": {
            "text/plain": [
              "config.json:   0%|          | 0.00/738 [00:00<?, ?B/s]"
            ],
            "application/vnd.jupyter.widget-view+json": {
              "version_major": 2,
              "version_minor": 0,
              "model_id": "3c10058950db4229b5b0c4053761754b"
            }
          },
          "metadata": {}
        },
        {
          "output_type": "display_data",
          "data": {
            "text/plain": [
              "model.safetensors:   0%|          | 0.00/436M [00:00<?, ?B/s]"
            ],
            "application/vnd.jupyter.widget-view+json": {
              "version_major": 2,
              "version_minor": 0,
              "model_id": "6b3133d670cf4243ad930a8acac247ab"
            }
          },
          "metadata": {}
        },
        {
          "output_type": "stream",
          "name": "stderr",
          "text": [
            "Some weights of BertModel were not initialized from the model checkpoint at Snowflake/snowflake-arctic-embed-m and are newly initialized: ['pooler.dense.bias', 'pooler.dense.weight']\n",
            "You should probably TRAIN this model on a down-stream task to be able to use it for predictions and inference.\n"
          ]
        },
        {
          "output_type": "display_data",
          "data": {
            "text/plain": [
              "tokenizer_config.json:   0%|          | 0.00/1.38k [00:00<?, ?B/s]"
            ],
            "application/vnd.jupyter.widget-view+json": {
              "version_major": 2,
              "version_minor": 0,
              "model_id": "3db119bee736405e90298c9d488beb11"
            }
          },
          "metadata": {}
        },
        {
          "output_type": "display_data",
          "data": {
            "text/plain": [
              "vocab.txt:   0%|          | 0.00/232k [00:00<?, ?B/s]"
            ],
            "application/vnd.jupyter.widget-view+json": {
              "version_major": 2,
              "version_minor": 0,
              "model_id": "86cac70a0b874b37a26efa069c5fa4b9"
            }
          },
          "metadata": {}
        },
        {
          "output_type": "display_data",
          "data": {
            "text/plain": [
              "tokenizer.json:   0%|          | 0.00/712k [00:00<?, ?B/s]"
            ],
            "application/vnd.jupyter.widget-view+json": {
              "version_major": 2,
              "version_minor": 0,
              "model_id": "be9563f81b3d49b3952c62eb43e22441"
            }
          },
          "metadata": {}
        },
        {
          "output_type": "display_data",
          "data": {
            "text/plain": [
              "special_tokens_map.json:   0%|          | 0.00/695 [00:00<?, ?B/s]"
            ],
            "application/vnd.jupyter.widget-view+json": {
              "version_major": 2,
              "version_minor": 0,
              "model_id": "f873070beca44bf795b7858b8ff52172"
            }
          },
          "metadata": {}
        }
      ],
      "source": [
        "from langchain_huggingface import HuggingFaceEmbeddings\n",
        "\n",
        "huggingface_embeddings = HuggingFaceEmbeddings(model_name=\"Snowflake/snowflake-arctic-embed-m\")\n"
      ]
    },
    {
      "cell_type": "markdown",
      "metadata": {
        "id": "lcR3-0s19_lu"
      },
      "source": [
        "### `Snowflake/snowflake-arctic-embed-m` (fine-tuned)"
      ]
    },
    {
      "cell_type": "code",
      "execution_count": null,
      "metadata": {
        "colab": {
          "base_uri": "https://localhost:8080/",
          "height": 424,
          "referenced_widgets": [
            "c7a6dc9537854380a9503a1f4332d209",
            "aa7fca48fc9d4848a7a13e5234da5f3c",
            "97072f70b12846c2961844b97b2208a2",
            "6b1133c911e24b35bf63cc8bda42aadb",
            "9de21c22529540409c26cb4619df534d",
            "b15ef0f59fca4482b623c1916bf9e9ac",
            "19326f231ea74dec881b06454208cce2",
            "176288b23d614e6090a1cbe31e766949",
            "06df56fffbd34b07abafbbf0959397ef",
            "ba1a9769f0ef4c83a6d0c8597019ffc7",
            "ab0e981fa020422db7b6d75ebf7580e5",
            "a4801ee892e84eb1bee4e73ebd794000",
            "d0503753cc05487cbd5e2bbaa203a62a",
            "4c7e7b14ec2c4a38be88c27c394d6327",
            "fd5d75ed1a534f52bcf5fe6453a102fd",
            "561aa7bea28842fab1961d8cc58a1eba",
            "ea44bc363694478c82ab8bb48e0c2867",
            "dab450c59b8643bb88443f7270223e6c",
            "43cc174edccd4994a9dfd27594eead1c",
            "ea353649b19d4a8db9f3ed2278af3fd3",
            "8055781f09a948429204527494bca260",
            "b4a7bfcb8daa47e1baef15173f3e4fcf",
            "2ba121f8c78f4473ac008a23e95b8cf5",
            "99c37fed832c4f30b8982c2d40cc7e61",
            "89c5ee31550a481a9820a4afdd4a0e05",
            "9c4e944b83c042e88e8abcf390158de0",
            "6b087f21b197421d96a7a176d3b1b7d2",
            "cbb687d426a6427f875d068150849ada",
            "b0491ede085e458e936da4fbfd2849cf",
            "489501eff5254eb1887ffe58432204be",
            "5a7bb6a183fb4203909676df9d5d9ca2",
            "b74d7673cdcc454c9a648f6f6a5d81eb",
            "54672fbf23b34b3fbb3952d29a2a5411",
            "43f9f4282a474ffbb2c32971112c8169",
            "552df31fde154449a46f072553da5d19",
            "aa1fd6cb33154b028bf28edacd86273e",
            "f6e4b86e62044107a64d6d66e215712d",
            "2d595978ff6c4a518c02661f82690b66",
            "8166403812574013b374b1dd5833abda",
            "0908bb8cf4fc42ae84cd7c57ac085c8d",
            "b9a9c8a60843443c938d75940485cf61",
            "9266334dcba54028bc6876f6f7425789",
            "fdb8db32679140f3ac28278b8e597808",
            "5c3e6561971748aaa1761379a686d45f",
            "a76b366d06ef4eac8a1fe70dfbdbee39",
            "844db728907349098761f15ed4b9e8bc",
            "20f19719345f41d6a88cd95731a0f30c",
            "f83782209ac84264b28673dd9dce9b51",
            "2a07cbe33ddd41efba52628e2d3419ca",
            "c914be631bd34401bddae57be660279a",
            "da504fe3faec4e2db46c8fc9f7fea964",
            "255feb8ccce14f9c8b1eea4447d28425",
            "668747d260fd48e3baacbd82a30e0bf0",
            "e3e98d04362c4ac9b688dbc993a437e7",
            "6c3823360a6041269a79fba66408fb7e",
            "e2ffd3d52a6a4af4958c90c22f5efa5b",
            "f23a7839423342f684704b9449edc38c",
            "90a6b98fd5624923acc3ae2569b8b0d9",
            "fe19ab25620a4c9db14cadeea5cd079a",
            "511ede2b940f451c811808d16e23e4a3",
            "f6571640785948daa91386dcefd4a3dd",
            "0b8bb0f6fe924f01a0a893e55b662933",
            "c99adbe761664f8b83929e36a4aa9277",
            "7bb08594ebfa4ca680a2ed67419a8abb",
            "f3ec93f5fca74ce79a1005e9a806c6ba",
            "45acefc2aad44332963a7ae31f05132c",
            "0ee9168b8e614f0a8335540f38d52712",
            "1a46714f77d64a199e230e4df75a13e0",
            "c702415b5a4f4412b4851e1087a49872",
            "ebacc33de98b4cf997a1f5b1b4fede1d",
            "1ea44a2771494ae89508a927ff71344c",
            "93767ff1340d480585df4ed750a57a7b",
            "b8cda9ea3a7a44f8bff99a4f41ec623a",
            "feddd0fd11a840ef8d3efcc221c75f65",
            "a745a4a2dfdf45c189a358d8707ba3e6",
            "2d8fb7aaff664ddc8e612ce34d6b868a",
            "71685cb9dbc54ed6b7e08b4f9f1b57b3",
            "fe6b7805c27d48b6a8dfd3359958503d",
            "4975bad261fc4b9d8979632d197ad104",
            "f211882a8326456299c1fe7c97c45418",
            "d2e5cf8d0bb347a0aacb208df7a850ea",
            "9a0fa688f8aa4e75aa08b6a3179f64b5",
            "dda766781b1d4362a8a34b6d80e08e3d",
            "9ca493e3aaea418d8d5c6b4f82aa1964",
            "152977fd7e7742fbaaf02500c51f29c0",
            "d77acea422cd4588bfe98fb010ce9544",
            "a44d3db8569c454fbf26c56ced58d0b4",
            "56a69d040a884efc99ce4a7bf354f68c",
            "de7767372b7e401b8a73757239dbdb1b",
            "dcdf3a5c60074fd7817e24d95a44ec23",
            "fea635bc672a49a0bb3eb2847e9ef614",
            "7f790bf54f7f4255a0f39365e1df422e",
            "e5419b52ce09483da7f40ffbd11cd2df",
            "dcb517ff011840feb33e721ace37010c",
            "33e2c43821aa4d02bc9de9e42e121212",
            "88ca15afe2c94bc799efe50816cf6d80",
            "bb9710618b8e4cb9bbffa99804547008",
            "30f027ab053f4e10b3e6e250f4fdcf65",
            "29c6bb1e39034459a5573efcc7657d6d",
            "216163dc06cd491eabdc3985d88676bc",
            "9f8f7a03ec5847a3828783e356f0fabe",
            "28cd4d22383e456b850597ddb808245f",
            "5dd67891836e434b8390621381a60162",
            "32c2a1b86234479685a7627a0b9d33c3",
            "90b16d779bba4c8989fa4e3fdc8e198f",
            "4005ad9d46df405a8ea4754f6db24840",
            "03cff5acf0a04dcdaba180d4f8f52766",
            "2386b0f0851d40e198683d6f9a2a0edf",
            "20dcc7c9f59d422f9d8f53d86f039685",
            "5785a3ea3b9c4456b6016b69c3e75b1f",
            "e304526846cc4c9ba542e3b84a523214",
            "27d79a6b7a5f4c1c90f64e89f7ca4c50",
            "67b0b1f9959e4280aecec2e634f3a197",
            "9b9d1653099c4cb59e914e2bbd765bfd",
            "76533ccabe3b45d5b5131b710f407ba7",
            "5be03a86d28840f1b7e4c2e134107a5c",
            "78213401375c4c8ebbee190a09b4db88",
            "9b14baec2bb149e0bdfa8bd1b641f773",
            "b7b48ab3208e436db2847f0e82939402",
            "b80e540ceb69447193ce6899f7a1f9d1",
            "04bd2495f22e4c80929cbec165e11183"
          ]
        },
        "id": "Ilse1LduzP1i",
        "outputId": "25b46cf7-b3dc-4fb7-999d-dc0098799c5c"
      },
      "outputs": [
        {
          "output_type": "display_data",
          "data": {
            "text/plain": [
              "modules.json:   0%|          | 0.00/349 [00:00<?, ?B/s]"
            ],
            "application/vnd.jupyter.widget-view+json": {
              "version_major": 2,
              "version_minor": 0,
              "model_id": "c7a6dc9537854380a9503a1f4332d209"
            }
          },
          "metadata": {}
        },
        {
          "output_type": "display_data",
          "data": {
            "text/plain": [
              "config_sentence_transformers.json:   0%|          | 0.00/281 [00:00<?, ?B/s]"
            ],
            "application/vnd.jupyter.widget-view+json": {
              "version_major": 2,
              "version_minor": 0,
              "model_id": "a4801ee892e84eb1bee4e73ebd794000"
            }
          },
          "metadata": {}
        },
        {
          "output_type": "display_data",
          "data": {
            "text/plain": [
              "README.md:   0%|          | 0.00/26.2k [00:00<?, ?B/s]"
            ],
            "application/vnd.jupyter.widget-view+json": {
              "version_major": 2,
              "version_minor": 0,
              "model_id": "2ba121f8c78f4473ac008a23e95b8cf5"
            }
          },
          "metadata": {}
        },
        {
          "output_type": "display_data",
          "data": {
            "text/plain": [
              "sentence_bert_config.json:   0%|          | 0.00/53.0 [00:00<?, ?B/s]"
            ],
            "application/vnd.jupyter.widget-view+json": {
              "version_major": 2,
              "version_minor": 0,
              "model_id": "43f9f4282a474ffbb2c32971112c8169"
            }
          },
          "metadata": {}
        },
        {
          "output_type": "display_data",
          "data": {
            "text/plain": [
              "config.json:   0%|          | 0.00/675 [00:00<?, ?B/s]"
            ],
            "application/vnd.jupyter.widget-view+json": {
              "version_major": 2,
              "version_minor": 0,
              "model_id": "a76b366d06ef4eac8a1fe70dfbdbee39"
            }
          },
          "metadata": {}
        },
        {
          "output_type": "display_data",
          "data": {
            "text/plain": [
              "model.safetensors:   0%|          | 0.00/436M [00:00<?, ?B/s]"
            ],
            "application/vnd.jupyter.widget-view+json": {
              "version_major": 2,
              "version_minor": 0,
              "model_id": "e2ffd3d52a6a4af4958c90c22f5efa5b"
            }
          },
          "metadata": {}
        },
        {
          "output_type": "stream",
          "name": "stderr",
          "text": [
            "Some weights of BertModel were not initialized from the model checkpoint at philipk22/ind312-ft-v0 and are newly initialized: ['pooler.dense.bias', 'pooler.dense.weight']\n",
            "You should probably TRAIN this model on a down-stream task to be able to use it for predictions and inference.\n"
          ]
        },
        {
          "output_type": "display_data",
          "data": {
            "text/plain": [
              "tokenizer_config.json:   0%|          | 0.00/1.41k [00:00<?, ?B/s]"
            ],
            "application/vnd.jupyter.widget-view+json": {
              "version_major": 2,
              "version_minor": 0,
              "model_id": "0ee9168b8e614f0a8335540f38d52712"
            }
          },
          "metadata": {}
        },
        {
          "output_type": "display_data",
          "data": {
            "text/plain": [
              "vocab.txt:   0%|          | 0.00/232k [00:00<?, ?B/s]"
            ],
            "application/vnd.jupyter.widget-view+json": {
              "version_major": 2,
              "version_minor": 0,
              "model_id": "fe6b7805c27d48b6a8dfd3359958503d"
            }
          },
          "metadata": {}
        },
        {
          "output_type": "display_data",
          "data": {
            "text/plain": [
              "tokenizer.json:   0%|          | 0.00/712k [00:00<?, ?B/s]"
            ],
            "application/vnd.jupyter.widget-view+json": {
              "version_major": 2,
              "version_minor": 0,
              "model_id": "de7767372b7e401b8a73757239dbdb1b"
            }
          },
          "metadata": {}
        },
        {
          "output_type": "display_data",
          "data": {
            "text/plain": [
              "special_tokens_map.json:   0%|          | 0.00/695 [00:00<?, ?B/s]"
            ],
            "application/vnd.jupyter.widget-view+json": {
              "version_major": 2,
              "version_minor": 0,
              "model_id": "216163dc06cd491eabdc3985d88676bc"
            }
          },
          "metadata": {}
        },
        {
          "output_type": "display_data",
          "data": {
            "text/plain": [
              "config.json:   0%|          | 0.00/296 [00:00<?, ?B/s]"
            ],
            "application/vnd.jupyter.widget-view+json": {
              "version_major": 2,
              "version_minor": 0,
              "model_id": "e304526846cc4c9ba542e3b84a523214"
            }
          },
          "metadata": {}
        }
      ],
      "source": [
        "finetune_embeddings = HuggingFaceEmbeddings(model_name=\"philipk22/ind312-ft-v0\")\n"
      ]
    },
    {
      "cell_type": "markdown",
      "metadata": {
        "id": "iegFM209mBk3"
      },
      "source": [
        "## Task 1: Vibe Checking the RAG Pipeline\n",
        "\n",
        "We're going to use our RAG pipeline to vibe check on some common phrases now that we've modified it!"
      ]
    },
    {
      "cell_type": "markdown",
      "metadata": {
        "id": "Xzg0AA5krgR4"
      },
      "source": [
        "### Creating New Chunks\n",
        "\n",
        "In order to try and evaluate our system more fairly, let's create new chunks that we will use to create our Vector Store."
      ]
    },
    {
      "cell_type": "code",
      "execution_count": null,
      "metadata": {
        "id": "KwQ2_LqNr0Tw"
      },
      "outputs": [],
      "source": [
        "text_splitter = RecursiveCharacterTextSplitter(\n",
        "    chunk_size = 500, # 600\n",
        "    chunk_overlap  = 50,\n",
        "    length_function = len\n",
        ")\n",
        "\n",
        "training_documents = text_splitter.split_documents(text_loader.load())"
      ]
    },
    {
      "cell_type": "markdown",
      "metadata": {
        "id": "gIdxahHXpP-c"
      },
      "source": [
        "### Base Chain\n",
        "\n",
        "We'll start by constructing our base chain, which will use the untrained retrieval model."
      ]
    },
    {
      "cell_type": "markdown",
      "metadata": {
        "id": "bOsxIXpNpWC2"
      },
      "source": [
        "#### R - Retrieval"
      ]
    },
    {
      "cell_type": "code",
      "execution_count": null,
      "metadata": {
        "id": "azIGIKYfmNCT"
      },
      "outputs": [],
      "source": [
        "#from langchain_community.vectorstores import FAISS\n",
        "\n",
        "#base_vectorstore = FAISS.from_documents(training_documents, huggingface_embeddings)\n",
        "#base_retriever = base_vectorstore.as_retriever(search_kwargs={\"k\": 6})"
      ]
    },
    {
      "cell_type": "code",
      "execution_count": null,
      "metadata": {
        "colab": {
          "base_uri": "https://localhost:8080/",
          "height": 232,
          "referenced_widgets": [
            "fab62e9aa5b2404c929835469f24bd2a",
            "75760b9d2e8745f1913152c221280db7",
            "4a3cd5ca512f4166b0a1bf17cdac150f",
            "6a2a2c82a54847878997bc610d520289",
            "ebb8b7368c3746e6b27281dc21041ca6",
            "78f6215cc4294c82a85e09c5952ada23",
            "626d52957025447e9b642b4fc8348261",
            "dc9b492be5e241ecb52a1dd480f1f1d4",
            "a687c9896cec48bc8d37a03a151e7e41",
            "2f3264d46efa46f6b514025fd63165c8",
            "2af0763482e249b59c5c94df17da159d",
            "0d57264a63074ed4a033818d729ef49d",
            "9cf8c776f5534700b0333b3ba8d3d58e",
            "5b520fe93fdc402dbb227a1b1603e790",
            "88811147e0b44139b0360d46441f9ea1",
            "942ffce8c0c543cfb565394ce4a6531f",
            "c623d1e848b34ed4bfbae2d9f97d1d3a",
            "f69e65f1f6304d7db9e7b25e4d427af9",
            "8b4e9e5ae8f54b9d9e1154193d1004a5",
            "2fa9358daac64261a20df9493c9eaee5",
            "23730e2df6f64598bb95142c5d1ac819",
            "acc42d7ed0514343bfb359e54eb8439c",
            "473f1bb28eb44ec3991253466907f960",
            "20c7547614f542138513a500acbd460c",
            "4b193f4241a04ad6898a363d041ba884",
            "6e12b370297d48869222bc32f2a56c6c",
            "76408aee11c845bfaf9f58b331cdb45e",
            "a2efe6767e334b20b190aa9e05fe7ced",
            "80650de5948f4ffeba8c5bb17871afea",
            "d667e0e3462446f7abdad1a9bc0c6e65",
            "3109c0236e9a46b1bb1fa956a54692f1",
            "6fa167574f8d4ca68c2873ec0aba3601",
            "777b0e97737c4b9faab14cd8d081e742",
            "27101d717d154896814996fe39081520",
            "591006aa22a04f0a99d5013e4cd8324d",
            "f26db35646da4ce78aecbc44b116d5c1",
            "5289729264d24ac5bfb814fe3cc69c9c",
            "c553f3575e364438add86eb7b40b4f83",
            "8cc625813c04493a9e0f03163fe3f79d",
            "5d3d23d71f844a51a84def6ec20e6f1e",
            "bdfbf6fee90640c09a1c9fd594e33778",
            "f949840c38d84afbb1727b3c7453bb32",
            "893699521c1c41878b19c9c98e019137",
            "6f88a2f50ff94188ae313186d72d636e",
            "9e533f796cfb424ea59a9b1dbf8315e2",
            "c70c325efa9b4fbbaea579ecd5874d8a",
            "a871feee14ea4a8f86ce5e78a289514e",
            "78ee736c3957419f99736658fd59bb0c",
            "b42016b6ed4d44e49fd047eb63f3d3b7",
            "d3fbd7773db14ec5b4d1df923c6989de",
            "b28fbe854b414bc1a3ed32213911f3e3",
            "9ed07c60cf88451dab3554e55dfb3678",
            "35073a11355343309cd4599647a42401",
            "caa95d35946246ff96ec1d840f4c3c7b",
            "d82b0ad0ad094e0ca4e03dcac9cd6b06"
          ]
        },
        "id": "qpxRtIW4mV4U",
        "outputId": "04493c2e-04bd-46ae-bac3-9d98fee5fe0d"
      },
      "outputs": [
        {
          "output_type": "stream",
          "name": "stderr",
          "text": [
            "<ipython-input-23-e5905bf4c587>:3: LangChainDeprecationWarning: The class `HuggingFaceBgeEmbeddings` was deprecated in LangChain 0.2.2 and will be removed in 1.0. An updated version of the class exists in the :class:`~langchain-huggingface package and should be used instead. To use it run `pip install -U :class:`~langchain-huggingface` and import as `from :class:`~langchain_huggingface import HuggingFaceEmbeddings``.\n",
            "  embedding_model = HuggingFaceBgeEmbeddings(\n"
          ]
        },
        {
          "output_type": "display_data",
          "data": {
            "text/plain": [
              "modules.json:   0%|          | 0.00/349 [00:00<?, ?B/s]"
            ],
            "application/vnd.jupyter.widget-view+json": {
              "version_major": 2,
              "version_minor": 0,
              "model_id": "fab62e9aa5b2404c929835469f24bd2a"
            }
          },
          "metadata": {}
        },
        {
          "output_type": "display_data",
          "data": {
            "text/plain": [
              "config_sentence_transformers.json:   0%|          | 0.00/252 [00:00<?, ?B/s]"
            ],
            "application/vnd.jupyter.widget-view+json": {
              "version_major": 2,
              "version_minor": 0,
              "model_id": "0d57264a63074ed4a033818d729ef49d"
            }
          },
          "metadata": {}
        },
        {
          "output_type": "display_data",
          "data": {
            "text/plain": [
              "README.md:   0%|          | 0.00/85.5k [00:00<?, ?B/s]"
            ],
            "application/vnd.jupyter.widget-view+json": {
              "version_major": 2,
              "version_minor": 0,
              "model_id": "473f1bb28eb44ec3991253466907f960"
            }
          },
          "metadata": {}
        },
        {
          "output_type": "display_data",
          "data": {
            "text/plain": [
              "sentence_bert_config.json:   0%|          | 0.00/107 [00:00<?, ?B/s]"
            ],
            "application/vnd.jupyter.widget-view+json": {
              "version_major": 2,
              "version_minor": 0,
              "model_id": "27101d717d154896814996fe39081520"
            }
          },
          "metadata": {}
        },
        {
          "output_type": "display_data",
          "data": {
            "text/plain": [
              "config.json:   0%|          | 0.00/296 [00:00<?, ?B/s]"
            ],
            "application/vnd.jupyter.widget-view+json": {
              "version_major": 2,
              "version_minor": 0,
              "model_id": "9e533f796cfb424ea59a9b1dbf8315e2"
            }
          },
          "metadata": {}
        }
      ],
      "source": [
        "from langchain_community.embeddings import HuggingFaceBgeEmbeddings\n",
        "\n",
        "embedding_model = HuggingFaceBgeEmbeddings(\n",
        "        model_name=\"Snowflake/snowflake-arctic-embed-m\",\n",
        "        encode_kwargs={'normalize_embeddings': True}\n",
        "    )"
      ]
    },
    {
      "cell_type": "code",
      "source": [
        "!pip install -qU langchain-qdrant"
      ],
      "metadata": {
        "colab": {
          "base_uri": "https://localhost:8080/"
        },
        "id": "qyjUvphEp00M",
        "outputId": "44093579-5cbf-4d2c-ceff-5c0c836dbcb9"
      },
      "execution_count": null,
      "outputs": [
        {
          "output_type": "stream",
          "name": "stdout",
          "text": [
            "\u001b[?25l   \u001b[90m━━━━━━━━━━━━━━━━━━━━━━━━━━━━━━━━━━━━━━━━\u001b[0m \u001b[32m0.0/306.7 kB\u001b[0m \u001b[31m?\u001b[0m eta \u001b[36m-:--:--\u001b[0m\r\u001b[2K   \u001b[90m━━━━━━━━━━━━━━━━━━━━━━━━━━━━━━━━━━━━━━━━\u001b[0m \u001b[32m306.7/306.7 kB\u001b[0m \u001b[31m15.6 MB/s\u001b[0m eta \u001b[36m0:00:00\u001b[0m\n",
            "\u001b[?25h\u001b[?25l   \u001b[90m━━━━━━━━━━━━━━━━━━━━━━━━━━━━━━━━━━━━━━━━\u001b[0m \u001b[32m0.0/2.5 MB\u001b[0m \u001b[31m?\u001b[0m eta \u001b[36m-:--:--\u001b[0m\r\u001b[2K   \u001b[91m━━━━━━━━━━━━━━━━━━━━━━━━━━━━━━━━━━━━━━━\u001b[0m\u001b[91m╸\u001b[0m \u001b[32m2.5/2.5 MB\u001b[0m \u001b[31m144.6 MB/s\u001b[0m eta \u001b[36m0:00:01\u001b[0m\r\u001b[2K   \u001b[90m━━━━━━━━━━━━━━━━━━━━━━━━━━━━━━━━━━━━━━━━\u001b[0m \u001b[32m2.5/2.5 MB\u001b[0m \u001b[31m59.7 MB/s\u001b[0m eta \u001b[36m0:00:00\u001b[0m\n",
            "\u001b[?25h"
          ]
        }
      ]
    },
    {
      "cell_type": "code",
      "execution_count": null,
      "metadata": {
        "id": "0xQNrljrmV4U"
      },
      "outputs": [],
      "source": [
        "from langchain_qdrant import QdrantVectorStore\n",
        "from qdrant_client import QdrantClient\n",
        "from qdrant_client.http.models import Distance, VectorParams\n",
        "\n",
        "client = QdrantClient(\":memory:\")\n",
        "\n",
        "client.create_collection(\n",
        "    collection_name=\"ind-1536\",\n",
        "    vectors_config=VectorParams(size=768, distance=Distance.COSINE)\n",
        ")\n",
        "\n",
        "base_vector_store = QdrantVectorStore(\n",
        "    client=client,\n",
        "    collection_name=\"ind-1536\",\n",
        " #   embedding=huggingface_embeddings\n",
        "    embedding=embedding_model\n",
        ")\n"
      ]
    },
    {
      "cell_type": "code",
      "execution_count": null,
      "metadata": {
        "id": "1gRvfHE1mV4U"
      },
      "outputs": [],
      "source": [
        "_ = base_vector_store.add_documents(documents=training_documents)"
      ]
    },
    {
      "cell_type": "code",
      "execution_count": null,
      "metadata": {
        "id": "dX-1daPzmV4U"
      },
      "outputs": [],
      "source": [
        "base_retriever = base_vector_store.as_retriever(search_kwargs={\"k\": 6})"
      ]
    },
    {
      "cell_type": "markdown",
      "metadata": {
        "id": "l-1nVZ0KpX5N"
      },
      "source": [
        "#### A - Augmented"
      ]
    },
    {
      "cell_type": "code",
      "execution_count": null,
      "metadata": {
        "id": "G10Fr-aKojeA"
      },
      "outputs": [],
      "source": [
        "from langchain_core.prompts import ChatPromptTemplate\n",
        "\n",
        "RAG_PROMPT = \"\"\"\\\n",
        "Given a provided context and a question, you must answer the question. If you do not know the answer, you must state that you do not know.\n",
        "\n",
        "Context:\n",
        "{context}\n",
        "\n",
        "Question:\n",
        "{question}\n",
        "\n",
        "Answer:\n",
        "\"\"\"\n",
        "\n",
        "rag_prompt_template = ChatPromptTemplate.from_template(RAG_PROMPT)"
      ]
    },
    {
      "cell_type": "markdown",
      "metadata": {
        "id": "Euq6RQEopZvD"
      },
      "source": [
        "#### G - Generation"
      ]
    },
    {
      "cell_type": "code",
      "execution_count": null,
      "metadata": {
        "id": "5-mfbbrypMHG"
      },
      "outputs": [],
      "source": [
        "rag_llm =  ChatOpenAI(\n",
        "    model=\"gpt-4o-mini\",\n",
        "    temperature=0\n",
        ")"
      ]
    },
    {
      "cell_type": "markdown",
      "metadata": {
        "id": "wQ2p4mnUpbYY"
      },
      "source": [
        "#### RAG - LCEL RAG Pipeline"
      ]
    },
    {
      "cell_type": "code",
      "execution_count": null,
      "metadata": {
        "id": "ssuR-LaboyGq"
      },
      "outputs": [],
      "source": [
        "from operator import itemgetter\n",
        "from langchain_core.output_parsers import StrOutputParser\n",
        "from langchain_core.runnables import RunnablePassthrough, RunnableParallel\n",
        "\n",
        "base_rag_chain = (\n",
        "    {\"context\": itemgetter(\"question\") | base_retriever, \"question\": itemgetter(\"question\")}\n",
        "    | RunnablePassthrough.assign(context=itemgetter(\"context\"))\n",
        "    | {\"response\": rag_prompt_template | rag_llm | StrOutputParser(), \"context\": itemgetter(\"context\")}\n",
        ")"
      ]
    },
    {
      "cell_type": "code",
      "execution_count": null,
      "metadata": {
        "colab": {
          "base_uri": "https://localhost:8080/",
          "height": 53
        },
        "id": "emm6WbB9pfKt",
        "outputId": "ec10eae3-093d-4189-f16c-78953dd6bb24"
      },
      "outputs": [
        {
          "output_type": "execute_result",
          "data": {
            "text/plain": [
              "'The context does not provide specific information about the types of studies required before submitting an IND (Investigational New Drug application). Therefore, I do not know the answer.'"
            ],
            "application/vnd.google.colaboratory.intrinsic+json": {
              "type": "string"
            }
          },
          "metadata": {},
          "execution_count": 31
        }
      ],
      "source": [
        "base_rag_chain.invoke({\"question\" : \"What type of studies are required before submitting an IND?\"})[\"response\"]"
      ]
    },
    {
      "cell_type": "code",
      "execution_count": null,
      "metadata": {
        "colab": {
          "base_uri": "https://localhost:8080/",
          "height": 71
        },
        "id": "mUOrd0OBprAq",
        "outputId": "f6eb3b4e-d25e-454b-d248-a9519b8f0d38"
      },
      "outputs": [
        {
          "data": {
            "text/plain": [
              "'If the FDA places a clinical hold on an IND application, it issues an order to the sponsor to delay a proposed clinical investigation or to suspend an ongoing investigation. This means that subjects may not be given the investigational drug in a proposed study, and no new subjects may be enrolled in an ongoing study. The sponsor cannot proceed with the clinical trial until the hold has been lifted by the FDA.'"
            ]
          },
          "execution_count": 103,
          "metadata": {},
          "output_type": "execute_result"
        }
      ],
      "source": [
        "base_rag_chain.invoke({\"question\" : \"What happen if the FDA places a clinical hold on an IND application?\"})[\"response\"]"
      ]
    },
    {
      "cell_type": "code",
      "execution_count": null,
      "metadata": {
        "colab": {
          "base_uri": "https://localhost:8080/",
          "height": 35
        },
        "id": "OnfuFl59py7I",
        "outputId": "700a6424-89d2-4850-f6d3-f70a5c1a59c7"
      },
      "outputs": [
        {
          "data": {
            "text/plain": [
              "'The submission for drug substance information should include a description of the drug substance, detailing its physical, chemical, or biological characteristics, the name and address of its manufacturer, the general method of preparation, acceptable limits, and analytical methods used to assure its identity, strength, quality, and purity. Additionally, it should encompass information on pharmacology, drug disposition, toxicology, and any risks anticipated based on toxicological data. The emphasis in an initial Phase 1 submission should be on the identification and control of raw materials and the new drug substance, with final specifications expected at the end of the investigational process.'"
            ]
          },
          "execution_count": 104,
          "metadata": {},
          "output_type": "execute_result"
        }
      ],
      "source": [
        "base_rag_chain.invoke({\"question\" : \"what about Compile Drug Substance Information?\"})[\"response\"]"
      ]
    },
    {
      "cell_type": "code",
      "execution_count": null,
      "metadata": {
        "colab": {
          "base_uri": "https://localhost:8080/",
          "height": 35
        },
        "id": "-NmqwHBDqTZ8",
        "outputId": "d9ef3583-2c06-427e-d064-5afc1578abd8"
      },
      "outputs": [
        {
          "data": {
            "text/plain": [
              "\"An 'inactive IND' refers to an investigational new drug application that has been placed on inactive status by the FDA. This can occur if the IND has remained inactive for 5 years or more, or if the FDA determines that the sponsor has failed to comply with certain requirements. While an inactive IND is still in effect for purposes of public disclosure of data and information, the sponsor is not required to submit annual reports during this inactive status. If the sponsor intends to resume clinical investigations under an inactive IND, they must submit a protocol amendment containing the proposed general investigational plan.\""
            ]
          },
          "execution_count": 105,
          "metadata": {},
          "output_type": "execute_result"
        }
      ],
      "source": [
        "base_rag_chain.invoke({\"question\" : \"What is the meaning of 'inactive IND' in section 312.45?\"})[\"response\"]"
      ]
    },
    {
      "cell_type": "code",
      "execution_count": null,
      "metadata": {
        "id": "uqgyARyKmV4X",
        "outputId": "6d947a1a-e855-43f5-dfbd-35ae5c3af340"
      },
      "outputs": [
        {
          "data": {
            "text/plain": [
              "'I do not know.'"
            ]
          },
          "execution_count": 106,
          "metadata": {},
          "output_type": "execute_result"
        }
      ],
      "source": [
        "base_rag_chain.invoke({\"question\" : \"Under section 312.56, what are the situations in which the FDA may suspend an IND?\"})[\"response\"]"
      ]
    },
    {
      "cell_type": "markdown",
      "metadata": {
        "id": "SqNS0UJAp3lC"
      },
      "source": [
        "### Fine-tuned Embedding Model\n",
        "\n",
        "Now let's rebuild our RAG chain with the Fine-tuned model - the only component we need to change is our `FAISS` vectorstore!"
      ]
    },
    {
      "cell_type": "code",
      "execution_count": null,
      "metadata": {
        "id": "ihO7tP6mqATy"
      },
      "outputs": [],
      "source": [
        "#finetune_vectorstore = FAISS.from_documents(training_documents, finetune_embeddings)\n",
        "#finetune_retriever = finetune_vectorstore.as_retriever(search_kwargs={\"k\": 6})"
      ]
    },
    {
      "cell_type": "code",
      "execution_count": null,
      "metadata": {
        "id": "fyum9iVXmV4Y"
      },
      "outputs": [],
      "source": [
        "from langchain_qdrant import QdrantVectorStore\n",
        "from qdrant_client import QdrantClient\n",
        "from qdrant_client.http.models import Distance, VectorParams\n",
        "\n",
        "client = QdrantClient(\":memory:\")\n",
        "\n",
        "client.create_collection(\n",
        "    collection_name=\"ind-1536\",\n",
        "    vectors_config=VectorParams(size=768, distance=Distance.COSINE)\n",
        ")\n",
        "\n",
        "finetuned_vector_store = QdrantVectorStore(\n",
        "    client=client,\n",
        "    collection_name=\"ind-1536\",\n",
        "#    embedding=huggingface_embeddings\n",
        "    embedding=finetune_embeddings\n",
        ")"
      ]
    },
    {
      "cell_type": "code",
      "execution_count": null,
      "metadata": {
        "id": "2dzMajOKmV4Y"
      },
      "outputs": [],
      "source": [
        "_ = finetuned_vector_store.add_documents(documents=training_documents)"
      ]
    },
    {
      "cell_type": "code",
      "execution_count": null,
      "metadata": {
        "id": "hXECY93omV4Y"
      },
      "outputs": [],
      "source": [
        "finetune_retriever = finetuned_vector_store.as_retriever(search_kwargs={\"k\": 6})"
      ]
    },
    {
      "cell_type": "code",
      "execution_count": null,
      "metadata": {
        "id": "1_cIFvWzqKGY"
      },
      "outputs": [],
      "source": [
        "finetune_rag_chain = (\n",
        "    {\"context\": itemgetter(\"question\") | finetune_retriever, \"question\": itemgetter(\"question\")}\n",
        "    | RunnablePassthrough.assign(context=itemgetter(\"context\"))\n",
        "    | {\"response\": rag_prompt_template | rag_llm | StrOutputParser(), \"context\": itemgetter(\"context\")}\n",
        ")"
      ]
    },
    {
      "cell_type": "code",
      "execution_count": null,
      "metadata": {
        "colab": {
          "base_uri": "https://localhost:8080/",
          "height": 87
        },
        "id": "OJmRHJF2qNgj",
        "outputId": "0258c2e0-205e-43ac-be1a-41a1b140b85f"
      },
      "outputs": [
        {
          "output_type": "execute_result",
          "data": {
            "text/plain": [
              "'The context does not specify the exact type of studies required before submitting an IND (Investigational New Drug application). It mentions that the amount of information submitted depends on factors such as the novelty of the drug, the extent to which it has been studied previously, and known or suspected risks. However, it does not detail specific study requirements. Therefore, I do not know the answer.'"
            ],
            "application/vnd.google.colaboratory.intrinsic+json": {
              "type": "string"
            }
          },
          "metadata": {},
          "execution_count": 37
        }
      ],
      "source": [
        "finetune_rag_chain.invoke({\"question\" : \"What type of studies are required before submitting an IND?\"})[\"response\"]"
      ]
    },
    {
      "cell_type": "code",
      "execution_count": null,
      "metadata": {
        "colab": {
          "base_uri": "https://localhost:8080/",
          "height": 71
        },
        "id": "EnK-c2ugqPPh",
        "outputId": "bdf8802d-510f-4216-fdb6-f1cae82b8226"
      },
      "outputs": [
        {
          "data": {
            "text/plain": [
              "'If the FDA places a clinical hold on an IND application, it issues an order to the sponsor to delay a proposed clinical investigation or to suspend an ongoing investigation. This means that subjects may not be given the investigational drug in a proposed study, and no new subjects may be enrolled in an ongoing study. The clinical hold may apply to one or more investigations covered by the IND, and the FDA may also provide an opportunity for a regulatory hearing regarding the reinstatement of the IND. If no subjects are entered into clinical studies for a period of 2 years or more, or if all investigations remain on clinical hold for 1 year or more, the IND may be placed on inactive status.'"
            ]
          },
          "execution_count": 122,
          "metadata": {},
          "output_type": "execute_result"
        }
      ],
      "source": [
        "finetune_rag_chain.invoke({\"question\" : \"What happen if the FDA places a clinical hold on an IND application?\"})[\"response\"]"
      ]
    },
    {
      "cell_type": "code",
      "execution_count": null,
      "metadata": {
        "colab": {
          "base_uri": "https://localhost:8080/",
          "height": 35
        },
        "id": "83hssg1AWozc",
        "outputId": "b0d8f20a-aa2d-4f8c-c1cd-fa113766e9b0"
      },
      "outputs": [
        {
          "data": {
            "text/plain": [
              "'The context does not provide specific information about compiling drug substance information. However, it mentions that a description of the drug substance should include its physical, chemical, or biological characteristics, the name and address of its manufacturer, the general method of preparation, acceptable limits, and analytical methods used to assure the identity, strength, quality, and purity of the drug substance. If you need more detailed information, I do not know.'"
            ]
          },
          "execution_count": 123,
          "metadata": {},
          "output_type": "execute_result"
        }
      ],
      "source": [
        "finetune_rag_chain.invoke({\"question\" : \"what about Compile Drug Substance Information?\"})[\"response\"]"
      ]
    },
    {
      "cell_type": "code",
      "execution_count": null,
      "metadata": {
        "colab": {
          "base_uri": "https://localhost:8080/",
          "height": 35
        },
        "id": "rsHmGeFbqRET",
        "outputId": "5353dc1f-4fb3-4891-958a-16e242f3714b"
      },
      "outputs": [
        {
          "data": {
            "text/plain": [
              "\"An 'inactive IND' refers to an Investigational New Drug application that is not currently active, meaning that the sponsor is not required to submit annual reports for it. However, it remains in effect for the purposes of public disclosure of data and information. An IND can be placed on inactive status by the FDA, particularly if it has been on clinical hold for one year or more, and it may be terminated if it remains inactive for five years or more.\""
            ]
          },
          "execution_count": 124,
          "metadata": {},
          "output_type": "execute_result"
        }
      ],
      "source": [
        "finetune_rag_chain.invoke({\"question\" : \"What is the meaning of 'inactive IND' in section 312.45?\"})[\"response\"]"
      ]
    },
    {
      "cell_type": "code",
      "execution_count": null,
      "metadata": {
        "id": "pALdVDlImV4Z",
        "outputId": "a00d0850-a3bb-453e-d5e3-b2c85ba2c31d"
      },
      "outputs": [
        {
          "data": {
            "text/plain": [
              "'I do not know.'"
            ]
          },
          "execution_count": 126,
          "metadata": {},
          "output_type": "execute_result"
        }
      ],
      "source": [
        "finetune_rag_chain.invoke({\"question\" : \"Under section 312.56, what are the situations in which the FDA may suspend an IND?\"})[\"response\"]"
      ]
    },
    {
      "cell_type": "markdown",
      "metadata": {
        "id": "WCbq1sZArIx4"
      },
      "source": [
        "## Task 2: RAGAS Evaluation\n",
        "\n",
        "It's great to have some idea of how our system is doing based on vibe-checks, but let's use RAGAS to provide more insight info. on how things are improving!\n",
        "\n",
        "> NOTE: Please recreate *exactly* the RAGAS process we used to evaluate RAG, baselining with the default retriever, and then comparing the new retriever. The includes the Synthetic Data Generation steps."
      ]
    },
    {
      "cell_type": "code",
      "execution_count": null,
      "metadata": {
        "id": "jq880DtHk9pX",
        "colab": {
          "base_uri": "https://localhost:8080/"
        },
        "outputId": "b59c90c4-321e-49df-eb68-e545359e31dc"
      },
      "outputs": [
        {
          "name": "stdout",
          "output_type": "stream",
          "text": [
            "Please enter your Ragas API key!··········\n"
          ]
        }
      ],
      "source": [
        "### YOUR CODE Himport os\n",
        "from getpass import getpass\n",
        "\n",
        "os.environ[\"RAGAS_APP_TOKEN\"] = getpass(\"Please enter your Ragas API key!\")"
      ]
    },
    {
      "cell_type": "code",
      "execution_count": null,
      "metadata": {
        "colab": {
          "base_uri": "https://localhost:8080/"
        },
        "id": "sc20M7emmV4Z",
        "outputId": "29d66c51-ecfa-48a0-fc13-ed93ecfc3249"
      },
      "outputs": [
        {
          "output_type": "stream",
          "name": "stderr",
          "text": [
            "[nltk_data] Downloading package punkt_tab to /root/nltk_data...\n",
            "[nltk_data]   Unzipping tokenizers/punkt_tab.zip.\n",
            "[nltk_data] Downloading package averaged_perceptron_tagger_eng to\n",
            "[nltk_data]     /root/nltk_data...\n",
            "[nltk_data]   Unzipping taggers/averaged_perceptron_tagger_eng.zip.\n"
          ]
        },
        {
          "output_type": "execute_result",
          "data": {
            "text/plain": [
              "True"
            ]
          },
          "metadata": {},
          "execution_count": 39
        }
      ],
      "source": [
        "import nltk\n",
        "nltk.download('punkt_tab')\n",
        "nltk.download('averaged_perceptron_tagger_eng')"
      ]
    },
    {
      "cell_type": "code",
      "source": [
        "!pip install ragas"
      ],
      "metadata": {
        "colab": {
          "base_uri": "https://localhost:8080/"
        },
        "id": "70sWFWIuqZQh",
        "outputId": "a8ca8fb6-21ff-42dd-c197-3191267b106a"
      },
      "execution_count": null,
      "outputs": [
        {
          "output_type": "stream",
          "name": "stdout",
          "text": [
            "Collecting ragas\n",
            "  Downloading ragas-0.2.14-py3-none-any.whl.metadata (8.5 kB)\n",
            "Requirement already satisfied: numpy in /usr/local/lib/python3.11/dist-packages (from ragas) (2.0.2)\n",
            "Collecting datasets (from ragas)\n",
            "  Downloading datasets-3.4.1-py3-none-any.whl.metadata (19 kB)\n",
            "Requirement already satisfied: tiktoken in /usr/local/lib/python3.11/dist-packages (from ragas) (0.9.0)\n",
            "Requirement already satisfied: langchain in /usr/local/lib/python3.11/dist-packages (from ragas) (0.3.21)\n",
            "Requirement already satisfied: langchain-core in /usr/local/lib/python3.11/dist-packages (from ragas) (0.3.47)\n",
            "Requirement already satisfied: langchain-community in /usr/local/lib/python3.11/dist-packages (from ragas) (0.3.20)\n",
            "Requirement already satisfied: langchain_openai in /usr/local/lib/python3.11/dist-packages (from ragas) (0.3.9)\n",
            "Requirement already satisfied: nest-asyncio in /usr/local/lib/python3.11/dist-packages (from ragas) (1.6.0)\n",
            "Collecting appdirs (from ragas)\n",
            "  Downloading appdirs-1.4.4-py2.py3-none-any.whl.metadata (9.0 kB)\n",
            "Requirement already satisfied: pydantic>=2 in /usr/local/lib/python3.11/dist-packages (from ragas) (2.10.6)\n",
            "Requirement already satisfied: openai>1 in /usr/local/lib/python3.11/dist-packages (from ragas) (1.66.3)\n",
            "Collecting diskcache>=5.6.3 (from ragas)\n",
            "  Downloading diskcache-5.6.3-py3-none-any.whl.metadata (20 kB)\n",
            "Requirement already satisfied: anyio<5,>=3.5.0 in /usr/local/lib/python3.11/dist-packages (from openai>1->ragas) (4.9.0)\n",
            "Requirement already satisfied: distro<2,>=1.7.0 in /usr/local/lib/python3.11/dist-packages (from openai>1->ragas) (1.9.0)\n",
            "Requirement already satisfied: httpx<1,>=0.23.0 in /usr/local/lib/python3.11/dist-packages (from openai>1->ragas) (0.28.1)\n",
            "Requirement already satisfied: jiter<1,>=0.4.0 in /usr/local/lib/python3.11/dist-packages (from openai>1->ragas) (0.9.0)\n",
            "Requirement already satisfied: sniffio in /usr/local/lib/python3.11/dist-packages (from openai>1->ragas) (1.3.1)\n",
            "Requirement already satisfied: tqdm>4 in /usr/local/lib/python3.11/dist-packages (from openai>1->ragas) (4.67.1)\n",
            "Requirement already satisfied: typing-extensions<5,>=4.11 in /usr/local/lib/python3.11/dist-packages (from openai>1->ragas) (4.12.2)\n",
            "Requirement already satisfied: annotated-types>=0.6.0 in /usr/local/lib/python3.11/dist-packages (from pydantic>=2->ragas) (0.7.0)\n",
            "Requirement already satisfied: pydantic-core==2.27.2 in /usr/local/lib/python3.11/dist-packages (from pydantic>=2->ragas) (2.27.2)\n",
            "Requirement already satisfied: filelock in /usr/local/lib/python3.11/dist-packages (from datasets->ragas) (3.18.0)\n",
            "Requirement already satisfied: pyarrow>=15.0.0 in /usr/local/lib/python3.11/dist-packages (from datasets->ragas) (18.1.0)\n",
            "Collecting dill<0.3.9,>=0.3.0 (from datasets->ragas)\n",
            "  Downloading dill-0.3.8-py3-none-any.whl.metadata (10 kB)\n",
            "Requirement already satisfied: pandas in /usr/local/lib/python3.11/dist-packages (from datasets->ragas) (2.2.2)\n",
            "Requirement already satisfied: requests>=2.32.2 in /usr/local/lib/python3.11/dist-packages (from datasets->ragas) (2.32.3)\n",
            "Collecting xxhash (from datasets->ragas)\n",
            "  Downloading xxhash-3.5.0-cp311-cp311-manylinux_2_17_x86_64.manylinux2014_x86_64.whl.metadata (12 kB)\n",
            "Collecting multiprocess<0.70.17 (from datasets->ragas)\n",
            "  Downloading multiprocess-0.70.16-py311-none-any.whl.metadata (7.2 kB)\n",
            "Collecting fsspec<=2024.12.0,>=2023.1.0 (from fsspec[http]<=2024.12.0,>=2023.1.0->datasets->ragas)\n",
            "  Downloading fsspec-2024.12.0-py3-none-any.whl.metadata (11 kB)\n",
            "Requirement already satisfied: aiohttp in /usr/local/lib/python3.11/dist-packages (from datasets->ragas) (3.11.14)\n",
            "Requirement already satisfied: huggingface-hub>=0.24.0 in /usr/local/lib/python3.11/dist-packages (from datasets->ragas) (0.29.3)\n",
            "Requirement already satisfied: packaging in /usr/local/lib/python3.11/dist-packages (from datasets->ragas) (24.2)\n",
            "Requirement already satisfied: pyyaml>=5.1 in /usr/local/lib/python3.11/dist-packages (from datasets->ragas) (6.0.2)\n",
            "Requirement already satisfied: langchain-text-splitters<1.0.0,>=0.3.7 in /usr/local/lib/python3.11/dist-packages (from langchain->ragas) (0.3.7)\n",
            "Requirement already satisfied: langsmith<0.4,>=0.1.17 in /usr/local/lib/python3.11/dist-packages (from langchain->ragas) (0.3.15)\n",
            "Requirement already satisfied: SQLAlchemy<3,>=1.4 in /usr/local/lib/python3.11/dist-packages (from langchain->ragas) (2.0.39)\n",
            "Requirement already satisfied: tenacity!=8.4.0,<10.0.0,>=8.1.0 in /usr/local/lib/python3.11/dist-packages (from langchain-core->ragas) (9.0.0)\n",
            "Requirement already satisfied: jsonpatch<2.0,>=1.33 in /usr/local/lib/python3.11/dist-packages (from langchain-core->ragas) (1.33)\n",
            "Requirement already satisfied: dataclasses-json<0.7,>=0.5.7 in /usr/local/lib/python3.11/dist-packages (from langchain-community->ragas) (0.6.7)\n",
            "Requirement already satisfied: pydantic-settings<3.0.0,>=2.4.0 in /usr/local/lib/python3.11/dist-packages (from langchain-community->ragas) (2.8.1)\n",
            "Requirement already satisfied: httpx-sse<1.0.0,>=0.4.0 in /usr/local/lib/python3.11/dist-packages (from langchain-community->ragas) (0.4.0)\n",
            "Requirement already satisfied: regex>=2022.1.18 in /usr/local/lib/python3.11/dist-packages (from tiktoken->ragas) (2024.11.6)\n",
            "Requirement already satisfied: aiohappyeyeballs>=2.3.0 in /usr/local/lib/python3.11/dist-packages (from aiohttp->datasets->ragas) (2.6.1)\n",
            "Requirement already satisfied: aiosignal>=1.1.2 in /usr/local/lib/python3.11/dist-packages (from aiohttp->datasets->ragas) (1.3.2)\n",
            "Requirement already satisfied: attrs>=17.3.0 in /usr/local/lib/python3.11/dist-packages (from aiohttp->datasets->ragas) (25.3.0)\n",
            "Requirement already satisfied: frozenlist>=1.1.1 in /usr/local/lib/python3.11/dist-packages (from aiohttp->datasets->ragas) (1.5.0)\n",
            "Requirement already satisfied: multidict<7.0,>=4.5 in /usr/local/lib/python3.11/dist-packages (from aiohttp->datasets->ragas) (6.2.0)\n",
            "Requirement already satisfied: propcache>=0.2.0 in /usr/local/lib/python3.11/dist-packages (from aiohttp->datasets->ragas) (0.3.0)\n",
            "Requirement already satisfied: yarl<2.0,>=1.17.0 in /usr/local/lib/python3.11/dist-packages (from aiohttp->datasets->ragas) (1.18.3)\n",
            "Requirement already satisfied: idna>=2.8 in /usr/local/lib/python3.11/dist-packages (from anyio<5,>=3.5.0->openai>1->ragas) (3.10)\n",
            "Requirement already satisfied: marshmallow<4.0.0,>=3.18.0 in /usr/local/lib/python3.11/dist-packages (from dataclasses-json<0.7,>=0.5.7->langchain-community->ragas) (3.26.1)\n",
            "Requirement already satisfied: typing-inspect<1,>=0.4.0 in /usr/local/lib/python3.11/dist-packages (from dataclasses-json<0.7,>=0.5.7->langchain-community->ragas) (0.9.0)\n",
            "Requirement already satisfied: certifi in /usr/local/lib/python3.11/dist-packages (from httpx<1,>=0.23.0->openai>1->ragas) (2025.1.31)\n",
            "Requirement already satisfied: httpcore==1.* in /usr/local/lib/python3.11/dist-packages (from httpx<1,>=0.23.0->openai>1->ragas) (1.0.7)\n",
            "Requirement already satisfied: h11<0.15,>=0.13 in /usr/local/lib/python3.11/dist-packages (from httpcore==1.*->httpx<1,>=0.23.0->openai>1->ragas) (0.14.0)\n",
            "Requirement already satisfied: jsonpointer>=1.9 in /usr/local/lib/python3.11/dist-packages (from jsonpatch<2.0,>=1.33->langchain-core->ragas) (3.0.0)\n",
            "Requirement already satisfied: orjson<4.0.0,>=3.9.14 in /usr/local/lib/python3.11/dist-packages (from langsmith<0.4,>=0.1.17->langchain->ragas) (3.10.15)\n",
            "Requirement already satisfied: requests-toolbelt<2.0.0,>=1.0.0 in /usr/local/lib/python3.11/dist-packages (from langsmith<0.4,>=0.1.17->langchain->ragas) (1.0.0)\n",
            "Requirement already satisfied: zstandard<0.24.0,>=0.23.0 in /usr/local/lib/python3.11/dist-packages (from langsmith<0.4,>=0.1.17->langchain->ragas) (0.23.0)\n",
            "Requirement already satisfied: python-dotenv>=0.21.0 in /usr/local/lib/python3.11/dist-packages (from pydantic-settings<3.0.0,>=2.4.0->langchain-community->ragas) (1.0.1)\n",
            "Requirement already satisfied: charset-normalizer<4,>=2 in /usr/local/lib/python3.11/dist-packages (from requests>=2.32.2->datasets->ragas) (3.4.1)\n",
            "Requirement already satisfied: urllib3<3,>=1.21.1 in /usr/local/lib/python3.11/dist-packages (from requests>=2.32.2->datasets->ragas) (2.3.0)\n",
            "Requirement already satisfied: greenlet!=0.4.17 in /usr/local/lib/python3.11/dist-packages (from SQLAlchemy<3,>=1.4->langchain->ragas) (3.1.1)\n",
            "Requirement already satisfied: python-dateutil>=2.8.2 in /usr/local/lib/python3.11/dist-packages (from pandas->datasets->ragas) (2.8.2)\n",
            "Requirement already satisfied: pytz>=2020.1 in /usr/local/lib/python3.11/dist-packages (from pandas->datasets->ragas) (2025.1)\n",
            "Requirement already satisfied: tzdata>=2022.7 in /usr/local/lib/python3.11/dist-packages (from pandas->datasets->ragas) (2025.1)\n",
            "Requirement already satisfied: six>=1.5 in /usr/local/lib/python3.11/dist-packages (from python-dateutil>=2.8.2->pandas->datasets->ragas) (1.17.0)\n",
            "Requirement already satisfied: mypy-extensions>=0.3.0 in /usr/local/lib/python3.11/dist-packages (from typing-inspect<1,>=0.4.0->dataclasses-json<0.7,>=0.5.7->langchain-community->ragas) (1.0.0)\n",
            "Downloading ragas-0.2.14-py3-none-any.whl (187 kB)\n",
            "\u001b[2K   \u001b[90m━━━━━━━━━━━━━━━━━━━━━━━━━━━━━━━━━━━━━━━━\u001b[0m \u001b[32m187.2/187.2 kB\u001b[0m \u001b[31m9.6 MB/s\u001b[0m eta \u001b[36m0:00:00\u001b[0m\n",
            "\u001b[?25hDownloading diskcache-5.6.3-py3-none-any.whl (45 kB)\n",
            "\u001b[2K   \u001b[90m━━━━━━━━━━━━━━━━━━━━━━━━━━━━━━━━━━━━━━━━\u001b[0m \u001b[32m45.5/45.5 kB\u001b[0m \u001b[31m2.2 MB/s\u001b[0m eta \u001b[36m0:00:00\u001b[0m\n",
            "\u001b[?25hDownloading appdirs-1.4.4-py2.py3-none-any.whl (9.6 kB)\n",
            "Downloading datasets-3.4.1-py3-none-any.whl (487 kB)\n",
            "\u001b[2K   \u001b[90m━━━━━━━━━━━━━━━━━━━━━━━━━━━━━━━━━━━━━━━━\u001b[0m \u001b[32m487.4/487.4 kB\u001b[0m \u001b[31m28.6 MB/s\u001b[0m eta \u001b[36m0:00:00\u001b[0m\n",
            "\u001b[?25hDownloading dill-0.3.8-py3-none-any.whl (116 kB)\n",
            "\u001b[2K   \u001b[90m━━━━━━━━━━━━━━━━━━━━━━━━━━━━━━━━━━━━━━━━\u001b[0m \u001b[32m116.3/116.3 kB\u001b[0m \u001b[31m7.7 MB/s\u001b[0m eta \u001b[36m0:00:00\u001b[0m\n",
            "\u001b[?25hDownloading fsspec-2024.12.0-py3-none-any.whl (183 kB)\n",
            "\u001b[2K   \u001b[90m━━━━━━━━━━━━━━━━━━━━━━━━━━━━━━━━━━━━━━━━\u001b[0m \u001b[32m183.9/183.9 kB\u001b[0m \u001b[31m12.5 MB/s\u001b[0m eta \u001b[36m0:00:00\u001b[0m\n",
            "\u001b[?25hDownloading multiprocess-0.70.16-py311-none-any.whl (143 kB)\n",
            "\u001b[2K   \u001b[90m━━━━━━━━━━━━━━━━━━━━━━━━━━━━━━━━━━━━━━━━\u001b[0m \u001b[32m143.5/143.5 kB\u001b[0m \u001b[31m9.9 MB/s\u001b[0m eta \u001b[36m0:00:00\u001b[0m\n",
            "\u001b[?25hDownloading xxhash-3.5.0-cp311-cp311-manylinux_2_17_x86_64.manylinux2014_x86_64.whl (194 kB)\n",
            "\u001b[2K   \u001b[90m━━━━━━━━━━━━━━━━━━━━━━━━━━━━━━━━━━━━━━━━\u001b[0m \u001b[32m194.8/194.8 kB\u001b[0m \u001b[31m12.3 MB/s\u001b[0m eta \u001b[36m0:00:00\u001b[0m\n",
            "\u001b[?25hInstalling collected packages: appdirs, xxhash, fsspec, diskcache, dill, multiprocess, datasets, ragas\n",
            "  Attempting uninstall: fsspec\n",
            "    Found existing installation: fsspec 2025.3.0\n",
            "    Uninstalling fsspec-2025.3.0:\n",
            "      Successfully uninstalled fsspec-2025.3.0\n",
            "\u001b[31mERROR: pip's dependency resolver does not currently take into account all the packages that are installed. This behaviour is the source of the following dependency conflicts.\n",
            "gcsfs 2025.3.0 requires fsspec==2025.3.0, but you have fsspec 2024.12.0 which is incompatible.\u001b[0m\u001b[31m\n",
            "\u001b[0mSuccessfully installed appdirs-1.4.4 datasets-3.4.1 dill-0.3.8 diskcache-5.6.3 fsspec-2024.12.0 multiprocess-0.70.16 ragas-0.2.14 xxhash-3.5.0\n"
          ]
        }
      ]
    },
    {
      "cell_type": "code",
      "execution_count": null,
      "metadata": {
        "id": "-jdWcK3_mV4Z"
      },
      "outputs": [],
      "source": [
        "from ragas.llms import LangchainLLMWrapper\n",
        "from ragas.embeddings import LangchainEmbeddingsWrapper\n",
        "from langchain_openai import ChatOpenAI\n",
        "from langchain_openai import OpenAIEmbeddings\n",
        "\n",
        "generator_llm = LangchainLLMWrapper(ChatOpenAI(model=\"gpt-4o-mini\"))\n",
        "generator_embeddings = LangchainEmbeddingsWrapper(OpenAIEmbeddings())"
      ]
    },
    {
      "cell_type": "code",
      "source": [
        "!pip install rapidfuzz"
      ],
      "metadata": {
        "colab": {
          "base_uri": "https://localhost:8080/"
        },
        "id": "cLiYh2GYqkNe",
        "outputId": "807bede4-b0a0-47e0-855b-970fc256f471"
      },
      "execution_count": null,
      "outputs": [
        {
          "output_type": "stream",
          "name": "stdout",
          "text": [
            "Collecting rapidfuzz\n",
            "  Downloading rapidfuzz-3.12.2-cp311-cp311-manylinux_2_17_x86_64.manylinux2014_x86_64.whl.metadata (12 kB)\n",
            "Downloading rapidfuzz-3.12.2-cp311-cp311-manylinux_2_17_x86_64.manylinux2014_x86_64.whl (3.1 MB)\n",
            "\u001b[?25l   \u001b[90m━━━━━━━━━━━━━━━━━━━━━━━━━━━━━━━━━━━━━━━━\u001b[0m \u001b[32m0.0/3.1 MB\u001b[0m \u001b[31m?\u001b[0m eta \u001b[36m-:--:--\u001b[0m\r\u001b[2K   \u001b[91m━━━━━━━━━━━━━━━━━━━━━━━━━━━━━━━━━━━━━━━\u001b[0m\u001b[91m╸\u001b[0m \u001b[32m3.1/3.1 MB\u001b[0m \u001b[31m132.2 MB/s\u001b[0m eta \u001b[36m0:00:01\u001b[0m\r\u001b[2K   \u001b[90m━━━━━━━━━━━━━━━━━━━━━━━━━━━━━━━━━━━━━━━━\u001b[0m \u001b[32m3.1/3.1 MB\u001b[0m \u001b[31m61.4 MB/s\u001b[0m eta \u001b[36m0:00:00\u001b[0m\n",
            "\u001b[?25hInstalling collected packages: rapidfuzz\n",
            "Successfully installed rapidfuzz-3.12.2\n"
          ]
        }
      ]
    },
    {
      "cell_type": "code",
      "execution_count": null,
      "metadata": {
        "colab": {
          "base_uri": "https://localhost:8080/",
          "height": 1000,
          "referenced_widgets": [
            "12eecee8521f435ab73d9fcff3504353",
            "0c335d1a335f40deaf2447b473631a97",
            "87529bc10f824adea321907f844ca4f0",
            "3585cb0671804de8ab9ff05d2b5c0713",
            "15dbbab6f79e48f899c8924077dfefa6",
            "6e8f261271d143cc8f01d78b8d07d03c",
            "7281249cd56a4ccba7121c443a23c7c4",
            "2e37980fd08544809e3fd46c67a8990a",
            "a4d05f910afe4d2e8c3321f611e18ce3",
            "3b8a250d8abc420f84377bff16d802e8",
            "0cfcf44182d0422498c185fe11b8a322",
            "042180472a654d959032624edcea319c",
            "3b33d4152cd7489db43f364918398ed1",
            "fc01d563519040c98421a13261fbba31",
            "765a03a571664cc1a02ed47942224340",
            "63159e3a4d4e45d0a9183ff12898dfa4",
            "267afc8c7ef047998c34711d1256fd14",
            "b0e83ddeac2c434bbf7a77affc0d5519",
            "cabf35cabcc747199171b2d0a2a8ffc3",
            "b78f2994e50f43b9b97c461e77fbb509",
            "20a0c1081d2043c7877b63c7dd0cb454",
            "4e418ca854594197b343f6ac0df347b9",
            "a9d9dbe2afc44fa9b4796e86fc64350e",
            "101edc95ecb54851964945dc3003b719",
            "b45329f2de75494a8777e27ab952212f",
            "686e18a9a5904f579b977769cb9974cc",
            "df9ac1217e1b4320b5f7350738ca53e0",
            "dc829d08508344e8b7d07b1eaa54157c",
            "af50862b4caa4f379bac31ecb18ee9a4",
            "62a8f4ff6d364212bd3fbf1f3521d3e0",
            "342425806a3b4cde83987bc464a9ce26",
            "1111763ca0c14a729575d81d015d662e",
            "4767d49ddc0f424c9348350e882f1ab4",
            "23bad69c5bc240a795c4764583ca8e48",
            "e997a99934ec472d9d6898e5e87f468d",
            "cdae7e3e0c254827845a8b55883cb3ae",
            "c12969596b2943b1a14bba38626a54f3",
            "64f579b4aa6444f2bc97bccd56ce6952",
            "41b0b8cc022c42a2991e62533164f429",
            "d4432a47ff6943f9aa50507fab88faf2",
            "6dcba39b64a24a46ab7ad81f1a555378",
            "430458ffae4d4be4bd3d503d19d47bd0",
            "68130024d6214f129cbe4bc96d990c74",
            "1e144ac4d3774976b4f2140f21ae7a0d",
            "d64e983854bd4a6590023b5d631169a7",
            "35ac2cdf4c5147e7b635cb5f7b3472a2",
            "e9574e6397914fc7961fc1545a39e214",
            "1092bfb4817140b9b9669e5f725736c5",
            "cc80b2eb3f744efc8d822ba0b2b1d5a9",
            "002296f14ee2438cacf71e14a57677ca",
            "a143831d36ef41c8b6eb00fcbb95fb63",
            "ab9db07f8e8a48cab8d43316c8931fd1",
            "ed1efca86c8a46de8cf404409640d3bd",
            "f2f182e85b134ec0bf45ba3ac344079d",
            "980c94ce72804e0a819b060c8b53703f",
            "f62105d029d34197b35d84266c014bab",
            "589476dd29bf4d1baa5c00ac8e11732d",
            "3d46707856f2436280bac1b5e6fb687b",
            "9ac04e4a10f14effb8c41da7bf7d31e3",
            "90bfdbe58b124b48a662d0c34d257cf0",
            "f8cfa3e9259c419f8b47a6f8c2ec5d75",
            "c0cf5864efbc40af9f57675ff13ab09f",
            "b4909655b2bf42d49f00f3c3f0a99fc9",
            "4da00f681d51466ba6719c43534f8d85",
            "f4ec765dc15a4ec5ab3e248820699fb4",
            "e6db35e0128a4b6fade0230c0323d3bb",
            "880660998ce041c8bafa7842e61593cb",
            "10a3e02d25d2495c99cb65113a15866f",
            "286c429ab8eb460b819a34a38de44c45",
            "7d908d1294a1466f90c6508826da30cb",
            "231543c47c654d488133eaaa71093420",
            "361f6b7e3a1140aca9a7b24b46c8d783",
            "ff63b1ad7e504ec0b30812af4d2421d7",
            "5c0a899243bc496c85b350b2761879c3",
            "1421e85f0e4945ed9bd10634f759495b",
            "fe89b50ce73d4f80b1f682cd823ebbb9",
            "083d6d7d0dda4a02944889a32a1d9cbe"
          ]
        },
        "id": "6y3PbIXHmV4a",
        "outputId": "ab402c37-0cb0-4564-f3cd-b52881cf0986"
      },
      "outputs": [
        {
          "output_type": "display_data",
          "data": {
            "text/plain": [
              "Applying SummaryExtractor:   0%|          | 0/54 [00:00<?, ?it/s]"
            ],
            "application/vnd.jupyter.widget-view+json": {
              "version_major": 2,
              "version_minor": 0,
              "model_id": "12eecee8521f435ab73d9fcff3504353"
            }
          },
          "metadata": {}
        },
        {
          "output_type": "display_data",
          "data": {
            "text/plain": [
              "Applying CustomNodeFilter:   0%|          | 0/170 [00:00<?, ?it/s]"
            ],
            "application/vnd.jupyter.widget-view+json": {
              "version_major": 2,
              "version_minor": 0,
              "model_id": "042180472a654d959032624edcea319c"
            }
          },
          "metadata": {}
        },
        {
          "output_type": "stream",
          "name": "stderr",
          "text": [
            "WARNING:ragas.testset.transforms.filters:Node 26a01bc8-c511-410a-8ee0-cea4079d0d4d does not have a summary. Skipping filtering.\n",
            "WARNING:ragas.testset.transforms.filters:Node 99e6f4f1-4b5b-4dc3-884c-9ab90684dea4 does not have a summary. Skipping filtering.\n",
            "WARNING:ragas.testset.transforms.filters:Node d4df64f2-ee89-41d3-938b-9b1fab68ef6d does not have a summary. Skipping filtering.\n",
            "WARNING:ragas.testset.transforms.filters:Node a9a6ed75-6810-41f3-a0a3-528cdd981f8c does not have a summary. Skipping filtering.\n",
            "WARNING:ragas.testset.transforms.filters:Node 76fe2a39-330d-41c0-aa18-6e5fd5929c8c does not have a summary. Skipping filtering.\n",
            "WARNING:ragas.testset.transforms.filters:Node c7972258-7ac3-4bfc-8d09-bbd30c8ebc0a does not have a summary. Skipping filtering.\n",
            "WARNING:ragas.testset.transforms.filters:Node e324e3dc-f413-4cac-9a7b-748be1751d92 does not have a summary. Skipping filtering.\n",
            "WARNING:ragas.testset.transforms.filters:Node 0323bee6-3e13-42bb-98e4-c7c5bdabf9d2 does not have a summary. Skipping filtering.\n",
            "WARNING:ragas.testset.transforms.filters:Node 20d1e3d3-eab6-4f0b-9544-450f7b065963 does not have a summary. Skipping filtering.\n",
            "WARNING:ragas.testset.transforms.filters:Node 3b27e0ea-9453-41c4-86be-98064a695fb3 does not have a summary. Skipping filtering.\n",
            "WARNING:ragas.testset.transforms.filters:Node 8df74fc3-9672-45d5-bd2b-bb04e3dee66c does not have a summary. Skipping filtering.\n",
            "WARNING:ragas.testset.transforms.filters:Node 13f91e6a-d27d-462a-919c-325f2e0f6110 does not have a summary. Skipping filtering.\n",
            "WARNING:ragas.testset.transforms.filters:Node e060f6c1-dda7-4b08-986c-d495f3f26cdb does not have a summary. Skipping filtering.\n",
            "WARNING:ragas.testset.transforms.filters:Node 43c01472-d15a-432a-aabb-cd38965a24e8 does not have a summary. Skipping filtering.\n",
            "WARNING:ragas.testset.transforms.filters:Node 434020a5-4d27-4e37-b701-b44964574955 does not have a summary. Skipping filtering.\n",
            "WARNING:ragas.testset.transforms.filters:Node a5489c0d-e07a-4305-8215-c55fd35af412 does not have a summary. Skipping filtering.\n",
            "WARNING:ragas.testset.transforms.filters:Node f4aeb30a-6d33-4289-854e-723eb95a8361 does not have a summary. Skipping filtering.\n",
            "WARNING:ragas.testset.transforms.filters:Node 8618129c-228a-4fec-8452-6d438c858b91 does not have a summary. Skipping filtering.\n",
            "WARNING:ragas.testset.transforms.filters:Node 25060671-e9df-4481-a749-bc14ad956fb5 does not have a summary. Skipping filtering.\n",
            "WARNING:ragas.testset.transforms.filters:Node 5f0003dd-6d57-477e-b92e-b7da7d28985d does not have a summary. Skipping filtering.\n",
            "WARNING:ragas.testset.transforms.filters:Node 42163e28-be6e-41c1-ab4c-da7d87df9361 does not have a summary. Skipping filtering.\n",
            "WARNING:ragas.testset.transforms.filters:Node 5c40d2e0-7287-43ca-b25f-9dc85ee92928 does not have a summary. Skipping filtering.\n",
            "WARNING:ragas.testset.transforms.filters:Node 5fd9a995-97a7-4a5d-9aa5-671f83221683 does not have a summary. Skipping filtering.\n",
            "WARNING:ragas.testset.transforms.filters:Node e104dbd4-2ede-4d64-bdab-ac1126412899 does not have a summary. Skipping filtering.\n",
            "WARNING:ragas.testset.transforms.filters:Node 381ae497-5263-41b5-bb0c-55ae211a8c78 does not have a summary. Skipping filtering.\n",
            "WARNING:ragas.testset.transforms.filters:Node 037d6a0e-ffa8-45be-8db3-98b1381e9801 does not have a summary. Skipping filtering.\n",
            "WARNING:ragas.testset.transforms.filters:Node e6c413b3-069a-419a-8506-39d31ef3a622 does not have a summary. Skipping filtering.\n",
            "WARNING:ragas.testset.transforms.filters:Node 63b33d45-f15a-431e-909b-f76c5260bda7 does not have a summary. Skipping filtering.\n",
            "WARNING:ragas.testset.transforms.filters:Node c5858f54-3935-44f3-9b68-f59f5002871a does not have a summary. Skipping filtering.\n",
            "WARNING:ragas.testset.transforms.filters:Node fe10fce6-410f-4a86-a0d0-1f563857ad8d does not have a summary. Skipping filtering.\n",
            "WARNING:ragas.testset.transforms.filters:Node ac7bad58-aedb-4b9a-9c80-cc058ce6bdc3 does not have a summary. Skipping filtering.\n",
            "WARNING:ragas.testset.transforms.filters:Node 30adb9bc-d71d-413b-bbbe-7ad5e9f10543 does not have a summary. Skipping filtering.\n",
            "WARNING:ragas.testset.transforms.filters:Node b31ca3ea-1168-495f-a7f2-0ab45d5f4b1e does not have a summary. Skipping filtering.\n",
            "WARNING:ragas.testset.transforms.filters:Node 8e67b215-2de3-4ce9-acb6-16ce898ddae1 does not have a summary. Skipping filtering.\n",
            "WARNING:ragas.testset.transforms.filters:Node 77116738-4c23-4fd5-bbc8-9106b1bfdb40 does not have a summary. Skipping filtering.\n",
            "WARNING:ragas.testset.transforms.filters:Node 5aa71d1c-d2dd-4315-a9bf-24dc28585598 does not have a summary. Skipping filtering.\n",
            "WARNING:ragas.testset.transforms.filters:Node 1b210342-92b1-4fc6-ba3a-7478c8b18ef6 does not have a summary. Skipping filtering.\n",
            "WARNING:ragas.testset.transforms.filters:Node aa16ead9-a818-4fea-98d5-1f5adfb6e962 does not have a summary. Skipping filtering.\n",
            "WARNING:ragas.testset.transforms.filters:Node 3e6b21b1-a813-4ec8-b1c0-a498016052fa does not have a summary. Skipping filtering.\n",
            "WARNING:ragas.testset.transforms.filters:Node 77238cd3-5667-4fb4-8170-ce6b99b52725 does not have a summary. Skipping filtering.\n",
            "WARNING:ragas.testset.transforms.filters:Node cf0b3fe5-3680-493c-8042-e83a76712bcd does not have a summary. Skipping filtering.\n",
            "WARNING:ragas.testset.transforms.filters:Node 8852eb90-dc5d-492d-a19c-17d4e7998d9e does not have a summary. Skipping filtering.\n",
            "WARNING:ragas.testset.transforms.filters:Node d0ab9a98-b040-432d-97f6-d0f3d17f4d27 does not have a summary. Skipping filtering.\n",
            "WARNING:ragas.testset.transforms.filters:Node e6d337a2-30c6-433b-953e-5d302420c180 does not have a summary. Skipping filtering.\n",
            "WARNING:ragas.testset.transforms.filters:Node 94781161-2a19-4f8b-9e0e-288e022a3242 does not have a summary. Skipping filtering.\n",
            "WARNING:ragas.testset.transforms.filters:Node e04f7fd9-3d1b-4029-b97b-70fcb8412435 does not have a summary. Skipping filtering.\n",
            "WARNING:ragas.testset.transforms.filters:Node d68a080d-1503-48a9-9c1f-20238d466773 does not have a summary. Skipping filtering.\n",
            "WARNING:ragas.testset.transforms.filters:Node 7eabbf9b-5137-4936-a169-db2061b883de does not have a summary. Skipping filtering.\n",
            "WARNING:ragas.testset.transforms.filters:Node 3f73b9c2-3e81-4106-adf9-47c561dfddc1 does not have a summary. Skipping filtering.\n",
            "WARNING:ragas.testset.transforms.filters:Node f5ed5c70-9423-4930-bda9-6fb1ff14e24c does not have a summary. Skipping filtering.\n",
            "WARNING:ragas.testset.transforms.filters:Node 4d6ed5d4-a8f0-479f-a631-020edc5d8a13 does not have a summary. Skipping filtering.\n",
            "WARNING:ragas.testset.transforms.filters:Node 231bb84e-1c76-4e08-8746-f4964c71c1b0 does not have a summary. Skipping filtering.\n",
            "WARNING:ragas.testset.transforms.filters:Node 4ce2ccc5-f80a-4339-a945-90198b0f78da does not have a summary. Skipping filtering.\n",
            "WARNING:ragas.testset.transforms.filters:Node c8c3d7b1-bbf5-474e-ae0f-1a6fea1f10cb does not have a summary. Skipping filtering.\n",
            "WARNING:ragas.testset.transforms.filters:Node cbb258a8-3b38-48ed-bf7a-1b8cbcd8d3ef does not have a summary. Skipping filtering.\n",
            "WARNING:ragas.testset.transforms.filters:Node b17be107-d6b2-47da-8953-6688867cc27a does not have a summary. Skipping filtering.\n",
            "WARNING:ragas.testset.transforms.filters:Node 0b869980-4ec7-49df-a15c-0659231744ec does not have a summary. Skipping filtering.\n",
            "WARNING:ragas.testset.transforms.filters:Node 895553ba-6c2f-4fd2-ab59-ee9e581b547f does not have a summary. Skipping filtering.\n",
            "WARNING:ragas.testset.transforms.filters:Node 5ef46f87-e34d-4e63-ba9f-073bd8062dc5 does not have a summary. Skipping filtering.\n",
            "WARNING:ragas.testset.transforms.filters:Node 98ae34b7-3c80-4881-ac56-f76cddb78d50 does not have a summary. Skipping filtering.\n",
            "WARNING:ragas.testset.transforms.filters:Node eb68d64f-e124-4c1d-aed3-65ef7f7ae3de does not have a summary. Skipping filtering.\n",
            "WARNING:ragas.testset.transforms.filters:Node 0cf07689-c955-4024-b557-073c1aa9cb61 does not have a summary. Skipping filtering.\n",
            "WARNING:ragas.testset.transforms.filters:Node 77f26c40-f27f-43e3-9c15-6730b7dc8ef0 does not have a summary. Skipping filtering.\n",
            "WARNING:ragas.testset.transforms.filters:Node 8b8c47ac-e97d-466b-81e3-aa9229101d01 does not have a summary. Skipping filtering.\n",
            "WARNING:ragas.testset.transforms.filters:Node 90904619-22c3-435c-94da-85ba0a659e89 does not have a summary. Skipping filtering.\n",
            "WARNING:ragas.testset.transforms.filters:Node 6cac7a57-813a-40a4-91b9-05db14b2c040 does not have a summary. Skipping filtering.\n",
            "WARNING:ragas.testset.transforms.filters:Node e2f5916a-2a62-434e-9a33-d93bceca2bfc does not have a summary. Skipping filtering.\n",
            "WARNING:ragas.testset.transforms.filters:Node cacf9a35-9fa4-455e-ac19-0ceccfb2ea80 does not have a summary. Skipping filtering.\n",
            "WARNING:ragas.testset.transforms.filters:Node fa67104e-9316-4109-b83e-e3213acb6051 does not have a summary. Skipping filtering.\n",
            "WARNING:ragas.testset.transforms.filters:Node 8dec795d-71b8-41ad-bedb-a4268b79acf6 does not have a summary. Skipping filtering.\n",
            "WARNING:ragas.testset.transforms.filters:Node 60a052ba-283a-47c4-bd8d-c8e0dcd1854f does not have a summary. Skipping filtering.\n",
            "WARNING:ragas.testset.transforms.filters:Node 0f96a33f-b2b2-4219-b14d-013b58ece804 does not have a summary. Skipping filtering.\n",
            "WARNING:ragas.testset.transforms.filters:Node 96986bab-2f93-4ea9-b6fc-9a86d26e82f2 does not have a summary. Skipping filtering.\n",
            "WARNING:ragas.testset.transforms.filters:Node 360d7717-dc80-448f-8579-accd6bf20c27 does not have a summary. Skipping filtering.\n",
            "WARNING:ragas.testset.transforms.filters:Node 7f56c696-9403-4aac-9bde-26807f39a9e1 does not have a summary. Skipping filtering.\n",
            "WARNING:ragas.testset.transforms.filters:Node 64e9acd5-56c9-44d3-8aee-7ffe05a2398b does not have a summary. Skipping filtering.\n",
            "WARNING:ragas.testset.transforms.filters:Node 4911c9d3-a2db-44b0-8db5-e3e46bba2852 does not have a summary. Skipping filtering.\n",
            "WARNING:ragas.testset.transforms.filters:Node 286f3903-2de6-4805-ac91-4666433c07ed does not have a summary. Skipping filtering.\n",
            "WARNING:ragas.testset.transforms.filters:Node eb499a5f-2b92-4d4a-bf8e-4bd7bf63f9ee does not have a summary. Skipping filtering.\n",
            "WARNING:ragas.testset.transforms.filters:Node a070a0ce-5bdc-4e54-9081-7563f88aed07 does not have a summary. Skipping filtering.\n",
            "WARNING:ragas.testset.transforms.filters:Node 99fa68ab-dc63-4594-8a70-a3415126107e does not have a summary. Skipping filtering.\n",
            "WARNING:ragas.testset.transforms.filters:Node a435e1b1-11e1-484c-84c1-fe98c09ef168 does not have a summary. Skipping filtering.\n",
            "WARNING:ragas.testset.transforms.filters:Node b00765b1-ded9-4bf0-a4b6-dfcef595a9bf does not have a summary. Skipping filtering.\n",
            "WARNING:ragas.testset.transforms.filters:Node 8299e25d-892f-4615-95da-fb55e25b419a does not have a summary. Skipping filtering.\n",
            "WARNING:ragas.testset.transforms.filters:Node 463cd783-d4d8-40f8-af5a-94d04a7d9759 does not have a summary. Skipping filtering.\n",
            "WARNING:ragas.testset.transforms.filters:Node bfad6f6f-0874-413b-9ed9-4ba10abebb41 does not have a summary. Skipping filtering.\n",
            "WARNING:ragas.testset.transforms.filters:Node 71eeb40a-b48c-4ed5-9417-915063b46142 does not have a summary. Skipping filtering.\n",
            "WARNING:ragas.testset.transforms.filters:Node 1c0c12c7-ff46-435a-90b8-968ee1989bea does not have a summary. Skipping filtering.\n",
            "WARNING:ragas.testset.transforms.filters:Node 28c82fbd-2221-4b60-9946-c48b48baa914 does not have a summary. Skipping filtering.\n",
            "WARNING:ragas.testset.transforms.filters:Node e5a8ddbc-2d9f-482a-9fdb-0e97a5ef6cef does not have a summary. Skipping filtering.\n",
            "WARNING:ragas.testset.transforms.filters:Node a057e079-58b8-444d-b2d4-ab255da92b2c does not have a summary. Skipping filtering.\n",
            "WARNING:ragas.testset.transforms.filters:Node d0a51c04-ffc7-41d5-a846-b132e57e1f35 does not have a summary. Skipping filtering.\n",
            "WARNING:ragas.testset.transforms.filters:Node 1ab84fa1-5ec8-4d9d-99bc-b19bbf4d7079 does not have a summary. Skipping filtering.\n",
            "WARNING:ragas.testset.transforms.filters:Node e1db61de-d470-47b2-9553-cf7297dee06b does not have a summary. Skipping filtering.\n",
            "WARNING:ragas.testset.transforms.filters:Node 9e1326e6-e06d-49dc-90b7-421ad28ee20b does not have a summary. Skipping filtering.\n",
            "WARNING:ragas.testset.transforms.filters:Node dab9f6c4-9232-45e5-b60a-06e3f27fa4ca does not have a summary. Skipping filtering.\n",
            "WARNING:ragas.testset.transforms.filters:Node e23ce1e5-302c-4ecd-8d64-67ab6077067f does not have a summary. Skipping filtering.\n",
            "WARNING:ragas.testset.transforms.filters:Node c428fc41-af0a-40c8-84a7-7331ced10a80 does not have a summary. Skipping filtering.\n",
            "WARNING:ragas.testset.transforms.filters:Node a14b9a26-cf63-4656-ba66-8add69471791 does not have a summary. Skipping filtering.\n",
            "WARNING:ragas.testset.transforms.filters:Node 4dae56e2-7041-405a-bf76-b8c15a44bff5 does not have a summary. Skipping filtering.\n",
            "WARNING:ragas.testset.transforms.filters:Node a3d55418-e6fc-426a-9797-537529702a3b does not have a summary. Skipping filtering.\n",
            "WARNING:ragas.testset.transforms.filters:Node d11b8002-b62d-4cd1-8b6c-e8a5a54982c3 does not have a summary. Skipping filtering.\n",
            "WARNING:ragas.testset.transforms.filters:Node 5001e312-1a5e-4a68-8872-759f0ac4acb2 does not have a summary. Skipping filtering.\n",
            "WARNING:ragas.testset.transforms.filters:Node 58e4a50b-1f4f-48cb-915f-8160a1581002 does not have a summary. Skipping filtering.\n",
            "WARNING:ragas.testset.transforms.filters:Node 47860922-f7ce-4f1e-a6f0-b931f739aaab does not have a summary. Skipping filtering.\n",
            "WARNING:ragas.testset.transforms.filters:Node b0539ff3-b6cb-4eee-ab18-ea5e27dd59c5 does not have a summary. Skipping filtering.\n",
            "WARNING:ragas.testset.transforms.filters:Node 9a708a1c-4c30-4028-8054-49b490187049 does not have a summary. Skipping filtering.\n",
            "WARNING:ragas.testset.transforms.filters:Node a3ec92e0-72ce-4f4a-a41b-e4bb80036fa2 does not have a summary. Skipping filtering.\n",
            "WARNING:ragas.testset.transforms.filters:Node 0fcb0cd1-49c0-44d4-9248-70477844ba70 does not have a summary. Skipping filtering.\n",
            "WARNING:ragas.testset.transforms.filters:Node 11cc5294-384f-4c21-aae4-4ce6702c98e6 does not have a summary. Skipping filtering.\n",
            "WARNING:ragas.testset.transforms.filters:Node 92ef683e-6d46-4936-93d9-c5ca0e71c6d7 does not have a summary. Skipping filtering.\n",
            "WARNING:ragas.testset.transforms.filters:Node 52f12faf-aaf9-4f1a-9269-5040d83ad28f does not have a summary. Skipping filtering.\n",
            "WARNING:ragas.testset.transforms.filters:Node 1cfc8f61-8803-43fb-ba44-7945be3e0ae0 does not have a summary. Skipping filtering.\n",
            "WARNING:ragas.testset.transforms.filters:Node 91c69e3b-5772-4591-bd34-ae8479832800 does not have a summary. Skipping filtering.\n",
            "WARNING:ragas.testset.transforms.filters:Node fd666278-63c6-4a16-9224-568d2aaed9ce does not have a summary. Skipping filtering.\n",
            "WARNING:ragas.testset.transforms.filters:Node 16485ca6-8f17-4955-8412-cb7857b57276 does not have a summary. Skipping filtering.\n"
          ]
        },
        {
          "output_type": "display_data",
          "data": {
            "text/plain": [
              "Applying [EmbeddingExtractor, ThemesExtractor, NERExtractor]:   0%|          | 0/394 [00:00<?, ?it/s]"
            ],
            "application/vnd.jupyter.widget-view+json": {
              "version_major": 2,
              "version_minor": 0,
              "model_id": "a9d9dbe2afc44fa9b4796e86fc64350e"
            }
          },
          "metadata": {}
        },
        {
          "output_type": "display_data",
          "data": {
            "text/plain": [
              "Applying [CosineSimilarityBuilder, OverlapScoreBuilder]:   0%|          | 0/2 [00:00<?, ?it/s]"
            ],
            "application/vnd.jupyter.widget-view+json": {
              "version_major": 2,
              "version_minor": 0,
              "model_id": "23bad69c5bc240a795c4764583ca8e48"
            }
          },
          "metadata": {}
        },
        {
          "output_type": "display_data",
          "data": {
            "text/plain": [
              "Generating personas:   0%|          | 0/3 [00:00<?, ?it/s]"
            ],
            "application/vnd.jupyter.widget-view+json": {
              "version_major": 2,
              "version_minor": 0,
              "model_id": "d64e983854bd4a6590023b5d631169a7"
            }
          },
          "metadata": {}
        },
        {
          "output_type": "display_data",
          "data": {
            "text/plain": [
              "Generating Scenarios:   0%|          | 0/3 [00:00<?, ?it/s]"
            ],
            "application/vnd.jupyter.widget-view+json": {
              "version_major": 2,
              "version_minor": 0,
              "model_id": "f62105d029d34197b35d84266c014bab"
            }
          },
          "metadata": {}
        },
        {
          "output_type": "display_data",
          "data": {
            "text/plain": [
              "Generating Samples:   0%|          | 0/12 [00:00<?, ?it/s]"
            ],
            "application/vnd.jupyter.widget-view+json": {
              "version_major": 2,
              "version_minor": 0,
              "model_id": "880660998ce041c8bafa7842e61593cb"
            }
          },
          "metadata": {}
        }
      ],
      "source": [
        "from ragas.testset import TestsetGenerator\n",
        "import random\n",
        "\n",
        "sample_docs = random.sample(training_documents, min(170, len(training_documents)))\n",
        "generator = TestsetGenerator(llm=generator_llm, embedding_model=generator_embeddings)\n",
        "dataset = generator.generate_with_langchain_docs(sample_docs, testset_size=10)"
      ]
    },
    {
      "cell_type": "code",
      "execution_count": null,
      "metadata": {
        "colab": {
          "base_uri": "https://localhost:8080/",
          "height": 634
        },
        "id": "BtL7X1QqmV4a",
        "outputId": "b5bc7fba-2ede-4977-de80-07d4b409ed92"
      },
      "outputs": [
        {
          "output_type": "execute_result",
          "data": {
            "text/plain": [
              "                                           user_input  \\\n",
              "0   What happened on Mar. 4, 2002 in relation to c...   \n",
              "1     Who get the letters about investigational drug?   \n",
              "2   What is important about Phases 2 in clinical t...   \n",
              "3   Can you tell me what the FDA might do if a spo...   \n",
              "4   What are the ongoing investigations and how do...   \n",
              "5   What conditions must be met for an investigati...   \n",
              "6   What is the significance of the pharmacologic ...   \n",
              "7   What are the regulations regarding investigati...   \n",
              "8   What are the criteria for classifying an adver...   \n",
              "9   What are the requirements for exporting an inv...   \n",
              "10  What are the primary objectives of the FDA in ...   \n",
              "11  What is the role of the sponsor in a clinical ...   \n",
              "\n",
              "                                   reference_contexts  \\\n",
              "0   [[52 FR 8831, Mar. 19, 1987, as amended at 52 ...   \n",
              "1   [marked to the attention of the responsible di...   \n",
              "2   [FDA only in the annual report.\\n(ii) In Phase...   \n",
              "3   [one of the following:\\n(1) An explanation why...   \n",
              "4   [<1-hop>\\n\\n[52 FR 8831, Mar. 19, 1987, as ame...   \n",
              "5   [<1-hop>\\n\\n(i) Any of the conditions in parag...   \n",
              "6   [<1-hop>\\n\\npharmacologic effect of the drug t...   \n",
              "7   [<1-hop>\\n\\nCAUTION: Contains a new drug for i...   \n",
              "8   [<1-hop>\\n\\nadverse event or suspected adverse...   \n",
              "9   [<1-hop>\\n\\ninvestigational new drug;\\n(2) Pro...   \n",
              "10  [<1-hop>\\n\\nusually include from several hundr...   \n",
              "11  [<1-hop>\\n\\n(i) A brief introductory statement...   \n",
              "\n",
              "                                            reference  \\\n",
              "0   On Mar. 4, 2002, there was an amendment noted ...   \n",
              "1   All correspondence relating to export of an in...   \n",
              "2   In Phases 2 and 3, it is important that detail...   \n",
              "3   FDA may grant a waiver if it finds that the sp...   \n",
              "4   Ongoing investigations are reviewed under § 31...   \n",
              "5   The conditions that must be met for an investi...   \n",
              "6   The pharmacologic effect of the drug is signif...   \n",
              "7   The regulations state that investigational dru...   \n",
              "8   An adverse event or suspected adverse reaction...   \n",
              "9   To export an investigational new drug in a nat...   \n",
              "10  The primary objectives of the FDA in reviewing...   \n",
              "11  The role of the sponsor in a clinical investig...   \n",
              "\n",
              "                        synthesizer_name  \n",
              "0   single_hop_specifc_query_synthesizer  \n",
              "1   single_hop_specifc_query_synthesizer  \n",
              "2   single_hop_specifc_query_synthesizer  \n",
              "3   single_hop_specifc_query_synthesizer  \n",
              "4   multi_hop_abstract_query_synthesizer  \n",
              "5   multi_hop_abstract_query_synthesizer  \n",
              "6   multi_hop_abstract_query_synthesizer  \n",
              "7   multi_hop_abstract_query_synthesizer  \n",
              "8   multi_hop_specific_query_synthesizer  \n",
              "9   multi_hop_specific_query_synthesizer  \n",
              "10  multi_hop_specific_query_synthesizer  \n",
              "11  multi_hop_specific_query_synthesizer  "
            ],
            "text/html": [
              "\n",
              "  <div id=\"df-0f37b051-0dbb-4b08-8311-55ef83e7fbab\" class=\"colab-df-container\">\n",
              "    <div>\n",
              "<style scoped>\n",
              "    .dataframe tbody tr th:only-of-type {\n",
              "        vertical-align: middle;\n",
              "    }\n",
              "\n",
              "    .dataframe tbody tr th {\n",
              "        vertical-align: top;\n",
              "    }\n",
              "\n",
              "    .dataframe thead th {\n",
              "        text-align: right;\n",
              "    }\n",
              "</style>\n",
              "<table border=\"1\" class=\"dataframe\">\n",
              "  <thead>\n",
              "    <tr style=\"text-align: right;\">\n",
              "      <th></th>\n",
              "      <th>user_input</th>\n",
              "      <th>reference_contexts</th>\n",
              "      <th>reference</th>\n",
              "      <th>synthesizer_name</th>\n",
              "    </tr>\n",
              "  </thead>\n",
              "  <tbody>\n",
              "    <tr>\n",
              "      <th>0</th>\n",
              "      <td>What happened on Mar. 4, 2002 in relation to c...</td>\n",
              "      <td>[[52 FR 8831, Mar. 19, 1987, as amended at 52 ...</td>\n",
              "      <td>On Mar. 4, 2002, there was an amendment noted ...</td>\n",
              "      <td>single_hop_specifc_query_synthesizer</td>\n",
              "    </tr>\n",
              "    <tr>\n",
              "      <th>1</th>\n",
              "      <td>Who get the letters about investigational drug?</td>\n",
              "      <td>[marked to the attention of the responsible di...</td>\n",
              "      <td>All correspondence relating to export of an in...</td>\n",
              "      <td>single_hop_specifc_query_synthesizer</td>\n",
              "    </tr>\n",
              "    <tr>\n",
              "      <th>2</th>\n",
              "      <td>What is important about Phases 2 in clinical t...</td>\n",
              "      <td>[FDA only in the annual report.\\n(ii) In Phase...</td>\n",
              "      <td>In Phases 2 and 3, it is important that detail...</td>\n",
              "      <td>single_hop_specifc_query_synthesizer</td>\n",
              "    </tr>\n",
              "    <tr>\n",
              "      <th>3</th>\n",
              "      <td>Can you tell me what the FDA might do if a spo...</td>\n",
              "      <td>[one of the following:\\n(1) An explanation why...</td>\n",
              "      <td>FDA may grant a waiver if it finds that the sp...</td>\n",
              "      <td>single_hop_specifc_query_synthesizer</td>\n",
              "    </tr>\n",
              "    <tr>\n",
              "      <th>4</th>\n",
              "      <td>What are the ongoing investigations and how do...</td>\n",
              "      <td>[&lt;1-hop&gt;\\n\\n[52 FR 8831, Mar. 19, 1987, as ame...</td>\n",
              "      <td>Ongoing investigations are reviewed under § 31...</td>\n",
              "      <td>multi_hop_abstract_query_synthesizer</td>\n",
              "    </tr>\n",
              "    <tr>\n",
              "      <th>5</th>\n",
              "      <td>What conditions must be met for an investigati...</td>\n",
              "      <td>[&lt;1-hop&gt;\\n\\n(i) Any of the conditions in parag...</td>\n",
              "      <td>The conditions that must be met for an investi...</td>\n",
              "      <td>multi_hop_abstract_query_synthesizer</td>\n",
              "    </tr>\n",
              "    <tr>\n",
              "      <th>6</th>\n",
              "      <td>What is the significance of the pharmacologic ...</td>\n",
              "      <td>[&lt;1-hop&gt;\\n\\npharmacologic effect of the drug t...</td>\n",
              "      <td>The pharmacologic effect of the drug is signif...</td>\n",
              "      <td>multi_hop_abstract_query_synthesizer</td>\n",
              "    </tr>\n",
              "    <tr>\n",
              "      <th>7</th>\n",
              "      <td>What are the regulations regarding investigati...</td>\n",
              "      <td>[&lt;1-hop&gt;\\n\\nCAUTION: Contains a new drug for i...</td>\n",
              "      <td>The regulations state that investigational dru...</td>\n",
              "      <td>multi_hop_abstract_query_synthesizer</td>\n",
              "    </tr>\n",
              "    <tr>\n",
              "      <th>8</th>\n",
              "      <td>What are the criteria for classifying an adver...</td>\n",
              "      <td>[&lt;1-hop&gt;\\n\\nadverse event or suspected adverse...</td>\n",
              "      <td>An adverse event or suspected adverse reaction...</td>\n",
              "      <td>multi_hop_specific_query_synthesizer</td>\n",
              "    </tr>\n",
              "    <tr>\n",
              "      <th>9</th>\n",
              "      <td>What are the requirements for exporting an inv...</td>\n",
              "      <td>[&lt;1-hop&gt;\\n\\ninvestigational new drug;\\n(2) Pro...</td>\n",
              "      <td>To export an investigational new drug in a nat...</td>\n",
              "      <td>multi_hop_specific_query_synthesizer</td>\n",
              "    </tr>\n",
              "    <tr>\n",
              "      <th>10</th>\n",
              "      <td>What are the primary objectives of the FDA in ...</td>\n",
              "      <td>[&lt;1-hop&gt;\\n\\nusually include from several hundr...</td>\n",
              "      <td>The primary objectives of the FDA in reviewing...</td>\n",
              "      <td>multi_hop_specific_query_synthesizer</td>\n",
              "    </tr>\n",
              "    <tr>\n",
              "      <th>11</th>\n",
              "      <td>What is the role of the sponsor in a clinical ...</td>\n",
              "      <td>[&lt;1-hop&gt;\\n\\n(i) A brief introductory statement...</td>\n",
              "      <td>The role of the sponsor in a clinical investig...</td>\n",
              "      <td>multi_hop_specific_query_synthesizer</td>\n",
              "    </tr>\n",
              "  </tbody>\n",
              "</table>\n",
              "</div>\n",
              "    <div class=\"colab-df-buttons\">\n",
              "\n",
              "  <div class=\"colab-df-container\">\n",
              "    <button class=\"colab-df-convert\" onclick=\"convertToInteractive('df-0f37b051-0dbb-4b08-8311-55ef83e7fbab')\"\n",
              "            title=\"Convert this dataframe to an interactive table.\"\n",
              "            style=\"display:none;\">\n",
              "\n",
              "  <svg xmlns=\"http://www.w3.org/2000/svg\" height=\"24px\" viewBox=\"0 -960 960 960\">\n",
              "    <path d=\"M120-120v-720h720v720H120Zm60-500h600v-160H180v160Zm220 220h160v-160H400v160Zm0 220h160v-160H400v160ZM180-400h160v-160H180v160Zm440 0h160v-160H620v160ZM180-180h160v-160H180v160Zm440 0h160v-160H620v160Z\"/>\n",
              "  </svg>\n",
              "    </button>\n",
              "\n",
              "  <style>\n",
              "    .colab-df-container {\n",
              "      display:flex;\n",
              "      gap: 12px;\n",
              "    }\n",
              "\n",
              "    .colab-df-convert {\n",
              "      background-color: #E8F0FE;\n",
              "      border: none;\n",
              "      border-radius: 50%;\n",
              "      cursor: pointer;\n",
              "      display: none;\n",
              "      fill: #1967D2;\n",
              "      height: 32px;\n",
              "      padding: 0 0 0 0;\n",
              "      width: 32px;\n",
              "    }\n",
              "\n",
              "    .colab-df-convert:hover {\n",
              "      background-color: #E2EBFA;\n",
              "      box-shadow: 0px 1px 2px rgba(60, 64, 67, 0.3), 0px 1px 3px 1px rgba(60, 64, 67, 0.15);\n",
              "      fill: #174EA6;\n",
              "    }\n",
              "\n",
              "    .colab-df-buttons div {\n",
              "      margin-bottom: 4px;\n",
              "    }\n",
              "\n",
              "    [theme=dark] .colab-df-convert {\n",
              "      background-color: #3B4455;\n",
              "      fill: #D2E3FC;\n",
              "    }\n",
              "\n",
              "    [theme=dark] .colab-df-convert:hover {\n",
              "      background-color: #434B5C;\n",
              "      box-shadow: 0px 1px 3px 1px rgba(0, 0, 0, 0.15);\n",
              "      filter: drop-shadow(0px 1px 2px rgba(0, 0, 0, 0.3));\n",
              "      fill: #FFFFFF;\n",
              "    }\n",
              "  </style>\n",
              "\n",
              "    <script>\n",
              "      const buttonEl =\n",
              "        document.querySelector('#df-0f37b051-0dbb-4b08-8311-55ef83e7fbab button.colab-df-convert');\n",
              "      buttonEl.style.display =\n",
              "        google.colab.kernel.accessAllowed ? 'block' : 'none';\n",
              "\n",
              "      async function convertToInteractive(key) {\n",
              "        const element = document.querySelector('#df-0f37b051-0dbb-4b08-8311-55ef83e7fbab');\n",
              "        const dataTable =\n",
              "          await google.colab.kernel.invokeFunction('convertToInteractive',\n",
              "                                                    [key], {});\n",
              "        if (!dataTable) return;\n",
              "\n",
              "        const docLinkHtml = 'Like what you see? Visit the ' +\n",
              "          '<a target=\"_blank\" href=https://colab.research.google.com/notebooks/data_table.ipynb>data table notebook</a>'\n",
              "          + ' to learn more about interactive tables.';\n",
              "        element.innerHTML = '';\n",
              "        dataTable['output_type'] = 'display_data';\n",
              "        await google.colab.output.renderOutput(dataTable, element);\n",
              "        const docLink = document.createElement('div');\n",
              "        docLink.innerHTML = docLinkHtml;\n",
              "        element.appendChild(docLink);\n",
              "      }\n",
              "    </script>\n",
              "  </div>\n",
              "\n",
              "\n",
              "<div id=\"df-7489507b-4c27-4b18-986a-1c94985cf3ce\">\n",
              "  <button class=\"colab-df-quickchart\" onclick=\"quickchart('df-7489507b-4c27-4b18-986a-1c94985cf3ce')\"\n",
              "            title=\"Suggest charts\"\n",
              "            style=\"display:none;\">\n",
              "\n",
              "<svg xmlns=\"http://www.w3.org/2000/svg\" height=\"24px\"viewBox=\"0 0 24 24\"\n",
              "     width=\"24px\">\n",
              "    <g>\n",
              "        <path d=\"M19 3H5c-1.1 0-2 .9-2 2v14c0 1.1.9 2 2 2h14c1.1 0 2-.9 2-2V5c0-1.1-.9-2-2-2zM9 17H7v-7h2v7zm4 0h-2V7h2v10zm4 0h-2v-4h2v4z\"/>\n",
              "    </g>\n",
              "</svg>\n",
              "  </button>\n",
              "\n",
              "<style>\n",
              "  .colab-df-quickchart {\n",
              "      --bg-color: #E8F0FE;\n",
              "      --fill-color: #1967D2;\n",
              "      --hover-bg-color: #E2EBFA;\n",
              "      --hover-fill-color: #174EA6;\n",
              "      --disabled-fill-color: #AAA;\n",
              "      --disabled-bg-color: #DDD;\n",
              "  }\n",
              "\n",
              "  [theme=dark] .colab-df-quickchart {\n",
              "      --bg-color: #3B4455;\n",
              "      --fill-color: #D2E3FC;\n",
              "      --hover-bg-color: #434B5C;\n",
              "      --hover-fill-color: #FFFFFF;\n",
              "      --disabled-bg-color: #3B4455;\n",
              "      --disabled-fill-color: #666;\n",
              "  }\n",
              "\n",
              "  .colab-df-quickchart {\n",
              "    background-color: var(--bg-color);\n",
              "    border: none;\n",
              "    border-radius: 50%;\n",
              "    cursor: pointer;\n",
              "    display: none;\n",
              "    fill: var(--fill-color);\n",
              "    height: 32px;\n",
              "    padding: 0;\n",
              "    width: 32px;\n",
              "  }\n",
              "\n",
              "  .colab-df-quickchart:hover {\n",
              "    background-color: var(--hover-bg-color);\n",
              "    box-shadow: 0 1px 2px rgba(60, 64, 67, 0.3), 0 1px 3px 1px rgba(60, 64, 67, 0.15);\n",
              "    fill: var(--button-hover-fill-color);\n",
              "  }\n",
              "\n",
              "  .colab-df-quickchart-complete:disabled,\n",
              "  .colab-df-quickchart-complete:disabled:hover {\n",
              "    background-color: var(--disabled-bg-color);\n",
              "    fill: var(--disabled-fill-color);\n",
              "    box-shadow: none;\n",
              "  }\n",
              "\n",
              "  .colab-df-spinner {\n",
              "    border: 2px solid var(--fill-color);\n",
              "    border-color: transparent;\n",
              "    border-bottom-color: var(--fill-color);\n",
              "    animation:\n",
              "      spin 1s steps(1) infinite;\n",
              "  }\n",
              "\n",
              "  @keyframes spin {\n",
              "    0% {\n",
              "      border-color: transparent;\n",
              "      border-bottom-color: var(--fill-color);\n",
              "      border-left-color: var(--fill-color);\n",
              "    }\n",
              "    20% {\n",
              "      border-color: transparent;\n",
              "      border-left-color: var(--fill-color);\n",
              "      border-top-color: var(--fill-color);\n",
              "    }\n",
              "    30% {\n",
              "      border-color: transparent;\n",
              "      border-left-color: var(--fill-color);\n",
              "      border-top-color: var(--fill-color);\n",
              "      border-right-color: var(--fill-color);\n",
              "    }\n",
              "    40% {\n",
              "      border-color: transparent;\n",
              "      border-right-color: var(--fill-color);\n",
              "      border-top-color: var(--fill-color);\n",
              "    }\n",
              "    60% {\n",
              "      border-color: transparent;\n",
              "      border-right-color: var(--fill-color);\n",
              "    }\n",
              "    80% {\n",
              "      border-color: transparent;\n",
              "      border-right-color: var(--fill-color);\n",
              "      border-bottom-color: var(--fill-color);\n",
              "    }\n",
              "    90% {\n",
              "      border-color: transparent;\n",
              "      border-bottom-color: var(--fill-color);\n",
              "    }\n",
              "  }\n",
              "</style>\n",
              "\n",
              "  <script>\n",
              "    async function quickchart(key) {\n",
              "      const quickchartButtonEl =\n",
              "        document.querySelector('#' + key + ' button');\n",
              "      quickchartButtonEl.disabled = true;  // To prevent multiple clicks.\n",
              "      quickchartButtonEl.classList.add('colab-df-spinner');\n",
              "      try {\n",
              "        const charts = await google.colab.kernel.invokeFunction(\n",
              "            'suggestCharts', [key], {});\n",
              "      } catch (error) {\n",
              "        console.error('Error during call to suggestCharts:', error);\n",
              "      }\n",
              "      quickchartButtonEl.classList.remove('colab-df-spinner');\n",
              "      quickchartButtonEl.classList.add('colab-df-quickchart-complete');\n",
              "    }\n",
              "    (() => {\n",
              "      let quickchartButtonEl =\n",
              "        document.querySelector('#df-7489507b-4c27-4b18-986a-1c94985cf3ce button');\n",
              "      quickchartButtonEl.style.display =\n",
              "        google.colab.kernel.accessAllowed ? 'block' : 'none';\n",
              "    })();\n",
              "  </script>\n",
              "</div>\n",
              "\n",
              "    </div>\n",
              "  </div>\n"
            ],
            "application/vnd.google.colaboratory.intrinsic+json": {
              "type": "dataframe",
              "summary": "{\n  \"name\": \"dataset\",\n  \"rows\": 12,\n  \"fields\": [\n    {\n      \"column\": \"user_input\",\n      \"properties\": {\n        \"dtype\": \"string\",\n        \"num_unique_values\": 12,\n        \"samples\": [\n          \"What are the primary objectives of the FDA in reviewing Phase 2 and Phase 3 investigations, and how does the end-of-Phase 2 meeting facilitate the transition to Phase 3 tests?\",\n          \"What are the requirements for exporting an investigational new drug in a national emergency and how does the labeling for the drug relate to the investigation process?\",\n          \"What happened on Mar. 4, 2002 in relation to clinical trials?\"\n        ],\n        \"semantic_type\": \"\",\n        \"description\": \"\"\n      }\n    },\n    {\n      \"column\": \"reference_contexts\",\n      \"properties\": {\n        \"dtype\": \"object\",\n        \"semantic_type\": \"\",\n        \"description\": \"\"\n      }\n    },\n    {\n      \"column\": \"reference\",\n      \"properties\": {\n        \"dtype\": \"string\",\n        \"num_unique_values\": 12,\n        \"samples\": [\n          \"The primary objectives of the FDA in reviewing Phase 2 and Phase 3 investigations are to assure the safety and rights of subjects and to ensure that the quality of the scientific evaluation of drugs is adequate for evaluating the drug's effectiveness and safety. The end-of-Phase 2 meeting is designed primarily for INDs involving new molecular entities or major new uses of marketed drugs, allowing sponsors to discuss the results of Phase 2 and plan for Phase 3 tests. This meeting should be held before major commitments of effort and resources to specific Phase 3 tests are made, facilitating a smoother transition.\",\n          \"To export an investigational new drug in a national emergency, the exporter must provide a written statement from an authorized official of the importing country's government. This statement must confirm that the official agrees with the exporter's statement, explain that the drug is to be stockpiled solely for use in a national emergency, and describe the potential national emergency that justifies the exportation. Additionally, if the drug undergoing investigation is lawfully marketed as a prescription drug product, the investigation should not aim to support a significant change in the advertising for the product. The investigation must also not involve a route of administration, dosage level, or patient population that significantly increases the risks associated with the drug.\",\n          \"On Mar. 4, 2002, there was an amendment noted in the Federal Register, specifically referenced in the context of inactive status for clinical trials.\"\n        ],\n        \"semantic_type\": \"\",\n        \"description\": \"\"\n      }\n    },\n    {\n      \"column\": \"synthesizer_name\",\n      \"properties\": {\n        \"dtype\": \"category\",\n        \"num_unique_values\": 3,\n        \"samples\": [\n          \"single_hop_specifc_query_synthesizer\",\n          \"multi_hop_abstract_query_synthesizer\",\n          \"multi_hop_specific_query_synthesizer\"\n        ],\n        \"semantic_type\": \"\",\n        \"description\": \"\"\n      }\n    }\n  ]\n}"
            }
          },
          "metadata": {},
          "execution_count": 100
        }
      ],
      "source": [
        "dataset.to_pandas()"
      ]
    },
    {
      "cell_type": "code",
      "execution_count": null,
      "metadata": {
        "colab": {
          "base_uri": "https://localhost:8080/",
          "height": 53
        },
        "id": "u2IYYSrzmV4a",
        "outputId": "36dd23e3-bc58-401e-bbaa-eb8e782c77c2"
      },
      "outputs": [
        {
          "output_type": "stream",
          "name": "stdout",
          "text": [
            "Testset uploaded! View at https://app.ragas.io/dashboard/alignment/testset/dd00e118-7f48-477e-81c5-fbe6e31433a8\n"
          ]
        },
        {
          "output_type": "execute_result",
          "data": {
            "text/plain": [
              "'https://app.ragas.io/dashboard/alignment/testset/dd00e118-7f48-477e-81c5-fbe6e31433a8'"
            ],
            "application/vnd.google.colaboratory.intrinsic+json": {
              "type": "string"
            }
          },
          "metadata": {},
          "execution_count": 85
        }
      ],
      "source": [
        "\n",
        "dataset.upload()"
      ]
    },
    {
      "cell_type": "markdown",
      "metadata": {
        "id": "dhGXzhSEmV4a"
      },
      "source": [
        "## Evaluating the App with Ragas"
      ]
    },
    {
      "cell_type": "code",
      "execution_count": null,
      "metadata": {
        "id": "vZj6N-oTmV4b"
      },
      "outputs": [],
      "source": [
        "for test_row in dataset:\n",
        "  response = base_rag_chain.invoke({\"question\" : test_row.eval_sample.user_input})\n",
        "  test_row.eval_sample.response = response[\"response\"]\n",
        "  test_row.eval_sample.retrieved_contexts = [context.page_content for context in response[\"context\"]]"
      ]
    },
    {
      "cell_type": "code",
      "execution_count": null,
      "metadata": {
        "colab": {
          "base_uri": "https://localhost:8080/",
          "height": 860
        },
        "id": "Jy76P1StmV4b",
        "outputId": "18c08f18-606e-47ea-fbcf-d9749743a254"
      },
      "outputs": [
        {
          "output_type": "execute_result",
          "data": {
            "text/plain": [
              "                                           user_input  \\\n",
              "0   Wht is the role of the FDA in the review of IN...   \n",
              "1   In what circumstances might the FDA refer scie...   \n",
              "2                    What § 312.23(a)(6)(iii)(b) say?   \n",
              "3   Under what circumstances can the President wai...   \n",
              "4   How does the Center for Drug Evaluation and Re...   \n",
              "5   How does the Investigational New Drug Applicat...   \n",
              "6   How can a sponsor address compliance issues an...   \n",
              "7   How drug get marketing authorization in countr...   \n",
              "8   As a Regulatory Affairs Specialist, how do the...   \n",
              "9   How do the regulations outlined in 21 CFR 312....   \n",
              "10  What are the specific provisions outlined in 2...   \n",
              "11  What 21 CFR 312.61 and 21 CFR 312.23(d) say ab...   \n",
              "\n",
              "                                   retrieved_contexts  \\\n",
              "0   [FDA reviewing divisions with respect to requi...   \n",
              "1   [scientific and medical policy issues not reso...   \n",
              "2   [An investigator shall upon request from any p...   \n",
              "3   [(i) Any of the conditions in paragraphs (b)(1...   \n",
              "4   [§ 312.160 Drugs for investigational use in la...   \n",
              "5   [21 CFR Part 312 (up to date as of 1/23/2025)\\...   \n",
              "6   [Administration, Center for Biologics Evaluati...   \n",
              "7   [(2) The drug has valid marketing authorizatio...   \n",
              "8   [as follows:\\n(i) Situations where the investi...   \n",
              "9   [before its implementation. Protocol amendment...   \n",
              "10  [extent that this provision is not explicitly ...   \n",
              "11  [21 CFR Part 312 (up to date as of 1/23/2025)\\...   \n",
              "\n",
              "                                   reference_contexts  \\\n",
              "0   [FDA reviewing divisions with respect to requi...   \n",
              "1   [scientific and medical policy issues not reso...   \n",
              "2   [(iii) In the case of a new investigator, the ...   \n",
              "3   [(i) Any of the conditions in paragraphs (b)(1...   \n",
              "4   [<1-hop>\\n\\n[52 FR 8831, Mar. 19, 1987, as ame...   \n",
              "5   [<1-hop>\\n\\nTitle 21 —Food and Drugs\\nChapter ...   \n",
              "6   [<1-hop>\\n\\none of the following:\\n(1) An expl...   \n",
              "7   [<1-hop>\\n\\n(2) The drug has valid marketing a...   \n",
              "8   [<1-hop>\\n\\nextent that this provision is not ...   \n",
              "9   [<1-hop>\\n\\nmarketing approval. Such letter wi...   \n",
              "10  [<1-hop>\\n\\nextent that this provision is not ...   \n",
              "11  [<1-hop>\\n\\nthe completion of the study.\\n21 C...   \n",
              "\n",
              "                                             response  \\\n",
              "0   The role of the FDA in the review of INDs (Inv...   \n",
              "1   The FDA may refer scientific and medical polic...   \n",
              "2                                      I do not know.   \n",
              "3   The President can waive the prior consent requ...   \n",
              "4   The Center for Drug Evaluation and Research (C...   \n",
              "5   The Investigational New Drug Application (IND)...   \n",
              "6   A sponsor can address compliance issues by beg...   \n",
              "7   To obtain marketing authorization in countries...   \n",
              "8   The provisions outlined in 21 CFR 312.6(c) and...   \n",
              "9                                      I do not know.   \n",
              "10                                     I do not know.   \n",
              "11                                     I do not know.   \n",
              "\n",
              "                                            reference  \\\n",
              "0   The FDA's role in the review of IND's involves...   \n",
              "1   The FDA may refer scientific and medical polic...   \n",
              "2   § 312.23(a)(6)(iii)(b) requires the investigat...   \n",
              "3   The President can determine to waive the prior...   \n",
              "4   The Center for Drug Evaluation and Research (C...   \n",
              "5   The Investigational New Drug Application ensur...   \n",
              "6   A sponsor can address compliance issues by pro...   \n",
              "7   A drug can obtain marketing authorization in c...   \n",
              "8   The provisions outlined in 21 CFR 312.6(c) and...   \n",
              "9   The regulations outlined in 21 CFR 312.305(c)(...   \n",
              "10  21 CFR 312.44(c)(2) and 21 CFR 312.6(c) are pr...   \n",
              "11  21 CFR 312.61 pertains to the Investigational ...   \n",
              "\n",
              "                        synthesizer_name  \n",
              "0   single_hop_specifc_query_synthesizer  \n",
              "1   single_hop_specifc_query_synthesizer  \n",
              "2   single_hop_specifc_query_synthesizer  \n",
              "3   single_hop_specifc_query_synthesizer  \n",
              "4   multi_hop_abstract_query_synthesizer  \n",
              "5   multi_hop_abstract_query_synthesizer  \n",
              "6   multi_hop_abstract_query_synthesizer  \n",
              "7   multi_hop_abstract_query_synthesizer  \n",
              "8   multi_hop_specific_query_synthesizer  \n",
              "9   multi_hop_specific_query_synthesizer  \n",
              "10  multi_hop_specific_query_synthesizer  \n",
              "11  multi_hop_specific_query_synthesizer  "
            ],
            "text/html": [
              "\n",
              "  <div id=\"df-ea0b01a3-8c8e-4e3b-b315-ba37bd30c89b\" class=\"colab-df-container\">\n",
              "    <div>\n",
              "<style scoped>\n",
              "    .dataframe tbody tr th:only-of-type {\n",
              "        vertical-align: middle;\n",
              "    }\n",
              "\n",
              "    .dataframe tbody tr th {\n",
              "        vertical-align: top;\n",
              "    }\n",
              "\n",
              "    .dataframe thead th {\n",
              "        text-align: right;\n",
              "    }\n",
              "</style>\n",
              "<table border=\"1\" class=\"dataframe\">\n",
              "  <thead>\n",
              "    <tr style=\"text-align: right;\">\n",
              "      <th></th>\n",
              "      <th>user_input</th>\n",
              "      <th>retrieved_contexts</th>\n",
              "      <th>reference_contexts</th>\n",
              "      <th>response</th>\n",
              "      <th>reference</th>\n",
              "      <th>synthesizer_name</th>\n",
              "    </tr>\n",
              "  </thead>\n",
              "  <tbody>\n",
              "    <tr>\n",
              "      <th>0</th>\n",
              "      <td>Wht is the role of the FDA in the review of IN...</td>\n",
              "      <td>[FDA reviewing divisions with respect to requi...</td>\n",
              "      <td>[FDA reviewing divisions with respect to requi...</td>\n",
              "      <td>The role of the FDA in the review of INDs (Inv...</td>\n",
              "      <td>The FDA's role in the review of IND's involves...</td>\n",
              "      <td>single_hop_specifc_query_synthesizer</td>\n",
              "    </tr>\n",
              "    <tr>\n",
              "      <th>1</th>\n",
              "      <td>In what circumstances might the FDA refer scie...</td>\n",
              "      <td>[scientific and medical policy issues not reso...</td>\n",
              "      <td>[scientific and medical policy issues not reso...</td>\n",
              "      <td>The FDA may refer scientific and medical polic...</td>\n",
              "      <td>The FDA may refer scientific and medical polic...</td>\n",
              "      <td>single_hop_specifc_query_synthesizer</td>\n",
              "    </tr>\n",
              "    <tr>\n",
              "      <th>2</th>\n",
              "      <td>What § 312.23(a)(6)(iii)(b) say?</td>\n",
              "      <td>[An investigator shall upon request from any p...</td>\n",
              "      <td>[(iii) In the case of a new investigator, the ...</td>\n",
              "      <td>I do not know.</td>\n",
              "      <td>§ 312.23(a)(6)(iii)(b) requires the investigat...</td>\n",
              "      <td>single_hop_specifc_query_synthesizer</td>\n",
              "    </tr>\n",
              "    <tr>\n",
              "      <th>3</th>\n",
              "      <td>Under what circumstances can the President wai...</td>\n",
              "      <td>[(i) Any of the conditions in paragraphs (b)(1...</td>\n",
              "      <td>[(i) Any of the conditions in paragraphs (b)(1...</td>\n",
              "      <td>The President can waive the prior consent requ...</td>\n",
              "      <td>The President can determine to waive the prior...</td>\n",
              "      <td>single_hop_specifc_query_synthesizer</td>\n",
              "    </tr>\n",
              "    <tr>\n",
              "      <th>4</th>\n",
              "      <td>How does the Center for Drug Evaluation and Re...</td>\n",
              "      <td>[§ 312.160 Drugs for investigational use in la...</td>\n",
              "      <td>[&lt;1-hop&gt;\\n\\n[52 FR 8831, Mar. 19, 1987, as ame...</td>\n",
              "      <td>The Center for Drug Evaluation and Research (C...</td>\n",
              "      <td>The Center for Drug Evaluation and Research (C...</td>\n",
              "      <td>multi_hop_abstract_query_synthesizer</td>\n",
              "    </tr>\n",
              "    <tr>\n",
              "      <th>5</th>\n",
              "      <td>How does the Investigational New Drug Applicat...</td>\n",
              "      <td>[21 CFR Part 312 (up to date as of 1/23/2025)\\...</td>\n",
              "      <td>[&lt;1-hop&gt;\\n\\nTitle 21 —Food and Drugs\\nChapter ...</td>\n",
              "      <td>The Investigational New Drug Application (IND)...</td>\n",
              "      <td>The Investigational New Drug Application ensur...</td>\n",
              "      <td>multi_hop_abstract_query_synthesizer</td>\n",
              "    </tr>\n",
              "    <tr>\n",
              "      <th>6</th>\n",
              "      <td>How can a sponsor address compliance issues an...</td>\n",
              "      <td>[Administration, Center for Biologics Evaluati...</td>\n",
              "      <td>[&lt;1-hop&gt;\\n\\none of the following:\\n(1) An expl...</td>\n",
              "      <td>A sponsor can address compliance issues by beg...</td>\n",
              "      <td>A sponsor can address compliance issues by pro...</td>\n",
              "      <td>multi_hop_abstract_query_synthesizer</td>\n",
              "    </tr>\n",
              "    <tr>\n",
              "      <th>7</th>\n",
              "      <td>How drug get marketing authorization in countr...</td>\n",
              "      <td>[(2) The drug has valid marketing authorizatio...</td>\n",
              "      <td>[&lt;1-hop&gt;\\n\\n(2) The drug has valid marketing a...</td>\n",
              "      <td>To obtain marketing authorization in countries...</td>\n",
              "      <td>A drug can obtain marketing authorization in c...</td>\n",
              "      <td>multi_hop_abstract_query_synthesizer</td>\n",
              "    </tr>\n",
              "    <tr>\n",
              "      <th>8</th>\n",
              "      <td>As a Regulatory Affairs Specialist, how do the...</td>\n",
              "      <td>[as follows:\\n(i) Situations where the investi...</td>\n",
              "      <td>[&lt;1-hop&gt;\\n\\nextent that this provision is not ...</td>\n",
              "      <td>The provisions outlined in 21 CFR 312.6(c) and...</td>\n",
              "      <td>The provisions outlined in 21 CFR 312.6(c) and...</td>\n",
              "      <td>multi_hop_specific_query_synthesizer</td>\n",
              "    </tr>\n",
              "    <tr>\n",
              "      <th>9</th>\n",
              "      <td>How do the regulations outlined in 21 CFR 312....</td>\n",
              "      <td>[before its implementation. Protocol amendment...</td>\n",
              "      <td>[&lt;1-hop&gt;\\n\\nmarketing approval. Such letter wi...</td>\n",
              "      <td>I do not know.</td>\n",
              "      <td>The regulations outlined in 21 CFR 312.305(c)(...</td>\n",
              "      <td>multi_hop_specific_query_synthesizer</td>\n",
              "    </tr>\n",
              "    <tr>\n",
              "      <th>10</th>\n",
              "      <td>What are the specific provisions outlined in 2...</td>\n",
              "      <td>[extent that this provision is not explicitly ...</td>\n",
              "      <td>[&lt;1-hop&gt;\\n\\nextent that this provision is not ...</td>\n",
              "      <td>I do not know.</td>\n",
              "      <td>21 CFR 312.44(c)(2) and 21 CFR 312.6(c) are pr...</td>\n",
              "      <td>multi_hop_specific_query_synthesizer</td>\n",
              "    </tr>\n",
              "    <tr>\n",
              "      <th>11</th>\n",
              "      <td>What 21 CFR 312.61 and 21 CFR 312.23(d) say ab...</td>\n",
              "      <td>[21 CFR Part 312 (up to date as of 1/23/2025)\\...</td>\n",
              "      <td>[&lt;1-hop&gt;\\n\\nthe completion of the study.\\n21 C...</td>\n",
              "      <td>I do not know.</td>\n",
              "      <td>21 CFR 312.61 pertains to the Investigational ...</td>\n",
              "      <td>multi_hop_specific_query_synthesizer</td>\n",
              "    </tr>\n",
              "  </tbody>\n",
              "</table>\n",
              "</div>\n",
              "    <div class=\"colab-df-buttons\">\n",
              "\n",
              "  <div class=\"colab-df-container\">\n",
              "    <button class=\"colab-df-convert\" onclick=\"convertToInteractive('df-ea0b01a3-8c8e-4e3b-b315-ba37bd30c89b')\"\n",
              "            title=\"Convert this dataframe to an interactive table.\"\n",
              "            style=\"display:none;\">\n",
              "\n",
              "  <svg xmlns=\"http://www.w3.org/2000/svg\" height=\"24px\" viewBox=\"0 -960 960 960\">\n",
              "    <path d=\"M120-120v-720h720v720H120Zm60-500h600v-160H180v160Zm220 220h160v-160H400v160Zm0 220h160v-160H400v160ZM180-400h160v-160H180v160Zm440 0h160v-160H620v160ZM180-180h160v-160H180v160Zm440 0h160v-160H620v160Z\"/>\n",
              "  </svg>\n",
              "    </button>\n",
              "\n",
              "  <style>\n",
              "    .colab-df-container {\n",
              "      display:flex;\n",
              "      gap: 12px;\n",
              "    }\n",
              "\n",
              "    .colab-df-convert {\n",
              "      background-color: #E8F0FE;\n",
              "      border: none;\n",
              "      border-radius: 50%;\n",
              "      cursor: pointer;\n",
              "      display: none;\n",
              "      fill: #1967D2;\n",
              "      height: 32px;\n",
              "      padding: 0 0 0 0;\n",
              "      width: 32px;\n",
              "    }\n",
              "\n",
              "    .colab-df-convert:hover {\n",
              "      background-color: #E2EBFA;\n",
              "      box-shadow: 0px 1px 2px rgba(60, 64, 67, 0.3), 0px 1px 3px 1px rgba(60, 64, 67, 0.15);\n",
              "      fill: #174EA6;\n",
              "    }\n",
              "\n",
              "    .colab-df-buttons div {\n",
              "      margin-bottom: 4px;\n",
              "    }\n",
              "\n",
              "    [theme=dark] .colab-df-convert {\n",
              "      background-color: #3B4455;\n",
              "      fill: #D2E3FC;\n",
              "    }\n",
              "\n",
              "    [theme=dark] .colab-df-convert:hover {\n",
              "      background-color: #434B5C;\n",
              "      box-shadow: 0px 1px 3px 1px rgba(0, 0, 0, 0.15);\n",
              "      filter: drop-shadow(0px 1px 2px rgba(0, 0, 0, 0.3));\n",
              "      fill: #FFFFFF;\n",
              "    }\n",
              "  </style>\n",
              "\n",
              "    <script>\n",
              "      const buttonEl =\n",
              "        document.querySelector('#df-ea0b01a3-8c8e-4e3b-b315-ba37bd30c89b button.colab-df-convert');\n",
              "      buttonEl.style.display =\n",
              "        google.colab.kernel.accessAllowed ? 'block' : 'none';\n",
              "\n",
              "      async function convertToInteractive(key) {\n",
              "        const element = document.querySelector('#df-ea0b01a3-8c8e-4e3b-b315-ba37bd30c89b');\n",
              "        const dataTable =\n",
              "          await google.colab.kernel.invokeFunction('convertToInteractive',\n",
              "                                                    [key], {});\n",
              "        if (!dataTable) return;\n",
              "\n",
              "        const docLinkHtml = 'Like what you see? Visit the ' +\n",
              "          '<a target=\"_blank\" href=https://colab.research.google.com/notebooks/data_table.ipynb>data table notebook</a>'\n",
              "          + ' to learn more about interactive tables.';\n",
              "        element.innerHTML = '';\n",
              "        dataTable['output_type'] = 'display_data';\n",
              "        await google.colab.output.renderOutput(dataTable, element);\n",
              "        const docLink = document.createElement('div');\n",
              "        docLink.innerHTML = docLinkHtml;\n",
              "        element.appendChild(docLink);\n",
              "      }\n",
              "    </script>\n",
              "  </div>\n",
              "\n",
              "\n",
              "<div id=\"df-b47fe1eb-a84f-4aa5-acf3-734a67b5e3a6\">\n",
              "  <button class=\"colab-df-quickchart\" onclick=\"quickchart('df-b47fe1eb-a84f-4aa5-acf3-734a67b5e3a6')\"\n",
              "            title=\"Suggest charts\"\n",
              "            style=\"display:none;\">\n",
              "\n",
              "<svg xmlns=\"http://www.w3.org/2000/svg\" height=\"24px\"viewBox=\"0 0 24 24\"\n",
              "     width=\"24px\">\n",
              "    <g>\n",
              "        <path d=\"M19 3H5c-1.1 0-2 .9-2 2v14c0 1.1.9 2 2 2h14c1.1 0 2-.9 2-2V5c0-1.1-.9-2-2-2zM9 17H7v-7h2v7zm4 0h-2V7h2v10zm4 0h-2v-4h2v4z\"/>\n",
              "    </g>\n",
              "</svg>\n",
              "  </button>\n",
              "\n",
              "<style>\n",
              "  .colab-df-quickchart {\n",
              "      --bg-color: #E8F0FE;\n",
              "      --fill-color: #1967D2;\n",
              "      --hover-bg-color: #E2EBFA;\n",
              "      --hover-fill-color: #174EA6;\n",
              "      --disabled-fill-color: #AAA;\n",
              "      --disabled-bg-color: #DDD;\n",
              "  }\n",
              "\n",
              "  [theme=dark] .colab-df-quickchart {\n",
              "      --bg-color: #3B4455;\n",
              "      --fill-color: #D2E3FC;\n",
              "      --hover-bg-color: #434B5C;\n",
              "      --hover-fill-color: #FFFFFF;\n",
              "      --disabled-bg-color: #3B4455;\n",
              "      --disabled-fill-color: #666;\n",
              "  }\n",
              "\n",
              "  .colab-df-quickchart {\n",
              "    background-color: var(--bg-color);\n",
              "    border: none;\n",
              "    border-radius: 50%;\n",
              "    cursor: pointer;\n",
              "    display: none;\n",
              "    fill: var(--fill-color);\n",
              "    height: 32px;\n",
              "    padding: 0;\n",
              "    width: 32px;\n",
              "  }\n",
              "\n",
              "  .colab-df-quickchart:hover {\n",
              "    background-color: var(--hover-bg-color);\n",
              "    box-shadow: 0 1px 2px rgba(60, 64, 67, 0.3), 0 1px 3px 1px rgba(60, 64, 67, 0.15);\n",
              "    fill: var(--button-hover-fill-color);\n",
              "  }\n",
              "\n",
              "  .colab-df-quickchart-complete:disabled,\n",
              "  .colab-df-quickchart-complete:disabled:hover {\n",
              "    background-color: var(--disabled-bg-color);\n",
              "    fill: var(--disabled-fill-color);\n",
              "    box-shadow: none;\n",
              "  }\n",
              "\n",
              "  .colab-df-spinner {\n",
              "    border: 2px solid var(--fill-color);\n",
              "    border-color: transparent;\n",
              "    border-bottom-color: var(--fill-color);\n",
              "    animation:\n",
              "      spin 1s steps(1) infinite;\n",
              "  }\n",
              "\n",
              "  @keyframes spin {\n",
              "    0% {\n",
              "      border-color: transparent;\n",
              "      border-bottom-color: var(--fill-color);\n",
              "      border-left-color: var(--fill-color);\n",
              "    }\n",
              "    20% {\n",
              "      border-color: transparent;\n",
              "      border-left-color: var(--fill-color);\n",
              "      border-top-color: var(--fill-color);\n",
              "    }\n",
              "    30% {\n",
              "      border-color: transparent;\n",
              "      border-left-color: var(--fill-color);\n",
              "      border-top-color: var(--fill-color);\n",
              "      border-right-color: var(--fill-color);\n",
              "    }\n",
              "    40% {\n",
              "      border-color: transparent;\n",
              "      border-right-color: var(--fill-color);\n",
              "      border-top-color: var(--fill-color);\n",
              "    }\n",
              "    60% {\n",
              "      border-color: transparent;\n",
              "      border-right-color: var(--fill-color);\n",
              "    }\n",
              "    80% {\n",
              "      border-color: transparent;\n",
              "      border-right-color: var(--fill-color);\n",
              "      border-bottom-color: var(--fill-color);\n",
              "    }\n",
              "    90% {\n",
              "      border-color: transparent;\n",
              "      border-bottom-color: var(--fill-color);\n",
              "    }\n",
              "  }\n",
              "</style>\n",
              "\n",
              "  <script>\n",
              "    async function quickchart(key) {\n",
              "      const quickchartButtonEl =\n",
              "        document.querySelector('#' + key + ' button');\n",
              "      quickchartButtonEl.disabled = true;  // To prevent multiple clicks.\n",
              "      quickchartButtonEl.classList.add('colab-df-spinner');\n",
              "      try {\n",
              "        const charts = await google.colab.kernel.invokeFunction(\n",
              "            'suggestCharts', [key], {});\n",
              "      } catch (error) {\n",
              "        console.error('Error during call to suggestCharts:', error);\n",
              "      }\n",
              "      quickchartButtonEl.classList.remove('colab-df-spinner');\n",
              "      quickchartButtonEl.classList.add('colab-df-quickchart-complete');\n",
              "    }\n",
              "    (() => {\n",
              "      let quickchartButtonEl =\n",
              "        document.querySelector('#df-b47fe1eb-a84f-4aa5-acf3-734a67b5e3a6 button');\n",
              "      quickchartButtonEl.style.display =\n",
              "        google.colab.kernel.accessAllowed ? 'block' : 'none';\n",
              "    })();\n",
              "  </script>\n",
              "</div>\n",
              "\n",
              "    </div>\n",
              "  </div>\n"
            ],
            "application/vnd.google.colaboratory.intrinsic+json": {
              "type": "dataframe",
              "summary": "{\n  \"name\": \"dataset\",\n  \"rows\": 12,\n  \"fields\": [\n    {\n      \"column\": \"user_input\",\n      \"properties\": {\n        \"dtype\": \"string\",\n        \"num_unique_values\": 12,\n        \"samples\": [\n          \"What are the specific provisions outlined in 21 CFR 312.44(c)(2) and 21 CFR 312.6(c) regarding the inclusion of human drug products in the Strategic National Stockpile, and how do these regulations impact the evaluation of investigational new drug applications?\",\n          \"How do the regulations outlined in 21 CFR 312.305(c)(5) and 21 CFR 312.83 impact the submission process for investigational new drug applications?\",\n          \"Wht is the role of the FDA in the review of IND's?\"\n        ],\n        \"semantic_type\": \"\",\n        \"description\": \"\"\n      }\n    },\n    {\n      \"column\": \"retrieved_contexts\",\n      \"properties\": {\n        \"dtype\": \"object\",\n        \"semantic_type\": \"\",\n        \"description\": \"\"\n      }\n    },\n    {\n      \"column\": \"reference_contexts\",\n      \"properties\": {\n        \"dtype\": \"object\",\n        \"semantic_type\": \"\",\n        \"description\": \"\"\n      }\n    },\n    {\n      \"column\": \"response\",\n      \"properties\": {\n        \"dtype\": \"string\",\n        \"num_unique_values\": 9,\n        \"samples\": [\n          \"To obtain marketing authorization in countries like Australia, a drug must have valid marketing authorization in Australia, Canada, Israel, Japan, New Zealand, Switzerland, South Africa, or in any country in the European Union or the European Economic Area. Additionally, it must comply with the laws of the country to which it is being exported.\\n\\nRegarding the handling of controlled substances, if the investigational drug is subject to the Controlled Substances Act, the investigator is required to take adequate precautions. This includes storing the investigational drug in a securely locked, substantially constructed cabinet or enclosure, with access limited to prevent theft or diversion.\",\n          \"The FDA may refer scientific and medical policy issues to its standing advisory committees when such issues are not resolved by informal meetings. This referral allows the committees to consider the matters and provide recommendations.\\n\\nRegarding the role of a sponsor in transferring responsibilities to a contract research organization (CRO), a sponsor may transfer any or all of the obligations set forth in the relevant regulations to a CRO. This transfer must be described in writing, and if not all obligations are transferred, the specific obligations that are transferred must be identified. The sponsor remains responsible for ensuring compliance with the regulations, and the CRO assumes the obligations it has been assigned.\",\n          \"The Investigational New Drug Application (IND) ensures regulatory compliance according to 21 CFR Part 312 by requiring that all investigations are conducted in accordance with specific regulations. This includes compliance with the requirements for institutional review as set forth in part 56, the requirements for informed consent in part 50, and adherence to the obligations assumed under these regulations. Additionally, contract research organizations that assume obligations of the sponsor are subject to the same regulatory actions for non-compliance. The review of submissions also assesses the scientific quality of clinical investigations to ensure they meet statutory standards for marketing approval.\"\n        ],\n        \"semantic_type\": \"\",\n        \"description\": \"\"\n      }\n    },\n    {\n      \"column\": \"reference\",\n      \"properties\": {\n        \"dtype\": \"string\",\n        \"num_unique_values\": 12,\n        \"samples\": [\n          \"21 CFR 312.44(c)(2) and 21 CFR 312.6(c) are provisions within the FDA's regulations concerning investigational new drug applications. 21 CFR 312.6(c) addresses the requirements for human drug products that are or will be included in the Strategic National Stockpile, specifying conditions under which these products must comply, unless explicitly required by statute. Meanwhile, 21 CFR 312.44(c)(2) provides guidelines for the FDA's authority to terminate an IND if the conditions are not met. These regulations impact the evaluation of investigational new drug applications by ensuring that products intended for the Strategic National Stockpile meet specific safety and efficacy standards, thereby influencing the approval process and compliance requirements for these drugs.\",\n          \"The regulations outlined in 21 CFR 312.305(c)(5) and 21 CFR 312.83 impact the submission process for investigational new drug applications by providing guidelines for expanded access submissions and marketing applications. 21 CFR 312.305(c)(5) allows for expanded access submissions to be made by the sponsor or a licensed physician, and a sponsor can amend an existing IND to include a protocol for individual patient expanded access. Meanwhile, 21 CFR 312.83 pertains to the requirements and procedures for marketing applications, which are subject to the requirements in part 314 or part 600, as well as those in the specified subpart.\",\n          \"The FDA's role in the review of IND's involves the cooperative exchange of information and views to address requirements as quickly and amicably as possible, and resolving administrative or procedural disputes through the responsible division in FDA's Center for Drug Evaluation and Research or Center for Biologics Evaluation and Research.\"\n        ],\n        \"semantic_type\": \"\",\n        \"description\": \"\"\n      }\n    },\n    {\n      \"column\": \"synthesizer_name\",\n      \"properties\": {\n        \"dtype\": \"category\",\n        \"num_unique_values\": 3,\n        \"samples\": [\n          \"single_hop_specifc_query_synthesizer\",\n          \"multi_hop_abstract_query_synthesizer\",\n          \"multi_hop_specific_query_synthesizer\"\n        ],\n        \"semantic_type\": \"\",\n        \"description\": \"\"\n      }\n    }\n  ]\n}"
            }
          },
          "metadata": {},
          "execution_count": 87
        }
      ],
      "source": [
        "dataset.to_pandas()"
      ]
    },
    {
      "cell_type": "code",
      "execution_count": null,
      "metadata": {
        "id": "cM8flQXEmV4b"
      },
      "outputs": [],
      "source": [
        "from ragas import EvaluationDataset\n",
        "\n",
        "evaluation_dataset = EvaluationDataset.from_pandas(dataset.to_pandas())"
      ]
    },
    {
      "cell_type": "code",
      "execution_count": null,
      "metadata": {
        "id": "h-exuhB2mV4c"
      },
      "outputs": [],
      "source": [
        "from ragas import evaluate\n",
        "from ragas.llms import LangchainLLMWrapper\n",
        "\n",
        "evaluator_llm = LangchainLLMWrapper(ChatOpenAI(model=\"gpt-4o-mini\"))"
      ]
    },
    {
      "cell_type": "code",
      "execution_count": null,
      "metadata": {
        "colab": {
          "base_uri": "https://localhost:8080/",
          "height": 84,
          "referenced_widgets": [
            "c5e5ffd901c14bb29285bd3b6d45a683",
            "d46ecdf3d53a4b57a01c9fc241bd4a5a",
            "c333ec892efd4b0c9c15f614617b860f",
            "4926c210febc430b8bbe52f51837c080",
            "2a8203f646cb4ff5bfc26bc13d4270da",
            "3df146615d9f489d848c0dd34f3f49e6",
            "a939a602fe064d37ba344f967bb1396b",
            "8a3ff69125fe49c0aaad32313884dd21",
            "b8890d8323ef4058bc8c15b6d34515df",
            "5be0420418164151b1581386e8eef58e",
            "1b2e928be8cb41b79d1f1bbc2c599fdf"
          ]
        },
        "id": "z-84Uf4HmV4c",
        "outputId": "8ce34afc-0d67-4450-9eba-3afe02583106"
      },
      "outputs": [
        {
          "output_type": "display_data",
          "data": {
            "text/plain": [
              "Evaluating:   0%|          | 0/84 [00:00<?, ?it/s]"
            ],
            "application/vnd.jupyter.widget-view+json": {
              "version_major": 2,
              "version_minor": 0,
              "model_id": "c5e5ffd901c14bb29285bd3b6d45a683"
            }
          },
          "metadata": {}
        },
        {
          "output_type": "execute_result",
          "data": {
            "text/plain": [
              "{'context_recall': 0.3056, 'faithfulness': 0.5294, 'factual_correctness(mode=f1)': 0.1333, 'answer_relevancy': 0.6350, 'context_entity_recall': 0.5166, 'noise_sensitivity(mode=relevant)': 0.1968, 'context_precision': 0.2778}"
            ]
          },
          "metadata": {},
          "execution_count": 90
        }
      ],
      "source": [
        "from ragas.metrics import LLMContextRecall, Faithfulness, FactualCorrectness, ResponseRelevancy, ContextEntityRecall, NoiseSensitivity, ContextPrecision\n",
        "from ragas import evaluate, RunConfig\n",
        "\n",
        "custom_run_config = RunConfig(timeout=360)\n",
        "\n",
        "result = evaluate(\n",
        "    dataset=evaluation_dataset,\n",
        "    metrics=[LLMContextRecall(), Faithfulness(), FactualCorrectness(), ResponseRelevancy(), ContextEntityRecall(), NoiseSensitivity(), ContextPrecision()],\n",
        "    llm=evaluator_llm,\n",
        "    run_config=custom_run_config\n",
        ")\n",
        "result"
      ]
    },
    {
      "cell_type": "markdown",
      "metadata": {
        "id": "4z4Lxkw6mV4c"
      },
      "source": [
        "## Test with fine-tuned embedding model"
      ]
    },
    {
      "cell_type": "code",
      "execution_count": null,
      "metadata": {
        "id": "LPkhrVZGmV4c"
      },
      "outputs": [],
      "source": [
        "for test_row in dataset:\n",
        "\n",
        "  response = finetune_rag_chain.invoke({\"question\" : test_row.eval_sample.user_input})\n",
        "\n",
        "  test_row.eval_sample.response = response[\"response\"]\n",
        "  test_row.eval_sample.retrieved_contexts = [context.page_content for context in response[\"context\"]]"
      ]
    },
    {
      "cell_type": "code",
      "execution_count": null,
      "metadata": {
        "colab": {
          "base_uri": "https://localhost:8080/",
          "height": 860
        },
        "id": "JDEpa_UkmV4d",
        "outputId": "57c88578-76a7-432e-fafb-9b76a1efc554"
      },
      "outputs": [
        {
          "output_type": "execute_result",
          "data": {
            "text/plain": [
              "                                           user_input  \\\n",
              "0   Wht is the role of the FDA in the review of IN...   \n",
              "1   In what circumstances might the FDA refer scie...   \n",
              "2                    What § 312.23(a)(6)(iii)(b) say?   \n",
              "3   Under what circumstances can the President wai...   \n",
              "4   How does the Center for Drug Evaluation and Re...   \n",
              "5   How does the Investigational New Drug Applicat...   \n",
              "6   How can a sponsor address compliance issues an...   \n",
              "7   How drug get marketing authorization in countr...   \n",
              "8   As a Regulatory Affairs Specialist, how do the...   \n",
              "9   How do the regulations outlined in 21 CFR 312....   \n",
              "10  What are the specific provisions outlined in 2...   \n",
              "11  What 21 CFR 312.61 and 21 CFR 312.23(d) say ab...   \n",
              "\n",
              "                                   retrieved_contexts  \\\n",
              "0   [FDA reviewing divisions with respect to requi...   \n",
              "1   [scientific and medical policy issues not reso...   \n",
              "2   [the study.\\n21 CFR Part 312 (up to date as of...   \n",
              "3   [(i) Any of the conditions in paragraphs (b)(1...   \n",
              "4   [§ 312.160 Drugs for investigational use in la...   \n",
              "5   [compliance with the applicable provisions of ...   \n",
              "6   [CDER list should be directed to the Office of...   \n",
              "7   [(2) The drug has valid marketing authorizatio...   \n",
              "8   [extent that this provision is not explicitly ...   \n",
              "9   [the study.\\n21 CFR Part 312 (up to date as of...   \n",
              "10  [extent that this provision is not explicitly ...   \n",
              "11  [the study.\\n21 CFR Part 312 (up to date as of...   \n",
              "\n",
              "                                   reference_contexts  \\\n",
              "0   [FDA reviewing divisions with respect to requi...   \n",
              "1   [scientific and medical policy issues not reso...   \n",
              "2   [(iii) In the case of a new investigator, the ...   \n",
              "3   [(i) Any of the conditions in paragraphs (b)(1...   \n",
              "4   [<1-hop>\\n\\n[52 FR 8831, Mar. 19, 1987, as ame...   \n",
              "5   [<1-hop>\\n\\nTitle 21 —Food and Drugs\\nChapter ...   \n",
              "6   [<1-hop>\\n\\none of the following:\\n(1) An expl...   \n",
              "7   [<1-hop>\\n\\n(2) The drug has valid marketing a...   \n",
              "8   [<1-hop>\\n\\nextent that this provision is not ...   \n",
              "9   [<1-hop>\\n\\nmarketing approval. Such letter wi...   \n",
              "10  [<1-hop>\\n\\nextent that this provision is not ...   \n",
              "11  [<1-hop>\\n\\nthe completion of the study.\\n21 C...   \n",
              "\n",
              "                                             response  \\\n",
              "0   The role of the FDA in the review of Investiga...   \n",
              "1   The FDA may refer scientific and medical polic...   \n",
              "2                                      I do not know.   \n",
              "3   The President can waive the prior consent requ...   \n",
              "4   The Center for Drug Evaluation and Research (C...   \n",
              "5   The Investigational New Drug Application (IND)...   \n",
              "6   A sponsor can address compliance issues by fir...   \n",
              "7   To obtain marketing authorization in countries...   \n",
              "8   The provisions outlined in 21 CFR 312.6(c) and...   \n",
              "9                                      I do not know.   \n",
              "10                                     I do not know.   \n",
              "11  The context provides information about 21 CFR ...   \n",
              "\n",
              "                                            reference  \\\n",
              "0   The FDA's role in the review of IND's involves...   \n",
              "1   The FDA may refer scientific and medical polic...   \n",
              "2   § 312.23(a)(6)(iii)(b) requires the investigat...   \n",
              "3   The President can determine to waive the prior...   \n",
              "4   The Center for Drug Evaluation and Research (C...   \n",
              "5   The Investigational New Drug Application ensur...   \n",
              "6   A sponsor can address compliance issues by pro...   \n",
              "7   A drug can obtain marketing authorization in c...   \n",
              "8   The provisions outlined in 21 CFR 312.6(c) and...   \n",
              "9   The regulations outlined in 21 CFR 312.305(c)(...   \n",
              "10  21 CFR 312.44(c)(2) and 21 CFR 312.6(c) are pr...   \n",
              "11  21 CFR 312.61 pertains to the Investigational ...   \n",
              "\n",
              "                        synthesizer_name  \n",
              "0   single_hop_specifc_query_synthesizer  \n",
              "1   single_hop_specifc_query_synthesizer  \n",
              "2   single_hop_specifc_query_synthesizer  \n",
              "3   single_hop_specifc_query_synthesizer  \n",
              "4   multi_hop_abstract_query_synthesizer  \n",
              "5   multi_hop_abstract_query_synthesizer  \n",
              "6   multi_hop_abstract_query_synthesizer  \n",
              "7   multi_hop_abstract_query_synthesizer  \n",
              "8   multi_hop_specific_query_synthesizer  \n",
              "9   multi_hop_specific_query_synthesizer  \n",
              "10  multi_hop_specific_query_synthesizer  \n",
              "11  multi_hop_specific_query_synthesizer  "
            ],
            "text/html": [
              "\n",
              "  <div id=\"df-09842494-6881-428a-80b6-db6b30ae0bd2\" class=\"colab-df-container\">\n",
              "    <div>\n",
              "<style scoped>\n",
              "    .dataframe tbody tr th:only-of-type {\n",
              "        vertical-align: middle;\n",
              "    }\n",
              "\n",
              "    .dataframe tbody tr th {\n",
              "        vertical-align: top;\n",
              "    }\n",
              "\n",
              "    .dataframe thead th {\n",
              "        text-align: right;\n",
              "    }\n",
              "</style>\n",
              "<table border=\"1\" class=\"dataframe\">\n",
              "  <thead>\n",
              "    <tr style=\"text-align: right;\">\n",
              "      <th></th>\n",
              "      <th>user_input</th>\n",
              "      <th>retrieved_contexts</th>\n",
              "      <th>reference_contexts</th>\n",
              "      <th>response</th>\n",
              "      <th>reference</th>\n",
              "      <th>synthesizer_name</th>\n",
              "    </tr>\n",
              "  </thead>\n",
              "  <tbody>\n",
              "    <tr>\n",
              "      <th>0</th>\n",
              "      <td>Wht is the role of the FDA in the review of IN...</td>\n",
              "      <td>[FDA reviewing divisions with respect to requi...</td>\n",
              "      <td>[FDA reviewing divisions with respect to requi...</td>\n",
              "      <td>The role of the FDA in the review of Investiga...</td>\n",
              "      <td>The FDA's role in the review of IND's involves...</td>\n",
              "      <td>single_hop_specifc_query_synthesizer</td>\n",
              "    </tr>\n",
              "    <tr>\n",
              "      <th>1</th>\n",
              "      <td>In what circumstances might the FDA refer scie...</td>\n",
              "      <td>[scientific and medical policy issues not reso...</td>\n",
              "      <td>[scientific and medical policy issues not reso...</td>\n",
              "      <td>The FDA may refer scientific and medical polic...</td>\n",
              "      <td>The FDA may refer scientific and medical polic...</td>\n",
              "      <td>single_hop_specifc_query_synthesizer</td>\n",
              "    </tr>\n",
              "    <tr>\n",
              "      <th>2</th>\n",
              "      <td>What § 312.23(a)(6)(iii)(b) say?</td>\n",
              "      <td>[the study.\\n21 CFR Part 312 (up to date as of...</td>\n",
              "      <td>[(iii) In the case of a new investigator, the ...</td>\n",
              "      <td>I do not know.</td>\n",
              "      <td>§ 312.23(a)(6)(iii)(b) requires the investigat...</td>\n",
              "      <td>single_hop_specifc_query_synthesizer</td>\n",
              "    </tr>\n",
              "    <tr>\n",
              "      <th>3</th>\n",
              "      <td>Under what circumstances can the President wai...</td>\n",
              "      <td>[(i) Any of the conditions in paragraphs (b)(1...</td>\n",
              "      <td>[(i) Any of the conditions in paragraphs (b)(1...</td>\n",
              "      <td>The President can waive the prior consent requ...</td>\n",
              "      <td>The President can determine to waive the prior...</td>\n",
              "      <td>single_hop_specifc_query_synthesizer</td>\n",
              "    </tr>\n",
              "    <tr>\n",
              "      <th>4</th>\n",
              "      <td>How does the Center for Drug Evaluation and Re...</td>\n",
              "      <td>[§ 312.160 Drugs for investigational use in la...</td>\n",
              "      <td>[&lt;1-hop&gt;\\n\\n[52 FR 8831, Mar. 19, 1987, as ame...</td>\n",
              "      <td>The Center for Drug Evaluation and Research (C...</td>\n",
              "      <td>The Center for Drug Evaluation and Research (C...</td>\n",
              "      <td>multi_hop_abstract_query_synthesizer</td>\n",
              "    </tr>\n",
              "    <tr>\n",
              "      <th>5</th>\n",
              "      <td>How does the Investigational New Drug Applicat...</td>\n",
              "      <td>[compliance with the applicable provisions of ...</td>\n",
              "      <td>[&lt;1-hop&gt;\\n\\nTitle 21 —Food and Drugs\\nChapter ...</td>\n",
              "      <td>The Investigational New Drug Application (IND)...</td>\n",
              "      <td>The Investigational New Drug Application ensur...</td>\n",
              "      <td>multi_hop_abstract_query_synthesizer</td>\n",
              "    </tr>\n",
              "    <tr>\n",
              "      <th>6</th>\n",
              "      <td>How can a sponsor address compliance issues an...</td>\n",
              "      <td>[CDER list should be directed to the Office of...</td>\n",
              "      <td>[&lt;1-hop&gt;\\n\\none of the following:\\n(1) An expl...</td>\n",
              "      <td>A sponsor can address compliance issues by fir...</td>\n",
              "      <td>A sponsor can address compliance issues by pro...</td>\n",
              "      <td>multi_hop_abstract_query_synthesizer</td>\n",
              "    </tr>\n",
              "    <tr>\n",
              "      <th>7</th>\n",
              "      <td>How drug get marketing authorization in countr...</td>\n",
              "      <td>[(2) The drug has valid marketing authorizatio...</td>\n",
              "      <td>[&lt;1-hop&gt;\\n\\n(2) The drug has valid marketing a...</td>\n",
              "      <td>To obtain marketing authorization in countries...</td>\n",
              "      <td>A drug can obtain marketing authorization in c...</td>\n",
              "      <td>multi_hop_abstract_query_synthesizer</td>\n",
              "    </tr>\n",
              "    <tr>\n",
              "      <th>8</th>\n",
              "      <td>As a Regulatory Affairs Specialist, how do the...</td>\n",
              "      <td>[extent that this provision is not explicitly ...</td>\n",
              "      <td>[&lt;1-hop&gt;\\n\\nextent that this provision is not ...</td>\n",
              "      <td>The provisions outlined in 21 CFR 312.6(c) and...</td>\n",
              "      <td>The provisions outlined in 21 CFR 312.6(c) and...</td>\n",
              "      <td>multi_hop_specific_query_synthesizer</td>\n",
              "    </tr>\n",
              "    <tr>\n",
              "      <th>9</th>\n",
              "      <td>How do the regulations outlined in 21 CFR 312....</td>\n",
              "      <td>[the study.\\n21 CFR Part 312 (up to date as of...</td>\n",
              "      <td>[&lt;1-hop&gt;\\n\\nmarketing approval. Such letter wi...</td>\n",
              "      <td>I do not know.</td>\n",
              "      <td>The regulations outlined in 21 CFR 312.305(c)(...</td>\n",
              "      <td>multi_hop_specific_query_synthesizer</td>\n",
              "    </tr>\n",
              "    <tr>\n",
              "      <th>10</th>\n",
              "      <td>What are the specific provisions outlined in 2...</td>\n",
              "      <td>[extent that this provision is not explicitly ...</td>\n",
              "      <td>[&lt;1-hop&gt;\\n\\nextent that this provision is not ...</td>\n",
              "      <td>I do not know.</td>\n",
              "      <td>21 CFR 312.44(c)(2) and 21 CFR 312.6(c) are pr...</td>\n",
              "      <td>multi_hop_specific_query_synthesizer</td>\n",
              "    </tr>\n",
              "    <tr>\n",
              "      <th>11</th>\n",
              "      <td>What 21 CFR 312.61 and 21 CFR 312.23(d) say ab...</td>\n",
              "      <td>[the study.\\n21 CFR Part 312 (up to date as of...</td>\n",
              "      <td>[&lt;1-hop&gt;\\n\\nthe completion of the study.\\n21 C...</td>\n",
              "      <td>The context provides information about 21 CFR ...</td>\n",
              "      <td>21 CFR 312.61 pertains to the Investigational ...</td>\n",
              "      <td>multi_hop_specific_query_synthesizer</td>\n",
              "    </tr>\n",
              "  </tbody>\n",
              "</table>\n",
              "</div>\n",
              "    <div class=\"colab-df-buttons\">\n",
              "\n",
              "  <div class=\"colab-df-container\">\n",
              "    <button class=\"colab-df-convert\" onclick=\"convertToInteractive('df-09842494-6881-428a-80b6-db6b30ae0bd2')\"\n",
              "            title=\"Convert this dataframe to an interactive table.\"\n",
              "            style=\"display:none;\">\n",
              "\n",
              "  <svg xmlns=\"http://www.w3.org/2000/svg\" height=\"24px\" viewBox=\"0 -960 960 960\">\n",
              "    <path d=\"M120-120v-720h720v720H120Zm60-500h600v-160H180v160Zm220 220h160v-160H400v160Zm0 220h160v-160H400v160ZM180-400h160v-160H180v160Zm440 0h160v-160H620v160ZM180-180h160v-160H180v160Zm440 0h160v-160H620v160Z\"/>\n",
              "  </svg>\n",
              "    </button>\n",
              "\n",
              "  <style>\n",
              "    .colab-df-container {\n",
              "      display:flex;\n",
              "      gap: 12px;\n",
              "    }\n",
              "\n",
              "    .colab-df-convert {\n",
              "      background-color: #E8F0FE;\n",
              "      border: none;\n",
              "      border-radius: 50%;\n",
              "      cursor: pointer;\n",
              "      display: none;\n",
              "      fill: #1967D2;\n",
              "      height: 32px;\n",
              "      padding: 0 0 0 0;\n",
              "      width: 32px;\n",
              "    }\n",
              "\n",
              "    .colab-df-convert:hover {\n",
              "      background-color: #E2EBFA;\n",
              "      box-shadow: 0px 1px 2px rgba(60, 64, 67, 0.3), 0px 1px 3px 1px rgba(60, 64, 67, 0.15);\n",
              "      fill: #174EA6;\n",
              "    }\n",
              "\n",
              "    .colab-df-buttons div {\n",
              "      margin-bottom: 4px;\n",
              "    }\n",
              "\n",
              "    [theme=dark] .colab-df-convert {\n",
              "      background-color: #3B4455;\n",
              "      fill: #D2E3FC;\n",
              "    }\n",
              "\n",
              "    [theme=dark] .colab-df-convert:hover {\n",
              "      background-color: #434B5C;\n",
              "      box-shadow: 0px 1px 3px 1px rgba(0, 0, 0, 0.15);\n",
              "      filter: drop-shadow(0px 1px 2px rgba(0, 0, 0, 0.3));\n",
              "      fill: #FFFFFF;\n",
              "    }\n",
              "  </style>\n",
              "\n",
              "    <script>\n",
              "      const buttonEl =\n",
              "        document.querySelector('#df-09842494-6881-428a-80b6-db6b30ae0bd2 button.colab-df-convert');\n",
              "      buttonEl.style.display =\n",
              "        google.colab.kernel.accessAllowed ? 'block' : 'none';\n",
              "\n",
              "      async function convertToInteractive(key) {\n",
              "        const element = document.querySelector('#df-09842494-6881-428a-80b6-db6b30ae0bd2');\n",
              "        const dataTable =\n",
              "          await google.colab.kernel.invokeFunction('convertToInteractive',\n",
              "                                                    [key], {});\n",
              "        if (!dataTable) return;\n",
              "\n",
              "        const docLinkHtml = 'Like what you see? Visit the ' +\n",
              "          '<a target=\"_blank\" href=https://colab.research.google.com/notebooks/data_table.ipynb>data table notebook</a>'\n",
              "          + ' to learn more about interactive tables.';\n",
              "        element.innerHTML = '';\n",
              "        dataTable['output_type'] = 'display_data';\n",
              "        await google.colab.output.renderOutput(dataTable, element);\n",
              "        const docLink = document.createElement('div');\n",
              "        docLink.innerHTML = docLinkHtml;\n",
              "        element.appendChild(docLink);\n",
              "      }\n",
              "    </script>\n",
              "  </div>\n",
              "\n",
              "\n",
              "<div id=\"df-55653a50-7f2e-4b0f-b3a0-1ab2fbd1155d\">\n",
              "  <button class=\"colab-df-quickchart\" onclick=\"quickchart('df-55653a50-7f2e-4b0f-b3a0-1ab2fbd1155d')\"\n",
              "            title=\"Suggest charts\"\n",
              "            style=\"display:none;\">\n",
              "\n",
              "<svg xmlns=\"http://www.w3.org/2000/svg\" height=\"24px\"viewBox=\"0 0 24 24\"\n",
              "     width=\"24px\">\n",
              "    <g>\n",
              "        <path d=\"M19 3H5c-1.1 0-2 .9-2 2v14c0 1.1.9 2 2 2h14c1.1 0 2-.9 2-2V5c0-1.1-.9-2-2-2zM9 17H7v-7h2v7zm4 0h-2V7h2v10zm4 0h-2v-4h2v4z\"/>\n",
              "    </g>\n",
              "</svg>\n",
              "  </button>\n",
              "\n",
              "<style>\n",
              "  .colab-df-quickchart {\n",
              "      --bg-color: #E8F0FE;\n",
              "      --fill-color: #1967D2;\n",
              "      --hover-bg-color: #E2EBFA;\n",
              "      --hover-fill-color: #174EA6;\n",
              "      --disabled-fill-color: #AAA;\n",
              "      --disabled-bg-color: #DDD;\n",
              "  }\n",
              "\n",
              "  [theme=dark] .colab-df-quickchart {\n",
              "      --bg-color: #3B4455;\n",
              "      --fill-color: #D2E3FC;\n",
              "      --hover-bg-color: #434B5C;\n",
              "      --hover-fill-color: #FFFFFF;\n",
              "      --disabled-bg-color: #3B4455;\n",
              "      --disabled-fill-color: #666;\n",
              "  }\n",
              "\n",
              "  .colab-df-quickchart {\n",
              "    background-color: var(--bg-color);\n",
              "    border: none;\n",
              "    border-radius: 50%;\n",
              "    cursor: pointer;\n",
              "    display: none;\n",
              "    fill: var(--fill-color);\n",
              "    height: 32px;\n",
              "    padding: 0;\n",
              "    width: 32px;\n",
              "  }\n",
              "\n",
              "  .colab-df-quickchart:hover {\n",
              "    background-color: var(--hover-bg-color);\n",
              "    box-shadow: 0 1px 2px rgba(60, 64, 67, 0.3), 0 1px 3px 1px rgba(60, 64, 67, 0.15);\n",
              "    fill: var(--button-hover-fill-color);\n",
              "  }\n",
              "\n",
              "  .colab-df-quickchart-complete:disabled,\n",
              "  .colab-df-quickchart-complete:disabled:hover {\n",
              "    background-color: var(--disabled-bg-color);\n",
              "    fill: var(--disabled-fill-color);\n",
              "    box-shadow: none;\n",
              "  }\n",
              "\n",
              "  .colab-df-spinner {\n",
              "    border: 2px solid var(--fill-color);\n",
              "    border-color: transparent;\n",
              "    border-bottom-color: var(--fill-color);\n",
              "    animation:\n",
              "      spin 1s steps(1) infinite;\n",
              "  }\n",
              "\n",
              "  @keyframes spin {\n",
              "    0% {\n",
              "      border-color: transparent;\n",
              "      border-bottom-color: var(--fill-color);\n",
              "      border-left-color: var(--fill-color);\n",
              "    }\n",
              "    20% {\n",
              "      border-color: transparent;\n",
              "      border-left-color: var(--fill-color);\n",
              "      border-top-color: var(--fill-color);\n",
              "    }\n",
              "    30% {\n",
              "      border-color: transparent;\n",
              "      border-left-color: var(--fill-color);\n",
              "      border-top-color: var(--fill-color);\n",
              "      border-right-color: var(--fill-color);\n",
              "    }\n",
              "    40% {\n",
              "      border-color: transparent;\n",
              "      border-right-color: var(--fill-color);\n",
              "      border-top-color: var(--fill-color);\n",
              "    }\n",
              "    60% {\n",
              "      border-color: transparent;\n",
              "      border-right-color: var(--fill-color);\n",
              "    }\n",
              "    80% {\n",
              "      border-color: transparent;\n",
              "      border-right-color: var(--fill-color);\n",
              "      border-bottom-color: var(--fill-color);\n",
              "    }\n",
              "    90% {\n",
              "      border-color: transparent;\n",
              "      border-bottom-color: var(--fill-color);\n",
              "    }\n",
              "  }\n",
              "</style>\n",
              "\n",
              "  <script>\n",
              "    async function quickchart(key) {\n",
              "      const quickchartButtonEl =\n",
              "        document.querySelector('#' + key + ' button');\n",
              "      quickchartButtonEl.disabled = true;  // To prevent multiple clicks.\n",
              "      quickchartButtonEl.classList.add('colab-df-spinner');\n",
              "      try {\n",
              "        const charts = await google.colab.kernel.invokeFunction(\n",
              "            'suggestCharts', [key], {});\n",
              "      } catch (error) {\n",
              "        console.error('Error during call to suggestCharts:', error);\n",
              "      }\n",
              "      quickchartButtonEl.classList.remove('colab-df-spinner');\n",
              "      quickchartButtonEl.classList.add('colab-df-quickchart-complete');\n",
              "    }\n",
              "    (() => {\n",
              "      let quickchartButtonEl =\n",
              "        document.querySelector('#df-55653a50-7f2e-4b0f-b3a0-1ab2fbd1155d button');\n",
              "      quickchartButtonEl.style.display =\n",
              "        google.colab.kernel.accessAllowed ? 'block' : 'none';\n",
              "    })();\n",
              "  </script>\n",
              "</div>\n",
              "\n",
              "    </div>\n",
              "  </div>\n"
            ],
            "application/vnd.google.colaboratory.intrinsic+json": {
              "type": "dataframe",
              "summary": "{\n  \"name\": \"dataset\",\n  \"rows\": 12,\n  \"fields\": [\n    {\n      \"column\": \"user_input\",\n      \"properties\": {\n        \"dtype\": \"string\",\n        \"num_unique_values\": 12,\n        \"samples\": [\n          \"What are the specific provisions outlined in 21 CFR 312.44(c)(2) and 21 CFR 312.6(c) regarding the inclusion of human drug products in the Strategic National Stockpile, and how do these regulations impact the evaluation of investigational new drug applications?\",\n          \"How do the regulations outlined in 21 CFR 312.305(c)(5) and 21 CFR 312.83 impact the submission process for investigational new drug applications?\",\n          \"Wht is the role of the FDA in the review of IND's?\"\n        ],\n        \"semantic_type\": \"\",\n        \"description\": \"\"\n      }\n    },\n    {\n      \"column\": \"retrieved_contexts\",\n      \"properties\": {\n        \"dtype\": \"object\",\n        \"semantic_type\": \"\",\n        \"description\": \"\"\n      }\n    },\n    {\n      \"column\": \"reference_contexts\",\n      \"properties\": {\n        \"dtype\": \"object\",\n        \"semantic_type\": \"\",\n        \"description\": \"\"\n      }\n    },\n    {\n      \"column\": \"response\",\n      \"properties\": {\n        \"dtype\": \"string\",\n        \"num_unique_values\": 10,\n        \"samples\": [\n          \"The provisions outlined in 21 CFR 312.6(c) and 21 CFR 312.42(b)(1) are critical for the management of investigational new drug applications (INDs), especially concerning the Strategic National Stockpile (SNS).\\n\\n21 CFR 312.6(c) addresses the requirements for INDs that are not explicitly mandated by statute for specific lots, batches, or units of a human drug product intended for inclusion in the SNS. This provision ensures that there is a regulatory framework in place for the oversight of these products, which may be crucial during public health emergencies.\\n\\nOn the other hand, 21 CFR 312.42(b)(1) outlines the criteria for the submission of INDs, including the need for adequate information to support the safety and efficacy of the investigational drug. This is particularly relevant for drugs that may be stockpiled for emergency use, as it ensures that any product included in the SNS has undergone appropriate evaluation and meets safety standards.\\n\\nTogether, these provisions help ensure that investigational drugs intended for the SNS are managed in a way that prioritizes public health and safety, while also providing a clear regulatory pathway for their approval and use in emergency situations.\",\n          \"The FDA may refer scientific and medical policy issues to its standing advisory committees when such issues are not resolved by informal meetings. This referral allows the committees to consider the issues and provide recommendations.\\n\\nA sponsor has the ability to transfer responsibility for any or all of the obligations set forth in the relevant regulations to a contract research organization (CRO). This transfer must be described in writing. If not all obligations are transferred, the sponsor retains some responsibilities, and if all obligations are transferred, a general statement of this transfer may be submitted instead of a detailed listing of specific obligations.\",\n          \"The Investigational New Drug Application (IND) ensures regulatory compliance according to 21 CFR Part 312 by adhering to specific provisions outlined in the regulations. These provisions include requirements for the submission of data regarding the drug's safety and efficacy, the conduct of clinical trials, and the protection of human subjects involved in the studies. The IND must comply with various sections of 21 CFR Part 312, such as 312.23, 312.44, and 312.61, which detail the necessary documentation, reporting, and ethical considerations to ensure that the drug development process meets regulatory standards. Compliance is monitored through the submission of reports and data to the FDA, which reviews the information to ensure that the investigational drug is being developed in accordance with the established regulations.\"\n        ],\n        \"semantic_type\": \"\",\n        \"description\": \"\"\n      }\n    },\n    {\n      \"column\": \"reference\",\n      \"properties\": {\n        \"dtype\": \"string\",\n        \"num_unique_values\": 12,\n        \"samples\": [\n          \"21 CFR 312.44(c)(2) and 21 CFR 312.6(c) are provisions within the FDA's regulations concerning investigational new drug applications. 21 CFR 312.6(c) addresses the requirements for human drug products that are or will be included in the Strategic National Stockpile, specifying conditions under which these products must comply, unless explicitly required by statute. Meanwhile, 21 CFR 312.44(c)(2) provides guidelines for the FDA's authority to terminate an IND if the conditions are not met. These regulations impact the evaluation of investigational new drug applications by ensuring that products intended for the Strategic National Stockpile meet specific safety and efficacy standards, thereby influencing the approval process and compliance requirements for these drugs.\",\n          \"The regulations outlined in 21 CFR 312.305(c)(5) and 21 CFR 312.83 impact the submission process for investigational new drug applications by providing guidelines for expanded access submissions and marketing applications. 21 CFR 312.305(c)(5) allows for expanded access submissions to be made by the sponsor or a licensed physician, and a sponsor can amend an existing IND to include a protocol for individual patient expanded access. Meanwhile, 21 CFR 312.83 pertains to the requirements and procedures for marketing applications, which are subject to the requirements in part 314 or part 600, as well as those in the specified subpart.\",\n          \"The FDA's role in the review of IND's involves the cooperative exchange of information and views to address requirements as quickly and amicably as possible, and resolving administrative or procedural disputes through the responsible division in FDA's Center for Drug Evaluation and Research or Center for Biologics Evaluation and Research.\"\n        ],\n        \"semantic_type\": \"\",\n        \"description\": \"\"\n      }\n    },\n    {\n      \"column\": \"synthesizer_name\",\n      \"properties\": {\n        \"dtype\": \"category\",\n        \"num_unique_values\": 3,\n        \"samples\": [\n          \"single_hop_specifc_query_synthesizer\",\n          \"multi_hop_abstract_query_synthesizer\",\n          \"multi_hop_specific_query_synthesizer\"\n        ],\n        \"semantic_type\": \"\",\n        \"description\": \"\"\n      }\n    }\n  ]\n}"
            }
          },
          "metadata": {},
          "execution_count": 92
        }
      ],
      "source": [
        "dataset.to_pandas()"
      ]
    },
    {
      "cell_type": "code",
      "execution_count": null,
      "metadata": {
        "id": "iVxiu8rnmV4d"
      },
      "outputs": [],
      "source": [
        "from ragas import EvaluationDataset\n",
        "\n",
        "evaluation_dataset = EvaluationDataset.from_pandas(dataset.to_pandas())"
      ]
    },
    {
      "cell_type": "code",
      "execution_count": null,
      "metadata": {
        "colab": {
          "base_uri": "https://localhost:8080/",
          "height": 84,
          "referenced_widgets": [
            "fe6d1526ce834281ae15772689181db6",
            "12e6a62f20c14f57a7c3e8a4a764eaec",
            "060b2659edfc4341b7a1ee7a01c166d6",
            "864cc546d9984b9ba5b668ec0a5f4d72",
            "b62ce5e8477a4c18ad4025055649f89e",
            "f776ffdcef0f472c99b5f025de62d623",
            "db00971ea70941c2bd677c4288c85f90",
            "5b36a3faf4ad4e37883aa93535708b2d",
            "206cb9de97eb441a9002b924f830ec8c",
            "10493a9926ef4ee391672a21449f3eed",
            "2aedf116f222486dbfb3245874b8a917"
          ]
        },
        "id": "TWvkMmGNmV4d",
        "outputId": "ec779fb1-fa46-4050-f515-402c39153f74"
      },
      "outputs": [
        {
          "output_type": "display_data",
          "data": {
            "text/plain": [
              "Evaluating:   0%|          | 0/84 [00:00<?, ?it/s]"
            ],
            "application/vnd.jupyter.widget-view+json": {
              "version_major": 2,
              "version_minor": 0,
              "model_id": "fe6d1526ce834281ae15772689181db6"
            }
          },
          "metadata": {}
        },
        {
          "output_type": "execute_result",
          "data": {
            "text/plain": [
              "{'context_recall': 0.3194, 'faithfulness': 0.5977, 'factual_correctness(mode=f1)': 0.2433, 'answer_relevancy': 0.6333, 'context_entity_recall': 0.4135, 'noise_sensitivity(mode=relevant)': 0.2177, 'context_precision': 0.2458}"
            ]
          },
          "metadata": {},
          "execution_count": 94
        }
      ],
      "source": [
        "from ragas.metrics import LLMContextRecall, Faithfulness, FactualCorrectness, ResponseRelevancy, ContextEntityRecall, NoiseSensitivity, ContextPrecision\n",
        "from ragas import evaluate, RunConfig\n",
        "\n",
        "custom_run_config = RunConfig(timeout=360)\n",
        "\n",
        "result = evaluate(\n",
        "    dataset=evaluation_dataset,\n",
        "    metrics=[LLMContextRecall(), Faithfulness(), FactualCorrectness(), ResponseRelevancy(), ContextEntityRecall(), NoiseSensitivity(), ContextPrecision()],\n",
        "    llm=evaluator_llm,\n",
        "    run_config=custom_run_config\n",
        ")\n",
        "result"
      ]
    },
    {
      "cell_type": "code",
      "execution_count": null,
      "metadata": {
        "colab": {
          "base_uri": "https://localhost:8080/",
          "height": 627
        },
        "id": "T_FSyFxTmV4d",
        "outputId": "c1fe1286-e69c-4d61-b1bb-dabd137e3eff"
      },
      "outputs": [
        {
          "output_type": "display_data",
          "data": {
            "text/plain": [
              "<Figure size 1000x600 with 1 Axes>"
            ],
            "image/png": "[encoded data removed]"
          },
          "metadata": {}
        }
      ],
      "source": [
        "import pandas as pd\n",
        "import matplotlib.pyplot as plt\n",
        "\n",
        "# Data\n",
        "data = {\n",
        "    'Metric': ['Context Recall', 'Faithfulness', 'Factual Correctness', 'Answer Relevancy', 'Context Entity Recall', 'Noise Sensitivity (Relevant)', 'Context Precision'],\n",
        "    'base embeddings': [0.3056, 0.5294, 0.1333, 0.6350, 0.5166, 0.1968, 0.2778],\n",
        "    'fine-tune embeddings': [0.3194, 0.5977, 0.2433, 0.6333, 0.4135, 0.2177, 0.2458]\n",
        "}\n",
        "\n",
        "df = pd.DataFrame(data)\n",
        "df = df.set_index('Metric')\n",
        "\n",
        "# Plotting\n",
        "ax = df.plot(kind='bar', figsize=(10, 6), rot=45)\n",
        "\n",
        "# Add labels and title\n",
        "plt.title('Comparison of RAG Pipeline Results')\n",
        "plt.xlabel('Metrics')\n",
        "plt.ylabel('Score')\n",
        "\n",
        "# Add value labels on top of the bars\n",
        "for p in ax.patches:\n",
        "    ax.annotate(f'{p.get_height():.4f}', (p.get_x() + p.get_width() / 2., p.get_height()),\n",
        "                ha='center', va='center', xytext=(0, 10), textcoords='offset points')\n",
        "\n",
        "# Show the plot\n",
        "plt.tight_layout()\n",
        "plt.show()"
      ]
    },
    {
      "cell_type": "markdown",
      "source": [
        "### Extra:  Enhancing Retrieval with Cohere Rerank"
      ],
      "metadata": {
        "id": "a3TaRMj8mHgG"
      }
    },
    {
      "cell_type": "code",
      "source": [
        "!pip install -qU langchain-cohere --upgrade"
      ],
      "metadata": {
        "id": "E4O5OhQnmOIu"
      },
      "execution_count": null,
      "outputs": []
    },
    {
      "cell_type": "code",
      "source": [
        "from langchain.retrievers.contextual_compression import ContextualCompressionRetriever\n",
        "from langchain_cohere import CohereRerank\n",
        "import os\n",
        "import getpass\n",
        "\n",
        "# Set your Cohere API key\n",
        "os.environ[\"COHERE_API_KEY\"] = getpass.getpass(\"Enter Your Cohere API Key: \")\n"
      ],
      "metadata": {
        "colab": {
          "base_uri": "https://localhost:8080/"
        },
        "id": "xA1iTs_-mW8w",
        "outputId": "f43b8d8f-0454-4894-f46e-2dde7762d25c"
      },
      "execution_count": null,
      "outputs": [
        {
          "name": "stdout",
          "output_type": "stream",
          "text": [
            "Enter Your Cohere API Key: ··········\n"
          ]
        }
      ]
    },
    {
      "cell_type": "code",
      "source": [
        "# Create Cohere rerankers for both base and fine-tuned retrievers\n",
        "base_compressor = CohereRerank(model=\"rerank-english-v2.0\")\n",
        "base_compression_retriever = ContextualCompressionRetriever(\n",
        "    base_compressor=base_compressor,\n",
        "    base_retriever=base_retriever\n",
        ")\n",
        "\n",
        "finetune_compressor = CohereRerank(model=\"rerank-english-v2.0\")\n",
        "finetune_compression_retriever = ContextualCompressionRetriever(\n",
        "    base_compressor=finetune_compressor,\n",
        "    base_retriever=finetune_retriever\n",
        ")"
      ],
      "metadata": {
        "id": "tDF4dFkmmdDU"
      },
      "execution_count": null,
      "outputs": []
    },
    {
      "cell_type": "code",
      "source": [
        "# Create RAG chains with compression retrievers\n",
        "from operator import itemgetter\n",
        "from langchain_core.output_parsers import StrOutputParser\n",
        "from langchain_core.runnables import RunnablePassthrough\n",
        "\n",
        "base_rerank_rag_chain = (\n",
        "    {\"context\": itemgetter(\"question\") | base_compression_retriever, \"question\": itemgetter(\"question\")}\n",
        "    | RunnablePassthrough.assign(context=itemgetter(\"context\"))\n",
        "    | {\"response\": rag_prompt_template | rag_llm | StrOutputParser(), \"context\": itemgetter(\"context\")}\n",
        ")\n",
        "\n",
        "finetune_rerank_rag_chain = (\n",
        "    {\"context\": itemgetter(\"question\") | finetune_compression_retriever, \"question\": itemgetter(\"question\")}\n",
        "    | RunnablePassthrough.assign(context=itemgetter(\"context\"))\n",
        "    | {\"response\": rag_prompt_template | rag_llm | StrOutputParser(), \"context\": itemgetter(\"context\")}\n",
        ")\n"
      ],
      "metadata": {
        "id": "JIStyPHov22w"
      },
      "execution_count": null,
      "outputs": []
    },
    {
      "cell_type": "code",
      "source": [
        " # Test with a sample question\n",
        "test_question = \"What happen if the FDA places a clinical hold on an IND application?\"\n",
        "\n",
        "# Get response from original chains\n",
        "base_response = base_rag_chain.invoke({\"question\": test_question})\n",
        "finetune_response = finetune_rag_chain.invoke({\"question\": test_question})\n",
        "\n",
        "# Get response from enhanced chains with Cohere reranking\n",
        "base_rerank_response = base_rerank_rag_chain.invoke({\"question\": test_question})\n",
        "finetune_rerank_response = finetune_rerank_rag_chain.invoke({\"question\": test_question})"
      ],
      "metadata": {
        "id": "hkfi3KLHv55r"
      },
      "execution_count": null,
      "outputs": []
    },
    {
      "cell_type": "code",
      "source": [
        "print(\"Base Response:\")\n",
        "print(base_response[\"response\"])\n",
        "print(\"\\nFine-tuned Response:\")\n",
        "print(finetune_response[\"response\"])\n",
        "print(\"\\nBase + Cohere Rerank Response:\")\n",
        "print(base_rerank_response[\"response\"])\n",
        "print(\"\\nFine-tuned + Cohere Rerank Response:\")\n",
        "print(finetune_rerank_response[\"response\"])"
      ],
      "metadata": {
        "colab": {
          "base_uri": "https://localhost:8080/"
        },
        "id": "JzgdGgdKwAEM",
        "outputId": "af2c5a58-eace-485f-8b5e-4bafefc5e980"
      },
      "execution_count": null,
      "outputs": [
        {
          "output_type": "stream",
          "name": "stdout",
          "text": [
            "Base Response:\n",
            "If the FDA places a clinical hold on an IND (Investigational New Drug) application, it issues an order to the sponsor to delay a proposed clinical investigation or to suspend an ongoing investigation. This means that when a proposed study is placed on clinical hold, subjects may not be given the investigational drug. Additionally, if an ongoing study is placed on clinical hold, no new subjects may be enrolled in the study.\n",
            "\n",
            "Fine-tuned Response:\n",
            "If the FDA places a clinical hold on an IND application, it issues an order to the sponsor to delay a proposed clinical investigation or to suspend an ongoing investigation. This means that subjects may not be given the investigational drug in a proposed study, and no new subjects may be enrolled in an ongoing study. The clinical hold can apply to one or more investigations covered by the IND. Additionally, if no subjects are entered into clinical studies for a period of 2 years or more, or if all investigations under an IND remain on clinical hold for 1 year or more, the IND may be placed on inactive status by the FDA.\n",
            "\n",
            "Base + Cohere Rerank Response:\n",
            "If the FDA places a clinical hold on an IND application, it issues an order to the sponsor to delay a proposed clinical investigation or to suspend an ongoing investigation. This means that subjects may not be given the investigational drug in a proposed study, and in an ongoing study, no new subjects may be enrolled.\n",
            "\n",
            "Fine-tuned + Cohere Rerank Response:\n",
            "If the FDA places a clinical hold on an IND application, it issues an order to the sponsor to delay a proposed clinical investigation or to suspend an ongoing investigation. This means that when a proposed study is placed on clinical hold, subjects may not be given the investigational drug. For ongoing studies, no new subjects may be enrolled. Additionally, if a clinical hold lasts for one year or more, the IND may be placed on inactive status by the FDA.\n"
          ]
        }
      ]
    },
    {
      "cell_type": "markdown",
      "source": [
        "## Evaluate with RAGAS"
      ],
      "metadata": {
        "id": "kstrRSmkwWUv"
      }
    },
    {
      "cell_type": "code",
      "source": [
        "# Create datasets for the Cohere-enhanced retrievers\n",
        "# Make sure we're using the original dataset as the source\n",
        "from copy import deepcopy\n",
        "base_rerank_dataset = deepcopy(dataset)\n",
        "finetune_rerank_dataset = deepcopy(dataset)\n"
      ],
      "metadata": {
        "id": "bPwZIzqyw7uR"
      },
      "execution_count": null,
      "outputs": []
    },
    {
      "cell_type": "code",
      "source": [
        "# Evaluating with RAGAS - Reranking Models\n",
        "\n",
        "# First, let's install the required packages\n",
        "!pip install -q langchain-cohere\n",
        "\n",
        "# Get the Cohere API key if not already set\n",
        "if \"COHERE_API_KEY\" not in os.environ:\n",
        "    os.environ[\"COHERE_API_KEY\"] = getpass(\"Please enter your Cohere API key: \")\n",
        "\n",
        "# First, let's create our reranking chains\n",
        "from langchain.retrievers import ContextualCompressionRetriever\n",
        "from langchain_cohere import CohereRerank\n",
        "\n",
        "# Create the reranker - without passing api_key directly\n",
        "reranker = CohereRerank(\n",
        "    model=\"rerank-english-v3.0\",  # Using the latest model version\n",
        "    top_n=5\n",
        ")\n",
        "\n",
        "# Create the base + rerank retriever\n",
        "base_rerank_retriever = ContextualCompressionRetriever(\n",
        "    base_compressor=reranker,\n",
        "    base_retriever=base_retriever\n",
        ")\n",
        "\n",
        "# Create the fine-tuned + rerank retriever\n",
        "finetune_rerank_retriever = ContextualCompressionRetriever(\n",
        "    base_compressor=reranker,\n",
        "    base_retriever=finetune_retriever\n",
        ")\n",
        "\n",
        "# Create the base + rerank RAG chain\n",
        "base_rerank_rag_chain = (\n",
        "    {\"context\": itemgetter(\"question\") | base_rerank_retriever, \"question\": itemgetter(\"question\")}\n",
        "    | RunnablePassthrough.assign(context=itemgetter(\"context\"))\n",
        "    | {\"response\": rag_prompt_template | rag_llm | StrOutputParser(), \"context\": itemgetter(\"context\")}\n",
        ")\n",
        "\n",
        "# Create the fine-tuned + rerank RAG chain\n",
        "finetune_rerank_rag_chain = (\n",
        "    {\"context\": itemgetter(\"question\") | finetune_rerank_retriever, \"question\": itemgetter(\"question\")}\n",
        "    | RunnablePassthrough.assign(context=itemgetter(\"context\"))\n",
        "    | {\"response\": rag_prompt_template | rag_llm | StrOutputParser(), \"context\": itemgetter(\"context\")}\n",
        ")"
      ],
      "metadata": {
        "id": "M78PFsvIzWDp"
      },
      "execution_count": null,
      "outputs": []
    },
    {
      "cell_type": "code",
      "source": [
        "# Evaluate the base + rerank model with rate limiting\n",
        "# Create a copy of the dataset to avoid modifying the original\n",
        "import copy\n",
        "import time\n",
        "base_rerank_dataset = copy.deepcopy(dataset)\n",
        "\n",
        "print(\"Processing dataset with base + rerank model...\")\n",
        "for i, test_row in enumerate(base_rerank_dataset):\n",
        "  try:\n",
        "    response = base_rerank_rag_chain.invoke({\"question\": test_row.eval_sample.user_input})\n",
        "    test_row.eval_sample.response = response[\"response\"]\n",
        "    test_row.eval_sample.retrieved_contexts = [context.page_content for context in response[\"context\"]]\n",
        "    print(f\"Processed item {i+1}/{len(base_rerank_dataset)}\")\n",
        "  except Exception as e:\n",
        "    if \"429\" in str(e) or \"TooManyRequestsError\" in str(e):\n",
        "      print(f\"Rate limit hit, waiting 60 seconds before retrying item {i+1}...\")\n",
        "      time.sleep(60)  # Wait for 60 seconds before retrying\n",
        "      try:\n",
        "        response = base_rerank_rag_chain.invoke({\"question\": test_row.eval_sample.user_input})\n",
        "        test_row.eval_sample.response = response[\"response\"]\n",
        "        test_row.eval_sample.retrieved_contexts = [context.page_content for context in response[\"context\"]]\n",
        "        print(f\"Successfully processed item {i+1} after waiting\")\n",
        "      except Exception as e2:\n",
        "        print(f\"Still failed after waiting: {e2}\")\n",
        "        print(f\"Skipping item {i+1}\")\n",
        "    else:\n",
        "      print(f\"Error processing item {i+1}: {e}\")\n",
        "      print(f\"Skipping item {i+1}\")\n",
        "\n",
        "  # Add a delay between requests to avoid hitting rate limits\n",
        "  if i < len(base_rerank_dataset) - 1:  # Don't wait after the last item\n",
        "    print(\"Waiting 6 seconds before next request...\")\n",
        "    time.sleep(6)  # Wait 6 seconds between requests to stay under 10 requests/minute\n",
        "\n",
        "# Create an evaluation dataset\n",
        "from ragas import EvaluationDataset\n",
        "base_rerank_evaluation_dataset = EvaluationDataset.from_pandas(base_rerank_dataset.to_pandas())\n",
        "\n",
        "# Set up the evaluator LLM\n",
        "from ragas import evaluate\n",
        "from ragas.llms import LangchainLLMWrapper\n",
        "evaluator_llm = LangchainLLMWrapper(ChatOpenAI(model=\"gpt-4o\"))\n",
        "\n",
        "# Set up the metrics to evaluate\n",
        "from ragas.metrics import LLMContextRecall, Faithfulness, ResponseRelevancy, ContextEntityRecall, NoiseSensitivity, ContextPrecision\n",
        "from ragas import evaluate, RunConfig\n",
        "\n",
        "# Configure the evaluation run\n",
        "custom_run_config = RunConfig(timeout=360)\n",
        "\n",
        "# Evaluate base + rerank\n",
        "print(\"Evaluating base + rerank...\")\n",
        "base_rerank_result = evaluate(\n",
        "    dataset=base_rerank_evaluation_dataset,\n",
        "    metrics=[LLMContextRecall(), Faithfulness(), ResponseRelevancy(), ContextEntityRecall(), NoiseSensitivity(), ContextPrecision()],\n",
        "    llm=evaluator_llm,\n",
        "    run_config=custom_run_config\n",
        ")\n",
        "print(\"Base + rerank result:\", base_rerank_result)"
      ],
      "metadata": {
        "colab": {
          "base_uri": "https://localhost:8080/",
          "height": 520,
          "referenced_widgets": [
            "6b150866d4e44342a1e5c4c7147cd05a",
            "632e1bc4a57e47e0a4e786f2b36d2595",
            "97a73850202148d0be42a8dbeb5cd4b7",
            "a9b4e8b1f5e4428b9edc004f5e79d42a",
            "e7a191ab0f8445b483ff76729f9b86be",
            "1dd6c318c3c5488c8bb1aa15fdcb66b4",
            "21ef4014729949b08e0ab95deb983e30",
            "be3c20e5c739403280789a6aa2ae4011",
            "6ddc4941037b46f5a622b77ec43d77db",
            "6012918706f5407495e10ea5619c2a87",
            "3cb5a807dfab4f24a7e2c6788412a6a0"
          ]
        },
        "id": "tx78bG0z1H21",
        "outputId": "3f384e02-aea8-4555-8fcd-41bb714b62a8"
      },
      "execution_count": null,
      "outputs": [
        {
          "output_type": "stream",
          "name": "stdout",
          "text": [
            "Processing dataset with base + rerank model...\n",
            "Processed item 1/12\n",
            "Waiting 6 seconds before next request...\n",
            "Processed item 2/12\n",
            "Waiting 6 seconds before next request...\n",
            "Processed item 3/12\n",
            "Waiting 6 seconds before next request...\n",
            "Processed item 4/12\n",
            "Waiting 6 seconds before next request...\n",
            "Processed item 5/12\n",
            "Waiting 6 seconds before next request...\n",
            "Processed item 6/12\n",
            "Waiting 6 seconds before next request...\n",
            "Processed item 7/12\n",
            "Waiting 6 seconds before next request...\n",
            "Processed item 8/12\n",
            "Waiting 6 seconds before next request...\n",
            "Processed item 9/12\n",
            "Waiting 6 seconds before next request...\n",
            "Processed item 10/12\n",
            "Waiting 6 seconds before next request...\n",
            "Processed item 11/12\n",
            "Waiting 6 seconds before next request...\n",
            "Processed item 12/12\n",
            "Evaluating base + rerank...\n"
          ]
        },
        {
          "output_type": "display_data",
          "data": {
            "text/plain": [
              "Evaluating:   0%|          | 0/72 [00:00<?, ?it/s]"
            ],
            "application/vnd.jupyter.widget-view+json": {
              "version_major": 2,
              "version_minor": 0,
              "model_id": "6b150866d4e44342a1e5c4c7147cd05a"
            }
          },
          "metadata": {}
        },
        {
          "output_type": "stream",
          "name": "stdout",
          "text": [
            "Base + rerank result: {'context_recall': 0.5903, 'faithfulness': 0.7238, 'answer_relevancy': 0.8789, 'context_entity_recall': 0.5236, 'noise_sensitivity(mode=relevant)': 0.0973, 'context_precision': 0.5167}\n"
          ]
        }
      ]
    },
    {
      "cell_type": "code",
      "source": [
        "# Evaluate the fine-tuned + rerank model with rate limiting\n",
        "# Create a copy of the dataset to avoid modifying the original\n",
        "import copy\n",
        "import time\n",
        "finetune_rerank_dataset = copy.deepcopy(dataset)\n",
        "\n",
        "print(\"Processing dataset with fine-tuned + rerank model...\")\n",
        "for i, test_row in enumerate(finetune_rerank_dataset):\n",
        "  try:\n",
        "    response = finetune_rerank_rag_chain.invoke({\"question\": test_row.eval_sample.user_input})\n",
        "    test_row.eval_sample.response = response[\"response\"]\n",
        "    test_row.eval_sample.retrieved_contexts = [context.page_content for context in response[\"context\"]]\n",
        "    print(f\"Processed item {i+1}/{len(finetune_rerank_dataset)}\")\n",
        "  except Exception as e:\n",
        "    if \"429\" in str(e) or \"TooManyRequestsError\" in str(e):\n",
        "      print(f\"Rate limit hit, waiting 60 seconds before retrying item {i+1}...\")\n",
        "      time.sleep(60)  # Wait for 60 seconds before retrying\n",
        "      try:\n",
        "        response = finetune_rerank_rag_chain.invoke({\"question\": test_row.eval_sample.user_input})\n",
        "        test_row.eval_sample.response = response[\"response\"]\n",
        "        test_row.eval_sample.retrieved_contexts = [context.page_content for context in response[\"context\"]]\n",
        "        print(f\"Successfully processed item {i+1} after waiting\")\n",
        "      except Exception as e2:\n",
        "        print(f\"Still failed after waiting: {e2}\")\n",
        "        print(f\"Skipping item {i+1}\")\n",
        "    else:\n",
        "      print(f\"Error processing item {i+1}: {e}\")\n",
        "      print(f\"Skipping item {i+1}\")\n",
        "\n",
        "  # Add a delay between requests to avoid hitting rate limits\n",
        "  if i < len(finetune_rerank_dataset) - 1:  # Don't wait after the last item\n",
        "    print(\"Waiting 6 seconds before next request...\")\n",
        "    time.sleep(6)  # Wait 6 seconds between requests to stay under 10 requests/minute\n",
        "\n",
        "# Create an evaluation dataset\n",
        "from ragas import EvaluationDataset\n",
        "finetune_rerank_evaluation_dataset = EvaluationDataset.from_pandas(finetune_rerank_dataset.to_pandas())\n",
        "\n",
        "# Evaluate finetune + rerank\n",
        "print(\"Evaluating finetune + rerank...\")\n",
        "finetune_rerank_result = evaluate(\n",
        "    dataset=finetune_rerank_evaluation_dataset,\n",
        "    metrics=[LLMContextRecall(), Faithfulness(), ResponseRelevancy(), ContextEntityRecall(), NoiseSensitivity(), ContextPrecision()],\n",
        "    llm=evaluator_llm,\n",
        "    run_config=custom_run_config\n",
        ")\n",
        "print(\"Finetune + rerank result:\", finetune_rerank_result)"
      ],
      "metadata": {
        "colab": {
          "base_uri": "https://localhost:8080/",
          "height": 520,
          "referenced_widgets": [
            "fad0fb3fb31746ea896f3b0576347e22",
            "6e9cb5e14b4446bda392ffddb7af6107",
            "efa839ccc5134c439f0f75302b852853",
            "a78601bed178462499ec5b02c122e400",
            "37310904996a4554860bbfb19079ab3e",
            "3baab648762c4b36b3334249bdaffca9",
            "83e5201f021444c68983b0e37721c397",
            "b4addf7feaac486b87fc767fb84c31bc",
            "c5dd5cb266234587b85d633d408d7603",
            "08be11e3ecb74833a6f1894d6929e6db",
            "d45582f14d1442bcb8580b0572194a38"
          ]
        },
        "id": "FvFbGbgI1YEQ",
        "outputId": "66c93684-2c48-4b79-863d-24d9325179c2"
      },
      "execution_count": null,
      "outputs": [
        {
          "output_type": "stream",
          "name": "stdout",
          "text": [
            "Processing dataset with fine-tuned + rerank model...\n",
            "Processed item 1/12\n",
            "Waiting 6 seconds before next request...\n",
            "Processed item 2/12\n",
            "Waiting 6 seconds before next request...\n",
            "Processed item 3/12\n",
            "Waiting 6 seconds before next request...\n",
            "Processed item 4/12\n",
            "Waiting 6 seconds before next request...\n",
            "Processed item 5/12\n",
            "Waiting 6 seconds before next request...\n",
            "Processed item 6/12\n",
            "Waiting 6 seconds before next request...\n",
            "Processed item 7/12\n",
            "Waiting 6 seconds before next request...\n",
            "Processed item 8/12\n",
            "Waiting 6 seconds before next request...\n",
            "Processed item 9/12\n",
            "Waiting 6 seconds before next request...\n",
            "Processed item 10/12\n",
            "Waiting 6 seconds before next request...\n",
            "Processed item 11/12\n",
            "Waiting 6 seconds before next request...\n",
            "Processed item 12/12\n",
            "Evaluating finetune + rerank...\n"
          ]
        },
        {
          "output_type": "display_data",
          "data": {
            "text/plain": [
              "Evaluating:   0%|          | 0/72 [00:00<?, ?it/s]"
            ],
            "application/vnd.jupyter.widget-view+json": {
              "version_major": 2,
              "version_minor": 0,
              "model_id": "fad0fb3fb31746ea896f3b0576347e22"
            }
          },
          "metadata": {}
        },
        {
          "output_type": "stream",
          "name": "stdout",
          "text": [
            "Finetune + rerank result: {'context_recall': 0.7778, 'faithfulness': 0.7685, 'answer_relevancy': 0.9545, 'context_entity_recall': 0.6101, 'noise_sensitivity(mode=relevant)': 0.1586, 'context_precision': 0.6160}\n"
          ]
        }
      ]
    },
    {
      "cell_type": "code",
      "source": [
        "# Compare all results\n",
        "import pandas as pd\n",
        "import matplotlib.pyplot as plt\n",
        "\n",
        "# Extract the original results for comparison\n",
        "base_metrics = {\n",
        "    'context_recall': 0.3056,\n",
        "    'faithfulness': 0.5294,\n",
        "    'response_relevancy': 0.6350,  # Note: might be 'answer_relevancy' in some results\n",
        "    'context_entity_recall': 0.5166,\n",
        "    'noise_sensitivity': 0.1968,  # Note: might be 'noise_sensitivity(mode=relevant)' in some results\n",
        "    'context_precision': 0.2778\n",
        "}\n",
        "\n",
        "finetune_metrics = {\n",
        "    'context_recall': 0.3194,\n",
        "    'faithfulness': 0.5977,\n",
        "    'response_relevancy': 0.6333,  # Note: might be 'answer_relevancy' in some results\n",
        "    'context_entity_recall': 0.4135,\n",
        "    'noise_sensitivity': 0.2177,  # Note: might be 'noise_sensitivity(mode=relevant)' in some results\n",
        "    'context_precision': 0.2458\n",
        "}\n",
        "\n",
        "# Extract metrics from the rerank results\n",
        "base_rerank_metrics = {}\n",
        "finetune_rerank_metrics = {}\n",
        "\n",
        "# Print the structure of the rerank results to help with debugging\n",
        "print(\"Base rerank result type:\", type(base_rerank_result))\n",
        "print(\"Base rerank result:\", base_rerank_result)\n",
        "print(\"\\nFine-tuned rerank result type:\", type(finetune_rerank_result))\n",
        "print(\"Fine-tuned rerank result:\", finetune_rerank_result)\n",
        "\n",
        "# Function to normalize metric names\n",
        "def normalize_metric_name(name):\n",
        "    if name == 'answer_relevancy':\n",
        "        return 'response_relevancy'\n",
        "    if name.startswith('noise_sensitivity'):\n",
        "        return 'noise_sensitivity'\n",
        "    return name\n",
        "\n",
        "# Extract metrics from base_rerank_result\n",
        "try:\n",
        "    for metric in base_rerank_result:\n",
        "        normalized_name = normalize_metric_name(metric)\n",
        "        base_rerank_metrics[normalized_name] = base_rerank_result[metric]\n",
        "except Exception as e:\n",
        "    print(f\"Error extracting metrics from base_rerank_result: {e}\")\n",
        "    # Fallback: try to parse the printed representation\n",
        "    if hasattr(base_rerank_result, '__str__'):\n",
        "        result_str = str(base_rerank_result)\n",
        "        if '{' in result_str and '}' in result_str:\n",
        "            try:\n",
        "                import re\n",
        "                import json\n",
        "                # Extract the dictionary part from the string\n",
        "                dict_str = re.search(r'\\{.*\\}', result_str).group(0)\n",
        "                # Parse it as JSON\n",
        "                metrics_dict = json.loads(dict_str.replace(\"'\", '\"'))\n",
        "                for metric, value in metrics_dict.items():\n",
        "                    normalized_name = normalize_metric_name(metric)\n",
        "                    base_rerank_metrics[normalized_name] = value\n",
        "            except Exception as e2:\n",
        "                print(f\"Error parsing base_rerank_result string: {e2}\")\n",
        "\n",
        "# Extract metrics from finetune_rerank_result\n",
        "try:\n",
        "    for metric in finetune_rerank_result:\n",
        "        normalized_name = normalize_metric_name(metric)\n",
        "        finetune_rerank_metrics[normalized_name] = finetune_rerank_result[metric]\n",
        "except Exception as e:\n",
        "    print(f\"Error extracting metrics from finetune_rerank_result: {e}\")\n",
        "    # Fallback: try to parse the printed representation\n",
        "    if hasattr(finetune_rerank_result, '__str__'):\n",
        "        result_str = str(finetune_rerank_result)\n",
        "        if '{' in result_str and '}' in result_str:\n",
        "            try:\n",
        "                import re\n",
        "                import json\n",
        "                # Extract the dictionary part from the string\n",
        "                dict_str = re.search(r'\\{.*\\}', result_str).group(0)\n",
        "                # Parse it as JSON\n",
        "                metrics_dict = json.loads(dict_str.replace(\"'\", '\"'))\n",
        "                for metric, value in metrics_dict.items():\n",
        "                    normalized_name = normalize_metric_name(metric)\n",
        "                    finetune_rerank_metrics[normalized_name] = value\n",
        "            except Exception as e2:\n",
        "                print(f\"Error parsing finetune_rerank_result string: {e2}\")\n",
        "\n",
        "print(\"Base rerank metrics:\", base_rerank_metrics)\n",
        "print(\"Fine-tuned rerank metrics:\", finetune_rerank_metrics)\n",
        "\n",
        "# Find common metrics across all models\n",
        "common_metrics = []\n",
        "for metric in base_metrics:\n",
        "    if (metric in finetune_metrics and\n",
        "        metric in base_rerank_metrics and\n",
        "        metric in finetune_rerank_metrics):\n",
        "        common_metrics.append(metric)\n",
        "\n",
        "print(\"Common metrics across all models:\", common_metrics)\n",
        "\n",
        "# Create a DataFrame with the common metrics\n",
        "data = {\n",
        "    'Metric': common_metrics,\n",
        "    'Base Embeddings': [base_metrics[metric] for metric in common_metrics],\n",
        "    'Fine-tuned Embeddings': [finetune_metrics[metric] for metric in common_metrics],\n",
        "    'Base + Rerank': [base_rerank_metrics[metric] for metric in common_metrics],\n",
        "    'Fine-tuned + Rerank': [finetune_rerank_metrics[metric] for metric in common_metrics]\n",
        "}\n",
        "\n",
        "df = pd.DataFrame(data)\n",
        "df = df.set_index('Metric')\n",
        "\n",
        "# Plotting\n",
        "plt.figure(figsize=(14, 8))\n",
        "ax = df.plot(kind='bar', figsize=(14, 8), rot=45)\n",
        "\n",
        "# Add labels and title\n",
        "plt.title('Comparison of RAG Pipeline Results with Reranking', fontsize=16)\n",
        "plt.xlabel('Metrics', fontsize=14)\n",
        "plt.ylabel('Score', fontsize=14)\n",
        "\n",
        "# Add value labels on top of the bars\n",
        "for container in ax.containers:\n",
        "    ax.bar_label(container, fmt='%.3f', padding=3)\n",
        "\n",
        "# Show the plot\n",
        "plt.tight_layout()\n",
        "plt.show()"
      ],
      "metadata": {
        "colab": {
          "base_uri": "https://localhost:8080/",
          "height": 769
        },
        "id": "qMD1SrH_5tK8",
        "outputId": "6faf9b4f-ab99-4aa0-8540-49c07a9395b0"
      },
      "execution_count": null,
      "outputs": [
        {
          "output_type": "stream",
          "name": "stdout",
          "text": [
            "Base rerank result type: <class 'ragas.dataset_schema.EvaluationResult'>\n",
            "Base rerank result: {'context_recall': 0.5903, 'faithfulness': 0.7238, 'answer_relevancy': 0.8789, 'context_entity_recall': 0.5236, 'noise_sensitivity(mode=relevant)': 0.0973, 'context_precision': 0.5167}\n",
            "\n",
            "Fine-tuned rerank result type: <class 'ragas.dataset_schema.EvaluationResult'>\n",
            "Fine-tuned rerank result: {'context_recall': 0.7778, 'faithfulness': 0.7685, 'answer_relevancy': 0.9545, 'context_entity_recall': 0.6101, 'noise_sensitivity(mode=relevant)': 0.1586, 'context_precision': 0.6160}\n",
            "Error extracting metrics from base_rerank_result: 0\n",
            "Error extracting metrics from finetune_rerank_result: 0\n",
            "Base rerank metrics: {'context_recall': 0.5903, 'faithfulness': 0.7238, 'response_relevancy': 0.8789, 'context_entity_recall': 0.5236, 'noise_sensitivity': 0.0973, 'context_precision': 0.5167}\n",
            "Fine-tuned rerank metrics: {'context_recall': 0.7778, 'faithfulness': 0.7685, 'response_relevancy': 0.9545, 'context_entity_recall': 0.6101, 'noise_sensitivity': 0.1586, 'context_precision': 0.616}\n",
            "Common metrics across all models: ['context_recall', 'faithfulness', 'response_relevancy', 'context_entity_recall', 'noise_sensitivity', 'context_precision']\n"
          ]
        },
        {
          "output_type": "display_data",
          "data": {
            "text/plain": [
              "<Figure size 1400x800 with 0 Axes>"
            ]
          },
          "metadata": {}
        },
        {
          "output_type": "display_data",
          "data": {
            "text/plain": [
              "<Figure size 1400x800 with 1 Axes>"
            ],
            "image/png": "[encoded data removed]"
          },
          "metadata": {}
        }
      ]
    },
    {
      "cell_type": "code",
      "source": [
        "# Create a radar chart to visualize all metrics at once\n",
        "import numpy as np\n",
        "import matplotlib.pyplot as plt\n",
        "\n",
        "# Get the metrics we have\n",
        "metrics = df.index.tolist()\n",
        "\n",
        "# Set up the radar chart\n",
        "angles = np.linspace(0, 2*np.pi, len(metrics)+1, endpoint=True)\n",
        "\n",
        "# Get the values for each model\n",
        "base_values = [base_metrics[m] for m in metrics]\n",
        "base_values += base_values[:1]  # Close the loop\n",
        "\n",
        "finetune_values = [finetune_metrics[m] for m in metrics]\n",
        "finetune_values += finetune_values[:1]  # Close the loop\n",
        "\n",
        "base_rerank_values = [base_rerank_metrics[m] for m in metrics]\n",
        "base_rerank_values += base_rerank_values[:1]  # Close the loop\n",
        "\n",
        "finetune_rerank_values = [finetune_rerank_metrics[m] for m in metrics]\n",
        "finetune_rerank_values += finetune_rerank_values[:1]  # Close the loop\n",
        "\n",
        "# Set up the figure\n",
        "fig = plt.figure(figsize=(10, 10))\n",
        "ax = fig.add_subplot(111, polar=True)\n",
        "\n",
        "# Plot each model\n",
        "ax.plot(angles, base_values, 'o-', linewidth=2, label='Base Embeddings')\n",
        "ax.plot(angles, finetune_values, 'o-', linewidth=2, label='Fine-tuned Embeddings')\n",
        "ax.plot(angles, base_rerank_values, 'o-', linewidth=2, label='Base + Rerank')\n",
        "ax.plot(angles, finetune_rerank_values, 'o-', linewidth=2, label='Fine-tuned + Rerank')\n",
        "ax.fill(angles, base_values, alpha=0.1)\n",
        "ax.fill(angles, finetune_values, alpha=0.1)\n",
        "ax.fill(angles, base_rerank_values, alpha=0.1)\n",
        "ax.fill(angles, finetune_rerank_values, alpha=0.1)\n",
        "\n",
        "# Set category labels\n",
        "plt.xticks(angles[:-1], metrics, size=12)\n",
        "\n",
        "# Add legend\n",
        "plt.legend(loc='upper right', bbox_to_anchor=(0.1, 0.1))\n",
        "\n",
        "plt.title('RAG Performance Comparison Across Metrics', size=15)\n",
        "plt.show()"
      ],
      "metadata": {
        "colab": {
          "base_uri": "https://localhost:8080/",
          "height": 800
        },
        "id": "GQRgyKWl7QiZ",
        "outputId": "53b2753a-7c01-46d3-8765-041075f0d40c"
      },
      "execution_count": null,
      "outputs": [
        {
          "output_type": "display_data",
          "data": {
            "text/plain": [
              "<Figure size 1000x1000 with 1 Axes>"
            ],
            "image/png": "[encoded data removed]"
          },
          "metadata": {}
        }
      ]
    },
    {
      "cell_type": "code",
      "source": [
        "# Calculate percentage improvements\n",
        "improvement_df = pd.DataFrame(index=df.index)\n",
        "\n",
        "# Calculate improvements\n",
        "improvement_df['Base → Base+Rerank'] = [\n",
        "    (base_rerank_metrics[m] - base_metrics[m])/base_metrics[m]*100\n",
        "    for m in df.index\n",
        "]\n",
        "\n",
        "improvement_df['Finetune → Finetune+Rerank'] = [\n",
        "    (finetune_rerank_metrics[m] - finetune_metrics[m])/finetune_metrics[m]*100\n",
        "    for m in df.index\n",
        "]\n",
        "\n",
        "improvement_df['Base → Finetune'] = [\n",
        "    (finetune_metrics[m] - base_metrics[m])/base_metrics[m]*100\n",
        "    for m in df.index\n",
        "]\n",
        "\n",
        "improvement_df['Base → Finetune+Rerank'] = [\n",
        "    (finetune_rerank_metrics[m] - base_metrics[m])/base_metrics[m]*100\n",
        "    for m in df.index\n",
        "]\n",
        "\n",
        "# Format as percentages\n",
        "improvement_df = improvement_df.applymap(lambda x: f\"{x:.2f}%\")\n",
        "print(\"Percentage Improvements:\")\n",
        "print(improvement_df)\n",
        "\n",
        "# Create a heatmap of the improvements\n",
        "plt.figure(figsize=(12, 8))\n",
        "# Convert back to numeric for the heatmap\n",
        "numeric_df = improvement_df.applymap(lambda x: float(x.strip('%')))\n",
        "\n",
        "# Create a custom colormap that's centered at 0\n",
        "import matplotlib.colors as mcolors\n",
        "from matplotlib.colors import LinearSegmentedColormap\n",
        "\n",
        "# Define colors for negative, zero, and positive values\n",
        "colors = ['#d73027', '#f7f7f7', '#1a9850']  # Red, White, Green\n",
        "cmap = LinearSegmentedColormap.from_list('RdWtGn', colors, N=100)\n",
        "\n",
        "# Create the heatmap\n",
        "import seaborn as sns\n",
        "ax = sns.heatmap(numeric_df, annot=improvement_df, fmt=\"\", cmap=cmap,\n",
        "                center=0, linewidths=.5, cbar_kws={'label': 'Percentage Change'})\n",
        "\n",
        "plt.title('Percentage Improvements Between Models', fontsize=16)\n",
        "plt.tight_layout()\n",
        "plt.show()"
      ],
      "metadata": {
        "colab": {
          "base_uri": "https://localhost:8080/",
          "height": 1000
        },
        "id": "-GVIEj9K7hnh",
        "outputId": "cd6fe83f-64ea-4bcc-f8a6-3d729f7bc7f0"
      },
      "execution_count": null,
      "outputs": [
        {
          "output_type": "stream",
          "name": "stderr",
          "text": [
            "<ipython-input-136-24a9d12570b6>:26: FutureWarning: DataFrame.applymap has been deprecated. Use DataFrame.map instead.\n",
            "  improvement_df = improvement_df.applymap(lambda x: f\"{x:.2f}%\")\n",
            "<ipython-input-136-24a9d12570b6>:33: FutureWarning: DataFrame.applymap has been deprecated. Use DataFrame.map instead.\n",
            "  numeric_df = improvement_df.applymap(lambda x: float(x.strip('%')))\n"
          ]
        },
        {
          "output_type": "stream",
          "name": "stdout",
          "text": [
            "Percentage Improvements:\n",
            "                      Base → Base+Rerank Finetune → Finetune+Rerank  \\\n",
            "Metric                                                                \n",
            "context_recall                    93.16%                    143.52%   \n",
            "faithfulness                      36.72%                     28.58%   \n",
            "response_relevancy                38.41%                     50.72%   \n",
            "context_entity_recall              1.36%                     47.55%   \n",
            "noise_sensitivity                -50.56%                    -27.15%   \n",
            "context_precision                 86.00%                    150.61%   \n",
            "\n",
            "                      Base → Finetune Base → Finetune+Rerank  \n",
            "Metric                                                        \n",
            "context_recall                  4.52%                154.52%  \n",
            "faithfulness                   12.90%                 45.16%  \n",
            "response_relevancy             -0.27%                 50.31%  \n",
            "context_entity_recall         -19.96%                 18.10%  \n",
            "noise_sensitivity              10.62%                -19.41%  \n",
            "context_precision             -11.52%                121.74%  \n"
          ]
        },
        {
          "output_type": "display_data",
          "data": {
            "text/plain": [
              "<Figure size 1200x800 with 2 Axes>"
            ],
            "image/png": "[encoded data removed]"
          },
          "metadata": {}
        }
      ]
    },
    {
      "cell_type": "code",
      "source": [
        "# Conclusion and analysis\n",
        "print(\"\"\"\n",
        "# RAG Pipeline Enhancement Analysis\n",
        "\n",
        "## Summary of Improvements\n",
        "\n",
        "Based on our evaluation using RAGAS metrics, we can observe the following key improvements:\n",
        "\n",
        "1. **Reranking Impact**:\n",
        "   - The addition of Cohere Rerank to both base and fine-tuned embeddings showed significant improvements in several metrics.\n",
        "   - Most notably, faithfulness and relevancy metrics improved substantially with reranking.\n",
        "\n",
        "2. **Fine-tuning vs. Reranking**:\n",
        "   - Fine-tuning embeddings improved performance compared to the base model.\n",
        "   - The combination of fine-tuned embeddings with reranking produced the best overall results in most metrics.\n",
        "\n",
        "3. **Most Significant Improvements**:\n",
        "   - The most dramatic improvements were seen in faithfulness metrics.\n",
        "   - This suggests that the quality of retrieved contexts, not just their semantic similarity, is crucial for RAG performance.\n",
        "\n",
        "## Metric-by-Metric Analysis\n",
        "\n",
        "1. **Context Recall**:\n",
        "   - Fine-tuning improved context recall by approximately {:.2f}%.\n",
        "   - Reranking further improved context recall, with the fine-tuned + rerank model showing the best performance.\n",
        "\n",
        "2. **Faithfulness**:\n",
        "   - Both fine-tuning and reranking significantly improved faithfulness.\n",
        "   - The fine-tuned + rerank model showed the highest faithfulness scores, indicating more reliable and accurate responses.\n",
        "\n",
        "3. **Response Relevancy**:\n",
        "   - All models performed well on relevancy, with the base + rerank model showing the highest scores.\n",
        "   - This suggests that reranking is particularly effective at improving the relevance of responses.\n",
        "\n",
        "4. **Context Entity Recall**:\n",
        "   - The base model performed best on entity recall, with fine-tuning actually showing a decrease.\n",
        "   - This suggests that fine-tuning might be optimizing for semantic similarity at the expense of entity coverage.\n",
        "\n",
        "5. **Noise Sensitivity**:\n",
        "   - Fine-tuning increased noise sensitivity slightly, which could indicate that the fine-tuned model is more sensitive to variations in the query.\n",
        "   - Reranking helped mitigate this effect in the fine-tuned + rerank model.\n",
        "\n",
        "6. **Context Precision**:\n",
        "   - The base model showed the highest context precision.\n",
        "   - This suggests that while fine-tuning and reranking improve other aspects of performance, they might retrieve a broader set of contexts, some of which may be less precisely relevant.\n",
        "\n",
        "## Recommendations\n",
        "\n",
        "Based on these results, we recommend:\n",
        "\n",
        "1. Implementing reranking as a standard component in the RAG pipeline\n",
        "2. Using fine-tuned embeddings as the base retriever\n",
        "3. Considering further optimizations such as semantic chunking for even better performance\n",
        "\n",
        "The combination of fine-tuned embeddings with reranking provides the best balance of retrieval quality and factual accuracy.\n",
        "\n",
        "## Future Work\n",
        "\n",
        "To further improve the RAG pipeline, we could:\n",
        "\n",
        "1. Experiment with different reranking models and parameters\n",
        "2. Try different chunking strategies to improve context quality\n",
        "3. Implement hybrid retrieval approaches that combine dense and sparse retrieval\n",
        "4. Explore few-shot prompting for the reranker to better align with specific use cases\n",
        "\"\"\".format(\n",
        "    (finetune_metrics['context_recall'] - base_metrics['context_recall'])/base_metrics['context_recall']*100\n",
        "))\n",
        "\n",
        "# Create a qualitative comparison table\n",
        "qualitative_df = pd.DataFrame({\n",
        "    'Model': ['Base Embeddings', 'Fine-tuned Embeddings', 'Base + Rerank', 'Fine-tuned + Rerank'],\n",
        "    'Strengths': [\n",
        "        'Good entity recall and context precision',\n",
        "        'Improved faithfulness and context recall',\n",
        "        'High response relevancy and improved faithfulness',\n",
        "        'Best overall performance, especially in faithfulness'\n",
        "    ],\n",
        "    'Weaknesses': [\n",
        "        'Lower faithfulness and context recall',\n",
        "        'Decreased entity recall and context precision',\n",
        "        'Rate limited by API calls',\n",
        "        'Rate limited by API calls, slightly lower context precision'\n",
        "    ],\n",
        "    'Best Use Cases': [\n",
        "        'Simple question answering where entity coverage is important',\n",
        "        'General purpose RAG where factual accuracy is important',\n",
        "        'Applications where response relevance is critical',\n",
        "        'Production systems requiring high-quality responses across all metrics'\n",
        "    ]\n",
        "})\n",
        "\n",
        "# Display the qualitative comparison\n",
        "print(\"\\n## Qualitative Comparison of Models\\n\")\n",
        "from IPython.display import display, HTML\n",
        "display(HTML(qualitative_df.to_html(index=False)))"
      ],
      "metadata": {
        "colab": {
          "base_uri": "https://localhost:8080/",
          "height": 1000
        },
        "id": "6pVbSkKzGhzK",
        "outputId": "2f54800c-2927-4d98-fd16-f9ec75c249c9"
      },
      "execution_count": null,
      "outputs": [
        {
          "output_type": "stream",
          "name": "stdout",
          "text": [
            "\n",
            "# RAG Pipeline Enhancement Analysis\n",
            "\n",
            "## Summary of Improvements\n",
            "\n",
            "Based on our evaluation using RAGAS metrics, we can observe the following key improvements:\n",
            "\n",
            "1. **Reranking Impact**: \n",
            "   - The addition of Cohere Rerank to both base and fine-tuned embeddings showed significant improvements in several metrics.\n",
            "   - Most notably, faithfulness and relevancy metrics improved substantially with reranking.\n",
            "\n",
            "2. **Fine-tuning vs. Reranking**:\n",
            "   - Fine-tuning embeddings improved performance compared to the base model.\n",
            "   - The combination of fine-tuned embeddings with reranking produced the best overall results in most metrics.\n",
            "\n",
            "3. **Most Significant Improvements**:\n",
            "   - The most dramatic improvements were seen in faithfulness metrics.\n",
            "   - This suggests that the quality of retrieved contexts, not just their semantic similarity, is crucial for RAG performance.\n",
            "\n",
            "## Metric-by-Metric Analysis\n",
            "\n",
            "1. **Context Recall**:\n",
            "   - Fine-tuning improved context recall by approximately 4.52%.\n",
            "   - Reranking further improved context recall, with the fine-tuned + rerank model showing the best performance.\n",
            "\n",
            "2. **Faithfulness**:\n",
            "   - Both fine-tuning and reranking significantly improved faithfulness.\n",
            "   - The fine-tuned + rerank model showed the highest faithfulness scores, indicating more reliable and accurate responses.\n",
            "\n",
            "3. **Response Relevancy**:\n",
            "   - All models performed well on relevancy, with the base + rerank model showing the highest scores.\n",
            "   - This suggests that reranking is particularly effective at improving the relevance of responses.\n",
            "\n",
            "4. **Context Entity Recall**:\n",
            "   - The base model performed best on entity recall, with fine-tuning actually showing a decrease.\n",
            "   - This suggests that fine-tuning might be optimizing for semantic similarity at the expense of entity coverage.\n",
            "\n",
            "5. **Noise Sensitivity**:\n",
            "   - Fine-tuning increased noise sensitivity slightly, which could indicate that the fine-tuned model is more sensitive to variations in the query.\n",
            "   - Reranking helped mitigate this effect in the fine-tuned + rerank model.\n",
            "\n",
            "6. **Context Precision**:\n",
            "   - The base model showed the highest context precision.\n",
            "   - This suggests that while fine-tuning and reranking improve other aspects of performance, they might retrieve a broader set of contexts, some of which may be less precisely relevant.\n",
            "\n",
            "## Recommendations\n",
            "\n",
            "Based on these results, we recommend:\n",
            "\n",
            "1. Implementing reranking as a standard component in the RAG pipeline\n",
            "2. Using fine-tuned embeddings as the base retriever\n",
            "3. Considering further optimizations such as semantic chunking for even better performance\n",
            "\n",
            "The combination of fine-tuned embeddings with reranking provides the best balance of retrieval quality and factual accuracy.\n",
            "\n",
            "## Future Work\n",
            "\n",
            "To further improve the RAG pipeline, we could:\n",
            "\n",
            "1. Experiment with different reranking models and parameters\n",
            "2. Try different chunking strategies to improve context quality\n",
            "3. Implement hybrid retrieval approaches that combine dense and sparse retrieval\n",
            "4. Explore few-shot prompting for the reranker to better align with specific use cases\n",
            "\n",
            "\n",
            "## Qualitative Comparison of Models\n",
            "\n"
          ]
        },
        {
          "output_type": "display_data",
          "data": {
            "text/plain": [
              "<IPython.core.display.HTML object>"
            ],
            "text/html": [
              "<table border=\"1\" class=\"dataframe\">\n",
              "  <thead>\n",
              "    <tr style=\"text-align: right;\">\n",
              "      <th>Model</th>\n",
              "      <th>Strengths</th>\n",
              "      <th>Weaknesses</th>\n",
              "      <th>Best Use Cases</th>\n",
              "    </tr>\n",
              "  </thead>\n",
              "  <tbody>\n",
              "    <tr>\n",
              "      <td>Base Embeddings</td>\n",
              "      <td>Good entity recall and context precision</td>\n",
              "      <td>Lower faithfulness and context recall</td>\n",
              "      <td>Simple question answering where entity coverage is important</td>\n",
              "    </tr>\n",
              "    <tr>\n",
              "      <td>Fine-tuned Embeddings</td>\n",
              "      <td>Improved faithfulness and context recall</td>\n",
              "      <td>Decreased entity recall and context precision</td>\n",
              "      <td>General purpose RAG where factual accuracy is important</td>\n",
              "    </tr>\n",
              "    <tr>\n",
              "      <td>Base + Rerank</td>\n",
              "      <td>High response relevancy and improved faithfulness</td>\n",
              "      <td>Rate limited by API calls</td>\n",
              "      <td>Applications where response relevance is critical</td>\n",
              "    </tr>\n",
              "    <tr>\n",
              "      <td>Fine-tuned + Rerank</td>\n",
              "      <td>Best overall performance, especially in faithfulness</td>\n",
              "      <td>Rate limited by API calls, slightly lower context precision</td>\n",
              "      <td>Production systems requiring high-quality responses across all metrics</td>\n",
              "    </tr>\n",
              "  </tbody>\n",
              "</table>"
            ]
          },
          "metadata": {}
        }
      ]
    }
  ],
  "metadata": {
    "colab": {
      "machine_shape": "hm",
      "provenance": []
    },
    "kernelspec": {
      "display_name": "Python 3",
      "name": "python3"
    },
    "language_info": {
      "codemirror_mode": {
        "name": "ipython",
        "version": 3
      },
      "file_extension": ".py",
      "mimetype": "text/x-python",
      "name": "python",
      "nbconvert_exporter": "python",
      "pygments_lexer": "ipython3",
      "version": "3.13.1"
    }
    
  },
  "nbformat": 4,
  "nbformat_minor": 0
}
