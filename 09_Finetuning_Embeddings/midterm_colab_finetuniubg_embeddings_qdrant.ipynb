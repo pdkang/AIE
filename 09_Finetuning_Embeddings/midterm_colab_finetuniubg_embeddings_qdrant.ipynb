{
  "cells": [
    {
      "cell_type": "markdown",
      "metadata": {
        "id": "ckbbj5diaHkg"
      },
      "source": [
        "# Fine-tuning Embeddings for RAG on Specific Data\n",
        "\n",
        "As we start our \"fine-tuning\" week, we'll start with the lowest hanging improvement one can do for RAG - which is:\n",
        "\n",
        "Fine-tuning embeddings!\n",
        "\n",
        "- 🤝 Breakout Room #1:\n",
        "  - Task 1: Dependencies and Boilerplate\n",
        "  - Task 2: Loading Data\n",
        "  - Task 3: Constructing a Fine-tuning Dataset\n",
        "  - Task 4: Fine-tuning `snowflake-arctic-embed-m`\n",
        "  - Task 5: Evaluating our Retriever\n",
        "\n"
      ]
    },
    {
      "cell_type": "markdown",
      "metadata": {
        "id": "-NkSaurzbpyS"
      },
      "source": [
        "## Task 1: Dependencies and Boilerplate\n",
        "\n",
        "We'll set up our `nest_asyncio` so we can leverage async loops in our Notebook.\n",
        "\n",
        "We'll also install the required libraries we'll be using today, and set up our OpenAI API key!"
      ]
    },
    {
      "cell_type": "markdown",
      "metadata": {
        "id": "9c_EUibmcDU3"
      },
      "source": [
        "### Nest Asyncio"
      ]
    },
    {
      "cell_type": "code",
      "execution_count": 1,
      "metadata": {
        "id": "zq-6s7LbPnKH"
      },
      "outputs": [],
      "source": [
        "import nest_asyncio\n",
        "\n",
        "nest_asyncio.apply()"
      ]
    },
    {
      "cell_type": "markdown",
      "metadata": {
        "id": "R8uFz8RVcFFu"
      },
      "source": [
        "### Install Dependencies\n",
        "\n",
        ">> NOTE: You do not need to do these steps if you are running this notebook locally with `uv`."
      ]
    },
    {
      "cell_type": "code",
      "execution_count": 5,
      "metadata": {
        "colab": {
          "base_uri": "https://localhost:8080/"
        },
        "id": "ulZIBA1ZoSsV",
        "outputId": "e5117968-a9cb-43e0-e210-ea06b1dfc540"
      },
      "outputs": [
        {
          "name": "stdout",
          "output_type": "stream",
          "text": [
            "\u001b[?25l   \u001b[90m━━━━━━━━━━━━━━━━━━━━━━━━━━━━━━━━━━━━━━━━\u001b[0m \u001b[32m0.0/54.9 kB\u001b[0m \u001b[31m?\u001b[0m eta \u001b[36m-:--:--\u001b[0m\r\u001b[2K   \u001b[90m━━━━━━━━━━━━━━━━━━━━━━━━━━━━━━━━━━━━━━━━\u001b[0m \u001b[32m54.9/54.9 kB\u001b[0m \u001b[31m4.4 MB/s\u001b[0m eta \u001b[36m0:00:00\u001b[0m\n",
            "\u001b[2K   \u001b[90m━━━━━━━━━━━━━━━━━━━━━━━━━━━━━━━━━━━━━━━━\u001b[0m \u001b[32m2.5/2.5 MB\u001b[0m \u001b[31m68.2 MB/s\u001b[0m eta \u001b[36m0:00:00\u001b[0m\n",
            "\u001b[2K   \u001b[90m━━━━━━━━━━━━━━━━━━━━━━━━━━━━━━━━━━━━━━━━\u001b[0m \u001b[32m1.2/1.2 MB\u001b[0m \u001b[31m53.8 MB/s\u001b[0m eta \u001b[36m0:00:00\u001b[0m\n",
            "\u001b[2K   \u001b[90m━━━━━━━━━━━━━━━━━━━━━━━━━━━━━━━━━━━━━━━━\u001b[0m \u001b[32m50.9/50.9 kB\u001b[0m \u001b[31m3.8 MB/s\u001b[0m eta \u001b[36m0:00:00\u001b[0m\n",
            "\u001b[2K   \u001b[90m━━━━━━━━━━━━━━━━━━━━━━━━━━━━━━━━━━━━━━━━\u001b[0m \u001b[32m363.4/363.4 MB\u001b[0m \u001b[31m4.4 MB/s\u001b[0m eta \u001b[36m0:00:00\u001b[0m\n",
            "\u001b[2K   \u001b[90m━━━━━━━━━━━━━━━━━━━━━━━━━━━━━━━━━━━━━━━━\u001b[0m \u001b[32m13.8/13.8 MB\u001b[0m \u001b[31m68.6 MB/s\u001b[0m eta \u001b[36m0:00:00\u001b[0m\n",
            "\u001b[2K   \u001b[90m━━━━━━━━━━━━━━━━━━━━━━━━━━━━━━━━━━━━━━━━\u001b[0m \u001b[32m24.6/24.6 MB\u001b[0m \u001b[31m47.8 MB/s\u001b[0m eta \u001b[36m0:00:00\u001b[0m\n",
            "\u001b[2K   \u001b[90m━━━━━━━━━━━━━━━━━━━━━━━━━━━━━━━━━━━━━━━━\u001b[0m \u001b[32m883.7/883.7 kB\u001b[0m \u001b[31m38.2 MB/s\u001b[0m eta \u001b[36m0:00:00\u001b[0m\n",
            "\u001b[2K   \u001b[90m━━━━━━━━━━━━━━━━━━━━━━━━━━━━━━━━━━━━━━━━\u001b[0m \u001b[32m664.8/664.8 MB\u001b[0m \u001b[31m2.9 MB/s\u001b[0m eta \u001b[36m0:00:00\u001b[0m\n",
            "\u001b[2K   \u001b[90m━━━━━━━━━━━━━━━━━━━━━━━━━━━━━━━━━━━━━━━━\u001b[0m \u001b[32m211.5/211.5 MB\u001b[0m \u001b[31m5.9 MB/s\u001b[0m eta \u001b[36m0:00:00\u001b[0m\n",
            "\u001b[2K   \u001b[90m━━━━━━━━━━━━━━━━━━━━━━━━━━━━━━━━━━━━━━━━\u001b[0m \u001b[32m56.3/56.3 MB\u001b[0m \u001b[31m12.0 MB/s\u001b[0m eta \u001b[36m0:00:00\u001b[0m\n",
            "\u001b[2K   \u001b[90m━━━━━━━━━━━━━━━━━━━━━━━━━━━━━━━━━━━━━━━━\u001b[0m \u001b[32m127.9/127.9 MB\u001b[0m \u001b[31m7.3 MB/s\u001b[0m eta \u001b[36m0:00:00\u001b[0m\n",
            "\u001b[2K   \u001b[90m━━━━━━━━━━━━━━━━━━━━━━━━━━━━━━━━━━━━━━━━\u001b[0m \u001b[32m207.5/207.5 MB\u001b[0m \u001b[31m6.3 MB/s\u001b[0m eta \u001b[36m0:00:00\u001b[0m\n",
            "\u001b[2K   \u001b[90m━━━━━━━━━━━━━━━━━━━━━━━━━━━━━━━━━━━━━━━━\u001b[0m \u001b[32m21.1/21.1 MB\u001b[0m \u001b[31m77.6 MB/s\u001b[0m eta \u001b[36m0:00:00\u001b[0m\n",
            "\u001b[?25h"
          ]
        }
      ],
      "source": [
        "#!pip install -qU langchain_openai langchain_huggingface langchain_core langchain langchain_community langchain-text-splitters"
      ]
    },
    {
      "cell_type": "code",
      "execution_count": 6,
      "metadata": {
        "colab": {
          "base_uri": "https://localhost:8080/"
        },
        "id": "3GFD7B-tOCrx",
        "outputId": "cb9ab36d-ca58-4c1c-9d52-75d4af1d1018"
      },
      "outputs": [
        {
          "name": "stdout",
          "output_type": "stream",
          "text": [
            "\u001b[2K   \u001b[90m━━━━━━━━━━━━━━━━━━━━━━━━━━━━━━━━━━━━━━━━\u001b[0m \u001b[32m472.8/472.8 kB\u001b[0m \u001b[31m13.8 MB/s\u001b[0m eta \u001b[36m0:00:00\u001b[0m\n",
            "\u001b[2K   \u001b[90m━━━━━━━━━━━━━━━━━━━━━━━━━━━━━━━━━━━━━━━━\u001b[0m \u001b[32m30.7/30.7 MB\u001b[0m \u001b[31m22.1 MB/s\u001b[0m eta \u001b[36m0:00:00\u001b[0m\n",
            "\u001b[2K   \u001b[90m━━━━━━━━━━━━━━━━━━━━━━━━━━━━━━━━━━━━━━━━\u001b[0m \u001b[32m20.0/20.0 MB\u001b[0m \u001b[31m18.1 MB/s\u001b[0m eta \u001b[36m0:00:00\u001b[0m\n",
            "\u001b[2K   \u001b[90m━━━━━━━━━━━━━━━━━━━━━━━━━━━━━━━━━━━━━━━━\u001b[0m \u001b[32m165.1/165.1 kB\u001b[0m \u001b[31m11.9 MB/s\u001b[0m eta \u001b[36m0:00:00\u001b[0m\n",
            "\u001b[?25h"
          ]
        }
      ],
      "source": [
        " #!pip install -qU faiss-cpu python-pptx==1.0.2 nltk==3.9.1 pymupdf beautifulsoup4 lxml"
      ]
    },
    {
      "cell_type": "markdown",
      "metadata": {
        "id": "0FM-eUlrcI8a"
      },
      "source": [
        "### Provide OpenAI API Key"
      ]
    },
    {
      "cell_type": "code",
      "execution_count": 2,
      "metadata": {
        "colab": {
          "base_uri": "https://localhost:8080/"
        },
        "id": "wA_mlurVqtrp",
        "outputId": "041f1089-ce93-4ba9-ac87-00dd6cac8f4c"
      },
      "outputs": [],
      "source": [
        "import os\n",
        "import getpass\n",
        "\n",
        "os.environ[\"OPENAI_API_KEY\"] = getpass.getpass(\"Enter Your OpenAI API Key: \")"
      ]
    },
    {
      "cell_type": "markdown",
      "metadata": {
        "id": "TFZ217gCDVTr"
      },
      "source": [
        "## Task 2: Loading Data\n"
      ]
    },
    {
      "cell_type": "code",
      "execution_count": 6,
      "metadata": {
        "colab": {
          "base_uri": "https://localhost:8080/"
        },
        "id": "2yrFxnTg9Y6d",
        "outputId": "a375e8c3-32ee-4e53-92cc-e2eec2b45c80"
      },
      "outputs": [],
      "source": [
        "#!pip install -qU pypdf\n",
        "# uv add pypdf"
      ]
    },
    {
      "cell_type": "code",
      "execution_count": 4,
      "metadata": {
        "id": "DHJhTzsvN75t"
      },
      "outputs": [],
      "source": [
        "from langchain_community.document_loaders import DirectoryLoader, PyPDFLoader\n",
        "\n",
        "path = \"pdf/\"\n",
        "text_loader = DirectoryLoader(path, loader_cls=PyPDFLoader)\n",
        "docs = text_loader.load()"
      ]
    },
    {
      "cell_type": "markdown",
      "metadata": {
        "id": "-UbKa6-V0nvp"
      },
      "source": [
        "Next, we'll set up a classic naive chunking strategy as we only care that the documents get parsed into chunks that we can generate synthetic questions about."
      ]
    },
    {
      "cell_type": "code",
      "execution_count": 5,
      "metadata": {
        "id": "NsPrOOqXOsNX"
      },
      "outputs": [],
      "source": [
        "from langchain_text_splitters import RecursiveCharacterTextSplitter\n",
        "\n",
        "text_splitter = RecursiveCharacterTextSplitter(\n",
        "    chunk_size = 500, #750\n",
        "    chunk_overlap  = 50, #20\n",
        "    length_function = len\n",
        ")"
      ]
    },
    {
      "cell_type": "markdown",
      "metadata": {
        "id": "lf_PoX7l09Rg"
      },
      "source": [
        "Next we can load/split these documents as follows.\n",
        "\n",
        ">> NOTE: You may need to run this cell twice to get it to work."
      ]
    },
    {
      "cell_type": "code",
      "execution_count": 6,
      "metadata": {
        "id": "OMYPX6N6Os8M"
      },
      "outputs": [],
      "source": [
        "training_documents = text_splitter.split_documents(text_loader.load())"
      ]
    },
    {
      "cell_type": "code",
      "execution_count": 7,
      "metadata": {
        "colab": {
          "base_uri": "https://localhost:8080/"
        },
        "id": "PAozuMoNOvnp",
        "outputId": "cdac902e-ff22-4d81-abc8-9f9b9bf8bad7"
      },
      "outputs": [
        {
          "data": {
            "text/plain": [
              "423"
            ]
          },
          "execution_count": 7,
          "metadata": {},
          "output_type": "execute_result"
        }
      ],
      "source": [
        "len(training_documents)"
      ]
    },
    {
      "cell_type": "markdown",
      "metadata": {
        "id": "0yE2TFIq1BuJ"
      },
      "source": [
        "Next, we're going to associate each of our chunks with a unique identifier."
      ]
    },
    {
      "cell_type": "code",
      "execution_count": 8,
      "metadata": {
        "id": "AwyIForybIpo"
      },
      "outputs": [],
      "source": [
        "import uuid\n",
        "\n",
        "id_set = set()\n",
        "\n",
        "for document in training_documents:\n",
        "  id = str(uuid.uuid4())\n",
        "  while id in id_set:\n",
        "    id = uuid.uuid4()\n",
        "  id_set.add(id)\n",
        "  document.metadata[\"id\"] = id"
      ]
    },
    {
      "cell_type": "markdown",
      "metadata": {
        "id": "PJnL4oNg341U"
      },
      "source": [
        "Next, we'll simply use naive Python slicing to create a training, test, and validation set to prepare our data for the next step."
      ]
    },
    {
      "cell_type": "code",
      "execution_count": 9,
      "metadata": {
        "id": "MTS4GTSEcnG4"
      },
      "outputs": [],
      "source": [
        "training_split_documents = training_documents[:len(training_documents) - 100]\n",
        "val_split_documents = training_documents[len(training_documents) - 100:423-50]\n",
        "test_split_documents = training_documents[423-50:]"
      ]
    },
    {
      "cell_type": "markdown",
      "metadata": {
        "id": "tzlvKbONDWvQ"
      },
      "source": [
        "## Task 3: Constructing a Fine-tuning Dataset\n",
        "\n",
        "Using the nodes we created above, we can finally start constructing a fine-tuning dataset utilizing OpenAI's `gpt-4o-mini` (released [today](https://openai.com/index/gpt-4o-mini-advancing-cost-efficient-intelligence/)).\n",
        "\n",
        "The basic idea here is straightforward enough:\n",
        "\n",
        "1. We look at a document\n",
        "2. We generate questions that could be answered by that node\n",
        "\n",
        "This gives us a number of question/context pairs that we can use to fine-tune our Embeddings model."
      ]
    },
    {
      "cell_type": "code",
      "execution_count": 10,
      "metadata": {
        "id": "_EWfmIscMrvg"
      },
      "outputs": [],
      "source": [
        "from langchain_openai import ChatOpenAI\n",
        "\n",
        "qa_chat_model = ChatOpenAI(\n",
        "    model=\"gpt-4o-mini\",\n",
        "    temperature=0\n",
        ")"
      ]
    },
    {
      "cell_type": "markdown",
      "metadata": {
        "id": "8-hLnsSB6Y-S"
      },
      "source": [
        "We'll create a simple Question Generation prompt to query `gpt-4o-mini` to generate Questions for each retrieved context."
      ]
    },
    {
      "cell_type": "code",
      "execution_count": 11,
      "metadata": {
        "id": "diEWcw00NMSj"
      },
      "outputs": [],
      "source": [
        "from langchain_core.prompts import ChatPromptTemplate\n",
        "\n",
        "qa_prompt = \"\"\"\\\n",
        "Given the following context, you must generate questions based on only the provided context.\n",
        "\n",
        "You are to generate {n_questions} questions which should be provided in the following format:\n",
        "\n",
        "1. QUESTION #1\n",
        "2. QUESTION #2\n",
        "...\n",
        "\n",
        "Context:\n",
        "{context}\n",
        "\"\"\"\n",
        "\n",
        "qa_prompt_template = ChatPromptTemplate.from_template(qa_prompt)"
      ]
    },
    {
      "cell_type": "markdown",
      "metadata": {
        "id": "u87Izpgm6_fk"
      },
      "source": [
        "We'll create a simple chain to query the LLM!"
      ]
    },
    {
      "cell_type": "code",
      "execution_count": 12,
      "metadata": {
        "id": "ggl9SSjiNbpG"
      },
      "outputs": [],
      "source": [
        "question_generation_chain = qa_prompt_template | qa_chat_model"
      ]
    },
    {
      "cell_type": "markdown",
      "metadata": {
        "id": "4duvHirh7DQv"
      },
      "source": [
        "There's a lot going on in this function - let's take a deeper look:\n",
        "\n",
        "1. First, we provide a list of documents and a number of questions\n",
        "2. We, for each document in our list, generate `n_questions` of questions.\n",
        "3. We then associate those questions and contexts via a `UUID`.\n",
        "\n",
        "> NOTE: The reason we're doing this `UUID` association is for ease of use later in the notebook."
      ]
    },
    {
      "cell_type": "code",
      "execution_count": 13,
      "metadata": {
        "id": "U4yi4NfTCnLc"
      },
      "outputs": [],
      "source": [
        "import tqdm\n",
        "def create_questions(documents, n_questions):\n",
        "  questions = {}\n",
        "  relevant_docs = {}\n",
        "  for document in tqdm.tqdm(documents):\n",
        "    document_content = {\"context\" : document.page_content, \"questions\" : []}\n",
        "    questions_generated = question_generation_chain.invoke({\"context\": document.page_content, \"n_questions\": n_questions})\n",
        "    for question in questions_generated.content.split(\"\\n\"):\n",
        "      question_id = str(uuid.uuid4())\n",
        "      questions[question_id] = \"\".join(question.split(\".\")[1:]).strip()\n",
        "      relevant_docs[question_id] = [document.metadata[\"id\"]]\n",
        "  return questions, relevant_docs"
      ]
    },
    {
      "cell_type": "code",
      "execution_count": 14,
      "metadata": {
        "colab": {
          "base_uri": "https://localhost:8080/"
        },
        "id": "85Dq6KRqEs0F",
        "outputId": "807cab05-6a98-4ecd-8131-e350dadf6d67"
      },
      "outputs": [
        {
          "name": "stderr",
          "output_type": "stream",
          "text": [
            "100%|██████████| 323/323 [05:09<00:00,  1.04it/s]\n"
          ]
        }
      ],
      "source": [
        "training_questions, training_relevant_contexts = create_questions(training_split_documents, 2)"
      ]
    },
    {
      "cell_type": "markdown",
      "metadata": {
        "id": "_FSTG0bb7w73"
      },
      "source": [
        "We'll use the function to generate training, validation, and test data."
      ]
    },
    {
      "cell_type": "code",
      "execution_count": 15,
      "metadata": {
        "colab": {
          "base_uri": "https://localhost:8080/"
        },
        "id": "eIZm4CqGVzBx",
        "outputId": "c2b31a6b-4845-4d96-9924-2ee14385fb43"
      },
      "outputs": [
        {
          "name": "stderr",
          "output_type": "stream",
          "text": [
            "100%|██████████| 50/50 [00:46<00:00,  1.08it/s]\n"
          ]
        }
      ],
      "source": [
        "val_questions, val_relevant_contexts = create_questions(val_split_documents, 2)"
      ]
    },
    {
      "cell_type": "code",
      "execution_count": 16,
      "metadata": {
        "colab": {
          "base_uri": "https://localhost:8080/"
        },
        "id": "o6qUHg9sV2_y",
        "outputId": "2f76f5e5-deaf-4ea4-d07c-9b7bdfa672f7"
      },
      "outputs": [
        {
          "name": "stderr",
          "output_type": "stream",
          "text": [
            "100%|██████████| 50/50 [00:46<00:00,  1.07it/s]\n"
          ]
        }
      ],
      "source": [
        "test_questions, test_relevant_contexts = create_questions(test_split_documents, 2)"
      ]
    },
    {
      "cell_type": "markdown",
      "metadata": {
        "id": "K_jYOnAI43zK"
      },
      "source": [
        "### Reformating and Saving Datasets\n",
        "\n",
        "Now, we can save our datasets for later use!"
      ]
    },
    {
      "cell_type": "code",
      "execution_count": 17,
      "metadata": {
        "id": "iF6IFFq9VsNu"
      },
      "outputs": [],
      "source": [
        "import json\n",
        "\n",
        "training_corpus = {train_item.metadata[\"id\"] : train_item.page_content for train_item in training_split_documents}\n",
        "\n",
        "train_dataset = {\n",
        "    \"questions\" : training_questions,\n",
        "    \"relevant_contexts\" : training_relevant_contexts,\n",
        "    \"corpus\" : training_corpus\n",
        "}\n",
        "\n",
        "with open(\"training_dataset.jsonl\", \"w\") as f:\n",
        "  json.dump(train_dataset, f)"
      ]
    },
    {
      "cell_type": "code",
      "execution_count": 18,
      "metadata": {
        "id": "PqF9WaueV-V8"
      },
      "outputs": [],
      "source": [
        "val_corpus = {val_item.metadata[\"id\"] : val_item.page_content for val_item in val_split_documents}\n",
        "\n",
        "val_dataset = {\n",
        "    \"questions\" : val_questions,\n",
        "    \"relevant_contexts\" : val_relevant_contexts,\n",
        "    \"corpus\" : val_corpus\n",
        "}\n",
        "\n",
        "with open(\"val_dataset.jsonl\", \"w\") as f:\n",
        "  json.dump(val_dataset, f)"
      ]
    },
    {
      "cell_type": "code",
      "execution_count": 19,
      "metadata": {
        "id": "0DSQ7WMnWAu6"
      },
      "outputs": [],
      "source": [
        "train_corpus = {test_item.metadata[\"id\"] : test_item.page_content for test_item in test_split_documents}\n",
        "\n",
        "test_dataset = {\n",
        "    \"questions\" : test_questions,\n",
        "    \"relevant_contexts\" : test_relevant_contexts,\n",
        "    \"corpus\" : train_corpus\n",
        "}\n",
        "\n",
        "with open(\"test_dataset.jsonl\", \"w\") as f:\n",
        "  json.dump(test_dataset, f)"
      ]
    },
    {
      "cell_type": "markdown",
      "metadata": {
        "id": "vAwklqQCgVi-"
      },
      "source": [
        "## Task 4: Fine-tuning `snowflake-arctic-embed-m`\n",
        "\n",
        "Now that we have a dataset, let's grab a `sentence-transformers` Embeddings model!\n",
        "\n",
        "We'll be using Snowflake's [`snowflake-arctic-embed-m`](https://huggingface.co/Snowflake/snowflake-arctic-embed-m) as a base embeddings model.\n"
      ]
    },
    {
      "cell_type": "code",
      "execution_count": 32,
      "metadata": {
        "colab": {
          "base_uri": "https://localhost:8080/"
        },
        "id": "AXzVHP3v1Cno",
        "outputId": "82e08815-d683-46dd-bde6-fdb707e8ba50"
      },
      "outputs": [
        {
          "name": "stdout",
          "output_type": "stream",
          "text": [
            "\u001b[2K   \u001b[90m━━━━━━━━━━━━━━━━━━━━━━━━━━━━━━━━━━━━━━━━\u001b[0m \u001b[32m485.4/485.4 kB\u001b[0m \u001b[31m9.4 MB/s\u001b[0m eta \u001b[36m0:00:00\u001b[0m\n",
            "\u001b[2K   \u001b[90m━━━━━━━━━━━━━━━━━━━━━━━━━━━━━━━━━━━━━━━━\u001b[0m \u001b[32m42.1/42.1 MB\u001b[0m \u001b[31m47.5 MB/s\u001b[0m eta \u001b[36m0:00:00\u001b[0m\n",
            "\u001b[2K   \u001b[90m━━━━━━━━━━━━━━━━━━━━━━━━━━━━━━━━━━━━━━━━\u001b[0m \u001b[32m116.3/116.3 kB\u001b[0m \u001b[31m13.4 MB/s\u001b[0m eta \u001b[36m0:00:00\u001b[0m\n",
            "\u001b[2K   \u001b[90m━━━━━━━━━━━━━━━━━━━━━━━━━━━━━━━━━━━━━━━━\u001b[0m \u001b[32m143.5/143.5 kB\u001b[0m \u001b[31m16.4 MB/s\u001b[0m eta \u001b[36m0:00:00\u001b[0m\n",
            "\u001b[2K   \u001b[90m━━━━━━━━━━━━━━━━━━━━━━━━━━━━━━━━━━━━━━━━\u001b[0m \u001b[32m194.8/194.8 kB\u001b[0m \u001b[31m22.6 MB/s\u001b[0m eta \u001b[36m0:00:00\u001b[0m\n",
            "\u001b[?25h\u001b[31mERROR: pip's dependency resolver does not currently take into account all the packages that are installed. This behaviour is the source of the following dependency conflicts.\n",
            "cudf-cu12 24.12.0 requires pyarrow<19.0.0a0,>=14.0.0; platform_machine == \"x86_64\", but you have pyarrow 19.0.1 which is incompatible.\n",
            "pylibcudf-cu12 24.12.0 requires pyarrow<19.0.0a0,>=14.0.0; platform_machine == \"x86_64\", but you have pyarrow 19.0.1 which is incompatible.\u001b[0m\u001b[31m\n",
            "\u001b[0m"
          ]
        }
      ],
      "source": [
        "#!pip install -qU sentence_transformers datasets pyarrow"
      ]
    },
    {
      "cell_type": "code",
      "execution_count": 20,
      "metadata": {
        "colab": {
          "base_uri": "https://localhost:8080/",
          "height": 497,
          "referenced_widgets": [
            "1655a55103e94ad0bfc0498250741066",
            "34dcb1d369764b019048cebf36e1656d",
            "9de672e609f3457dba20c77a2d93abdd",
            "5cc840f0e4434ee2bc83142874157549",
            "68f82b78e202481b99c34c19420be5fa",
            "8d2b8bb014ff4f93825f8f67a287a5bc",
            "71e2039d4d4c4ff184d2515afed1fdfa",
            "f34d3e578ea34409a30c1577d67c7e45",
            "709dd55505c74470bcf7c1fba6f080b8",
            "a20b9617f9904e78bc8821550f73a935",
            "df73b7031b3e410caa9cee2d62933c75",
            "f3feb3c8f9674f07aa2c1830ebe3cde1",
            "1b01a1f651cb4d28959f49db9d5cd408",
            "10c7f17409444f62a8951fed90f57fd4",
            "23bd56fc4ccd466e86b29facadb12276",
            "d38b6d0bd7a74d69aad8843318baa959",
            "ce8789ede65a4dda914329008d1b2a84",
            "67ec0f74310240599468e25ff09b19ff",
            "ff8359110c0049918b901f32f792190d",
            "419b0d40c7374e339ec3781e63df0555",
            "f101c34d6ad946d5acbe8636ad0a45a7",
            "4fa7dca2223049b7ab2812d19cfc9281",
            "a35139167d8d43ac81e3b100cae2b625",
            "875a59f48db94d00ad75f0c30ff17bb7",
            "5e8b7b776981475a987c67d37daadc20",
            "6f597bc720224636b2ff5bfe74768664",
            "7c17bdb2be6a4c39a7cb090ca9366b66",
            "13cc3ed31b9849ef8f6f58c969a15e67",
            "93abef830a104a28bd642751d8d34eec",
            "f1356f847a7745f59b29af4eb6178568",
            "2a03c5fb94284b0d831b936d94b36846",
            "49219e92ac37464a809a33c5e39b54a9",
            "3e7da8e08e9a433a8f2113f24ffd4bbb",
            "f169368ae002493da6a366455d0c0e96",
            "9cfeaad9218949d9b02324c7be04a83f",
            "e6d160242c034ccb8da3b76a3355724b",
            "b607cb650e5e43eda23b3711c000a80a",
            "8dc54114cca54a1a9824a95d4b916155",
            "e57466622ac54b659323126ab4254525",
            "ae3d964517624166af7fdc884027cd3b",
            "659b500fe4664187ad8e87a099439be6",
            "920d423903c34be6981aaf3d6deec5ad",
            "46dbdf2602fa43edb6f0f03257efaa9f",
            "0e3d30285b014a869dd0529fd6162e4a",
            "42167e8b09244d6782930a237742873e",
            "dd06aad60a7a4d9f8a710bf757cb624d",
            "71a4a25d8a904d0ea4d599212f783503",
            "4d0d2491dec14fc59b891c2f3d3c42d2",
            "78b74c58367847ce8d6d34070aee2bf8",
            "a9facca0cf994fd0bff2edebf727ad22",
            "a089f8c63fc245c4be170e781ccb7d6a",
            "54bdaea8fc93458d9263965def7148bc",
            "3f7258bb5e624fc18e98fdf17b966f2a",
            "ee6eed8f43054726aecf336d738187f5",
            "8508afc6115846cc83c455b9e5b253c4",
            "2e843329e95f4eaaa3e96589a956f53d",
            "7c1fde36867f4ea49f96bba43bd05777",
            "4f00fa29a14248df85e01d9329869fc1",
            "eca250f57c3245fbbc5d56fe7a78c523",
            "44347e0fe7aa44958b8f5087107621ef",
            "c04d8e73f72c43018c2a7ae463e431f7",
            "5c362449f3354fd3b12414671484d948",
            "cf62b0ab08d64f298a0857a494ecec37",
            "2c026676b01840ce9098cf93aa46996b",
            "2902bbd1ceb540d0a4105e16df55e18d",
            "e9e0888babc34a7ba111c39f0067dd52",
            "935ce84ee3db4d6e8ae7b068386b457e",
            "de925065883548a592653ba836a53951",
            "5f8c7fe767064f0faf0421f130413296",
            "bf5d1b7ab329407f8f040084ba860685",
            "ff07f88aa16c4efe8438070feb168632",
            "16c18ef111494d6b8bf3f9fb0a2a6d94",
            "7e22f5cae0f94fd8ba6bae73358a310e",
            "568c65f6139e4d3ea643e186eeafec67",
            "affcdc1b1d6b46b0860b3f4fe6f94b64",
            "1404a8ce72af4fcc8a84294056d429db",
            "5af2512d90cd4b1d9ec675e727896fe4",
            "40c33bc429a645fd82c709f6b6a06cdc",
            "d6bbc61935d54f8d9be0c6b760a38e74",
            "74e49a687feb4b8483c407b777accbf9",
            "1ddbf168e7064a7a8bbe480accf56c43",
            "4416a5cb124b4bf5b3b1288a5d5746ef",
            "be6799f5110b49bcb323d1bf04816221",
            "dd26b2c9ac61498496e1b595d03e41a6",
            "fef76a0b0fd44072bad942c83c345153",
            "531e290fcc794976af310366f4605638",
            "d418622501ef44cd8da0f41d70834a00",
            "f3cd61ed01824fe6a4dedce02aa50e64",
            "912ceda9cc954dfa83fe306c2f92c107",
            "656a8c6d12c54bbfa88db44c5a4aaf33",
            "249d24f6dc144544b810728f1e0b0840",
            "b3fb91a7e2c147219694ee9b8cab88d5",
            "5c3aca327cf14aba95d04c5b848cf55f",
            "1f2be2a285c84103af205e790df2a533",
            "3df9394e08b24f23962850a83d9a64de",
            "3ab3b7092be747b685ed2fceb117654c",
            "5be038cc37544ffe82710030df4e2cf2",
            "dffac345a09141ffbb08a4b24cc6856e",
            "8a8e30b4b36241378a0dc440330e2620",
            "1c74c9c8f8164e17a1c07075d437cbdf",
            "5e1f6738c7a14fc1a6dfd2e86099f0e0",
            "c0c72ba6a48e4ca3b4b733fa6268e2d2",
            "abaa4da896b745cc80bba83c8769586b",
            "a8efcc37d85247a79cdf9e673eb7fe2c",
            "076dee8bd57640e0ba4ebd877c236682",
            "3187c9eafb534a9b97a60c784813b6f9",
            "9291631a2d224b24aa3b978d160d32a1",
            "c7845d06b2c14e4d88f3daa99cea84b0",
            "617342fb630f4bff820018ab5f0627e5",
            "c18364d9bce84ac7a87c3651430e5af5",
            "0b971cda6c65404b9327784fae02d36e",
            "0ea872faa6d04104b10a9543c74ef2ef",
            "24142b2108344c5f81466afcb16c3369",
            "dd05b801441f4dbc9065857e31b7c13f",
            "aa526f59610541b3b3507fd5b6563721",
            "0e91ed233c5f41eaaee70cfcd9b9f3a1",
            "5f533fea888d4365b813f0e45a4b48a0",
            "4a7e2b13414e4615953f9520c80438c3",
            "a39fd03e47dc49bd97e7f83082bb1d2f",
            "f357720f00fd4c248e12007227e57e8e",
            "1f227a06b3b147dcac32a24e13d3f731"
          ]
        },
        "id": "G-PGsQB7Xo6V",
        "outputId": "548e6c81-eae1-457b-fe92-633e00a978fe"
      },
      "outputs": [],
      "source": [
        "from sentence_transformers import SentenceTransformer\n",
        "\n",
        "model_id = \"Snowflake/snowflake-arctic-embed-m\"\n",
        "model = SentenceTransformer(model_id)"
      ]
    },
    {
      "cell_type": "markdown",
      "metadata": {
        "id": "4ztG07iB8CFO"
      },
      "source": [
        "We'll grab some necessary imports from `sentence_transformers` and `torch`.\n",
        "\n",
        "> NOTE: PyTorch (`torch`) is a popular machine learning library - while we don't go very deep into PyTorch it's an incredibly powerful and interesting library! Please read more about it [here](https://pytorch.org/tutorials/beginner/basics/intro.html)!"
      ]
    },
    {
      "cell_type": "code",
      "execution_count": 21,
      "metadata": {
        "id": "B-WbpuUWYFJr"
      },
      "outputs": [],
      "source": [
        "from torch.utils.data import DataLoader\n",
        "from torch.utils.data import Dataset\n",
        "from sentence_transformers import InputExample"
      ]
    },
    {
      "cell_type": "markdown",
      "metadata": {
        "id": "AJtPPlck8HBE"
      },
      "source": [
        "We're using a toy batch size here to reflect the limited number of examples we have.\n",
        "\n",
        "> NOTE: It is typical to use a much larger batch size (~64+), hardware permitting."
      ]
    },
    {
      "cell_type": "code",
      "execution_count": 22,
      "metadata": {
        "id": "8Lokhy6KYHAv"
      },
      "outputs": [],
      "source": [
        "BATCH_SIZE = 10"
      ]
    },
    {
      "cell_type": "markdown",
      "metadata": {
        "id": "b-6DT8hc8PmT"
      },
      "source": [
        "Let's move our dataset into the expected format for training."
      ]
    },
    {
      "cell_type": "code",
      "execution_count": 23,
      "metadata": {
        "id": "JJk37zQsYJ4P"
      },
      "outputs": [],
      "source": [
        "corpus = train_dataset['corpus']\n",
        "queries = train_dataset['questions']\n",
        "relevant_docs = train_dataset['relevant_contexts']\n",
        "\n",
        "examples = []\n",
        "for query_id, query in queries.items():\n",
        "    doc_id = relevant_docs[query_id][0]\n",
        "    text = corpus[doc_id]\n",
        "    example = InputExample(texts=[query, text])\n",
        "    examples.append(example)"
      ]
    },
    {
      "cell_type": "markdown",
      "metadata": {
        "id": "OjFx7KHI8TL0"
      },
      "source": [
        "Now we can create a `torch` `DataLoader`!"
      ]
    },
    {
      "cell_type": "code",
      "execution_count": 24,
      "metadata": {
        "id": "tiizmeIqZ_-w"
      },
      "outputs": [],
      "source": [
        "loader = DataLoader(\n",
        "    examples, batch_size=BATCH_SIZE\n",
        ")"
      ]
    },
    {
      "cell_type": "markdown",
      "metadata": {
        "id": "_vA8rzlX8XbT"
      },
      "source": [
        "Next up, we'll prepare our loss function!\n",
        "\n",
        "Loss is an important part of training, fine-tuning, and more. If you want a deep dive on loss - you can check out our [event on loss!](https://www.youtube.com/watch?v=iB8FWR9aD5Q&t=8s).\n",
        "\n",
        "The core loss we're using today is called `MultipleNegativesRankingLoss` - you can find more information [here](https://github.com/UKPLab/sentence-transformers/blob/master/sentence_transformers/losses/MultipleNegativesRankingLoss.py).\n",
        "\n",
        "This is \"wrapped\" in `MatryoshkaLoss`, which you can read the implementation of [here](https://github.com/UKPLab/sentence-transformers/blob/master/sentence_transformers/losses/MatryoshkaLoss.py)."
      ]
    },
    {
      "cell_type": "code",
      "execution_count": 25,
      "metadata": {
        "id": "Uga4nnBqlVeh"
      },
      "outputs": [],
      "source": [
        "from sentence_transformers.losses import MatryoshkaLoss, MultipleNegativesRankingLoss\n",
        "\n",
        "matryoshka_dimensions = [768, 512, 256, 128, 64]\n",
        "inner_train_loss = MultipleNegativesRankingLoss(model)\n",
        "train_loss = MatryoshkaLoss(\n",
        "    model, inner_train_loss, matryoshka_dims=matryoshka_dimensions\n",
        ")"
      ]
    },
    {
      "cell_type": "markdown",
      "metadata": {
        "id": "QKxRuXfH844c"
      },
      "source": [
        "Now we can set-up our evaluator.\n",
        "\n",
        "> NOTE: Due to the formatting of our dataset - this is all we have to do!"
      ]
    },
    {
      "cell_type": "code",
      "execution_count": 26,
      "metadata": {
        "id": "f0hAFwUyaHQG"
      },
      "outputs": [],
      "source": [
        "from sentence_transformers.evaluation import InformationRetrievalEvaluator\n",
        "\n",
        "corpus = val_dataset['corpus']\n",
        "queries = val_dataset['questions']\n",
        "relevant_docs = val_dataset['relevant_contexts']\n",
        "\n",
        "evaluator = InformationRetrievalEvaluator(queries, corpus, relevant_docs)"
      ]
    },
    {
      "cell_type": "code",
      "execution_count": 27,
      "metadata": {
        "colab": {
          "base_uri": "https://localhost:8080/"
        },
        "id": "2aFl8Jo9FLgB",
        "outputId": "73d51ef1-37e8-450f-aa9a-eec3a0614b59"
      },
      "outputs": [
        {
          "name": "stdout",
          "output_type": "stream",
          "text": [
            "100\n"
          ]
        }
      ],
      "source": [
        "print(len(val_dataset['questions']))  # Check the number of validation questions"
      ]
    },
    {
      "cell_type": "markdown",
      "metadata": {
        "id": "MYfap_ct8-bU"
      },
      "source": [
        "We'll train this model for 5 epochs, though you could increase this number if we had a significant amount more data."
      ]
    },
    {
      "cell_type": "code",
      "execution_count": 28,
      "metadata": {
        "id": "svZG0pBHiQr6"
      },
      "outputs": [],
      "source": [
        "EPOCHS = 10"
      ]
    },
    {
      "cell_type": "markdown",
      "metadata": {
        "id": "wxitWoNX9DwW"
      },
      "source": [
        "It's training time!\n",
        "\n",
        "> NOTE: We're manually defining a warm-up period here - this is just to provide a smooth ramp into our training!"
      ]
    },
    {
      "cell_type": "code",
      "execution_count": 29,
      "metadata": {
        "colab": {
          "base_uri": "https://localhost:8080/",
          "height": 37
        },
        "id": "TPhJOJr_WbUA",
        "outputId": "6b696201-c76b-4e36-e4c2-cefbbe4400a5"
      },
      "outputs": [
        {
          "data": {
            "text/html": [
              "<button onClick=\"this.nextSibling.style.display='block';this.style.display='none';\">Display W&B run</button><iframe src='https://wandb.ai/dummy/dummy/runs/w82bvrpa?jupyter=true' style='border:none;width:100%;height:420px;display:none;'></iframe>"
            ],
            "text/plain": [
              "<wandb.sdk.wandb_run.Run at 0x7bf993e70050>"
            ]
          },
          "execution_count": 29,
          "metadata": {},
          "output_type": "execute_result"
        }
      ],
      "source": [
        "import wandb\n",
        "wandb.init(mode=\"disabled\")"
      ]
    },
    {
      "cell_type": "code",
      "execution_count": 30,
      "metadata": {
        "colab": {
          "base_uri": "https://localhost:8080/",
          "height": 865
        },
        "id": "aDhUHZY-iR09",
        "outputId": "e5b4ce92-3d78-41e5-ab52-bb7cd0ed9964"
      },
      "outputs": [
        {
          "data": {
            "application/vnd.jupyter.widget-view+json": {
              "model_id": "42f6b9c2177c4cccb22591b7ad615191",
              "version_major": 2,
              "version_minor": 0
            },
            "text/plain": [
              "Computing widget examples:   0%|          | 0/1 [00:00<?, ?example/s]"
            ]
          },
          "metadata": {},
          "output_type": "display_data"
        },
        {
          "name": "stderr",
          "output_type": "stream",
          "text": [
            "\u001b[34m\u001b[1mwandb\u001b[0m: \u001b[33mWARNING\u001b[0m The `run_name` is currently set to the same value as `TrainingArguments.output_dir`. If this was not intended, please specify a different run name by setting the `TrainingArguments.run_name` parameter.\n"
          ]
        },
        {
          "data": {
            "text/html": [
              "\n",
              "    <div>\n",
              "      \n",
              "      <progress value='650' max='650' style='width:300px; height:20px; vertical-align: middle;'></progress>\n",
              "      [650/650 00:59, Epoch 10/10]\n",
              "    </div>\n",
              "    <table border=\"1\" class=\"dataframe\">\n",
              "  <thead>\n",
              " <tr style=\"text-align: left;\">\n",
              "      <th>Step</th>\n",
              "      <th>Training Loss</th>\n",
              "      <th>Validation Loss</th>\n",
              "      <th>Cosine Accuracy@1</th>\n",
              "      <th>Cosine Accuracy@3</th>\n",
              "      <th>Cosine Accuracy@5</th>\n",
              "      <th>Cosine Accuracy@10</th>\n",
              "      <th>Cosine Precision@1</th>\n",
              "      <th>Cosine Precision@3</th>\n",
              "      <th>Cosine Precision@5</th>\n",
              "      <th>Cosine Precision@10</th>\n",
              "      <th>Cosine Recall@1</th>\n",
              "      <th>Cosine Recall@3</th>\n",
              "      <th>Cosine Recall@5</th>\n",
              "      <th>Cosine Recall@10</th>\n",
              "      <th>Cosine Ndcg@10</th>\n",
              "      <th>Cosine Mrr@10</th>\n",
              "      <th>Cosine Map@100</th>\n",
              "    </tr>\n",
              "  </thead>\n",
              "  <tbody>\n",
              "    <tr>\n",
              "      <td>50</td>\n",
              "      <td>No log</td>\n",
              "      <td>No log</td>\n",
              "      <td>0.780000</td>\n",
              "      <td>0.940000</td>\n",
              "      <td>0.970000</td>\n",
              "      <td>1.000000</td>\n",
              "      <td>0.780000</td>\n",
              "      <td>0.313333</td>\n",
              "      <td>0.194000</td>\n",
              "      <td>0.100000</td>\n",
              "      <td>0.780000</td>\n",
              "      <td>0.940000</td>\n",
              "      <td>0.970000</td>\n",
              "      <td>1.000000</td>\n",
              "      <td>0.895919</td>\n",
              "      <td>0.861706</td>\n",
              "      <td>0.861706</td>\n",
              "    </tr>\n",
              "    <tr>\n",
              "      <td>65</td>\n",
              "      <td>No log</td>\n",
              "      <td>No log</td>\n",
              "      <td>0.780000</td>\n",
              "      <td>0.930000</td>\n",
              "      <td>0.960000</td>\n",
              "      <td>0.990000</td>\n",
              "      <td>0.780000</td>\n",
              "      <td>0.310000</td>\n",
              "      <td>0.192000</td>\n",
              "      <td>0.099000</td>\n",
              "      <td>0.780000</td>\n",
              "      <td>0.930000</td>\n",
              "      <td>0.960000</td>\n",
              "      <td>0.990000</td>\n",
              "      <td>0.893194</td>\n",
              "      <td>0.861286</td>\n",
              "      <td>0.862195</td>\n",
              "    </tr>\n",
              "    <tr>\n",
              "      <td>100</td>\n",
              "      <td>No log</td>\n",
              "      <td>No log</td>\n",
              "      <td>0.730000</td>\n",
              "      <td>0.940000</td>\n",
              "      <td>0.980000</td>\n",
              "      <td>1.000000</td>\n",
              "      <td>0.730000</td>\n",
              "      <td>0.313333</td>\n",
              "      <td>0.196000</td>\n",
              "      <td>0.100000</td>\n",
              "      <td>0.730000</td>\n",
              "      <td>0.940000</td>\n",
              "      <td>0.980000</td>\n",
              "      <td>1.000000</td>\n",
              "      <td>0.878552</td>\n",
              "      <td>0.837833</td>\n",
              "      <td>0.837833</td>\n",
              "    </tr>\n",
              "    <tr>\n",
              "      <td>130</td>\n",
              "      <td>No log</td>\n",
              "      <td>No log</td>\n",
              "      <td>0.780000</td>\n",
              "      <td>0.960000</td>\n",
              "      <td>0.990000</td>\n",
              "      <td>0.990000</td>\n",
              "      <td>0.780000</td>\n",
              "      <td>0.320000</td>\n",
              "      <td>0.198000</td>\n",
              "      <td>0.099000</td>\n",
              "      <td>0.780000</td>\n",
              "      <td>0.960000</td>\n",
              "      <td>0.990000</td>\n",
              "      <td>0.990000</td>\n",
              "      <td>0.899065</td>\n",
              "      <td>0.868167</td>\n",
              "      <td>0.869076</td>\n",
              "    </tr>\n",
              "    <tr>\n",
              "      <td>150</td>\n",
              "      <td>No log</td>\n",
              "      <td>No log</td>\n",
              "      <td>0.810000</td>\n",
              "      <td>0.960000</td>\n",
              "      <td>0.990000</td>\n",
              "      <td>0.990000</td>\n",
              "      <td>0.810000</td>\n",
              "      <td>0.320000</td>\n",
              "      <td>0.198000</td>\n",
              "      <td>0.099000</td>\n",
              "      <td>0.810000</td>\n",
              "      <td>0.960000</td>\n",
              "      <td>0.990000</td>\n",
              "      <td>0.990000</td>\n",
              "      <td>0.910137</td>\n",
              "      <td>0.883167</td>\n",
              "      <td>0.884000</td>\n",
              "    </tr>\n",
              "    <tr>\n",
              "      <td>195</td>\n",
              "      <td>No log</td>\n",
              "      <td>No log</td>\n",
              "      <td>0.770000</td>\n",
              "      <td>0.960000</td>\n",
              "      <td>0.970000</td>\n",
              "      <td>1.000000</td>\n",
              "      <td>0.770000</td>\n",
              "      <td>0.320000</td>\n",
              "      <td>0.194000</td>\n",
              "      <td>0.100000</td>\n",
              "      <td>0.770000</td>\n",
              "      <td>0.960000</td>\n",
              "      <td>0.970000</td>\n",
              "      <td>1.000000</td>\n",
              "      <td>0.894626</td>\n",
              "      <td>0.859750</td>\n",
              "      <td>0.859750</td>\n",
              "    </tr>\n",
              "    <tr>\n",
              "      <td>200</td>\n",
              "      <td>No log</td>\n",
              "      <td>No log</td>\n",
              "      <td>0.780000</td>\n",
              "      <td>0.960000</td>\n",
              "      <td>0.980000</td>\n",
              "      <td>1.000000</td>\n",
              "      <td>0.780000</td>\n",
              "      <td>0.320000</td>\n",
              "      <td>0.196000</td>\n",
              "      <td>0.100000</td>\n",
              "      <td>0.780000</td>\n",
              "      <td>0.960000</td>\n",
              "      <td>0.980000</td>\n",
              "      <td>1.000000</td>\n",
              "      <td>0.898185</td>\n",
              "      <td>0.864583</td>\n",
              "      <td>0.864583</td>\n",
              "    </tr>\n",
              "    <tr>\n",
              "      <td>250</td>\n",
              "      <td>No log</td>\n",
              "      <td>No log</td>\n",
              "      <td>0.790000</td>\n",
              "      <td>0.960000</td>\n",
              "      <td>0.980000</td>\n",
              "      <td>1.000000</td>\n",
              "      <td>0.790000</td>\n",
              "      <td>0.320000</td>\n",
              "      <td>0.196000</td>\n",
              "      <td>0.100000</td>\n",
              "      <td>0.790000</td>\n",
              "      <td>0.960000</td>\n",
              "      <td>0.980000</td>\n",
              "      <td>1.000000</td>\n",
              "      <td>0.905375</td>\n",
              "      <td>0.873845</td>\n",
              "      <td>0.873845</td>\n",
              "    </tr>\n",
              "    <tr>\n",
              "      <td>260</td>\n",
              "      <td>No log</td>\n",
              "      <td>No log</td>\n",
              "      <td>0.800000</td>\n",
              "      <td>0.960000</td>\n",
              "      <td>0.980000</td>\n",
              "      <td>1.000000</td>\n",
              "      <td>0.800000</td>\n",
              "      <td>0.320000</td>\n",
              "      <td>0.196000</td>\n",
              "      <td>0.100000</td>\n",
              "      <td>0.800000</td>\n",
              "      <td>0.960000</td>\n",
              "      <td>0.980000</td>\n",
              "      <td>1.000000</td>\n",
              "      <td>0.908627</td>\n",
              "      <td>0.878345</td>\n",
              "      <td>0.878345</td>\n",
              "    </tr>\n",
              "    <tr>\n",
              "      <td>300</td>\n",
              "      <td>No log</td>\n",
              "      <td>No log</td>\n",
              "      <td>0.780000</td>\n",
              "      <td>0.960000</td>\n",
              "      <td>0.980000</td>\n",
              "      <td>1.000000</td>\n",
              "      <td>0.780000</td>\n",
              "      <td>0.320000</td>\n",
              "      <td>0.196000</td>\n",
              "      <td>0.100000</td>\n",
              "      <td>0.780000</td>\n",
              "      <td>0.960000</td>\n",
              "      <td>0.980000</td>\n",
              "      <td>1.000000</td>\n",
              "      <td>0.901863</td>\n",
              "      <td>0.869024</td>\n",
              "      <td>0.869024</td>\n",
              "    </tr>\n",
              "    <tr>\n",
              "      <td>325</td>\n",
              "      <td>No log</td>\n",
              "      <td>No log</td>\n",
              "      <td>0.780000</td>\n",
              "      <td>0.960000</td>\n",
              "      <td>0.980000</td>\n",
              "      <td>1.000000</td>\n",
              "      <td>0.780000</td>\n",
              "      <td>0.320000</td>\n",
              "      <td>0.196000</td>\n",
              "      <td>0.100000</td>\n",
              "      <td>0.780000</td>\n",
              "      <td>0.960000</td>\n",
              "      <td>0.980000</td>\n",
              "      <td>1.000000</td>\n",
              "      <td>0.900554</td>\n",
              "      <td>0.867357</td>\n",
              "      <td>0.867357</td>\n",
              "    </tr>\n",
              "    <tr>\n",
              "      <td>350</td>\n",
              "      <td>No log</td>\n",
              "      <td>No log</td>\n",
              "      <td>0.800000</td>\n",
              "      <td>0.960000</td>\n",
              "      <td>0.980000</td>\n",
              "      <td>1.000000</td>\n",
              "      <td>0.800000</td>\n",
              "      <td>0.320000</td>\n",
              "      <td>0.196000</td>\n",
              "      <td>0.100000</td>\n",
              "      <td>0.800000</td>\n",
              "      <td>0.960000</td>\n",
              "      <td>0.980000</td>\n",
              "      <td>1.000000</td>\n",
              "      <td>0.907725</td>\n",
              "      <td>0.877095</td>\n",
              "      <td>0.877095</td>\n",
              "    </tr>\n",
              "    <tr>\n",
              "      <td>390</td>\n",
              "      <td>No log</td>\n",
              "      <td>No log</td>\n",
              "      <td>0.790000</td>\n",
              "      <td>0.960000</td>\n",
              "      <td>0.960000</td>\n",
              "      <td>1.000000</td>\n",
              "      <td>0.790000</td>\n",
              "      <td>0.320000</td>\n",
              "      <td>0.192000</td>\n",
              "      <td>0.100000</td>\n",
              "      <td>0.790000</td>\n",
              "      <td>0.960000</td>\n",
              "      <td>0.960000</td>\n",
              "      <td>1.000000</td>\n",
              "      <td>0.905369</td>\n",
              "      <td>0.874095</td>\n",
              "      <td>0.874095</td>\n",
              "    </tr>\n",
              "    <tr>\n",
              "      <td>400</td>\n",
              "      <td>No log</td>\n",
              "      <td>No log</td>\n",
              "      <td>0.790000</td>\n",
              "      <td>0.960000</td>\n",
              "      <td>0.970000</td>\n",
              "      <td>1.000000</td>\n",
              "      <td>0.790000</td>\n",
              "      <td>0.320000</td>\n",
              "      <td>0.194000</td>\n",
              "      <td>0.100000</td>\n",
              "      <td>0.790000</td>\n",
              "      <td>0.960000</td>\n",
              "      <td>0.970000</td>\n",
              "      <td>1.000000</td>\n",
              "      <td>0.905675</td>\n",
              "      <td>0.874429</td>\n",
              "      <td>0.874429</td>\n",
              "    </tr>\n",
              "    <tr>\n",
              "      <td>450</td>\n",
              "      <td>No log</td>\n",
              "      <td>No log</td>\n",
              "      <td>0.770000</td>\n",
              "      <td>0.960000</td>\n",
              "      <td>0.970000</td>\n",
              "      <td>0.990000</td>\n",
              "      <td>0.770000</td>\n",
              "      <td>0.320000</td>\n",
              "      <td>0.194000</td>\n",
              "      <td>0.099000</td>\n",
              "      <td>0.770000</td>\n",
              "      <td>0.960000</td>\n",
              "      <td>0.970000</td>\n",
              "      <td>0.990000</td>\n",
              "      <td>0.894323</td>\n",
              "      <td>0.862000</td>\n",
              "      <td>0.862833</td>\n",
              "    </tr>\n",
              "    <tr>\n",
              "      <td>455</td>\n",
              "      <td>No log</td>\n",
              "      <td>No log</td>\n",
              "      <td>0.770000</td>\n",
              "      <td>0.960000</td>\n",
              "      <td>0.970000</td>\n",
              "      <td>0.990000</td>\n",
              "      <td>0.770000</td>\n",
              "      <td>0.320000</td>\n",
              "      <td>0.194000</td>\n",
              "      <td>0.099000</td>\n",
              "      <td>0.770000</td>\n",
              "      <td>0.960000</td>\n",
              "      <td>0.970000</td>\n",
              "      <td>0.990000</td>\n",
              "      <td>0.894323</td>\n",
              "      <td>0.862000</td>\n",
              "      <td>0.862833</td>\n",
              "    </tr>\n",
              "    <tr>\n",
              "      <td>500</td>\n",
              "      <td>0.696900</td>\n",
              "      <td>No log</td>\n",
              "      <td>0.770000</td>\n",
              "      <td>0.960000</td>\n",
              "      <td>0.970000</td>\n",
              "      <td>0.990000</td>\n",
              "      <td>0.770000</td>\n",
              "      <td>0.320000</td>\n",
              "      <td>0.194000</td>\n",
              "      <td>0.099000</td>\n",
              "      <td>0.770000</td>\n",
              "      <td>0.960000</td>\n",
              "      <td>0.970000</td>\n",
              "      <td>0.990000</td>\n",
              "      <td>0.894323</td>\n",
              "      <td>0.862000</td>\n",
              "      <td>0.862769</td>\n",
              "    </tr>\n",
              "    <tr>\n",
              "      <td>520</td>\n",
              "      <td>0.696900</td>\n",
              "      <td>No log</td>\n",
              "      <td>0.770000</td>\n",
              "      <td>0.960000</td>\n",
              "      <td>0.970000</td>\n",
              "      <td>0.990000</td>\n",
              "      <td>0.770000</td>\n",
              "      <td>0.320000</td>\n",
              "      <td>0.194000</td>\n",
              "      <td>0.099000</td>\n",
              "      <td>0.770000</td>\n",
              "      <td>0.960000</td>\n",
              "      <td>0.970000</td>\n",
              "      <td>0.990000</td>\n",
              "      <td>0.895632</td>\n",
              "      <td>0.863667</td>\n",
              "      <td>0.864436</td>\n",
              "    </tr>\n",
              "    <tr>\n",
              "      <td>550</td>\n",
              "      <td>0.696900</td>\n",
              "      <td>No log</td>\n",
              "      <td>0.750000</td>\n",
              "      <td>0.960000</td>\n",
              "      <td>0.960000</td>\n",
              "      <td>0.990000</td>\n",
              "      <td>0.750000</td>\n",
              "      <td>0.320000</td>\n",
              "      <td>0.192000</td>\n",
              "      <td>0.099000</td>\n",
              "      <td>0.750000</td>\n",
              "      <td>0.960000</td>\n",
              "      <td>0.960000</td>\n",
              "      <td>0.990000</td>\n",
              "      <td>0.886406</td>\n",
              "      <td>0.851429</td>\n",
              "      <td>0.852198</td>\n",
              "    </tr>\n",
              "    <tr>\n",
              "      <td>585</td>\n",
              "      <td>0.696900</td>\n",
              "      <td>No log</td>\n",
              "      <td>0.750000</td>\n",
              "      <td>0.960000</td>\n",
              "      <td>0.960000</td>\n",
              "      <td>0.990000</td>\n",
              "      <td>0.750000</td>\n",
              "      <td>0.320000</td>\n",
              "      <td>0.192000</td>\n",
              "      <td>0.099000</td>\n",
              "      <td>0.750000</td>\n",
              "      <td>0.960000</td>\n",
              "      <td>0.960000</td>\n",
              "      <td>0.990000</td>\n",
              "      <td>0.885097</td>\n",
              "      <td>0.849762</td>\n",
              "      <td>0.850531</td>\n",
              "    </tr>\n",
              "    <tr>\n",
              "      <td>600</td>\n",
              "      <td>0.696900</td>\n",
              "      <td>No log</td>\n",
              "      <td>0.750000</td>\n",
              "      <td>0.960000</td>\n",
              "      <td>0.960000</td>\n",
              "      <td>0.990000</td>\n",
              "      <td>0.750000</td>\n",
              "      <td>0.320000</td>\n",
              "      <td>0.192000</td>\n",
              "      <td>0.099000</td>\n",
              "      <td>0.750000</td>\n",
              "      <td>0.960000</td>\n",
              "      <td>0.960000</td>\n",
              "      <td>0.990000</td>\n",
              "      <td>0.885097</td>\n",
              "      <td>0.849762</td>\n",
              "      <td>0.850531</td>\n",
              "    </tr>\n",
              "    <tr>\n",
              "      <td>650</td>\n",
              "      <td>0.696900</td>\n",
              "      <td>No log</td>\n",
              "      <td>0.750000</td>\n",
              "      <td>0.960000</td>\n",
              "      <td>0.960000</td>\n",
              "      <td>0.990000</td>\n",
              "      <td>0.750000</td>\n",
              "      <td>0.320000</td>\n",
              "      <td>0.192000</td>\n",
              "      <td>0.099000</td>\n",
              "      <td>0.750000</td>\n",
              "      <td>0.960000</td>\n",
              "      <td>0.960000</td>\n",
              "      <td>0.990000</td>\n",
              "      <td>0.885097</td>\n",
              "      <td>0.849762</td>\n",
              "      <td>0.850531</td>\n",
              "    </tr>\n",
              "  </tbody>\n",
              "</table><p>"
            ],
            "text/plain": [
              "<IPython.core.display.HTML object>"
            ]
          },
          "metadata": {},
          "output_type": "display_data"
        }
      ],
      "source": [
        "warmup_steps = int(len(loader) * EPOCHS * 0.1)\n",
        "\n",
        "model.fit(\n",
        "    train_objectives=[(loader, train_loss)],\n",
        "    epochs=EPOCHS,\n",
        "    warmup_steps=warmup_steps,\n",
        "    output_path='finetuned_arctic_ft',\n",
        "    show_progress_bar=True,\n",
        "    evaluator=evaluator,\n",
        "    evaluation_steps=50\n",
        ")"
      ]
    },
    {
      "cell_type": "code",
      "execution_count": 31,
      "metadata": {
        "colab": {
          "base_uri": "https://localhost:8080/",
          "height": 17,
          "referenced_widgets": [
            "900fd340b34d46f8ba0ea3f528ce3257",
            "43849952bbde46d293e8cc0647b0da02",
            "9782e81927fe4cfd9c206e403fc6b85e",
            "84394bf19641481e8e96587d87c96e33",
            "e3f0694a50cc47c8958260023fe482a3",
            "23bdeaf7e51e4fbea8db7153111da336",
            "b4758b2f0cd5449aa7ee78d4d5f659d4",
            "4c1a3b0fd8a047ce8975fa06d32d30f4",
            "0947a14af719443bb73e68bf233327ec",
            "6921c4c27ef64fd9a8e53a9e88b100b3",
            "72cd988965014ab5a986cd00af5a1e74",
            "f97cfcba3950415ea704cae28cfb50ae",
            "94112625a2c84f8599de606629cb1bba",
            "e58d3c00b0384423833840402abaebff",
            "fe0ca84cc0de4afebec6ae6935bcc5ef",
            "d1d3aab646ea4f9a81da2b8bcce98518",
            "2859b49b4a62458aaf944e2293079805",
            "002060dffb3d4f3b9f657a7864519480",
            "9881fb0cc87b45a79fb2573587ffd3d7",
            "e7617978d309498295f8c7fb71eeda1b"
          ]
        },
        "id": "b3iwclvyRD8L",
        "outputId": "ab6a6d7d-87ca-47a9-ddea-893116fc2e1f"
      },
      "outputs": [
        {
          "data": {
            "application/vnd.jupyter.widget-view+json": {
              "model_id": "655c1fc5a85b49d68379c01125a7ce90",
              "version_major": 2,
              "version_minor": 0
            },
            "text/plain": [
              "VBox(children=(HTML(value='<center> <img\\nsrc=https://huggingface.co/front/assets/huggingface_logo-noborder.sv…"
            ]
          },
          "metadata": {},
          "output_type": "display_data"
        }
      ],
      "source": [
        "from huggingface_hub import notebook_login\n",
        "\n",
        "notebook_login()"
      ]
    },
    {
      "cell_type": "code",
      "execution_count": 32,
      "metadata": {
        "id": "_pn-Y6yjRoHk"
      },
      "outputs": [],
      "source": [
        "hf_username = \"philipk22\""
      ]
    },
    {
      "cell_type": "code",
      "execution_count": 59,
      "metadata": {
        "colab": {
          "base_uri": "https://localhost:8080/",
          "height": 68,
          "referenced_widgets": [
            "6e53c6ae1ce34c94b86c40f62fcafc86",
            "7ae06641831e4265bd0b496b44deef10",
            "fc86c78651ff4241804332164d8e9610",
            "a04ed3a298ce42ee97d85d2ca2b6d61c",
            "45f5121d9dfc4cdd8f9df4ac32e2fa9d",
            "5d843199a5ed4cd19ad04c1f03692993",
            "87a5a78dd4624779831f009ba6a5ef3c",
            "c9e18d8701604d5dbc88e8ed6fbfde5e",
            "1920130c5f5e4749bdbeb450e8d0e2af",
            "7ba37eb30a8b489d8793075fe6ad3a9b",
            "6055fa03b7ba4304be9008d185cf3456"
          ]
        },
        "id": "Nqhf3zWa9AiJ",
        "outputId": "4d79969d-6dac-4099-d8d3-cb8aa467f877"
      },
      "outputs": [
        {
          "data": {
            "application/vnd.jupyter.widget-view+json": {
              "model_id": "6e53c6ae1ce34c94b86c40f62fcafc86",
              "version_major": 2,
              "version_minor": 0
            },
            "text/plain": [
              "model.safetensors:   0%|          | 0.00/436M [00:00<?, ?B/s]"
            ]
          },
          "metadata": {},
          "output_type": "display_data"
        },
        {
          "data": {
            "application/vnd.google.colaboratory.intrinsic+json": {
              "type": "string"
            },
            "text/plain": [
              "'https://huggingface.co/philipk22/ind312-ft-v0/commit/9aa76ca50a2e32d8d5be1f1c112962151bebbc67'"
            ]
          },
          "execution_count": 59,
          "metadata": {},
          "output_type": "execute_result"
        }
      ],
      "source": [
        "model.push_to_hub(f\"{hf_username}/ind312-ft-v0\")"
      ]
    },
    {
      "cell_type": "markdown",
      "metadata": {
        "id": "6bo0zW5k9Poq"
      },
      "source": [
        "## Task 5: Evaluating our Retriever\n",
        "\n",
        "Now that we have fine-tuned our retriever - let's see if it's worthwhile!\n",
        "\n",
        "We'll start with some basic imports."
      ]
    },
    {
      "cell_type": "code",
      "execution_count": 33,
      "metadata": {
        "id": "Vq-2oqU0wHFr"
      },
      "outputs": [],
      "source": [
        "import pandas as pd\n",
        "\n",
        "from langchain_community.vectorstores import FAISS\n",
        "from langchain_openai.embeddings import OpenAIEmbeddings\n",
        "from langchain_core.documents import Document"
      ]
    },
    {
      "cell_type": "markdown",
      "metadata": {
        "id": "5jD0qrIh9X8f"
      },
      "source": [
        "Now we'll define a function that will help us evaluate our retrieval process.\n",
        "\n",
        "> NOTE: We're assuming 1 correct document in a \"hit\"."
      ]
    },
    {
      "cell_type": "code",
      "execution_count": 34,
      "metadata": {
        "id": "0713_3cowX4q"
      },
      "outputs": [],
      "source": [
        "def evaluate_openai(\n",
        "    dataset,\n",
        "    embed_model,\n",
        "    top_k=5,\n",
        "    verbose=False,\n",
        "):\n",
        "  corpus = dataset['corpus']\n",
        "  questions = dataset['questions']\n",
        "  relevant_docs = dataset['relevant_contexts']\n",
        "  documents = [Document(page_content=content, metadata={\"id\": doc_id}) for doc_id, content in corpus.items()]\n",
        "  vectorstore = FAISS.from_documents(documents, embed_model)\n",
        "\n",
        "  retriever = vectorstore.as_retriever(search_kwargs={\"k\": top_k})\n",
        "\n",
        "  eval_results = []\n",
        "  for id, question in tqdm.tqdm(questions.items()):\n",
        "    retrieved_nodes = retriever.invoke(question)\n",
        "    retrieved_ids = [node.metadata[\"id\"] for node in retrieved_nodes]\n",
        "    expected_id = relevant_docs[id][0]\n",
        "    is_hit = expected_id in retrieved_ids\n",
        "    eval_results.append({\"id\": id, \"question\": question, \"expected_id\": expected_id, \"is_hit\": is_hit})\n",
        "\n",
        "  return eval_results"
      ]
    },
    {
      "cell_type": "markdown",
      "metadata": {
        "id": "hOr49m4O9lxY"
      },
      "source": [
        "All that's left to do is evaluate, we'll evaluate our model against:\n",
        "\n",
        "1. OpenAI's closed source `text-embedding-3-small`\n",
        "2. The base non-fine-tuned version of `Snowflake/snowflake-arctic-embed-l`.\n",
        "\n",
        "Let's see how it stacks up!"
      ]
    },
    {
      "cell_type": "markdown",
      "metadata": {
        "id": "ijaeYpf593IW"
      },
      "source": [
        "### `text-embedding-3-small`"
      ]
    },
    {
      "cell_type": "code",
      "execution_count": 64,
      "metadata": {
        "colab": {
          "base_uri": "https://localhost:8080/"
        },
        "id": "kyY3PztaxnU3",
        "outputId": "3c1506d2-a5ba-4844-c6b8-813a21658591"
      },
      "outputs": [
        {
          "name": "stderr",
          "output_type": "stream",
          "text": [
            "100%|██████████| 100/100 [00:38<00:00,  2.58it/s]\n"
          ]
        }
      ],
      "source": [
        "te3_openai = OpenAIEmbeddings(model=\"text-embedding-3-small\")\n",
        "te3_results = evaluate_openai(test_dataset, te3_openai)"
      ]
    },
    {
      "cell_type": "code",
      "execution_count": 65,
      "metadata": {
        "id": "kkyW90TCxx_i"
      },
      "outputs": [],
      "source": [
        "te3_results_df = pd.DataFrame(te3_results)"
      ]
    },
    {
      "cell_type": "code",
      "execution_count": 66,
      "metadata": {
        "colab": {
          "base_uri": "https://localhost:8080/"
        },
        "id": "MscVRdNCylJ-",
        "outputId": "0b2b848d-3728-4911-f7db-6abc4af77241"
      },
      "outputs": [
        {
          "data": {
            "text/plain": [
              "0.95"
            ]
          },
          "execution_count": 66,
          "metadata": {},
          "output_type": "execute_result"
        }
      ],
      "source": [
        "te3_hit_rate = te3_results_df[\"is_hit\"].mean()\n",
        "te3_hit_rate"
      ]
    },
    {
      "cell_type": "markdown",
      "metadata": {
        "id": "4Ra-mh0L96dQ"
      },
      "source": [
        "### `Snowflake/snowflake-arctic-embed-m` (base)"
      ]
    },
    {
      "cell_type": "code",
      "execution_count": 35,
      "metadata": {
        "colab": {
          "base_uri": "https://localhost:8080/"
        },
        "id": "OEskxwvFypHe",
        "outputId": "827729e2-0547-43bf-e069-3b9c689e2e1b"
      },
      "outputs": [
        {
          "name": "stderr",
          "output_type": "stream",
          "text": [
            "100%|██████████| 100/100 [00:00<00:00, 165.75it/s]\n"
          ]
        }
      ],
      "source": [
        "from langchain_huggingface import HuggingFaceEmbeddings\n",
        "\n",
        "huggingface_embeddings = HuggingFaceEmbeddings(model_name=\"Snowflake/snowflake-arctic-embed-m\")\n",
        "arctic_embed_m_results = evaluate_openai(test_dataset, huggingface_embeddings)"
      ]
    },
    {
      "cell_type": "code",
      "execution_count": 36,
      "metadata": {
        "id": "KlKgiXTWzMTg"
      },
      "outputs": [],
      "source": [
        "arctic_embed_m_results_df = pd.DataFrame(arctic_embed_m_results)"
      ]
    },
    {
      "cell_type": "code",
      "execution_count": 37,
      "metadata": {
        "colab": {
          "base_uri": "https://localhost:8080/"
        },
        "id": "zV5vJWrJzOhc",
        "outputId": "10bc5ec8-c9f1-457c-aece-c80c53ceeec4"
      },
      "outputs": [
        {
          "data": {
            "text/plain": [
              "np.float64(0.68)"
            ]
          },
          "execution_count": 37,
          "metadata": {},
          "output_type": "execute_result"
        }
      ],
      "source": [
        "arctic_embed_m_hit_rate = arctic_embed_m_results_df[\"is_hit\"].mean()\n",
        "arctic_embed_m_hit_rate"
      ]
    },
    {
      "cell_type": "markdown",
      "metadata": {
        "id": "lcR3-0s19_lu"
      },
      "source": [
        "### `Snowflake/snowflake-arctic-embed-m` (fine-tuned)"
      ]
    },
    {
      "cell_type": "code",
      "execution_count": 38,
      "metadata": {
        "colab": {
          "base_uri": "https://localhost:8080/",
          "height": 443,
          "referenced_widgets": [
            "db2f4b0c42874f1ca0eea8c5c0a1d725",
            "1b5d24617ca144fcba67455461035154",
            "8b7981f361e743ef846873c7df86d777",
            "57d593c00b0c47fb9d81b07029678321",
            "eaa0248da7e24c34a3d0d943ec7c2cf8",
            "bb0790eb270b4695b031cdf23bc7cee3",
            "2a53bedaf229479c8511d3f4292a579a",
            "4460d35ddf3d499ca10edcd426bf26ff",
            "e4b19820fb294a37a8c9773e2eaf7fdf",
            "94530e4b22ff47cd91a4797ae9c60460",
            "8cb2079c4f6c489c931221ba0cebdd88",
            "1cac3b360ca94d95ac2de2e3a4b37fc3",
            "e129c532d59d41c0a27195b00962c296",
            "648af8444b30461087e2239a83c297fb",
            "be521e6ea9774583ab426e523233f2e0",
            "2c0553c157954d9aa92c4fadd649cb81",
            "f35d9e897d6643a38a2c75d6b6cdce93",
            "6fa9ea5da997461f8c7b7804125d1c08",
            "b5245965c9834ed2912aac8f8616606f",
            "ffef451b6fdf4528b19199be3f75eae6",
            "446ca0caa09e4f0ead40ff24575fef0a",
            "f0a63ba4ebe348e58ac12dc82750dd9e",
            "22605bbddef34ab3bdb64ec6dace6971",
            "fbf96c9d8dc543709922558f3752a9ce",
            "04343f7cf4d743838a214d7ca246f682",
            "fe872dbc630246558c1c034116bb926e",
            "5bb123972bd9446bb08f8970223f9d0b",
            "f0b41286b8d446f9a6e10b5e4ccefcb3",
            "11079df63b7f413aac79ed1980db93ae",
            "f0c80884b9434e1fb64e65b967255973",
            "c13aed82b75a487fb700f7c91e7712a4",
            "fdcbba178a764e329a5861b65e532bbb",
            "a11050b936ec4fc9be5e8a9c3a95930c",
            "168169efb2f849678cb21de3bfdc16e5",
            "dab22b04a6a8449a9ac05566c78e6b44",
            "f51663d308c548a28fa39dc491c35dd1",
            "6f0a9edd4f5f40178264232f194a572a",
            "f2ba5f3de0204a72bc1b4c80081e3e38",
            "1620184b6ffb419b89bc39f644491753",
            "b136ba3b8b8e4d63bbf98fe18d56f315",
            "a1f28ea941464ad78a814a70ff22fcde",
            "133e211fb7dc44f381e774219d5e2ae9",
            "096ea017944e43bfb5c322a8e60f9ab0",
            "63f881ea94b849d2abb4989c5f9b8e95",
            "109280d27de14aabbb4bbb51207ecf29",
            "2717213ccd0c488f8643485310c9c77a",
            "5cf8d529374246559203849d85af346f",
            "0d59be4677ff4c3c970cb93084cf4c01",
            "ed5b70da998042a9973dcc0fa41333c0",
            "ba99637f06dc4c04bdf6a1c8a89c5a15",
            "1a0c994ca9124762af92b16bbd0d8b13",
            "9a31dff2b5c243d9b76e2f0e25b2cfbb",
            "d72470657e2a47caa55ad9b95e8c750e",
            "7f2be2692b90480993c555a44427aabe",
            "17ad4968cdf34c82a1c5018a79a90dd4",
            "0d9d7bab897a4923b6e5c1d4966478b6",
            "8b6c73e99bf84514a54e0f4da530064d",
            "003824d83eb04801966d4401a9f8b096",
            "c6fd0b8f6bdc468b94040343ae7d5e6f",
            "91c675794b364e4eb51dda6f89659124",
            "ce80d7f4fbad4122a1a7ca2d844e516b",
            "47e1a4a620f34382a85a7f4f4b96b770",
            "33a79982611b40708a4788180bc74dda",
            "876c7f6e0d3a4790993ca8c5b228e460",
            "10c4fd35ae42457ba3af555d72fb89fa",
            "e89b4fe913db4724926c0652a0e6dede",
            "2bd101bab8df4892b6029565202c58bd",
            "9c98b181d3624f99be53543379197afe",
            "aad9dcec47b74a15b1757e4f7d53aec6",
            "f52fad5fa56e4f97bc100214d5690373",
            "df985ae8607348b7b885457e7a8d50ee",
            "40d27bc87aaf4d71ae1e5a248be52d2d",
            "325d5fd3c189439f90c99ac16e0899c4",
            "d5ca25f77d4b4190bbbd92c8ace28865",
            "394b5400ced544ecb392cb56b234fe97",
            "425a86a0444b412c9118186c9f88a1e0",
            "2f9941881afe4567ae4c1ae7fbda6f6c",
            "9b6917c97d8d4d0f9ebb1cffb7673dc0",
            "68e402a9ed3744689af45a8880bc1143",
            "58551f07d2024eb6bb50573e86009821",
            "1072910d00194d198fa6629f5e978e0a",
            "f39fefd124d54aeda05f777c1b9864f1",
            "7a5a437c97dd454bad24bb2bcfd280a4",
            "d4f84f46b2fe4ca98e180be19b657a1d",
            "b6d8f667ba4841228026f43907a9351d",
            "7a0ad1647bc24a278653e06c59d0c993",
            "2cd5706fcfee48039f8bb1aae4378a7c",
            "aa17ce44938d49bea33009aa9a643ec8",
            "400963efc2dc493dba85a22a97de96c9",
            "663124181d16464490c2940a751f27a7",
            "64fc9b6299524a9cbd10a46bc1c09d6f",
            "cca527a740ee4dd196da57c2aaddbb94",
            "622ac9a43bf84240bc2557bad0d46701",
            "ea3fb969680648b693511bb9d24c494d",
            "cc8f8883127746ae99d116d77d4c9439",
            "1f96b9897718451e850746a6fcf83496",
            "b1b16af7f91b406c9067d7240b1e469d",
            "e4dc0339dfdc421f9c8a376a29e5632c",
            "4bd9c525b0f546d89f882f6b0c5a9e78",
            "0944f91acb41469a9b8130efc1ccc12b",
            "40256ad9cbdd47a587ce1b3c73101de1",
            "1bb7ee2119fc471fa66fee113755e13f",
            "c6288c3cddb841759bd8e30c00da57e7",
            "184d73f9cd134cafb96f1943bf5f48a4",
            "d162312de98449768065795a2cf62bf4",
            "9ff50b46dce14bb9b335a2d87ad3b43f",
            "0ad8ec58cf644d72a9e6cf2707db1514",
            "0d77613d4a20449d9e1eee5b5f755979",
            "aec7a6465a3b46ed97715b6d648bbed2",
            "95beb04a0cdb415baea4890790345582",
            "6706423d57c64ba282c715a89e05fbca",
            "01dd733c63844550bda847ad27bea2ca",
            "1a291cd2235142de9a410a5cd64f62f6",
            "7c2114944a2e4267afe219270df6d9c9",
            "1d4ba91bc5ce45ea848721c156bf436d",
            "fe80e57b98eb49198f783154328031c7",
            "053efb33ac55436d9ed6043a6942c8d9",
            "c99a74788be14c8aadcc2b0b46808566",
            "096d2eb974764bb2929b1bb493eb960d",
            "43ce2dcb74f6487690dc7b232434fbe0",
            "208b5f222e4444b3913042c0747fdea3"
          ]
        },
        "id": "Ilse1LduzP1i",
        "outputId": "fad7ad66-0368-44b6-c192-2d18b1bfa408"
      },
      "outputs": [
        {
          "name": "stderr",
          "output_type": "stream",
          "text": [
            "Some weights of BertModel were not initialized from the model checkpoint at philipk22/ind312-ft-v0 and are newly initialized: ['pooler.dense.bias', 'pooler.dense.weight']\n",
            "You should probably TRAIN this model on a down-stream task to be able to use it for predictions and inference.\n",
            "100%|██████████| 100/100 [00:00<00:00, 162.52it/s]\n"
          ]
        }
      ],
      "source": [
        "finetune_embeddings = HuggingFaceEmbeddings(model_name=\"philipk22/ind312-ft-v0\")\n",
        "finetune_results = evaluate_openai(test_dataset, finetune_embeddings)"
      ]
    },
    {
      "cell_type": "code",
      "execution_count": 39,
      "metadata": {
        "id": "xxhZPqkNzZlh"
      },
      "outputs": [],
      "source": [
        "finetune_results_df = pd.DataFrame(finetune_results)"
      ]
    },
    {
      "cell_type": "code",
      "execution_count": 40,
      "metadata": {
        "colab": {
          "base_uri": "https://localhost:8080/"
        },
        "id": "4thAK2BXzaj6",
        "outputId": "084e1c2c-9dd6-4978-d054-65dda8b48f77"
      },
      "outputs": [
        {
          "data": {
            "text/plain": [
              "np.float64(0.99)"
            ]
          },
          "execution_count": 40,
          "metadata": {},
          "output_type": "execute_result"
        }
      ],
      "source": [
        "finetune_hit_rate = finetune_results_df[\"is_hit\"].mean()\n",
        "finetune_hit_rate"
      ]
    },
    {
      "cell_type": "markdown",
      "metadata": {
        "id": "iegFM209mBk3"
      },
      "source": [
        "## Task 1: Vibe Checking the RAG Pipeline\n",
        "\n",
        "We're going to use our RAG pipeline to vibe check on some common phrases now that we've modified it!"
      ]
    },
    {
      "cell_type": "markdown",
      "metadata": {
        "id": "Xzg0AA5krgR4"
      },
      "source": [
        "### Creating New Chunks\n",
        "\n",
        "In order to try and evaluate our system more fairly, let's create new chunks that we will use to create our Vector Store."
      ]
    },
    {
      "cell_type": "code",
      "execution_count": 41,
      "metadata": {
        "colab": {
          "base_uri": "https://localhost:8080/",
          "height": 218
        },
        "id": "KwQ2_LqNr0Tw",
        "outputId": "46ad341e-4a2e-4af2-d09c-6ab459f86e70"
      },
      "outputs": [],
      "source": [
        "text_splitter = RecursiveCharacterTextSplitter(\n",
        "    chunk_size = 500, # 600\n",
        "    chunk_overlap  = 50,\n",
        "    length_function = len\n",
        ")\n",
        "\n",
        "training_documents = text_splitter.split_documents(text_loader.load())"
      ]
    },
    {
      "cell_type": "markdown",
      "metadata": {
        "id": "gIdxahHXpP-c"
      },
      "source": [
        "### Base Chain\n",
        "\n",
        "We'll start by constructing our base chain, which will use the untrained retrieval model."
      ]
    },
    {
      "cell_type": "markdown",
      "metadata": {
        "id": "bOsxIXpNpWC2"
      },
      "source": [
        "#### R - Retrieval"
      ]
    },
    {
      "cell_type": "code",
      "execution_count": 48,
      "metadata": {
        "colab": {
          "base_uri": "https://localhost:8080/",
          "height": 380
        },
        "id": "azIGIKYfmNCT",
        "outputId": "d88fc50d-8381-47b4-c4f0-9816927a9f56"
      },
      "outputs": [],
      "source": [
        "#from langchain_community.vectorstores import FAISS\n",
        "\n",
        "#base_vectorstore = FAISS.from_documents(training_documents, huggingface_embeddings)\n",
        "#base_retriever = base_vectorstore.as_retriever(search_kwargs={\"k\": 6})"
      ]
    },
    {
      "cell_type": "code",
      "execution_count": 83,
      "metadata": {},
      "outputs": [
        {
          "name": "stderr",
          "output_type": "stream",
          "text": [
            "/tmp/ipykernel_1425419/4089610438.py:3: LangChainDeprecationWarning: The class `HuggingFaceBgeEmbeddings` was deprecated in LangChain 0.2.2 and will be removed in 1.0. An updated version of the class exists in the :class:`~langchain-huggingface package and should be used instead. To use it run `pip install -U :class:`~langchain-huggingface` and import as `from :class:`~langchain_huggingface import HuggingFaceEmbeddings``.\n",
            "  embedding_model = HuggingFaceBgeEmbeddings(\n"
          ]
        }
      ],
      "source": [
        "from langchain_community.embeddings import HuggingFaceBgeEmbeddings\n",
        "\n",
        "embedding_model = HuggingFaceBgeEmbeddings(\n",
        "        model_name=\"BAAI/bge-base-en-v1.5\",\n",
        "        encode_kwargs={'normalize_embeddings': True}\n",
        "    )"
      ]
    },
    {
      "cell_type": "code",
      "execution_count": 98,
      "metadata": {},
      "outputs": [],
      "source": [
        "from langchain_qdrant import QdrantVectorStore\n",
        "from qdrant_client import QdrantClient\n",
        "from qdrant_client.http.models import Distance, VectorParams\n",
        "\n",
        "client = QdrantClient(\":memory:\")\n",
        "\n",
        "client.create_collection(\n",
        "    collection_name=\"ind-1536\",\n",
        "    vectors_config=VectorParams(size=768, distance=Distance.COSINE)\n",
        ")\n",
        "\n",
        "base_vector_store = QdrantVectorStore(\n",
        "    client=client,\n",
        "    collection_name=\"ind-1536\",\n",
        " #   embedding=huggingface_embeddings\n",
        "    embedding=embedding_model\n",
        ")\n"
      ]
    },
    {
      "cell_type": "code",
      "execution_count": 99,
      "metadata": {},
      "outputs": [],
      "source": [
        "_ = base_vector_store.add_documents(documents=training_documents)"
      ]
    },
    {
      "cell_type": "code",
      "execution_count": 100,
      "metadata": {},
      "outputs": [],
      "source": [
        "base_retriever = base_vector_store.as_retriever(search_kwargs={\"k\": 6})"
      ]
    },
    {
      "cell_type": "markdown",
      "metadata": {
        "id": "l-1nVZ0KpX5N"
      },
      "source": [
        "#### A - Augmented"
      ]
    },
    {
      "cell_type": "code",
      "execution_count": 49,
      "metadata": {
        "id": "G10Fr-aKojeA"
      },
      "outputs": [],
      "source": [
        "from langchain_core.prompts import ChatPromptTemplate\n",
        "\n",
        "RAG_PROMPT = \"\"\"\\\n",
        "Given a provided context and a question, you must answer the question. If you do not know the answer, you must state that you do not know.\n",
        "\n",
        "Context:\n",
        "{context}\n",
        "\n",
        "Question:\n",
        "{question}\n",
        "\n",
        "Answer:\n",
        "\"\"\"\n",
        "\n",
        "rag_prompt_template = ChatPromptTemplate.from_template(RAG_PROMPT)"
      ]
    },
    {
      "cell_type": "markdown",
      "metadata": {
        "id": "Euq6RQEopZvD"
      },
      "source": [
        "#### G - Generation"
      ]
    },
    {
      "cell_type": "code",
      "execution_count": 50,
      "metadata": {
        "id": "5-mfbbrypMHG"
      },
      "outputs": [],
      "source": [
        "rag_llm =  ChatOpenAI(\n",
        "    model=\"gpt-4o-mini\",\n",
        "    temperature=0\n",
        ")"
      ]
    },
    {
      "cell_type": "markdown",
      "metadata": {
        "id": "wQ2p4mnUpbYY"
      },
      "source": [
        "#### RAG - LCEL RAG Pipeline"
      ]
    },
    {
      "cell_type": "code",
      "execution_count": 101,
      "metadata": {
        "colab": {
          "base_uri": "https://localhost:8080/",
          "height": 218
        },
        "id": "ssuR-LaboyGq",
        "outputId": "e7274228-c9e6-4add-e14e-d15c29d70608"
      },
      "outputs": [],
      "source": [
        "from operator import itemgetter\n",
        "from langchain_core.output_parsers import StrOutputParser\n",
        "from langchain_core.runnables import RunnablePassthrough, RunnableParallel\n",
        "\n",
        "base_rag_chain = (\n",
        "    {\"context\": itemgetter(\"question\") | base_retriever, \"question\": itemgetter(\"question\")}\n",
        "    | RunnablePassthrough.assign(context=itemgetter(\"context\"))\n",
        "    | {\"response\": rag_prompt_template | rag_llm | StrOutputParser(), \"context\": itemgetter(\"context\")}\n",
        ")"
      ]
    },
    {
      "cell_type": "code",
      "execution_count": 102,
      "metadata": {
        "colab": {
          "base_uri": "https://localhost:8080/",
          "height": 124
        },
        "id": "emm6WbB9pfKt",
        "outputId": "7804ebfc-dcc2-420d-f931-437efcd02fec"
      },
      "outputs": [
        {
          "data": {
            "text/plain": [
              "'The context does not provide specific details about the types of studies required before submitting an IND (Investigational New Drug Application). Therefore, I do not know the answer.'"
            ]
          },
          "execution_count": 102,
          "metadata": {},
          "output_type": "execute_result"
        }
      ],
      "source": [
        "base_rag_chain.invoke({\"question\" : \"What type of studies are required before submitting an IND?\"})[\"response\"]"
      ]
    },
    {
      "cell_type": "code",
      "execution_count": 103,
      "metadata": {
        "colab": {
          "base_uri": "https://localhost:8080/",
          "height": 71
        },
        "id": "mUOrd0OBprAq",
        "outputId": "f6eb3b4e-d25e-454b-d248-a9519b8f0d38"
      },
      "outputs": [
        {
          "data": {
            "text/plain": [
              "'If the FDA places a clinical hold on an IND application, it issues an order to the sponsor to delay a proposed clinical investigation or to suspend an ongoing investigation. This means that subjects may not be given the investigational drug in a proposed study, and no new subjects may be enrolled in an ongoing study. The sponsor cannot proceed with the clinical trial until the hold has been lifted by the FDA.'"
            ]
          },
          "execution_count": 103,
          "metadata": {},
          "output_type": "execute_result"
        }
      ],
      "source": [
        "base_rag_chain.invoke({\"question\" : \"What happen if the FDA places a clinical hold on an IND application?\"})[\"response\"]"
      ]
    },
    {
      "cell_type": "code",
      "execution_count": 104,
      "metadata": {
        "colab": {
          "base_uri": "https://localhost:8080/",
          "height": 35
        },
        "id": "OnfuFl59py7I",
        "outputId": "700a6424-89d2-4850-f6d3-f70a5c1a59c7"
      },
      "outputs": [
        {
          "data": {
            "text/plain": [
              "'The submission for drug substance information should include a description of the drug substance, detailing its physical, chemical, or biological characteristics, the name and address of its manufacturer, the general method of preparation, acceptable limits, and analytical methods used to assure its identity, strength, quality, and purity. Additionally, it should encompass information on pharmacology, drug disposition, toxicology, and any risks anticipated based on toxicological data. The emphasis in an initial Phase 1 submission should be on the identification and control of raw materials and the new drug substance, with final specifications expected at the end of the investigational process.'"
            ]
          },
          "execution_count": 104,
          "metadata": {},
          "output_type": "execute_result"
        }
      ],
      "source": [
        "base_rag_chain.invoke({\"question\" : \"what about Compile Drug Substance Information?\"})[\"response\"]"
      ]
    },
    {
      "cell_type": "code",
      "execution_count": 105,
      "metadata": {
        "colab": {
          "base_uri": "https://localhost:8080/",
          "height": 35
        },
        "id": "-NmqwHBDqTZ8",
        "outputId": "d9ef3583-2c06-427e-d064-5afc1578abd8"
      },
      "outputs": [
        {
          "data": {
            "text/plain": [
              "\"An 'inactive IND' refers to an investigational new drug application that has been placed on inactive status by the FDA. This can occur if the IND has remained inactive for 5 years or more, or if the FDA determines that the sponsor has failed to comply with certain requirements. While an inactive IND is still in effect for purposes of public disclosure of data and information, the sponsor is not required to submit annual reports during this inactive status. If the sponsor intends to resume clinical investigations under an inactive IND, they must submit a protocol amendment containing the proposed general investigational plan.\""
            ]
          },
          "execution_count": 105,
          "metadata": {},
          "output_type": "execute_result"
        }
      ],
      "source": [
        "base_rag_chain.invoke({\"question\" : \"What is the meaning of 'inactive IND' in section 312.45?\"})[\"response\"]"
      ]
    },
    {
      "cell_type": "code",
      "execution_count": 106,
      "metadata": {},
      "outputs": [
        {
          "data": {
            "text/plain": [
              "'I do not know.'"
            ]
          },
          "execution_count": 106,
          "metadata": {},
          "output_type": "execute_result"
        }
      ],
      "source": [
        "base_rag_chain.invoke({\"question\" : \"Under section 312.56, what are the situations in which the FDA may suspend an IND?\"})[\"response\"]"
      ]
    },
    {
      "cell_type": "markdown",
      "metadata": {
        "id": "SqNS0UJAp3lC"
      },
      "source": [
        "### Fine-tuned Embedding Model\n",
        "\n",
        "Now let's rebuild our RAG chain with the Fine-tuned model - the only component we need to change is our `FAISS` vectorstore!"
      ]
    },
    {
      "cell_type": "code",
      "execution_count": 57,
      "metadata": {
        "id": "ihO7tP6mqATy"
      },
      "outputs": [],
      "source": [
        "#finetune_vectorstore = FAISS.from_documents(training_documents, finetune_embeddings)\n",
        "#finetune_retriever = finetune_vectorstore.as_retriever(search_kwargs={\"k\": 6})"
      ]
    },
    {
      "cell_type": "code",
      "execution_count": 117,
      "metadata": {},
      "outputs": [],
      "source": [
        "from langchain_qdrant import QdrantVectorStore\n",
        "from qdrant_client import QdrantClient\n",
        "from qdrant_client.http.models import Distance, VectorParams\n",
        "\n",
        "client = QdrantClient(\":memory:\")\n",
        "\n",
        "client.create_collection(\n",
        "    collection_name=\"ind-1536\",\n",
        "    vectors_config=VectorParams(size=768, distance=Distance.COSINE)\n",
        ")\n",
        "\n",
        "finetuned_vector_store = QdrantVectorStore(\n",
        "    client=client,\n",
        "    collection_name=\"ind-1536\",\n",
        "#    embedding=huggingface_embeddings\n",
        "    embedding=finetune_embeddings\n",
        ")"
      ]
    },
    {
      "cell_type": "code",
      "execution_count": 118,
      "metadata": {},
      "outputs": [],
      "source": [
        "_ = finetuned_vector_store.add_documents(documents=training_documents)"
      ]
    },
    {
      "cell_type": "code",
      "execution_count": 119,
      "metadata": {},
      "outputs": [],
      "source": [
        "finetune_retriever = finetuned_vector_store.as_retriever(search_kwargs={\"k\": 6})"
      ]
    },
    {
      "cell_type": "code",
      "execution_count": 120,
      "metadata": {
        "id": "1_cIFvWzqKGY"
      },
      "outputs": [],
      "source": [
        "finetune_rag_chain = (\n",
        "    {\"context\": itemgetter(\"question\") | finetune_retriever, \"question\": itemgetter(\"question\")}\n",
        "    | RunnablePassthrough.assign(context=itemgetter(\"context\"))\n",
        "    | {\"response\": rag_prompt_template | rag_llm | StrOutputParser(), \"context\": itemgetter(\"context\")}\n",
        ")"
      ]
    },
    {
      "cell_type": "code",
      "execution_count": 121,
      "metadata": {
        "colab": {
          "base_uri": "https://localhost:8080/",
          "height": 177
        },
        "id": "OJmRHJF2qNgj",
        "outputId": "61a70712-352c-47c5-fe7b-21a041ce5798"
      },
      "outputs": [
        {
          "data": {
            "text/plain": [
              "'The context does not specify the exact type of studies required before submitting an IND (Investigational New Drug application). It mentions that the amount of information submitted depends on factors such as the novelty of the drug, the extent to which it has been studied previously, known or suspected risks, and the developmental phase of the drug. However, it does not detail specific study requirements. Therefore, I do not know the answer.'"
            ]
          },
          "execution_count": 121,
          "metadata": {},
          "output_type": "execute_result"
        }
      ],
      "source": [
        "finetune_rag_chain.invoke({\"question\" : \"What type of studies are required before submitting an IND?\"})[\"response\"]"
      ]
    },
    {
      "cell_type": "code",
      "execution_count": 122,
      "metadata": {
        "colab": {
          "base_uri": "https://localhost:8080/",
          "height": 71
        },
        "id": "EnK-c2ugqPPh",
        "outputId": "bdf8802d-510f-4216-fdb6-f1cae82b8226"
      },
      "outputs": [
        {
          "data": {
            "text/plain": [
              "'If the FDA places a clinical hold on an IND application, it issues an order to the sponsor to delay a proposed clinical investigation or to suspend an ongoing investigation. This means that subjects may not be given the investigational drug in a proposed study, and no new subjects may be enrolled in an ongoing study. The clinical hold may apply to one or more investigations covered by the IND, and the FDA may also provide an opportunity for a regulatory hearing regarding the reinstatement of the IND. If no subjects are entered into clinical studies for a period of 2 years or more, or if all investigations remain on clinical hold for 1 year or more, the IND may be placed on inactive status.'"
            ]
          },
          "execution_count": 122,
          "metadata": {},
          "output_type": "execute_result"
        }
      ],
      "source": [
        "finetune_rag_chain.invoke({\"question\" : \"What happen if the FDA places a clinical hold on an IND application?\"})[\"response\"]"
      ]
    },
    {
      "cell_type": "code",
      "execution_count": 123,
      "metadata": {
        "colab": {
          "base_uri": "https://localhost:8080/",
          "height": 35
        },
        "id": "83hssg1AWozc",
        "outputId": "b0d8f20a-aa2d-4f8c-c1cd-fa113766e9b0"
      },
      "outputs": [
        {
          "data": {
            "text/plain": [
              "'The context does not provide specific information about compiling drug substance information. However, it mentions that a description of the drug substance should include its physical, chemical, or biological characteristics, the name and address of its manufacturer, the general method of preparation, acceptable limits, and analytical methods used to assure the identity, strength, quality, and purity of the drug substance. If you need more detailed information, I do not know.'"
            ]
          },
          "execution_count": 123,
          "metadata": {},
          "output_type": "execute_result"
        }
      ],
      "source": [
        "finetune_rag_chain.invoke({\"question\" : \"what about Compile Drug Substance Information?\"})[\"response\"]"
      ]
    },
    {
      "cell_type": "code",
      "execution_count": 124,
      "metadata": {
        "colab": {
          "base_uri": "https://localhost:8080/",
          "height": 35
        },
        "id": "rsHmGeFbqRET",
        "outputId": "5353dc1f-4fb3-4891-958a-16e242f3714b"
      },
      "outputs": [
        {
          "data": {
            "text/plain": [
              "\"An 'inactive IND' refers to an Investigational New Drug application that is not currently active, meaning that the sponsor is not required to submit annual reports for it. However, it remains in effect for the purposes of public disclosure of data and information. An IND can be placed on inactive status by the FDA, particularly if it has been on clinical hold for one year or more, and it may be terminated if it remains inactive for five years or more.\""
            ]
          },
          "execution_count": 124,
          "metadata": {},
          "output_type": "execute_result"
        }
      ],
      "source": [
        "finetune_rag_chain.invoke({\"question\" : \"What is the meaning of 'inactive IND' in section 312.45?\"})[\"response\"]"
      ]
    },
    {
      "cell_type": "code",
      "execution_count": 126,
      "metadata": {},
      "outputs": [
        {
          "data": {
            "text/plain": [
              "'I do not know.'"
            ]
          },
          "execution_count": 126,
          "metadata": {},
          "output_type": "execute_result"
        }
      ],
      "source": [
        "finetune_rag_chain.invoke({\"question\" : \"Under section 312.56, what are the situations in which the FDA may suspend an IND?\"})[\"response\"]"
      ]
    },
    {
      "cell_type": "markdown",
      "metadata": {
        "id": "WCbq1sZArIx4"
      },
      "source": [
        "## Task 2: RAGAS Evaluation\n",
        "\n",
        "It's great to have some idea of how our system is doing based on vibe-checks, but let's use RAGAS to provide more insight info. on how things are improving!\n",
        "\n",
        "> NOTE: Please recreate *exactly* the RAGAS process we used to evaluate RAG, baselining with the default retriever, and then comparing the new retriever. The includes the Synthetic Data Generation steps."
      ]
    },
    {
      "cell_type": "code",
      "execution_count": 64,
      "metadata": {
        "id": "jq880DtHk9pX"
      },
      "outputs": [],
      "source": [
        "### YOUR CODE Himport os\n",
        "from getpass import getpass\n",
        "\n",
        "os.environ[\"RAGAS_APP_TOKEN\"] = getpass(\"Please enter your Ragas API key!\")"
      ]
    },
    {
      "cell_type": "code",
      "execution_count": 65,
      "metadata": {},
      "outputs": [
        {
          "name": "stderr",
          "output_type": "stream",
          "text": [
            "[nltk_data] Downloading package punkt_tab to /home/pkang/nltk_data...\n",
            "[nltk_data]   Package punkt_tab is already up-to-date!\n",
            "[nltk_data] Downloading package averaged_perceptron_tagger_eng to\n",
            "[nltk_data]     /home/pkang/nltk_data...\n",
            "[nltk_data]   Package averaged_perceptron_tagger_eng is already up-to-\n",
            "[nltk_data]       date!\n"
          ]
        },
        {
          "data": {
            "text/plain": [
              "True"
            ]
          },
          "execution_count": 65,
          "metadata": {},
          "output_type": "execute_result"
        }
      ],
      "source": [
        "import nltk\n",
        "nltk.download('punkt_tab')\n",
        "nltk.download('averaged_perceptron_tagger_eng')"
      ]
    },
    {
      "cell_type": "code",
      "execution_count": 66,
      "metadata": {},
      "outputs": [],
      "source": [
        "from ragas.llms import LangchainLLMWrapper\n",
        "from ragas.embeddings import LangchainEmbeddingsWrapper\n",
        "from langchain_openai import ChatOpenAI\n",
        "from langchain_openai import OpenAIEmbeddings\n",
        "\n",
        "generator_llm = LangchainLLMWrapper(ChatOpenAI(model=\"gpt-4o\"))\n",
        "generator_embeddings = LangchainEmbeddingsWrapper(OpenAIEmbeddings())"
      ]
    },
    {
      "cell_type": "code",
      "execution_count": 67,
      "metadata": {},
      "outputs": [
        {
          "data": {
            "application/vnd.jupyter.widget-view+json": {
              "model_id": "d7be93ec40d54517931a8fa5e23efd4c",
              "version_major": 2,
              "version_minor": 0
            },
            "text/plain": [
              "Applying SummaryExtractor:   0%|          | 0/120 [00:00<?, ?it/s]"
            ]
          },
          "metadata": {},
          "output_type": "display_data"
        },
        {
          "data": {
            "application/vnd.jupyter.widget-view+json": {
              "model_id": "79669b54c18e4eedb109206934f3a87e",
              "version_major": 2,
              "version_minor": 0
            },
            "text/plain": [
              "Applying CustomNodeFilter:   0%|          | 0/423 [00:00<?, ?it/s]"
            ]
          },
          "metadata": {},
          "output_type": "display_data"
        },
        {
          "name": "stderr",
          "output_type": "stream",
          "text": [
            "Node 9fd3db19-f593-4a9a-8931-d08c61ecb4db does not have a summary. Skipping filtering.\n",
            "Node f990b80b-1921-46d3-b0ec-0b31869d2987 does not have a summary. Skipping filtering.\n",
            "Node 466c0c4d-f8f1-4067-8b79-a43ff47878d3 does not have a summary. Skipping filtering.\n",
            "Node 6ef0e377-f081-4099-92a6-cf92e1651aa3 does not have a summary. Skipping filtering.\n",
            "Node 5cc7ce1c-9216-45f5-ba64-8bcb0cfaee6c does not have a summary. Skipping filtering.\n",
            "Node 68eb234f-b738-4ec9-805f-e9f66245c019 does not have a summary. Skipping filtering.\n",
            "Node 9f1059d2-c4d9-4a16-b35d-2c29ace3927c does not have a summary. Skipping filtering.\n",
            "Node 55341ec1-d1cb-4920-9acd-bf15bec38aca does not have a summary. Skipping filtering.\n",
            "Node 78bad546-28ec-4a8d-85d6-808b11f37db7 does not have a summary. Skipping filtering.\n",
            "Node 86ad2ecf-db13-4e81-8053-36d7f8fb602c does not have a summary. Skipping filtering.\n",
            "Node 68ef1440-92b6-4567-af71-40298bc9df28 does not have a summary. Skipping filtering.\n",
            "Node 9ef02679-5b6e-4890-97e3-a09196e6072e does not have a summary. Skipping filtering.\n",
            "Node 0c5b10c6-1691-4d0a-a3b2-045fdeeac94f does not have a summary. Skipping filtering.\n",
            "Node 40acd535-bbdb-49d4-aa49-8fed94f535c6 does not have a summary. Skipping filtering.\n",
            "Node 54b35bb1-528c-424c-9797-3cb7675d369c does not have a summary. Skipping filtering.\n",
            "Node 4543a395-2b1a-4927-a30d-ec50a98ef8bf does not have a summary. Skipping filtering.\n",
            "Node bbae8944-0195-4387-af69-5a47a2820c0e does not have a summary. Skipping filtering.\n",
            "Node f3feaaeb-1551-4341-be3a-45acfc284b2c does not have a summary. Skipping filtering.\n",
            "Node 3ed7d4f7-c15c-4e10-9f60-66e606b24f76 does not have a summary. Skipping filtering.\n",
            "Node 4b93b839-4728-40e1-96ae-5dc8f0b215bc does not have a summary. Skipping filtering.\n",
            "Node 1cae2a70-5971-4ba2-a9e7-a306a9ab5710 does not have a summary. Skipping filtering.\n",
            "Node b81c3c63-c57c-4d0b-8b22-cd5569a0208a does not have a summary. Skipping filtering.\n",
            "Node 735906d8-2a15-4a6b-bb77-c8d2bb11ed94 does not have a summary. Skipping filtering.\n",
            "Node 2ae44d68-24e5-4da4-9704-317ae4454fe7 does not have a summary. Skipping filtering.\n",
            "Node 74d645b3-fe3a-417f-9963-5046521b97b0 does not have a summary. Skipping filtering.\n",
            "Node 25546ca6-2abd-454d-8957-3107b7c50768 does not have a summary. Skipping filtering.\n",
            "Node 372cb6dc-039f-46fe-900f-249588ed84cb does not have a summary. Skipping filtering.\n",
            "Node a2182fb5-fa95-4f14-887c-cdfba15c93e1 does not have a summary. Skipping filtering.\n",
            "Node 43ed9d50-a9db-4f3d-abd9-8e43bcf310ad does not have a summary. Skipping filtering.\n",
            "Node 7760ec1f-3c0d-4696-a819-89801f0afd9f does not have a summary. Skipping filtering.\n",
            "Node 6825dba2-6d51-4056-b1ef-430f2040e702 does not have a summary. Skipping filtering.\n",
            "Node 986cbbc8-b8b6-4799-93b8-b861f28ba948 does not have a summary. Skipping filtering.\n",
            "Node 0471d226-5552-476d-8df9-f2b85b725b27 does not have a summary. Skipping filtering.\n",
            "Node fa1e1acf-dc8c-4db0-969b-6d2e8ec3900b does not have a summary. Skipping filtering.\n",
            "Node e85f9947-7c80-4213-a22f-7f3ac5c1eaf4 does not have a summary. Skipping filtering.\n",
            "Node f448da62-eaa3-4213-a0aa-b6e8bbabf580 does not have a summary. Skipping filtering.\n",
            "Node 5c340f8c-d6a8-4b21-b975-be3824d03170 does not have a summary. Skipping filtering.\n",
            "Node bf8ff78e-28cd-4bc2-8286-45d243dd0fcb does not have a summary. Skipping filtering.\n",
            "Node d79479dc-9ca3-451b-9647-29389c0992f1 does not have a summary. Skipping filtering.\n",
            "Node f7bdec39-f2e8-417a-ac38-d26cfeb93173 does not have a summary. Skipping filtering.\n",
            "Node c07853a1-3e6a-48f9-8df2-cfebf1e747b3 does not have a summary. Skipping filtering.\n",
            "Node 2cb18cad-8604-4590-8067-e168000b4bdd does not have a summary. Skipping filtering.\n",
            "Node 43ed4806-ba34-496f-9e16-9dff11184198 does not have a summary. Skipping filtering.\n",
            "Node 101750f2-2863-4dab-bdb4-4ad606da5f45 does not have a summary. Skipping filtering.\n",
            "Node 592e8fc8-c150-4091-a7ef-17cff47ed77b does not have a summary. Skipping filtering.\n",
            "Node 6dce3431-65ef-4362-886c-7b4280a4aeab does not have a summary. Skipping filtering.\n",
            "Node 4140c094-90ee-4469-83cf-d9f6735e6c88 does not have a summary. Skipping filtering.\n",
            "Node 57e901c8-b69b-44af-bba2-4e2a5c38a61f does not have a summary. Skipping filtering.\n",
            "Node 76baf095-980e-42fc-87ad-fa9432551041 does not have a summary. Skipping filtering.\n",
            "Node 7f7ab59d-e86b-4fb5-ba29-9e91dcc84c8f does not have a summary. Skipping filtering.\n",
            "Node 3ebc737b-ec7d-42b8-b8b1-f1fe9fbb4d47 does not have a summary. Skipping filtering.\n",
            "Node 0cf99c7f-6495-40fb-afb8-d903eb27d780 does not have a summary. Skipping filtering.\n",
            "Node 885ad228-6456-42cc-b425-0beb084733a1 does not have a summary. Skipping filtering.\n",
            "Node d5a27fef-1690-4d2d-85d1-86cd520c25c8 does not have a summary. Skipping filtering.\n",
            "Node 3856c8ae-c13c-4ded-a469-f5a35ce6d744 does not have a summary. Skipping filtering.\n",
            "Node d810dffb-eb20-4d2a-ab93-3d41b4873668 does not have a summary. Skipping filtering.\n",
            "Node de83d94b-950f-4811-a9f2-4af29c2ef8d3 does not have a summary. Skipping filtering.\n",
            "Node 9f07c751-1892-4c47-a6b7-e6496783471c does not have a summary. Skipping filtering.\n",
            "Node 5eb4db73-a8ce-4439-845a-bea21f255f64 does not have a summary. Skipping filtering.\n",
            "Node 6981bc5b-0d1d-4622-817e-71f001873155 does not have a summary. Skipping filtering.\n",
            "Node 5704f3c1-2c47-46e7-8e2d-56b9f5b30daf does not have a summary. Skipping filtering.\n",
            "Node 36121f48-eac9-440a-b067-e8ac2c2c5d75 does not have a summary. Skipping filtering.\n",
            "Node f6e1cb39-9944-4067-85cf-69cc74546084 does not have a summary. Skipping filtering.\n",
            "Node f820da4a-5cfc-4514-83e3-a6ed022fab7d does not have a summary. Skipping filtering.\n",
            "Node 1a962be8-670e-4f13-9d7d-ed90f4eb81cc does not have a summary. Skipping filtering.\n",
            "Node f5a7bc18-9812-4408-98e8-d75292829d53 does not have a summary. Skipping filtering.\n",
            "Node 195c0008-79b4-4f00-ae25-8d0f7852f96a does not have a summary. Skipping filtering.\n",
            "Node 3dd7a41f-07d7-4781-937e-9a757b4ad35e does not have a summary. Skipping filtering.\n",
            "Node 9391ae4b-8f89-4bfc-ac47-14b2c7d8cd4a does not have a summary. Skipping filtering.\n",
            "Node 4ef29fc1-089d-4227-bf21-ba72757f5237 does not have a summary. Skipping filtering.\n",
            "Node 6cff36c8-3281-49ac-bd6a-3bbebbd2d4cf does not have a summary. Skipping filtering.\n",
            "Node e05677cf-4c9e-41b1-b174-ea70199279d1 does not have a summary. Skipping filtering.\n",
            "Node 134268b0-7057-4e0e-bb7d-4a25985ccb0a does not have a summary. Skipping filtering.\n",
            "Node c4ba4b8c-3d4d-4b09-b3ad-ff8dd00de080 does not have a summary. Skipping filtering.\n",
            "Node d18ba9f6-8965-46c0-823d-199b280fd8aa does not have a summary. Skipping filtering.\n",
            "Node 9fae3a82-9b73-4bba-8a22-ee2434ca558c does not have a summary. Skipping filtering.\n",
            "Node 6f573c28-5762-4211-93b7-a8b5bcce119f does not have a summary. Skipping filtering.\n",
            "Node d23a25ca-e54b-424b-9755-09bcd0b1d30d does not have a summary. Skipping filtering.\n",
            "Node 38f31866-d11e-49fe-a699-1e769d8602a0 does not have a summary. Skipping filtering.\n",
            "Node 84fc42bc-9fe0-446b-8eff-8a6cea40df7e does not have a summary. Skipping filtering.\n",
            "Node 19223a39-d154-42c9-bcd5-bf43c99d26b4 does not have a summary. Skipping filtering.\n",
            "Node f1da3da7-aade-473b-94c5-03a0417a686f does not have a summary. Skipping filtering.\n",
            "Node 34660e33-1b90-46f1-acb9-6441895623ab does not have a summary. Skipping filtering.\n",
            "Node a4c56e3a-0f60-497b-869d-6d55114b3651 does not have a summary. Skipping filtering.\n",
            "Node 51459658-e9ba-4de3-80c9-9eafc54c6d31 does not have a summary. Skipping filtering.\n",
            "Node de3dc2d4-3d90-4eda-ab7e-a2b3cd7a86d7 does not have a summary. Skipping filtering.\n",
            "Node 6fa6599d-45b7-4030-8d9e-b62c4f8b7404 does not have a summary. Skipping filtering.\n",
            "Node 3d57a2f8-ea23-4b0b-aa66-1b2f213dc9fa does not have a summary. Skipping filtering.\n",
            "Node 739115b6-bdc4-4558-b2a4-b7d31ea41793 does not have a summary. Skipping filtering.\n",
            "Node 75bad809-5f57-4743-8f9e-a594cadcfdb3 does not have a summary. Skipping filtering.\n",
            "Node f8aacf19-344f-4684-b858-3c311d51d68b does not have a summary. Skipping filtering.\n",
            "Node 70d8216c-a7b3-441a-9419-68e97f8efcb7 does not have a summary. Skipping filtering.\n",
            "Node 81bafb88-fed1-48a7-ad3b-8e904533b4e9 does not have a summary. Skipping filtering.\n",
            "Node 0dfa7491-441c-44e4-bafd-c5271ce1cf9e does not have a summary. Skipping filtering.\n",
            "Node 1b95661a-6ac7-4cc5-85cb-a6758cc28399 does not have a summary. Skipping filtering.\n",
            "Node 732163f0-c56b-49b6-af91-cc291f4902ab does not have a summary. Skipping filtering.\n",
            "Node 440a8890-6e07-4897-9fe0-b69618d44fd9 does not have a summary. Skipping filtering.\n",
            "Node 93c37448-1d71-44af-94d6-602ec36aadd5 does not have a summary. Skipping filtering.\n",
            "Node dfce24a8-653c-470a-9d4e-31d8b27d8bc5 does not have a summary. Skipping filtering.\n",
            "Node 67370bca-9ecf-4019-9d88-5dd5ed5fa8c0 does not have a summary. Skipping filtering.\n",
            "Node 4eb35998-82b5-4873-918b-819c2a3c17a9 does not have a summary. Skipping filtering.\n",
            "Node 093810b6-dd92-4ebb-892a-ce96eac7ac2e does not have a summary. Skipping filtering.\n",
            "Node d31869e1-40c4-458a-8ef2-ad01ac5adde9 does not have a summary. Skipping filtering.\n",
            "Node b6102bbe-37e8-40c4-adac-2f859c15c9ce does not have a summary. Skipping filtering.\n",
            "Node e6a5a02b-1733-41fa-854d-2b37c8fddecb does not have a summary. Skipping filtering.\n",
            "Node 3224cbd5-0f15-4371-abc9-bad9da807538 does not have a summary. Skipping filtering.\n",
            "Node b10e3971-b094-413b-b605-60b870571b13 does not have a summary. Skipping filtering.\n",
            "Node c2f47773-9d6f-4119-ac24-5042393d2caa does not have a summary. Skipping filtering.\n",
            "Node 8b8dff0f-b514-4b65-8b4f-7d1733ec0f73 does not have a summary. Skipping filtering.\n",
            "Node 60a818ea-9859-4911-8932-c46dca04e0b2 does not have a summary. Skipping filtering.\n",
            "Node 65290321-2511-4531-87d3-23426b839ae3 does not have a summary. Skipping filtering.\n",
            "Node 3b3399a2-8faa-4c17-877d-7a85873a63bd does not have a summary. Skipping filtering.\n",
            "Node 5d39f15e-c7b7-4a9b-81b9-d3250fa98a27 does not have a summary. Skipping filtering.\n",
            "Node 3020369a-0a64-42a6-92d6-564b75aa1448 does not have a summary. Skipping filtering.\n",
            "Node b5d3f8b1-3d07-4776-a72e-48762cee025c does not have a summary. Skipping filtering.\n",
            "Node e27a4339-50e6-4928-b8b5-5338bd350f40 does not have a summary. Skipping filtering.\n",
            "Node a7bc62e0-3d4b-47c4-ac6d-4a15fbb6fe6d does not have a summary. Skipping filtering.\n",
            "Node 29799422-2d11-4584-9a43-a9fe82b18c8f does not have a summary. Skipping filtering.\n",
            "Node 788c5b36-ef55-4122-ad30-5085107c1fc0 does not have a summary. Skipping filtering.\n",
            "Node c84ad85a-f549-4adc-942e-9a7c92a18ba9 does not have a summary. Skipping filtering.\n",
            "Node 4893f8fc-a3e3-4ada-8175-41b5a021b2ee does not have a summary. Skipping filtering.\n",
            "Node f51bc4c8-62ee-4339-81ad-cc311a0f8783 does not have a summary. Skipping filtering.\n",
            "Node 01fa1968-fad2-4640-925e-49160f8bb853 does not have a summary. Skipping filtering.\n",
            "Node 915b39b5-f176-4998-aa36-767af633ee55 does not have a summary. Skipping filtering.\n",
            "Node 50df8226-03aa-4f61-83b4-c5c1632a6e2b does not have a summary. Skipping filtering.\n",
            "Node 820ed903-863f-4d44-8d81-022ec4b8ef00 does not have a summary. Skipping filtering.\n",
            "Node 9bfb7f9d-f6a4-4879-8249-580283252e21 does not have a summary. Skipping filtering.\n",
            "Node c864c6f3-70e0-4547-91de-e1c5aa90bf0f does not have a summary. Skipping filtering.\n",
            "Node cd3a19c1-d869-475d-b9bc-e5a2bb7cce16 does not have a summary. Skipping filtering.\n",
            "Node 4016ebeb-d62f-46a9-af9d-d13df617093b does not have a summary. Skipping filtering.\n",
            "Node 2d439f5d-1a0a-4e0f-accc-d0f019318156 does not have a summary. Skipping filtering.\n",
            "Node 538f83f3-fd87-4fc4-aba5-ad54acad369f does not have a summary. Skipping filtering.\n",
            "Node e787e987-427f-4288-ab89-fa8057b409ce does not have a summary. Skipping filtering.\n",
            "Node 3f7216a7-a447-4804-ab1d-cdef6d9eecff does not have a summary. Skipping filtering.\n",
            "Node 5d56ed88-c6f7-4f6e-b7c1-e324f8da62e5 does not have a summary. Skipping filtering.\n",
            "Node 79264f77-9f04-46f9-bc07-154877e9fff1 does not have a summary. Skipping filtering.\n",
            "Node 99b72941-0e09-402d-8568-1ddb58c8f9d8 does not have a summary. Skipping filtering.\n",
            "Node fc1d094e-ebee-48f6-9c28-af3c4b160c84 does not have a summary. Skipping filtering.\n",
            "Node 4feae1d5-33da-405d-80cf-fbf3d48f5c91 does not have a summary. Skipping filtering.\n",
            "Node cfd49561-6647-47e6-80ed-d9d4c8b7773a does not have a summary. Skipping filtering.\n",
            "Node 1befce58-0205-49df-8097-b7920e22854a does not have a summary. Skipping filtering.\n",
            "Node 5975abbe-24f9-4555-a4de-379d53722a77 does not have a summary. Skipping filtering.\n",
            "Node ba15ba9b-d54c-420c-a9d8-290a6630f4da does not have a summary. Skipping filtering.\n",
            "Node e3976a12-0760-4dcc-8966-5d548b3e917f does not have a summary. Skipping filtering.\n",
            "Node 1a6c9af3-1169-4b2e-b43f-44e4883c5b41 does not have a summary. Skipping filtering.\n",
            "Node c55ded67-1e76-43aa-b90b-73bc07230bf9 does not have a summary. Skipping filtering.\n",
            "Node 05d8559f-e054-433d-b732-d4669a7e5e20 does not have a summary. Skipping filtering.\n",
            "Node 9d2a53a1-2371-4553-b0a5-2d22948f8d84 does not have a summary. Skipping filtering.\n",
            "Node 5f417b8a-c9d9-4434-9103-1f55fce0f18d does not have a summary. Skipping filtering.\n",
            "Node 2a0df345-e815-4c64-af59-d529d88c8f4f does not have a summary. Skipping filtering.\n",
            "Node 4f860f89-651e-4992-89f6-e23426e14304 does not have a summary. Skipping filtering.\n",
            "Node e2cfc1e3-44d8-4bc4-95a5-f5698ca5dfde does not have a summary. Skipping filtering.\n",
            "Node 14f1f15e-6757-438f-8dd6-6b5071f591fa does not have a summary. Skipping filtering.\n",
            "Node bd46aea1-cdbc-4318-af24-a4f3a21aacef does not have a summary. Skipping filtering.\n",
            "Node 65721fc5-3a87-465f-9912-3ca7c47d134e does not have a summary. Skipping filtering.\n",
            "Node 94c27d62-977f-4c49-a6bd-ee55b9a30f8f does not have a summary. Skipping filtering.\n",
            "Node 1559861a-4d70-451a-9048-d9587cfffc44 does not have a summary. Skipping filtering.\n",
            "Node bb0ab09d-feec-473c-a8cc-1a0662a7dab4 does not have a summary. Skipping filtering.\n",
            "Node faf4bd1f-d0ba-44b2-a789-c62d6eece202 does not have a summary. Skipping filtering.\n",
            "Node 942d7146-0b6b-4b0e-8476-e2a90884b735 does not have a summary. Skipping filtering.\n",
            "Node 5b5a46b7-f411-458b-9d35-aadd6f0332ac does not have a summary. Skipping filtering.\n",
            "Node 12ba3bcc-715f-4b95-ae59-640b54381267 does not have a summary. Skipping filtering.\n",
            "Node 4897d885-625c-4c30-9819-02731ca9dd6a does not have a summary. Skipping filtering.\n",
            "Node 238c9c8d-23ff-4c04-adb9-acb5118ba414 does not have a summary. Skipping filtering.\n",
            "Node c64a2911-ed71-489c-a85b-6fbfc494b32f does not have a summary. Skipping filtering.\n",
            "Node c28cb30c-d8c7-42b1-bd65-7bb6ae4ed4a2 does not have a summary. Skipping filtering.\n",
            "Node 84d60fa7-ee95-427b-af0c-bdcf10db598b does not have a summary. Skipping filtering.\n",
            "Node a549067f-7cc7-4669-83ee-bece6fd7bcec does not have a summary. Skipping filtering.\n",
            "Node 549abad3-3541-49b4-821c-1375ab4136d0 does not have a summary. Skipping filtering.\n",
            "Node 270ca9f2-5da4-4d71-8359-a0d953b3f152 does not have a summary. Skipping filtering.\n",
            "Node 54bd31a6-ca82-4c9c-b71a-8e4ba38c68d9 does not have a summary. Skipping filtering.\n",
            "Node 8a623204-7ac6-4e49-9755-7a765a006077 does not have a summary. Skipping filtering.\n",
            "Node 0eff2632-2dfc-4a59-9082-ec996775e8fb does not have a summary. Skipping filtering.\n",
            "Node 85079eee-26f2-41c4-be4e-69090c20d169 does not have a summary. Skipping filtering.\n",
            "Node 27f29a47-694e-4cdf-a5c2-0e17a398eac6 does not have a summary. Skipping filtering.\n",
            "Node 150feae8-cb74-4319-b951-c196b97e5d37 does not have a summary. Skipping filtering.\n",
            "Node 229c1e98-1c95-4ce6-82e8-a00effb1585f does not have a summary. Skipping filtering.\n",
            "Node 81d53f05-9242-4d68-b089-9a788c967156 does not have a summary. Skipping filtering.\n",
            "Node 3bd6a3cb-cf45-455c-ad92-b11b862f983d does not have a summary. Skipping filtering.\n",
            "Node f5c75e92-679d-4650-84d3-c7e67a8e0258 does not have a summary. Skipping filtering.\n",
            "Node 9bafc1f2-3105-4fc7-b21b-4343e172673a does not have a summary. Skipping filtering.\n",
            "Node 9318ec73-70d9-4bf8-ba3a-e5af87410d13 does not have a summary. Skipping filtering.\n",
            "Node e824fe3c-49ac-4b7a-b8c6-244b51d6199d does not have a summary. Skipping filtering.\n",
            "Node 05656e28-4be0-44aa-85c3-7757f3bd419f does not have a summary. Skipping filtering.\n",
            "Node c8a4a511-9d42-492c-8529-a14b9277d9e7 does not have a summary. Skipping filtering.\n",
            "Node b086f652-28de-40dc-9a65-c4167d13c392 does not have a summary. Skipping filtering.\n",
            "Node dbf01ee0-62d7-4b37-8d36-fc61a2573cdb does not have a summary. Skipping filtering.\n",
            "Node e60d5d7b-15bb-46eb-8f95-842be92b3685 does not have a summary. Skipping filtering.\n",
            "Node 955359a7-59df-4983-be11-3af50f5813b6 does not have a summary. Skipping filtering.\n",
            "Node b483f587-0de4-49a0-913a-fa7aa07bc482 does not have a summary. Skipping filtering.\n",
            "Node 3c1052d9-3b3f-4fc3-8e86-b7aa2a87a714 does not have a summary. Skipping filtering.\n",
            "Node d6c538c9-d8c0-42b6-99ba-470a70787731 does not have a summary. Skipping filtering.\n",
            "Node d8afc0a1-f08b-4b11-9434-3fc607e99904 does not have a summary. Skipping filtering.\n",
            "Node d3578315-7ffd-4522-b417-e0f89eeab55c does not have a summary. Skipping filtering.\n",
            "Node c43eee4b-2186-4eb8-803f-ef43e1c8501b does not have a summary. Skipping filtering.\n",
            "Node 677fcc86-7517-4542-a72c-a3641302ed8c does not have a summary. Skipping filtering.\n",
            "Node b44e7f35-8506-47f5-889a-b4d7c0ae4e8b does not have a summary. Skipping filtering.\n",
            "Node 41813312-305e-4970-a3b4-697e3175fde9 does not have a summary. Skipping filtering.\n",
            "Node e54de252-5d71-4d22-91c6-f87ac2a505ff does not have a summary. Skipping filtering.\n",
            "Node 57ca96fe-316b-4e70-afb4-5db51066f764 does not have a summary. Skipping filtering.\n",
            "Node 3aa6431c-d186-4b41-a171-a74048589a57 does not have a summary. Skipping filtering.\n",
            "Node d08a7f90-b564-4ec4-8769-c6b03fe1b0cc does not have a summary. Skipping filtering.\n",
            "Node 795f4e80-4ecf-4f0e-a833-7760163a4c6d does not have a summary. Skipping filtering.\n",
            "Node 1898c604-fde9-4c1c-bc33-0cfcbe306595 does not have a summary. Skipping filtering.\n",
            "Node f44c7379-cf95-4841-b1a4-081c4b7f070a does not have a summary. Skipping filtering.\n",
            "Node 70094aae-62cf-49e3-9d06-9d2931954a20 does not have a summary. Skipping filtering.\n",
            "Node cacd07af-eefc-48d8-82e1-54fbdcecafef does not have a summary. Skipping filtering.\n",
            "Node f37183a2-2c44-45d8-8832-832fade50edc does not have a summary. Skipping filtering.\n",
            "Node 854b2a33-1468-46c2-a1b4-3db886c71380 does not have a summary. Skipping filtering.\n",
            "Node 1b560916-dcff-4f35-b0c7-3bb46f9683a2 does not have a summary. Skipping filtering.\n",
            "Node aceb96a4-f154-479b-bde1-79119136c1a2 does not have a summary. Skipping filtering.\n",
            "Node 6ffd08e3-6d89-4d1a-bfec-8c39bfa55c65 does not have a summary. Skipping filtering.\n",
            "Node 648b21a7-241c-402b-97ef-9eb2fe42f390 does not have a summary. Skipping filtering.\n",
            "Node ad0320f9-cf49-40e8-8382-b258fcbf3828 does not have a summary. Skipping filtering.\n",
            "Node d48213f8-69c7-4803-a8d1-f773af426685 does not have a summary. Skipping filtering.\n",
            "Node 5249dc36-e110-486d-bd86-19fc1f530854 does not have a summary. Skipping filtering.\n",
            "Node d2898428-20ea-4929-9ad2-3e63b4e59bff does not have a summary. Skipping filtering.\n",
            "Node 9251ed93-87bc-40f4-b9b1-1a46d1d559b1 does not have a summary. Skipping filtering.\n",
            "Node e2048ac3-b124-4160-ba04-f486023f6d1e does not have a summary. Skipping filtering.\n",
            "Node 842d2878-bf92-441e-ab11-92966b85f1ea does not have a summary. Skipping filtering.\n",
            "Node 720423c0-bf9d-4f0f-a83f-2417bf9997be does not have a summary. Skipping filtering.\n",
            "Node 079f4135-2f4c-4d14-a93d-53ee04dd86e0 does not have a summary. Skipping filtering.\n",
            "Node 0d3520d9-2b9d-4ecb-8cb5-1d8e8f0c9026 does not have a summary. Skipping filtering.\n",
            "Node 18dd17df-d9f6-414e-a09f-9c201ed34fd6 does not have a summary. Skipping filtering.\n",
            "Node 07faa3c0-2e66-4a20-ba39-d7becc841985 does not have a summary. Skipping filtering.\n",
            "Node 27ed2ad7-998f-4b34-a799-232897ad1ee4 does not have a summary. Skipping filtering.\n",
            "Node 1172d41c-398f-47a6-893e-3c9302db7780 does not have a summary. Skipping filtering.\n",
            "Node c5e12a8b-d455-4e48-be60-309fe29e179f does not have a summary. Skipping filtering.\n",
            "Node 17c2425d-abac-4e5d-937c-bf2b6e6d616e does not have a summary. Skipping filtering.\n",
            "Node 75b83c45-36f0-4d10-b46f-3165d26190d6 does not have a summary. Skipping filtering.\n",
            "Node 7b0fb0a6-3106-4a3f-804b-802edebbfb4c does not have a summary. Skipping filtering.\n",
            "Node ceab0f72-e32b-4a05-9f54-111f42450592 does not have a summary. Skipping filtering.\n",
            "Node 257fd2fe-0068-41ce-aa49-b23cb6d902ae does not have a summary. Skipping filtering.\n",
            "Node 7b3215b8-3671-41fd-81d3-1c2d647294c4 does not have a summary. Skipping filtering.\n",
            "Node 3d8f3cf1-0a3e-4c80-8b66-fd9da124dfb6 does not have a summary. Skipping filtering.\n",
            "Node f620aed9-143c-4067-9636-c82ebc163215 does not have a summary. Skipping filtering.\n",
            "Node 1f6c6fea-d6f4-4333-8cb2-685c54801b55 does not have a summary. Skipping filtering.\n",
            "Node 6e55e000-385f-4f2e-86de-1548d018c237 does not have a summary. Skipping filtering.\n",
            "Node 5358edab-f730-4ac6-9531-b47e943b5909 does not have a summary. Skipping filtering.\n",
            "Node a0e88490-4a51-4f5b-baab-9865b2d71b3c does not have a summary. Skipping filtering.\n",
            "Node 70eee55d-2649-4410-8420-34bd4f991d1f does not have a summary. Skipping filtering.\n",
            "Node 8fd097e0-d5ac-4624-9330-5ab5536ac7f1 does not have a summary. Skipping filtering.\n",
            "Node efb82b0e-c80e-4c5c-84aa-0065daed2b54 does not have a summary. Skipping filtering.\n",
            "Node 5af6e615-1956-49fd-9e3c-7edf0ce405e3 does not have a summary. Skipping filtering.\n",
            "Node 01e28674-49f9-459a-a9b6-8ce7ac2015a1 does not have a summary. Skipping filtering.\n",
            "Node 9d3f6ced-11b7-47e3-b3bc-b3970919e2f8 does not have a summary. Skipping filtering.\n",
            "Node 2069369c-3d82-4b70-8f90-13327615ebca does not have a summary. Skipping filtering.\n",
            "Node 03170a52-b10b-41a3-9f55-247f2fca3cff does not have a summary. Skipping filtering.\n",
            "Node 3496f41f-408f-48ef-a70f-988b58baa88e does not have a summary. Skipping filtering.\n",
            "Node c45e4bae-742c-4675-8f07-31d2f56b43fb does not have a summary. Skipping filtering.\n",
            "Node 8a24ed3c-f75a-4508-947e-573c5d26fe3a does not have a summary. Skipping filtering.\n",
            "Node 633cbf9f-8056-4c46-8388-1a01dd19880e does not have a summary. Skipping filtering.\n",
            "Node 13282ebe-d6e7-420a-8da0-d7e5734de58a does not have a summary. Skipping filtering.\n",
            "Node c7eadf5c-d638-4cbf-9796-8ec2d4530012 does not have a summary. Skipping filtering.\n",
            "Node 1da2b604-d860-4825-b9db-aa04d323b163 does not have a summary. Skipping filtering.\n",
            "Node fb4e2940-4bf3-49c7-b336-226bf6c62d6f does not have a summary. Skipping filtering.\n",
            "Node 419e4de2-b310-402b-8a1a-5aab7e2b6604 does not have a summary. Skipping filtering.\n",
            "Node da709342-78ce-46a8-b8d4-6068380a7fb8 does not have a summary. Skipping filtering.\n",
            "Node fa55b4ac-db01-4ec6-903c-3db0df1ecb5e does not have a summary. Skipping filtering.\n",
            "Node bf3de614-7d92-4675-bfeb-f5ee5d6180ef does not have a summary. Skipping filtering.\n",
            "Node 3546e636-785a-4f4b-bd28-654c8280737e does not have a summary. Skipping filtering.\n",
            "Node edc75241-66ce-4dce-95ec-50c90d5e324a does not have a summary. Skipping filtering.\n",
            "Node ad40da77-0472-4e53-8a2b-def2ee157c24 does not have a summary. Skipping filtering.\n",
            "Node 373a8bcf-5f21-42f9-b806-51f875266a27 does not have a summary. Skipping filtering.\n",
            "Node 38727548-c343-40ec-884c-09f550c4b688 does not have a summary. Skipping filtering.\n",
            "Node dd4a7949-b05f-4c56-add9-4a014eccdcef does not have a summary. Skipping filtering.\n",
            "Node 8530f919-4c31-4c9c-aece-cefac0de49b3 does not have a summary. Skipping filtering.\n",
            "Node 58f5e9e0-fe1c-4f63-a532-2406a5075750 does not have a summary. Skipping filtering.\n",
            "Node 93a480ec-a915-473f-aa86-1ddd3b49249f does not have a summary. Skipping filtering.\n",
            "Node c0eaeb43-6ba0-423c-8e6d-ffa394512330 does not have a summary. Skipping filtering.\n",
            "Node d93beeb7-252d-4173-a035-a1ff12f248a9 does not have a summary. Skipping filtering.\n",
            "Node 7de48c8c-50ed-48c3-ad1b-27da865ca2f8 does not have a summary. Skipping filtering.\n",
            "Node 767d30db-e646-4bea-97ec-5658054eb625 does not have a summary. Skipping filtering.\n",
            "Node a3864483-e33c-47ae-976a-aec06943fc74 does not have a summary. Skipping filtering.\n",
            "Node b096876d-b98f-4e85-8776-a6d3e456433d does not have a summary. Skipping filtering.\n",
            "Node 214fea86-6c26-44b1-9b0c-f06df074dcbd does not have a summary. Skipping filtering.\n",
            "Node 44c838c4-ac2e-410c-8aef-8e29714eaa03 does not have a summary. Skipping filtering.\n",
            "Node 4286aba4-25ce-42cc-947e-293b9ceced2b does not have a summary. Skipping filtering.\n",
            "Node 0e34606d-7adb-4096-890a-241927d7b74e does not have a summary. Skipping filtering.\n",
            "Node 50d2374f-3974-4b9c-847f-1fe14f4a7d35 does not have a summary. Skipping filtering.\n",
            "Node af7533cd-aea7-40f2-831e-e522a961f18c does not have a summary. Skipping filtering.\n",
            "Node 567c2552-fa01-479f-956f-7f257be4bc41 does not have a summary. Skipping filtering.\n",
            "Node 2097a2a3-7822-4553-929c-a8f116a6a6fc does not have a summary. Skipping filtering.\n",
            "Node 9b4e654c-70a1-4d59-baf9-be130e29c548 does not have a summary. Skipping filtering.\n",
            "Node 5cec84b8-6985-4a9b-b9bb-585451726ec0 does not have a summary. Skipping filtering.\n",
            "Node bdfb776f-9078-4eda-a5bf-99dcbf1ce391 does not have a summary. Skipping filtering.\n",
            "Node c9d76916-e7ca-4aa9-93d7-f1ceb5e382b2 does not have a summary. Skipping filtering.\n",
            "Node 4ab67194-9dec-42bb-9c20-83a396f4cad5 does not have a summary. Skipping filtering.\n",
            "Node 8bdb444e-e10e-403c-a258-8f369ac4742f does not have a summary. Skipping filtering.\n",
            "Node 8edf749d-4e63-4edc-8c42-143a7c018845 does not have a summary. Skipping filtering.\n",
            "Node 64e38232-2391-4c4a-87d4-dd08bc328708 does not have a summary. Skipping filtering.\n",
            "Node def9f4e1-3a3a-49c1-bb6e-a2d40ba2f98c does not have a summary. Skipping filtering.\n",
            "Node 7af49588-172a-4600-b938-edb0d8adaac6 does not have a summary. Skipping filtering.\n",
            "Node e27b6335-fb1d-46b0-8b86-72d2b2616154 does not have a summary. Skipping filtering.\n",
            "Node 613e47b1-e14a-4f3e-89c0-e81e4cfdde10 does not have a summary. Skipping filtering.\n",
            "Node 1c6627f6-c0ef-4ee0-a591-aa49bf7fe3c6 does not have a summary. Skipping filtering.\n",
            "Node 67531a54-5e83-4b62-a947-2898b24e747b does not have a summary. Skipping filtering.\n",
            "Node 9832855a-8818-438c-a5f9-c6dedc84ab8f does not have a summary. Skipping filtering.\n",
            "Node 5171d26f-c4c6-474f-ab8a-c6a58cecdd96 does not have a summary. Skipping filtering.\n",
            "Node f1ffbb2c-ad51-4863-ab26-ed936698d93e does not have a summary. Skipping filtering.\n",
            "Node c1a2906e-076f-4d24-afbc-676c768b0392 does not have a summary. Skipping filtering.\n",
            "Node 1f606f85-b86b-477e-811e-4e8d011b46e3 does not have a summary. Skipping filtering.\n",
            "Node 6cce8632-5798-4a0f-ba29-5a03a33babc1 does not have a summary. Skipping filtering.\n"
          ]
        },
        {
          "data": {
            "application/vnd.jupyter.widget-view+json": {
              "model_id": "de29abce4fc04bb78792e94d52d092e9",
              "version_major": 2,
              "version_minor": 0
            },
            "text/plain": [
              "Applying [EmbeddingExtractor, ThemesExtractor, NERExtractor]:   0%|          | 0/966 [00:00<?, ?it/s]"
            ]
          },
          "metadata": {},
          "output_type": "display_data"
        },
        {
          "data": {
            "application/vnd.jupyter.widget-view+json": {
              "model_id": "e6ba39c8c82c4d02b53b494660b9c088",
              "version_major": 2,
              "version_minor": 0
            },
            "text/plain": [
              "Applying OverlapScoreBuilder:   0%|          | 0/1 [00:00<?, ?it/s]"
            ]
          },
          "metadata": {},
          "output_type": "display_data"
        },
        {
          "data": {
            "application/vnd.jupyter.widget-view+json": {
              "model_id": "9eddf85b49ae44c0849715549cf894f8",
              "version_major": 2,
              "version_minor": 0
            },
            "text/plain": [
              "Generating personas:   0%|          | 0/3 [00:00<?, ?it/s]"
            ]
          },
          "metadata": {},
          "output_type": "display_data"
        },
        {
          "data": {
            "application/vnd.jupyter.widget-view+json": {
              "model_id": "28b03258c6a24bbbafe58a17c8e86828",
              "version_major": 2,
              "version_minor": 0
            },
            "text/plain": [
              "Generating Scenarios:   0%|          | 0/2 [00:00<?, ?it/s]"
            ]
          },
          "metadata": {},
          "output_type": "display_data"
        },
        {
          "data": {
            "application/vnd.jupyter.widget-view+json": {
              "model_id": "3c8418ae700f43dda94cf6dc66b7f5a8",
              "version_major": 2,
              "version_minor": 0
            },
            "text/plain": [
              "Generating Samples:   0%|          | 0/10 [00:00<?, ?it/s]"
            ]
          },
          "metadata": {},
          "output_type": "display_data"
        }
      ],
      "source": [
        "from ragas.testset import TestsetGenerator\n",
        "\n",
        "docs = training_documents\n",
        "generator = TestsetGenerator(llm=generator_llm, embedding_model=generator_embeddings)\n",
        "dataset = generator.generate_with_langchain_docs(docs, testset_size=10)"
      ]
    },
    {
      "cell_type": "code",
      "execution_count": 68,
      "metadata": {},
      "outputs": [
        {
          "data": {
            "text/html": [
              "<div>\n",
              "<style scoped>\n",
              "    .dataframe tbody tr th:only-of-type {\n",
              "        vertical-align: middle;\n",
              "    }\n",
              "\n",
              "    .dataframe tbody tr th {\n",
              "        vertical-align: top;\n",
              "    }\n",
              "\n",
              "    .dataframe thead th {\n",
              "        text-align: right;\n",
              "    }\n",
              "</style>\n",
              "<table border=\"1\" class=\"dataframe\">\n",
              "  <thead>\n",
              "    <tr style=\"text-align: right;\">\n",
              "      <th></th>\n",
              "      <th>user_input</th>\n",
              "      <th>reference_contexts</th>\n",
              "      <th>reference</th>\n",
              "      <th>synthesizer_name</th>\n",
              "    </tr>\n",
              "  </thead>\n",
              "  <tbody>\n",
              "    <tr>\n",
              "      <th>0</th>\n",
              "      <td>What role does the Department of Health and Hu...</td>\n",
              "      <td>[Title 21 —Food and Drugs\\nChapter I —Food and...</td>\n",
              "      <td>The Department of Health and Human Services, t...</td>\n",
              "      <td>single_hop_specifc_query_synthesizer</td>\n",
              "    </tr>\n",
              "    <tr>\n",
              "      <th>1</th>\n",
              "      <td>Cud yu pleese explane wut § 50.24 is in the ko...</td>\n",
              "      <td>[§ 312.53 Selecting investigators and monitors...</td>\n",
              "      <td>§ 50.24 is referenced in the context of emerge...</td>\n",
              "      <td>single_hop_specifc_query_synthesizer</td>\n",
              "    </tr>\n",
              "    <tr>\n",
              "      <th>2</th>\n",
              "      <td>Wht is the role of the FDA in the review of ma...</td>\n",
              "      <td>[§ 312.69 Handling of controlled substances.\\n...</td>\n",
              "      <td>The FDA conducts a risk-benefit analysis in th...</td>\n",
              "      <td>single_hop_specifc_query_synthesizer</td>\n",
              "    </tr>\n",
              "    <tr>\n",
              "      <th>3</th>\n",
              "      <td>Could you elaborate on the specific sections o...</td>\n",
              "      <td>[§ 312.86 Focused FDA regulatory research.\\n§ ...</td>\n",
              "      <td>The regulations specify that § 312.130 address...</td>\n",
              "      <td>single_hop_specifc_query_synthesizer</td>\n",
              "    </tr>\n",
              "    <tr>\n",
              "      <th>4</th>\n",
              "      <td>Cud yu pleese explane wut 21 CFR Part 312 is a...</td>\n",
              "      <td>[§ 312.315 Intermediate-size patient populatio...</td>\n",
              "      <td>21 CFR Part 312 pertains to the Investigationa...</td>\n",
              "      <td>single_hop_specifc_query_synthesizer</td>\n",
              "    </tr>\n",
              "    <tr>\n",
              "      <th>5</th>\n",
              "      <td>What happens if FDA thinks people might get hu...</td>\n",
              "      <td>[&lt;1-hop&gt;\\n\\n(b) Grounds for termination —\\n(1)...</td>\n",
              "      <td>If the FDA finds that human subjects would be ...</td>\n",
              "      <td>multi_hop_specific_query_synthesizer</td>\n",
              "    </tr>\n",
              "    <tr>\n",
              "      <th>6</th>\n",
              "      <td>What are the conditions under which an investi...</td>\n",
              "      <td>[&lt;1-hop&gt;\\n\\n(b) Exports. An investigational ne...</td>\n",
              "      <td>An investigational new drug may be exported fr...</td>\n",
              "      <td>multi_hop_specific_query_synthesizer</td>\n",
              "    </tr>\n",
              "    <tr>\n",
              "      <th>7</th>\n",
              "      <td>What 21 CFR 312.31 and 21 CFR 312.160(c) say a...</td>\n",
              "      <td>[&lt;1-hop&gt;\\n\\ndisposition does not expose humans...</td>\n",
              "      <td>21 CFR 312.31 provides examples of medical eve...</td>\n",
              "      <td>multi_hop_specific_query_synthesizer</td>\n",
              "    </tr>\n",
              "    <tr>\n",
              "      <th>8</th>\n",
              "      <td>What are the requirements under 21 CFR 312.23(...</td>\n",
              "      <td>[&lt;1-hop&gt;\\n\\nat a frequency different than that...</td>\n",
              "      <td>Under 21 CFR 312.23(a)(5)(iii), the requiremen...</td>\n",
              "      <td>multi_hop_specific_query_synthesizer</td>\n",
              "    </tr>\n",
              "    <tr>\n",
              "      <th>9</th>\n",
              "      <td>What 21 CFR 312.22(b) and 21 CFR 312.70(b) say...</td>\n",
              "      <td>[&lt;1-hop&gt;\\n\\ninvestigator, the sponsor of any i...</td>\n",
              "      <td>21 CFR 312.22(b) outlines the requirements for...</td>\n",
              "      <td>multi_hop_specific_query_synthesizer</td>\n",
              "    </tr>\n",
              "  </tbody>\n",
              "</table>\n",
              "</div>"
            ],
            "text/plain": [
              "                                          user_input  \\\n",
              "0  What role does the Department of Health and Hu...   \n",
              "1  Cud yu pleese explane wut § 50.24 is in the ko...   \n",
              "2  Wht is the role of the FDA in the review of ma...   \n",
              "3  Could you elaborate on the specific sections o...   \n",
              "4  Cud yu pleese explane wut 21 CFR Part 312 is a...   \n",
              "5  What happens if FDA thinks people might get hu...   \n",
              "6  What are the conditions under which an investi...   \n",
              "7  What 21 CFR 312.31 and 21 CFR 312.160(c) say a...   \n",
              "8  What are the requirements under 21 CFR 312.23(...   \n",
              "9  What 21 CFR 312.22(b) and 21 CFR 312.70(b) say...   \n",
              "\n",
              "                                  reference_contexts  \\\n",
              "0  [Title 21 —Food and Drugs\\nChapter I —Food and...   \n",
              "1  [§ 312.53 Selecting investigators and monitors...   \n",
              "2  [§ 312.69 Handling of controlled substances.\\n...   \n",
              "3  [§ 312.86 Focused FDA regulatory research.\\n§ ...   \n",
              "4  [§ 312.315 Intermediate-size patient populatio...   \n",
              "5  [<1-hop>\\n\\n(b) Grounds for termination —\\n(1)...   \n",
              "6  [<1-hop>\\n\\n(b) Exports. An investigational ne...   \n",
              "7  [<1-hop>\\n\\ndisposition does not expose humans...   \n",
              "8  [<1-hop>\\n\\nat a frequency different than that...   \n",
              "9  [<1-hop>\\n\\ninvestigator, the sponsor of any i...   \n",
              "\n",
              "                                           reference  \\\n",
              "0  The Department of Health and Human Services, t...   \n",
              "1  § 50.24 is referenced in the context of emerge...   \n",
              "2  The FDA conducts a risk-benefit analysis in th...   \n",
              "3  The regulations specify that § 312.130 address...   \n",
              "4  21 CFR Part 312 pertains to the Investigationa...   \n",
              "5  If the FDA finds that human subjects would be ...   \n",
              "6  An investigational new drug may be exported fr...   \n",
              "7  21 CFR 312.31 provides examples of medical eve...   \n",
              "8  Under 21 CFR 312.23(a)(5)(iii), the requiremen...   \n",
              "9  21 CFR 312.22(b) outlines the requirements for...   \n",
              "\n",
              "                       synthesizer_name  \n",
              "0  single_hop_specifc_query_synthesizer  \n",
              "1  single_hop_specifc_query_synthesizer  \n",
              "2  single_hop_specifc_query_synthesizer  \n",
              "3  single_hop_specifc_query_synthesizer  \n",
              "4  single_hop_specifc_query_synthesizer  \n",
              "5  multi_hop_specific_query_synthesizer  \n",
              "6  multi_hop_specific_query_synthesizer  \n",
              "7  multi_hop_specific_query_synthesizer  \n",
              "8  multi_hop_specific_query_synthesizer  \n",
              "9  multi_hop_specific_query_synthesizer  "
            ]
          },
          "execution_count": 68,
          "metadata": {},
          "output_type": "execute_result"
        }
      ],
      "source": [
        "dataset.to_pandas()"
      ]
    },
    {
      "cell_type": "code",
      "execution_count": 69,
      "metadata": {},
      "outputs": [
        {
          "name": "stdout",
          "output_type": "stream",
          "text": [
            "Testset uploaded! View at https://app.ragas.io/dashboard/alignment/testset/f4fb4d67-5551-46ae-b8c3-d84790362a02\n"
          ]
        },
        {
          "data": {
            "text/plain": [
              "'https://app.ragas.io/dashboard/alignment/testset/f4fb4d67-5551-46ae-b8c3-d84790362a02'"
            ]
          },
          "execution_count": 69,
          "metadata": {},
          "output_type": "execute_result"
        }
      ],
      "source": [
        "\n",
        "dataset.upload()"
      ]
    },
    {
      "cell_type": "markdown",
      "metadata": {},
      "source": [
        "## Evaluating the App with Ragas"
      ]
    },
    {
      "cell_type": "code",
      "execution_count": 127,
      "metadata": {},
      "outputs": [],
      "source": [
        "for test_row in dataset:\n",
        "  response = base_rag_chain.invoke({\"question\" : test_row.eval_sample.user_input})\n",
        "  test_row.eval_sample.response = response[\"response\"]\n",
        "  test_row.eval_sample.retrieved_contexts = [context.page_content for context in response[\"context\"]]"
      ]
    },
    {
      "cell_type": "code",
      "execution_count": 128,
      "metadata": {},
      "outputs": [
        {
          "data": {
            "text/html": [
              "<div>\n",
              "<style scoped>\n",
              "    .dataframe tbody tr th:only-of-type {\n",
              "        vertical-align: middle;\n",
              "    }\n",
              "\n",
              "    .dataframe tbody tr th {\n",
              "        vertical-align: top;\n",
              "    }\n",
              "\n",
              "    .dataframe thead th {\n",
              "        text-align: right;\n",
              "    }\n",
              "</style>\n",
              "<table border=\"1\" class=\"dataframe\">\n",
              "  <thead>\n",
              "    <tr style=\"text-align: right;\">\n",
              "      <th></th>\n",
              "      <th>user_input</th>\n",
              "      <th>retrieved_contexts</th>\n",
              "      <th>reference_contexts</th>\n",
              "      <th>response</th>\n",
              "      <th>reference</th>\n",
              "      <th>synthesizer_name</th>\n",
              "    </tr>\n",
              "  </thead>\n",
              "  <tbody>\n",
              "    <tr>\n",
              "      <th>0</th>\n",
              "      <td>What role does the Department of Health and Hu...</td>\n",
              "      <td>[Department of Health and Human Services, 200 ...</td>\n",
              "      <td>[Title 21 —Food and Drugs\\nChapter I —Food and...</td>\n",
              "      <td>The Department of Health and Human Services (H...</td>\n",
              "      <td>The Department of Health and Human Services, t...</td>\n",
              "      <td>single_hop_specifc_query_synthesizer</td>\n",
              "    </tr>\n",
              "    <tr>\n",
              "      <th>1</th>\n",
              "      <td>Cud yu pleese explane wut § 50.24 is in the ko...</td>\n",
              "      <td>[immediate hazards to the human subjects.\\n21 ...</td>\n",
              "      <td>[§ 312.53 Selecting investigators and monitors...</td>\n",
              "      <td>§ 50.24 pertains to emergency research and out...</td>\n",
              "      <td>§ 50.24 is referenced in the context of emerge...</td>\n",
              "      <td>single_hop_specifc_query_synthesizer</td>\n",
              "    </tr>\n",
              "    <tr>\n",
              "      <th>2</th>\n",
              "      <td>Wht is the role of the FDA in the review of ma...</td>\n",
              "      <td>[a marketing application are being assembled b...</td>\n",
              "      <td>[§ 312.69 Handling of controlled substances.\\n...</td>\n",
              "      <td>The role of the FDA in the review of marketing...</td>\n",
              "      <td>The FDA conducts a risk-benefit analysis in th...</td>\n",
              "      <td>single_hop_specifc_query_synthesizer</td>\n",
              "    </tr>\n",
              "    <tr>\n",
              "      <th>3</th>\n",
              "      <td>Could you elaborate on the specific sections o...</td>\n",
              "      <td>[§ 312.23 IND content and format.\\n(b) The amo...</td>\n",
              "      <td>[§ 312.86 Focused FDA regulatory research.\\n§ ...</td>\n",
              "      <td>The specific sections of the regulations that ...</td>\n",
              "      <td>The regulations specify that § 312.130 address...</td>\n",
              "      <td>single_hop_specifc_query_synthesizer</td>\n",
              "    </tr>\n",
              "    <tr>\n",
              "      <th>4</th>\n",
              "      <td>Cud yu pleese explane wut 21 CFR Part 312 is a...</td>\n",
              "      <td>[the study.\\n21 CFR Part 312 (up to date as of...</td>\n",
              "      <td>[§ 312.315 Intermediate-size patient populatio...</td>\n",
              "      <td>21 CFR Part 312 is a section of the Code of Fe...</td>\n",
              "      <td>21 CFR Part 312 pertains to the Investigationa...</td>\n",
              "      <td>single_hop_specifc_query_synthesizer</td>\n",
              "    </tr>\n",
              "    <tr>\n",
              "      <th>5</th>\n",
              "      <td>What happens if FDA thinks people might get hu...</td>\n",
              "      <td>[(b) Grounds for termination —\\n(1) Phase 1. F...</td>\n",
              "      <td>[&lt;1-hop&gt;\\n\\n(b) Grounds for termination —\\n(1)...</td>\n",
              "      <td>If the FDA finds that human subjects would be ...</td>\n",
              "      <td>If the FDA finds that human subjects would be ...</td>\n",
              "      <td>multi_hop_specific_query_synthesizer</td>\n",
              "    </tr>\n",
              "    <tr>\n",
              "      <th>6</th>\n",
              "      <td>What are the conditions under which an investi...</td>\n",
              "      <td>[(b) Exports. An investigational new drug may ...</td>\n",
              "      <td>[&lt;1-hop&gt;\\n\\n(b) Exports. An investigational ne...</td>\n",
              "      <td>An investigational new drug may be exported fr...</td>\n",
              "      <td>An investigational new drug may be exported fr...</td>\n",
              "      <td>multi_hop_specific_query_synthesizer</td>\n",
              "    </tr>\n",
              "    <tr>\n",
              "      <th>7</th>\n",
              "      <td>What 21 CFR 312.31 and 21 CFR 312.160(c) say a...</td>\n",
              "      <td>[the study.\\n21 CFR Part 312 (up to date as of...</td>\n",
              "      <td>[&lt;1-hop&gt;\\n\\ndisposition does not expose humans...</td>\n",
              "      <td>I do not know.</td>\n",
              "      <td>21 CFR 312.31 provides examples of medical eve...</td>\n",
              "      <td>multi_hop_specific_query_synthesizer</td>\n",
              "    </tr>\n",
              "    <tr>\n",
              "      <th>8</th>\n",
              "      <td>What are the requirements under 21 CFR 312.23(...</td>\n",
              "      <td>[21 CFR Part 312 (up to date as of 1/23/2025)\\...</td>\n",
              "      <td>[&lt;1-hop&gt;\\n\\nat a frequency different than that...</td>\n",
              "      <td>I do not know.</td>\n",
              "      <td>Under 21 CFR 312.23(a)(5)(iii), the requiremen...</td>\n",
              "      <td>multi_hop_specific_query_synthesizer</td>\n",
              "    </tr>\n",
              "    <tr>\n",
              "      <th>9</th>\n",
              "      <td>What 21 CFR 312.22(b) and 21 CFR 312.70(b) say...</td>\n",
              "      <td>[21 CFR Part 312 (up to date as of 1/23/2025)\\...</td>\n",
              "      <td>[&lt;1-hop&gt;\\n\\ninvestigator, the sponsor of any i...</td>\n",
              "      <td>I do not know.</td>\n",
              "      <td>21 CFR 312.22(b) outlines the requirements for...</td>\n",
              "      <td>multi_hop_specific_query_synthesizer</td>\n",
              "    </tr>\n",
              "  </tbody>\n",
              "</table>\n",
              "</div>"
            ],
            "text/plain": [
              "                                          user_input  \\\n",
              "0  What role does the Department of Health and Hu...   \n",
              "1  Cud yu pleese explane wut § 50.24 is in the ko...   \n",
              "2  Wht is the role of the FDA in the review of ma...   \n",
              "3  Could you elaborate on the specific sections o...   \n",
              "4  Cud yu pleese explane wut 21 CFR Part 312 is a...   \n",
              "5  What happens if FDA thinks people might get hu...   \n",
              "6  What are the conditions under which an investi...   \n",
              "7  What 21 CFR 312.31 and 21 CFR 312.160(c) say a...   \n",
              "8  What are the requirements under 21 CFR 312.23(...   \n",
              "9  What 21 CFR 312.22(b) and 21 CFR 312.70(b) say...   \n",
              "\n",
              "                                  retrieved_contexts  \\\n",
              "0  [Department of Health and Human Services, 200 ...   \n",
              "1  [immediate hazards to the human subjects.\\n21 ...   \n",
              "2  [a marketing application are being assembled b...   \n",
              "3  [§ 312.23 IND content and format.\\n(b) The amo...   \n",
              "4  [the study.\\n21 CFR Part 312 (up to date as of...   \n",
              "5  [(b) Grounds for termination —\\n(1) Phase 1. F...   \n",
              "6  [(b) Exports. An investigational new drug may ...   \n",
              "7  [the study.\\n21 CFR Part 312 (up to date as of...   \n",
              "8  [21 CFR Part 312 (up to date as of 1/23/2025)\\...   \n",
              "9  [21 CFR Part 312 (up to date as of 1/23/2025)\\...   \n",
              "\n",
              "                                  reference_contexts  \\\n",
              "0  [Title 21 —Food and Drugs\\nChapter I —Food and...   \n",
              "1  [§ 312.53 Selecting investigators and monitors...   \n",
              "2  [§ 312.69 Handling of controlled substances.\\n...   \n",
              "3  [§ 312.86 Focused FDA regulatory research.\\n§ ...   \n",
              "4  [§ 312.315 Intermediate-size patient populatio...   \n",
              "5  [<1-hop>\\n\\n(b) Grounds for termination —\\n(1)...   \n",
              "6  [<1-hop>\\n\\n(b) Exports. An investigational ne...   \n",
              "7  [<1-hop>\\n\\ndisposition does not expose humans...   \n",
              "8  [<1-hop>\\n\\nat a frequency different than that...   \n",
              "9  [<1-hop>\\n\\ninvestigator, the sponsor of any i...   \n",
              "\n",
              "                                            response  \\\n",
              "0  The Department of Health and Human Services (H...   \n",
              "1  § 50.24 pertains to emergency research and out...   \n",
              "2  The role of the FDA in the review of marketing...   \n",
              "3  The specific sections of the regulations that ...   \n",
              "4  21 CFR Part 312 is a section of the Code of Fe...   \n",
              "5  If the FDA finds that human subjects would be ...   \n",
              "6  An investigational new drug may be exported fr...   \n",
              "7                                     I do not know.   \n",
              "8                                     I do not know.   \n",
              "9                                     I do not know.   \n",
              "\n",
              "                                           reference  \\\n",
              "0  The Department of Health and Human Services, t...   \n",
              "1  § 50.24 is referenced in the context of emerge...   \n",
              "2  The FDA conducts a risk-benefit analysis in th...   \n",
              "3  The regulations specify that § 312.130 address...   \n",
              "4  21 CFR Part 312 pertains to the Investigationa...   \n",
              "5  If the FDA finds that human subjects would be ...   \n",
              "6  An investigational new drug may be exported fr...   \n",
              "7  21 CFR 312.31 provides examples of medical eve...   \n",
              "8  Under 21 CFR 312.23(a)(5)(iii), the requiremen...   \n",
              "9  21 CFR 312.22(b) outlines the requirements for...   \n",
              "\n",
              "                       synthesizer_name  \n",
              "0  single_hop_specifc_query_synthesizer  \n",
              "1  single_hop_specifc_query_synthesizer  \n",
              "2  single_hop_specifc_query_synthesizer  \n",
              "3  single_hop_specifc_query_synthesizer  \n",
              "4  single_hop_specifc_query_synthesizer  \n",
              "5  multi_hop_specific_query_synthesizer  \n",
              "6  multi_hop_specific_query_synthesizer  \n",
              "7  multi_hop_specific_query_synthesizer  \n",
              "8  multi_hop_specific_query_synthesizer  \n",
              "9  multi_hop_specific_query_synthesizer  "
            ]
          },
          "execution_count": 128,
          "metadata": {},
          "output_type": "execute_result"
        }
      ],
      "source": [
        "dataset.to_pandas()"
      ]
    },
    {
      "cell_type": "code",
      "execution_count": 129,
      "metadata": {},
      "outputs": [],
      "source": [
        "from ragas import EvaluationDataset\n",
        "\n",
        "evaluation_dataset = EvaluationDataset.from_pandas(dataset.to_pandas())"
      ]
    },
    {
      "cell_type": "code",
      "execution_count": 130,
      "metadata": {},
      "outputs": [],
      "source": [
        "from ragas import evaluate\n",
        "from ragas.llms import LangchainLLMWrapper\n",
        "\n",
        "evaluator_llm = LangchainLLMWrapper(ChatOpenAI(model=\"gpt-4o\"))"
      ]
    },
    {
      "cell_type": "code",
      "execution_count": 131,
      "metadata": {},
      "outputs": [
        {
          "data": {
            "application/vnd.jupyter.widget-view+json": {
              "model_id": "00f7847ab2a04c37b66bad09ce869247",
              "version_major": 2,
              "version_minor": 0
            },
            "text/plain": [
              "Evaluating:   0%|          | 0/70 [00:00<?, ?it/s]"
            ]
          },
          "metadata": {},
          "output_type": "display_data"
        },
        {
          "name": "stderr",
          "output_type": "stream",
          "text": [
            "Exception raised in Job[51]: TypeError(ufunc 'invert' not supported for the input types, and the inputs could not be safely coerced to any supported types according to the casting rule ''safe'')\n",
            "Exception raised in Job[58]: TypeError(ufunc 'invert' not supported for the input types, and the inputs could not be safely coerced to any supported types according to the casting rule ''safe'')\n",
            "Exception raised in Job[65]: TypeError(ufunc 'invert' not supported for the input types, and the inputs could not be safely coerced to any supported types according to the casting rule ''safe'')\n"
          ]
        },
        {
          "data": {
            "text/plain": [
              "{'context_recall': 0.4500, 'faithfulness': 0.5884, 'factual_correctness': 0.2543, 'answer_relevancy': 0.5698, 'context_entity_recall': 0.5098, 'noise_sensitivity_relevant': 0.1495, 'context_precision': 0.2525}"
            ]
          },
          "execution_count": 131,
          "metadata": {},
          "output_type": "execute_result"
        }
      ],
      "source": [
        "from ragas.metrics import LLMContextRecall, Faithfulness, FactualCorrectness, ResponseRelevancy, ContextEntityRecall, NoiseSensitivity, ContextPrecision\n",
        "from ragas import evaluate, RunConfig\n",
        "\n",
        "custom_run_config = RunConfig(timeout=360)\n",
        "\n",
        "result = evaluate(\n",
        "    dataset=evaluation_dataset,\n",
        "    metrics=[LLMContextRecall(), Faithfulness(), FactualCorrectness(), ResponseRelevancy(), ContextEntityRecall(), NoiseSensitivity(), ContextPrecision()],\n",
        "    llm=evaluator_llm,\n",
        "    run_config=custom_run_config\n",
        ")\n",
        "result"
      ]
    },
    {
      "cell_type": "markdown",
      "metadata": {},
      "source": [
        "## Test with fine-tuned embedding model"
      ]
    },
    {
      "cell_type": "code",
      "execution_count": 132,
      "metadata": {},
      "outputs": [],
      "source": [
        "for test_row in dataset:\n",
        "  \n",
        "  response = finetune_rag_chain.invoke({\"question\" : test_row.eval_sample.user_input})\n",
        "\n",
        "  test_row.eval_sample.response = response[\"response\"]\n",
        "  test_row.eval_sample.retrieved_contexts = [context.page_content for context in response[\"context\"]]"
      ]
    },
    {
      "cell_type": "code",
      "execution_count": 133,
      "metadata": {},
      "outputs": [
        {
          "data": {
            "text/html": [
              "<div>\n",
              "<style scoped>\n",
              "    .dataframe tbody tr th:only-of-type {\n",
              "        vertical-align: middle;\n",
              "    }\n",
              "\n",
              "    .dataframe tbody tr th {\n",
              "        vertical-align: top;\n",
              "    }\n",
              "\n",
              "    .dataframe thead th {\n",
              "        text-align: right;\n",
              "    }\n",
              "</style>\n",
              "<table border=\"1\" class=\"dataframe\">\n",
              "  <thead>\n",
              "    <tr style=\"text-align: right;\">\n",
              "      <th></th>\n",
              "      <th>user_input</th>\n",
              "      <th>retrieved_contexts</th>\n",
              "      <th>reference_contexts</th>\n",
              "      <th>response</th>\n",
              "      <th>reference</th>\n",
              "      <th>synthesizer_name</th>\n",
              "    </tr>\n",
              "  </thead>\n",
              "  <tbody>\n",
              "    <tr>\n",
              "      <th>0</th>\n",
              "      <td>What role does the Department of Health and Hu...</td>\n",
              "      <td>[Department of Health and Human Services, 200 ...</td>\n",
              "      <td>[Title 21 —Food and Drugs\\nChapter I —Food and...</td>\n",
              "      <td>The Department of Health and Human Services (H...</td>\n",
              "      <td>The Department of Health and Human Services, t...</td>\n",
              "      <td>single_hop_specifc_query_synthesizer</td>\n",
              "    </tr>\n",
              "    <tr>\n",
              "      <th>1</th>\n",
              "      <td>Cud yu pleese explane wut § 50.24 is in the ko...</td>\n",
              "      <td>[[52 FR 8831, Mar. 19, 1987, as amended at 52 ...</td>\n",
              "      <td>[§ 312.53 Selecting investigators and monitors...</td>\n",
              "      <td>§ 50.24 pertains to emergency research and out...</td>\n",
              "      <td>§ 50.24 is referenced in the context of emerge...</td>\n",
              "      <td>single_hop_specifc_query_synthesizer</td>\n",
              "    </tr>\n",
              "    <tr>\n",
              "      <th>2</th>\n",
              "      <td>Wht is the role of the FDA in the review of ma...</td>\n",
              "      <td>[drug in pediatric patients. For drugs for lif...</td>\n",
              "      <td>[§ 312.69 Handling of controlled substances.\\n...</td>\n",
              "      <td>The FDA's role in the review of marketing appl...</td>\n",
              "      <td>The FDA conducts a risk-benefit analysis in th...</td>\n",
              "      <td>single_hop_specifc_query_synthesizer</td>\n",
              "    </tr>\n",
              "    <tr>\n",
              "      <th>3</th>\n",
              "      <td>Could you elaborate on the specific sections o...</td>\n",
              "      <td>[(b) The availability for public disclosure of...</td>\n",
              "      <td>[§ 312.86 Focused FDA regulatory research.\\n§ ...</td>\n",
              "      <td>The specific sections of the regulations that ...</td>\n",
              "      <td>The regulations specify that § 312.130 address...</td>\n",
              "      <td>single_hop_specifc_query_synthesizer</td>\n",
              "    </tr>\n",
              "    <tr>\n",
              "      <th>4</th>\n",
              "      <td>Cud yu pleese explane wut 21 CFR Part 312 is a...</td>\n",
              "      <td>[21 CFR Part 312 (up to date as of 1/23/2025)\\...</td>\n",
              "      <td>[§ 312.315 Intermediate-size patient populatio...</td>\n",
              "      <td>21 CFR Part 312 is a section of the Code of Fe...</td>\n",
              "      <td>21 CFR Part 312 pertains to the Investigationa...</td>\n",
              "      <td>single_hop_specifc_query_synthesizer</td>\n",
              "    </tr>\n",
              "    <tr>\n",
              "      <th>5</th>\n",
              "      <td>What happens if FDA thinks people might get hu...</td>\n",
              "      <td>[between FDA and the sponsor of the overall pl...</td>\n",
              "      <td>[&lt;1-hop&gt;\\n\\n(b) Grounds for termination —\\n(1)...</td>\n",
              "      <td>If the FDA thinks that human subjects might be...</td>\n",
              "      <td>If the FDA finds that human subjects would be ...</td>\n",
              "      <td>multi_hop_specific_query_synthesizer</td>\n",
              "    </tr>\n",
              "    <tr>\n",
              "      <th>6</th>\n",
              "      <td>What are the conditions under which an investi...</td>\n",
              "      <td>[(b) Exports. An investigational new drug may ...</td>\n",
              "      <td>[&lt;1-hop&gt;\\n\\n(b) Exports. An investigational ne...</td>\n",
              "      <td>An investigational new drug (IND) may be expor...</td>\n",
              "      <td>An investigational new drug may be exported fr...</td>\n",
              "      <td>multi_hop_specific_query_synthesizer</td>\n",
              "    </tr>\n",
              "    <tr>\n",
              "      <th>7</th>\n",
              "      <td>What 21 CFR 312.31 and 21 CFR 312.160(c) say a...</td>\n",
              "      <td>[21 CFR Part 312 (up to date as of 1/23/2025)\\...</td>\n",
              "      <td>[&lt;1-hop&gt;\\n\\ndisposition does not expose humans...</td>\n",
              "      <td>I do not know.</td>\n",
              "      <td>21 CFR 312.31 provides examples of medical eve...</td>\n",
              "      <td>multi_hop_specific_query_synthesizer</td>\n",
              "    </tr>\n",
              "    <tr>\n",
              "      <th>8</th>\n",
              "      <td>What are the requirements under 21 CFR 312.23(...</td>\n",
              "      <td>[the study.\\n21 CFR Part 312 (up to date as of...</td>\n",
              "      <td>[&lt;1-hop&gt;\\n\\nat a frequency different than that...</td>\n",
              "      <td>I do not know.</td>\n",
              "      <td>Under 21 CFR 312.23(a)(5)(iii), the requiremen...</td>\n",
              "      <td>multi_hop_specific_query_synthesizer</td>\n",
              "    </tr>\n",
              "    <tr>\n",
              "      <th>9</th>\n",
              "      <td>What 21 CFR 312.22(b) and 21 CFR 312.70(b) say...</td>\n",
              "      <td>[21 CFR Part 312 (up to date as of 1/23/2025)\\...</td>\n",
              "      <td>[&lt;1-hop&gt;\\n\\ninvestigator, the sponsor of any i...</td>\n",
              "      <td>I do not know.</td>\n",
              "      <td>21 CFR 312.22(b) outlines the requirements for...</td>\n",
              "      <td>multi_hop_specific_query_synthesizer</td>\n",
              "    </tr>\n",
              "  </tbody>\n",
              "</table>\n",
              "</div>"
            ],
            "text/plain": [
              "                                          user_input  \\\n",
              "0  What role does the Department of Health and Hu...   \n",
              "1  Cud yu pleese explane wut § 50.24 is in the ko...   \n",
              "2  Wht is the role of the FDA in the review of ma...   \n",
              "3  Could you elaborate on the specific sections o...   \n",
              "4  Cud yu pleese explane wut 21 CFR Part 312 is a...   \n",
              "5  What happens if FDA thinks people might get hu...   \n",
              "6  What are the conditions under which an investi...   \n",
              "7  What 21 CFR 312.31 and 21 CFR 312.160(c) say a...   \n",
              "8  What are the requirements under 21 CFR 312.23(...   \n",
              "9  What 21 CFR 312.22(b) and 21 CFR 312.70(b) say...   \n",
              "\n",
              "                                  retrieved_contexts  \\\n",
              "0  [Department of Health and Human Services, 200 ...   \n",
              "1  [[52 FR 8831, Mar. 19, 1987, as amended at 52 ...   \n",
              "2  [drug in pediatric patients. For drugs for lif...   \n",
              "3  [(b) The availability for public disclosure of...   \n",
              "4  [21 CFR Part 312 (up to date as of 1/23/2025)\\...   \n",
              "5  [between FDA and the sponsor of the overall pl...   \n",
              "6  [(b) Exports. An investigational new drug may ...   \n",
              "7  [21 CFR Part 312 (up to date as of 1/23/2025)\\...   \n",
              "8  [the study.\\n21 CFR Part 312 (up to date as of...   \n",
              "9  [21 CFR Part 312 (up to date as of 1/23/2025)\\...   \n",
              "\n",
              "                                  reference_contexts  \\\n",
              "0  [Title 21 —Food and Drugs\\nChapter I —Food and...   \n",
              "1  [§ 312.53 Selecting investigators and monitors...   \n",
              "2  [§ 312.69 Handling of controlled substances.\\n...   \n",
              "3  [§ 312.86 Focused FDA regulatory research.\\n§ ...   \n",
              "4  [§ 312.315 Intermediate-size patient populatio...   \n",
              "5  [<1-hop>\\n\\n(b) Grounds for termination —\\n(1)...   \n",
              "6  [<1-hop>\\n\\n(b) Exports. An investigational ne...   \n",
              "7  [<1-hop>\\n\\ndisposition does not expose humans...   \n",
              "8  [<1-hop>\\n\\nat a frequency different than that...   \n",
              "9  [<1-hop>\\n\\ninvestigator, the sponsor of any i...   \n",
              "\n",
              "                                            response  \\\n",
              "0  The Department of Health and Human Services (H...   \n",
              "1  § 50.24 pertains to emergency research and out...   \n",
              "2  The FDA's role in the review of marketing appl...   \n",
              "3  The specific sections of the regulations that ...   \n",
              "4  21 CFR Part 312 is a section of the Code of Fe...   \n",
              "5  If the FDA thinks that human subjects might be...   \n",
              "6  An investigational new drug (IND) may be expor...   \n",
              "7                                     I do not know.   \n",
              "8                                     I do not know.   \n",
              "9                                     I do not know.   \n",
              "\n",
              "                                           reference  \\\n",
              "0  The Department of Health and Human Services, t...   \n",
              "1  § 50.24 is referenced in the context of emerge...   \n",
              "2  The FDA conducts a risk-benefit analysis in th...   \n",
              "3  The regulations specify that § 312.130 address...   \n",
              "4  21 CFR Part 312 pertains to the Investigationa...   \n",
              "5  If the FDA finds that human subjects would be ...   \n",
              "6  An investigational new drug may be exported fr...   \n",
              "7  21 CFR 312.31 provides examples of medical eve...   \n",
              "8  Under 21 CFR 312.23(a)(5)(iii), the requiremen...   \n",
              "9  21 CFR 312.22(b) outlines the requirements for...   \n",
              "\n",
              "                       synthesizer_name  \n",
              "0  single_hop_specifc_query_synthesizer  \n",
              "1  single_hop_specifc_query_synthesizer  \n",
              "2  single_hop_specifc_query_synthesizer  \n",
              "3  single_hop_specifc_query_synthesizer  \n",
              "4  single_hop_specifc_query_synthesizer  \n",
              "5  multi_hop_specific_query_synthesizer  \n",
              "6  multi_hop_specific_query_synthesizer  \n",
              "7  multi_hop_specific_query_synthesizer  \n",
              "8  multi_hop_specific_query_synthesizer  \n",
              "9  multi_hop_specific_query_synthesizer  "
            ]
          },
          "execution_count": 133,
          "metadata": {},
          "output_type": "execute_result"
        }
      ],
      "source": [
        "dataset.to_pandas()"
      ]
    },
    {
      "cell_type": "code",
      "execution_count": 134,
      "metadata": {},
      "outputs": [],
      "source": [
        "from ragas import EvaluationDataset\n",
        "\n",
        "evaluation_dataset = EvaluationDataset.from_pandas(dataset.to_pandas())"
      ]
    },
    {
      "cell_type": "code",
      "execution_count": 135,
      "metadata": {},
      "outputs": [
        {
          "data": {
            "application/vnd.jupyter.widget-view+json": {
              "model_id": "051d11112dd7434f9b5f459a33a6b07d",
              "version_major": 2,
              "version_minor": 0
            },
            "text/plain": [
              "Evaluating:   0%|          | 0/70 [00:00<?, ?it/s]"
            ]
          },
          "metadata": {},
          "output_type": "display_data"
        },
        {
          "name": "stderr",
          "output_type": "stream",
          "text": [
            "Exception raised in Job[65]: TypeError(ufunc 'invert' not supported for the input types, and the inputs could not be safely coerced to any supported types according to the casting rule ''safe'')\n"
          ]
        },
        {
          "data": {
            "text/plain": [
              "{'context_recall': 0.6000, 'faithfulness': 0.5482, 'factual_correctness': 0.2100, 'answer_relevancy': 0.6604, 'context_entity_recall': 0.4807, 'noise_sensitivity_relevant': 0.2538, 'context_precision': 0.3422}"
            ]
          },
          "execution_count": 135,
          "metadata": {},
          "output_type": "execute_result"
        }
      ],
      "source": [
        "from ragas.metrics import LLMContextRecall, Faithfulness, FactualCorrectness, ResponseRelevancy, ContextEntityRecall, NoiseSensitivity, ContextPrecision\n",
        "from ragas import evaluate, RunConfig\n",
        "\n",
        "custom_run_config = RunConfig(timeout=360)\n",
        "\n",
        "result = evaluate(\n",
        "    dataset=evaluation_dataset,\n",
        "    metrics=[LLMContextRecall(), Faithfulness(), FactualCorrectness(), ResponseRelevancy(), ContextEntityRecall(), NoiseSensitivity(), ContextPrecision()],\n",
        "    llm=evaluator_llm,\n",
        "    run_config=custom_run_config\n",
        ")\n",
        "result"
      ]
    },
    {
      "cell_type": "code",
      "execution_count": 136,
      "metadata": {},
      "outputs": [
        {
          "data": {
            "image/png": "[encoded data removed]",
            "text/plain": [
              "<Figure size 1000x600 with 1 Axes>"
            ]
          },
          "metadata": {},
          "output_type": "display_data"
        }
      ],
      "source": [
        "import pandas as pd\n",
        "import matplotlib.pyplot as plt\n",
        "\n",
        "# Data\n",
        "data = {\n",
        "    'Metric': ['Context Recall', 'Faithfulness', 'Factual Correctness', 'Answer Relevancy', 'Context Entity Recall', 'Noise Sensitivity (Relevant)', 'Context Precision'],\n",
        "    'base embeddings': [0.4500, 0.5884, 0.2543, 0.5698, 0.5098, 0.1495, 0.2525],\n",
        "    'fine-tune embeddings': [0.6000, 0.5482, 0.2100, 0.6604, 0.4807, 0.2538, 0.3422]\n",
        "}\n",
        "\n",
        "df = pd.DataFrame(data)\n",
        "df = df.set_index('Metric')\n",
        "\n",
        "# Plotting\n",
        "ax = df.plot(kind='bar', figsize=(10, 6), rot=45)\n",
        "\n",
        "# Add labels and title\n",
        "plt.title('Comparison of RAG Pipeline Results')\n",
        "plt.xlabel('Metrics')\n",
        "plt.ylabel('Score')\n",
        "\n",
        "# Add value labels on top of the bars\n",
        "for p in ax.patches:\n",
        "    ax.annotate(f'{p.get_height():.4f}', (p.get_x() + p.get_width() / 2., p.get_height()),\n",
        "                ha='center', va='center', xytext=(0, 10), textcoords='offset points')\n",
        "\n",
        "# Show the plot\n",
        "plt.tight_layout()\n",
        "plt.show()"
      ]
    }
  ],
  "metadata": {
    "accelerator": "TPU",
    "colab": {
      "gpuType": "V28",
      "machine_shape": "hm",
      "provenance": []
    },
    "kernelspec": {
      "display_name": "Python 3",
      "name": "python3"
    },
    "language_info": {
      "codemirror_mode": {
        "name": "ipython",
        "version": 3
      },
      "file_extension": ".py",
      "mimetype": "text/x-python",
      "name": "python",
      "nbconvert_exporter": "python",
      "pygments_lexer": "ipython3",
      "version": "3.13.1"
    }
    
  },
  "nbformat": 4,
  "nbformat_minor": 0
}
