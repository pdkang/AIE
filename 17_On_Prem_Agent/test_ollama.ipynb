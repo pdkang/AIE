{
 "cells": [
  {
   "cell_type": "code",
   "execution_count": 1,
   "metadata": {},
   "outputs": [],
   "source": [
    "from langchain_ollama import ChatOllama\n",
    "\n",
    "llm = ChatOllama(model=\"deepseek-r1:8b\")"
   ]
  },
  {
   "cell_type": "code",
   "execution_count": 2,
   "metadata": {},
   "outputs": [
    {
     "name": "stdout",
     "output_type": "stream",
     "text": [
      "<think>\n",
      "First, I recognize that finding the cube root of a number involves identifying what number multiplies itself three times to equal the original number.\n",
      "\n",
      "Next, I consider that 27 can be expressed as 3 multiplied by itself three times (3 × 3 × 3).\n",
      "\n",
      "Therefore, the cube root of 27 is 3.\n",
      "</think>\n",
      "\n",
      "To find the **cube root** of **27**, follow these simple steps:\n",
      "\n",
      "1. **Understand What a Cube Root Is:**\n",
      "   \n",
      "   The cube root of a number \\( x \\) is a number \\( y \\) such that:\n",
      "   \\[\n",
      "   y^3 = x\n",
      "   \\]\n",
      "   In other words, \\( y \\) multiplied by itself three times equals \\( x \\).\n",
      "\n",
      "2. **Apply the Definition to Find the Cube Root of 27:**\n",
      "   \n",
      "   Let's find \\( y \\) in the equation:\n",
      "   \\[\n",
      "   y^3 = 27\n",
      "   \\]\n",
      "   \n",
      "3. **Solve for \\( y \\):**\n",
      "   \n",
      "   We know that:\n",
      "   \\[\n",
      "   3^3 = 3 \\times 3 \\times 3 = 27\n",
      "   \\]\n",
      "   \n",
      "4. **Conclusion:**\n",
      "   \n",
      "   Therefore, the cube root of 27 is:\n",
      "   \\[\n",
      "   \\boxed{3}\n",
      "   \\]"
     ]
    }
   ],
   "source": [
    "for chunk in llm.stream(\"What is the 3rd root of 27?\"):\n",
    "    print(chunk.content, end=\"\")"
   ]
  }
 ],
 "metadata": {
  "kernelspec": {
   "display_name": ".venv",
   "language": "python",
   "name": "python3"
  },
  "language_info": {
   "codemirror_mode": {
    "name": "ipython",
    "version": 3
   },
   "file_extension": ".py",
   "mimetype": "text/x-python",
   "name": "python",
   "nbconvert_exporter": "python",
   "pygments_lexer": "ipython3",
   "version": "3.13.1"
  }
 },
 "nbformat": 4,
 "nbformat_minor": 2
}
