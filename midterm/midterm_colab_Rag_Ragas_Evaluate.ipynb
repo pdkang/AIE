{
  "cells": [
    {
      "cell_type": "code",
      "execution_count": 2,
      "metadata": {
        "colab": {
          "base_uri": "https://localhost:8080/"
        },
        "id": "sQX2JQd2cKlj",
        "outputId": "bcc7542b-0b49-4663-bf5f-84c88d4e9216"
      },
      "outputs": [],
      "source": [
        "import os\n",
        "import getpass\n",
        "\n",
        "os.environ[\"OPENAI_API_KEY\"] = getpass.getpass(\"OpenAI API Key:\")"
      ]
    },
    {
      "cell_type": "code",
      "execution_count": 3,
      "metadata": {
        "colab": {
          "base_uri": "https://localhost:8080/"
        },
        "id": "O9xYd9WIiGYZ",
        "outputId": "36f65b21-d50b-4654-e3bd-c2d14a8b9bd2"
      },
      "outputs": [],
      "source": [
        "os.environ[\"RAGAS_APP_TOKEN\"] = getpass.getpass(\"Please enter your Ragas API key!\")"
      ]
    },
    {
      "cell_type": "code",
      "execution_count": null,
      "metadata": {
        "colab": {
          "base_uri": "https://localhost:8080/"
        },
        "id": "SuU-Kw9CeV0N",
        "outputId": "ef39b03b-8e7b-4a49-cb50-2167ecd5b0a0"
      },
      "outputs": [
        {
          "name": "stdout",
          "output_type": "stream",
          "text": [
            "\u001b[?25l   \u001b[90m━━━━━━━━━━━━━━━━━━━━━━━━━━━━━━━━━━━━━━━━\u001b[0m \u001b[32m0.0/175.7 kB\u001b[0m \u001b[31m?\u001b[0m eta \u001b[36m-:--:--\u001b[0m\r\u001b[2K   \u001b[90m━━━━━━━━━━━━━━━━━━━━━━━━━━━━━━━━━━━━━━━━\u001b[0m \u001b[32m175.7/175.7 kB\u001b[0m \u001b[31m12.8 MB/s\u001b[0m eta \u001b[36m0:00:00\u001b[0m\n",
            "\u001b[?25h\u001b[?25l   \u001b[90m━━━━━━━━━━━━━━━━━━━━━━━━━━━━━━━━━━━━━━━━\u001b[0m \u001b[32m0.0/45.5 kB\u001b[0m \u001b[31m?\u001b[0m eta \u001b[36m-:--:--\u001b[0m\r\u001b[2K   \u001b[90m━━━━━━━━━━━━━━━━━━━━━━━━━━━━━━━━━━━━━━━━\u001b[0m \u001b[32m45.5/45.5 kB\u001b[0m \u001b[31m4.1 MB/s\u001b[0m eta \u001b[36m0:00:00\u001b[0m\n",
            "\u001b[?25h\u001b[?25l   \u001b[90m━━━━━━━━━━━━━━━━━━━━━━━━━━━━━━━━━━━━━━━━\u001b[0m \u001b[32m0.0/71.1 kB\u001b[0m \u001b[31m?\u001b[0m eta \u001b[36m-:--:--\u001b[0m\r\u001b[2K   \u001b[90m━━━━━━━━━━━━━━━━━━━━━━━━━━━━━━━━━━━━━━━━\u001b[0m \u001b[32m71.1/71.1 kB\u001b[0m \u001b[31m5.9 MB/s\u001b[0m eta \u001b[36m0:00:00\u001b[0m\n",
            "\u001b[?25h\u001b[?25l   \u001b[90m━━━━━━━━━━━━━━━━━━━━━━━━━━━━━━━━━━━━━━━━\u001b[0m \u001b[32m0.0/485.4 kB\u001b[0m \u001b[31m?\u001b[0m eta \u001b[36m-:--:--\u001b[0m\r\u001b[2K   \u001b[90m━━━━━━━━━━━━━━━━━━━━━━━━━━━━━━━━━━━━━━━━\u001b[0m \u001b[32m485.4/485.4 kB\u001b[0m \u001b[31m29.2 MB/s\u001b[0m eta \u001b[36m0:00:00\u001b[0m\n",
            "\u001b[2K   \u001b[90m━━━━━━━━━━━━━━━━━━━━━━━━━━━━━━━━━━━━━━━━\u001b[0m \u001b[32m2.5/2.5 MB\u001b[0m \u001b[31m60.7 MB/s\u001b[0m eta \u001b[36m0:00:00\u001b[0m\n",
            "\u001b[2K   \u001b[90m━━━━━━━━━━━━━━━━━━━━━━━━━━━━━━━━━━━━━━━━\u001b[0m \u001b[32m1.0/1.0 MB\u001b[0m \u001b[31m44.2 MB/s\u001b[0m eta \u001b[36m0:00:00\u001b[0m\n",
            "\u001b[2K   \u001b[90m━━━━━━━━━━━━━━━━━━━━━━━━━━━━━━━━━━━━━━━━\u001b[0m \u001b[32m413.7/413.7 kB\u001b[0m \u001b[31m25.7 MB/s\u001b[0m eta \u001b[36m0:00:00\u001b[0m\n",
            "\u001b[2K   \u001b[90m━━━━━━━━━━━━━━━━━━━━━━━━━━━━━━━━━━━━━━━━\u001b[0m \u001b[32m54.9/54.9 kB\u001b[0m \u001b[31m5.1 MB/s\u001b[0m eta \u001b[36m0:00:00\u001b[0m\n",
            "\u001b[2K   \u001b[90m━━━━━━━━━━━━━━━━━━━━━━━━━━━━━━━━━━━━━━━━\u001b[0m \u001b[32m1.2/1.2 MB\u001b[0m \u001b[31m39.6 MB/s\u001b[0m eta \u001b[36m0:00:00\u001b[0m\n",
            "\u001b[2K   \u001b[90m━━━━━━━━━━━━━━━━━━━━━━━━━━━━━━━━━━━━━━━━\u001b[0m \u001b[32m116.3/116.3 kB\u001b[0m \u001b[31m10.4 MB/s\u001b[0m eta \u001b[36m0:00:00\u001b[0m\n",
            "\u001b[2K   \u001b[90m━━━━━━━━━━━━━━━━━━━━━━━━━━━━━━━━━━━━━━━━\u001b[0m \u001b[32m143.5/143.5 kB\u001b[0m \u001b[31m12.2 MB/s\u001b[0m eta \u001b[36m0:00:00\u001b[0m\n",
            "\u001b[2K   \u001b[90m━━━━━━━━━━━━━━━━━━━━━━━━━━━━━━━━━━━━━━━━\u001b[0m \u001b[32m194.8/194.8 kB\u001b[0m \u001b[31m15.7 MB/s\u001b[0m eta \u001b[36m0:00:00\u001b[0m\n",
            "\u001b[2K   \u001b[90m━━━━━━━━━━━━━━━━━━━━━━━━━━━━━━━━━━━━━━━━\u001b[0m \u001b[32m50.9/50.9 kB\u001b[0m \u001b[31m4.2 MB/s\u001b[0m eta \u001b[36m0:00:00\u001b[0m\n",
            "\u001b[?25h"
          ]
        }
      ],
      "source": [
        "#!pip install -qU ragas==0.2.10"
      ]
    },
    {
      "cell_type": "code",
      "execution_count": null,
      "metadata": {
        "colab": {
          "base_uri": "https://localhost:8080/"
        },
        "id": "FVlogdK4eddV",
        "outputId": "f2b3eb1e-eb98-423f-8512-1b181086a90c"
      },
      "outputs": [
        {
          "name": "stdout",
          "output_type": "stream",
          "text": [
            "\u001b[?25l     \u001b[90m━━━━━━━━━━━━━━━━━━━━━━━━━━━━━━━━━━━━━━━━\u001b[0m \u001b[32m0.0/981.5 kB\u001b[0m \u001b[31m?\u001b[0m eta \u001b[36m-:--:--\u001b[0m\r\u001b[2K     \u001b[90m━━━━━━━━━━━━━━━━━━━━━━━━━━━━━━━━━━━━━━━━\u001b[0m \u001b[32m981.5/981.5 kB\u001b[0m \u001b[31m55.4 MB/s\u001b[0m eta \u001b[36m0:00:00\u001b[0m\n",
            "\u001b[?25h  Preparing metadata (setup.py) ... \u001b[?25l\u001b[?25hdone\n",
            "\u001b[2K   \u001b[90m━━━━━━━━━━━━━━━━━━━━━━━━━━━━━━━━━━━━━━━━\u001b[0m \u001b[32m2.5/2.5 MB\u001b[0m \u001b[31m80.4 MB/s\u001b[0m eta \u001b[36m0:00:00\u001b[0m\n",
            "\u001b[2K   \u001b[90m━━━━━━━━━━━━━━━━━━━━━━━━━━━━━━━━━━━━━━━━\u001b[0m \u001b[32m50.9/50.9 kB\u001b[0m \u001b[31m4.4 MB/s\u001b[0m eta \u001b[36m0:00:00\u001b[0m\n",
            "\u001b[2K   \u001b[90m━━━━━━━━━━━━━━━━━━━━━━━━━━━━━━━━━━━━━━━━\u001b[0m \u001b[32m1.7/1.7 MB\u001b[0m \u001b[31m67.4 MB/s\u001b[0m eta \u001b[36m0:00:00\u001b[0m\n",
            "\u001b[2K   \u001b[90m━━━━━━━━━━━━━━━━━━━━━━━━━━━━━━━━━━━━━━━━\u001b[0m \u001b[32m137.2/137.2 kB\u001b[0m \u001b[31m12.9 MB/s\u001b[0m eta \u001b[36m0:00:00\u001b[0m\n",
            "\u001b[2K   \u001b[90m━━━━━━━━━━━━━━━━━━━━━━━━━━━━━━━━━━━━━━━━\u001b[0m \u001b[32m45.4/45.4 kB\u001b[0m \u001b[31m3.7 MB/s\u001b[0m eta \u001b[36m0:00:00\u001b[0m\n",
            "\u001b[2K   \u001b[90m━━━━━━━━━━━━━━━━━━━━━━━━━━━━━━━━━━━━━━━━\u001b[0m \u001b[32m326.9/326.9 kB\u001b[0m \u001b[31m25.5 MB/s\u001b[0m eta \u001b[36m0:00:00\u001b[0m\n",
            "\u001b[2K   \u001b[90m━━━━━━━━━━━━━━━━━━━━━━━━━━━━━━━━━━━━━━━━\u001b[0m \u001b[32m306.6/306.6 kB\u001b[0m \u001b[31m21.6 MB/s\u001b[0m eta \u001b[36m0:00:00\u001b[0m\n",
            "\u001b[2K   \u001b[90m━━━━━━━━━━━━━━━━━━━━━━━━━━━━━━━━━━━━━━━━\u001b[0m \u001b[32m590.6/590.6 kB\u001b[0m \u001b[31m39.7 MB/s\u001b[0m eta \u001b[36m0:00:00\u001b[0m\n",
            "\u001b[2K   \u001b[90m━━━━━━━━━━━━━━━━━━━━━━━━━━━━━━━━━━━━━━━━\u001b[0m \u001b[32m167.6/167.6 kB\u001b[0m \u001b[31m14.8 MB/s\u001b[0m eta \u001b[36m0:00:00\u001b[0m\n",
            "\u001b[2K   \u001b[90m━━━━━━━━━━━━━━━━━━━━━━━━━━━━━━━━━━━━━━━━\u001b[0m \u001b[32m3.1/3.1 MB\u001b[0m \u001b[31m85.1 MB/s\u001b[0m eta \u001b[36m0:00:00\u001b[0m\n",
            "\u001b[2K   \u001b[90m━━━━━━━━━━━━━━━━━━━━━━━━━━━━━━━━━━━━━━━━\u001b[0m \u001b[32m113.6/113.6 kB\u001b[0m \u001b[31m10.3 MB/s\u001b[0m eta \u001b[36m0:00:00\u001b[0m\n",
            "\u001b[2K   \u001b[90m━━━━━━━━━━━━━━━━━━━━━━━━━━━━━━━━━━━━━━━━\u001b[0m \u001b[32m2.5/2.5 MB\u001b[0m \u001b[31m67.2 MB/s\u001b[0m eta \u001b[36m0:00:00\u001b[0m\n",
            "\u001b[2K   \u001b[90m━━━━━━━━━━━━━━━━━━━━━━━━━━━━━━━━━━━━━━━━\u001b[0m \u001b[32m300.7/300.7 kB\u001b[0m \u001b[31m25.1 MB/s\u001b[0m eta \u001b[36m0:00:00\u001b[0m\n",
            "\u001b[2K   \u001b[90m━━━━━━━━━━━━━━━━━━━━━━━━━━━━━━━━━━━━━━━━\u001b[0m \u001b[32m114.6/114.6 kB\u001b[0m \u001b[31m10.8 MB/s\u001b[0m eta \u001b[36m0:00:00\u001b[0m\n",
            "\u001b[2K   \u001b[90m━━━━━━━━━━━━━━━━━━━━━━━━━━━━━━━━━━━━━━━━\u001b[0m \u001b[32m319.7/319.7 kB\u001b[0m \u001b[31m24.8 MB/s\u001b[0m eta \u001b[36m0:00:00\u001b[0m\n",
            "\u001b[?25h  Building wheel for langdetect (setup.py) ... \u001b[?25l\u001b[?25hdone\n"
          ]
        }
      ],
      "source": [
        "#!pip install -qU langchain-community==0.3.14 langchain-openai==0.2.14 unstructured==0.16.12 langgraph==0.2.61 langchain-qdrant==0.2.0"
      ]
    },
    {
      "cell_type": "code",
      "execution_count": 4,
      "metadata": {
        "colab": {
          "base_uri": "https://localhost:8080/"
        },
        "id": "2nG-uFfdg_FM",
        "outputId": "2f4c1b06-4976-4770-c7b4-070e7ef3df3d"
      },
      "outputs": [
        {
          "name": "stderr",
          "output_type": "stream",
          "text": [
            "[nltk_data] Downloading package punkt_tab to /home/pkang/nltk_data...\n",
            "[nltk_data]   Package punkt_tab is already up-to-date!\n",
            "[nltk_data] Downloading package averaged_perceptron_tagger_eng to\n",
            "[nltk_data]     /home/pkang/nltk_data...\n",
            "[nltk_data]   Package averaged_perceptron_tagger_eng is already up-to-\n",
            "[nltk_data]       date!\n"
          ]
        },
        {
          "data": {
            "text/plain": [
              "True"
            ]
          },
          "execution_count": 4,
          "metadata": {},
          "output_type": "execute_result"
        }
      ],
      "source": [
        "\n",
        "import nltk\n",
        "nltk.download('punkt_tab')\n",
        "nltk.download('averaged_perceptron_tagger_eng')"
      ]
    },
    {
      "cell_type": "code",
      "execution_count": 5,
      "metadata": {
        "colab": {
          "base_uri": "https://localhost:8080/",
          "height": 664
        },
        "id": "Fd5VHNv4cr3X",
        "outputId": "d8034940-aa1c-49e1-da12-c3b416ad4f4a"
      },
      "outputs": [],
      "source": [
        "import os\n",
        "from langchain.document_loaders import DirectoryLoader, PyPDFLoader\n",
        "\n",
        "pdf_path = \"pdf/\"\n",
        "loader = DirectoryLoader(pdf_path, loader_cls=PyPDFLoader)\n",
        "docs = loader.load()"
      ]
    },
    {
      "cell_type": "code",
      "execution_count": 6,
      "metadata": {
        "id": "a3dZqRvgfeEE"
      },
      "outputs": [],
      "source": [
        "from ragas.llms import LangchainLLMWrapper\n",
        "from ragas.embeddings import LangchainEmbeddingsWrapper\n",
        "from langchain_openai import ChatOpenAI\n",
        "from langchain_openai import OpenAIEmbeddings\n",
        "generator_llm = LangchainLLMWrapper(ChatOpenAI(model=\"gpt-4o\"))\n",
        "generator_embeddings = LangchainEmbeddingsWrapper(OpenAIEmbeddings())"
      ]
    },
    {
      "cell_type": "code",
      "execution_count": 7,
      "metadata": {
        "colab": {
          "base_uri": "https://localhost:8080/",
          "height": 1000,
          "referenced_widgets": [
            "69e68ba5cfb34c9fbf8c9d3e3e6e5324",
            "6fa386122711441db93cd17d49685b78",
            "1932fc2750a94a19a1c45bd6c0825979",
            "71317f7018b141cdb204735098dde669",
            "bc8eb468700f425fa3a603210d7f49cd",
            "78784e3f288043089c0ef099f164cc17",
            "71813ddbd5f344b1a148a984ab9150c2",
            "9b6e39d3180e456d8a933a841b9fb534",
            "3dd9db77d53744aea70608db7aeaad73",
            "5e45db201de340249717bef27a337f5a",
            "8076f1d41874440db687f7c9ee1ed2d4",
            "fe3875d47c3c4d39baadc31d85eaffbc",
            "b2b1d3e10ba84138a911025c1cb21069",
            "ab0d898544fc4bf9b291ef499ba4ce0b",
            "c6d98f60491e45339564e25cb65a1131",
            "f009484867b94f1585503b58e285f294",
            "503f2fa885f540d8bc8cbcdbc44664a7",
            "5a0c54f067374c3ab97bae3017ff3995",
            "98a472bbe7a84aaf82777bd78146354b",
            "b687d35dbe1d4599b6c25fffaa5ea421",
            "9197ae5a632b4438a894cf717c182406",
            "a7d0ff394bd844f5894533fd84e6904c",
            "3809e81ba1c547908799597ccdb50322",
            "b0d07f35083245e689cf52572a24d18f",
            "f9dc4122f69d4c67a38420c43d6b9179",
            "1b81ad40f9df4ec39e5739c0d4a76e2c",
            "7767542e9d9c43ef92e5385c10ade24a",
            "36ab159dde3042f4aa1fdb51375e030f",
            "12a361400f984d9e8c3d1f59daf4b115",
            "7a3b767fabfa4bcc80fef4608b5494b3",
            "7be27d978e0d4111bfc343704b306265",
            "1c61d125dc1a41cdb20b741fe10656d1",
            "31839a7d09bc432b9044e91b6d24fe43",
            "0651ece1e981492e8c4ceaa84ab072a9",
            "6bdea9b7ee314ad1a638004a4e58f623",
            "6d6d31518ec44b569333408649152dbf",
            "dea0bbb22e074bbeb47437e7f10f55fb",
            "3a9dc288386740a7bde9fb25228b27e4",
            "f17cee323bc44af3828b436aa94aee0c",
            "93b63b5f85fd4a9f8747bc4e3ac0125a",
            "340a0632f1be4c5b974b4765c741162e",
            "ff3559046fad410f98ff135964310f92",
            "8cf48310dac848c4ab772a6571aa6742",
            "ddc193a918e049eea517f480bea8c241",
            "20131ae0565e410481df08ff507976b3",
            "328b63e514ec413d8cba7d50d981bd7c",
            "75f9fdbaf2184570be0d796851ce7545",
            "f869f4eb512c48fa9c593f103a9e2b7b",
            "3dbefdce494d45988559410b3acb690b",
            "78e3b0dfbdfb40e586a835c2ecb36464",
            "f82ff519e10b40c9890f7026d60a6119",
            "7f68341eeddf481b98c6e5252ece9fa8",
            "2e623126556b4475abebaada73e991cb",
            "464ab745348b4bf8ac532361ba1ccb86",
            "2b50e23de5584eb3a78c07ba470eaeff",
            "c6b900f021c1454da826f0283fd1adf6",
            "600c120ffa5946ba9d8c10380ab5ce49",
            "5493db6af6e64a91a3ad54be3a3ba6e7",
            "8a570e34a8724164948f3e39afd9ccb9",
            "666857792415411b8895269c58a775db",
            "7f1125140fb94b50a80c315bdff93825",
            "7fee9b84e7634739a7fcb7e85c32a883",
            "5e2fd350539442c38dc14df50cc5e51b",
            "043f2041bba845dfa7b866d315caa50a",
            "c214d2f5e605487bb2431297582655bf",
            "3c301294f65d4230844064fb1101d91c",
            "f8182223292a4770ac068f31f3b0582f",
            "e86128e71f88446bbd8ff72477b5613c",
            "acc8fdc7539649848d8c3059060722cd",
            "a797c766031b4791b99bd58ea237cb3a",
            "662c5f4d71a4421a8006fe6283f82169",
            "53338f42c525428cb6d78cf296204310",
            "0e5667d5f5714bf592275faf0ef06346",
            "4453bab51eaf494299d0dec4b0663d27",
            "3bcd695cd9d447a0b42b11f77e4b4d56",
            "5da50602c66a4fbe9cf7633f93e86887",
            "4e047f19f86e4c1caa3f3b9ca7b83848",
            "946fe90945db4c6bb9ac1315a5cd9998",
            "eaeb6baa479046359f09f527304d8bc3",
            "774faefa77fd46258393554ca30cbd51",
            "7b366e5f543d48b188b8257ef0cadbde",
            "cc63fdbdf79640418f21ef8ab2406937",
            "2b228bf55dd14ce4beabf981ad62d32d",
            "470366f0d21d447091d8c4c8c98ec28e",
            "2546405dc70a4c6cafdff10986b1fcf1",
            "06ad2c5c413e47fb982083c5d8a2ad83",
            "892760935dba43e99d9430750d0bfba5",
            "fd75417394144df5bbc54af91f23dff7",
            "abf685f671c84180921d7f4b673d7226",
            "be3521d1085841f394416dba171b09ba",
            "fc9b02eb4f60427a82c843f8b65f0669",
            "f645cf0e035042f1b560d9ece7807f5e",
            "eac49eae0d5c4bdca862b8846f9ca38b",
            "2002e341a66f4c099d428ccdeda00179",
            "11a7939866284295814ea3e60c2c5d45",
            "1f6c908c2eab40209bb261101172d015",
            "316417cd64ce45d5b865bf10f4f3e02c",
            "5fbecbfc57164715af0c4b1966fee391",
            "a944ca04c34845ef9a5bfa72573b6708"
          ]
        },
        "id": "Gf8Bt8MtmyGI",
        "outputId": "627e9d57-e48f-4abd-be4d-d73d36519a7b"
      },
      "outputs": [
        {
          "data": {
            "application/vnd.jupyter.widget-view+json": {
              "model_id": "10665b6357da49158e59a963efd99565",
              "version_major": 2,
              "version_minor": 0
            },
            "text/plain": [
              "Applying HeadlinesExtractor:   0%|          | 0/51 [00:00<?, ?it/s]"
            ]
          },
          "metadata": {},
          "output_type": "display_data"
        },
        {
          "data": {
            "application/vnd.jupyter.widget-view+json": {
              "model_id": "c38d9f3be4c14c14a91c49b9d13da156",
              "version_major": 2,
              "version_minor": 0
            },
            "text/plain": [
              "Applying HeadlineSplitter:   0%|          | 0/54 [00:00<?, ?it/s]"
            ]
          },
          "metadata": {},
          "output_type": "display_data"
        },
        {
          "name": "stderr",
          "output_type": "stream",
          "text": [
            "unable to apply transformation: 'headlines' property not found in this node\n",
            "unable to apply transformation: 'headlines' property not found in this node\n",
            "unable to apply transformation: 'headlines' property not found in this node\n"
          ]
        },
        {
          "data": {
            "application/vnd.jupyter.widget-view+json": {
              "model_id": "60accbdbe5bd4c83b47a529609be02de",
              "version_major": 2,
              "version_minor": 0
            },
            "text/plain": [
              "Applying SummaryExtractor:   0%|          | 0/91 [00:00<?, ?it/s]"
            ]
          },
          "metadata": {},
          "output_type": "display_data"
        },
        {
          "name": "stderr",
          "output_type": "stream",
          "text": [
            "Property 'summary' already exists in node '2927df'. Skipping!\n",
            "Property 'summary' already exists in node '00d128'. Skipping!\n",
            "Property 'summary' already exists in node 'b71204'. Skipping!\n",
            "Property 'summary' already exists in node 'f8625a'. Skipping!\n",
            "Property 'summary' already exists in node 'c7aed5'. Skipping!\n",
            "Property 'summary' already exists in node '8374d3'. Skipping!\n",
            "Property 'summary' already exists in node '857060'. Skipping!\n",
            "Property 'summary' already exists in node '2b5161'. Skipping!\n",
            "Property 'summary' already exists in node '89c2a6'. Skipping!\n",
            "Property 'summary' already exists in node '179d01'. Skipping!\n",
            "Property 'summary' already exists in node 'c46c06'. Skipping!\n",
            "Property 'summary' already exists in node '4d89ad'. Skipping!\n",
            "Property 'summary' already exists in node '4dfbab'. Skipping!\n",
            "Property 'summary' already exists in node '7fc0bc'. Skipping!\n",
            "Property 'summary' already exists in node 'a4b838'. Skipping!\n",
            "Property 'summary' already exists in node '4d52f3'. Skipping!\n",
            "Property 'summary' already exists in node '8ddfb5'. Skipping!\n",
            "Property 'summary' already exists in node 'dd6bdf'. Skipping!\n",
            "Property 'summary' already exists in node 'da9438'. Skipping!\n",
            "Property 'summary' already exists in node '451e99'. Skipping!\n",
            "Property 'summary' already exists in node 'a7164c'. Skipping!\n",
            "Property 'summary' already exists in node '29587f'. Skipping!\n",
            "Property 'summary' already exists in node '05440e'. Skipping!\n",
            "Property 'summary' already exists in node 'd5c6fa'. Skipping!\n",
            "Property 'summary' already exists in node '42ab76'. Skipping!\n",
            "Property 'summary' already exists in node 'c69749'. Skipping!\n",
            "Property 'summary' already exists in node '53a5e2'. Skipping!\n",
            "Property 'summary' already exists in node '7652a6'. Skipping!\n",
            "Property 'summary' already exists in node 'cc7092'. Skipping!\n",
            "Property 'summary' already exists in node 'fe8d57'. Skipping!\n",
            "Property 'summary' already exists in node '9f1cfd'. Skipping!\n",
            "Property 'summary' already exists in node '34670d'. Skipping!\n",
            "Property 'summary' already exists in node '5c3be3'. Skipping!\n",
            "Property 'summary' already exists in node '58ef09'. Skipping!\n",
            "Property 'summary' already exists in node '09d238'. Skipping!\n",
            "Property 'summary' already exists in node '3eecd0'. Skipping!\n",
            "Property 'summary' already exists in node '65e513'. Skipping!\n",
            "Property 'summary' already exists in node 'e140b1'. Skipping!\n",
            "Property 'summary' already exists in node '8b405d'. Skipping!\n",
            "Property 'summary' already exists in node '9ce77d'. Skipping!\n"
          ]
        },
        {
          "data": {
            "application/vnd.jupyter.widget-view+json": {
              "model_id": "e2788ad9b6614e239a6db95452824580",
              "version_major": 2,
              "version_minor": 0
            },
            "text/plain": [
              "Applying CustomNodeFilter:   0%|          | 0/23 [00:00<?, ?it/s]"
            ]
          },
          "metadata": {},
          "output_type": "display_data"
        },
        {
          "data": {
            "application/vnd.jupyter.widget-view+json": {
              "model_id": "57d95358927f4374a6b58139722981ae",
              "version_major": 2,
              "version_minor": 0
            },
            "text/plain": [
              "Applying [EmbeddingExtractor, ThemesExtractor, NERExtractor]:   0%|          | 0/117 [00:00<?, ?it/s]"
            ]
          },
          "metadata": {},
          "output_type": "display_data"
        },
        {
          "name": "stderr",
          "output_type": "stream",
          "text": [
            "Property 'summary_embedding' already exists in node '2927df'. Skipping!\n",
            "Property 'summary_embedding' already exists in node '2b5161'. Skipping!\n",
            "Property 'summary_embedding' already exists in node 'b71204'. Skipping!\n",
            "Property 'summary_embedding' already exists in node '89c2a6'. Skipping!\n",
            "Property 'summary_embedding' already exists in node 'f8625a'. Skipping!\n",
            "Property 'summary_embedding' already exists in node '857060'. Skipping!\n",
            "Property 'summary_embedding' already exists in node '29587f'. Skipping!\n",
            "Property 'summary_embedding' already exists in node 'c46c06'. Skipping!\n",
            "Property 'summary_embedding' already exists in node '7fc0bc'. Skipping!\n",
            "Property 'summary_embedding' already exists in node '179d01'. Skipping!\n",
            "Property 'summary_embedding' already exists in node '8374d3'. Skipping!\n",
            "Property 'summary_embedding' already exists in node '00d128'. Skipping!\n",
            "Property 'summary_embedding' already exists in node 'c7aed5'. Skipping!\n",
            "Property 'summary_embedding' already exists in node '4d89ad'. Skipping!\n",
            "Property 'summary_embedding' already exists in node 'a4b838'. Skipping!\n",
            "Property 'summary_embedding' already exists in node '4dfbab'. Skipping!\n",
            "Property 'summary_embedding' already exists in node '42ab76'. Skipping!\n",
            "Property 'summary_embedding' already exists in node '8ddfb5'. Skipping!\n",
            "Property 'summary_embedding' already exists in node 'da9438'. Skipping!\n",
            "Property 'summary_embedding' already exists in node 'a7164c'. Skipping!\n",
            "Property 'summary_embedding' already exists in node 'c69749'. Skipping!\n",
            "Property 'summary_embedding' already exists in node '53a5e2'. Skipping!\n",
            "Property 'summary_embedding' already exists in node 'd5c6fa'. Skipping!\n",
            "Property 'summary_embedding' already exists in node '4d52f3'. Skipping!\n",
            "Property 'summary_embedding' already exists in node 'dd6bdf'. Skipping!\n",
            "Property 'summary_embedding' already exists in node '05440e'. Skipping!\n",
            "Property 'summary_embedding' already exists in node '451e99'. Skipping!\n",
            "Property 'summary_embedding' already exists in node '9f1cfd'. Skipping!\n",
            "Property 'summary_embedding' already exists in node 'cc7092'. Skipping!\n",
            "Property 'summary_embedding' already exists in node '7652a6'. Skipping!\n",
            "Property 'summary_embedding' already exists in node 'fe8d57'. Skipping!\n",
            "Property 'summary_embedding' already exists in node '9ce77d'. Skipping!\n",
            "Property 'summary_embedding' already exists in node '58ef09'. Skipping!\n",
            "Property 'summary_embedding' already exists in node '5c3be3'. Skipping!\n",
            "Property 'summary_embedding' already exists in node '34670d'. Skipping!\n",
            "Property 'summary_embedding' already exists in node '09d238'. Skipping!\n",
            "Property 'summary_embedding' already exists in node '65e513'. Skipping!\n",
            "Property 'summary_embedding' already exists in node 'e140b1'. Skipping!\n",
            "Property 'summary_embedding' already exists in node '8b405d'. Skipping!\n",
            "Property 'summary_embedding' already exists in node '3eecd0'. Skipping!\n"
          ]
        },
        {
          "data": {
            "application/vnd.jupyter.widget-view+json": {
              "model_id": "f3fc1272c1c6462f9c705a2476e4d146",
              "version_major": 2,
              "version_minor": 0
            },
            "text/plain": [
              "Applying [CosineSimilarityBuilder, OverlapScoreBuilder]:   0%|          | 0/2 [00:00<?, ?it/s]"
            ]
          },
          "metadata": {},
          "output_type": "display_data"
        },
        {
          "data": {
            "application/vnd.jupyter.widget-view+json": {
              "model_id": "c80295e28f714c579f415f371fa82fef",
              "version_major": 2,
              "version_minor": 0
            },
            "text/plain": [
              "Generating personas:   0%|          | 0/3 [00:00<?, ?it/s]"
            ]
          },
          "metadata": {},
          "output_type": "display_data"
        },
        {
          "data": {
            "application/vnd.jupyter.widget-view+json": {
              "model_id": "52dd5fbeb9734b7a968d2b813ffb3ff0",
              "version_major": 2,
              "version_minor": 0
            },
            "text/plain": [
              "Generating Scenarios:   0%|          | 0/3 [00:00<?, ?it/s]"
            ]
          },
          "metadata": {},
          "output_type": "display_data"
        },
        {
          "data": {
            "application/vnd.jupyter.widget-view+json": {
              "model_id": "97f29639db8a4a43987bac50fb39f074",
              "version_major": 2,
              "version_minor": 0
            },
            "text/plain": [
              "Generating Samples:   0%|          | 0/12 [00:00<?, ?it/s]"
            ]
          },
          "metadata": {},
          "output_type": "display_data"
        }
      ],
      "source": [
        "from ragas.testset import TestsetGenerator\n",
        "\n",
        "generator = TestsetGenerator(llm=generator_llm, embedding_model=generator_embeddings)\n",
        "dataset = generator.generate_with_langchain_docs(docs, testset_size=10)"
      ]
    },
    {
      "cell_type": "code",
      "execution_count": 8,
      "metadata": {
        "colab": {
          "base_uri": "https://localhost:8080/",
          "height": 633
        },
        "id": "EWbE8Fl8phNa",
        "outputId": "61315604-be68-459c-b7e9-747d77b862a9"
      },
      "outputs": [
        {
          "data": {
            "text/html": [
              "<div>\n",
              "<style scoped>\n",
              "    .dataframe tbody tr th:only-of-type {\n",
              "        vertical-align: middle;\n",
              "    }\n",
              "\n",
              "    .dataframe tbody tr th {\n",
              "        vertical-align: top;\n",
              "    }\n",
              "\n",
              "    .dataframe thead th {\n",
              "        text-align: right;\n",
              "    }\n",
              "</style>\n",
              "<table border=\"1\" class=\"dataframe\">\n",
              "  <thead>\n",
              "    <tr style=\"text-align: right;\">\n",
              "      <th></th>\n",
              "      <th>user_input</th>\n",
              "      <th>reference_contexts</th>\n",
              "      <th>reference</th>\n",
              "      <th>synthesizer_name</th>\n",
              "    </tr>\n",
              "  </thead>\n",
              "  <tbody>\n",
              "    <tr>\n",
              "      <th>0</th>\n",
              "      <td>Wht is 21 CFR Part 312?</td>\n",
              "      <td>[IND means an investigational new drug applica...</td>\n",
              "      <td>21 CFR Part 312 refers to the regulations gove...</td>\n",
              "      <td>single_hop_specifc_query_synthesizer</td>\n",
              "    </tr>\n",
              "    <tr>\n",
              "      <th>1</th>\n",
              "      <td>What all info needed for 21 CFR 312.23(a)(7)(i...</td>\n",
              "      <td>[Chemistry, manufacturing, and control informa...</td>\n",
              "      <td>21 CFR 312.23(a)(7)(iv)(b) requires a list of ...</td>\n",
              "      <td>single_hop_specifc_query_synthesizer</td>\n",
              "    </tr>\n",
              "    <tr>\n",
              "      <th>2</th>\n",
              "      <td>What FDA do when they put clinical hold on dru...</td>\n",
              "      <td>[§ 312.40 General requirements for use of an i...</td>\n",
              "      <td>A clinical hold is an order issued by FDA to t...</td>\n",
              "      <td>single_hop_specifc_query_synthesizer</td>\n",
              "    </tr>\n",
              "    <tr>\n",
              "      <th>3</th>\n",
              "      <td>What is the purpose of an Investigational New ...</td>\n",
              "      <td>[Grounds for imposition of clinical hold — 21 ...</td>\n",
              "      <td>The Investigational New Drug Application is go...</td>\n",
              "      <td>single_hop_specifc_query_synthesizer</td>\n",
              "    </tr>\n",
              "    <tr>\n",
              "      <th>4</th>\n",
              "      <td>What are the requirements for exporting an Inv...</td>\n",
              "      <td>[&lt;1-hop&gt;\\n\\nIND means an investigational new d...</td>\n",
              "      <td>To export an Investigational New Drug (IND) du...</td>\n",
              "      <td>multi_hop_abstract_query_synthesizer</td>\n",
              "    </tr>\n",
              "    <tr>\n",
              "      <th>5</th>\n",
              "      <td>How do clinical procedures and chemistry, manu...</td>\n",
              "      <td>[&lt;1-hop&gt;\\n\\n(g) A description of clinical proc...</td>\n",
              "      <td>Clinical procedures contribute to the complian...</td>\n",
              "      <td>multi_hop_abstract_query_synthesizer</td>\n",
              "    </tr>\n",
              "    <tr>\n",
              "      <th>6</th>\n",
              "      <td>how investigational new drug used in clinical ...</td>\n",
              "      <td>[&lt;1-hop&gt;\\n\\n§ 312.40 General requirements for ...</td>\n",
              "      <td>An investigational new drug (IND) can be used ...</td>\n",
              "      <td>multi_hop_abstract_query_synthesizer</td>\n",
              "    </tr>\n",
              "    <tr>\n",
              "      <th>7</th>\n",
              "      <td>How do the regulations outlined in § 312.61 an...</td>\n",
              "      <td>[&lt;1-hop&gt;\\n\\n§ 312.61 Control of the investigat...</td>\n",
              "      <td>The regulations outlined in § 312.61 and § 312...</td>\n",
              "      <td>multi_hop_abstract_query_synthesizer</td>\n",
              "    </tr>\n",
              "    <tr>\n",
              "      <th>8</th>\n",
              "      <td>How do the responsibilities of sponsors in mai...</td>\n",
              "      <td>[&lt;1-hop&gt;\\n\\n[52 FR 8831, Mar. 19, 1987, as ame...</td>\n",
              "      <td>Sponsors are responsible for maintaining an ef...</td>\n",
              "      <td>multi_hop_specific_query_synthesizer</td>\n",
              "    </tr>\n",
              "    <tr>\n",
              "      <th>9</th>\n",
              "      <td>What role do IRBs play in the termination of a...</td>\n",
              "      <td>[&lt;1-hop&gt;\\n\\nIND means an investigational new d...</td>\n",
              "      <td>IRBs are notified by the Commissioner when an ...</td>\n",
              "      <td>multi_hop_specific_query_synthesizer</td>\n",
              "    </tr>\n",
              "    <tr>\n",
              "      <th>10</th>\n",
              "      <td>What are the conditions under which the FDA ma...</td>\n",
              "      <td>[&lt;1-hop&gt;\\n\\n[52 FR 8831, Mar. 19, 1987, as ame...</td>\n",
              "      <td>The FDA may place a clinical hold on an IND if...</td>\n",
              "      <td>multi_hop_specific_query_synthesizer</td>\n",
              "    </tr>\n",
              "    <tr>\n",
              "      <th>11</th>\n",
              "      <td>What are the conditions under which the FDA ma...</td>\n",
              "      <td>[&lt;1-hop&gt;\\n\\n(ii) Ongoing use. FDA may place an...</td>\n",
              "      <td>The FDA may place an ongoing expanded access I...</td>\n",
              "      <td>multi_hop_specific_query_synthesizer</td>\n",
              "    </tr>\n",
              "  </tbody>\n",
              "</table>\n",
              "</div>"
            ],
            "text/plain": [
              "                                           user_input  \\\n",
              "0                             Wht is 21 CFR Part 312?   \n",
              "1   What all info needed for 21 CFR 312.23(a)(7)(i...   \n",
              "2   What FDA do when they put clinical hold on dru...   \n",
              "3   What is the purpose of an Investigational New ...   \n",
              "4   What are the requirements for exporting an Inv...   \n",
              "5   How do clinical procedures and chemistry, manu...   \n",
              "6   how investigational new drug used in clinical ...   \n",
              "7   How do the regulations outlined in § 312.61 an...   \n",
              "8   How do the responsibilities of sponsors in mai...   \n",
              "9   What role do IRBs play in the termination of a...   \n",
              "10  What are the conditions under which the FDA ma...   \n",
              "11  What are the conditions under which the FDA ma...   \n",
              "\n",
              "                                   reference_contexts  \\\n",
              "0   [IND means an investigational new drug applica...   \n",
              "1   [Chemistry, manufacturing, and control informa...   \n",
              "2   [§ 312.40 General requirements for use of an i...   \n",
              "3   [Grounds for imposition of clinical hold — 21 ...   \n",
              "4   [<1-hop>\\n\\nIND means an investigational new d...   \n",
              "5   [<1-hop>\\n\\n(g) A description of clinical proc...   \n",
              "6   [<1-hop>\\n\\n§ 312.40 General requirements for ...   \n",
              "7   [<1-hop>\\n\\n§ 312.61 Control of the investigat...   \n",
              "8   [<1-hop>\\n\\n[52 FR 8831, Mar. 19, 1987, as ame...   \n",
              "9   [<1-hop>\\n\\nIND means an investigational new d...   \n",
              "10  [<1-hop>\\n\\n[52 FR 8831, Mar. 19, 1987, as ame...   \n",
              "11  [<1-hop>\\n\\n(ii) Ongoing use. FDA may place an...   \n",
              "\n",
              "                                            reference  \\\n",
              "0   21 CFR Part 312 refers to the regulations gove...   \n",
              "1   21 CFR 312.23(a)(7)(iv)(b) requires a list of ...   \n",
              "2   A clinical hold is an order issued by FDA to t...   \n",
              "3   The Investigational New Drug Application is go...   \n",
              "4   To export an Investigational New Drug (IND) du...   \n",
              "5   Clinical procedures contribute to the complian...   \n",
              "6   An investigational new drug (IND) can be used ...   \n",
              "7   The regulations outlined in § 312.61 and § 312...   \n",
              "8   Sponsors are responsible for maintaining an ef...   \n",
              "9   IRBs are notified by the Commissioner when an ...   \n",
              "10  The FDA may place a clinical hold on an IND if...   \n",
              "11  The FDA may place an ongoing expanded access I...   \n",
              "\n",
              "                        synthesizer_name  \n",
              "0   single_hop_specifc_query_synthesizer  \n",
              "1   single_hop_specifc_query_synthesizer  \n",
              "2   single_hop_specifc_query_synthesizer  \n",
              "3   single_hop_specifc_query_synthesizer  \n",
              "4   multi_hop_abstract_query_synthesizer  \n",
              "5   multi_hop_abstract_query_synthesizer  \n",
              "6   multi_hop_abstract_query_synthesizer  \n",
              "7   multi_hop_abstract_query_synthesizer  \n",
              "8   multi_hop_specific_query_synthesizer  \n",
              "9   multi_hop_specific_query_synthesizer  \n",
              "10  multi_hop_specific_query_synthesizer  \n",
              "11  multi_hop_specific_query_synthesizer  "
            ]
          },
          "execution_count": 8,
          "metadata": {},
          "output_type": "execute_result"
        }
      ],
      "source": [
        "dataset.to_pandas()"
      ]
    },
    {
      "cell_type": "code",
      "execution_count": 9,
      "metadata": {
        "colab": {
          "base_uri": "https://localhost:8080/",
          "height": 53
        },
        "id": "cfauqqt1rkiy",
        "outputId": "a8f8fe9d-b100-4f95-fe14-a3b99ff313d0"
      },
      "outputs": [
        {
          "name": "stdout",
          "output_type": "stream",
          "text": [
            "Testset uploaded! View at https://app.ragas.io/dashboard/alignment/testset/bb4b0013-fb60-4470-a635-31c2a6fb8723\n"
          ]
        },
        {
          "data": {
            "text/plain": [
              "'https://app.ragas.io/dashboard/alignment/testset/bb4b0013-fb60-4470-a635-31c2a6fb8723'"
            ]
          },
          "execution_count": 9,
          "metadata": {},
          "output_type": "execute_result"
        }
      ],
      "source": [
        "dataset.upload()"
      ]
    },
    {
      "cell_type": "markdown",
      "metadata": {
        "id": "O7LmzewrsH0u"
      },
      "source": [
        "##LangChain RAG"
      ]
    },
    {
      "cell_type": "code",
      "execution_count": 10,
      "metadata": {
        "id": "ungEreCusLKP"
      },
      "outputs": [],
      "source": [
        "\n",
        "pdf_path = \"pdf/\"\n",
        "loader = DirectoryLoader(pdf_path, loader_cls=PyPDFLoader)\n",
        "docs = loader.load()"
      ]
    },
    {
      "cell_type": "code",
      "execution_count": 11,
      "metadata": {
        "colab": {
          "base_uri": "https://localhost:8080/"
        },
        "id": "k98Gu5tjtGON",
        "outputId": "89b602b6-193d-4f76-c00f-d2d80a443dc4"
      },
      "outputs": [
        {
          "data": {
            "text/plain": [
              "423"
            ]
          },
          "execution_count": 11,
          "metadata": {},
          "output_type": "execute_result"
        }
      ],
      "source": [
        "\n",
        "from langchain.text_splitter import RecursiveCharacterTextSplitter\n",
        "\n",
        "#text_splitter = RecursiveCharacterTextSplitter(chunk_size=1000, chunk_overlap=200)\n",
        "text_splitter = RecursiveCharacterTextSplitter(chunk_size=500, chunk_overlap=50)\n",
        "split_documents = text_splitter.split_documents(docs)\n",
        "len(split_documents)"
      ]
    },
    {
      "cell_type": "code",
      "execution_count": 12,
      "metadata": {
        "id": "e0mOw2HUt3yr"
      },
      "outputs": [],
      "source": [
        "from langchain_openai import OpenAIEmbeddings\n",
        "\n",
        "embeddings = OpenAIEmbeddings(model=\"text-embedding-3-small\")"
      ]
    },
    {
      "cell_type": "code",
      "execution_count": 13,
      "metadata": {
        "id": "3WaRQMw3t8qv"
      },
      "outputs": [],
      "source": [
        "from langchain_qdrant import QdrantVectorStore\n",
        "from qdrant_client import QdrantClient\n",
        "from qdrant_client.http.models import Distance, VectorParams\n",
        "\n",
        "client = QdrantClient(\":memory:\")\n",
        "\n",
        "client.create_collection(\n",
        "    collection_name=\"ai_across_years\",\n",
        "    vectors_config=VectorParams(size=1536, distance=Distance.COSINE),\n",
        ")\n",
        "\n",
        "vector_store = QdrantVectorStore(\n",
        "    client=client,\n",
        "    collection_name=\"ai_across_years\",\n",
        "    embedding=embeddings,\n",
        ")"
      ]
    },
    {
      "cell_type": "code",
      "execution_count": 14,
      "metadata": {
        "id": "reAka023uDp-"
      },
      "outputs": [],
      "source": [
        "\n",
        "_ = vector_store.add_documents(documents=split_documents)"
      ]
    },
    {
      "cell_type": "code",
      "execution_count": 15,
      "metadata": {
        "id": "jGALuNJ1uKE3"
      },
      "outputs": [],
      "source": [
        "retriever = vector_store.as_retriever(search_kwargs={\"k\": 5})"
      ]
    },
    {
      "cell_type": "code",
      "execution_count": 16,
      "metadata": {
        "id": "FajG7bEpuQfw"
      },
      "outputs": [],
      "source": [
        "\n",
        "def retrieve(state):\n",
        "  retrieved_docs = retriever.invoke(state[\"question\"])\n",
        "  return {\"context\" : retrieved_docs}"
      ]
    },
    {
      "cell_type": "code",
      "execution_count": 17,
      "metadata": {
        "id": "dLkBlYHjuUwA"
      },
      "outputs": [],
      "source": [
        "from langchain.prompts import ChatPromptTemplate\n",
        "\n",
        "RAG_PROMPT = \"\"\"\\\n",
        "You are a helpful assistant who answers questions based on provided context. You must only use the provided context, and cannot use your own knowledge.\n",
        "\n",
        "### Question\n",
        "{question}\n",
        "\n",
        "### Context\n",
        "{context}\n",
        "\"\"\"\n",
        "\n",
        "rag_prompt = ChatPromptTemplate.from_template(RAG_PROMPT)"
      ]
    },
    {
      "cell_type": "code",
      "execution_count": 18,
      "metadata": {
        "id": "gH-dmcibucIi"
      },
      "outputs": [],
      "source": [
        "\n",
        "from langchain_openai import ChatOpenAI\n",
        "\n",
        "llm = ChatOpenAI(model=\"gpt-4o-mini\")"
      ]
    },
    {
      "cell_type": "code",
      "execution_count": 19,
      "metadata": {
        "id": "Ae5qrj1muk0U"
      },
      "outputs": [],
      "source": [
        "\n",
        "def generate(state):\n",
        "  docs_content = \"\\n\\n\".join(doc.page_content for doc in state[\"context\"])\n",
        "  #messages = rag_prompt.format_messages(question=state[\"question\"], can you tell me more about the submit Pharmacology Studies results?context=docs_content)\n",
        "  messages = rag_prompt.format_messages(question=state[\"question\"] + \"\\n\\ncan you tell me more about the submit Pharmacology Studies results?\", context=docs_content)\n",
        "  response = llm.invoke(messages)\n",
        "  return {\"response\" : response.content}"
      ]
    },
    {
      "cell_type": "markdown",
      "metadata": {
        "id": "ilis54M0zI85"
      },
      "source": [
        "##Building RAG Graph with LangGraph"
      ]
    },
    {
      "cell_type": "code",
      "execution_count": 20,
      "metadata": {
        "id": "maQ_J_pqzKfC"
      },
      "outputs": [],
      "source": [
        "from langgraph.graph import START, StateGraph\n",
        "from typing_extensions import List, TypedDict\n",
        "from langchain_core.documents import Document\n",
        "\n",
        "class State(TypedDict):\n",
        "  question: str\n",
        "  context: List[Document]\n",
        "  response: str"
      ]
    },
    {
      "cell_type": "code",
      "execution_count": 21,
      "metadata": {
        "id": "qWMZLcIYzOf5"
      },
      "outputs": [],
      "source": [
        "graph_builder = StateGraph(State).add_sequence([retrieve, generate])\n",
        "graph_builder.add_edge(START, \"retrieve\")\n",
        "graph = graph_builder.compile()"
      ]
    },
    {
      "cell_type": "code",
      "execution_count": 22,
      "metadata": {
        "colab": {
          "base_uri": "https://localhost:8080/"
        },
        "id": "EyvVNbGmzSxH",
        "outputId": "dfaa29fd-b256-498a-a5a6-000b71300726"
      },
      "outputs": [],
      "source": [
        "response = graph.invoke({\"question\" : \"what about Compile Drug Substance Information?\"})"
      ]
    },
    {
      "cell_type": "code",
      "execution_count": 23,
      "metadata": {
        "colab": {
          "base_uri": "https://localhost:8080/",
          "height": 157
        },
        "id": "SWin8BufzjLx",
        "outputId": "eb4c8ac7-f7ee-4163-b1d1-57a061ee5108"
      },
      "outputs": [
        {
          "data": {
            "text/plain": [
              "\"### Compile Drug Substance Information\\n\\nThe compilation of drug substance information is essential for the submission process and must include several key elements. This involves providing a detailed description of the drug substance that covers:\\n\\n1. **Physical, Chemical, or Biological Characteristics:** This includes the properties that define the drug substance.\\n2. **Manufacturer Information:** The name and address of the manufacturer of the drug substance must be included.\\n3. **Preparation Method:** A general overview of how the drug substance is prepared should be provided.\\n4. **Quality Assurance:** Information regarding acceptable limits and the analytical methods used to assure the identity, strength, quality, and purity of the drug substance is necessary.\\n5. **Investigation Records:** Details on where the investigations were conducted and where the records are available for inspection must be included.\\n\\nAs drug development proceeds, sponsors are required to submit informational amendments that provide additional safety-related information as it becomes pertinent.\\n\\n### Submit Pharmacology Studies Results\\n\\nWhen submitting pharmacology studies results, the following aspects must be described:\\n\\n1. **Pharmacological Effects and Mechanisms of Action:** The submission should include a section that details the pharmacological effects of the drug and its mechanism(s) of action in animal studies.\\n2. **Drug Disposition Information:** Information regarding the drug's absorption, distribution, metabolism, and excretion should be included if known. \\n\\nThis information is critical for understanding how the drug interacts within biological systems and its overall safety profile. It is also important to note that as the drug development process advances, the details regarding the drug substance and its dosage form may evolve, and initial submissions should focus on the identification and control of the raw materials and the new drug substance rather than finalized specifications.\""
            ]
          },
          "execution_count": 23,
          "metadata": {},
          "output_type": "execute_result"
        }
      ],
      "source": [
        "response[\"response\"]"
      ]
    },
    {
      "cell_type": "markdown",
      "metadata": {
        "id": "RRCI7XTTzqjd"
      },
      "source": [
        "##Evaluating the App with Ragas"
      ]
    },
    {
      "cell_type": "code",
      "execution_count": 24,
      "metadata": {
        "colab": {
          "base_uri": "https://localhost:8080/",
          "height": 200
        },
        "id": "Y3IEynO9zyJE",
        "outputId": "172ca503-44a1-4416-ff9a-6e1ffcc319f8"
      },
      "outputs": [],
      "source": [
        "for test_row in dataset:\n",
        "  response = graph.invoke({\"question\" : test_row.eval_sample.user_input})\n",
        "  test_row.eval_sample.response = response[\"response\"]\n",
        "  test_row.eval_sample.retrieved_contexts = [context.page_content for context in response[\"context\"]]"
      ]
    },
    {
      "cell_type": "code",
      "execution_count": 25,
      "metadata": {
        "colab": {
          "base_uri": "https://localhost:8080/",
          "height": 1000
        },
        "id": "Z6qFBrOWz6fL",
        "outputId": "893c083b-8716-4b4a-8727-7b0309ef7534"
      },
      "outputs": [
        {
          "data": {
            "text/html": [
              "<div>\n",
              "<style scoped>\n",
              "    .dataframe tbody tr th:only-of-type {\n",
              "        vertical-align: middle;\n",
              "    }\n",
              "\n",
              "    .dataframe tbody tr th {\n",
              "        vertical-align: top;\n",
              "    }\n",
              "\n",
              "    .dataframe thead th {\n",
              "        text-align: right;\n",
              "    }\n",
              "</style>\n",
              "<table border=\"1\" class=\"dataframe\">\n",
              "  <thead>\n",
              "    <tr style=\"text-align: right;\">\n",
              "      <th></th>\n",
              "      <th>user_input</th>\n",
              "      <th>retrieved_contexts</th>\n",
              "      <th>reference_contexts</th>\n",
              "      <th>response</th>\n",
              "      <th>reference</th>\n",
              "      <th>synthesizer_name</th>\n",
              "    </tr>\n",
              "  </thead>\n",
              "  <tbody>\n",
              "    <tr>\n",
              "      <th>0</th>\n",
              "      <td>Wht is 21 CFR Part 312?</td>\n",
              "      <td>[compliance with the applicable provisions of ...</td>\n",
              "      <td>[IND means an investigational new drug applica...</td>\n",
              "      <td>21 CFR Part 312 pertains to the Investigationa...</td>\n",
              "      <td>21 CFR Part 312 refers to the regulations gove...</td>\n",
              "      <td>single_hop_specifc_query_synthesizer</td>\n",
              "    </tr>\n",
              "    <tr>\n",
              "      <th>1</th>\n",
              "      <td>What all info needed for 21 CFR 312.23(a)(7)(i...</td>\n",
              "      <td>[packaging procedure as appropriate for the pr...</td>\n",
              "      <td>[Chemistry, manufacturing, and control informa...</td>\n",
              "      <td>For 21 CFR 312.23(a)(7)(iv)(b), the informatio...</td>\n",
              "      <td>21 CFR 312.23(a)(7)(iv)(b) requires a list of ...</td>\n",
              "      <td>single_hop_specifc_query_synthesizer</td>\n",
              "    </tr>\n",
              "    <tr>\n",
              "      <th>2</th>\n",
              "      <td>What FDA do when they put clinical hold on dru...</td>\n",
              "      <td>[ongoing clinical investigations or response t...</td>\n",
              "      <td>[§ 312.40 General requirements for use of an i...</td>\n",
              "      <td>When the FDA puts a clinical hold on a drug st...</td>\n",
              "      <td>A clinical hold is an order issued by FDA to t...</td>\n",
              "      <td>single_hop_specifc_query_synthesizer</td>\n",
              "    </tr>\n",
              "    <tr>\n",
              "      <th>3</th>\n",
              "      <td>What is the purpose of an Investigational New ...</td>\n",
              "      <td>[Title 21 —Food and Drugs\\nChapter I —Food and...</td>\n",
              "      <td>[Grounds for imposition of clinical hold — 21 ...</td>\n",
              "      <td>The purpose of an Investigational New Drug App...</td>\n",
              "      <td>The Investigational New Drug Application is go...</td>\n",
              "      <td>single_hop_specifc_query_synthesizer</td>\n",
              "    </tr>\n",
              "    <tr>\n",
              "      <th>4</th>\n",
              "      <td>What are the requirements for exporting an Inv...</td>\n",
              "      <td>[as follows:\\n(i) Situations where the investi...</td>\n",
              "      <td>[&lt;1-hop&gt;\\n\\nIND means an investigational new d...</td>\n",
              "      <td>The requirements for exporting an Investigatio...</td>\n",
              "      <td>To export an Investigational New Drug (IND) du...</td>\n",
              "      <td>multi_hop_abstract_query_synthesizer</td>\n",
              "    </tr>\n",
              "    <tr>\n",
              "      <th>5</th>\n",
              "      <td>How do clinical procedures and chemistry, manu...</td>\n",
              "      <td>[(g) A description of clinical procedures, lab...</td>\n",
              "      <td>[&lt;1-hop&gt;\\n\\n(g) A description of clinical proc...</td>\n",
              "      <td>Clinical procedures and chemistry, manufacturi...</td>\n",
              "      <td>Clinical procedures contribute to the complian...</td>\n",
              "      <td>multi_hop_abstract_query_synthesizer</td>\n",
              "    </tr>\n",
              "    <tr>\n",
              "      <th>6</th>\n",
              "      <td>how investigational new drug used in clinical ...</td>\n",
              "      <td>[recruited to the study and placed on the inve...</td>\n",
              "      <td>[&lt;1-hop&gt;\\n\\n§ 312.40 General requirements for ...</td>\n",
              "      <td>An Investigational New Drug (IND) is used in c...</td>\n",
              "      <td>An investigational new drug (IND) can be used ...</td>\n",
              "      <td>multi_hop_abstract_query_synthesizer</td>\n",
              "    </tr>\n",
              "    <tr>\n",
              "      <th>7</th>\n",
              "      <td>How do the regulations outlined in § 312.61 an...</td>\n",
              "      <td>[requirements.\\n(vi) The name and title of the...</td>\n",
              "      <td>[&lt;1-hop&gt;\\n\\n§ 312.61 Control of the investigat...</td>\n",
              "      <td>The regulations outlined in § 312.61 and § 312...</td>\n",
              "      <td>The regulations outlined in § 312.61 and § 312...</td>\n",
              "      <td>multi_hop_abstract_query_synthesizer</td>\n",
              "    </tr>\n",
              "    <tr>\n",
              "      <th>8</th>\n",
              "      <td>How do the responsibilities of sponsors in mai...</td>\n",
              "      <td>[investigation(s) is conducted in accordance w...</td>\n",
              "      <td>[&lt;1-hop&gt;\\n\\n[52 FR 8831, Mar. 19, 1987, as ame...</td>\n",
              "      <td>The responsibilities of sponsors in maintainin...</td>\n",
              "      <td>Sponsors are responsible for maintaining an ef...</td>\n",
              "      <td>multi_hop_specific_query_synthesizer</td>\n",
              "    </tr>\n",
              "    <tr>\n",
              "      <th>9</th>\n",
              "      <td>What role do IRBs play in the termination of a...</td>\n",
              "      <td>[however, the Commissioner shall terminate the...</td>\n",
              "      <td>[&lt;1-hop&gt;\\n\\nIND means an investigational new d...</td>\n",
              "      <td>IRBs, or Institutional Review Boards, play a c...</td>\n",
              "      <td>IRBs are notified by the Commissioner when an ...</td>\n",
              "      <td>multi_hop_specific_query_synthesizer</td>\n",
              "    </tr>\n",
              "    <tr>\n",
              "      <th>10</th>\n",
              "      <td>What are the conditions under which the FDA ma...</td>\n",
              "      <td>[response time, a sponsor may not proceed with...</td>\n",
              "      <td>[&lt;1-hop&gt;\\n\\n[52 FR 8831, Mar. 19, 1987, as ame...</td>\n",
              "      <td>The FDA may place a clinical hold on an Invest...</td>\n",
              "      <td>The FDA may place a clinical hold on an IND if...</td>\n",
              "      <td>multi_hop_specific_query_synthesizer</td>\n",
              "    </tr>\n",
              "    <tr>\n",
              "      <th>11</th>\n",
              "      <td>What are the conditions under which the FDA ma...</td>\n",
              "      <td>[(ii) Ongoing use. FDA may place an ongoing ex...</td>\n",
              "      <td>[&lt;1-hop&gt;\\n\\n(ii) Ongoing use. FDA may place an...</td>\n",
              "      <td>The FDA may place an ongoing expanded access I...</td>\n",
              "      <td>The FDA may place an ongoing expanded access I...</td>\n",
              "      <td>multi_hop_specific_query_synthesizer</td>\n",
              "    </tr>\n",
              "  </tbody>\n",
              "</table>\n",
              "</div>"
            ],
            "text/plain": [
              "                                           user_input  \\\n",
              "0                             Wht is 21 CFR Part 312?   \n",
              "1   What all info needed for 21 CFR 312.23(a)(7)(i...   \n",
              "2   What FDA do when they put clinical hold on dru...   \n",
              "3   What is the purpose of an Investigational New ...   \n",
              "4   What are the requirements for exporting an Inv...   \n",
              "5   How do clinical procedures and chemistry, manu...   \n",
              "6   how investigational new drug used in clinical ...   \n",
              "7   How do the regulations outlined in § 312.61 an...   \n",
              "8   How do the responsibilities of sponsors in mai...   \n",
              "9   What role do IRBs play in the termination of a...   \n",
              "10  What are the conditions under which the FDA ma...   \n",
              "11  What are the conditions under which the FDA ma...   \n",
              "\n",
              "                                   retrieved_contexts  \\\n",
              "0   [compliance with the applicable provisions of ...   \n",
              "1   [packaging procedure as appropriate for the pr...   \n",
              "2   [ongoing clinical investigations or response t...   \n",
              "3   [Title 21 —Food and Drugs\\nChapter I —Food and...   \n",
              "4   [as follows:\\n(i) Situations where the investi...   \n",
              "5   [(g) A description of clinical procedures, lab...   \n",
              "6   [recruited to the study and placed on the inve...   \n",
              "7   [requirements.\\n(vi) The name and title of the...   \n",
              "8   [investigation(s) is conducted in accordance w...   \n",
              "9   [however, the Commissioner shall terminate the...   \n",
              "10  [response time, a sponsor may not proceed with...   \n",
              "11  [(ii) Ongoing use. FDA may place an ongoing ex...   \n",
              "\n",
              "                                   reference_contexts  \\\n",
              "0   [IND means an investigational new drug applica...   \n",
              "1   [Chemistry, manufacturing, and control informa...   \n",
              "2   [§ 312.40 General requirements for use of an i...   \n",
              "3   [Grounds for imposition of clinical hold — 21 ...   \n",
              "4   [<1-hop>\\n\\nIND means an investigational new d...   \n",
              "5   [<1-hop>\\n\\n(g) A description of clinical proc...   \n",
              "6   [<1-hop>\\n\\n§ 312.40 General requirements for ...   \n",
              "7   [<1-hop>\\n\\n§ 312.61 Control of the investigat...   \n",
              "8   [<1-hop>\\n\\n[52 FR 8831, Mar. 19, 1987, as ame...   \n",
              "9   [<1-hop>\\n\\nIND means an investigational new d...   \n",
              "10  [<1-hop>\\n\\n[52 FR 8831, Mar. 19, 1987, as ame...   \n",
              "11  [<1-hop>\\n\\n(ii) Ongoing use. FDA may place an...   \n",
              "\n",
              "                                             response  \\\n",
              "0   21 CFR Part 312 pertains to the Investigationa...   \n",
              "1   For 21 CFR 312.23(a)(7)(iv)(b), the informatio...   \n",
              "2   When the FDA puts a clinical hold on a drug st...   \n",
              "3   The purpose of an Investigational New Drug App...   \n",
              "4   The requirements for exporting an Investigatio...   \n",
              "5   Clinical procedures and chemistry, manufacturi...   \n",
              "6   An Investigational New Drug (IND) is used in c...   \n",
              "7   The regulations outlined in § 312.61 and § 312...   \n",
              "8   The responsibilities of sponsors in maintainin...   \n",
              "9   IRBs, or Institutional Review Boards, play a c...   \n",
              "10  The FDA may place a clinical hold on an Invest...   \n",
              "11  The FDA may place an ongoing expanded access I...   \n",
              "\n",
              "                                            reference  \\\n",
              "0   21 CFR Part 312 refers to the regulations gove...   \n",
              "1   21 CFR 312.23(a)(7)(iv)(b) requires a list of ...   \n",
              "2   A clinical hold is an order issued by FDA to t...   \n",
              "3   The Investigational New Drug Application is go...   \n",
              "4   To export an Investigational New Drug (IND) du...   \n",
              "5   Clinical procedures contribute to the complian...   \n",
              "6   An investigational new drug (IND) can be used ...   \n",
              "7   The regulations outlined in § 312.61 and § 312...   \n",
              "8   Sponsors are responsible for maintaining an ef...   \n",
              "9   IRBs are notified by the Commissioner when an ...   \n",
              "10  The FDA may place a clinical hold on an IND if...   \n",
              "11  The FDA may place an ongoing expanded access I...   \n",
              "\n",
              "                        synthesizer_name  \n",
              "0   single_hop_specifc_query_synthesizer  \n",
              "1   single_hop_specifc_query_synthesizer  \n",
              "2   single_hop_specifc_query_synthesizer  \n",
              "3   single_hop_specifc_query_synthesizer  \n",
              "4   multi_hop_abstract_query_synthesizer  \n",
              "5   multi_hop_abstract_query_synthesizer  \n",
              "6   multi_hop_abstract_query_synthesizer  \n",
              "7   multi_hop_abstract_query_synthesizer  \n",
              "8   multi_hop_specific_query_synthesizer  \n",
              "9   multi_hop_specific_query_synthesizer  \n",
              "10  multi_hop_specific_query_synthesizer  \n",
              "11  multi_hop_specific_query_synthesizer  "
            ]
          },
          "execution_count": 25,
          "metadata": {},
          "output_type": "execute_result"
        }
      ],
      "source": [
        "dataset.to_pandas()"
      ]
    },
    {
      "cell_type": "code",
      "execution_count": 26,
      "metadata": {
        "id": "e2uuyjTs0EIX"
      },
      "outputs": [],
      "source": [
        "from ragas import EvaluationDataset\n",
        "\n",
        "evaluation_dataset = EvaluationDataset.from_pandas(dataset.to_pandas())"
      ]
    },
    {
      "cell_type": "code",
      "execution_count": 27,
      "metadata": {
        "id": "Ri_OvE-W0E3M"
      },
      "outputs": [],
      "source": [
        "from ragas import evaluate\n",
        "from ragas.llms import LangchainLLMWrapper\n",
        "\n",
        "evaluator_llm = LangchainLLMWrapper(ChatOpenAI(model=\"gpt-4o\"))"
      ]
    },
    {
      "cell_type": "code",
      "execution_count": 28,
      "metadata": {
        "colab": {
          "base_uri": "https://localhost:8080/",
          "height": 1000,
          "referenced_widgets": [
            "934a982443f24869a5853391f12e677b",
            "6be921537af740e2ae99e83778c63192",
            "62c3a702b4e04675b10af4c4f5f4e8b2",
            "acdc78f3515f4e6db66210190afa3637",
            "dd30e75fbb034f6c94b3ea442add9495",
            "017231655991460baa703e6ad3710281",
            "21e6d477bbe848d5b8d6f04a5082e8e3",
            "e97ca14db307418f9378ebfdd036083d",
            "edfd6cf85c0f4f86ab1ca85b4dcc79a7",
            "c51ad0df633e4ac98f771db7c8ada399",
            "419d0fd84db048ad936046f543cdfe07"
          ]
        },
        "id": "N1dJFcr80LRh",
        "outputId": "8b58a1b3-752f-493e-da6b-91883efe7a91"
      },
      "outputs": [
        {
          "data": {
            "application/vnd.jupyter.widget-view+json": {
              "model_id": "2021c5ac0c554310b03329ea1bbe1d5d",
              "version_major": 2,
              "version_minor": 0
            },
            "text/plain": [
              "Evaluating:   0%|          | 0/84 [00:00<?, ?it/s]"
            ]
          },
          "metadata": {},
          "output_type": "display_data"
        },
        {
          "name": "stderr",
          "output_type": "stream",
          "text": [
            "Exception raised in Job[40]: TimeoutError()\n"
          ]
        },
        {
          "data": {
            "text/plain": [
              "{'context_recall': 0.4167, 'faithfulness': 0.6480, 'factual_correctness': 0.2883, 'answer_relevancy': 0.9369, 'context_entity_recall': 0.4597, 'noise_sensitivity_relevant': 0.2078, 'context_precision': 0.6434}"
            ]
          },
          "execution_count": 28,
          "metadata": {},
          "output_type": "execute_result"
        }
      ],
      "source": [
        "from ragas.metrics import LLMContextRecall, Faithfulness, FactualCorrectness, ResponseRelevancy, ContextEntityRecall, NoiseSensitivity, ContextPrecision\n",
        "from ragas import evaluate, RunConfig\n",
        "\n",
        "custom_run_config = RunConfig(timeout=360)\n",
        "\n",
        "result = evaluate(\n",
        "    dataset=evaluation_dataset,\n",
        "    metrics=[LLMContextRecall(), Faithfulness(), FactualCorrectness(), ResponseRelevancy(), ContextEntityRecall(), NoiseSensitivity(), ContextPrecision()],\n",
        "    llm=evaluator_llm,\n",
        "    run_config=custom_run_config\n",
        ")\n",
        "result"
      ]
    }
  ],
  "metadata": {
    "colab": {
      "gpuType": "T4",
      "provenance": []
    },
    "kernelspec": {
      "display_name": "Python 3",
      "name": "python3"
    },
    "language_info": {
      "codemirror_mode": {
        "name": "ipython",
        "version": 3
      },
      "file_extension": ".py",
      "mimetype": "text/x-python",
      "name": "python",
      "nbconvert_exporter": "python",
      "pygments_lexer": "ipython3",
      "version": "3.10.12"
    }
    
  },
  "nbformat": 4,
  "nbformat_minor": 0
}
