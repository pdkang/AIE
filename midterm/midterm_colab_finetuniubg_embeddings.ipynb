{
  "cells": [
    {
      "cell_type": "markdown",
      "metadata": {
        "id": "ckbbj5diaHkg"
      },
      "source": [
        "# Fine-tuning Embeddings for RAG on Specific Data\n",
        "\n",
        "As we start our \"fine-tuning\" week, we'll start with the lowest hanging improvement one can do for RAG - which is:\n",
        "\n",
        "Fine-tuning embeddings!\n",
        "\n",
        "- 🤝 Breakout Room #1:\n",
        "  - Task 1: Dependencies and Boilerplate\n",
        "  - Task 2: Loading Data\n",
        "  - Task 3: Constructing a Fine-tuning Dataset\n",
        "  - Task 4: Fine-tuning `snowflake-arctic-embed-l`\n",
        "  - Task 5: Evaluating our Retriever\n",
        "\n"
      ]
    },
    {
      "cell_type": "markdown",
      "metadata": {
        "id": "-NkSaurzbpyS"
      },
      "source": [
        "## Task 1: Dependencies and Boilerplate\n",
        "\n",
        "We'll set up our `nest_asyncio` so we can leverage async loops in our Notebook.\n",
        "\n",
        "We'll also install the required libraries we'll be using today, and set up our OpenAI API key!"
      ]
    },
    {
      "cell_type": "markdown",
      "metadata": {
        "id": "9c_EUibmcDU3"
      },
      "source": [
        "### Nest Asyncio"
      ]
    },
    {
      "cell_type": "code",
      "execution_count": 1,
      "metadata": {
        "id": "zq-6s7LbPnKH"
      },
      "outputs": [],
      "source": [
        "import nest_asyncio\n",
        "\n",
        "nest_asyncio.apply()"
      ]
    },
    {
      "cell_type": "markdown",
      "metadata": {
        "id": "R8uFz8RVcFFu"
      },
      "source": [
        "### Install Dependencies\n",
        "\n",
        ">> NOTE: You do not need to do these steps if you are running this notebook locally with `uv`."
      ]
    },
    {
      "cell_type": "code",
      "execution_count": 5,
      "metadata": {
        "colab": {
          "base_uri": "https://localhost:8080/"
        },
        "id": "ulZIBA1ZoSsV",
        "outputId": "e5117968-a9cb-43e0-e210-ea06b1dfc540"
      },
      "outputs": [
        {
          "name": "stdout",
          "output_type": "stream",
          "text": [
            "\u001b[?25l   \u001b[90m━━━━━━━━━━━━━━━━━━━━━━━━━━━━━━━━━━━━━━━━\u001b[0m \u001b[32m0.0/54.9 kB\u001b[0m \u001b[31m?\u001b[0m eta \u001b[36m-:--:--\u001b[0m\r\u001b[2K   \u001b[90m━━━━━━━━━━━━━━━━━━━━━━━━━━━━━━━━━━━━━━━━\u001b[0m \u001b[32m54.9/54.9 kB\u001b[0m \u001b[31m4.4 MB/s\u001b[0m eta \u001b[36m0:00:00\u001b[0m\n",
            "\u001b[2K   \u001b[90m━━━━━━━━━━━━━━━━━━━━━━━━━━━━━━━━━━━━━━━━\u001b[0m \u001b[32m2.5/2.5 MB\u001b[0m \u001b[31m68.2 MB/s\u001b[0m eta \u001b[36m0:00:00\u001b[0m\n",
            "\u001b[2K   \u001b[90m━━━━━━━━━━━━━━━━━━━━━━━━━━━━━━━━━━━━━━━━\u001b[0m \u001b[32m1.2/1.2 MB\u001b[0m \u001b[31m53.8 MB/s\u001b[0m eta \u001b[36m0:00:00\u001b[0m\n",
            "\u001b[2K   \u001b[90m━━━━━━━━━━━━━━━━━━━━━━━━━━━━━━━━━━━━━━━━\u001b[0m \u001b[32m50.9/50.9 kB\u001b[0m \u001b[31m3.8 MB/s\u001b[0m eta \u001b[36m0:00:00\u001b[0m\n",
            "\u001b[2K   \u001b[90m━━━━━━━━━━━━━━━━━━━━━━━━━━━━━━━━━━━━━━━━\u001b[0m \u001b[32m363.4/363.4 MB\u001b[0m \u001b[31m4.4 MB/s\u001b[0m eta \u001b[36m0:00:00\u001b[0m\n",
            "\u001b[2K   \u001b[90m━━━━━━━━━━━━━━━━━━━━━━━━━━━━━━━━━━━━━━━━\u001b[0m \u001b[32m13.8/13.8 MB\u001b[0m \u001b[31m68.6 MB/s\u001b[0m eta \u001b[36m0:00:00\u001b[0m\n",
            "\u001b[2K   \u001b[90m━━━━━━━━━━━━━━━━━━━━━━━━━━━━━━━━━━━━━━━━\u001b[0m \u001b[32m24.6/24.6 MB\u001b[0m \u001b[31m47.8 MB/s\u001b[0m eta \u001b[36m0:00:00\u001b[0m\n",
            "\u001b[2K   \u001b[90m━━━━━━━━━━━━━━━━━━━━━━━━━━━━━━━━━━━━━━━━\u001b[0m \u001b[32m883.7/883.7 kB\u001b[0m \u001b[31m38.2 MB/s\u001b[0m eta \u001b[36m0:00:00\u001b[0m\n",
            "\u001b[2K   \u001b[90m━━━━━━━━━━━━━━━━━━━━━━━━━━━━━━━━━━━━━━━━\u001b[0m \u001b[32m664.8/664.8 MB\u001b[0m \u001b[31m2.9 MB/s\u001b[0m eta \u001b[36m0:00:00\u001b[0m\n",
            "\u001b[2K   \u001b[90m━━━━━━━━━━━━━━━━━━━━━━━━━━━━━━━━━━━━━━━━\u001b[0m \u001b[32m211.5/211.5 MB\u001b[0m \u001b[31m5.9 MB/s\u001b[0m eta \u001b[36m0:00:00\u001b[0m\n",
            "\u001b[2K   \u001b[90m━━━━━━━━━━━━━━━━━━━━━━━━━━━━━━━━━━━━━━━━\u001b[0m \u001b[32m56.3/56.3 MB\u001b[0m \u001b[31m12.0 MB/s\u001b[0m eta \u001b[36m0:00:00\u001b[0m\n",
            "\u001b[2K   \u001b[90m━━━━━━━━━━━━━━━━━━━━━━━━━━━━━━━━━━━━━━━━\u001b[0m \u001b[32m127.9/127.9 MB\u001b[0m \u001b[31m7.3 MB/s\u001b[0m eta \u001b[36m0:00:00\u001b[0m\n",
            "\u001b[2K   \u001b[90m━━━━━━━━━━━━━━━━━━━━━━━━━━━━━━━━━━━━━━━━\u001b[0m \u001b[32m207.5/207.5 MB\u001b[0m \u001b[31m6.3 MB/s\u001b[0m eta \u001b[36m0:00:00\u001b[0m\n",
            "\u001b[2K   \u001b[90m━━━━━━━━━━━━━━━━━━━━━━━━━━━━━━━━━━━━━━━━\u001b[0m \u001b[32m21.1/21.1 MB\u001b[0m \u001b[31m77.6 MB/s\u001b[0m eta \u001b[36m0:00:00\u001b[0m\n",
            "\u001b[?25h"
          ]
        }
      ],
      "source": [
        "#!pip install -qU langchain_openai langchain_huggingface langchain_core langchain langchain_community langchain-text-splitters"
      ]
    },
    {
      "cell_type": "code",
      "execution_count": 6,
      "metadata": {
        "colab": {
          "base_uri": "https://localhost:8080/"
        },
        "id": "3GFD7B-tOCrx",
        "outputId": "cb9ab36d-ca58-4c1c-9d52-75d4af1d1018"
      },
      "outputs": [
        {
          "name": "stdout",
          "output_type": "stream",
          "text": [
            "\u001b[2K   \u001b[90m━━━━━━━━━━━━━━━━━━━━━━━━━━━━━━━━━━━━━━━━\u001b[0m \u001b[32m472.8/472.8 kB\u001b[0m \u001b[31m13.8 MB/s\u001b[0m eta \u001b[36m0:00:00\u001b[0m\n",
            "\u001b[2K   \u001b[90m━━━━━━━━━━━━━━━━━━━━━━━━━━━━━━━━━━━━━━━━\u001b[0m \u001b[32m30.7/30.7 MB\u001b[0m \u001b[31m22.1 MB/s\u001b[0m eta \u001b[36m0:00:00\u001b[0m\n",
            "\u001b[2K   \u001b[90m━━━━━━━━━━━━━━━━━━━━━━━━━━━━━━━━━━━━━━━━\u001b[0m \u001b[32m20.0/20.0 MB\u001b[0m \u001b[31m18.1 MB/s\u001b[0m eta \u001b[36m0:00:00\u001b[0m\n",
            "\u001b[2K   \u001b[90m━━━━━━━━━━━━━━━━━━━━━━━━━━━━━━━━━━━━━━━━\u001b[0m \u001b[32m165.1/165.1 kB\u001b[0m \u001b[31m11.9 MB/s\u001b[0m eta \u001b[36m0:00:00\u001b[0m\n",
            "\u001b[?25h"
          ]
        }
      ],
      "source": [
        " #!pip install -qU faiss-cpu python-pptx==1.0.2 nltk==3.9.1 pymupdf beautifulsoup4 lxml"
      ]
    },
    {
      "cell_type": "markdown",
      "metadata": {
        "id": "0FM-eUlrcI8a"
      },
      "source": [
        "### Provide OpenAI API Key"
      ]
    },
    {
      "cell_type": "code",
      "execution_count": 2,
      "metadata": {
        "colab": {
          "base_uri": "https://localhost:8080/"
        },
        "id": "wA_mlurVqtrp",
        "outputId": "041f1089-ce93-4ba9-ac87-00dd6cac8f4c"
      },
      "outputs": [],
      "source": [
        "import os\n",
        "import getpass\n",
        "\n",
        "os.environ[\"OPENAI_API_KEY\"] = getpass.getpass(\"Enter Your OpenAI API Key: \")"
      ]
    },
    {
      "cell_type": "markdown",
      "metadata": {
        "id": "TFZ217gCDVTr"
      },
      "source": [
        "## Task 2: Loading Data\n"
      ]
    },
    {
      "cell_type": "code",
      "execution_count": 6,
      "metadata": {
        "colab": {
          "base_uri": "https://localhost:8080/"
        },
        "id": "2yrFxnTg9Y6d",
        "outputId": "a375e8c3-32ee-4e53-92cc-e2eec2b45c80"
      },
      "outputs": [],
      "source": [
        "#!pip install -qU pypdf\n",
        "# uv add pypdf"
      ]
    },
    {
      "cell_type": "code",
      "execution_count": 9,
      "metadata": {
        "id": "DHJhTzsvN75t"
      },
      "outputs": [],
      "source": [
        "from langchain_community.document_loaders import DirectoryLoader, PyPDFLoader\n",
        "\n",
        "path = \"pdf/\"\n",
        "text_loader = DirectoryLoader(path, loader_cls=PyPDFLoader)\n",
        "docs = text_loader.load()"
      ]
    },
    {
      "cell_type": "markdown",
      "metadata": {
        "id": "-UbKa6-V0nvp"
      },
      "source": [
        "Next, we'll set up a classic naive chunking strategy as we only care that the documents get parsed into chunks that we can generate synthetic questions about."
      ]
    },
    {
      "cell_type": "code",
      "execution_count": 10,
      "metadata": {
        "id": "NsPrOOqXOsNX"
      },
      "outputs": [],
      "source": [
        "from langchain_text_splitters import RecursiveCharacterTextSplitter\n",
        "\n",
        "text_splitter = RecursiveCharacterTextSplitter(\n",
        "    chunk_size = 500, #750\n",
        "    chunk_overlap  = 50, #20\n",
        "    length_function = len\n",
        ")"
      ]
    },
    {
      "cell_type": "markdown",
      "metadata": {
        "id": "lf_PoX7l09Rg"
      },
      "source": [
        "Next we can load/split these documents as follows.\n",
        "\n",
        ">> NOTE: You may need to run this cell twice to get it to work."
      ]
    },
    {
      "cell_type": "code",
      "execution_count": 11,
      "metadata": {
        "id": "OMYPX6N6Os8M"
      },
      "outputs": [],
      "source": [
        "training_documents = text_splitter.split_documents(text_loader.load())"
      ]
    },
    {
      "cell_type": "code",
      "execution_count": 12,
      "metadata": {
        "colab": {
          "base_uri": "https://localhost:8080/"
        },
        "id": "PAozuMoNOvnp",
        "outputId": "cdac902e-ff22-4d81-abc8-9f9b9bf8bad7"
      },
      "outputs": [
        {
          "data": {
            "text/plain": [
              "423"
            ]
          },
          "execution_count": 12,
          "metadata": {},
          "output_type": "execute_result"
        }
      ],
      "source": [
        "len(training_documents)"
      ]
    },
    {
      "cell_type": "markdown",
      "metadata": {
        "id": "0yE2TFIq1BuJ"
      },
      "source": [
        "Next, we're going to associate each of our chunks with a unique identifier."
      ]
    },
    {
      "cell_type": "code",
      "execution_count": 13,
      "metadata": {
        "id": "AwyIForybIpo"
      },
      "outputs": [],
      "source": [
        "import uuid\n",
        "\n",
        "id_set = set()\n",
        "\n",
        "for document in training_documents:\n",
        "  id = str(uuid.uuid4())\n",
        "  while id in id_set:\n",
        "    id = uuid.uuid4()\n",
        "  id_set.add(id)\n",
        "  document.metadata[\"id\"] = id"
      ]
    },
    {
      "cell_type": "markdown",
      "metadata": {
        "id": "PJnL4oNg341U"
      },
      "source": [
        "Next, we'll simply use naive Python slicing to create a training, test, and validation set to prepare our data for the next step."
      ]
    },
    {
      "cell_type": "code",
      "execution_count": 14,
      "metadata": {
        "id": "MTS4GTSEcnG4"
      },
      "outputs": [],
      "source": [
        "training_split_documents = training_documents[:len(training_documents) - 100]\n",
        "val_split_documents = training_documents[len(training_documents) - 100:423-50]\n",
        "test_split_documents = training_documents[423-50:]"
      ]
    },
    {
      "cell_type": "markdown",
      "metadata": {
        "id": "tzlvKbONDWvQ"
      },
      "source": [
        "## Task 3: Constructing a Fine-tuning Dataset\n",
        "\n",
        "Using the nodes we created above, we can finally start constructing a fine-tuning dataset utilizing OpenAI's `gpt-4o-mini` (released [today](https://openai.com/index/gpt-4o-mini-advancing-cost-efficient-intelligence/)).\n",
        "\n",
        "The basic idea here is straightforward enough:\n",
        "\n",
        "1. We look at a document\n",
        "2. We generate questions that could be answered by that node\n",
        "\n",
        "This gives us a number of question/context pairs that we can use to fine-tune our Embeddings model."
      ]
    },
    {
      "cell_type": "code",
      "execution_count": 15,
      "metadata": {
        "id": "_EWfmIscMrvg"
      },
      "outputs": [],
      "source": [
        "from langchain_openai import ChatOpenAI\n",
        "\n",
        "qa_chat_model = ChatOpenAI(\n",
        "    model=\"gpt-4o-mini\",\n",
        "    temperature=0\n",
        ")"
      ]
    },
    {
      "cell_type": "markdown",
      "metadata": {
        "id": "8-hLnsSB6Y-S"
      },
      "source": [
        "We'll create a simple Question Generation prompt to query `gpt-4o-mini` to generate Questions for each retrieved context."
      ]
    },
    {
      "cell_type": "code",
      "execution_count": 16,
      "metadata": {
        "id": "diEWcw00NMSj"
      },
      "outputs": [],
      "source": [
        "from langchain_core.prompts import ChatPromptTemplate\n",
        "\n",
        "qa_prompt = \"\"\"\\\n",
        "Given the following context, you must generate questions based on only the provided context.\n",
        "\n",
        "You are to generate {n_questions} questions which should be provided in the following format:\n",
        "\n",
        "1. QUESTION #1\n",
        "2. QUESTION #2\n",
        "...\n",
        "\n",
        "Context:\n",
        "{context}\n",
        "\"\"\"\n",
        "\n",
        "qa_prompt_template = ChatPromptTemplate.from_template(qa_prompt)"
      ]
    },
    {
      "cell_type": "markdown",
      "metadata": {
        "id": "u87Izpgm6_fk"
      },
      "source": [
        "We'll create a simple chain to query the LLM!"
      ]
    },
    {
      "cell_type": "code",
      "execution_count": 17,
      "metadata": {
        "id": "ggl9SSjiNbpG"
      },
      "outputs": [],
      "source": [
        "question_generation_chain = qa_prompt_template | qa_chat_model"
      ]
    },
    {
      "cell_type": "markdown",
      "metadata": {
        "id": "4duvHirh7DQv"
      },
      "source": [
        "There's a lot going on in this function - let's take a deeper look:\n",
        "\n",
        "1. First, we provide a list of documents and a number of questions\n",
        "2. We, for each document in our list, generate `n_questions` of questions.\n",
        "3. We then associate those questions and contexts via a `UUID`.\n",
        "\n",
        "> NOTE: The reason we're doing this `UUID` association is for ease of use later in the notebook."
      ]
    },
    {
      "cell_type": "code",
      "execution_count": 18,
      "metadata": {
        "id": "U4yi4NfTCnLc"
      },
      "outputs": [],
      "source": [
        "import tqdm\n",
        "def create_questions(documents, n_questions):\n",
        "  questions = {}\n",
        "  relevant_docs = {}\n",
        "  for document in tqdm.tqdm(documents):\n",
        "    document_content = {\"context\" : document.page_content, \"questions\" : []}\n",
        "    questions_generated = question_generation_chain.invoke({\"context\": document.page_content, \"n_questions\": n_questions})\n",
        "    for question in questions_generated.content.split(\"\\n\"):\n",
        "      question_id = str(uuid.uuid4())\n",
        "      questions[question_id] = \"\".join(question.split(\".\")[1:]).strip()\n",
        "      relevant_docs[question_id] = [document.metadata[\"id\"]]\n",
        "  return questions, relevant_docs"
      ]
    },
    {
      "cell_type": "code",
      "execution_count": 19,
      "metadata": {
        "colab": {
          "base_uri": "https://localhost:8080/"
        },
        "id": "85Dq6KRqEs0F",
        "outputId": "807cab05-6a98-4ecd-8131-e350dadf6d67"
      },
      "outputs": [
        {
          "name": "stderr",
          "output_type": "stream",
          "text": [
            "  0%|          | 0/323 [00:00<?, ?it/s]"
          ]
        },
        {
          "name": "stderr",
          "output_type": "stream",
          "text": [
            "100%|██████████| 323/323 [05:09<00:00,  1.04it/s]\n"
          ]
        }
      ],
      "source": [
        "training_questions, training_relevant_contexts = create_questions(training_split_documents, 2)"
      ]
    },
    {
      "cell_type": "markdown",
      "metadata": {
        "id": "_FSTG0bb7w73"
      },
      "source": [
        "We'll use the function to generate training, validation, and test data."
      ]
    },
    {
      "cell_type": "code",
      "execution_count": 20,
      "metadata": {
        "colab": {
          "base_uri": "https://localhost:8080/"
        },
        "id": "eIZm4CqGVzBx",
        "outputId": "c2b31a6b-4845-4d96-9924-2ee14385fb43"
      },
      "outputs": [
        {
          "name": "stderr",
          "output_type": "stream",
          "text": [
            "100%|██████████| 50/50 [00:50<00:00,  1.01s/it]\n"
          ]
        }
      ],
      "source": [
        "val_questions, val_relevant_contexts = create_questions(val_split_documents, 2)"
      ]
    },
    {
      "cell_type": "code",
      "execution_count": 21,
      "metadata": {
        "colab": {
          "base_uri": "https://localhost:8080/"
        },
        "id": "o6qUHg9sV2_y",
        "outputId": "2f76f5e5-deaf-4ea4-d07c-9b7bdfa672f7"
      },
      "outputs": [
        {
          "name": "stderr",
          "output_type": "stream",
          "text": [
            "100%|██████████| 50/50 [00:44<00:00,  1.12it/s]\n"
          ]
        }
      ],
      "source": [
        "test_questions, test_relevant_contexts = create_questions(test_split_documents, 2)"
      ]
    },
    {
      "cell_type": "markdown",
      "metadata": {
        "id": "K_jYOnAI43zK"
      },
      "source": [
        "### Reformating and Saving Datasets\n",
        "\n",
        "Now, we can save our datasets for later use!"
      ]
    },
    {
      "cell_type": "code",
      "execution_count": 22,
      "metadata": {
        "id": "iF6IFFq9VsNu"
      },
      "outputs": [],
      "source": [
        "import json\n",
        "\n",
        "training_corpus = {train_item.metadata[\"id\"] : train_item.page_content for train_item in training_split_documents}\n",
        "\n",
        "train_dataset = {\n",
        "    \"questions\" : training_questions,\n",
        "    \"relevant_contexts\" : training_relevant_contexts,\n",
        "    \"corpus\" : training_corpus\n",
        "}\n",
        "\n",
        "with open(\"training_dataset.jsonl\", \"w\") as f:\n",
        "  json.dump(train_dataset, f)"
      ]
    },
    {
      "cell_type": "code",
      "execution_count": 23,
      "metadata": {
        "id": "PqF9WaueV-V8"
      },
      "outputs": [],
      "source": [
        "val_corpus = {val_item.metadata[\"id\"] : val_item.page_content for val_item in val_split_documents}\n",
        "\n",
        "val_dataset = {\n",
        "    \"questions\" : val_questions,\n",
        "    \"relevant_contexts\" : val_relevant_contexts,\n",
        "    \"corpus\" : val_corpus\n",
        "}\n",
        "\n",
        "with open(\"val_dataset.jsonl\", \"w\") as f:\n",
        "  json.dump(val_dataset, f)"
      ]
    },
    {
      "cell_type": "code",
      "execution_count": 24,
      "metadata": {
        "id": "0DSQ7WMnWAu6"
      },
      "outputs": [],
      "source": [
        "train_corpus = {test_item.metadata[\"id\"] : test_item.page_content for test_item in test_split_documents}\n",
        "\n",
        "test_dataset = {\n",
        "    \"questions\" : test_questions,\n",
        "    \"relevant_contexts\" : test_relevant_contexts,\n",
        "    \"corpus\" : train_corpus\n",
        "}\n",
        "\n",
        "with open(\"test_dataset.jsonl\", \"w\") as f:\n",
        "  json.dump(test_dataset, f)"
      ]
    },
    {
      "cell_type": "markdown",
      "metadata": {
        "id": "vAwklqQCgVi-"
      },
      "source": [
        "## Task 4: Fine-tuning `snowflake-arctic-embed-m`\n",
        "\n",
        "Now that we have a dataset, let's grab a `sentence-transformers` Embeddings model!\n",
        "\n",
        "We'll be using Snowflake's [`snowflake-arctic-embed-m`](https://huggingface.co/Snowflake/snowflake-arctic-embed-m) as a base embeddings model.\n"
      ]
    },
    {
      "cell_type": "code",
      "execution_count": 32,
      "metadata": {
        "colab": {
          "base_uri": "https://localhost:8080/"
        },
        "id": "AXzVHP3v1Cno",
        "outputId": "82e08815-d683-46dd-bde6-fdb707e8ba50"
      },
      "outputs": [
        {
          "name": "stdout",
          "output_type": "stream",
          "text": [
            "\u001b[2K   \u001b[90m━━━━━━━━━━━━━━━━━━━━━━━━━━━━━━━━━━━━━━━━\u001b[0m \u001b[32m485.4/485.4 kB\u001b[0m \u001b[31m9.4 MB/s\u001b[0m eta \u001b[36m0:00:00\u001b[0m\n",
            "\u001b[2K   \u001b[90m━━━━━━━━━━━━━━━━━━━━━━━━━━━━━━━━━━━━━━━━\u001b[0m \u001b[32m42.1/42.1 MB\u001b[0m \u001b[31m47.5 MB/s\u001b[0m eta \u001b[36m0:00:00\u001b[0m\n",
            "\u001b[2K   \u001b[90m━━━━━━━━━━━━━━━━━━━━━━━━━━━━━━━━━━━━━━━━\u001b[0m \u001b[32m116.3/116.3 kB\u001b[0m \u001b[31m13.4 MB/s\u001b[0m eta \u001b[36m0:00:00\u001b[0m\n",
            "\u001b[2K   \u001b[90m━━━━━━━━━━━━━━━━━━━━━━━━━━━━━━━━━━━━━━━━\u001b[0m \u001b[32m143.5/143.5 kB\u001b[0m \u001b[31m16.4 MB/s\u001b[0m eta \u001b[36m0:00:00\u001b[0m\n",
            "\u001b[2K   \u001b[90m━━━━━━━━━━━━━━━━━━━━━━━━━━━━━━━━━━━━━━━━\u001b[0m \u001b[32m194.8/194.8 kB\u001b[0m \u001b[31m22.6 MB/s\u001b[0m eta \u001b[36m0:00:00\u001b[0m\n",
            "\u001b[?25h\u001b[31mERROR: pip's dependency resolver does not currently take into account all the packages that are installed. This behaviour is the source of the following dependency conflicts.\n",
            "cudf-cu12 24.12.0 requires pyarrow<19.0.0a0,>=14.0.0; platform_machine == \"x86_64\", but you have pyarrow 19.0.1 which is incompatible.\n",
            "pylibcudf-cu12 24.12.0 requires pyarrow<19.0.0a0,>=14.0.0; platform_machine == \"x86_64\", but you have pyarrow 19.0.1 which is incompatible.\u001b[0m\u001b[31m\n",
            "\u001b[0m"
          ]
        }
      ],
      "source": [
        "#!pip install -qU sentence_transformers datasets pyarrow"
      ]
    },
    {
      "cell_type": "code",
      "execution_count": 25,
      "metadata": {
        "colab": {
          "base_uri": "https://localhost:8080/",
          "height": 497,
          "referenced_widgets": [
            "1655a55103e94ad0bfc0498250741066",
            "34dcb1d369764b019048cebf36e1656d",
            "9de672e609f3457dba20c77a2d93abdd",
            "5cc840f0e4434ee2bc83142874157549",
            "68f82b78e202481b99c34c19420be5fa",
            "8d2b8bb014ff4f93825f8f67a287a5bc",
            "71e2039d4d4c4ff184d2515afed1fdfa",
            "f34d3e578ea34409a30c1577d67c7e45",
            "709dd55505c74470bcf7c1fba6f080b8",
            "a20b9617f9904e78bc8821550f73a935",
            "df73b7031b3e410caa9cee2d62933c75",
            "f3feb3c8f9674f07aa2c1830ebe3cde1",
            "1b01a1f651cb4d28959f49db9d5cd408",
            "10c7f17409444f62a8951fed90f57fd4",
            "23bd56fc4ccd466e86b29facadb12276",
            "d38b6d0bd7a74d69aad8843318baa959",
            "ce8789ede65a4dda914329008d1b2a84",
            "67ec0f74310240599468e25ff09b19ff",
            "ff8359110c0049918b901f32f792190d",
            "419b0d40c7374e339ec3781e63df0555",
            "f101c34d6ad946d5acbe8636ad0a45a7",
            "4fa7dca2223049b7ab2812d19cfc9281",
            "a35139167d8d43ac81e3b100cae2b625",
            "875a59f48db94d00ad75f0c30ff17bb7",
            "5e8b7b776981475a987c67d37daadc20",
            "6f597bc720224636b2ff5bfe74768664",
            "7c17bdb2be6a4c39a7cb090ca9366b66",
            "13cc3ed31b9849ef8f6f58c969a15e67",
            "93abef830a104a28bd642751d8d34eec",
            "f1356f847a7745f59b29af4eb6178568",
            "2a03c5fb94284b0d831b936d94b36846",
            "49219e92ac37464a809a33c5e39b54a9",
            "3e7da8e08e9a433a8f2113f24ffd4bbb",
            "f169368ae002493da6a366455d0c0e96",
            "9cfeaad9218949d9b02324c7be04a83f",
            "e6d160242c034ccb8da3b76a3355724b",
            "b607cb650e5e43eda23b3711c000a80a",
            "8dc54114cca54a1a9824a95d4b916155",
            "e57466622ac54b659323126ab4254525",
            "ae3d964517624166af7fdc884027cd3b",
            "659b500fe4664187ad8e87a099439be6",
            "920d423903c34be6981aaf3d6deec5ad",
            "46dbdf2602fa43edb6f0f03257efaa9f",
            "0e3d30285b014a869dd0529fd6162e4a",
            "42167e8b09244d6782930a237742873e",
            "dd06aad60a7a4d9f8a710bf757cb624d",
            "71a4a25d8a904d0ea4d599212f783503",
            "4d0d2491dec14fc59b891c2f3d3c42d2",
            "78b74c58367847ce8d6d34070aee2bf8",
            "a9facca0cf994fd0bff2edebf727ad22",
            "a089f8c63fc245c4be170e781ccb7d6a",
            "54bdaea8fc93458d9263965def7148bc",
            "3f7258bb5e624fc18e98fdf17b966f2a",
            "ee6eed8f43054726aecf336d738187f5",
            "8508afc6115846cc83c455b9e5b253c4",
            "2e843329e95f4eaaa3e96589a956f53d",
            "7c1fde36867f4ea49f96bba43bd05777",
            "4f00fa29a14248df85e01d9329869fc1",
            "eca250f57c3245fbbc5d56fe7a78c523",
            "44347e0fe7aa44958b8f5087107621ef",
            "c04d8e73f72c43018c2a7ae463e431f7",
            "5c362449f3354fd3b12414671484d948",
            "cf62b0ab08d64f298a0857a494ecec37",
            "2c026676b01840ce9098cf93aa46996b",
            "2902bbd1ceb540d0a4105e16df55e18d",
            "e9e0888babc34a7ba111c39f0067dd52",
            "935ce84ee3db4d6e8ae7b068386b457e",
            "de925065883548a592653ba836a53951",
            "5f8c7fe767064f0faf0421f130413296",
            "bf5d1b7ab329407f8f040084ba860685",
            "ff07f88aa16c4efe8438070feb168632",
            "16c18ef111494d6b8bf3f9fb0a2a6d94",
            "7e22f5cae0f94fd8ba6bae73358a310e",
            "568c65f6139e4d3ea643e186eeafec67",
            "affcdc1b1d6b46b0860b3f4fe6f94b64",
            "1404a8ce72af4fcc8a84294056d429db",
            "5af2512d90cd4b1d9ec675e727896fe4",
            "40c33bc429a645fd82c709f6b6a06cdc",
            "d6bbc61935d54f8d9be0c6b760a38e74",
            "74e49a687feb4b8483c407b777accbf9",
            "1ddbf168e7064a7a8bbe480accf56c43",
            "4416a5cb124b4bf5b3b1288a5d5746ef",
            "be6799f5110b49bcb323d1bf04816221",
            "dd26b2c9ac61498496e1b595d03e41a6",
            "fef76a0b0fd44072bad942c83c345153",
            "531e290fcc794976af310366f4605638",
            "d418622501ef44cd8da0f41d70834a00",
            "f3cd61ed01824fe6a4dedce02aa50e64",
            "912ceda9cc954dfa83fe306c2f92c107",
            "656a8c6d12c54bbfa88db44c5a4aaf33",
            "249d24f6dc144544b810728f1e0b0840",
            "b3fb91a7e2c147219694ee9b8cab88d5",
            "5c3aca327cf14aba95d04c5b848cf55f",
            "1f2be2a285c84103af205e790df2a533",
            "3df9394e08b24f23962850a83d9a64de",
            "3ab3b7092be747b685ed2fceb117654c",
            "5be038cc37544ffe82710030df4e2cf2",
            "dffac345a09141ffbb08a4b24cc6856e",
            "8a8e30b4b36241378a0dc440330e2620",
            "1c74c9c8f8164e17a1c07075d437cbdf",
            "5e1f6738c7a14fc1a6dfd2e86099f0e0",
            "c0c72ba6a48e4ca3b4b733fa6268e2d2",
            "abaa4da896b745cc80bba83c8769586b",
            "a8efcc37d85247a79cdf9e673eb7fe2c",
            "076dee8bd57640e0ba4ebd877c236682",
            "3187c9eafb534a9b97a60c784813b6f9",
            "9291631a2d224b24aa3b978d160d32a1",
            "c7845d06b2c14e4d88f3daa99cea84b0",
            "617342fb630f4bff820018ab5f0627e5",
            "c18364d9bce84ac7a87c3651430e5af5",
            "0b971cda6c65404b9327784fae02d36e",
            "0ea872faa6d04104b10a9543c74ef2ef",
            "24142b2108344c5f81466afcb16c3369",
            "dd05b801441f4dbc9065857e31b7c13f",
            "aa526f59610541b3b3507fd5b6563721",
            "0e91ed233c5f41eaaee70cfcd9b9f3a1",
            "5f533fea888d4365b813f0e45a4b48a0",
            "4a7e2b13414e4615953f9520c80438c3",
            "a39fd03e47dc49bd97e7f83082bb1d2f",
            "f357720f00fd4c248e12007227e57e8e",
            "1f227a06b3b147dcac32a24e13d3f731"
          ]
        },
        "id": "G-PGsQB7Xo6V",
        "outputId": "548e6c81-eae1-457b-fe92-633e00a978fe"
      },
      "outputs": [
        {
          "data": {
            "application/vnd.jupyter.widget-view+json": {
              "model_id": "75bb2f3dfeef4365905bbc264773036c",
              "version_major": 2,
              "version_minor": 0
            },
            "text/plain": [
              "modules.json:   0%|          | 0.00/349 [00:00<?, ?B/s]"
            ]
          },
          "metadata": {},
          "output_type": "display_data"
        },
        {
          "data": {
            "application/vnd.jupyter.widget-view+json": {
              "model_id": "c88346d8355d40cdb4aac83c35351ef8",
              "version_major": 2,
              "version_minor": 0
            },
            "text/plain": [
              "config_sentence_transformers.json:   0%|          | 0.00/252 [00:00<?, ?B/s]"
            ]
          },
          "metadata": {},
          "output_type": "display_data"
        },
        {
          "data": {
            "application/vnd.jupyter.widget-view+json": {
              "model_id": "f2c2dc12d46543dfbd5a54a159ada564",
              "version_major": 2,
              "version_minor": 0
            },
            "text/plain": [
              "README.md:   0%|          | 0.00/85.5k [00:00<?, ?B/s]"
            ]
          },
          "metadata": {},
          "output_type": "display_data"
        },
        {
          "data": {
            "application/vnd.jupyter.widget-view+json": {
              "model_id": "47d5ec7329f242fda4e2a515fd5196b2",
              "version_major": 2,
              "version_minor": 0
            },
            "text/plain": [
              "sentence_bert_config.json:   0%|          | 0.00/107 [00:00<?, ?B/s]"
            ]
          },
          "metadata": {},
          "output_type": "display_data"
        },
        {
          "data": {
            "application/vnd.jupyter.widget-view+json": {
              "model_id": "f8c9fcf55ffa447a89515e7abd64d1dc",
              "version_major": 2,
              "version_minor": 0
            },
            "text/plain": [
              "config.json:   0%|          | 0.00/738 [00:00<?, ?B/s]"
            ]
          },
          "metadata": {},
          "output_type": "display_data"
        },
        {
          "data": {
            "application/vnd.jupyter.widget-view+json": {
              "model_id": "450968d238da4476b10ee8885e2ac127",
              "version_major": 2,
              "version_minor": 0
            },
            "text/plain": [
              "model.safetensors:   0%|          | 0.00/436M [00:00<?, ?B/s]"
            ]
          },
          "metadata": {},
          "output_type": "display_data"
        },
        {
          "data": {
            "application/vnd.jupyter.widget-view+json": {
              "model_id": "9f4475d3ced8489c8a90d883f1ed1c43",
              "version_major": 2,
              "version_minor": 0
            },
            "text/plain": [
              "tokenizer_config.json:   0%|          | 0.00/1.38k [00:00<?, ?B/s]"
            ]
          },
          "metadata": {},
          "output_type": "display_data"
        },
        {
          "data": {
            "application/vnd.jupyter.widget-view+json": {
              "model_id": "bb837bc877b34d868fa53685127099a5",
              "version_major": 2,
              "version_minor": 0
            },
            "text/plain": [
              "vocab.txt:   0%|          | 0.00/232k [00:00<?, ?B/s]"
            ]
          },
          "metadata": {},
          "output_type": "display_data"
        },
        {
          "data": {
            "application/vnd.jupyter.widget-view+json": {
              "model_id": "5818107837a442a790b7414d92ee49da",
              "version_major": 2,
              "version_minor": 0
            },
            "text/plain": [
              "tokenizer.json:   0%|          | 0.00/712k [00:00<?, ?B/s]"
            ]
          },
          "metadata": {},
          "output_type": "display_data"
        },
        {
          "data": {
            "application/vnd.jupyter.widget-view+json": {
              "model_id": "dab0565fb45e40f580acf083ba3eb8cc",
              "version_major": 2,
              "version_minor": 0
            },
            "text/plain": [
              "special_tokens_map.json:   0%|          | 0.00/695 [00:00<?, ?B/s]"
            ]
          },
          "metadata": {},
          "output_type": "display_data"
        },
        {
          "data": {
            "application/vnd.jupyter.widget-view+json": {
              "model_id": "583afd0ec4644700924b4457530db4cf",
              "version_major": 2,
              "version_minor": 0
            },
            "text/plain": [
              "1_Pooling%2Fconfig.json:   0%|          | 0.00/296 [00:00<?, ?B/s]"
            ]
          },
          "metadata": {},
          "output_type": "display_data"
        }
      ],
      "source": [
        "from sentence_transformers import SentenceTransformer\n",
        "\n",
        "model_id = \"Snowflake/snowflake-arctic-embed-m\"\n",
        "model = SentenceTransformer(model_id)"
      ]
    },
    {
      "cell_type": "markdown",
      "metadata": {
        "id": "4ztG07iB8CFO"
      },
      "source": [
        "We'll grab some necessary imports from `sentence_transformers` and `torch`.\n",
        "\n",
        "> NOTE: PyTorch (`torch`) is a popular machine learning library - while we don't go very deep into PyTorch it's an incredibly powerful and interesting library! Please read more about it [here](https://pytorch.org/tutorials/beginner/basics/intro.html)!"
      ]
    },
    {
      "cell_type": "code",
      "execution_count": 26,
      "metadata": {
        "id": "B-WbpuUWYFJr"
      },
      "outputs": [],
      "source": [
        "from torch.utils.data import DataLoader\n",
        "from torch.utils.data import Dataset\n",
        "from sentence_transformers import InputExample"
      ]
    },
    {
      "cell_type": "markdown",
      "metadata": {
        "id": "AJtPPlck8HBE"
      },
      "source": [
        "We're using a toy batch size here to reflect the limited number of examples we have.\n",
        "\n",
        "> NOTE: It is typical to use a much larger batch size (~64+), hardware permitting."
      ]
    },
    {
      "cell_type": "code",
      "execution_count": 27,
      "metadata": {
        "id": "8Lokhy6KYHAv"
      },
      "outputs": [],
      "source": [
        "BATCH_SIZE = 10"
      ]
    },
    {
      "cell_type": "markdown",
      "metadata": {
        "id": "b-6DT8hc8PmT"
      },
      "source": [
        "Let's move our dataset into the expected format for training."
      ]
    },
    {
      "cell_type": "code",
      "execution_count": 28,
      "metadata": {
        "id": "JJk37zQsYJ4P"
      },
      "outputs": [],
      "source": [
        "corpus = train_dataset['corpus']\n",
        "queries = train_dataset['questions']\n",
        "relevant_docs = train_dataset['relevant_contexts']\n",
        "\n",
        "examples = []\n",
        "for query_id, query in queries.items():\n",
        "    doc_id = relevant_docs[query_id][0]\n",
        "    text = corpus[doc_id]\n",
        "    example = InputExample(texts=[query, text])\n",
        "    examples.append(example)"
      ]
    },
    {
      "cell_type": "markdown",
      "metadata": {
        "id": "OjFx7KHI8TL0"
      },
      "source": [
        "Now we can create a `torch` `DataLoader`!"
      ]
    },
    {
      "cell_type": "code",
      "execution_count": 29,
      "metadata": {
        "id": "tiizmeIqZ_-w"
      },
      "outputs": [],
      "source": [
        "loader = DataLoader(\n",
        "    examples, batch_size=BATCH_SIZE\n",
        ")"
      ]
    },
    {
      "cell_type": "markdown",
      "metadata": {
        "id": "_vA8rzlX8XbT"
      },
      "source": [
        "Next up, we'll prepare our loss function!\n",
        "\n",
        "Loss is an important part of training, fine-tuning, and more. If you want a deep dive on loss - you can check out our [event on loss!](https://www.youtube.com/watch?v=iB8FWR9aD5Q&t=8s).\n",
        "\n",
        "The core loss we're using today is called `MultipleNegativesRankingLoss` - you can find more information [here](https://github.com/UKPLab/sentence-transformers/blob/master/sentence_transformers/losses/MultipleNegativesRankingLoss.py).\n",
        "\n",
        "This is \"wrapped\" in `MatryoshkaLoss`, which you can read the implementation of [here](https://github.com/UKPLab/sentence-transformers/blob/master/sentence_transformers/losses/MatryoshkaLoss.py)."
      ]
    },
    {
      "cell_type": "code",
      "execution_count": 30,
      "metadata": {
        "id": "Uga4nnBqlVeh"
      },
      "outputs": [],
      "source": [
        "from sentence_transformers.losses import MatryoshkaLoss, MultipleNegativesRankingLoss\n",
        "\n",
        "matryoshka_dimensions = [768, 512, 256, 128, 64]\n",
        "inner_train_loss = MultipleNegativesRankingLoss(model)\n",
        "train_loss = MatryoshkaLoss(\n",
        "    model, inner_train_loss, matryoshka_dims=matryoshka_dimensions\n",
        ")"
      ]
    },
    {
      "cell_type": "markdown",
      "metadata": {
        "id": "QKxRuXfH844c"
      },
      "source": [
        "Now we can set-up our evaluator.\n",
        "\n",
        "> NOTE: Due to the formatting of our dataset - this is all we have to do!"
      ]
    },
    {
      "cell_type": "code",
      "execution_count": 31,
      "metadata": {
        "id": "f0hAFwUyaHQG"
      },
      "outputs": [],
      "source": [
        "from sentence_transformers.evaluation import InformationRetrievalEvaluator\n",
        "\n",
        "corpus = val_dataset['corpus']\n",
        "queries = val_dataset['questions']\n",
        "relevant_docs = val_dataset['relevant_contexts']\n",
        "\n",
        "evaluator = InformationRetrievalEvaluator(queries, corpus, relevant_docs)"
      ]
    },
    {
      "cell_type": "code",
      "execution_count": 32,
      "metadata": {
        "colab": {
          "base_uri": "https://localhost:8080/"
        },
        "id": "2aFl8Jo9FLgB",
        "outputId": "73d51ef1-37e8-450f-aa9a-eec3a0614b59"
      },
      "outputs": [
        {
          "name": "stdout",
          "output_type": "stream",
          "text": [
            "100\n"
          ]
        }
      ],
      "source": [
        "print(len(val_dataset['questions']))  # Check the number of validation questions"
      ]
    },
    {
      "cell_type": "markdown",
      "metadata": {
        "id": "MYfap_ct8-bU"
      },
      "source": [
        "We'll train this model for 5 epochs, though you could increase this number if we had a significant amount more data."
      ]
    },
    {
      "cell_type": "code",
      "execution_count": 33,
      "metadata": {
        "id": "svZG0pBHiQr6"
      },
      "outputs": [],
      "source": [
        "EPOCHS = 10"
      ]
    },
    {
      "cell_type": "markdown",
      "metadata": {
        "id": "wxitWoNX9DwW"
      },
      "source": [
        "It's training time!\n",
        "\n",
        "> NOTE: We're manually defining a warm-up period here - this is just to provide a smooth ramp into our training!"
      ]
    },
    {
      "cell_type": "code",
      "execution_count": 34,
      "metadata": {
        "colab": {
          "base_uri": "https://localhost:8080/",
          "height": 37
        },
        "id": "TPhJOJr_WbUA",
        "outputId": "6b696201-c76b-4e36-e4c2-cefbbe4400a5"
      },
      "outputs": [
        {
          "data": {
            "text/html": [
              "<button onClick=\"this.nextSibling.style.display='block';this.style.display='none';\">Display W&B run</button><iframe src='https://wandb.ai/dummy/dummy/runs/kbotr5s3?jupyter=true' style='border:none;width:100%;height:420px;display:none;'></iframe>"
            ],
            "text/plain": [
              "<wandb.sdk.wandb_run.Run at 0x76b659df81a0>"
            ]
          },
          "execution_count": 34,
          "metadata": {},
          "output_type": "execute_result"
        }
      ],
      "source": [
        "import wandb\n",
        "wandb.init(mode=\"disabled\")"
      ]
    },
    {
      "cell_type": "code",
      "execution_count": 35,
      "metadata": {
        "colab": {
          "base_uri": "https://localhost:8080/",
          "height": 865
        },
        "id": "aDhUHZY-iR09",
        "outputId": "e5b4ce92-3d78-41e5-ab52-bb7cd0ed9964"
      },
      "outputs": [
        {
          "data": {
            "application/vnd.jupyter.widget-view+json": {
              "model_id": "952e3b68b2974034ba8c5e8dfb81e35c",
              "version_major": 2,
              "version_minor": 0
            },
            "text/plain": [
              "Computing widget examples:   0%|          | 0/1 [00:00<?, ?example/s]"
            ]
          },
          "metadata": {},
          "output_type": "display_data"
        },
        {
          "name": "stderr",
          "output_type": "stream",
          "text": [
            "\u001b[34m\u001b[1mwandb\u001b[0m: \u001b[33mWARNING\u001b[0m The `run_name` is currently set to the same value as `TrainingArguments.output_dir`. If this was not intended, please specify a different run name by setting the `TrainingArguments.run_name` parameter.\n"
          ]
        },
        {
          "data": {
            "text/html": [
              "\n",
              "    <div>\n",
              "      \n",
              "      <progress value='650' max='650' style='width:300px; height:20px; vertical-align: middle;'></progress>\n",
              "      [650/650 01:02, Epoch 10/10]\n",
              "    </div>\n",
              "    <table border=\"1\" class=\"dataframe\">\n",
              "  <thead>\n",
              " <tr style=\"text-align: left;\">\n",
              "      <th>Step</th>\n",
              "      <th>Training Loss</th>\n",
              "      <th>Validation Loss</th>\n",
              "      <th>Cosine Accuracy@1</th>\n",
              "      <th>Cosine Accuracy@3</th>\n",
              "      <th>Cosine Accuracy@5</th>\n",
              "      <th>Cosine Accuracy@10</th>\n",
              "      <th>Cosine Precision@1</th>\n",
              "      <th>Cosine Precision@3</th>\n",
              "      <th>Cosine Precision@5</th>\n",
              "      <th>Cosine Precision@10</th>\n",
              "      <th>Cosine Recall@1</th>\n",
              "      <th>Cosine Recall@3</th>\n",
              "      <th>Cosine Recall@5</th>\n",
              "      <th>Cosine Recall@10</th>\n",
              "      <th>Cosine Ndcg@10</th>\n",
              "      <th>Cosine Mrr@10</th>\n",
              "      <th>Cosine Map@100</th>\n",
              "    </tr>\n",
              "  </thead>\n",
              "  <tbody>\n",
              "    <tr>\n",
              "      <td>50</td>\n",
              "      <td>No log</td>\n",
              "      <td>No log</td>\n",
              "      <td>0.770000</td>\n",
              "      <td>0.940000</td>\n",
              "      <td>0.970000</td>\n",
              "      <td>0.990000</td>\n",
              "      <td>0.770000</td>\n",
              "      <td>0.313333</td>\n",
              "      <td>0.194000</td>\n",
              "      <td>0.099000</td>\n",
              "      <td>0.770000</td>\n",
              "      <td>0.940000</td>\n",
              "      <td>0.970000</td>\n",
              "      <td>0.990000</td>\n",
              "      <td>0.888551</td>\n",
              "      <td>0.854857</td>\n",
              "      <td>0.855690</td>\n",
              "    </tr>\n",
              "    <tr>\n",
              "      <td>65</td>\n",
              "      <td>No log</td>\n",
              "      <td>No log</td>\n",
              "      <td>0.800000</td>\n",
              "      <td>0.910000</td>\n",
              "      <td>0.970000</td>\n",
              "      <td>1.000000</td>\n",
              "      <td>0.800000</td>\n",
              "      <td>0.303333</td>\n",
              "      <td>0.194000</td>\n",
              "      <td>0.100000</td>\n",
              "      <td>0.800000</td>\n",
              "      <td>0.910000</td>\n",
              "      <td>0.970000</td>\n",
              "      <td>1.000000</td>\n",
              "      <td>0.901329</td>\n",
              "      <td>0.869429</td>\n",
              "      <td>0.869429</td>\n",
              "    </tr>\n",
              "    <tr>\n",
              "      <td>100</td>\n",
              "      <td>No log</td>\n",
              "      <td>No log</td>\n",
              "      <td>0.800000</td>\n",
              "      <td>0.950000</td>\n",
              "      <td>1.000000</td>\n",
              "      <td>1.000000</td>\n",
              "      <td>0.800000</td>\n",
              "      <td>0.316667</td>\n",
              "      <td>0.200000</td>\n",
              "      <td>0.100000</td>\n",
              "      <td>0.800000</td>\n",
              "      <td>0.950000</td>\n",
              "      <td>1.000000</td>\n",
              "      <td>1.000000</td>\n",
              "      <td>0.909189</td>\n",
              "      <td>0.878667</td>\n",
              "      <td>0.878667</td>\n",
              "    </tr>\n",
              "    <tr>\n",
              "      <td>130</td>\n",
              "      <td>No log</td>\n",
              "      <td>No log</td>\n",
              "      <td>0.810000</td>\n",
              "      <td>0.960000</td>\n",
              "      <td>0.990000</td>\n",
              "      <td>1.000000</td>\n",
              "      <td>0.810000</td>\n",
              "      <td>0.320000</td>\n",
              "      <td>0.198000</td>\n",
              "      <td>0.100000</td>\n",
              "      <td>0.810000</td>\n",
              "      <td>0.960000</td>\n",
              "      <td>0.990000</td>\n",
              "      <td>1.000000</td>\n",
              "      <td>0.914575</td>\n",
              "      <td>0.885833</td>\n",
              "      <td>0.885833</td>\n",
              "    </tr>\n",
              "    <tr>\n",
              "      <td>150</td>\n",
              "      <td>No log</td>\n",
              "      <td>No log</td>\n",
              "      <td>0.820000</td>\n",
              "      <td>0.960000</td>\n",
              "      <td>0.990000</td>\n",
              "      <td>1.000000</td>\n",
              "      <td>0.820000</td>\n",
              "      <td>0.320000</td>\n",
              "      <td>0.198000</td>\n",
              "      <td>0.100000</td>\n",
              "      <td>0.820000</td>\n",
              "      <td>0.960000</td>\n",
              "      <td>0.990000</td>\n",
              "      <td>1.000000</td>\n",
              "      <td>0.919347</td>\n",
              "      <td>0.892262</td>\n",
              "      <td>0.892262</td>\n",
              "    </tr>\n",
              "    <tr>\n",
              "      <td>195</td>\n",
              "      <td>No log</td>\n",
              "      <td>No log</td>\n",
              "      <td>0.800000</td>\n",
              "      <td>0.970000</td>\n",
              "      <td>0.980000</td>\n",
              "      <td>1.000000</td>\n",
              "      <td>0.800000</td>\n",
              "      <td>0.323333</td>\n",
              "      <td>0.196000</td>\n",
              "      <td>0.100000</td>\n",
              "      <td>0.800000</td>\n",
              "      <td>0.970000</td>\n",
              "      <td>0.980000</td>\n",
              "      <td>1.000000</td>\n",
              "      <td>0.909116</td>\n",
              "      <td>0.878750</td>\n",
              "      <td>0.878750</td>\n",
              "    </tr>\n",
              "    <tr>\n",
              "      <td>200</td>\n",
              "      <td>No log</td>\n",
              "      <td>No log</td>\n",
              "      <td>0.800000</td>\n",
              "      <td>0.970000</td>\n",
              "      <td>0.980000</td>\n",
              "      <td>1.000000</td>\n",
              "      <td>0.800000</td>\n",
              "      <td>0.323333</td>\n",
              "      <td>0.196000</td>\n",
              "      <td>0.100000</td>\n",
              "      <td>0.800000</td>\n",
              "      <td>0.970000</td>\n",
              "      <td>0.980000</td>\n",
              "      <td>1.000000</td>\n",
              "      <td>0.909295</td>\n",
              "      <td>0.878929</td>\n",
              "      <td>0.878929</td>\n",
              "    </tr>\n",
              "    <tr>\n",
              "      <td>250</td>\n",
              "      <td>No log</td>\n",
              "      <td>No log</td>\n",
              "      <td>0.790000</td>\n",
              "      <td>0.970000</td>\n",
              "      <td>0.980000</td>\n",
              "      <td>1.000000</td>\n",
              "      <td>0.790000</td>\n",
              "      <td>0.323333</td>\n",
              "      <td>0.196000</td>\n",
              "      <td>0.100000</td>\n",
              "      <td>0.790000</td>\n",
              "      <td>0.970000</td>\n",
              "      <td>0.980000</td>\n",
              "      <td>1.000000</td>\n",
              "      <td>0.907671</td>\n",
              "      <td>0.876706</td>\n",
              "      <td>0.876706</td>\n",
              "    </tr>\n",
              "    <tr>\n",
              "      <td>260</td>\n",
              "      <td>No log</td>\n",
              "      <td>No log</td>\n",
              "      <td>0.790000</td>\n",
              "      <td>0.970000</td>\n",
              "      <td>0.980000</td>\n",
              "      <td>1.000000</td>\n",
              "      <td>0.790000</td>\n",
              "      <td>0.323333</td>\n",
              "      <td>0.196000</td>\n",
              "      <td>0.100000</td>\n",
              "      <td>0.790000</td>\n",
              "      <td>0.970000</td>\n",
              "      <td>0.980000</td>\n",
              "      <td>1.000000</td>\n",
              "      <td>0.905197</td>\n",
              "      <td>0.873512</td>\n",
              "      <td>0.873512</td>\n",
              "    </tr>\n",
              "    <tr>\n",
              "      <td>300</td>\n",
              "      <td>No log</td>\n",
              "      <td>No log</td>\n",
              "      <td>0.800000</td>\n",
              "      <td>0.970000</td>\n",
              "      <td>0.980000</td>\n",
              "      <td>1.000000</td>\n",
              "      <td>0.800000</td>\n",
              "      <td>0.323333</td>\n",
              "      <td>0.196000</td>\n",
              "      <td>0.100000</td>\n",
              "      <td>0.800000</td>\n",
              "      <td>0.970000</td>\n",
              "      <td>0.980000</td>\n",
              "      <td>1.000000</td>\n",
              "      <td>0.908888</td>\n",
              "      <td>0.878512</td>\n",
              "      <td>0.878512</td>\n",
              "    </tr>\n",
              "    <tr>\n",
              "      <td>325</td>\n",
              "      <td>No log</td>\n",
              "      <td>No log</td>\n",
              "      <td>0.810000</td>\n",
              "      <td>0.970000</td>\n",
              "      <td>0.980000</td>\n",
              "      <td>1.000000</td>\n",
              "      <td>0.810000</td>\n",
              "      <td>0.323333</td>\n",
              "      <td>0.196000</td>\n",
              "      <td>0.100000</td>\n",
              "      <td>0.810000</td>\n",
              "      <td>0.970000</td>\n",
              "      <td>0.980000</td>\n",
              "      <td>1.000000</td>\n",
              "      <td>0.912986</td>\n",
              "      <td>0.883929</td>\n",
              "      <td>0.883929</td>\n",
              "    </tr>\n",
              "    <tr>\n",
              "      <td>350</td>\n",
              "      <td>No log</td>\n",
              "      <td>No log</td>\n",
              "      <td>0.790000</td>\n",
              "      <td>0.970000</td>\n",
              "      <td>0.980000</td>\n",
              "      <td>1.000000</td>\n",
              "      <td>0.790000</td>\n",
              "      <td>0.323333</td>\n",
              "      <td>0.196000</td>\n",
              "      <td>0.100000</td>\n",
              "      <td>0.790000</td>\n",
              "      <td>0.970000</td>\n",
              "      <td>0.980000</td>\n",
              "      <td>1.000000</td>\n",
              "      <td>0.905604</td>\n",
              "      <td>0.873929</td>\n",
              "      <td>0.873929</td>\n",
              "    </tr>\n",
              "    <tr>\n",
              "      <td>390</td>\n",
              "      <td>No log</td>\n",
              "      <td>No log</td>\n",
              "      <td>0.790000</td>\n",
              "      <td>0.970000</td>\n",
              "      <td>0.980000</td>\n",
              "      <td>1.000000</td>\n",
              "      <td>0.790000</td>\n",
              "      <td>0.323333</td>\n",
              "      <td>0.196000</td>\n",
              "      <td>0.100000</td>\n",
              "      <td>0.790000</td>\n",
              "      <td>0.970000</td>\n",
              "      <td>0.980000</td>\n",
              "      <td>1.000000</td>\n",
              "      <td>0.904937</td>\n",
              "      <td>0.873190</td>\n",
              "      <td>0.873190</td>\n",
              "    </tr>\n",
              "    <tr>\n",
              "      <td>400</td>\n",
              "      <td>No log</td>\n",
              "      <td>No log</td>\n",
              "      <td>0.790000</td>\n",
              "      <td>0.970000</td>\n",
              "      <td>0.980000</td>\n",
              "      <td>1.000000</td>\n",
              "      <td>0.790000</td>\n",
              "      <td>0.323333</td>\n",
              "      <td>0.196000</td>\n",
              "      <td>0.100000</td>\n",
              "      <td>0.790000</td>\n",
              "      <td>0.970000</td>\n",
              "      <td>0.980000</td>\n",
              "      <td>1.000000</td>\n",
              "      <td>0.906247</td>\n",
              "      <td>0.874857</td>\n",
              "      <td>0.874857</td>\n",
              "    </tr>\n",
              "    <tr>\n",
              "      <td>450</td>\n",
              "      <td>No log</td>\n",
              "      <td>No log</td>\n",
              "      <td>0.800000</td>\n",
              "      <td>0.970000</td>\n",
              "      <td>0.980000</td>\n",
              "      <td>1.000000</td>\n",
              "      <td>0.800000</td>\n",
              "      <td>0.323333</td>\n",
              "      <td>0.196000</td>\n",
              "      <td>0.100000</td>\n",
              "      <td>0.800000</td>\n",
              "      <td>0.970000</td>\n",
              "      <td>0.980000</td>\n",
              "      <td>1.000000</td>\n",
              "      <td>0.908628</td>\n",
              "      <td>0.878190</td>\n",
              "      <td>0.878190</td>\n",
              "    </tr>\n",
              "    <tr>\n",
              "      <td>455</td>\n",
              "      <td>No log</td>\n",
              "      <td>No log</td>\n",
              "      <td>0.800000</td>\n",
              "      <td>0.970000</td>\n",
              "      <td>0.980000</td>\n",
              "      <td>1.000000</td>\n",
              "      <td>0.800000</td>\n",
              "      <td>0.323333</td>\n",
              "      <td>0.196000</td>\n",
              "      <td>0.100000</td>\n",
              "      <td>0.800000</td>\n",
              "      <td>0.970000</td>\n",
              "      <td>0.980000</td>\n",
              "      <td>1.000000</td>\n",
              "      <td>0.908628</td>\n",
              "      <td>0.878190</td>\n",
              "      <td>0.878190</td>\n",
              "    </tr>\n",
              "    <tr>\n",
              "      <td>500</td>\n",
              "      <td>0.691800</td>\n",
              "      <td>No log</td>\n",
              "      <td>0.790000</td>\n",
              "      <td>0.970000</td>\n",
              "      <td>0.980000</td>\n",
              "      <td>1.000000</td>\n",
              "      <td>0.790000</td>\n",
              "      <td>0.323333</td>\n",
              "      <td>0.196000</td>\n",
              "      <td>0.100000</td>\n",
              "      <td>0.790000</td>\n",
              "      <td>0.970000</td>\n",
              "      <td>0.980000</td>\n",
              "      <td>1.000000</td>\n",
              "      <td>0.904495</td>\n",
              "      <td>0.872762</td>\n",
              "      <td>0.872762</td>\n",
              "    </tr>\n",
              "    <tr>\n",
              "      <td>520</td>\n",
              "      <td>0.691800</td>\n",
              "      <td>No log</td>\n",
              "      <td>0.790000</td>\n",
              "      <td>0.970000</td>\n",
              "      <td>0.980000</td>\n",
              "      <td>0.990000</td>\n",
              "      <td>0.790000</td>\n",
              "      <td>0.323333</td>\n",
              "      <td>0.196000</td>\n",
              "      <td>0.099000</td>\n",
              "      <td>0.790000</td>\n",
              "      <td>0.970000</td>\n",
              "      <td>0.980000</td>\n",
              "      <td>0.990000</td>\n",
              "      <td>0.900295</td>\n",
              "      <td>0.870095</td>\n",
              "      <td>0.871004</td>\n",
              "    </tr>\n",
              "    <tr>\n",
              "      <td>550</td>\n",
              "      <td>0.691800</td>\n",
              "      <td>No log</td>\n",
              "      <td>0.790000</td>\n",
              "      <td>0.960000</td>\n",
              "      <td>0.970000</td>\n",
              "      <td>0.990000</td>\n",
              "      <td>0.790000</td>\n",
              "      <td>0.320000</td>\n",
              "      <td>0.194000</td>\n",
              "      <td>0.099000</td>\n",
              "      <td>0.790000</td>\n",
              "      <td>0.960000</td>\n",
              "      <td>0.970000</td>\n",
              "      <td>0.990000</td>\n",
              "      <td>0.899295</td>\n",
              "      <td>0.868929</td>\n",
              "      <td>0.869838</td>\n",
              "    </tr>\n",
              "    <tr>\n",
              "      <td>585</td>\n",
              "      <td>0.691800</td>\n",
              "      <td>No log</td>\n",
              "      <td>0.790000</td>\n",
              "      <td>0.960000</td>\n",
              "      <td>0.970000</td>\n",
              "      <td>0.990000</td>\n",
              "      <td>0.790000</td>\n",
              "      <td>0.320000</td>\n",
              "      <td>0.194000</td>\n",
              "      <td>0.099000</td>\n",
              "      <td>0.790000</td>\n",
              "      <td>0.960000</td>\n",
              "      <td>0.970000</td>\n",
              "      <td>0.990000</td>\n",
              "      <td>0.899295</td>\n",
              "      <td>0.868929</td>\n",
              "      <td>0.869838</td>\n",
              "    </tr>\n",
              "    <tr>\n",
              "      <td>600</td>\n",
              "      <td>0.691800</td>\n",
              "      <td>No log</td>\n",
              "      <td>0.790000</td>\n",
              "      <td>0.960000</td>\n",
              "      <td>0.970000</td>\n",
              "      <td>0.990000</td>\n",
              "      <td>0.790000</td>\n",
              "      <td>0.320000</td>\n",
              "      <td>0.194000</td>\n",
              "      <td>0.099000</td>\n",
              "      <td>0.790000</td>\n",
              "      <td>0.960000</td>\n",
              "      <td>0.970000</td>\n",
              "      <td>0.990000</td>\n",
              "      <td>0.899295</td>\n",
              "      <td>0.868929</td>\n",
              "      <td>0.869838</td>\n",
              "    </tr>\n",
              "    <tr>\n",
              "      <td>650</td>\n",
              "      <td>0.691800</td>\n",
              "      <td>No log</td>\n",
              "      <td>0.790000</td>\n",
              "      <td>0.960000</td>\n",
              "      <td>0.970000</td>\n",
              "      <td>0.990000</td>\n",
              "      <td>0.790000</td>\n",
              "      <td>0.320000</td>\n",
              "      <td>0.194000</td>\n",
              "      <td>0.099000</td>\n",
              "      <td>0.790000</td>\n",
              "      <td>0.960000</td>\n",
              "      <td>0.970000</td>\n",
              "      <td>0.990000</td>\n",
              "      <td>0.900604</td>\n",
              "      <td>0.870595</td>\n",
              "      <td>0.871504</td>\n",
              "    </tr>\n",
              "  </tbody>\n",
              "</table><p>"
            ],
            "text/plain": [
              "<IPython.core.display.HTML object>"
            ]
          },
          "metadata": {},
          "output_type": "display_data"
        }
      ],
      "source": [
        "warmup_steps = int(len(loader) * EPOCHS * 0.1)\n",
        "\n",
        "model.fit(\n",
        "    train_objectives=[(loader, train_loss)],\n",
        "    epochs=EPOCHS,\n",
        "    warmup_steps=warmup_steps,\n",
        "    output_path='finetuned_arctic_ft',\n",
        "    show_progress_bar=True,\n",
        "    evaluator=evaluator,\n",
        "    evaluation_steps=50\n",
        ")"
      ]
    },
    {
      "cell_type": "code",
      "execution_count": 36,
      "metadata": {
        "colab": {
          "base_uri": "https://localhost:8080/",
          "height": 17,
          "referenced_widgets": [
            "900fd340b34d46f8ba0ea3f528ce3257",
            "43849952bbde46d293e8cc0647b0da02",
            "9782e81927fe4cfd9c206e403fc6b85e",
            "84394bf19641481e8e96587d87c96e33",
            "e3f0694a50cc47c8958260023fe482a3",
            "23bdeaf7e51e4fbea8db7153111da336",
            "b4758b2f0cd5449aa7ee78d4d5f659d4",
            "4c1a3b0fd8a047ce8975fa06d32d30f4",
            "0947a14af719443bb73e68bf233327ec",
            "6921c4c27ef64fd9a8e53a9e88b100b3",
            "72cd988965014ab5a986cd00af5a1e74",
            "f97cfcba3950415ea704cae28cfb50ae",
            "94112625a2c84f8599de606629cb1bba",
            "e58d3c00b0384423833840402abaebff",
            "fe0ca84cc0de4afebec6ae6935bcc5ef",
            "d1d3aab646ea4f9a81da2b8bcce98518",
            "2859b49b4a62458aaf944e2293079805",
            "002060dffb3d4f3b9f657a7864519480",
            "9881fb0cc87b45a79fb2573587ffd3d7",
            "e7617978d309498295f8c7fb71eeda1b"
          ]
        },
        "id": "b3iwclvyRD8L",
        "outputId": "ab6a6d7d-87ca-47a9-ddea-893116fc2e1f"
      },
      "outputs": [
        {
          "data": {
            "application/vnd.jupyter.widget-view+json": {
              "model_id": "dc4c0b76aa564146a8ed7c3f49c0efdc",
              "version_major": 2,
              "version_minor": 0
            },
            "text/plain": [
              "VBox(children=(HTML(value='<center> <img\\nsrc=https://huggingface.co/front/assets/huggingface_logo-noborder.sv…"
            ]
          },
          "metadata": {},
          "output_type": "display_data"
        }
      ],
      "source": [
        "from huggingface_hub import notebook_login\n",
        "\n",
        "notebook_login()"
      ]
    },
    {
      "cell_type": "code",
      "execution_count": 37,
      "metadata": {
        "id": "_pn-Y6yjRoHk"
      },
      "outputs": [],
      "source": [
        "hf_username = \"philipk22\""
      ]
    },
    {
      "cell_type": "code",
      "execution_count": 59,
      "metadata": {
        "colab": {
          "base_uri": "https://localhost:8080/",
          "height": 68,
          "referenced_widgets": [
            "6e53c6ae1ce34c94b86c40f62fcafc86",
            "7ae06641831e4265bd0b496b44deef10",
            "fc86c78651ff4241804332164d8e9610",
            "a04ed3a298ce42ee97d85d2ca2b6d61c",
            "45f5121d9dfc4cdd8f9df4ac32e2fa9d",
            "5d843199a5ed4cd19ad04c1f03692993",
            "87a5a78dd4624779831f009ba6a5ef3c",
            "c9e18d8701604d5dbc88e8ed6fbfde5e",
            "1920130c5f5e4749bdbeb450e8d0e2af",
            "7ba37eb30a8b489d8793075fe6ad3a9b",
            "6055fa03b7ba4304be9008d185cf3456"
          ]
        },
        "id": "Nqhf3zWa9AiJ",
        "outputId": "4d79969d-6dac-4099-d8d3-cb8aa467f877"
      },
      "outputs": [
        {
          "data": {
            "application/vnd.jupyter.widget-view+json": {
              "model_id": "6e53c6ae1ce34c94b86c40f62fcafc86",
              "version_major": 2,
              "version_minor": 0
            },
            "text/plain": [
              "model.safetensors:   0%|          | 0.00/436M [00:00<?, ?B/s]"
            ]
          },
          "metadata": {},
          "output_type": "display_data"
        },
        {
          "data": {
            "application/vnd.google.colaboratory.intrinsic+json": {
              "type": "string"
            },
            "text/plain": [
              "'https://huggingface.co/philipk22/ind312-ft-v0/commit/9aa76ca50a2e32d8d5be1f1c112962151bebbc67'"
            ]
          },
          "execution_count": 59,
          "metadata": {},
          "output_type": "execute_result"
        }
      ],
      "source": [
        "model.push_to_hub(f\"{hf_username}/ind312-ft-v0\")"
      ]
    },
    {
      "cell_type": "markdown",
      "metadata": {
        "id": "6bo0zW5k9Poq"
      },
      "source": [
        "## Task 5: Evaluating our Retriever\n",
        "\n",
        "Now that we have fine-tuned our retriever - let's see if it's worthwhile!\n",
        "\n",
        "We'll start with some basic imports."
      ]
    },
    {
      "cell_type": "code",
      "execution_count": 38,
      "metadata": {
        "id": "Vq-2oqU0wHFr"
      },
      "outputs": [],
      "source": [
        "import pandas as pd\n",
        "\n",
        "from langchain_community.vectorstores import FAISS\n",
        "from langchain_openai.embeddings import OpenAIEmbeddings\n",
        "from langchain_core.documents import Document"
      ]
    },
    {
      "cell_type": "markdown",
      "metadata": {
        "id": "5jD0qrIh9X8f"
      },
      "source": [
        "Now we'll define a function that will help us evaluate our retrieval process.\n",
        "\n",
        "> NOTE: We're assuming 1 correct document in a \"hit\"."
      ]
    },
    {
      "cell_type": "code",
      "execution_count": 39,
      "metadata": {
        "id": "0713_3cowX4q"
      },
      "outputs": [],
      "source": [
        "def evaluate_openai(\n",
        "    dataset,\n",
        "    embed_model,\n",
        "    top_k=5,\n",
        "    verbose=False,\n",
        "):\n",
        "  corpus = dataset['corpus']\n",
        "  questions = dataset['questions']\n",
        "  relevant_docs = dataset['relevant_contexts']\n",
        "  documents = [Document(page_content=content, metadata={\"id\": doc_id}) for doc_id, content in corpus.items()]\n",
        "  vectorstore = FAISS.from_documents(documents, embed_model)\n",
        "\n",
        "  retriever = vectorstore.as_retriever(search_kwargs={\"k\": top_k})\n",
        "\n",
        "  eval_results = []\n",
        "  for id, question in tqdm.tqdm(questions.items()):\n",
        "    retrieved_nodes = retriever.invoke(question)\n",
        "    retrieved_ids = [node.metadata[\"id\"] for node in retrieved_nodes]\n",
        "    expected_id = relevant_docs[id][0]\n",
        "    is_hit = expected_id in retrieved_ids\n",
        "    eval_results.append({\"id\": id, \"question\": question, \"expected_id\": expected_id, \"is_hit\": is_hit})\n",
        "\n",
        "  return eval_results"
      ]
    },
    {
      "cell_type": "markdown",
      "metadata": {
        "id": "hOr49m4O9lxY"
      },
      "source": [
        "All that's left to do is evaluate, we'll evaluate our model against:\n",
        "\n",
        "1. OpenAI's closed source `text-embedding-3-small`\n",
        "2. The base non-fine-tuned version of `Snowflake/snowflake-arctic-embed-l`.\n",
        "\n",
        "Let's see how it stacks up!"
      ]
    },
    {
      "cell_type": "markdown",
      "metadata": {
        "id": "ijaeYpf593IW"
      },
      "source": [
        "### `text-embedding-3-small`"
      ]
    },
    {
      "cell_type": "code",
      "execution_count": 64,
      "metadata": {
        "colab": {
          "base_uri": "https://localhost:8080/"
        },
        "id": "kyY3PztaxnU3",
        "outputId": "3c1506d2-a5ba-4844-c6b8-813a21658591"
      },
      "outputs": [
        {
          "name": "stderr",
          "output_type": "stream",
          "text": [
            "100%|██████████| 100/100 [00:38<00:00,  2.58it/s]\n"
          ]
        }
      ],
      "source": [
        "te3_openai = OpenAIEmbeddings(model=\"text-embedding-3-small\")\n",
        "te3_results = evaluate_openai(test_dataset, te3_openai)"
      ]
    },
    {
      "cell_type": "code",
      "execution_count": 65,
      "metadata": {
        "id": "kkyW90TCxx_i"
      },
      "outputs": [],
      "source": [
        "te3_results_df = pd.DataFrame(te3_results)"
      ]
    },
    {
      "cell_type": "code",
      "execution_count": 66,
      "metadata": {
        "colab": {
          "base_uri": "https://localhost:8080/"
        },
        "id": "MscVRdNCylJ-",
        "outputId": "0b2b848d-3728-4911-f7db-6abc4af77241"
      },
      "outputs": [
        {
          "data": {
            "text/plain": [
              "0.95"
            ]
          },
          "execution_count": 66,
          "metadata": {},
          "output_type": "execute_result"
        }
      ],
      "source": [
        "te3_hit_rate = te3_results_df[\"is_hit\"].mean()\n",
        "te3_hit_rate"
      ]
    },
    {
      "cell_type": "markdown",
      "metadata": {
        "id": "4Ra-mh0L96dQ"
      },
      "source": [
        "### `Snowflake/snowflake-arctic-embed-m` (base)"
      ]
    },
    {
      "cell_type": "code",
      "execution_count": 41,
      "metadata": {
        "colab": {
          "base_uri": "https://localhost:8080/"
        },
        "id": "OEskxwvFypHe",
        "outputId": "827729e2-0547-43bf-e069-3b9c689e2e1b"
      },
      "outputs": [
        {
          "name": "stderr",
          "output_type": "stream",
          "text": [
            "100%|██████████| 100/100 [00:00<00:00, 161.48it/s]\n"
          ]
        }
      ],
      "source": [
        "from langchain_huggingface import HuggingFaceEmbeddings\n",
        "\n",
        "huggingface_embeddings = HuggingFaceEmbeddings(model_name=\"Snowflake/snowflake-arctic-embed-m\")\n",
        "arctic_embed_m_results = evaluate_openai(test_dataset, huggingface_embeddings)"
      ]
    },
    {
      "cell_type": "code",
      "execution_count": 43,
      "metadata": {
        "id": "KlKgiXTWzMTg"
      },
      "outputs": [],
      "source": [
        "arctic_embed_m_results_df = pd.DataFrame(arctic_embed_m_results)"
      ]
    },
    {
      "cell_type": "code",
      "execution_count": 44,
      "metadata": {
        "colab": {
          "base_uri": "https://localhost:8080/"
        },
        "id": "zV5vJWrJzOhc",
        "outputId": "10bc5ec8-c9f1-457c-aece-c80c53ceeec4"
      },
      "outputs": [
        {
          "data": {
            "text/plain": [
              "np.float64(0.68)"
            ]
          },
          "execution_count": 44,
          "metadata": {},
          "output_type": "execute_result"
        }
      ],
      "source": [
        "arctic_embed_m_hit_rate = arctic_embed_m_results_df[\"is_hit\"].mean()\n",
        "arctic_embed_m_hit_rate"
      ]
    },
    {
      "cell_type": "markdown",
      "metadata": {
        "id": "lcR3-0s19_lu"
      },
      "source": [
        "### `Snowflake/snowflake-arctic-embed-m` (fine-tuned)"
      ]
    },
    {
      "cell_type": "code",
      "execution_count": 42,
      "metadata": {
        "colab": {
          "base_uri": "https://localhost:8080/",
          "height": 443,
          "referenced_widgets": [
            "db2f4b0c42874f1ca0eea8c5c0a1d725",
            "1b5d24617ca144fcba67455461035154",
            "8b7981f361e743ef846873c7df86d777",
            "57d593c00b0c47fb9d81b07029678321",
            "eaa0248da7e24c34a3d0d943ec7c2cf8",
            "bb0790eb270b4695b031cdf23bc7cee3",
            "2a53bedaf229479c8511d3f4292a579a",
            "4460d35ddf3d499ca10edcd426bf26ff",
            "e4b19820fb294a37a8c9773e2eaf7fdf",
            "94530e4b22ff47cd91a4797ae9c60460",
            "8cb2079c4f6c489c931221ba0cebdd88",
            "1cac3b360ca94d95ac2de2e3a4b37fc3",
            "e129c532d59d41c0a27195b00962c296",
            "648af8444b30461087e2239a83c297fb",
            "be521e6ea9774583ab426e523233f2e0",
            "2c0553c157954d9aa92c4fadd649cb81",
            "f35d9e897d6643a38a2c75d6b6cdce93",
            "6fa9ea5da997461f8c7b7804125d1c08",
            "b5245965c9834ed2912aac8f8616606f",
            "ffef451b6fdf4528b19199be3f75eae6",
            "446ca0caa09e4f0ead40ff24575fef0a",
            "f0a63ba4ebe348e58ac12dc82750dd9e",
            "22605bbddef34ab3bdb64ec6dace6971",
            "fbf96c9d8dc543709922558f3752a9ce",
            "04343f7cf4d743838a214d7ca246f682",
            "fe872dbc630246558c1c034116bb926e",
            "5bb123972bd9446bb08f8970223f9d0b",
            "f0b41286b8d446f9a6e10b5e4ccefcb3",
            "11079df63b7f413aac79ed1980db93ae",
            "f0c80884b9434e1fb64e65b967255973",
            "c13aed82b75a487fb700f7c91e7712a4",
            "fdcbba178a764e329a5861b65e532bbb",
            "a11050b936ec4fc9be5e8a9c3a95930c",
            "168169efb2f849678cb21de3bfdc16e5",
            "dab22b04a6a8449a9ac05566c78e6b44",
            "f51663d308c548a28fa39dc491c35dd1",
            "6f0a9edd4f5f40178264232f194a572a",
            "f2ba5f3de0204a72bc1b4c80081e3e38",
            "1620184b6ffb419b89bc39f644491753",
            "b136ba3b8b8e4d63bbf98fe18d56f315",
            "a1f28ea941464ad78a814a70ff22fcde",
            "133e211fb7dc44f381e774219d5e2ae9",
            "096ea017944e43bfb5c322a8e60f9ab0",
            "63f881ea94b849d2abb4989c5f9b8e95",
            "109280d27de14aabbb4bbb51207ecf29",
            "2717213ccd0c488f8643485310c9c77a",
            "5cf8d529374246559203849d85af346f",
            "0d59be4677ff4c3c970cb93084cf4c01",
            "ed5b70da998042a9973dcc0fa41333c0",
            "ba99637f06dc4c04bdf6a1c8a89c5a15",
            "1a0c994ca9124762af92b16bbd0d8b13",
            "9a31dff2b5c243d9b76e2f0e25b2cfbb",
            "d72470657e2a47caa55ad9b95e8c750e",
            "7f2be2692b90480993c555a44427aabe",
            "17ad4968cdf34c82a1c5018a79a90dd4",
            "0d9d7bab897a4923b6e5c1d4966478b6",
            "8b6c73e99bf84514a54e0f4da530064d",
            "003824d83eb04801966d4401a9f8b096",
            "c6fd0b8f6bdc468b94040343ae7d5e6f",
            "91c675794b364e4eb51dda6f89659124",
            "ce80d7f4fbad4122a1a7ca2d844e516b",
            "47e1a4a620f34382a85a7f4f4b96b770",
            "33a79982611b40708a4788180bc74dda",
            "876c7f6e0d3a4790993ca8c5b228e460",
            "10c4fd35ae42457ba3af555d72fb89fa",
            "e89b4fe913db4724926c0652a0e6dede",
            "2bd101bab8df4892b6029565202c58bd",
            "9c98b181d3624f99be53543379197afe",
            "aad9dcec47b74a15b1757e4f7d53aec6",
            "f52fad5fa56e4f97bc100214d5690373",
            "df985ae8607348b7b885457e7a8d50ee",
            "40d27bc87aaf4d71ae1e5a248be52d2d",
            "325d5fd3c189439f90c99ac16e0899c4",
            "d5ca25f77d4b4190bbbd92c8ace28865",
            "394b5400ced544ecb392cb56b234fe97",
            "425a86a0444b412c9118186c9f88a1e0",
            "2f9941881afe4567ae4c1ae7fbda6f6c",
            "9b6917c97d8d4d0f9ebb1cffb7673dc0",
            "68e402a9ed3744689af45a8880bc1143",
            "58551f07d2024eb6bb50573e86009821",
            "1072910d00194d198fa6629f5e978e0a",
            "f39fefd124d54aeda05f777c1b9864f1",
            "7a5a437c97dd454bad24bb2bcfd280a4",
            "d4f84f46b2fe4ca98e180be19b657a1d",
            "b6d8f667ba4841228026f43907a9351d",
            "7a0ad1647bc24a278653e06c59d0c993",
            "2cd5706fcfee48039f8bb1aae4378a7c",
            "aa17ce44938d49bea33009aa9a643ec8",
            "400963efc2dc493dba85a22a97de96c9",
            "663124181d16464490c2940a751f27a7",
            "64fc9b6299524a9cbd10a46bc1c09d6f",
            "cca527a740ee4dd196da57c2aaddbb94",
            "622ac9a43bf84240bc2557bad0d46701",
            "ea3fb969680648b693511bb9d24c494d",
            "cc8f8883127746ae99d116d77d4c9439",
            "1f96b9897718451e850746a6fcf83496",
            "b1b16af7f91b406c9067d7240b1e469d",
            "e4dc0339dfdc421f9c8a376a29e5632c",
            "4bd9c525b0f546d89f882f6b0c5a9e78",
            "0944f91acb41469a9b8130efc1ccc12b",
            "40256ad9cbdd47a587ce1b3c73101de1",
            "1bb7ee2119fc471fa66fee113755e13f",
            "c6288c3cddb841759bd8e30c00da57e7",
            "184d73f9cd134cafb96f1943bf5f48a4",
            "d162312de98449768065795a2cf62bf4",
            "9ff50b46dce14bb9b335a2d87ad3b43f",
            "0ad8ec58cf644d72a9e6cf2707db1514",
            "0d77613d4a20449d9e1eee5b5f755979",
            "aec7a6465a3b46ed97715b6d648bbed2",
            "95beb04a0cdb415baea4890790345582",
            "6706423d57c64ba282c715a89e05fbca",
            "01dd733c63844550bda847ad27bea2ca",
            "1a291cd2235142de9a410a5cd64f62f6",
            "7c2114944a2e4267afe219270df6d9c9",
            "1d4ba91bc5ce45ea848721c156bf436d",
            "fe80e57b98eb49198f783154328031c7",
            "053efb33ac55436d9ed6043a6942c8d9",
            "c99a74788be14c8aadcc2b0b46808566",
            "096d2eb974764bb2929b1bb493eb960d",
            "43ce2dcb74f6487690dc7b232434fbe0",
            "208b5f222e4444b3913042c0747fdea3"
          ]
        },
        "id": "Ilse1LduzP1i",
        "outputId": "fad7ad66-0368-44b6-c192-2d18b1bfa408"
      },
      "outputs": [
        {
          "data": {
            "application/vnd.jupyter.widget-view+json": {
              "model_id": "16ca9913a4f9440aa4ff6d733d28a0fb",
              "version_major": 2,
              "version_minor": 0
            },
            "text/plain": [
              "modules.json:   0%|          | 0.00/349 [00:00<?, ?B/s]"
            ]
          },
          "metadata": {},
          "output_type": "display_data"
        },
        {
          "data": {
            "application/vnd.jupyter.widget-view+json": {
              "model_id": "22a76a2bac1a4c10b3dc0cfa622b1c85",
              "version_major": 2,
              "version_minor": 0
            },
            "text/plain": [
              "config_sentence_transformers.json:   0%|          | 0.00/281 [00:00<?, ?B/s]"
            ]
          },
          "metadata": {},
          "output_type": "display_data"
        },
        {
          "data": {
            "application/vnd.jupyter.widget-view+json": {
              "model_id": "57ffdc15ee26432594578e8705e2e002",
              "version_major": 2,
              "version_minor": 0
            },
            "text/plain": [
              "README.md:   0%|          | 0.00/26.2k [00:00<?, ?B/s]"
            ]
          },
          "metadata": {},
          "output_type": "display_data"
        },
        {
          "data": {
            "application/vnd.jupyter.widget-view+json": {
              "model_id": "a255b5f00a6e4e90b943c6f3bca30b57",
              "version_major": 2,
              "version_minor": 0
            },
            "text/plain": [
              "sentence_bert_config.json:   0%|          | 0.00/53.0 [00:00<?, ?B/s]"
            ]
          },
          "metadata": {},
          "output_type": "display_data"
        },
        {
          "data": {
            "application/vnd.jupyter.widget-view+json": {
              "model_id": "ff3be27e2139457ab6c675bf6fd09760",
              "version_major": 2,
              "version_minor": 0
            },
            "text/plain": [
              "config.json:   0%|          | 0.00/675 [00:00<?, ?B/s]"
            ]
          },
          "metadata": {},
          "output_type": "display_data"
        },
        {
          "data": {
            "application/vnd.jupyter.widget-view+json": {
              "model_id": "02e9d24b5c43400f904b73b5640887c4",
              "version_major": 2,
              "version_minor": 0
            },
            "text/plain": [
              "model.safetensors:   0%|          | 0.00/436M [00:00<?, ?B/s]"
            ]
          },
          "metadata": {},
          "output_type": "display_data"
        },
        {
          "name": "stderr",
          "output_type": "stream",
          "text": [
            "Some weights of BertModel were not initialized from the model checkpoint at philipk22/ind312-ft-v0 and are newly initialized: ['pooler.dense.bias', 'pooler.dense.weight']\n",
            "You should probably TRAIN this model on a down-stream task to be able to use it for predictions and inference.\n"
          ]
        },
        {
          "data": {
            "application/vnd.jupyter.widget-view+json": {
              "model_id": "7d8154cba43d4704a47d23c4871342b9",
              "version_major": 2,
              "version_minor": 0
            },
            "text/plain": [
              "tokenizer_config.json:   0%|          | 0.00/1.41k [00:00<?, ?B/s]"
            ]
          },
          "metadata": {},
          "output_type": "display_data"
        },
        {
          "data": {
            "application/vnd.jupyter.widget-view+json": {
              "model_id": "4a21ff9f696745969bd714ac4863dfa4",
              "version_major": 2,
              "version_minor": 0
            },
            "text/plain": [
              "vocab.txt:   0%|          | 0.00/232k [00:00<?, ?B/s]"
            ]
          },
          "metadata": {},
          "output_type": "display_data"
        },
        {
          "data": {
            "application/vnd.jupyter.widget-view+json": {
              "model_id": "c61e3fe2056842b491ffdb8af40dd493",
              "version_major": 2,
              "version_minor": 0
            },
            "text/plain": [
              "tokenizer.json:   0%|          | 0.00/712k [00:00<?, ?B/s]"
            ]
          },
          "metadata": {},
          "output_type": "display_data"
        },
        {
          "data": {
            "application/vnd.jupyter.widget-view+json": {
              "model_id": "bdd10a1618744e28ab24f78509c16352",
              "version_major": 2,
              "version_minor": 0
            },
            "text/plain": [
              "special_tokens_map.json:   0%|          | 0.00/695 [00:00<?, ?B/s]"
            ]
          },
          "metadata": {},
          "output_type": "display_data"
        },
        {
          "data": {
            "application/vnd.jupyter.widget-view+json": {
              "model_id": "7daa6ed5c2fb43bdac1b532f612d514a",
              "version_major": 2,
              "version_minor": 0
            },
            "text/plain": [
              "1_Pooling%2Fconfig.json:   0%|          | 0.00/296 [00:00<?, ?B/s]"
            ]
          },
          "metadata": {},
          "output_type": "display_data"
        },
        {
          "name": "stderr",
          "output_type": "stream",
          "text": [
            "100%|██████████| 100/100 [00:00<00:00, 156.21it/s]\n"
          ]
        }
      ],
      "source": [
        "finetune_embeddings = HuggingFaceEmbeddings(model_name=\"philipk22/ind312-ft-v0\")\n",
        "finetune_results = evaluate_openai(test_dataset, finetune_embeddings)"
      ]
    },
    {
      "cell_type": "code",
      "execution_count": 45,
      "metadata": {
        "id": "xxhZPqkNzZlh"
      },
      "outputs": [],
      "source": [
        "finetune_results_df = pd.DataFrame(finetune_results)"
      ]
    },
    {
      "cell_type": "code",
      "execution_count": 46,
      "metadata": {
        "colab": {
          "base_uri": "https://localhost:8080/"
        },
        "id": "4thAK2BXzaj6",
        "outputId": "084e1c2c-9dd6-4978-d054-65dda8b48f77"
      },
      "outputs": [
        {
          "data": {
            "text/plain": [
              "np.float64(0.99)"
            ]
          },
          "execution_count": 46,
          "metadata": {},
          "output_type": "execute_result"
        }
      ],
      "source": [
        "finetune_hit_rate = finetune_results_df[\"is_hit\"].mean()\n",
        "finetune_hit_rate"
      ]
    },
    {
      "cell_type": "markdown",
      "metadata": {
        "id": "iegFM209mBk3"
      },
      "source": [
        "## Task 1: Vibe Checking the RAG Pipeline\n",
        "\n",
        "We're going to use our RAG pipeline to vibe check on some common phrases now that we've modified it!"
      ]
    },
    {
      "cell_type": "markdown",
      "metadata": {
        "id": "Xzg0AA5krgR4"
      },
      "source": [
        "### Creating New Chunks\n",
        "\n",
        "In order to try and evaluate our system more fairly, let's create new chunks that we will use to create our Vector Store."
      ]
    },
    {
      "cell_type": "code",
      "execution_count": 47,
      "metadata": {
        "colab": {
          "base_uri": "https://localhost:8080/",
          "height": 218
        },
        "id": "KwQ2_LqNr0Tw",
        "outputId": "46ad341e-4a2e-4af2-d09c-6ab459f86e70"
      },
      "outputs": [],
      "source": [
        "text_splitter = RecursiveCharacterTextSplitter(\n",
        "    chunk_size = 500, # 600\n",
        "    chunk_overlap  = 50,\n",
        "    length_function = len\n",
        ")\n",
        "\n",
        "training_documents = text_splitter.split_documents(text_loader.load())"
      ]
    },
    {
      "cell_type": "markdown",
      "metadata": {
        "id": "gIdxahHXpP-c"
      },
      "source": [
        "### Base Chain\n",
        "\n",
        "We'll start by constructing our base chain, which will use the untrained retrieval model."
      ]
    },
    {
      "cell_type": "markdown",
      "metadata": {
        "id": "bOsxIXpNpWC2"
      },
      "source": [
        "#### R - Retrieval"
      ]
    },
    {
      "cell_type": "code",
      "execution_count": 48,
      "metadata": {
        "colab": {
          "base_uri": "https://localhost:8080/",
          "height": 380
        },
        "id": "azIGIKYfmNCT",
        "outputId": "d88fc50d-8381-47b4-c4f0-9816927a9f56"
      },
      "outputs": [],
      "source": [
        "from langchain_community.vectorstores import FAISS\n",
        "\n",
        "base_vectorstore = FAISS.from_documents(training_documents, huggingface_embeddings)\n",
        "base_retriever = base_vectorstore.as_retriever(search_kwargs={\"k\": 6})"
      ]
    },
    {
      "cell_type": "markdown",
      "metadata": {
        "id": "l-1nVZ0KpX5N"
      },
      "source": [
        "#### A - Augmented"
      ]
    },
    {
      "cell_type": "code",
      "execution_count": 49,
      "metadata": {
        "id": "G10Fr-aKojeA"
      },
      "outputs": [],
      "source": [
        "from langchain_core.prompts import ChatPromptTemplate\n",
        "\n",
        "RAG_PROMPT = \"\"\"\\\n",
        "Given a provided context and a question, you must answer the question. If you do not know the answer, you must state that you do not know.\n",
        "\n",
        "Context:\n",
        "{context}\n",
        "\n",
        "Question:\n",
        "{question}\n",
        "\n",
        "Answer:\n",
        "\"\"\"\n",
        "\n",
        "rag_prompt_template = ChatPromptTemplate.from_template(RAG_PROMPT)"
      ]
    },
    {
      "cell_type": "markdown",
      "metadata": {
        "id": "Euq6RQEopZvD"
      },
      "source": [
        "#### G - Generation"
      ]
    },
    {
      "cell_type": "code",
      "execution_count": 50,
      "metadata": {
        "id": "5-mfbbrypMHG"
      },
      "outputs": [],
      "source": [
        "rag_llm =  ChatOpenAI(\n",
        "    model=\"gpt-4o-mini\",\n",
        "    temperature=0\n",
        ")"
      ]
    },
    {
      "cell_type": "markdown",
      "metadata": {
        "id": "wQ2p4mnUpbYY"
      },
      "source": [
        "#### RAG - LCEL RAG Pipeline"
      ]
    },
    {
      "cell_type": "code",
      "execution_count": 51,
      "metadata": {
        "colab": {
          "base_uri": "https://localhost:8080/",
          "height": 218
        },
        "id": "ssuR-LaboyGq",
        "outputId": "e7274228-c9e6-4add-e14e-d15c29d70608"
      },
      "outputs": [],
      "source": [
        "from operator import itemgetter\n",
        "from langchain_core.output_parsers import StrOutputParser\n",
        "from langchain_core.runnables import RunnablePassthrough, RunnableParallel\n",
        "\n",
        "base_rag_chain = (\n",
        "    {\"context\": itemgetter(\"question\") | base_retriever, \"question\": itemgetter(\"question\")}\n",
        "    | RunnablePassthrough.assign(context=itemgetter(\"context\"))\n",
        "    | {\"response\": rag_prompt_template | rag_llm | StrOutputParser(), \"context\": itemgetter(\"context\")}\n",
        ")"
      ]
    },
    {
      "cell_type": "code",
      "execution_count": 52,
      "metadata": {
        "colab": {
          "base_uri": "https://localhost:8080/",
          "height": 124
        },
        "id": "emm6WbB9pfKt",
        "outputId": "7804ebfc-dcc2-420d-f931-437efcd02fec"
      },
      "outputs": [
        {
          "data": {
            "text/plain": [
              "'Before submitting an IND (Investigational New Drug application), sponsors are required to conduct animal toxicology studies or other human studies as appropriate. Additionally, information derived from clinical or epidemiological investigations, animal or in vitro studies, and reports from scientific literature and foreign regulatory authorities may also be necessary.'"
            ]
          },
          "execution_count": 52,
          "metadata": {},
          "output_type": "execute_result"
        }
      ],
      "source": [
        "base_rag_chain.invoke({\"question\" : \"What type of studies are required before submitting an IND?\"})[\"response\"]"
      ]
    },
    {
      "cell_type": "code",
      "execution_count": 53,
      "metadata": {
        "colab": {
          "base_uri": "https://localhost:8080/",
          "height": 71
        },
        "id": "mUOrd0OBprAq",
        "outputId": "f6eb3b4e-d25e-454b-d248-a9519b8f0d38"
      },
      "outputs": [
        {
          "data": {
            "text/plain": [
              "'If the FDA places a clinical hold on an IND application, it may do so if it finds that human subjects are or would be exposed to an unreasonable and significant risk of illness or injury, or if the clinical investigators named in the IND are not qualified to conduct the investigation. The affected investigation(s) cannot proceed until the sponsor corrects the deficiencies cited by the FDA or otherwise satisfies the agency that the investigation(s) can proceed. The FDA will notify the sponsor of its determination regarding the clinical hold, and the sponsor may have an opportunity for a regulatory hearing on whether the IND should be reinstated.'"
            ]
          },
          "execution_count": 53,
          "metadata": {},
          "output_type": "execute_result"
        }
      ],
      "source": [
        "base_rag_chain.invoke({\"question\" : \"What happen if the FDA places a clinical hold on an IND application?\"})[\"response\"]"
      ]
    },
    {
      "cell_type": "code",
      "execution_count": 54,
      "metadata": {
        "colab": {
          "base_uri": "https://localhost:8080/",
          "height": 35
        },
        "id": "OnfuFl59py7I",
        "outputId": "700a6424-89d2-4850-f6d3-f70a5c1a59c7"
      },
      "outputs": [
        {
          "data": {
            "text/plain": [
              "'The submission for compiling drug substance information is required to include the following details:\\n\\n1. A description of the drug substance, including its physical, chemical, or biological characteristics.\\n2. The name and address of its manufacturer.\\n3. The general method of preparation of the drug substance.\\n4. Acceptable limits and analytical methods used to assure the identity, strength, quality, and purity of the drug substance.\\n5. Information about both components intended to appear in the drug product and those used in the manufacturing process.\\n6. The quantitative composition of the investigational drug product, including any reasonable variations expected during the investigational stage.\\n7. The name and address of the drug product manufacturer.\\n8. A brief general description of the manufacturing process.'"
            ]
          },
          "execution_count": 54,
          "metadata": {},
          "output_type": "execute_result"
        }
      ],
      "source": [
        "base_rag_chain.invoke({\"question\" : \"what about Compile Drug Substance Information?\"})[\"response\"]"
      ]
    },
    {
      "cell_type": "code",
      "execution_count": 59,
      "metadata": {
        "colab": {
          "base_uri": "https://localhost:8080/",
          "height": 35
        },
        "id": "-NmqwHBDqTZ8",
        "outputId": "d9ef3583-2c06-427e-d064-5afc1578abd8"
      },
      "outputs": [
        {
          "data": {
            "text/plain": [
              "'I do not know.'"
            ]
          },
          "execution_count": 59,
          "metadata": {},
          "output_type": "execute_result"
        }
      ],
      "source": [
        "base_rag_chain.invoke({\"question\" : \"What is the meaning of 'inactive IND' in section 312.45?\"})[\"response\"]"
      ]
    },
    {
      "cell_type": "code",
      "execution_count": 68,
      "metadata": {},
      "outputs": [
        {
          "data": {
            "text/plain": [
              "'I do not know.'"
            ]
          },
          "execution_count": 68,
          "metadata": {},
          "output_type": "execute_result"
        }
      ],
      "source": [
        "base_rag_chain.invoke({\"question\" : \"Under section 312.56, what are the situations in which the FDA may suspend an IND?\"})[\"response\"]"
      ]
    },
    {
      "cell_type": "markdown",
      "metadata": {
        "id": "SqNS0UJAp3lC"
      },
      "source": [
        "### Fine-tuned Embedding Model\n",
        "\n",
        "Now let's rebuild our RAG chain with the Fine-tuned model - the only component we need to change is our `FAISS` vectorstore!"
      ]
    },
    {
      "cell_type": "code",
      "execution_count": 60,
      "metadata": {
        "id": "ihO7tP6mqATy"
      },
      "outputs": [],
      "source": [
        "finetune_vectorstore = FAISS.from_documents(training_documents, finetune_embeddings)\n",
        "finetune_retriever = finetune_vectorstore.as_retriever(search_kwargs={\"k\": 6})"
      ]
    },
    {
      "cell_type": "code",
      "execution_count": 61,
      "metadata": {
        "id": "1_cIFvWzqKGY"
      },
      "outputs": [],
      "source": [
        "finetune_rag_chain = (\n",
        "    {\"context\": itemgetter(\"question\") | finetune_retriever, \"question\": itemgetter(\"question\")}\n",
        "    | RunnablePassthrough.assign(context=itemgetter(\"context\"))\n",
        "    | {\"response\": rag_prompt_template | rag_llm | StrOutputParser(), \"context\": itemgetter(\"context\")}\n",
        ")"
      ]
    },
    {
      "cell_type": "code",
      "execution_count": 62,
      "metadata": {
        "colab": {
          "base_uri": "https://localhost:8080/",
          "height": 177
        },
        "id": "OJmRHJF2qNgj",
        "outputId": "61a70712-352c-47c5-fe7b-21a041ce5798"
      },
      "outputs": [
        {
          "data": {
            "text/plain": [
              "'The context does not specify the exact type of studies required before submitting an IND (Investigational New Drug application). It mentions that the amount of information submitted in an IND depends on factors such as the novelty of the drug, the extent to which it has been studied previously, and known or suspected risks. However, it does not detail specific study requirements. Therefore, I do not know the answer.'"
            ]
          },
          "execution_count": 62,
          "metadata": {},
          "output_type": "execute_result"
        }
      ],
      "source": [
        "finetune_rag_chain.invoke({\"question\" : \"What type of studies are required before submitting an IND?\"})[\"response\"]"
      ]
    },
    {
      "cell_type": "code",
      "execution_count": 63,
      "metadata": {
        "colab": {
          "base_uri": "https://localhost:8080/",
          "height": 71
        },
        "id": "EnK-c2ugqPPh",
        "outputId": "bdf8802d-510f-4216-fdb6-f1cae82b8226"
      },
      "outputs": [
        {
          "data": {
            "text/plain": [
              "'If the FDA places a clinical hold on an IND application, it issues an order to the sponsor to delay a proposed clinical investigation or to suspend an ongoing investigation. This means that subjects may not be given the investigational drug in a proposed study, and no new subjects may be enrolled in an ongoing study. The clinical hold can apply to one or more investigations covered by the IND.'"
            ]
          },
          "execution_count": 63,
          "metadata": {},
          "output_type": "execute_result"
        }
      ],
      "source": [
        "finetune_rag_chain.invoke({\"question\" : \"What happen if the FDA places a clinical hold on an IND application?\"})[\"response\"]"
      ]
    },
    {
      "cell_type": "code",
      "execution_count": 64,
      "metadata": {
        "colab": {
          "base_uri": "https://localhost:8080/",
          "height": 35
        },
        "id": "83hssg1AWozc",
        "outputId": "b0d8f20a-aa2d-4f8c-c1cd-fa113766e9b0"
      },
      "outputs": [
        {
          "data": {
            "text/plain": [
              "'The context provides information about the requirements for compiling drug substance information in the context of an Investigational New Drug (IND) application. Specifically, it mentions that the submission must include a description of the drug substance, which should cover its physical, chemical, or biological characteristics, the name and address of its manufacturer, the general method of preparation, acceptable limits, and analytical methods used to assure the identity, strength, quality, and purity of the drug substance. Additionally, it should include information about both the components intended to appear in the drug product and those used in the manufacturing process, as well as the quantitative composition of the investigational drug product.'"
            ]
          },
          "execution_count": 64,
          "metadata": {},
          "output_type": "execute_result"
        }
      ],
      "source": [
        "finetune_rag_chain.invoke({\"question\" : \"what about Compile Drug Substance Information?\"})[\"response\"]"
      ]
    },
    {
      "cell_type": "code",
      "execution_count": 65,
      "metadata": {
        "colab": {
          "base_uri": "https://localhost:8080/",
          "height": 35
        },
        "id": "rsHmGeFbqRET",
        "outputId": "5353dc1f-4fb3-4891-958a-16e242f3714b"
      },
      "outputs": [
        {
          "data": {
            "text/plain": [
              "\"An 'inactive IND' refers to an Investigational New Drug application that is not currently active, meaning that the sponsor is not required to submit annual reports for it. However, it remains in effect for the purposes of public disclosure of data and information. An IND can be placed on inactive status by the FDA, particularly if it has been on clinical hold for one year or more, and it may be terminated if it remains inactive for five years or more.\""
            ]
          },
          "execution_count": 65,
          "metadata": {},
          "output_type": "execute_result"
        }
      ],
      "source": [
        "finetune_rag_chain.invoke({\"question\" : \"What is the meaning of 'inactive IND' in section 312.45?\"})[\"response\"]"
      ]
    },
    {
      "cell_type": "code",
      "execution_count": 67,
      "metadata": {},
      "outputs": [
        {
          "data": {
            "text/plain": [
              "'The provided context does not include specific information about section 312.56 or the situations in which the FDA may suspend an IND. Therefore, I do not know the answer to the question.'"
            ]
          },
          "execution_count": 67,
          "metadata": {},
          "output_type": "execute_result"
        }
      ],
      "source": [
        "finetune_rag_chain.invoke({\"question\" : \"Under section 312.56, what are the situations in which the FDA may suspend an IND?\"})[\"response\"]"
      ]
    },
    {
      "cell_type": "markdown",
      "metadata": {
        "id": "WCbq1sZArIx4"
      },
      "source": [
        "## Task 2: RAGAS Evaluation\n",
        "\n",
        "It's great to have some idea of how our system is doing based on vibe-checks, but let's use RAGAS to provide more insight info. on how things are improving!\n",
        "\n",
        "> NOTE: Please recreate *exactly* the RAGAS process we used to evaluate RAG, baselining with the default retriever, and then comparing the new retriever. The includes the Synthetic Data Generation steps."
      ]
    },
    {
      "cell_type": "code",
      "execution_count": 69,
      "metadata": {
        "id": "jq880DtHk9pX"
      },
      "outputs": [],
      "source": [
        "### YOUR CODE Himport os\n",
        "from getpass import getpass\n",
        "\n",
        "os.environ[\"RAGAS_APP_TOKEN\"] = getpass(\"Please enter your Ragas API key!\")"
      ]
    },
    {
      "cell_type": "code",
      "execution_count": 70,
      "metadata": {},
      "outputs": [
        {
          "name": "stderr",
          "output_type": "stream",
          "text": [
            "[nltk_data] Downloading package punkt_tab to /home/pkang/nltk_data...\n",
            "[nltk_data]   Unzipping tokenizers/punkt_tab.zip.\n",
            "[nltk_data] Downloading package averaged_perceptron_tagger_eng to\n",
            "[nltk_data]     /home/pkang/nltk_data...\n",
            "[nltk_data]   Package averaged_perceptron_tagger_eng is already up-to-\n",
            "[nltk_data]       date!\n"
          ]
        },
        {
          "data": {
            "text/plain": [
              "True"
            ]
          },
          "execution_count": 70,
          "metadata": {},
          "output_type": "execute_result"
        }
      ],
      "source": [
        "import nltk\n",
        "nltk.download('punkt_tab')\n",
        "nltk.download('averaged_perceptron_tagger_eng')"
      ]
    },
    {
      "cell_type": "code",
      "execution_count": 71,
      "metadata": {},
      "outputs": [],
      "source": [
        "from ragas.llms import LangchainLLMWrapper\n",
        "from ragas.embeddings import LangchainEmbeddingsWrapper\n",
        "from langchain_openai import ChatOpenAI\n",
        "from langchain_openai import OpenAIEmbeddings\n",
        "\n",
        "generator_llm = LangchainLLMWrapper(ChatOpenAI(model=\"gpt-4o\"))\n",
        "generator_embeddings = LangchainEmbeddingsWrapper(OpenAIEmbeddings())"
      ]
    },
    {
      "cell_type": "code",
      "execution_count": 72,
      "metadata": {},
      "outputs": [
        {
          "data": {
            "application/vnd.jupyter.widget-view+json": {
              "model_id": "73d490ed2da14c9fb0aa71dc418ed076",
              "version_major": 2,
              "version_minor": 0
            },
            "text/plain": [
              "Applying SummaryExtractor:   0%|          | 0/120 [00:00<?, ?it/s]"
            ]
          },
          "metadata": {},
          "output_type": "display_data"
        },
        {
          "data": {
            "application/vnd.jupyter.widget-view+json": {
              "model_id": "9f85a18d4cfb4a5fb347cdfc2cba7428",
              "version_major": 2,
              "version_minor": 0
            },
            "text/plain": [
              "Applying CustomNodeFilter:   0%|          | 0/423 [00:00<?, ?it/s]"
            ]
          },
          "metadata": {},
          "output_type": "display_data"
        },
        {
          "name": "stderr",
          "output_type": "stream",
          "text": [
            "Node 001ef006-1e77-40eb-9b9a-28d5fb115964 does not have a summary. Skipping filtering.\n",
            "Node c6109735-7ce1-4321-b839-df7cfd8391c9 does not have a summary. Skipping filtering.\n",
            "Node 0bab2abc-378d-4555-831b-efbc4523fe5f does not have a summary. Skipping filtering.\n",
            "Node 0e4ae910-66f2-4f7c-b6e8-83c694bea425 does not have a summary. Skipping filtering.\n",
            "Node f6ae6b5c-bd2d-41d2-aad2-810043a28636 does not have a summary. Skipping filtering.\n",
            "Node b6e56302-0561-4e89-bb96-6f19c60f977d does not have a summary. Skipping filtering.\n",
            "Node 59d4a320-1323-4e18-a693-92ba2147f543 does not have a summary. Skipping filtering.\n",
            "Node 50bbb2c8-12e8-41cb-a711-d7859abf7c89 does not have a summary. Skipping filtering.\n",
            "Node 1c5a0036-a4dc-402a-ade8-14ed8f289b05 does not have a summary. Skipping filtering.\n",
            "Node bb6ac2c5-17d6-439c-9a75-d6490844b723 does not have a summary. Skipping filtering.\n",
            "Node 06e7fa69-6e26-4160-94bf-946d1d6f45ae does not have a summary. Skipping filtering.\n",
            "Node 53c47780-3ce0-41e6-bc55-b64c461ed8ff does not have a summary. Skipping filtering.\n",
            "Node 81ca01c2-97da-4867-8614-4d0e8b63f3d6 does not have a summary. Skipping filtering.\n",
            "Node 5ec3fd1d-57eb-4316-94e7-d6c1c11ff5bc does not have a summary. Skipping filtering.\n",
            "Node 38fa5aa3-b7e0-477a-b690-a7b547de75d0 does not have a summary. Skipping filtering.\n",
            "Node d315033d-da80-4654-a186-992cfec305b6 does not have a summary. Skipping filtering.\n",
            "Node 0889e47d-ddac-4bbc-b5ff-66f7b65ca5d5 does not have a summary. Skipping filtering.\n",
            "Node b57f2c7c-2ab5-46db-a544-7c6786fc4073 does not have a summary. Skipping filtering.\n",
            "Node 754a2de0-a798-478e-8c34-47c924aaa246 does not have a summary. Skipping filtering.\n",
            "Node 5e2f1658-e382-4cf1-9905-6ebbe399e03a does not have a summary. Skipping filtering.\n",
            "Node c9ba96cc-1a40-4df0-a821-6b054ae65654 does not have a summary. Skipping filtering.\n",
            "Node cc96b90d-79df-4d4b-80f4-1627b9809853 does not have a summary. Skipping filtering.\n",
            "Node ef2029cc-c925-4f4e-99cd-4c9d9facb31a does not have a summary. Skipping filtering.\n",
            "Node 7ef99b63-30bf-46f3-a07d-5b9085ec366d does not have a summary. Skipping filtering.\n",
            "Node 07cc3552-7c0f-42cf-aea1-bcd617dfa45a does not have a summary. Skipping filtering.\n",
            "Node 59fc681e-cfae-4361-bf00-62d189130c75 does not have a summary. Skipping filtering.\n",
            "Node 05ec5d04-5f0e-4101-87a2-4925d780b3da does not have a summary. Skipping filtering.\n",
            "Node a5134a23-6e9b-4247-8486-b140fdb66b7c does not have a summary. Skipping filtering.\n",
            "Node 3140ff63-2c4d-4a93-8061-5545074f6b93 does not have a summary. Skipping filtering.\n",
            "Node a4831a38-dfa4-4ecd-8602-8de2a906071d does not have a summary. Skipping filtering.\n",
            "Node aac7be42-5487-4a34-afc3-ce01727610cf does not have a summary. Skipping filtering.\n",
            "Node 4fa2d877-6185-4b82-aca4-1b7e9cb1ebdf does not have a summary. Skipping filtering.\n",
            "Node 1de26a33-c283-4cb3-8912-2f356259fcc5 does not have a summary. Skipping filtering.\n",
            "Node 5a186f3e-956b-472f-89d8-4bff1681456b does not have a summary. Skipping filtering.\n",
            "Node cfc514d3-d338-487b-bf39-ef97c931c79f does not have a summary. Skipping filtering.\n",
            "Node fc803330-1646-40fe-821a-5b5b4654e0e2 does not have a summary. Skipping filtering.\n",
            "Node cd91fcf3-c127-46ac-9469-f8ca75401975 does not have a summary. Skipping filtering.\n",
            "Node 4489015d-09ff-4d00-a9f1-ad610b430d26 does not have a summary. Skipping filtering.\n",
            "Node d0d48875-be42-4ec7-9901-1da0f0843c0f does not have a summary. Skipping filtering.\n",
            "Node ed214529-2fd0-49df-b56f-6d89a7f7ec94 does not have a summary. Skipping filtering.\n",
            "Node 97e7817e-c298-4a06-b1aa-c1cc5f690d75 does not have a summary. Skipping filtering.\n",
            "Node f652cbe6-5e87-493c-933a-be1eec999984 does not have a summary. Skipping filtering.\n",
            "Node 76aa9551-d1a4-49b9-841f-565e92aecb43 does not have a summary. Skipping filtering.\n",
            "Node c2681176-14b4-4aa9-aac4-83088e29a795 does not have a summary. Skipping filtering.\n",
            "Node ef4f0c60-d06b-4107-8f62-d6c08d48b332 does not have a summary. Skipping filtering.\n",
            "Node 80ae872a-4821-4312-9d70-49433f3776e0 does not have a summary. Skipping filtering.\n",
            "Node 000d5bde-ab58-4409-a288-519f4fe170f5 does not have a summary. Skipping filtering.\n",
            "Node 9842b1c0-92a0-44a7-9733-e5d09d36c836 does not have a summary. Skipping filtering.\n",
            "Node 7a66d94b-6c70-426b-9a62-73ca9560ba59 does not have a summary. Skipping filtering.\n",
            "Node 5e7cf2cd-2988-4c7b-acf3-8cf8ea6e153d does not have a summary. Skipping filtering.\n",
            "Node c951d3ea-6dfd-4a57-9e4d-9b2ceda58421 does not have a summary. Skipping filtering.\n",
            "Node ce0b6926-4a9c-45e4-8f30-33e44496093e does not have a summary. Skipping filtering.\n",
            "Node 9ce6b9cf-5af2-45db-924b-5f3a0663ba97 does not have a summary. Skipping filtering.\n",
            "Node e485501e-eeeb-4609-bde2-2c3f6f7c3237 does not have a summary. Skipping filtering.\n",
            "Node 13f44479-b120-4aef-8ce0-0eb8c5c9eb05 does not have a summary. Skipping filtering.\n",
            "Node 240bb4fb-e0ec-4102-8256-4bdf272722b4 does not have a summary. Skipping filtering.\n",
            "Node d455f485-b21e-4e0f-afcd-dba851004019 does not have a summary. Skipping filtering.\n",
            "Node 5b22fd1b-f0a6-4ab6-acd8-4ac23e176dc7 does not have a summary. Skipping filtering.\n",
            "Node b5bcfc71-d64f-4ac3-b4ad-9ab76d543b69 does not have a summary. Skipping filtering.\n",
            "Node c90efcf3-056d-4735-9b56-74b5fc5d064a does not have a summary. Skipping filtering.\n",
            "Node eaae09c0-6744-47ee-8e85-2089e0bc28b6 does not have a summary. Skipping filtering.\n",
            "Node 3b019841-debb-4829-9596-57370cde0030 does not have a summary. Skipping filtering.\n",
            "Node 3e8008f1-0106-4227-bdff-10ff0a6704a8 does not have a summary. Skipping filtering.\n",
            "Node e465508c-118c-4ef9-a02d-dea388ef69bc does not have a summary. Skipping filtering.\n",
            "Node fc1f14a1-e74e-4ddc-9a77-ee2180fbffbb does not have a summary. Skipping filtering.\n",
            "Node 3714694b-0a45-4b50-9e48-87cb14bf8911 does not have a summary. Skipping filtering.\n",
            "Node 5da728c6-bac4-4a3b-85f8-d92325837b3f does not have a summary. Skipping filtering.\n",
            "Node 5bdbaa7b-14e2-4bfd-92fe-45d89deecd7c does not have a summary. Skipping filtering.\n",
            "Node 7f55959f-a77a-4344-96bd-68411135ec6c does not have a summary. Skipping filtering.\n",
            "Node ef6411b9-7a35-442d-b56a-e8fea3479d3e does not have a summary. Skipping filtering.\n",
            "Node 42e019fd-86d3-4a06-993a-e2bd595fd632 does not have a summary. Skipping filtering.\n",
            "Node 57a95d0e-b419-4f37-9205-23630f04c17b does not have a summary. Skipping filtering.\n",
            "Node c0bc2e8f-3c9d-4749-9b10-3a7306bd7100 does not have a summary. Skipping filtering.\n",
            "Node efbe939e-c796-4603-bc16-518e285776a5 does not have a summary. Skipping filtering.\n",
            "Node 16ed1c5d-781f-4fcb-8751-3e083a566eef does not have a summary. Skipping filtering.\n",
            "Node e02c404f-7265-4004-aa72-13ac3595d314 does not have a summary. Skipping filtering.\n",
            "Node 866e2e6b-d475-481c-84c4-3c9f98c35dc1 does not have a summary. Skipping filtering.\n",
            "Node 7aa525b6-bf6a-43a8-a443-d7c66af14fd7 does not have a summary. Skipping filtering.\n",
            "Node 34cd6acc-d2ae-4a88-a9e6-dec6981512a7 does not have a summary. Skipping filtering.\n",
            "Node 78575fe0-cf47-4d39-95e0-d3927e140638 does not have a summary. Skipping filtering.\n",
            "Node 05b2c5ac-7452-4f93-b9a2-605c68de740d does not have a summary. Skipping filtering.\n",
            "Node 86819f29-fe40-4304-9a31-67635463e452 does not have a summary. Skipping filtering.\n",
            "Node 516007a2-491d-4ef8-a5f7-b6a52c1b1cff does not have a summary. Skipping filtering.\n",
            "Node 6dc1a507-5c9a-419a-928b-6dc98ac5c58d does not have a summary. Skipping filtering.\n",
            "Node 68b9619a-1161-41ed-ba67-4ab2e6aac9db does not have a summary. Skipping filtering.\n",
            "Node f5f1898f-8ab8-400c-987c-31649e0c0466 does not have a summary. Skipping filtering.\n",
            "Node 9938cc6f-3cbc-4794-b90c-0d2e8299452e does not have a summary. Skipping filtering.\n",
            "Node c8f427dc-732a-4047-b568-faaab4e82a33 does not have a summary. Skipping filtering.\n",
            "Node 2842ce30-ed51-4f5b-8549-d15fd776ac51 does not have a summary. Skipping filtering.\n",
            "Node 69992fb3-ccdf-4bee-9439-208a0460d40e does not have a summary. Skipping filtering.\n",
            "Node cc9f1a3c-fef8-4d84-af76-4063cf23c185 does not have a summary. Skipping filtering.\n",
            "Node 29faf004-34b4-4210-a80a-95cea59d0eff does not have a summary. Skipping filtering.\n",
            "Node d950cc4b-0f5c-4d21-be00-9fffe60d1e57 does not have a summary. Skipping filtering.\n",
            "Node c2d67d48-210f-49ad-a907-ae30e62162e4 does not have a summary. Skipping filtering.\n",
            "Node 2adab395-dd18-44a5-b9e0-8aaf705567f9 does not have a summary. Skipping filtering.\n",
            "Node 191f1895-075d-4cb8-8ba9-c9a4b68fb16c does not have a summary. Skipping filtering.\n",
            "Node 2b90aa0c-feda-4636-a4fe-33037f00e4fa does not have a summary. Skipping filtering.\n",
            "Node dfabd3ea-a297-44e9-98c1-f6e62b656e74 does not have a summary. Skipping filtering.\n",
            "Node 2f983a14-4b48-4e54-90bf-bfc3a03c9da7 does not have a summary. Skipping filtering.\n",
            "Node 63315550-c6ff-4a1a-810d-f5123288751a does not have a summary. Skipping filtering.\n",
            "Node 8a52441a-e6c4-40b9-985d-ae7b473d06fc does not have a summary. Skipping filtering.\n",
            "Node 6b308690-2f7f-4dfb-bc4b-d1abc6eb3f83 does not have a summary. Skipping filtering.\n",
            "Node 673da38b-dcf2-46a3-a34e-33890880457a does not have a summary. Skipping filtering.\n",
            "Node bef0d235-d987-4d73-a576-ca40f9a1f7da does not have a summary. Skipping filtering.\n",
            "Node c3f48483-a483-4eb2-9a79-fda251a21722 does not have a summary. Skipping filtering.\n",
            "Node a3af7be6-eaab-4ae0-8d75-f88cdfb08e19 does not have a summary. Skipping filtering.\n",
            "Node 0cbdd9b9-83fa-461c-92e6-08c36c324572 does not have a summary. Skipping filtering.\n",
            "Node 25f429c3-da7e-419a-b47d-cb6c34675220 does not have a summary. Skipping filtering.\n",
            "Node 0e9a9143-36bc-4b03-9dc8-159e4618b202 does not have a summary. Skipping filtering.\n",
            "Node 89039d55-7944-4ab0-8e35-bbf6a395a854 does not have a summary. Skipping filtering.\n",
            "Node 0a3caf84-efc4-4e02-89c3-f0410e65ccdf does not have a summary. Skipping filtering.\n",
            "Node a6b24cbd-d296-417c-a4cf-e224a55a8edb does not have a summary. Skipping filtering.\n",
            "Node 2cb7550d-cdcd-4451-9d64-4b9c42b085da does not have a summary. Skipping filtering.\n",
            "Node f6a98112-a8ce-49cd-93b6-9426e06d7144 does not have a summary. Skipping filtering.\n",
            "Node 64814680-1018-4809-909c-14204b4fdcb6 does not have a summary. Skipping filtering.\n",
            "Node 2dc2b31f-a469-4896-8d79-396c6aace11c does not have a summary. Skipping filtering.\n",
            "Node d08739ee-363d-4567-8c9d-b3995738a7dc does not have a summary. Skipping filtering.\n",
            "Node d4e7562c-6aee-43b2-b2f9-fbd6d0c5dc81 does not have a summary. Skipping filtering.\n",
            "Node 3f453d6f-e618-436d-ad28-d831395c46ed does not have a summary. Skipping filtering.\n",
            "Node b461395a-f703-40a3-be69-9f7499703eca does not have a summary. Skipping filtering.\n",
            "Node c6ae5679-6aa7-4a20-b643-8b58e3b90b93 does not have a summary. Skipping filtering.\n",
            "Node 8eb52776-2b38-4c17-a7c1-e72aa2092bf3 does not have a summary. Skipping filtering.\n",
            "Node 42da08c2-665a-45f1-9668-4ee5e6af2784 does not have a summary. Skipping filtering.\n",
            "Node 3fa9efac-4cf4-4743-88aa-32bf49ba0999 does not have a summary. Skipping filtering.\n",
            "Node e5f9d157-b830-4979-9ae9-154d77d2107e does not have a summary. Skipping filtering.\n",
            "Node e1ccecea-73b5-4fa4-885f-f055fe3477c1 does not have a summary. Skipping filtering.\n",
            "Node 4e2304fa-6e16-42c6-b73c-4e30c367e6a2 does not have a summary. Skipping filtering.\n",
            "Node d910b3f3-1613-4830-bf2d-2202cf26f7dc does not have a summary. Skipping filtering.\n",
            "Node 8f9918cd-755e-4895-a5b3-6fe6aa9fdf42 does not have a summary. Skipping filtering.\n",
            "Node 1d1582b7-e612-4132-b795-c87eedca857d does not have a summary. Skipping filtering.\n",
            "Node bbe556c3-07ac-4722-9998-eb450dfd9236 does not have a summary. Skipping filtering.\n",
            "Node 8b7c13d8-43df-45b4-8a36-87df313d48d8 does not have a summary. Skipping filtering.\n",
            "Node 271813b1-33cb-49e2-a340-27e9b28b6902 does not have a summary. Skipping filtering.\n",
            "Node aead2c70-2a1c-4f96-ae67-e4813214e590 does not have a summary. Skipping filtering.\n",
            "Node 9d222423-0911-4c6e-9ae9-dbe4a1b2a92d does not have a summary. Skipping filtering.\n",
            "Node 682d06f9-f770-4356-9216-3e60d1fd5111 does not have a summary. Skipping filtering.\n",
            "Node 7b513eab-58b0-4fb0-986f-2f2b53520d37 does not have a summary. Skipping filtering.\n",
            "Node bee8e3e6-420e-439b-acac-3dd22f222c68 does not have a summary. Skipping filtering.\n",
            "Node 44b3b43b-9f7e-4584-8a47-7f4a930aebaa does not have a summary. Skipping filtering.\n",
            "Node 5f809809-7451-444f-a38f-957725113d18 does not have a summary. Skipping filtering.\n",
            "Node 487a2435-0fd5-47cb-b7c5-0c7b5e43a7af does not have a summary. Skipping filtering.\n",
            "Node ce719d1b-b4bd-41a6-9bfd-7512675bfcd8 does not have a summary. Skipping filtering.\n",
            "Node f098bdbf-b65a-4830-97c0-198346b028e7 does not have a summary. Skipping filtering.\n",
            "Node ec11b260-a029-44b3-afda-13c30d075f05 does not have a summary. Skipping filtering.\n",
            "Node 2a429f57-a2e4-48ce-bc0b-e5865b2c47ad does not have a summary. Skipping filtering.\n",
            "Node a72adcd1-7ca2-4e60-909c-006b7712ae5e does not have a summary. Skipping filtering.\n",
            "Node a7d662cc-6855-4539-9124-d2d6abc13e69 does not have a summary. Skipping filtering.\n",
            "Node b9c7f2cd-9a06-4650-9b21-3f0a20c47b39 does not have a summary. Skipping filtering.\n",
            "Node bac8428d-a7e9-4b71-9e3c-42e9b79f88a6 does not have a summary. Skipping filtering.\n",
            "Node ec995d99-26dd-42a2-b420-5d580be70af0 does not have a summary. Skipping filtering.\n",
            "Node 23160aa1-bc64-4872-8847-ab5041b1ff3d does not have a summary. Skipping filtering.\n",
            "Node 83fb6dbe-936b-45cc-a627-4bada28f6c05 does not have a summary. Skipping filtering.\n",
            "Node 2f305e18-f161-4898-b7da-0b92f56823c6 does not have a summary. Skipping filtering.\n",
            "Node 07d15233-8e9c-4553-941b-0b143957ff56 does not have a summary. Skipping filtering.\n",
            "Node eb59e95a-101a-4637-8449-1131fde53335 does not have a summary. Skipping filtering.\n",
            "Node a7b52a3a-d5ce-4734-a20b-23e665fd304c does not have a summary. Skipping filtering.\n",
            "Node 3084d695-44c8-4c03-8e7e-15f47a40f6d5 does not have a summary. Skipping filtering.\n",
            "Node 5373d051-976b-4fb9-adf2-83548e66a506 does not have a summary. Skipping filtering.\n",
            "Node 59ba1271-a975-4d08-8229-a87c2f9282ca does not have a summary. Skipping filtering.\n",
            "Node 43cbc80a-4c2f-43c2-854c-22cf76af4aa3 does not have a summary. Skipping filtering.\n",
            "Node f756ecd8-153f-4b28-ad0c-42e1d3958c70 does not have a summary. Skipping filtering.\n",
            "Node 0f1ccbfe-a68b-4a0a-bedc-bed5e9752253 does not have a summary. Skipping filtering.\n",
            "Node 2c27c433-53cc-4814-9cc7-bc64ff1fc2b2 does not have a summary. Skipping filtering.\n",
            "Node f0cd87b1-89af-40c1-b7e7-ae2c1f99133d does not have a summary. Skipping filtering.\n",
            "Node 40b07c30-046e-4477-b7b2-446531e1fdf5 does not have a summary. Skipping filtering.\n",
            "Node 4947ce1e-c4a6-4d71-aff5-9ef086f2c6ca does not have a summary. Skipping filtering.\n",
            "Node a56ac0ee-6e66-46ed-8bf6-4530f509b187 does not have a summary. Skipping filtering.\n",
            "Node d045c159-4c72-4577-9ce5-cdb7397d9d14 does not have a summary. Skipping filtering.\n",
            "Node 4ebeaaf5-b14d-4640-87bc-1354b2f8083f does not have a summary. Skipping filtering.\n",
            "Node f3bd670f-37eb-4487-94e3-1e91b55cbb91 does not have a summary. Skipping filtering.\n",
            "Node 199d3c60-cc19-4728-b6f2-456f5589e242 does not have a summary. Skipping filtering.\n",
            "Node 47e952ed-b646-4771-84a9-fefa114cd6e3 does not have a summary. Skipping filtering.\n",
            "Node f5a151ba-4d9a-4e26-8dfe-39104703a989 does not have a summary. Skipping filtering.\n",
            "Node b1b67b43-2093-480b-a8a3-c41e25d55fbc does not have a summary. Skipping filtering.\n",
            "Node 12cd1b2a-e70c-4c81-91b8-c809d9823aec does not have a summary. Skipping filtering.\n",
            "Node fdd223b8-8ed3-476d-8ddd-abe089e45db8 does not have a summary. Skipping filtering.\n",
            "Node f84f3ece-0b9f-48d7-be97-c14b4636ae02 does not have a summary. Skipping filtering.\n",
            "Node 5d93f0c0-a7c1-4854-aeeb-64c73023d1ba does not have a summary. Skipping filtering.\n",
            "Node d53a2d83-89d0-4ea0-bdd5-55708cd0edb0 does not have a summary. Skipping filtering.\n",
            "Node 43e68146-7010-4d7d-9af9-5b547a0c0efb does not have a summary. Skipping filtering.\n",
            "Node a66f0f0f-f082-40bb-8003-d39b6ac43429 does not have a summary. Skipping filtering.\n",
            "Node 72a6ad99-ffe6-4479-b72e-c96da232cb38 does not have a summary. Skipping filtering.\n",
            "Node e65a1841-e7a1-447f-aab3-a863631eda73 does not have a summary. Skipping filtering.\n",
            "Node 94a0f743-416b-4fdf-a09b-cb945f51add5 does not have a summary. Skipping filtering.\n",
            "Node 711b29b8-0d01-4c0f-9be9-9024e6a77004 does not have a summary. Skipping filtering.\n",
            "Node 6ef09aef-3917-4a75-81f2-272ac029939f does not have a summary. Skipping filtering.\n",
            "Node 99289d1f-4b0e-4033-bfe0-d3cb0dd2f611 does not have a summary. Skipping filtering.\n",
            "Node db978ceb-1fc6-4669-aea1-007ed25a4743 does not have a summary. Skipping filtering.\n",
            "Node ed323e27-ed55-4a59-8199-1ecfa09293b4 does not have a summary. Skipping filtering.\n",
            "Node 59d72eca-3def-4d1d-814c-c498bf75970e does not have a summary. Skipping filtering.\n",
            "Node d5d1c3f2-d9fe-4f95-8468-44acaa4d1473 does not have a summary. Skipping filtering.\n",
            "Node 03004103-5d1c-412d-95de-b82a59d08937 does not have a summary. Skipping filtering.\n",
            "Node a3b1f98e-d096-407f-b05c-0aaffd3decac does not have a summary. Skipping filtering.\n",
            "Node 2d5369ff-9cb0-4294-80ff-9bcbd0e47dab does not have a summary. Skipping filtering.\n",
            "Node 6cad603e-bcb5-49ee-8302-4f6a149dccb4 does not have a summary. Skipping filtering.\n",
            "Node a8e5af1d-6831-423f-bada-f79325b5b1c6 does not have a summary. Skipping filtering.\n",
            "Node cdd833bb-63f3-40d2-910f-ec08960bfd47 does not have a summary. Skipping filtering.\n",
            "Node 5b014cc5-5464-45f5-b100-f4d5bf0e362b does not have a summary. Skipping filtering.\n",
            "Node 9e2c142a-3847-4437-9894-ec2bc241702c does not have a summary. Skipping filtering.\n",
            "Node ac2b3573-506e-43b4-82ee-cbc4aafbd8c5 does not have a summary. Skipping filtering.\n",
            "Node 318ceebf-ed60-4999-9e2b-799f0643a990 does not have a summary. Skipping filtering.\n",
            "Node a1fe0379-d2f4-48cd-9daf-fd2f65b8ab2a does not have a summary. Skipping filtering.\n",
            "Node a0c1463e-623c-4c35-9940-78b35ca591b7 does not have a summary. Skipping filtering.\n",
            "Node 097b9543-ef6c-4cc8-b78c-c5380b437ade does not have a summary. Skipping filtering.\n",
            "Node d64fa9e4-33bc-4b5b-86f7-049c2ecdd996 does not have a summary. Skipping filtering.\n",
            "Node 44323214-5e06-490b-8583-91c686ce1424 does not have a summary. Skipping filtering.\n",
            "Node 655feaa6-8590-4785-aa25-299c20f2520e does not have a summary. Skipping filtering.\n",
            "Node 09751569-b244-4308-a8ff-9262b54101a4 does not have a summary. Skipping filtering.\n",
            "Node f031fd65-0980-4526-9046-5aaaf8146d50 does not have a summary. Skipping filtering.\n",
            "Node 3aec5083-aa42-455a-b9d5-a8dd6a24fd8d does not have a summary. Skipping filtering.\n",
            "Node 01485ead-0f89-4fea-a9ca-e2790120ed94 does not have a summary. Skipping filtering.\n",
            "Node 579afb10-d0e3-4d30-800a-89732ee1f892 does not have a summary. Skipping filtering.\n",
            "Node 2ad19770-e71c-4284-91a7-7f7e83dee5fb does not have a summary. Skipping filtering.\n",
            "Node 1a318162-01ee-4b11-89e1-198375537714 does not have a summary. Skipping filtering.\n",
            "Node 99d97eab-a87c-4101-b1e4-8c99de3d18e4 does not have a summary. Skipping filtering.\n",
            "Node b9aac7d7-b294-4cbb-bbe0-1d5b150a17cd does not have a summary. Skipping filtering.\n",
            "Node dc71f47d-7529-4df5-8634-f876b4b9ddbd does not have a summary. Skipping filtering.\n",
            "Node 248eb4b2-98e5-4cce-8adf-228c73b0e48f does not have a summary. Skipping filtering.\n",
            "Node 16f0e055-0203-461b-b3bd-570c0c759707 does not have a summary. Skipping filtering.\n",
            "Node d14b79b3-23b3-436d-ae8e-c812adaf6be4 does not have a summary. Skipping filtering.\n",
            "Node b5329229-75b7-47b4-bbc4-2bc507b19636 does not have a summary. Skipping filtering.\n",
            "Node 9b8b09c9-c746-4603-9c3e-1858824af29a does not have a summary. Skipping filtering.\n",
            "Node 24059077-3f0b-43c2-8c2e-ef2b59b7c87d does not have a summary. Skipping filtering.\n",
            "Node 9d114aa3-3bd0-4b36-9a2d-0cafea189494 does not have a summary. Skipping filtering.\n",
            "Node faa40422-09de-486c-981c-f4a07919f628 does not have a summary. Skipping filtering.\n",
            "Node 993cd46f-cad5-435f-9c2b-31e50254c36f does not have a summary. Skipping filtering.\n",
            "Node ab054c13-0a56-431f-a100-4bf6693e871f does not have a summary. Skipping filtering.\n",
            "Node 756bc713-382b-44d4-a54c-90f4c21b076f does not have a summary. Skipping filtering.\n",
            "Node c9f424bf-9673-43b0-ab91-ddded24ac3a0 does not have a summary. Skipping filtering.\n",
            "Node ca42988f-784b-4e38-8d3d-2d0ecc586f68 does not have a summary. Skipping filtering.\n",
            "Node f947f62c-5a4e-4386-95fc-8d10ca691a50 does not have a summary. Skipping filtering.\n",
            "Node 9dc4f195-aef4-4b70-ac6a-17112a44ac53 does not have a summary. Skipping filtering.\n",
            "Node d502a150-11c2-436e-a0c8-1d726a42c9fd does not have a summary. Skipping filtering.\n",
            "Node 52f1d58a-2207-4f26-ba78-82e46b846fe8 does not have a summary. Skipping filtering.\n",
            "Node f301766c-7db2-4219-9f44-840d088ad200 does not have a summary. Skipping filtering.\n",
            "Node df387e99-add4-4f36-b16f-ff57d130ec11 does not have a summary. Skipping filtering.\n",
            "Node 1372ad9b-455c-4296-85d2-4d83a96cf86e does not have a summary. Skipping filtering.\n",
            "Node 31c11ceb-ca77-4be4-9b96-9e33f64a3d77 does not have a summary. Skipping filtering.\n",
            "Node 6e603270-8d72-4838-b497-3a8b6ab1cf41 does not have a summary. Skipping filtering.\n",
            "Node 8ccf6394-25f1-4555-9b8c-1cca7c3f8866 does not have a summary. Skipping filtering.\n",
            "Node b5f511c3-b168-47dc-baa8-6af5352d351b does not have a summary. Skipping filtering.\n",
            "Node 62b4786f-91f6-4113-9450-b69d99a9eb52 does not have a summary. Skipping filtering.\n",
            "Node 2a78deef-b3b0-4672-a015-629e571b0162 does not have a summary. Skipping filtering.\n",
            "Node e65ac83a-56e2-47a5-9b59-45220dc9758c does not have a summary. Skipping filtering.\n",
            "Node 91cd66d1-3877-4d68-9a83-5d91c05012d9 does not have a summary. Skipping filtering.\n",
            "Node be12ed9c-d2a1-49e7-a6e6-14d20975dfe3 does not have a summary. Skipping filtering.\n",
            "Node 6be57a7b-cedf-42e7-9aeb-c4cbf44c09ba does not have a summary. Skipping filtering.\n",
            "Node 66c51c6d-0aef-45ef-a835-d3eab704cf67 does not have a summary. Skipping filtering.\n",
            "Node 1fe7e177-dfb6-4569-9e5b-cc0d1dd74dcc does not have a summary. Skipping filtering.\n",
            "Node d5e97fea-4baf-4b88-a19b-e01f419b2dbf does not have a summary. Skipping filtering.\n",
            "Node 9b97bedf-763b-4c46-8b66-5a43b5310c3f does not have a summary. Skipping filtering.\n",
            "Node 54a42f91-19df-4b2d-861f-a09dca9d0567 does not have a summary. Skipping filtering.\n",
            "Node b8a1fa8d-301e-4ba3-af62-117ddef20d78 does not have a summary. Skipping filtering.\n",
            "Node 62a853e8-a0f4-474b-b9e7-25e4be718c6a does not have a summary. Skipping filtering.\n",
            "Node c510f867-2916-4873-9477-1d346ebbb61f does not have a summary. Skipping filtering.\n",
            "Node e21c36d3-74af-49e7-9687-94a4b5f91a00 does not have a summary. Skipping filtering.\n",
            "Node 602bcf5b-3450-48e1-a46d-eef97404b402 does not have a summary. Skipping filtering.\n",
            "Node ff10b4d8-8d6e-4680-8d3f-4825988c041c does not have a summary. Skipping filtering.\n",
            "Node e72dd21b-2ae2-405b-8f83-a6029176ab01 does not have a summary. Skipping filtering.\n",
            "Node a733023d-48d8-4743-8004-535626f8baf5 does not have a summary. Skipping filtering.\n",
            "Node 91492689-c92c-46a4-a13a-ba51f9fd1689 does not have a summary. Skipping filtering.\n",
            "Node 6dc613ea-04dc-4017-90a6-7d5d92cd58ed does not have a summary. Skipping filtering.\n",
            "Node 791db12a-ea43-4d29-a4f1-b4a51f137e59 does not have a summary. Skipping filtering.\n",
            "Node 6005867c-d8fc-4ade-ba7c-a75381612ef7 does not have a summary. Skipping filtering.\n",
            "Node e77d8ff6-52e0-4062-ab3c-671c6c91e141 does not have a summary. Skipping filtering.\n",
            "Node e667d1ce-243c-45cd-8758-3f44021fa3c9 does not have a summary. Skipping filtering.\n",
            "Node 6e9492da-f3f1-4b07-baae-af24df383251 does not have a summary. Skipping filtering.\n",
            "Node 64ab2ca8-4c0c-4b94-8994-872300b428e9 does not have a summary. Skipping filtering.\n",
            "Node ae9f3cce-0999-40ec-ad78-29bc5bf5cfea does not have a summary. Skipping filtering.\n",
            "Node 9685477c-8884-42b6-954d-5ba0bebb2158 does not have a summary. Skipping filtering.\n",
            "Node 6d68794b-50ea-40a3-a3d5-f39da8843e03 does not have a summary. Skipping filtering.\n",
            "Node 9aab1355-8f85-4cb3-8477-43f689a460d9 does not have a summary. Skipping filtering.\n",
            "Node 444234e2-29d5-4729-aa34-e6df068a6a40 does not have a summary. Skipping filtering.\n",
            "Node da67053c-0dcf-4ac7-ae3e-9fe503f04ef4 does not have a summary. Skipping filtering.\n",
            "Node 94747161-6528-478d-b69c-b2eae2fbb90c does not have a summary. Skipping filtering.\n",
            "Node a914c871-4ab0-4a4a-99b2-640edffd67d0 does not have a summary. Skipping filtering.\n",
            "Node 58cd17a7-36ac-4b5a-bcd6-5b78e4f9fc0a does not have a summary. Skipping filtering.\n",
            "Node 92f9521a-e0da-4793-8c92-3099d5126b2f does not have a summary. Skipping filtering.\n",
            "Node 203c24ed-fddf-490c-b2ce-ef376461a0de does not have a summary. Skipping filtering.\n",
            "Node cd4e3473-dbf5-4510-aea9-6ad12ad3d787 does not have a summary. Skipping filtering.\n",
            "Node c3176e94-bffa-478d-aad1-ba81b196c013 does not have a summary. Skipping filtering.\n",
            "Node 8beb76f5-adb0-4c29-970a-4bbbe91bcf44 does not have a summary. Skipping filtering.\n",
            "Node 1680f404-7b51-45f6-bc7a-0b3dd29a56a5 does not have a summary. Skipping filtering.\n",
            "Node bc492d36-cc85-4e02-97eb-b56413cafe3e does not have a summary. Skipping filtering.\n",
            "Node 62e5e919-e344-4a9c-b929-81fa7594597b does not have a summary. Skipping filtering.\n",
            "Node 2b2533b5-e804-48cc-a9a9-80e552f17549 does not have a summary. Skipping filtering.\n",
            "Node 416dda86-03da-4727-8749-2998706a6b15 does not have a summary. Skipping filtering.\n",
            "Node 273e6b24-93ed-4ec4-9ea1-e3efde5352cd does not have a summary. Skipping filtering.\n",
            "Node 437c7ed8-c3a8-437c-8974-e2a6e2343fe9 does not have a summary. Skipping filtering.\n",
            "Node 5bc756fa-ce42-4223-b47e-7debff6c8aad does not have a summary. Skipping filtering.\n",
            "Node 8821c2d1-9e40-4d54-82f6-392259552f69 does not have a summary. Skipping filtering.\n",
            "Node 57886601-0d47-4359-901f-9e4818affa1f does not have a summary. Skipping filtering.\n",
            "Node 33a769a5-d991-43a1-bfb0-7c0ae8b2cbdb does not have a summary. Skipping filtering.\n",
            "Node 84534d50-e535-4cf0-9a83-2130f5014960 does not have a summary. Skipping filtering.\n",
            "Node b12ecb4d-e41f-4391-9adc-eda341db616b does not have a summary. Skipping filtering.\n",
            "Node 40bbaf44-a8b7-4f7c-9a34-073de5e67108 does not have a summary. Skipping filtering.\n",
            "Node c4104c69-aa4f-4a2d-b8e0-188954a53270 does not have a summary. Skipping filtering.\n",
            "Node 974b6801-0272-4f57-be51-d4e97cf75a16 does not have a summary. Skipping filtering.\n",
            "Node a2745e07-afb9-4b0c-981d-ac566d6a82ee does not have a summary. Skipping filtering.\n",
            "Node 863b3f25-2f60-46c8-b98e-46cc7060a841 does not have a summary. Skipping filtering.\n",
            "Node 8114fe21-1662-4575-8b44-30d5ededed4c does not have a summary. Skipping filtering.\n",
            "Node 2aa86efb-a7de-4ab8-b7dc-efd8ec10f979 does not have a summary. Skipping filtering.\n",
            "Node 29bb797a-51c6-473e-94a3-0a32e7492d22 does not have a summary. Skipping filtering.\n"
          ]
        },
        {
          "data": {
            "application/vnd.jupyter.widget-view+json": {
              "model_id": "bc55e935bfbe433f838f7a4004610dbf",
              "version_major": 2,
              "version_minor": 0
            },
            "text/plain": [
              "Applying [EmbeddingExtractor, ThemesExtractor, NERExtractor]:   0%|          | 0/966 [00:00<?, ?it/s]"
            ]
          },
          "metadata": {},
          "output_type": "display_data"
        },
        {
          "data": {
            "application/vnd.jupyter.widget-view+json": {
              "model_id": "c4b8bd752196432faff7e5a07e0c3605",
              "version_major": 2,
              "version_minor": 0
            },
            "text/plain": [
              "Applying OverlapScoreBuilder:   0%|          | 0/1 [00:00<?, ?it/s]"
            ]
          },
          "metadata": {},
          "output_type": "display_data"
        },
        {
          "data": {
            "application/vnd.jupyter.widget-view+json": {
              "model_id": "9355e66a31fe41569c68ab543535537f",
              "version_major": 2,
              "version_minor": 0
            },
            "text/plain": [
              "Generating personas:   0%|          | 0/3 [00:00<?, ?it/s]"
            ]
          },
          "metadata": {},
          "output_type": "display_data"
        },
        {
          "data": {
            "application/vnd.jupyter.widget-view+json": {
              "model_id": "0368b10e243849248b179924518937bd",
              "version_major": 2,
              "version_minor": 0
            },
            "text/plain": [
              "Generating Scenarios:   0%|          | 0/2 [00:00<?, ?it/s]"
            ]
          },
          "metadata": {},
          "output_type": "display_data"
        },
        {
          "data": {
            "application/vnd.jupyter.widget-view+json": {
              "model_id": "1d767272074f432a8c69fd6794814c2b",
              "version_major": 2,
              "version_minor": 0
            },
            "text/plain": [
              "Generating Samples:   0%|          | 0/10 [00:00<?, ?it/s]"
            ]
          },
          "metadata": {},
          "output_type": "display_data"
        }
      ],
      "source": [
        "from ragas.testset import TestsetGenerator\n",
        "\n",
        "docs = training_documents\n",
        "generator = TestsetGenerator(llm=generator_llm, embedding_model=generator_embeddings)\n",
        "dataset = generator.generate_with_langchain_docs(docs, testset_size=10)"
      ]
    },
    {
      "cell_type": "code",
      "execution_count": 73,
      "metadata": {},
      "outputs": [
        {
          "data": {
            "text/html": [
              "<div>\n",
              "<style scoped>\n",
              "    .dataframe tbody tr th:only-of-type {\n",
              "        vertical-align: middle;\n",
              "    }\n",
              "\n",
              "    .dataframe tbody tr th {\n",
              "        vertical-align: top;\n",
              "    }\n",
              "\n",
              "    .dataframe thead th {\n",
              "        text-align: right;\n",
              "    }\n",
              "</style>\n",
              "<table border=\"1\" class=\"dataframe\">\n",
              "  <thead>\n",
              "    <tr style=\"text-align: right;\">\n",
              "      <th></th>\n",
              "      <th>user_input</th>\n",
              "      <th>reference_contexts</th>\n",
              "      <th>reference</th>\n",
              "      <th>synthesizer_name</th>\n",
              "    </tr>\n",
              "  </thead>\n",
              "  <tbody>\n",
              "    <tr>\n",
              "      <th>0</th>\n",
              "      <td>What role does the Department of Health and Hu...</td>\n",
              "      <td>[Title 21 —Food and Drugs\\nChapter I —Food and...</td>\n",
              "      <td>The Department of Health and Human Services, t...</td>\n",
              "      <td>single_hop_specifc_query_synthesizer</td>\n",
              "    </tr>\n",
              "    <tr>\n",
              "      <th>1</th>\n",
              "      <td>What all the things you gotta do for IND, like...</td>\n",
              "      <td>[§ 312.10 Waivers.\\nSubpart B Investigational ...</td>\n",
              "      <td>The IND process involves several steps and req...</td>\n",
              "      <td>single_hop_specifc_query_synthesizer</td>\n",
              "    </tr>\n",
              "    <tr>\n",
              "      <th>2</th>\n",
              "      <td>Could you elaborate on the role of the eCFR in...</td>\n",
              "      <td>[§ 312.53 Selecting investigators and monitors...</td>\n",
              "      <td>The eCFR, while authoritative but unofficial, ...</td>\n",
              "      <td>single_hop_specifc_query_synthesizer</td>\n",
              "    </tr>\n",
              "    <tr>\n",
              "      <th>3</th>\n",
              "      <td>What FDA do with drugs for life-threatening il...</td>\n",
              "      <td>[§ 312.69 Handling of controlled substances.\\n...</td>\n",
              "      <td>The FDA conducts a risk-benefit analysis in th...</td>\n",
              "      <td>single_hop_specifc_query_synthesizer</td>\n",
              "    </tr>\n",
              "    <tr>\n",
              "      <th>4</th>\n",
              "      <td>What are the key responsibilities of the FDA i...</td>\n",
              "      <td>[§ 312.86 Focused FDA regulatory research.\\n§ ...</td>\n",
              "      <td>The FDA's key responsibilities in the context ...</td>\n",
              "      <td>single_hop_specifc_query_synthesizer</td>\n",
              "    </tr>\n",
              "    <tr>\n",
              "      <th>5</th>\n",
              "      <td>What are the requirements under 21 CFR 312.23(...</td>\n",
              "      <td>[&lt;1-hop&gt;\\n\\nStates or other countries, detaile...</td>\n",
              "      <td>Under 21 CFR 312.23(a)(9)(i), investigational ...</td>\n",
              "      <td>multi_hop_specific_query_synthesizer</td>\n",
              "    </tr>\n",
              "    <tr>\n",
              "      <th>6</th>\n",
              "      <td>How do the regulations outlined in 21 CFR 312....</td>\n",
              "      <td>[&lt;1-hop&gt;\\n\\n(c) Safeguard. The sponsor is resp...</td>\n",
              "      <td>The regulations outlined in 21 CFR 312.70(b) e...</td>\n",
              "      <td>multi_hop_specific_query_synthesizer</td>\n",
              "    </tr>\n",
              "    <tr>\n",
              "      <th>7</th>\n",
              "      <td>What are the regulatory requirements outlined ...</td>\n",
              "      <td>[&lt;1-hop&gt;\\n\\n(b) A sponsor shall not begin a cl...</td>\n",
              "      <td>According to 21 CFR 312.20(b), a sponsor is pr...</td>\n",
              "      <td>multi_hop_specific_query_synthesizer</td>\n",
              "    </tr>\n",
              "    <tr>\n",
              "      <th>8</th>\n",
              "      <td>What is the relationship between 21 CFR 312.3 ...</td>\n",
              "      <td>[&lt;1-hop&gt;\\n\\n21 CFR 312.3 “FDA” (enhanced displ...</td>\n",
              "      <td>21 CFR 312.3 provides definitions and general ...</td>\n",
              "      <td>multi_hop_specific_query_synthesizer</td>\n",
              "    </tr>\n",
              "    <tr>\n",
              "      <th>9</th>\n",
              "      <td>How do the regulations outlined in 21 CFR 312....</td>\n",
              "      <td>[&lt;1-hop&gt;\\n\\nimmediate hazards to the human sub...</td>\n",
              "      <td>The regulations outlined in 21 CFR 312.53(c)(1...</td>\n",
              "      <td>multi_hop_specific_query_synthesizer</td>\n",
              "    </tr>\n",
              "  </tbody>\n",
              "</table>\n",
              "</div>"
            ],
            "text/plain": [
              "                                          user_input  \\\n",
              "0  What role does the Department of Health and Hu...   \n",
              "1  What all the things you gotta do for IND, like...   \n",
              "2  Could you elaborate on the role of the eCFR in...   \n",
              "3  What FDA do with drugs for life-threatening il...   \n",
              "4  What are the key responsibilities of the FDA i...   \n",
              "5  What are the requirements under 21 CFR 312.23(...   \n",
              "6  How do the regulations outlined in 21 CFR 312....   \n",
              "7  What are the regulatory requirements outlined ...   \n",
              "8  What is the relationship between 21 CFR 312.3 ...   \n",
              "9  How do the regulations outlined in 21 CFR 312....   \n",
              "\n",
              "                                  reference_contexts  \\\n",
              "0  [Title 21 —Food and Drugs\\nChapter I —Food and...   \n",
              "1  [§ 312.10 Waivers.\\nSubpart B Investigational ...   \n",
              "2  [§ 312.53 Selecting investigators and monitors...   \n",
              "3  [§ 312.69 Handling of controlled substances.\\n...   \n",
              "4  [§ 312.86 Focused FDA regulatory research.\\n§ ...   \n",
              "5  [<1-hop>\\n\\nStates or other countries, detaile...   \n",
              "6  [<1-hop>\\n\\n(c) Safeguard. The sponsor is resp...   \n",
              "7  [<1-hop>\\n\\n(b) A sponsor shall not begin a cl...   \n",
              "8  [<1-hop>\\n\\n21 CFR 312.3 “FDA” (enhanced displ...   \n",
              "9  [<1-hop>\\n\\nimmediate hazards to the human sub...   \n",
              "\n",
              "                                           reference  \\\n",
              "0  The Department of Health and Human Services, t...   \n",
              "1  The IND process involves several steps and req...   \n",
              "2  The eCFR, while authoritative but unofficial, ...   \n",
              "3  The FDA conducts a risk-benefit analysis in th...   \n",
              "4  The FDA's key responsibilities in the context ...   \n",
              "5  Under 21 CFR 312.23(a)(9)(i), investigational ...   \n",
              "6  The regulations outlined in 21 CFR 312.70(b) e...   \n",
              "7  According to 21 CFR 312.20(b), a sponsor is pr...   \n",
              "8  21 CFR 312.3 provides definitions and general ...   \n",
              "9  The regulations outlined in 21 CFR 312.53(c)(1...   \n",
              "\n",
              "                       synthesizer_name  \n",
              "0  single_hop_specifc_query_synthesizer  \n",
              "1  single_hop_specifc_query_synthesizer  \n",
              "2  single_hop_specifc_query_synthesizer  \n",
              "3  single_hop_specifc_query_synthesizer  \n",
              "4  single_hop_specifc_query_synthesizer  \n",
              "5  multi_hop_specific_query_synthesizer  \n",
              "6  multi_hop_specific_query_synthesizer  \n",
              "7  multi_hop_specific_query_synthesizer  \n",
              "8  multi_hop_specific_query_synthesizer  \n",
              "9  multi_hop_specific_query_synthesizer  "
            ]
          },
          "execution_count": 73,
          "metadata": {},
          "output_type": "execute_result"
        }
      ],
      "source": [
        "dataset.to_pandas()"
      ]
    },
    {
      "cell_type": "code",
      "execution_count": 74,
      "metadata": {},
      "outputs": [
        {
          "name": "stdout",
          "output_type": "stream",
          "text": [
            "Testset uploaded! View at https://app.ragas.io/dashboard/alignment/testset/9e6a6640-9fd6-46cb-bf65-1a8eaf77e451\n"
          ]
        },
        {
          "data": {
            "text/plain": [
              "'https://app.ragas.io/dashboard/alignment/testset/9e6a6640-9fd6-46cb-bf65-1a8eaf77e451'"
            ]
          },
          "execution_count": 74,
          "metadata": {},
          "output_type": "execute_result"
        }
      ],
      "source": [
        "\n",
        "dataset.upload()"
      ]
    },
    {
      "cell_type": "markdown",
      "metadata": {},
      "source": [
        "## Evaluating the App with Ragas"
      ]
    },
    {
      "cell_type": "code",
      "execution_count": 75,
      "metadata": {},
      "outputs": [],
      "source": [
        "for test_row in dataset:\n",
        "  response = base_rag_chain.invoke({\"question\" : test_row.eval_sample.user_input})\n",
        "  test_row.eval_sample.response = response[\"response\"]\n",
        "  test_row.eval_sample.retrieved_contexts = [context.page_content for context in response[\"context\"]]"
      ]
    },
    {
      "cell_type": "code",
      "execution_count": 76,
      "metadata": {},
      "outputs": [
        {
          "data": {
            "text/html": [
              "<div>\n",
              "<style scoped>\n",
              "    .dataframe tbody tr th:only-of-type {\n",
              "        vertical-align: middle;\n",
              "    }\n",
              "\n",
              "    .dataframe tbody tr th {\n",
              "        vertical-align: top;\n",
              "    }\n",
              "\n",
              "    .dataframe thead th {\n",
              "        text-align: right;\n",
              "    }\n",
              "</style>\n",
              "<table border=\"1\" class=\"dataframe\">\n",
              "  <thead>\n",
              "    <tr style=\"text-align: right;\">\n",
              "      <th></th>\n",
              "      <th>user_input</th>\n",
              "      <th>retrieved_contexts</th>\n",
              "      <th>reference_contexts</th>\n",
              "      <th>response</th>\n",
              "      <th>reference</th>\n",
              "      <th>synthesizer_name</th>\n",
              "    </tr>\n",
              "  </thead>\n",
              "  <tbody>\n",
              "    <tr>\n",
              "      <th>0</th>\n",
              "      <td>What role does the Department of Health and Hu...</td>\n",
              "      <td>[(e) Guidance. FDA may, on its own initiative,...</td>\n",
              "      <td>[Title 21 —Food and Drugs\\nChapter I —Food and...</td>\n",
              "      <td>I do not know.</td>\n",
              "      <td>The Department of Health and Human Services, t...</td>\n",
              "      <td>single_hop_specifc_query_synthesizer</td>\n",
              "    </tr>\n",
              "    <tr>\n",
              "      <th>1</th>\n",
              "      <td>What all the things you gotta do for IND, like...</td>\n",
              "      <td>[replies to inquiries. Further details on this...</td>\n",
              "      <td>[§ 312.10 Waivers.\\nSubpart B Investigational ...</td>\n",
              "      <td>The Investigational New Drug (IND) application...</td>\n",
              "      <td>The IND process involves several steps and req...</td>\n",
              "      <td>single_hop_specifc_query_synthesizer</td>\n",
              "    </tr>\n",
              "    <tr>\n",
              "      <th>2</th>\n",
              "      <td>Could you elaborate on the role of the eCFR in...</td>\n",
              "      <td>[replies to inquiries. Further details on this...</td>\n",
              "      <td>[§ 312.53 Selecting investigators and monitors...</td>\n",
              "      <td>I do not know.</td>\n",
              "      <td>The eCFR, while authoritative but unofficial, ...</td>\n",
              "      <td>single_hop_specifc_query_synthesizer</td>\n",
              "    </tr>\n",
              "    <tr>\n",
              "      <th>3</th>\n",
              "      <td>What FDA do with drugs for life-threatening il...</td>\n",
              "      <td>[Administration (FDA) has determined that it i...</td>\n",
              "      <td>[§ 312.69 Handling of controlled substances.\\n...</td>\n",
              "      <td>The FDA provides its best judgment regarding t...</td>\n",
              "      <td>The FDA conducts a risk-benefit analysis in th...</td>\n",
              "      <td>single_hop_specifc_query_synthesizer</td>\n",
              "    </tr>\n",
              "    <tr>\n",
              "      <th>4</th>\n",
              "      <td>What are the key responsibilities of the FDA i...</td>\n",
              "      <td>[request a meeting with FDA-reviewing official...</td>\n",
              "      <td>[§ 312.86 Focused FDA regulatory research.\\n§ ...</td>\n",
              "      <td>The key responsibilities of the FDA in the con...</td>\n",
              "      <td>The FDA's key responsibilities in the context ...</td>\n",
              "      <td>single_hop_specifc_query_synthesizer</td>\n",
              "    </tr>\n",
              "    <tr>\n",
              "      <th>5</th>\n",
              "      <td>What are the requirements under 21 CFR 312.23(...</td>\n",
              "      <td>[compliance with the applicable provisions of ...</td>\n",
              "      <td>[&lt;1-hop&gt;\\n\\nStates or other countries, detaile...</td>\n",
              "      <td>I do not know the specific requirements under ...</td>\n",
              "      <td>Under 21 CFR 312.23(a)(9)(i), investigational ...</td>\n",
              "      <td>multi_hop_specific_query_synthesizer</td>\n",
              "    </tr>\n",
              "    <tr>\n",
              "      <th>6</th>\n",
              "      <td>How do the regulations outlined in 21 CFR 312....</td>\n",
              "      <td>[compliance with the applicable provisions of ...</td>\n",
              "      <td>[&lt;1-hop&gt;\\n\\n(c) Safeguard. The sponsor is resp...</td>\n",
              "      <td>I do not know.</td>\n",
              "      <td>The regulations outlined in 21 CFR 312.70(b) e...</td>\n",
              "      <td>multi_hop_specific_query_synthesizer</td>\n",
              "    </tr>\n",
              "    <tr>\n",
              "      <th>7</th>\n",
              "      <td>What are the regulatory requirements outlined ...</td>\n",
              "      <td>[21 CFR 312.3 “FDA” (enhanced display) page 4 ...</td>\n",
              "      <td>[&lt;1-hop&gt;\\n\\n(b) A sponsor shall not begin a cl...</td>\n",
              "      <td>I do not know.</td>\n",
              "      <td>According to 21 CFR 312.20(b), a sponsor is pr...</td>\n",
              "      <td>multi_hop_specific_query_synthesizer</td>\n",
              "    </tr>\n",
              "    <tr>\n",
              "      <th>8</th>\n",
              "      <td>What is the relationship between 21 CFR 312.3 ...</td>\n",
              "      <td>[the study.\\n21 CFR Part 312 (up to date as of...</td>\n",
              "      <td>[&lt;1-hop&gt;\\n\\n21 CFR 312.3 “FDA” (enhanced displ...</td>\n",
              "      <td>I do not know.</td>\n",
              "      <td>21 CFR 312.3 provides definitions and general ...</td>\n",
              "      <td>multi_hop_specific_query_synthesizer</td>\n",
              "    </tr>\n",
              "    <tr>\n",
              "      <th>9</th>\n",
              "      <td>How do the regulations outlined in 21 CFR 312....</td>\n",
              "      <td>[between FDA and the sponsor of the overall pl...</td>\n",
              "      <td>[&lt;1-hop&gt;\\n\\nimmediate hazards to the human sub...</td>\n",
              "      <td>I do not know.</td>\n",
              "      <td>The regulations outlined in 21 CFR 312.53(c)(1...</td>\n",
              "      <td>multi_hop_specific_query_synthesizer</td>\n",
              "    </tr>\n",
              "  </tbody>\n",
              "</table>\n",
              "</div>"
            ],
            "text/plain": [
              "                                          user_input  \\\n",
              "0  What role does the Department of Health and Hu...   \n",
              "1  What all the things you gotta do for IND, like...   \n",
              "2  Could you elaborate on the role of the eCFR in...   \n",
              "3  What FDA do with drugs for life-threatening il...   \n",
              "4  What are the key responsibilities of the FDA i...   \n",
              "5  What are the requirements under 21 CFR 312.23(...   \n",
              "6  How do the regulations outlined in 21 CFR 312....   \n",
              "7  What are the regulatory requirements outlined ...   \n",
              "8  What is the relationship between 21 CFR 312.3 ...   \n",
              "9  How do the regulations outlined in 21 CFR 312....   \n",
              "\n",
              "                                  retrieved_contexts  \\\n",
              "0  [(e) Guidance. FDA may, on its own initiative,...   \n",
              "1  [replies to inquiries. Further details on this...   \n",
              "2  [replies to inquiries. Further details on this...   \n",
              "3  [Administration (FDA) has determined that it i...   \n",
              "4  [request a meeting with FDA-reviewing official...   \n",
              "5  [compliance with the applicable provisions of ...   \n",
              "6  [compliance with the applicable provisions of ...   \n",
              "7  [21 CFR 312.3 “FDA” (enhanced display) page 4 ...   \n",
              "8  [the study.\\n21 CFR Part 312 (up to date as of...   \n",
              "9  [between FDA and the sponsor of the overall pl...   \n",
              "\n",
              "                                  reference_contexts  \\\n",
              "0  [Title 21 —Food and Drugs\\nChapter I —Food and...   \n",
              "1  [§ 312.10 Waivers.\\nSubpart B Investigational ...   \n",
              "2  [§ 312.53 Selecting investigators and monitors...   \n",
              "3  [§ 312.69 Handling of controlled substances.\\n...   \n",
              "4  [§ 312.86 Focused FDA regulatory research.\\n§ ...   \n",
              "5  [<1-hop>\\n\\nStates or other countries, detaile...   \n",
              "6  [<1-hop>\\n\\n(c) Safeguard. The sponsor is resp...   \n",
              "7  [<1-hop>\\n\\n(b) A sponsor shall not begin a cl...   \n",
              "8  [<1-hop>\\n\\n21 CFR 312.3 “FDA” (enhanced displ...   \n",
              "9  [<1-hop>\\n\\nimmediate hazards to the human sub...   \n",
              "\n",
              "                                            response  \\\n",
              "0                                     I do not know.   \n",
              "1  The Investigational New Drug (IND) application...   \n",
              "2                                     I do not know.   \n",
              "3  The FDA provides its best judgment regarding t...   \n",
              "4  The key responsibilities of the FDA in the con...   \n",
              "5  I do not know the specific requirements under ...   \n",
              "6                                     I do not know.   \n",
              "7                                     I do not know.   \n",
              "8                                     I do not know.   \n",
              "9                                     I do not know.   \n",
              "\n",
              "                                           reference  \\\n",
              "0  The Department of Health and Human Services, t...   \n",
              "1  The IND process involves several steps and req...   \n",
              "2  The eCFR, while authoritative but unofficial, ...   \n",
              "3  The FDA conducts a risk-benefit analysis in th...   \n",
              "4  The FDA's key responsibilities in the context ...   \n",
              "5  Under 21 CFR 312.23(a)(9)(i), investigational ...   \n",
              "6  The regulations outlined in 21 CFR 312.70(b) e...   \n",
              "7  According to 21 CFR 312.20(b), a sponsor is pr...   \n",
              "8  21 CFR 312.3 provides definitions and general ...   \n",
              "9  The regulations outlined in 21 CFR 312.53(c)(1...   \n",
              "\n",
              "                       synthesizer_name  \n",
              "0  single_hop_specifc_query_synthesizer  \n",
              "1  single_hop_specifc_query_synthesizer  \n",
              "2  single_hop_specifc_query_synthesizer  \n",
              "3  single_hop_specifc_query_synthesizer  \n",
              "4  single_hop_specifc_query_synthesizer  \n",
              "5  multi_hop_specific_query_synthesizer  \n",
              "6  multi_hop_specific_query_synthesizer  \n",
              "7  multi_hop_specific_query_synthesizer  \n",
              "8  multi_hop_specific_query_synthesizer  \n",
              "9  multi_hop_specific_query_synthesizer  "
            ]
          },
          "execution_count": 76,
          "metadata": {},
          "output_type": "execute_result"
        }
      ],
      "source": [
        "dataset.to_pandas()"
      ]
    },
    {
      "cell_type": "code",
      "execution_count": 77,
      "metadata": {},
      "outputs": [],
      "source": [
        "from ragas import EvaluationDataset\n",
        "\n",
        "evaluation_dataset = EvaluationDataset.from_pandas(dataset.to_pandas())"
      ]
    },
    {
      "cell_type": "code",
      "execution_count": 78,
      "metadata": {},
      "outputs": [],
      "source": [
        "from ragas import evaluate\n",
        "from ragas.llms import LangchainLLMWrapper\n",
        "\n",
        "evaluator_llm = LangchainLLMWrapper(ChatOpenAI(model=\"gpt-4o\"))"
      ]
    },
    {
      "cell_type": "code",
      "execution_count": 80,
      "metadata": {},
      "outputs": [
        {
          "data": {
            "application/vnd.jupyter.widget-view+json": {
              "model_id": "785d2910aae04fef93efc5a440e2f89d",
              "version_major": 2,
              "version_minor": 0
            },
            "text/plain": [
              "Evaluating:   0%|          | 0/70 [00:00<?, ?it/s]"
            ]
          },
          "metadata": {},
          "output_type": "display_data"
        },
        {
          "name": "stderr",
          "output_type": "stream",
          "text": [
            "Exception raised in Job[51]: TypeError(ufunc 'invert' not supported for the input types, and the inputs could not be safely coerced to any supported types according to the casting rule ''safe'')\n",
            "Exception raised in Job[58]: TypeError(ufunc 'invert' not supported for the input types, and the inputs could not be safely coerced to any supported types according to the casting rule ''safe'')\n",
            "Exception raised in Job[12]: TimeoutError()\n"
          ]
        },
        {
          "data": {
            "text/plain": [
              "{'context_recall': 0.0750, 'faithfulness': 0.2897, 'factual_correctness': 0.0612, 'answer_relevancy': 0.2811, 'context_entity_recall': 0.1352, 'noise_sensitivity_relevant': 0.1111, 'context_precision': 0.1000}"
            ]
          },
          "execution_count": 80,
          "metadata": {},
          "output_type": "execute_result"
        }
      ],
      "source": [
        "from ragas.metrics import LLMContextRecall, Faithfulness, FactualCorrectness, ResponseRelevancy, ContextEntityRecall, NoiseSensitivity, ContextPrecision\n",
        "from ragas import evaluate, RunConfig\n",
        "\n",
        "custom_run_config = RunConfig(timeout=360)\n",
        "\n",
        "result = evaluate(\n",
        "    dataset=evaluation_dataset,\n",
        "    metrics=[LLMContextRecall(), Faithfulness(), FactualCorrectness(), ResponseRelevancy(), ContextEntityRecall(), NoiseSensitivity(), ContextPrecision()],\n",
        "    llm=evaluator_llm,\n",
        "    run_config=custom_run_config\n",
        ")\n",
        "result"
      ]
    },
    {
      "cell_type": "markdown",
      "metadata": {},
      "source": [
        "## Test with fine-tuned embedding model"
      ]
    },
    {
      "cell_type": "code",
      "execution_count": 81,
      "metadata": {},
      "outputs": [],
      "source": [
        "for test_row in dataset:\n",
        "  \n",
        "  response = finetune_rag_chain.invoke({\"question\" : test_row.eval_sample.user_input})\n",
        "\n",
        "  test_row.eval_sample.response = response[\"response\"]\n",
        "  test_row.eval_sample.retrieved_contexts = [context.page_content for context in response[\"context\"]]"
      ]
    },
    {
      "cell_type": "code",
      "execution_count": 82,
      "metadata": {},
      "outputs": [
        {
          "data": {
            "text/html": [
              "<div>\n",
              "<style scoped>\n",
              "    .dataframe tbody tr th:only-of-type {\n",
              "        vertical-align: middle;\n",
              "    }\n",
              "\n",
              "    .dataframe tbody tr th {\n",
              "        vertical-align: top;\n",
              "    }\n",
              "\n",
              "    .dataframe thead th {\n",
              "        text-align: right;\n",
              "    }\n",
              "</style>\n",
              "<table border=\"1\" class=\"dataframe\">\n",
              "  <thead>\n",
              "    <tr style=\"text-align: right;\">\n",
              "      <th></th>\n",
              "      <th>user_input</th>\n",
              "      <th>retrieved_contexts</th>\n",
              "      <th>reference_contexts</th>\n",
              "      <th>response</th>\n",
              "      <th>reference</th>\n",
              "      <th>synthesizer_name</th>\n",
              "    </tr>\n",
              "  </thead>\n",
              "  <tbody>\n",
              "    <tr>\n",
              "      <th>0</th>\n",
              "      <td>What role does the Department of Health and Hu...</td>\n",
              "      <td>[Title 21 —Food and Drugs\\nChapter I —Food and...</td>\n",
              "      <td>[Title 21 —Food and Drugs\\nChapter I —Food and...</td>\n",
              "      <td>The Department of Health and Human Services (H...</td>\n",
              "      <td>The Department of Health and Human Services, t...</td>\n",
              "      <td>single_hop_specifc_query_synthesizer</td>\n",
              "    </tr>\n",
              "    <tr>\n",
              "      <th>1</th>\n",
              "      <td>What all the things you gotta do for IND, like...</td>\n",
              "      <td>[§ 312.10 Waivers.\\nSubpart B Investigational ...</td>\n",
              "      <td>[§ 312.10 Waivers.\\nSubpart B Investigational ...</td>\n",
              "      <td>For an Investigational New Drug (IND) applicat...</td>\n",
              "      <td>The IND process involves several steps and req...</td>\n",
              "      <td>single_hop_specifc_query_synthesizer</td>\n",
              "    </tr>\n",
              "    <tr>\n",
              "      <th>2</th>\n",
              "      <td>Could you elaborate on the role of the eCFR in...</td>\n",
              "      <td>[§ 312.53 Selecting investigators and monitors...</td>\n",
              "      <td>[§ 312.53 Selecting investigators and monitors...</td>\n",
              "      <td>The eCFR (Electronic Code of Federal Regulatio...</td>\n",
              "      <td>The eCFR, while authoritative but unofficial, ...</td>\n",
              "      <td>single_hop_specifc_query_synthesizer</td>\n",
              "    </tr>\n",
              "    <tr>\n",
              "      <th>3</th>\n",
              "      <td>What FDA do with drugs for life-threatening il...</td>\n",
              "      <td>[drug in pediatric patients. For drugs for lif...</td>\n",
              "      <td>[§ 312.69 Handling of controlled substances.\\n...</td>\n",
              "      <td>The FDA provides its best judgment regarding d...</td>\n",
              "      <td>The FDA conducts a risk-benefit analysis in th...</td>\n",
              "      <td>single_hop_specifc_query_synthesizer</td>\n",
              "    </tr>\n",
              "    <tr>\n",
              "      <th>4</th>\n",
              "      <td>What are the key responsibilities of the FDA i...</td>\n",
              "      <td>[longer period of time.\\n§ 312.86 Focused FDA ...</td>\n",
              "      <td>[§ 312.86 Focused FDA regulatory research.\\n§ ...</td>\n",
              "      <td>The key responsibilities of the FDA in the con...</td>\n",
              "      <td>The FDA's key responsibilities in the context ...</td>\n",
              "      <td>single_hop_specifc_query_synthesizer</td>\n",
              "    </tr>\n",
              "    <tr>\n",
              "      <th>5</th>\n",
              "      <td>What are the requirements under 21 CFR 312.23(...</td>\n",
              "      <td>[the study.\\n21 CFR Part 312 (up to date as of...</td>\n",
              "      <td>[&lt;1-hop&gt;\\n\\nStates or other countries, detaile...</td>\n",
              "      <td>I do not know.</td>\n",
              "      <td>Under 21 CFR 312.23(a)(9)(i), investigational ...</td>\n",
              "      <td>multi_hop_specific_query_synthesizer</td>\n",
              "    </tr>\n",
              "    <tr>\n",
              "      <th>6</th>\n",
              "      <td>How do the regulations outlined in 21 CFR 312....</td>\n",
              "      <td>[compliance with the applicable provisions of ...</td>\n",
              "      <td>[&lt;1-hop&gt;\\n\\n(c) Safeguard. The sponsor is resp...</td>\n",
              "      <td>I do not know.</td>\n",
              "      <td>The regulations outlined in 21 CFR 312.70(b) e...</td>\n",
              "      <td>multi_hop_specific_query_synthesizer</td>\n",
              "    </tr>\n",
              "    <tr>\n",
              "      <th>7</th>\n",
              "      <td>What are the regulatory requirements outlined ...</td>\n",
              "      <td>[ongoing clinical investigations or response t...</td>\n",
              "      <td>[&lt;1-hop&gt;\\n\\n(b) A sponsor shall not begin a cl...</td>\n",
              "      <td>The regulatory requirements outlined in 21 CFR...</td>\n",
              "      <td>According to 21 CFR 312.20(b), a sponsor is pr...</td>\n",
              "      <td>multi_hop_specific_query_synthesizer</td>\n",
              "    </tr>\n",
              "    <tr>\n",
              "      <th>8</th>\n",
              "      <td>What is the relationship between 21 CFR 312.3 ...</td>\n",
              "      <td>[the study.\\n21 CFR Part 312 (up to date as of...</td>\n",
              "      <td>[&lt;1-hop&gt;\\n\\n21 CFR 312.3 “FDA” (enhanced displ...</td>\n",
              "      <td>I do not know.</td>\n",
              "      <td>21 CFR 312.3 provides definitions and general ...</td>\n",
              "      <td>multi_hop_specific_query_synthesizer</td>\n",
              "    </tr>\n",
              "    <tr>\n",
              "      <th>9</th>\n",
              "      <td>How do the regulations outlined in 21 CFR 312....</td>\n",
              "      <td>[immediate hazards to the human subjects.\\n21 ...</td>\n",
              "      <td>[&lt;1-hop&gt;\\n\\nimmediate hazards to the human sub...</td>\n",
              "      <td>I do not know.</td>\n",
              "      <td>The regulations outlined in 21 CFR 312.53(c)(1...</td>\n",
              "      <td>multi_hop_specific_query_synthesizer</td>\n",
              "    </tr>\n",
              "  </tbody>\n",
              "</table>\n",
              "</div>"
            ],
            "text/plain": [
              "                                          user_input  \\\n",
              "0  What role does the Department of Health and Hu...   \n",
              "1  What all the things you gotta do for IND, like...   \n",
              "2  Could you elaborate on the role of the eCFR in...   \n",
              "3  What FDA do with drugs for life-threatening il...   \n",
              "4  What are the key responsibilities of the FDA i...   \n",
              "5  What are the requirements under 21 CFR 312.23(...   \n",
              "6  How do the regulations outlined in 21 CFR 312....   \n",
              "7  What are the regulatory requirements outlined ...   \n",
              "8  What is the relationship between 21 CFR 312.3 ...   \n",
              "9  How do the regulations outlined in 21 CFR 312....   \n",
              "\n",
              "                                  retrieved_contexts  \\\n",
              "0  [Title 21 —Food and Drugs\\nChapter I —Food and...   \n",
              "1  [§ 312.10 Waivers.\\nSubpart B Investigational ...   \n",
              "2  [§ 312.53 Selecting investigators and monitors...   \n",
              "3  [drug in pediatric patients. For drugs for lif...   \n",
              "4  [longer period of time.\\n§ 312.86 Focused FDA ...   \n",
              "5  [the study.\\n21 CFR Part 312 (up to date as of...   \n",
              "6  [compliance with the applicable provisions of ...   \n",
              "7  [ongoing clinical investigations or response t...   \n",
              "8  [the study.\\n21 CFR Part 312 (up to date as of...   \n",
              "9  [immediate hazards to the human subjects.\\n21 ...   \n",
              "\n",
              "                                  reference_contexts  \\\n",
              "0  [Title 21 —Food and Drugs\\nChapter I —Food and...   \n",
              "1  [§ 312.10 Waivers.\\nSubpart B Investigational ...   \n",
              "2  [§ 312.53 Selecting investigators and monitors...   \n",
              "3  [§ 312.69 Handling of controlled substances.\\n...   \n",
              "4  [§ 312.86 Focused FDA regulatory research.\\n§ ...   \n",
              "5  [<1-hop>\\n\\nStates or other countries, detaile...   \n",
              "6  [<1-hop>\\n\\n(c) Safeguard. The sponsor is resp...   \n",
              "7  [<1-hop>\\n\\n(b) A sponsor shall not begin a cl...   \n",
              "8  [<1-hop>\\n\\n21 CFR 312.3 “FDA” (enhanced displ...   \n",
              "9  [<1-hop>\\n\\nimmediate hazards to the human sub...   \n",
              "\n",
              "                                            response  \\\n",
              "0  The Department of Health and Human Services (H...   \n",
              "1  For an Investigational New Drug (IND) applicat...   \n",
              "2  The eCFR (Electronic Code of Federal Regulatio...   \n",
              "3  The FDA provides its best judgment regarding d...   \n",
              "4  The key responsibilities of the FDA in the con...   \n",
              "5                                     I do not know.   \n",
              "6                                     I do not know.   \n",
              "7  The regulatory requirements outlined in 21 CFR...   \n",
              "8                                     I do not know.   \n",
              "9                                     I do not know.   \n",
              "\n",
              "                                           reference  \\\n",
              "0  The Department of Health and Human Services, t...   \n",
              "1  The IND process involves several steps and req...   \n",
              "2  The eCFR, while authoritative but unofficial, ...   \n",
              "3  The FDA conducts a risk-benefit analysis in th...   \n",
              "4  The FDA's key responsibilities in the context ...   \n",
              "5  Under 21 CFR 312.23(a)(9)(i), investigational ...   \n",
              "6  The regulations outlined in 21 CFR 312.70(b) e...   \n",
              "7  According to 21 CFR 312.20(b), a sponsor is pr...   \n",
              "8  21 CFR 312.3 provides definitions and general ...   \n",
              "9  The regulations outlined in 21 CFR 312.53(c)(1...   \n",
              "\n",
              "                       synthesizer_name  \n",
              "0  single_hop_specifc_query_synthesizer  \n",
              "1  single_hop_specifc_query_synthesizer  \n",
              "2  single_hop_specifc_query_synthesizer  \n",
              "3  single_hop_specifc_query_synthesizer  \n",
              "4  single_hop_specifc_query_synthesizer  \n",
              "5  multi_hop_specific_query_synthesizer  \n",
              "6  multi_hop_specific_query_synthesizer  \n",
              "7  multi_hop_specific_query_synthesizer  \n",
              "8  multi_hop_specific_query_synthesizer  \n",
              "9  multi_hop_specific_query_synthesizer  "
            ]
          },
          "execution_count": 82,
          "metadata": {},
          "output_type": "execute_result"
        }
      ],
      "source": [
        "dataset.to_pandas()"
      ]
    },
    {
      "cell_type": "code",
      "execution_count": 83,
      "metadata": {},
      "outputs": [],
      "source": [
        "from ragas import EvaluationDataset\n",
        "\n",
        "evaluation_dataset = EvaluationDataset.from_pandas(dataset.to_pandas())"
      ]
    },
    {
      "cell_type": "code",
      "execution_count": 85,
      "metadata": {},
      "outputs": [
        {
          "data": {
            "application/vnd.jupyter.widget-view+json": {
              "model_id": "32b79152c59c4744b8753e177a4158a1",
              "version_major": 2,
              "version_minor": 0
            },
            "text/plain": [
              "Evaluating:   0%|          | 0/70 [00:00<?, ?it/s]"
            ]
          },
          "metadata": {},
          "output_type": "display_data"
        },
        {
          "name": "stderr",
          "output_type": "stream",
          "text": [
            "Exception raised in Job[12]: TimeoutError()\n",
            "Exception raised in Job[33]: TimeoutError()\n"
          ]
        },
        {
          "data": {
            "text/plain": [
              "{'context_recall': 0.4000, 'faithfulness': 0.3814, 'factual_correctness': 0.1460, 'answer_relevancy': 0.5615, 'context_entity_recall': 0.2310, 'noise_sensitivity_relevant': 0.1680, 'context_precision': 0.3167}"
            ]
          },
          "execution_count": 85,
          "metadata": {},
          "output_type": "execute_result"
        }
      ],
      "source": [
        "from ragas.metrics import LLMContextRecall, Faithfulness, FactualCorrectness, ResponseRelevancy, ContextEntityRecall, NoiseSensitivity, ContextPrecision\n",
        "from ragas import evaluate, RunConfig\n",
        "\n",
        "custom_run_config = RunConfig(timeout=360)\n",
        "\n",
        "result = evaluate(\n",
        "    dataset=evaluation_dataset,\n",
        "    metrics=[LLMContextRecall(), Faithfulness(), FactualCorrectness(), ResponseRelevancy(), ContextEntityRecall(), NoiseSensitivity(), ContextPrecision()],\n",
        "    llm=evaluator_llm,\n",
        "    run_config=custom_run_config\n",
        ")\n",
        "result"
      ]
    },
    {
      "cell_type": "code",
      "execution_count": 86,
      "metadata": {},
      "outputs": [
        {
          "data": {
            "image/png": "[encoded data removed]",
            "text/plain": [
              "<Figure size 1000x600 with 1 Axes>"
            ]
          },
          "metadata": {},
          "output_type": "display_data"
        }
      ],
      "source": [
        "import pandas as pd\n",
        "import matplotlib.pyplot as plt\n",
        "\n",
        "# Data\n",
        "data = {\n",
        "    'Metric': ['Context Recall', 'Faithfulness', 'Factual Correctness', 'Answer Relevancy', 'Context Entity Recall', 'Noise Sensitivity (Relevant)', 'Context Precision'],\n",
        "    'Result 1': [0.0750, 0.2897, 0.0612, 0.2811, 0.1352, 0.1111, 0.1000],\n",
        "    'Result 2': [0.4000, 0.3814, 0.1460, 0.5615, 0.2310, 0.1680, 0.3167]\n",
        "}\n",
        "\n",
        "df = pd.DataFrame(data)\n",
        "df = df.set_index('Metric')\n",
        "\n",
        "# Plotting\n",
        "ax = df.plot(kind='bar', figsize=(10, 6), rot=45)\n",
        "\n",
        "# Add labels and title\n",
        "plt.title('Comparison of RAG Pipeline Results')\n",
        "plt.xlabel('Metrics')\n",
        "plt.ylabel('Score')\n",
        "\n",
        "# Add value labels on top of the bars\n",
        "for p in ax.patches:\n",
        "    ax.annotate(f'{p.get_height():.4f}', (p.get_x() + p.get_width() / 2., p.get_height()),\n",
        "                ha='center', va='center', xytext=(0, 10), textcoords='offset points')\n",
        "\n",
        "# Show the plot\n",
        "plt.tight_layout()\n",
        "plt.show()"
      ]
    }
  ],
  "metadata": {
    "accelerator": "TPU",
    "colab": {
      "gpuType": "V28",
      "machine_shape": "hm",
      "provenance": []
    },
    "kernelspec": {
      "display_name": "Python 3",
      "name": "python3"
    },
    "language_info": {
      "codemirror_mode": {
        "name": "ipython",
        "version": 3
      },
      "file_extension": ".py",
      "mimetype": "text/x-python",
      "name": "python",
      "nbconvert_exporter": "python",
      "pygments_lexer": "ipython3",
      "version": "3.13.1"
    }
    
  },
  "nbformat": 4,
  "nbformat_minor": 0
}
